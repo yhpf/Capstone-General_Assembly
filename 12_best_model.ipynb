{
 "cells": [
  {
   "cell_type": "markdown",
   "metadata": {},
   "source": [
    "# Make the Best Model for the mood of the song"
   ]
  },
  {
   "cell_type": "markdown",
   "metadata": {},
   "source": [
    "In this document I will studie the stream and position columns. \n",
    "\n",
    "Best model = also looking at country, number of streams and position (other notebook for time on top list)<BR />\n",
    "\n",
    "I will have to repeat a few steps from the previous notebooks to get it to the right startingpoint. \n",
    "\n",
    "Then when we have the best model we can use our predictions and decide the mood of a country and the mood of an artist. Then we can say what artist is suitable for what country. "
   ]
  },
  {
   "cell_type": "markdown",
   "metadata": {},
   "source": [
    "## Import stuff"
   ]
  },
  {
   "cell_type": "code",
   "execution_count": 239,
   "metadata": {},
   "outputs": [],
   "source": [
    "import pandas as pd\n",
    "import numpy as np\n",
    "from textblob import TextBlob\n",
    "from sklearn.model_selection import train_test_split\n",
    "from sklearn.feature_extraction.text import TfidfVectorizer, CountVectorizer\n",
    "\n",
    "from sklearn.linear_model import LinearRegression\n",
    "from sklearn.model_selection import cross_val_score, cross_val_predict\n",
    "from sklearn.preprocessing import StandardScaler\n",
    "import sklearn.metrics\n",
    "from sklearn.ensemble import RandomForestRegressor\n",
    "from sklearn.grid_search import GridSearchCV\n",
    "from sklearn.linear_model import Lasso\n",
    "from sklearn.model_selection import RandomizedSearchCV\n",
    "from sklearn.ensemble import AdaBoostRegressor, GradientBoostingRegressor\n",
    "\n",
    "from matplotlib import pyplot as plt\n",
    "import seaborn as sns\n",
    "\n",
    "plt.style.use('fivethirtyeight')\n",
    "\n",
    "%matplotlib inline"
   ]
  },
  {
   "cell_type": "markdown",
   "metadata": {},
   "source": [
    "## Load data"
   ]
  },
  {
   "cell_type": "code",
   "execution_count": 117,
   "metadata": {},
   "outputs": [
    {
     "data": {
      "text/html": [
       "<div>\n",
       "<style>\n",
       "    .dataframe thead tr:only-child th {\n",
       "        text-align: right;\n",
       "    }\n",
       "\n",
       "    .dataframe thead th {\n",
       "        text-align: left;\n",
       "    }\n",
       "\n",
       "    .dataframe tbody tr th {\n",
       "        vertical-align: top;\n",
       "    }\n",
       "</style>\n",
       "<table border=\"1\" class=\"dataframe\">\n",
       "  <thead>\n",
       "    <tr style=\"text-align: right;\">\n",
       "      <th></th>\n",
       "      <th>Unnamed: 0</th>\n",
       "      <th>Position</th>\n",
       "      <th>Streams</th>\n",
       "      <th>Track Name</th>\n",
       "      <th>Artist</th>\n",
       "      <th>ID</th>\n",
       "      <th>Date</th>\n",
       "      <th>Year</th>\n",
       "      <th>Month</th>\n",
       "      <th>Day</th>\n",
       "      <th>Country</th>\n",
       "      <th>Region</th>\n",
       "      <th>Lyrics</th>\n",
       "      <th>Acousticness</th>\n",
       "      <th>Energy</th>\n",
       "      <th>Instrumentalness</th>\n",
       "      <th>Mode</th>\n",
       "      <th>Tempo</th>\n",
       "      <th>Valence</th>\n",
       "    </tr>\n",
       "  </thead>\n",
       "  <tbody>\n",
       "    <tr>\n",
       "      <th>0</th>\n",
       "      <td>0</td>\n",
       "      <td>177</td>\n",
       "      <td>40381</td>\n",
       "      <td>Bye Bye Bye</td>\n",
       "      <td>*NSYNC</td>\n",
       "      <td>4r8lRYnoOGdEi6YyI5OC1o</td>\n",
       "      <td>2017-10-05</td>\n",
       "      <td>2017</td>\n",
       "      <td>10</td>\n",
       "      <td>5</td>\n",
       "      <td>gb</td>\n",
       "      <td>eu</td>\n",
       "      <td>hey, hey bye bye bye, bye bye bye bye  i'm doi...</td>\n",
       "      <td>0.0408</td>\n",
       "      <td>0.928</td>\n",
       "      <td>0.00104</td>\n",
       "      <td>0.0</td>\n",
       "      <td>172.656</td>\n",
       "      <td>0.879</td>\n",
       "    </tr>\n",
       "    <tr>\n",
       "      <th>1</th>\n",
       "      <td>1</td>\n",
       "      <td>151</td>\n",
       "      <td>24132</td>\n",
       "      <td>Merry Christmas, Happy Holidays</td>\n",
       "      <td>*NSYNC</td>\n",
       "      <td>15coTBAzEN1bOeipoNDZAR</td>\n",
       "      <td>2017-12-23</td>\n",
       "      <td>2017</td>\n",
       "      <td>12</td>\n",
       "      <td>23</td>\n",
       "      <td>it</td>\n",
       "      <td>eu</td>\n",
       "      <td>merry christmas and happy holidays merry chris...</td>\n",
       "      <td>0.1030</td>\n",
       "      <td>0.939</td>\n",
       "      <td>0.00000</td>\n",
       "      <td>1.0</td>\n",
       "      <td>105.003</td>\n",
       "      <td>0.756</td>\n",
       "    </tr>\n",
       "    <tr>\n",
       "      <th>2</th>\n",
       "      <td>2</td>\n",
       "      <td>78</td>\n",
       "      <td>49766</td>\n",
       "      <td>Merry Christmas, Happy Holidays</td>\n",
       "      <td>*NSYNC</td>\n",
       "      <td>15coTBAzEN1bOeipoNDZAR</td>\n",
       "      <td>2017-12-24</td>\n",
       "      <td>2017</td>\n",
       "      <td>12</td>\n",
       "      <td>24</td>\n",
       "      <td>it</td>\n",
       "      <td>eu</td>\n",
       "      <td>merry christmas and happy holidays merry chris...</td>\n",
       "      <td>0.1030</td>\n",
       "      <td>0.939</td>\n",
       "      <td>0.00000</td>\n",
       "      <td>1.0</td>\n",
       "      <td>105.003</td>\n",
       "      <td>0.756</td>\n",
       "    </tr>\n",
       "  </tbody>\n",
       "</table>\n",
       "</div>"
      ],
      "text/plain": [
       "   Unnamed: 0  Position  Streams                       Track Name  Artist  \\\n",
       "0           0       177    40381                      Bye Bye Bye  *NSYNC   \n",
       "1           1       151    24132  Merry Christmas, Happy Holidays  *NSYNC   \n",
       "2           2        78    49766  Merry Christmas, Happy Holidays  *NSYNC   \n",
       "\n",
       "                       ID        Date  Year  Month  Day Country Region  \\\n",
       "0  4r8lRYnoOGdEi6YyI5OC1o  2017-10-05  2017     10    5      gb     eu   \n",
       "1  15coTBAzEN1bOeipoNDZAR  2017-12-23  2017     12   23      it     eu   \n",
       "2  15coTBAzEN1bOeipoNDZAR  2017-12-24  2017     12   24      it     eu   \n",
       "\n",
       "                                              Lyrics  Acousticness  Energy  \\\n",
       "0  hey, hey bye bye bye, bye bye bye bye  i'm doi...        0.0408   0.928   \n",
       "1  merry christmas and happy holidays merry chris...        0.1030   0.939   \n",
       "2  merry christmas and happy holidays merry chris...        0.1030   0.939   \n",
       "\n",
       "   Instrumentalness  Mode    Tempo  Valence  \n",
       "0           0.00104   0.0  172.656    0.879  \n",
       "1           0.00000   1.0  105.003    0.756  \n",
       "2           0.00000   1.0  105.003    0.756  "
      ]
     },
     "execution_count": 117,
     "metadata": {},
     "output_type": "execute_result"
    }
   ],
   "source": [
    "data = pd.read_csv('./data_top10c_more_lyrics.csv')\n",
    "data.head(3)"
   ]
  },
  {
   "cell_type": "markdown",
   "metadata": {},
   "source": [
    "## Fix a little bit with the data"
   ]
  },
  {
   "cell_type": "markdown",
   "metadata": {},
   "source": [
    "#### Get dummies for the Country column"
   ]
  },
  {
   "cell_type": "code",
   "execution_count": 118,
   "metadata": {},
   "outputs": [
    {
     "data": {
      "text/html": [
       "<div>\n",
       "<style>\n",
       "    .dataframe thead tr:only-child th {\n",
       "        text-align: right;\n",
       "    }\n",
       "\n",
       "    .dataframe thead th {\n",
       "        text-align: left;\n",
       "    }\n",
       "\n",
       "    .dataframe tbody tr th {\n",
       "        vertical-align: top;\n",
       "    }\n",
       "</style>\n",
       "<table border=\"1\" class=\"dataframe\">\n",
       "  <thead>\n",
       "    <tr style=\"text-align: right;\">\n",
       "      <th></th>\n",
       "      <th>au</th>\n",
       "      <th>ca</th>\n",
       "      <th>de</th>\n",
       "      <th>fr</th>\n",
       "      <th>gb</th>\n",
       "      <th>it</th>\n",
       "      <th>nl</th>\n",
       "      <th>us</th>\n",
       "    </tr>\n",
       "  </thead>\n",
       "  <tbody>\n",
       "    <tr>\n",
       "      <th>0</th>\n",
       "      <td>0</td>\n",
       "      <td>0</td>\n",
       "      <td>0</td>\n",
       "      <td>0</td>\n",
       "      <td>1</td>\n",
       "      <td>0</td>\n",
       "      <td>0</td>\n",
       "      <td>0</td>\n",
       "    </tr>\n",
       "    <tr>\n",
       "      <th>1</th>\n",
       "      <td>0</td>\n",
       "      <td>0</td>\n",
       "      <td>0</td>\n",
       "      <td>0</td>\n",
       "      <td>0</td>\n",
       "      <td>1</td>\n",
       "      <td>0</td>\n",
       "      <td>0</td>\n",
       "    </tr>\n",
       "    <tr>\n",
       "      <th>2</th>\n",
       "      <td>0</td>\n",
       "      <td>0</td>\n",
       "      <td>0</td>\n",
       "      <td>0</td>\n",
       "      <td>0</td>\n",
       "      <td>1</td>\n",
       "      <td>0</td>\n",
       "      <td>0</td>\n",
       "    </tr>\n",
       "  </tbody>\n",
       "</table>\n",
       "</div>"
      ],
      "text/plain": [
       "   au  ca  de  fr  gb  it  nl  us\n",
       "0   0   0   0   0   1   0   0   0\n",
       "1   0   0   0   0   0   1   0   0\n",
       "2   0   0   0   0   0   1   0   0"
      ]
     },
     "execution_count": 118,
     "metadata": {},
     "output_type": "execute_result"
    }
   ],
   "source": [
    "country_dum = pd.get_dummies(data['Country'])\n",
    "country_dum.head(3)"
   ]
  },
  {
   "cell_type": "code",
   "execution_count": 119,
   "metadata": {},
   "outputs": [
    {
     "data": {
      "text/html": [
       "<div>\n",
       "<style>\n",
       "    .dataframe thead tr:only-child th {\n",
       "        text-align: right;\n",
       "    }\n",
       "\n",
       "    .dataframe thead th {\n",
       "        text-align: left;\n",
       "    }\n",
       "\n",
       "    .dataframe tbody tr th {\n",
       "        vertical-align: top;\n",
       "    }\n",
       "</style>\n",
       "<table border=\"1\" class=\"dataframe\">\n",
       "  <thead>\n",
       "    <tr style=\"text-align: right;\">\n",
       "      <th></th>\n",
       "      <th>Unnamed: 0</th>\n",
       "      <th>Position</th>\n",
       "      <th>Streams</th>\n",
       "      <th>Track Name</th>\n",
       "      <th>Artist</th>\n",
       "      <th>ID</th>\n",
       "      <th>Date</th>\n",
       "      <th>Year</th>\n",
       "      <th>Month</th>\n",
       "      <th>Day</th>\n",
       "      <th>...</th>\n",
       "      <th>Tempo</th>\n",
       "      <th>Valence</th>\n",
       "      <th>au</th>\n",
       "      <th>ca</th>\n",
       "      <th>de</th>\n",
       "      <th>fr</th>\n",
       "      <th>gb</th>\n",
       "      <th>it</th>\n",
       "      <th>nl</th>\n",
       "      <th>us</th>\n",
       "    </tr>\n",
       "  </thead>\n",
       "  <tbody>\n",
       "    <tr>\n",
       "      <th>0</th>\n",
       "      <td>0</td>\n",
       "      <td>177</td>\n",
       "      <td>40381</td>\n",
       "      <td>Bye Bye Bye</td>\n",
       "      <td>*NSYNC</td>\n",
       "      <td>4r8lRYnoOGdEi6YyI5OC1o</td>\n",
       "      <td>2017-10-05</td>\n",
       "      <td>2017</td>\n",
       "      <td>10</td>\n",
       "      <td>5</td>\n",
       "      <td>...</td>\n",
       "      <td>172.656</td>\n",
       "      <td>0.879</td>\n",
       "      <td>0</td>\n",
       "      <td>0</td>\n",
       "      <td>0</td>\n",
       "      <td>0</td>\n",
       "      <td>1</td>\n",
       "      <td>0</td>\n",
       "      <td>0</td>\n",
       "      <td>0</td>\n",
       "    </tr>\n",
       "    <tr>\n",
       "      <th>1</th>\n",
       "      <td>1</td>\n",
       "      <td>151</td>\n",
       "      <td>24132</td>\n",
       "      <td>Merry Christmas, Happy Holidays</td>\n",
       "      <td>*NSYNC</td>\n",
       "      <td>15coTBAzEN1bOeipoNDZAR</td>\n",
       "      <td>2017-12-23</td>\n",
       "      <td>2017</td>\n",
       "      <td>12</td>\n",
       "      <td>23</td>\n",
       "      <td>...</td>\n",
       "      <td>105.003</td>\n",
       "      <td>0.756</td>\n",
       "      <td>0</td>\n",
       "      <td>0</td>\n",
       "      <td>0</td>\n",
       "      <td>0</td>\n",
       "      <td>0</td>\n",
       "      <td>1</td>\n",
       "      <td>0</td>\n",
       "      <td>0</td>\n",
       "    </tr>\n",
       "    <tr>\n",
       "      <th>2</th>\n",
       "      <td>2</td>\n",
       "      <td>78</td>\n",
       "      <td>49766</td>\n",
       "      <td>Merry Christmas, Happy Holidays</td>\n",
       "      <td>*NSYNC</td>\n",
       "      <td>15coTBAzEN1bOeipoNDZAR</td>\n",
       "      <td>2017-12-24</td>\n",
       "      <td>2017</td>\n",
       "      <td>12</td>\n",
       "      <td>24</td>\n",
       "      <td>...</td>\n",
       "      <td>105.003</td>\n",
       "      <td>0.756</td>\n",
       "      <td>0</td>\n",
       "      <td>0</td>\n",
       "      <td>0</td>\n",
       "      <td>0</td>\n",
       "      <td>0</td>\n",
       "      <td>1</td>\n",
       "      <td>0</td>\n",
       "      <td>0</td>\n",
       "    </tr>\n",
       "  </tbody>\n",
       "</table>\n",
       "<p>3 rows × 27 columns</p>\n",
       "</div>"
      ],
      "text/plain": [
       "   Unnamed: 0  Position  Streams                       Track Name  Artist  \\\n",
       "0           0       177    40381                      Bye Bye Bye  *NSYNC   \n",
       "1           1       151    24132  Merry Christmas, Happy Holidays  *NSYNC   \n",
       "2           2        78    49766  Merry Christmas, Happy Holidays  *NSYNC   \n",
       "\n",
       "                       ID        Date  Year  Month  Day ...    Tempo Valence  \\\n",
       "0  4r8lRYnoOGdEi6YyI5OC1o  2017-10-05  2017     10    5 ...  172.656   0.879   \n",
       "1  15coTBAzEN1bOeipoNDZAR  2017-12-23  2017     12   23 ...  105.003   0.756   \n",
       "2  15coTBAzEN1bOeipoNDZAR  2017-12-24  2017     12   24 ...  105.003   0.756   \n",
       "\n",
       "  au  ca  de  fr  gb  it  nl  us  \n",
       "0  0   0   0   0   1   0   0   0  \n",
       "1  0   0   0   0   0   1   0   0  \n",
       "2  0   0   0   0   0   1   0   0  \n",
       "\n",
       "[3 rows x 27 columns]"
      ]
     },
     "execution_count": 119,
     "metadata": {},
     "output_type": "execute_result"
    }
   ],
   "source": [
    "data_c = pd.concat([data, country_dum], axis=1)\n",
    "data_c.head(3)"
   ]
  },
  {
   "cell_type": "markdown",
   "metadata": {},
   "source": [
    "#### Get dummies for the Position column"
   ]
  },
  {
   "cell_type": "code",
   "execution_count": 120,
   "metadata": {},
   "outputs": [
    {
     "data": {
      "text/html": [
       "<div>\n",
       "<style>\n",
       "    .dataframe thead tr:only-child th {\n",
       "        text-align: right;\n",
       "    }\n",
       "\n",
       "    .dataframe thead th {\n",
       "        text-align: left;\n",
       "    }\n",
       "\n",
       "    .dataframe tbody tr th {\n",
       "        vertical-align: top;\n",
       "    }\n",
       "</style>\n",
       "<table border=\"1\" class=\"dataframe\">\n",
       "  <thead>\n",
       "    <tr style=\"text-align: right;\">\n",
       "      <th></th>\n",
       "      <th>1</th>\n",
       "      <th>2</th>\n",
       "      <th>3</th>\n",
       "      <th>4</th>\n",
       "      <th>5</th>\n",
       "      <th>6</th>\n",
       "      <th>7</th>\n",
       "      <th>8</th>\n",
       "      <th>9</th>\n",
       "      <th>10</th>\n",
       "      <th>...</th>\n",
       "      <th>191</th>\n",
       "      <th>192</th>\n",
       "      <th>193</th>\n",
       "      <th>194</th>\n",
       "      <th>195</th>\n",
       "      <th>196</th>\n",
       "      <th>197</th>\n",
       "      <th>198</th>\n",
       "      <th>199</th>\n",
       "      <th>200</th>\n",
       "    </tr>\n",
       "  </thead>\n",
       "  <tbody>\n",
       "    <tr>\n",
       "      <th>0</th>\n",
       "      <td>0</td>\n",
       "      <td>0</td>\n",
       "      <td>0</td>\n",
       "      <td>0</td>\n",
       "      <td>0</td>\n",
       "      <td>0</td>\n",
       "      <td>0</td>\n",
       "      <td>0</td>\n",
       "      <td>0</td>\n",
       "      <td>0</td>\n",
       "      <td>...</td>\n",
       "      <td>0</td>\n",
       "      <td>0</td>\n",
       "      <td>0</td>\n",
       "      <td>0</td>\n",
       "      <td>0</td>\n",
       "      <td>0</td>\n",
       "      <td>0</td>\n",
       "      <td>0</td>\n",
       "      <td>0</td>\n",
       "      <td>0</td>\n",
       "    </tr>\n",
       "    <tr>\n",
       "      <th>1</th>\n",
       "      <td>0</td>\n",
       "      <td>0</td>\n",
       "      <td>0</td>\n",
       "      <td>0</td>\n",
       "      <td>0</td>\n",
       "      <td>0</td>\n",
       "      <td>0</td>\n",
       "      <td>0</td>\n",
       "      <td>0</td>\n",
       "      <td>0</td>\n",
       "      <td>...</td>\n",
       "      <td>0</td>\n",
       "      <td>0</td>\n",
       "      <td>0</td>\n",
       "      <td>0</td>\n",
       "      <td>0</td>\n",
       "      <td>0</td>\n",
       "      <td>0</td>\n",
       "      <td>0</td>\n",
       "      <td>0</td>\n",
       "      <td>0</td>\n",
       "    </tr>\n",
       "    <tr>\n",
       "      <th>2</th>\n",
       "      <td>0</td>\n",
       "      <td>0</td>\n",
       "      <td>0</td>\n",
       "      <td>0</td>\n",
       "      <td>0</td>\n",
       "      <td>0</td>\n",
       "      <td>0</td>\n",
       "      <td>0</td>\n",
       "      <td>0</td>\n",
       "      <td>0</td>\n",
       "      <td>...</td>\n",
       "      <td>0</td>\n",
       "      <td>0</td>\n",
       "      <td>0</td>\n",
       "      <td>0</td>\n",
       "      <td>0</td>\n",
       "      <td>0</td>\n",
       "      <td>0</td>\n",
       "      <td>0</td>\n",
       "      <td>0</td>\n",
       "      <td>0</td>\n",
       "    </tr>\n",
       "  </tbody>\n",
       "</table>\n",
       "<p>3 rows × 200 columns</p>\n",
       "</div>"
      ],
      "text/plain": [
       "   1    2    3    4    5    6    7    8    9    10  ...   191  192  193  194  \\\n",
       "0    0    0    0    0    0    0    0    0    0    0 ...     0    0    0    0   \n",
       "1    0    0    0    0    0    0    0    0    0    0 ...     0    0    0    0   \n",
       "2    0    0    0    0    0    0    0    0    0    0 ...     0    0    0    0   \n",
       "\n",
       "   195  196  197  198  199  200  \n",
       "0    0    0    0    0    0    0  \n",
       "1    0    0    0    0    0    0  \n",
       "2    0    0    0    0    0    0  \n",
       "\n",
       "[3 rows x 200 columns]"
      ]
     },
     "execution_count": 120,
     "metadata": {},
     "output_type": "execute_result"
    }
   ],
   "source": [
    "position_dum = pd.get_dummies(data['Position'])\n",
    "position_dum.head(3)"
   ]
  },
  {
   "cell_type": "code",
   "execution_count": 121,
   "metadata": {},
   "outputs": [
    {
     "data": {
      "text/html": [
       "<div>\n",
       "<style>\n",
       "    .dataframe thead tr:only-child th {\n",
       "        text-align: right;\n",
       "    }\n",
       "\n",
       "    .dataframe thead th {\n",
       "        text-align: left;\n",
       "    }\n",
       "\n",
       "    .dataframe tbody tr th {\n",
       "        vertical-align: top;\n",
       "    }\n",
       "</style>\n",
       "<table border=\"1\" class=\"dataframe\">\n",
       "  <thead>\n",
       "    <tr style=\"text-align: right;\">\n",
       "      <th></th>\n",
       "      <th>Unnamed: 0</th>\n",
       "      <th>Position</th>\n",
       "      <th>Streams</th>\n",
       "      <th>Track Name</th>\n",
       "      <th>Artist</th>\n",
       "      <th>ID</th>\n",
       "      <th>Date</th>\n",
       "      <th>Year</th>\n",
       "      <th>Month</th>\n",
       "      <th>Day</th>\n",
       "      <th>...</th>\n",
       "      <th>191</th>\n",
       "      <th>192</th>\n",
       "      <th>193</th>\n",
       "      <th>194</th>\n",
       "      <th>195</th>\n",
       "      <th>196</th>\n",
       "      <th>197</th>\n",
       "      <th>198</th>\n",
       "      <th>199</th>\n",
       "      <th>200</th>\n",
       "    </tr>\n",
       "  </thead>\n",
       "  <tbody>\n",
       "    <tr>\n",
       "      <th>0</th>\n",
       "      <td>0</td>\n",
       "      <td>177</td>\n",
       "      <td>40381</td>\n",
       "      <td>Bye Bye Bye</td>\n",
       "      <td>*NSYNC</td>\n",
       "      <td>4r8lRYnoOGdEi6YyI5OC1o</td>\n",
       "      <td>2017-10-05</td>\n",
       "      <td>2017</td>\n",
       "      <td>10</td>\n",
       "      <td>5</td>\n",
       "      <td>...</td>\n",
       "      <td>0</td>\n",
       "      <td>0</td>\n",
       "      <td>0</td>\n",
       "      <td>0</td>\n",
       "      <td>0</td>\n",
       "      <td>0</td>\n",
       "      <td>0</td>\n",
       "      <td>0</td>\n",
       "      <td>0</td>\n",
       "      <td>0</td>\n",
       "    </tr>\n",
       "    <tr>\n",
       "      <th>1</th>\n",
       "      <td>1</td>\n",
       "      <td>151</td>\n",
       "      <td>24132</td>\n",
       "      <td>Merry Christmas, Happy Holidays</td>\n",
       "      <td>*NSYNC</td>\n",
       "      <td>15coTBAzEN1bOeipoNDZAR</td>\n",
       "      <td>2017-12-23</td>\n",
       "      <td>2017</td>\n",
       "      <td>12</td>\n",
       "      <td>23</td>\n",
       "      <td>...</td>\n",
       "      <td>0</td>\n",
       "      <td>0</td>\n",
       "      <td>0</td>\n",
       "      <td>0</td>\n",
       "      <td>0</td>\n",
       "      <td>0</td>\n",
       "      <td>0</td>\n",
       "      <td>0</td>\n",
       "      <td>0</td>\n",
       "      <td>0</td>\n",
       "    </tr>\n",
       "    <tr>\n",
       "      <th>2</th>\n",
       "      <td>2</td>\n",
       "      <td>78</td>\n",
       "      <td>49766</td>\n",
       "      <td>Merry Christmas, Happy Holidays</td>\n",
       "      <td>*NSYNC</td>\n",
       "      <td>15coTBAzEN1bOeipoNDZAR</td>\n",
       "      <td>2017-12-24</td>\n",
       "      <td>2017</td>\n",
       "      <td>12</td>\n",
       "      <td>24</td>\n",
       "      <td>...</td>\n",
       "      <td>0</td>\n",
       "      <td>0</td>\n",
       "      <td>0</td>\n",
       "      <td>0</td>\n",
       "      <td>0</td>\n",
       "      <td>0</td>\n",
       "      <td>0</td>\n",
       "      <td>0</td>\n",
       "      <td>0</td>\n",
       "      <td>0</td>\n",
       "    </tr>\n",
       "  </tbody>\n",
       "</table>\n",
       "<p>3 rows × 227 columns</p>\n",
       "</div>"
      ],
      "text/plain": [
       "   Unnamed: 0  Position  Streams                       Track Name  Artist  \\\n",
       "0           0       177    40381                      Bye Bye Bye  *NSYNC   \n",
       "1           1       151    24132  Merry Christmas, Happy Holidays  *NSYNC   \n",
       "2           2        78    49766  Merry Christmas, Happy Holidays  *NSYNC   \n",
       "\n",
       "                       ID        Date  Year  Month  Day ...  191 192 193  194  \\\n",
       "0  4r8lRYnoOGdEi6YyI5OC1o  2017-10-05  2017     10    5 ...    0   0   0    0   \n",
       "1  15coTBAzEN1bOeipoNDZAR  2017-12-23  2017     12   23 ...    0   0   0    0   \n",
       "2  15coTBAzEN1bOeipoNDZAR  2017-12-24  2017     12   24 ...    0   0   0    0   \n",
       "\n",
       "   195  196  197  198  199  200  \n",
       "0    0    0    0    0    0    0  \n",
       "1    0    0    0    0    0    0  \n",
       "2    0    0    0    0    0    0  \n",
       "\n",
       "[3 rows x 227 columns]"
      ]
     },
     "execution_count": 121,
     "metadata": {},
     "output_type": "execute_result"
    }
   ],
   "source": [
    "data_c_p = pd.concat([data_c, position_dum], axis=1)\n",
    "data_c_p.head(3)"
   ]
  },
  {
   "cell_type": "markdown",
   "metadata": {},
   "source": [
    "#### Group by ID, sum()"
   ]
  },
  {
   "cell_type": "code",
   "execution_count": 122,
   "metadata": {},
   "outputs": [
    {
     "data": {
      "text/html": [
       "<div>\n",
       "<style>\n",
       "    .dataframe thead tr:only-child th {\n",
       "        text-align: right;\n",
       "    }\n",
       "\n",
       "    .dataframe thead th {\n",
       "        text-align: left;\n",
       "    }\n",
       "\n",
       "    .dataframe tbody tr th {\n",
       "        vertical-align: top;\n",
       "    }\n",
       "</style>\n",
       "<table border=\"1\" class=\"dataframe\">\n",
       "  <thead>\n",
       "    <tr style=\"text-align: right;\">\n",
       "      <th></th>\n",
       "      <th>Unnamed: 0</th>\n",
       "      <th>Position</th>\n",
       "      <th>Streams</th>\n",
       "      <th>Year</th>\n",
       "      <th>Month</th>\n",
       "      <th>Day</th>\n",
       "      <th>Acousticness</th>\n",
       "      <th>Energy</th>\n",
       "      <th>Instrumentalness</th>\n",
       "      <th>Mode</th>\n",
       "      <th>...</th>\n",
       "      <th>191</th>\n",
       "      <th>192</th>\n",
       "      <th>193</th>\n",
       "      <th>194</th>\n",
       "      <th>195</th>\n",
       "      <th>196</th>\n",
       "      <th>197</th>\n",
       "      <th>198</th>\n",
       "      <th>199</th>\n",
       "      <th>200</th>\n",
       "    </tr>\n",
       "    <tr>\n",
       "      <th>ID</th>\n",
       "      <th></th>\n",
       "      <th></th>\n",
       "      <th></th>\n",
       "      <th></th>\n",
       "      <th></th>\n",
       "      <th></th>\n",
       "      <th></th>\n",
       "      <th></th>\n",
       "      <th></th>\n",
       "      <th></th>\n",
       "      <th></th>\n",
       "      <th></th>\n",
       "      <th></th>\n",
       "      <th></th>\n",
       "      <th></th>\n",
       "      <th></th>\n",
       "      <th></th>\n",
       "      <th></th>\n",
       "      <th></th>\n",
       "      <th></th>\n",
       "      <th></th>\n",
       "    </tr>\n",
       "  </thead>\n",
       "  <tbody>\n",
       "    <tr>\n",
       "      <th>000xQL6tZNLJzIrtIgxqSl</th>\n",
       "      <td>485336363</td>\n",
       "      <td>85033</td>\n",
       "      <td>62948380</td>\n",
       "      <td>1716467</td>\n",
       "      <td>4972</td>\n",
       "      <td>13379</td>\n",
       "      <td>111.48100</td>\n",
       "      <td>533.577</td>\n",
       "      <td>0.000000</td>\n",
       "      <td>851.0</td>\n",
       "      <td>...</td>\n",
       "      <td>5.0</td>\n",
       "      <td>5.0</td>\n",
       "      <td>3.0</td>\n",
       "      <td>2.0</td>\n",
       "      <td>2.0</td>\n",
       "      <td>8.0</td>\n",
       "      <td>0.0</td>\n",
       "      <td>5.0</td>\n",
       "      <td>3.0</td>\n",
       "      <td>3.0</td>\n",
       "    </tr>\n",
       "    <tr>\n",
       "      <th>007d7JT41sSc1HqWTs4uw7</th>\n",
       "      <td>624441</td>\n",
       "      <td>563</td>\n",
       "      <td>233403</td>\n",
       "      <td>6051</td>\n",
       "      <td>8</td>\n",
       "      <td>30</td>\n",
       "      <td>0.00912</td>\n",
       "      <td>2.286</td>\n",
       "      <td>0.000000</td>\n",
       "      <td>0.0</td>\n",
       "      <td>...</td>\n",
       "      <td>0.0</td>\n",
       "      <td>0.0</td>\n",
       "      <td>0.0</td>\n",
       "      <td>0.0</td>\n",
       "      <td>0.0</td>\n",
       "      <td>0.0</td>\n",
       "      <td>1.0</td>\n",
       "      <td>0.0</td>\n",
       "      <td>0.0</td>\n",
       "      <td>0.0</td>\n",
       "    </tr>\n",
       "    <tr>\n",
       "      <th>00BuKLSAFkaEkaVAgIMbeA</th>\n",
       "      <td>310234</td>\n",
       "      <td>121</td>\n",
       "      <td>209865</td>\n",
       "      <td>2017</td>\n",
       "      <td>2</td>\n",
       "      <td>6</td>\n",
       "      <td>0.00587</td>\n",
       "      <td>0.832</td>\n",
       "      <td>0.000789</td>\n",
       "      <td>0.0</td>\n",
       "      <td>...</td>\n",
       "      <td>0.0</td>\n",
       "      <td>0.0</td>\n",
       "      <td>0.0</td>\n",
       "      <td>0.0</td>\n",
       "      <td>0.0</td>\n",
       "      <td>0.0</td>\n",
       "      <td>0.0</td>\n",
       "      <td>0.0</td>\n",
       "      <td>0.0</td>\n",
       "      <td>0.0</td>\n",
       "    </tr>\n",
       "  </tbody>\n",
       "</table>\n",
       "<p>3 rows × 220 columns</p>\n",
       "</div>"
      ],
      "text/plain": [
       "                        Unnamed: 0  Position   Streams     Year  Month    Day  \\\n",
       "ID                                                                              \n",
       "000xQL6tZNLJzIrtIgxqSl   485336363     85033  62948380  1716467   4972  13379   \n",
       "007d7JT41sSc1HqWTs4uw7      624441       563    233403     6051      8     30   \n",
       "00BuKLSAFkaEkaVAgIMbeA      310234       121    209865     2017      2      6   \n",
       "\n",
       "                        Acousticness   Energy  Instrumentalness   Mode ...   \\\n",
       "ID                                                                     ...    \n",
       "000xQL6tZNLJzIrtIgxqSl     111.48100  533.577          0.000000  851.0 ...    \n",
       "007d7JT41sSc1HqWTs4uw7       0.00912    2.286          0.000000    0.0 ...    \n",
       "00BuKLSAFkaEkaVAgIMbeA       0.00587    0.832          0.000789    0.0 ...    \n",
       "\n",
       "                        191  192  193  194  195  196  197  198  199  200  \n",
       "ID                                                                        \n",
       "000xQL6tZNLJzIrtIgxqSl  5.0  5.0  3.0  2.0  2.0  8.0  0.0  5.0  3.0  3.0  \n",
       "007d7JT41sSc1HqWTs4uw7  0.0  0.0  0.0  0.0  0.0  0.0  1.0  0.0  0.0  0.0  \n",
       "00BuKLSAFkaEkaVAgIMbeA  0.0  0.0  0.0  0.0  0.0  0.0  0.0  0.0  0.0  0.0  \n",
       "\n",
       "[3 rows x 220 columns]"
      ]
     },
     "execution_count": 122,
     "metadata": {},
     "output_type": "execute_result"
    }
   ],
   "source": [
    "data_cp_groupbyID = data_c_p.groupby('ID').sum()\n",
    "data_cp_groupbyID.head(3)"
   ]
  },
  {
   "cell_type": "markdown",
   "metadata": {},
   "source": [
    "#### Work with the Streams column"
   ]
  },
  {
   "cell_type": "code",
   "execution_count": 123,
   "metadata": {},
   "outputs": [
    {
     "data": {
      "text/plain": [
       "8223"
      ]
     },
     "execution_count": 123,
     "metadata": {},
     "output_type": "execute_result"
    }
   ],
   "source": [
    "len(data_cp_groupbyID)"
   ]
  },
  {
   "cell_type": "code",
   "execution_count": 124,
   "metadata": {},
   "outputs": [
    {
     "data": {
      "text/html": [
       "<div>\n",
       "<style>\n",
       "    .dataframe thead tr:only-child th {\n",
       "        text-align: right;\n",
       "    }\n",
       "\n",
       "    .dataframe thead th {\n",
       "        text-align: left;\n",
       "    }\n",
       "\n",
       "    .dataframe tbody tr th {\n",
       "        vertical-align: top;\n",
       "    }\n",
       "</style>\n",
       "<table border=\"1\" class=\"dataframe\">\n",
       "  <thead>\n",
       "    <tr style=\"text-align: right;\">\n",
       "      <th></th>\n",
       "      <th>Unnamed: 0</th>\n",
       "      <th>Position</th>\n",
       "      <th>Streams</th>\n",
       "      <th>Year</th>\n",
       "      <th>Month</th>\n",
       "      <th>Day</th>\n",
       "      <th>Acousticness</th>\n",
       "      <th>Energy</th>\n",
       "      <th>Instrumentalness</th>\n",
       "      <th>Mode</th>\n",
       "      <th>...</th>\n",
       "      <th>192</th>\n",
       "      <th>193</th>\n",
       "      <th>194</th>\n",
       "      <th>195</th>\n",
       "      <th>196</th>\n",
       "      <th>197</th>\n",
       "      <th>198</th>\n",
       "      <th>199</th>\n",
       "      <th>200</th>\n",
       "      <th>avg_Streams</th>\n",
       "    </tr>\n",
       "    <tr>\n",
       "      <th>ID</th>\n",
       "      <th></th>\n",
       "      <th></th>\n",
       "      <th></th>\n",
       "      <th></th>\n",
       "      <th></th>\n",
       "      <th></th>\n",
       "      <th></th>\n",
       "      <th></th>\n",
       "      <th></th>\n",
       "      <th></th>\n",
       "      <th></th>\n",
       "      <th></th>\n",
       "      <th></th>\n",
       "      <th></th>\n",
       "      <th></th>\n",
       "      <th></th>\n",
       "      <th></th>\n",
       "      <th></th>\n",
       "      <th></th>\n",
       "      <th></th>\n",
       "      <th></th>\n",
       "    </tr>\n",
       "  </thead>\n",
       "  <tbody>\n",
       "    <tr>\n",
       "      <th>000xQL6tZNLJzIrtIgxqSl</th>\n",
       "      <td>485336363</td>\n",
       "      <td>85033</td>\n",
       "      <td>62948380</td>\n",
       "      <td>1716467</td>\n",
       "      <td>4972</td>\n",
       "      <td>13379</td>\n",
       "      <td>111.48100</td>\n",
       "      <td>533.577</td>\n",
       "      <td>0.000000</td>\n",
       "      <td>851.0</td>\n",
       "      <td>...</td>\n",
       "      <td>5.0</td>\n",
       "      <td>3.0</td>\n",
       "      <td>2.0</td>\n",
       "      <td>2.0</td>\n",
       "      <td>8.0</td>\n",
       "      <td>0.0</td>\n",
       "      <td>5.0</td>\n",
       "      <td>3.0</td>\n",
       "      <td>3.0</td>\n",
       "      <td>7655.159917</td>\n",
       "    </tr>\n",
       "    <tr>\n",
       "      <th>007d7JT41sSc1HqWTs4uw7</th>\n",
       "      <td>624441</td>\n",
       "      <td>563</td>\n",
       "      <td>233403</td>\n",
       "      <td>6051</td>\n",
       "      <td>8</td>\n",
       "      <td>30</td>\n",
       "      <td>0.00912</td>\n",
       "      <td>2.286</td>\n",
       "      <td>0.000000</td>\n",
       "      <td>0.0</td>\n",
       "      <td>...</td>\n",
       "      <td>0.0</td>\n",
       "      <td>0.0</td>\n",
       "      <td>0.0</td>\n",
       "      <td>0.0</td>\n",
       "      <td>0.0</td>\n",
       "      <td>1.0</td>\n",
       "      <td>0.0</td>\n",
       "      <td>0.0</td>\n",
       "      <td>0.0</td>\n",
       "      <td>28.384166</td>\n",
       "    </tr>\n",
       "    <tr>\n",
       "      <th>00BuKLSAFkaEkaVAgIMbeA</th>\n",
       "      <td>310234</td>\n",
       "      <td>121</td>\n",
       "      <td>209865</td>\n",
       "      <td>2017</td>\n",
       "      <td>2</td>\n",
       "      <td>6</td>\n",
       "      <td>0.00587</td>\n",
       "      <td>0.832</td>\n",
       "      <td>0.000789</td>\n",
       "      <td>0.0</td>\n",
       "      <td>...</td>\n",
       "      <td>0.0</td>\n",
       "      <td>0.0</td>\n",
       "      <td>0.0</td>\n",
       "      <td>0.0</td>\n",
       "      <td>0.0</td>\n",
       "      <td>0.0</td>\n",
       "      <td>0.0</td>\n",
       "      <td>0.0</td>\n",
       "      <td>0.0</td>\n",
       "      <td>25.521707</td>\n",
       "    </tr>\n",
       "  </tbody>\n",
       "</table>\n",
       "<p>3 rows × 221 columns</p>\n",
       "</div>"
      ],
      "text/plain": [
       "                        Unnamed: 0  Position   Streams     Year  Month    Day  \\\n",
       "ID                                                                              \n",
       "000xQL6tZNLJzIrtIgxqSl   485336363     85033  62948380  1716467   4972  13379   \n",
       "007d7JT41sSc1HqWTs4uw7      624441       563    233403     6051      8     30   \n",
       "00BuKLSAFkaEkaVAgIMbeA      310234       121    209865     2017      2      6   \n",
       "\n",
       "                        Acousticness   Energy  Instrumentalness   Mode  \\\n",
       "ID                                                                       \n",
       "000xQL6tZNLJzIrtIgxqSl     111.48100  533.577          0.000000  851.0   \n",
       "007d7JT41sSc1HqWTs4uw7       0.00912    2.286          0.000000    0.0   \n",
       "00BuKLSAFkaEkaVAgIMbeA       0.00587    0.832          0.000789    0.0   \n",
       "\n",
       "                           ...       192  193  194  195  196  197  198  199  \\\n",
       "ID                         ...                                                \n",
       "000xQL6tZNLJzIrtIgxqSl     ...       5.0  3.0  2.0  2.0  8.0  0.0  5.0  3.0   \n",
       "007d7JT41sSc1HqWTs4uw7     ...       0.0  0.0  0.0  0.0  0.0  1.0  0.0  0.0   \n",
       "00BuKLSAFkaEkaVAgIMbeA     ...       0.0  0.0  0.0  0.0  0.0  0.0  0.0  0.0   \n",
       "\n",
       "                        200  avg_Streams  \n",
       "ID                                        \n",
       "000xQL6tZNLJzIrtIgxqSl  3.0  7655.159917  \n",
       "007d7JT41sSc1HqWTs4uw7  0.0    28.384166  \n",
       "00BuKLSAFkaEkaVAgIMbeA  0.0    25.521707  \n",
       "\n",
       "[3 rows x 221 columns]"
      ]
     },
     "execution_count": 124,
     "metadata": {},
     "output_type": "execute_result"
    }
   ],
   "source": [
    "data_cp_groupbyID['avg_Streams'] = data_cp_groupbyID['Streams']/len(data_cp_groupbyID)\n",
    "data_cp_groupbyID.head(3)"
   ]
  },
  {
   "cell_type": "markdown",
   "metadata": {},
   "source": [
    "#### Work more with the Position column"
   ]
  },
  {
   "cell_type": "code",
   "execution_count": 125,
   "metadata": {},
   "outputs": [
    {
     "data": {
      "text/plain": [
       "8223"
      ]
     },
     "execution_count": 125,
     "metadata": {},
     "output_type": "execute_result"
    }
   ],
   "source": [
    "len(data_cp_groupbyID)"
   ]
  },
  {
   "cell_type": "code",
   "execution_count": 126,
   "metadata": {},
   "outputs": [
    {
     "data": {
      "text/html": [
       "<div>\n",
       "<style>\n",
       "    .dataframe thead tr:only-child th {\n",
       "        text-align: right;\n",
       "    }\n",
       "\n",
       "    .dataframe thead th {\n",
       "        text-align: left;\n",
       "    }\n",
       "\n",
       "    .dataframe tbody tr th {\n",
       "        vertical-align: top;\n",
       "    }\n",
       "</style>\n",
       "<table border=\"1\" class=\"dataframe\">\n",
       "  <thead>\n",
       "    <tr style=\"text-align: right;\">\n",
       "      <th></th>\n",
       "      <th>Unnamed: 0</th>\n",
       "      <th>Position</th>\n",
       "      <th>Streams</th>\n",
       "      <th>Year</th>\n",
       "      <th>Month</th>\n",
       "      <th>Day</th>\n",
       "      <th>Acousticness</th>\n",
       "      <th>Energy</th>\n",
       "      <th>Instrumentalness</th>\n",
       "      <th>Mode</th>\n",
       "      <th>...</th>\n",
       "      <th>193</th>\n",
       "      <th>194</th>\n",
       "      <th>195</th>\n",
       "      <th>196</th>\n",
       "      <th>197</th>\n",
       "      <th>198</th>\n",
       "      <th>199</th>\n",
       "      <th>200</th>\n",
       "      <th>avg_Streams</th>\n",
       "      <th>avg_Position</th>\n",
       "    </tr>\n",
       "    <tr>\n",
       "      <th>ID</th>\n",
       "      <th></th>\n",
       "      <th></th>\n",
       "      <th></th>\n",
       "      <th></th>\n",
       "      <th></th>\n",
       "      <th></th>\n",
       "      <th></th>\n",
       "      <th></th>\n",
       "      <th></th>\n",
       "      <th></th>\n",
       "      <th></th>\n",
       "      <th></th>\n",
       "      <th></th>\n",
       "      <th></th>\n",
       "      <th></th>\n",
       "      <th></th>\n",
       "      <th></th>\n",
       "      <th></th>\n",
       "      <th></th>\n",
       "      <th></th>\n",
       "      <th></th>\n",
       "    </tr>\n",
       "  </thead>\n",
       "  <tbody>\n",
       "    <tr>\n",
       "      <th>000xQL6tZNLJzIrtIgxqSl</th>\n",
       "      <td>485336363</td>\n",
       "      <td>85033</td>\n",
       "      <td>62948380</td>\n",
       "      <td>1716467</td>\n",
       "      <td>4972</td>\n",
       "      <td>13379</td>\n",
       "      <td>111.48100</td>\n",
       "      <td>533.577</td>\n",
       "      <td>0.000000</td>\n",
       "      <td>851.0</td>\n",
       "      <td>...</td>\n",
       "      <td>3.0</td>\n",
       "      <td>2.0</td>\n",
       "      <td>2.0</td>\n",
       "      <td>8.0</td>\n",
       "      <td>0.0</td>\n",
       "      <td>5.0</td>\n",
       "      <td>3.0</td>\n",
       "      <td>3.0</td>\n",
       "      <td>7655.159917</td>\n",
       "      <td>10.340873</td>\n",
       "    </tr>\n",
       "    <tr>\n",
       "      <th>007d7JT41sSc1HqWTs4uw7</th>\n",
       "      <td>624441</td>\n",
       "      <td>563</td>\n",
       "      <td>233403</td>\n",
       "      <td>6051</td>\n",
       "      <td>8</td>\n",
       "      <td>30</td>\n",
       "      <td>0.00912</td>\n",
       "      <td>2.286</td>\n",
       "      <td>0.000000</td>\n",
       "      <td>0.0</td>\n",
       "      <td>...</td>\n",
       "      <td>0.0</td>\n",
       "      <td>0.0</td>\n",
       "      <td>0.0</td>\n",
       "      <td>0.0</td>\n",
       "      <td>1.0</td>\n",
       "      <td>0.0</td>\n",
       "      <td>0.0</td>\n",
       "      <td>0.0</td>\n",
       "      <td>28.384166</td>\n",
       "      <td>0.068466</td>\n",
       "    </tr>\n",
       "    <tr>\n",
       "      <th>00BuKLSAFkaEkaVAgIMbeA</th>\n",
       "      <td>310234</td>\n",
       "      <td>121</td>\n",
       "      <td>209865</td>\n",
       "      <td>2017</td>\n",
       "      <td>2</td>\n",
       "      <td>6</td>\n",
       "      <td>0.00587</td>\n",
       "      <td>0.832</td>\n",
       "      <td>0.000789</td>\n",
       "      <td>0.0</td>\n",
       "      <td>...</td>\n",
       "      <td>0.0</td>\n",
       "      <td>0.0</td>\n",
       "      <td>0.0</td>\n",
       "      <td>0.0</td>\n",
       "      <td>0.0</td>\n",
       "      <td>0.0</td>\n",
       "      <td>0.0</td>\n",
       "      <td>0.0</td>\n",
       "      <td>25.521707</td>\n",
       "      <td>0.014715</td>\n",
       "    </tr>\n",
       "  </tbody>\n",
       "</table>\n",
       "<p>3 rows × 222 columns</p>\n",
       "</div>"
      ],
      "text/plain": [
       "                        Unnamed: 0  Position   Streams     Year  Month    Day  \\\n",
       "ID                                                                              \n",
       "000xQL6tZNLJzIrtIgxqSl   485336363     85033  62948380  1716467   4972  13379   \n",
       "007d7JT41sSc1HqWTs4uw7      624441       563    233403     6051      8     30   \n",
       "00BuKLSAFkaEkaVAgIMbeA      310234       121    209865     2017      2      6   \n",
       "\n",
       "                        Acousticness   Energy  Instrumentalness   Mode  \\\n",
       "ID                                                                       \n",
       "000xQL6tZNLJzIrtIgxqSl     111.48100  533.577          0.000000  851.0   \n",
       "007d7JT41sSc1HqWTs4uw7       0.00912    2.286          0.000000    0.0   \n",
       "00BuKLSAFkaEkaVAgIMbeA       0.00587    0.832          0.000789    0.0   \n",
       "\n",
       "                            ...       193  194  195  196  197  198  199  200  \\\n",
       "ID                          ...                                                \n",
       "000xQL6tZNLJzIrtIgxqSl      ...       3.0  2.0  2.0  8.0  0.0  5.0  3.0  3.0   \n",
       "007d7JT41sSc1HqWTs4uw7      ...       0.0  0.0  0.0  0.0  1.0  0.0  0.0  0.0   \n",
       "00BuKLSAFkaEkaVAgIMbeA      ...       0.0  0.0  0.0  0.0  0.0  0.0  0.0  0.0   \n",
       "\n",
       "                        avg_Streams  avg_Position  \n",
       "ID                                                 \n",
       "000xQL6tZNLJzIrtIgxqSl  7655.159917     10.340873  \n",
       "007d7JT41sSc1HqWTs4uw7    28.384166      0.068466  \n",
       "00BuKLSAFkaEkaVAgIMbeA    25.521707      0.014715  \n",
       "\n",
       "[3 rows x 222 columns]"
      ]
     },
     "execution_count": 126,
     "metadata": {},
     "output_type": "execute_result"
    }
   ],
   "source": [
    "data_cp_groupbyID['avg_Position'] = data_cp_groupbyID['Position']/len(data_cp_groupbyID)\n",
    "data_cp_groupbyID.head(3)"
   ]
  },
  {
   "cell_type": "markdown",
   "metadata": {},
   "source": [
    "#### Drop columns that make no sense after the group by or that I do not need"
   ]
  },
  {
   "cell_type": "code",
   "execution_count": 127,
   "metadata": {},
   "outputs": [
    {
     "data": {
      "text/html": [
       "<div>\n",
       "<style>\n",
       "    .dataframe thead tr:only-child th {\n",
       "        text-align: right;\n",
       "    }\n",
       "\n",
       "    .dataframe thead th {\n",
       "        text-align: left;\n",
       "    }\n",
       "\n",
       "    .dataframe tbody tr th {\n",
       "        vertical-align: top;\n",
       "    }\n",
       "</style>\n",
       "<table border=\"1\" class=\"dataframe\">\n",
       "  <thead>\n",
       "    <tr style=\"text-align: right;\">\n",
       "      <th></th>\n",
       "      <th>au</th>\n",
       "      <th>ca</th>\n",
       "      <th>de</th>\n",
       "      <th>fr</th>\n",
       "      <th>gb</th>\n",
       "      <th>it</th>\n",
       "      <th>nl</th>\n",
       "      <th>us</th>\n",
       "      <th>1</th>\n",
       "      <th>2</th>\n",
       "      <th>...</th>\n",
       "      <th>193</th>\n",
       "      <th>194</th>\n",
       "      <th>195</th>\n",
       "      <th>196</th>\n",
       "      <th>197</th>\n",
       "      <th>198</th>\n",
       "      <th>199</th>\n",
       "      <th>200</th>\n",
       "      <th>avg_Streams</th>\n",
       "      <th>avg_Position</th>\n",
       "    </tr>\n",
       "    <tr>\n",
       "      <th>ID</th>\n",
       "      <th></th>\n",
       "      <th></th>\n",
       "      <th></th>\n",
       "      <th></th>\n",
       "      <th></th>\n",
       "      <th></th>\n",
       "      <th></th>\n",
       "      <th></th>\n",
       "      <th></th>\n",
       "      <th></th>\n",
       "      <th></th>\n",
       "      <th></th>\n",
       "      <th></th>\n",
       "      <th></th>\n",
       "      <th></th>\n",
       "      <th></th>\n",
       "      <th></th>\n",
       "      <th></th>\n",
       "      <th></th>\n",
       "      <th></th>\n",
       "      <th></th>\n",
       "    </tr>\n",
       "  </thead>\n",
       "  <tbody>\n",
       "    <tr>\n",
       "      <th>000xQL6tZNLJzIrtIgxqSl</th>\n",
       "      <td>228.0</td>\n",
       "      <td>108.0</td>\n",
       "      <td>55.0</td>\n",
       "      <td>20.0</td>\n",
       "      <td>211.0</td>\n",
       "      <td>53.0</td>\n",
       "      <td>108.0</td>\n",
       "      <td>68.0</td>\n",
       "      <td>0.0</td>\n",
       "      <td>0.0</td>\n",
       "      <td>...</td>\n",
       "      <td>3.0</td>\n",
       "      <td>2.0</td>\n",
       "      <td>2.0</td>\n",
       "      <td>8.0</td>\n",
       "      <td>0.0</td>\n",
       "      <td>5.0</td>\n",
       "      <td>3.0</td>\n",
       "      <td>3.0</td>\n",
       "      <td>7655.159917</td>\n",
       "      <td>10.340873</td>\n",
       "    </tr>\n",
       "    <tr>\n",
       "      <th>007d7JT41sSc1HqWTs4uw7</th>\n",
       "      <td>1.0</td>\n",
       "      <td>0.0</td>\n",
       "      <td>0.0</td>\n",
       "      <td>0.0</td>\n",
       "      <td>1.0</td>\n",
       "      <td>0.0</td>\n",
       "      <td>0.0</td>\n",
       "      <td>1.0</td>\n",
       "      <td>0.0</td>\n",
       "      <td>0.0</td>\n",
       "      <td>...</td>\n",
       "      <td>0.0</td>\n",
       "      <td>0.0</td>\n",
       "      <td>0.0</td>\n",
       "      <td>0.0</td>\n",
       "      <td>1.0</td>\n",
       "      <td>0.0</td>\n",
       "      <td>0.0</td>\n",
       "      <td>0.0</td>\n",
       "      <td>28.384166</td>\n",
       "      <td>0.068466</td>\n",
       "    </tr>\n",
       "    <tr>\n",
       "      <th>00BuKLSAFkaEkaVAgIMbeA</th>\n",
       "      <td>0.0</td>\n",
       "      <td>0.0</td>\n",
       "      <td>0.0</td>\n",
       "      <td>0.0</td>\n",
       "      <td>0.0</td>\n",
       "      <td>0.0</td>\n",
       "      <td>0.0</td>\n",
       "      <td>1.0</td>\n",
       "      <td>0.0</td>\n",
       "      <td>0.0</td>\n",
       "      <td>...</td>\n",
       "      <td>0.0</td>\n",
       "      <td>0.0</td>\n",
       "      <td>0.0</td>\n",
       "      <td>0.0</td>\n",
       "      <td>0.0</td>\n",
       "      <td>0.0</td>\n",
       "      <td>0.0</td>\n",
       "      <td>0.0</td>\n",
       "      <td>25.521707</td>\n",
       "      <td>0.014715</td>\n",
       "    </tr>\n",
       "  </tbody>\n",
       "</table>\n",
       "<p>3 rows × 210 columns</p>\n",
       "</div>"
      ],
      "text/plain": [
       "                           au     ca    de    fr     gb    it     nl    us  \\\n",
       "ID                                                                           \n",
       "000xQL6tZNLJzIrtIgxqSl  228.0  108.0  55.0  20.0  211.0  53.0  108.0  68.0   \n",
       "007d7JT41sSc1HqWTs4uw7    1.0    0.0   0.0   0.0    1.0   0.0    0.0   1.0   \n",
       "00BuKLSAFkaEkaVAgIMbeA    0.0    0.0   0.0   0.0    0.0   0.0    0.0   1.0   \n",
       "\n",
       "                          1    2      ...       193  194  195  196  197  198  \\\n",
       "ID                                    ...                                      \n",
       "000xQL6tZNLJzIrtIgxqSl  0.0  0.0      ...       3.0  2.0  2.0  8.0  0.0  5.0   \n",
       "007d7JT41sSc1HqWTs4uw7  0.0  0.0      ...       0.0  0.0  0.0  0.0  1.0  0.0   \n",
       "00BuKLSAFkaEkaVAgIMbeA  0.0  0.0      ...       0.0  0.0  0.0  0.0  0.0  0.0   \n",
       "\n",
       "                        199  200  avg_Streams  avg_Position  \n",
       "ID                                                           \n",
       "000xQL6tZNLJzIrtIgxqSl  3.0  3.0  7655.159917     10.340873  \n",
       "007d7JT41sSc1HqWTs4uw7  0.0  0.0    28.384166      0.068466  \n",
       "00BuKLSAFkaEkaVAgIMbeA  0.0  0.0    25.521707      0.014715  \n",
       "\n",
       "[3 rows x 210 columns]"
      ]
     },
     "execution_count": 127,
     "metadata": {},
     "output_type": "execute_result"
    }
   ],
   "source": [
    "data_cps = data_cp_groupbyID.drop(['Unnamed: 0', 'Position', 'Streams', 'Year', 'Month', 'Day', 'Acousticness',\n",
    "                        'Energy', 'Instrumentalness', 'Mode', 'Tempo', 'Valence'], axis=1)\n",
    "data_cps.head(3)"
   ]
  },
  {
   "cell_type": "code",
   "execution_count": 128,
   "metadata": {},
   "outputs": [
    {
     "data": {
      "text/html": [
       "<div>\n",
       "<style>\n",
       "    .dataframe thead tr:only-child th {\n",
       "        text-align: right;\n",
       "    }\n",
       "\n",
       "    .dataframe thead th {\n",
       "        text-align: left;\n",
       "    }\n",
       "\n",
       "    .dataframe tbody tr th {\n",
       "        vertical-align: top;\n",
       "    }\n",
       "</style>\n",
       "<table border=\"1\" class=\"dataframe\">\n",
       "  <thead>\n",
       "    <tr style=\"text-align: right;\">\n",
       "      <th></th>\n",
       "      <th>au</th>\n",
       "      <th>ca</th>\n",
       "      <th>de</th>\n",
       "      <th>fr</th>\n",
       "      <th>gb</th>\n",
       "      <th>it</th>\n",
       "      <th>nl</th>\n",
       "      <th>us</th>\n",
       "      <th>1</th>\n",
       "      <th>2</th>\n",
       "      <th>...</th>\n",
       "      <th>194</th>\n",
       "      <th>195</th>\n",
       "      <th>196</th>\n",
       "      <th>197</th>\n",
       "      <th>198</th>\n",
       "      <th>199</th>\n",
       "      <th>200</th>\n",
       "      <th>avg_Streams</th>\n",
       "      <th>avg_Position</th>\n",
       "      <th>ID</th>\n",
       "    </tr>\n",
       "    <tr>\n",
       "      <th>ID</th>\n",
       "      <th></th>\n",
       "      <th></th>\n",
       "      <th></th>\n",
       "      <th></th>\n",
       "      <th></th>\n",
       "      <th></th>\n",
       "      <th></th>\n",
       "      <th></th>\n",
       "      <th></th>\n",
       "      <th></th>\n",
       "      <th></th>\n",
       "      <th></th>\n",
       "      <th></th>\n",
       "      <th></th>\n",
       "      <th></th>\n",
       "      <th></th>\n",
       "      <th></th>\n",
       "      <th></th>\n",
       "      <th></th>\n",
       "      <th></th>\n",
       "      <th></th>\n",
       "    </tr>\n",
       "  </thead>\n",
       "  <tbody>\n",
       "    <tr>\n",
       "      <th>000xQL6tZNLJzIrtIgxqSl</th>\n",
       "      <td>228.0</td>\n",
       "      <td>108.0</td>\n",
       "      <td>55.0</td>\n",
       "      <td>20.0</td>\n",
       "      <td>211.0</td>\n",
       "      <td>53.0</td>\n",
       "      <td>108.0</td>\n",
       "      <td>68.0</td>\n",
       "      <td>0.0</td>\n",
       "      <td>0.0</td>\n",
       "      <td>...</td>\n",
       "      <td>2.0</td>\n",
       "      <td>2.0</td>\n",
       "      <td>8.0</td>\n",
       "      <td>0.0</td>\n",
       "      <td>5.0</td>\n",
       "      <td>3.0</td>\n",
       "      <td>3.0</td>\n",
       "      <td>7655.159917</td>\n",
       "      <td>10.340873</td>\n",
       "      <td>000xQL6tZNLJzIrtIgxqSl</td>\n",
       "    </tr>\n",
       "    <tr>\n",
       "      <th>007d7JT41sSc1HqWTs4uw7</th>\n",
       "      <td>1.0</td>\n",
       "      <td>0.0</td>\n",
       "      <td>0.0</td>\n",
       "      <td>0.0</td>\n",
       "      <td>1.0</td>\n",
       "      <td>0.0</td>\n",
       "      <td>0.0</td>\n",
       "      <td>1.0</td>\n",
       "      <td>0.0</td>\n",
       "      <td>0.0</td>\n",
       "      <td>...</td>\n",
       "      <td>0.0</td>\n",
       "      <td>0.0</td>\n",
       "      <td>0.0</td>\n",
       "      <td>1.0</td>\n",
       "      <td>0.0</td>\n",
       "      <td>0.0</td>\n",
       "      <td>0.0</td>\n",
       "      <td>28.384166</td>\n",
       "      <td>0.068466</td>\n",
       "      <td>007d7JT41sSc1HqWTs4uw7</td>\n",
       "    </tr>\n",
       "    <tr>\n",
       "      <th>00BuKLSAFkaEkaVAgIMbeA</th>\n",
       "      <td>0.0</td>\n",
       "      <td>0.0</td>\n",
       "      <td>0.0</td>\n",
       "      <td>0.0</td>\n",
       "      <td>0.0</td>\n",
       "      <td>0.0</td>\n",
       "      <td>0.0</td>\n",
       "      <td>1.0</td>\n",
       "      <td>0.0</td>\n",
       "      <td>0.0</td>\n",
       "      <td>...</td>\n",
       "      <td>0.0</td>\n",
       "      <td>0.0</td>\n",
       "      <td>0.0</td>\n",
       "      <td>0.0</td>\n",
       "      <td>0.0</td>\n",
       "      <td>0.0</td>\n",
       "      <td>0.0</td>\n",
       "      <td>25.521707</td>\n",
       "      <td>0.014715</td>\n",
       "      <td>00BuKLSAFkaEkaVAgIMbeA</td>\n",
       "    </tr>\n",
       "  </tbody>\n",
       "</table>\n",
       "<p>3 rows × 211 columns</p>\n",
       "</div>"
      ],
      "text/plain": [
       "                           au     ca    de    fr     gb    it     nl    us  \\\n",
       "ID                                                                           \n",
       "000xQL6tZNLJzIrtIgxqSl  228.0  108.0  55.0  20.0  211.0  53.0  108.0  68.0   \n",
       "007d7JT41sSc1HqWTs4uw7    1.0    0.0   0.0   0.0    1.0   0.0    0.0   1.0   \n",
       "00BuKLSAFkaEkaVAgIMbeA    0.0    0.0   0.0   0.0    0.0   0.0    0.0   1.0   \n",
       "\n",
       "                          1    2           ...            194  195  196  197  \\\n",
       "ID                                         ...                                 \n",
       "000xQL6tZNLJzIrtIgxqSl  0.0  0.0           ...            2.0  2.0  8.0  0.0   \n",
       "007d7JT41sSc1HqWTs4uw7  0.0  0.0           ...            0.0  0.0  0.0  1.0   \n",
       "00BuKLSAFkaEkaVAgIMbeA  0.0  0.0           ...            0.0  0.0  0.0  0.0   \n",
       "\n",
       "                        198  199  200  avg_Streams  avg_Position  \\\n",
       "ID                                                                 \n",
       "000xQL6tZNLJzIrtIgxqSl  5.0  3.0  3.0  7655.159917     10.340873   \n",
       "007d7JT41sSc1HqWTs4uw7  0.0  0.0  0.0    28.384166      0.068466   \n",
       "00BuKLSAFkaEkaVAgIMbeA  0.0  0.0  0.0    25.521707      0.014715   \n",
       "\n",
       "                                            ID  \n",
       "ID                                              \n",
       "000xQL6tZNLJzIrtIgxqSl  000xQL6tZNLJzIrtIgxqSl  \n",
       "007d7JT41sSc1HqWTs4uw7  007d7JT41sSc1HqWTs4uw7  \n",
       "00BuKLSAFkaEkaVAgIMbeA  00BuKLSAFkaEkaVAgIMbeA  \n",
       "\n",
       "[3 rows x 211 columns]"
      ]
     },
     "execution_count": 128,
     "metadata": {},
     "output_type": "execute_result"
    }
   ],
   "source": [
    "# make a new column for ID so that I can merge on ID later\n",
    "data_cps['ID'] = data_cps.index\n",
    "data_cps.head(3)"
   ]
  },
  {
   "cell_type": "markdown",
   "metadata": {},
   "source": [
    "#### Drop rows that are duplicates and keep only one row for each song (based on ID)"
   ]
  },
  {
   "cell_type": "code",
   "execution_count": 129,
   "metadata": {},
   "outputs": [
    {
     "data": {
      "text/html": [
       "<div>\n",
       "<style>\n",
       "    .dataframe thead tr:only-child th {\n",
       "        text-align: right;\n",
       "    }\n",
       "\n",
       "    .dataframe thead th {\n",
       "        text-align: left;\n",
       "    }\n",
       "\n",
       "    .dataframe tbody tr th {\n",
       "        vertical-align: top;\n",
       "    }\n",
       "</style>\n",
       "<table border=\"1\" class=\"dataframe\">\n",
       "  <thead>\n",
       "    <tr style=\"text-align: right;\">\n",
       "      <th></th>\n",
       "      <th>Unnamed: 0</th>\n",
       "      <th>Position</th>\n",
       "      <th>Streams</th>\n",
       "      <th>Track Name</th>\n",
       "      <th>Artist</th>\n",
       "      <th>ID</th>\n",
       "      <th>Date</th>\n",
       "      <th>Year</th>\n",
       "      <th>Month</th>\n",
       "      <th>Day</th>\n",
       "      <th>Country</th>\n",
       "      <th>Region</th>\n",
       "      <th>Lyrics</th>\n",
       "      <th>Acousticness</th>\n",
       "      <th>Energy</th>\n",
       "      <th>Instrumentalness</th>\n",
       "      <th>Mode</th>\n",
       "      <th>Tempo</th>\n",
       "      <th>Valence</th>\n",
       "    </tr>\n",
       "  </thead>\n",
       "  <tbody>\n",
       "    <tr>\n",
       "      <th>0</th>\n",
       "      <td>0</td>\n",
       "      <td>177</td>\n",
       "      <td>40381</td>\n",
       "      <td>Bye Bye Bye</td>\n",
       "      <td>*NSYNC</td>\n",
       "      <td>4r8lRYnoOGdEi6YyI5OC1o</td>\n",
       "      <td>2017-10-05</td>\n",
       "      <td>2017</td>\n",
       "      <td>10</td>\n",
       "      <td>5</td>\n",
       "      <td>gb</td>\n",
       "      <td>eu</td>\n",
       "      <td>hey, hey bye bye bye, bye bye bye bye  i'm doi...</td>\n",
       "      <td>0.0408</td>\n",
       "      <td>0.928</td>\n",
       "      <td>0.00104</td>\n",
       "      <td>0.0</td>\n",
       "      <td>172.656</td>\n",
       "      <td>0.8790</td>\n",
       "    </tr>\n",
       "    <tr>\n",
       "      <th>1</th>\n",
       "      <td>1</td>\n",
       "      <td>151</td>\n",
       "      <td>24132</td>\n",
       "      <td>Merry Christmas, Happy Holidays</td>\n",
       "      <td>*NSYNC</td>\n",
       "      <td>15coTBAzEN1bOeipoNDZAR</td>\n",
       "      <td>2017-12-23</td>\n",
       "      <td>2017</td>\n",
       "      <td>12</td>\n",
       "      <td>23</td>\n",
       "      <td>it</td>\n",
       "      <td>eu</td>\n",
       "      <td>merry christmas and happy holidays merry chris...</td>\n",
       "      <td>0.1030</td>\n",
       "      <td>0.939</td>\n",
       "      <td>0.00000</td>\n",
       "      <td>1.0</td>\n",
       "      <td>105.003</td>\n",
       "      <td>0.7560</td>\n",
       "    </tr>\n",
       "    <tr>\n",
       "      <th>43</th>\n",
       "      <td>43</td>\n",
       "      <td>147</td>\n",
       "      <td>43037</td>\n",
       "      <td>Douce Nuit</td>\n",
       "      <td>-M-</td>\n",
       "      <td>4EOJWkvkVDpkZrhC8iTDsI</td>\n",
       "      <td>2017-12-24</td>\n",
       "      <td>2017</td>\n",
       "      <td>12</td>\n",
       "      <td>24</td>\n",
       "      <td>fr</td>\n",
       "      <td>eu</td>\n",
       "      <td>NaN</td>\n",
       "      <td>0.9140</td>\n",
       "      <td>0.227</td>\n",
       "      <td>0.16300</td>\n",
       "      <td>1.0</td>\n",
       "      <td>81.887</td>\n",
       "      <td>0.0498</td>\n",
       "    </tr>\n",
       "  </tbody>\n",
       "</table>\n",
       "</div>"
      ],
      "text/plain": [
       "    Unnamed: 0  Position  Streams                       Track Name  Artist  \\\n",
       "0            0       177    40381                      Bye Bye Bye  *NSYNC   \n",
       "1            1       151    24132  Merry Christmas, Happy Holidays  *NSYNC   \n",
       "43          43       147    43037                       Douce Nuit     -M-   \n",
       "\n",
       "                        ID        Date  Year  Month  Day Country Region  \\\n",
       "0   4r8lRYnoOGdEi6YyI5OC1o  2017-10-05  2017     10    5      gb     eu   \n",
       "1   15coTBAzEN1bOeipoNDZAR  2017-12-23  2017     12   23      it     eu   \n",
       "43  4EOJWkvkVDpkZrhC8iTDsI  2017-12-24  2017     12   24      fr     eu   \n",
       "\n",
       "                                               Lyrics  Acousticness  Energy  \\\n",
       "0   hey, hey bye bye bye, bye bye bye bye  i'm doi...        0.0408   0.928   \n",
       "1   merry christmas and happy holidays merry chris...        0.1030   0.939   \n",
       "43                                                NaN        0.9140   0.227   \n",
       "\n",
       "    Instrumentalness  Mode    Tempo  Valence  \n",
       "0            0.00104   0.0  172.656   0.8790  \n",
       "1            0.00000   1.0  105.003   0.7560  \n",
       "43           0.16300   1.0   81.887   0.0498  "
      ]
     },
     "execution_count": 129,
     "metadata": {},
     "output_type": "execute_result"
    }
   ],
   "source": [
    "data_per_song = data.drop_duplicates(subset=['ID'], keep='first')\n",
    "data_per_song.head(3)"
   ]
  },
  {
   "cell_type": "markdown",
   "metadata": {},
   "source": [
    "#### Drop all columns that might change per song"
   ]
  },
  {
   "cell_type": "code",
   "execution_count": 130,
   "metadata": {},
   "outputs": [
    {
     "data": {
      "text/html": [
       "<div>\n",
       "<style>\n",
       "    .dataframe thead tr:only-child th {\n",
       "        text-align: right;\n",
       "    }\n",
       "\n",
       "    .dataframe thead th {\n",
       "        text-align: left;\n",
       "    }\n",
       "\n",
       "    .dataframe tbody tr th {\n",
       "        vertical-align: top;\n",
       "    }\n",
       "</style>\n",
       "<table border=\"1\" class=\"dataframe\">\n",
       "  <thead>\n",
       "    <tr style=\"text-align: right;\">\n",
       "      <th></th>\n",
       "      <th>Track Name</th>\n",
       "      <th>Artist</th>\n",
       "      <th>ID</th>\n",
       "      <th>Lyrics</th>\n",
       "      <th>Acousticness</th>\n",
       "      <th>Energy</th>\n",
       "      <th>Instrumentalness</th>\n",
       "      <th>Mode</th>\n",
       "      <th>Tempo</th>\n",
       "      <th>Valence</th>\n",
       "    </tr>\n",
       "  </thead>\n",
       "  <tbody>\n",
       "    <tr>\n",
       "      <th>0</th>\n",
       "      <td>Bye Bye Bye</td>\n",
       "      <td>*NSYNC</td>\n",
       "      <td>4r8lRYnoOGdEi6YyI5OC1o</td>\n",
       "      <td>hey, hey bye bye bye, bye bye bye bye  i'm doi...</td>\n",
       "      <td>0.0408</td>\n",
       "      <td>0.928</td>\n",
       "      <td>0.00104</td>\n",
       "      <td>0.0</td>\n",
       "      <td>172.656</td>\n",
       "      <td>0.8790</td>\n",
       "    </tr>\n",
       "    <tr>\n",
       "      <th>1</th>\n",
       "      <td>Merry Christmas, Happy Holidays</td>\n",
       "      <td>*NSYNC</td>\n",
       "      <td>15coTBAzEN1bOeipoNDZAR</td>\n",
       "      <td>merry christmas and happy holidays merry chris...</td>\n",
       "      <td>0.1030</td>\n",
       "      <td>0.939</td>\n",
       "      <td>0.00000</td>\n",
       "      <td>1.0</td>\n",
       "      <td>105.003</td>\n",
       "      <td>0.7560</td>\n",
       "    </tr>\n",
       "    <tr>\n",
       "      <th>43</th>\n",
       "      <td>Douce Nuit</td>\n",
       "      <td>-M-</td>\n",
       "      <td>4EOJWkvkVDpkZrhC8iTDsI</td>\n",
       "      <td>NaN</td>\n",
       "      <td>0.9140</td>\n",
       "      <td>0.227</td>\n",
       "      <td>0.16300</td>\n",
       "      <td>1.0</td>\n",
       "      <td>81.887</td>\n",
       "      <td>0.0498</td>\n",
       "    </tr>\n",
       "  </tbody>\n",
       "</table>\n",
       "</div>"
      ],
      "text/plain": [
       "                         Track Name  Artist                      ID  \\\n",
       "0                       Bye Bye Bye  *NSYNC  4r8lRYnoOGdEi6YyI5OC1o   \n",
       "1   Merry Christmas, Happy Holidays  *NSYNC  15coTBAzEN1bOeipoNDZAR   \n",
       "43                       Douce Nuit     -M-  4EOJWkvkVDpkZrhC8iTDsI   \n",
       "\n",
       "                                               Lyrics  Acousticness  Energy  \\\n",
       "0   hey, hey bye bye bye, bye bye bye bye  i'm doi...        0.0408   0.928   \n",
       "1   merry christmas and happy holidays merry chris...        0.1030   0.939   \n",
       "43                                                NaN        0.9140   0.227   \n",
       "\n",
       "    Instrumentalness  Mode    Tempo  Valence  \n",
       "0            0.00104   0.0  172.656   0.8790  \n",
       "1            0.00000   1.0  105.003   0.7560  \n",
       "43           0.16300   1.0   81.887   0.0498  "
      ]
     },
     "execution_count": 130,
     "metadata": {},
     "output_type": "execute_result"
    }
   ],
   "source": [
    "data_per_song = data_per_song.drop(['Unnamed: 0', 'Position', 'Streams', 'Date', 'Year', 'Month', 'Day', 'Country',\n",
    "                                   'Region'], axis=1)\n",
    "data_per_song.head(3)"
   ]
  },
  {
   "cell_type": "markdown",
   "metadata": {},
   "source": [
    "#### Combine the 2 data frames with columns that may and may not change per song"
   ]
  },
  {
   "cell_type": "code",
   "execution_count": 131,
   "metadata": {},
   "outputs": [
    {
     "data": {
      "text/html": [
       "<div>\n",
       "<style>\n",
       "    .dataframe thead tr:only-child th {\n",
       "        text-align: right;\n",
       "    }\n",
       "\n",
       "    .dataframe thead th {\n",
       "        text-align: left;\n",
       "    }\n",
       "\n",
       "    .dataframe tbody tr th {\n",
       "        vertical-align: top;\n",
       "    }\n",
       "</style>\n",
       "<table border=\"1\" class=\"dataframe\">\n",
       "  <thead>\n",
       "    <tr style=\"text-align: right;\">\n",
       "      <th></th>\n",
       "      <th>Track Name</th>\n",
       "      <th>Artist</th>\n",
       "      <th>ID</th>\n",
       "      <th>Lyrics</th>\n",
       "      <th>Acousticness</th>\n",
       "      <th>Energy</th>\n",
       "      <th>Instrumentalness</th>\n",
       "      <th>Mode</th>\n",
       "      <th>Tempo</th>\n",
       "      <th>Valence</th>\n",
       "      <th>...</th>\n",
       "      <th>193</th>\n",
       "      <th>194</th>\n",
       "      <th>195</th>\n",
       "      <th>196</th>\n",
       "      <th>197</th>\n",
       "      <th>198</th>\n",
       "      <th>199</th>\n",
       "      <th>200</th>\n",
       "      <th>avg_Streams</th>\n",
       "      <th>avg_Position</th>\n",
       "    </tr>\n",
       "  </thead>\n",
       "  <tbody>\n",
       "    <tr>\n",
       "      <th>0</th>\n",
       "      <td>Bye Bye Bye</td>\n",
       "      <td>*NSYNC</td>\n",
       "      <td>4r8lRYnoOGdEi6YyI5OC1o</td>\n",
       "      <td>hey, hey bye bye bye, bye bye bye bye  i'm doi...</td>\n",
       "      <td>0.0408</td>\n",
       "      <td>0.928</td>\n",
       "      <td>0.00104</td>\n",
       "      <td>0.0</td>\n",
       "      <td>172.656</td>\n",
       "      <td>0.8790</td>\n",
       "      <td>...</td>\n",
       "      <td>0.0</td>\n",
       "      <td>0.0</td>\n",
       "      <td>0.0</td>\n",
       "      <td>0.0</td>\n",
       "      <td>0.0</td>\n",
       "      <td>0.0</td>\n",
       "      <td>0.0</td>\n",
       "      <td>0.0</td>\n",
       "      <td>4.910738</td>\n",
       "      <td>0.021525</td>\n",
       "    </tr>\n",
       "    <tr>\n",
       "      <th>1</th>\n",
       "      <td>Merry Christmas, Happy Holidays</td>\n",
       "      <td>*NSYNC</td>\n",
       "      <td>15coTBAzEN1bOeipoNDZAR</td>\n",
       "      <td>merry christmas and happy holidays merry chris...</td>\n",
       "      <td>0.1030</td>\n",
       "      <td>0.939</td>\n",
       "      <td>0.00000</td>\n",
       "      <td>1.0</td>\n",
       "      <td>105.003</td>\n",
       "      <td>0.7560</td>\n",
       "      <td>...</td>\n",
       "      <td>0.0</td>\n",
       "      <td>0.0</td>\n",
       "      <td>0.0</td>\n",
       "      <td>0.0</td>\n",
       "      <td>1.0</td>\n",
       "      <td>0.0</td>\n",
       "      <td>0.0</td>\n",
       "      <td>0.0</td>\n",
       "      <td>483.813207</td>\n",
       "      <td>0.627873</td>\n",
       "    </tr>\n",
       "    <tr>\n",
       "      <th>2</th>\n",
       "      <td>Douce Nuit</td>\n",
       "      <td>-M-</td>\n",
       "      <td>4EOJWkvkVDpkZrhC8iTDsI</td>\n",
       "      <td>NaN</td>\n",
       "      <td>0.9140</td>\n",
       "      <td>0.227</td>\n",
       "      <td>0.16300</td>\n",
       "      <td>1.0</td>\n",
       "      <td>81.887</td>\n",
       "      <td>0.0498</td>\n",
       "      <td>...</td>\n",
       "      <td>0.0</td>\n",
       "      <td>0.0</td>\n",
       "      <td>0.0</td>\n",
       "      <td>0.0</td>\n",
       "      <td>0.0</td>\n",
       "      <td>0.0</td>\n",
       "      <td>0.0</td>\n",
       "      <td>0.0</td>\n",
       "      <td>5.233735</td>\n",
       "      <td>0.017877</td>\n",
       "    </tr>\n",
       "  </tbody>\n",
       "</table>\n",
       "<p>3 rows × 220 columns</p>\n",
       "</div>"
      ],
      "text/plain": [
       "                        Track Name  Artist                      ID  \\\n",
       "0                      Bye Bye Bye  *NSYNC  4r8lRYnoOGdEi6YyI5OC1o   \n",
       "1  Merry Christmas, Happy Holidays  *NSYNC  15coTBAzEN1bOeipoNDZAR   \n",
       "2                       Douce Nuit     -M-  4EOJWkvkVDpkZrhC8iTDsI   \n",
       "\n",
       "                                              Lyrics  Acousticness  Energy  \\\n",
       "0  hey, hey bye bye bye, bye bye bye bye  i'm doi...        0.0408   0.928   \n",
       "1  merry christmas and happy holidays merry chris...        0.1030   0.939   \n",
       "2                                                NaN        0.9140   0.227   \n",
       "\n",
       "   Instrumentalness  Mode    Tempo  Valence      ...       193  194  195  196  \\\n",
       "0           0.00104   0.0  172.656   0.8790      ...       0.0  0.0  0.0  0.0   \n",
       "1           0.00000   1.0  105.003   0.7560      ...       0.0  0.0  0.0  0.0   \n",
       "2           0.16300   1.0   81.887   0.0498      ...       0.0  0.0  0.0  0.0   \n",
       "\n",
       "   197  198  199  200  avg_Streams  avg_Position  \n",
       "0  0.0  0.0  0.0  0.0     4.910738      0.021525  \n",
       "1  1.0  0.0  0.0  0.0   483.813207      0.627873  \n",
       "2  0.0  0.0  0.0  0.0     5.233735      0.017877  \n",
       "\n",
       "[3 rows x 220 columns]"
      ]
     },
     "execution_count": 131,
     "metadata": {},
     "output_type": "execute_result"
    }
   ],
   "source": [
    "big_df_song = data_per_song.merge(data_cps, how='inner', on='ID')\n",
    "big_df_song.head(3)"
   ]
  },
  {
   "cell_type": "markdown",
   "metadata": {},
   "source": [
    "#### Drop rows that have missing values in the Lyrics column <BR />\n",
    "We can use dropna to drop all rows that has missing values (should mostly be the Lyrics column)"
   ]
  },
  {
   "cell_type": "code",
   "execution_count": 132,
   "metadata": {},
   "outputs": [
    {
     "data": {
      "text/plain": [
       "8223"
      ]
     },
     "execution_count": 132,
     "metadata": {},
     "output_type": "execute_result"
    }
   ],
   "source": [
    "len(big_df_song)"
   ]
  },
  {
   "cell_type": "code",
   "execution_count": 133,
   "metadata": {
    "collapsed": true
   },
   "outputs": [],
   "source": [
    "big_df_song = big_df_song.dropna(axis=0, how='any')"
   ]
  },
  {
   "cell_type": "code",
   "execution_count": 134,
   "metadata": {},
   "outputs": [
    {
     "data": {
      "text/plain": [
       "4995"
      ]
     },
     "execution_count": 134,
     "metadata": {},
     "output_type": "execute_result"
    }
   ],
   "source": [
    "len(big_df_song)"
   ]
  },
  {
   "cell_type": "markdown",
   "metadata": {},
   "source": [
    "### TextBlob"
   ]
  },
  {
   "cell_type": "markdown",
   "metadata": {},
   "source": [
    "#### Turn the lyrics in the Lyrics column into string"
   ]
  },
  {
   "cell_type": "code",
   "execution_count": 135,
   "metadata": {
    "collapsed": true
   },
   "outputs": [],
   "source": [
    "big_df_song['Lyrics'] = big_df_song['Lyrics'].astype(str)"
   ]
  },
  {
   "cell_type": "markdown",
   "metadata": {},
   "source": [
    "#### Make and run function for TextBlob on the Lyrics"
   ]
  },
  {
   "cell_type": "code",
   "execution_count": 136,
   "metadata": {
    "collapsed": true
   },
   "outputs": [],
   "source": [
    "def sentiment_func(lyrics):\n",
    "    try:\n",
    "        return TextBlob(lyrics).sentiment\n",
    "    except:\n",
    "        return None"
   ]
  },
  {
   "cell_type": "code",
   "execution_count": 137,
   "metadata": {
    "collapsed": true
   },
   "outputs": [],
   "source": [
    "big_df_song['pol_sub'] = big_df_song['Lyrics'].apply(sentiment_func)"
   ]
  },
  {
   "cell_type": "markdown",
   "metadata": {},
   "source": [
    "#### Split the pol_sub column into 2 new columns (Polarity, Subjectivity)"
   ]
  },
  {
   "cell_type": "code",
   "execution_count": 138,
   "metadata": {
    "collapsed": true
   },
   "outputs": [],
   "source": [
    "big_df_song['Polarity'] = big_df_song['pol_sub'].apply(lambda x: x[0])\n",
    "big_df_song['Subjectivity'] = big_df_song['pol_sub'].apply(lambda x: x[1])"
   ]
  },
  {
   "cell_type": "markdown",
   "metadata": {},
   "source": [
    "#### Drop the pol_sub column"
   ]
  },
  {
   "cell_type": "code",
   "execution_count": 139,
   "metadata": {
    "collapsed": true
   },
   "outputs": [],
   "source": [
    "big_df_song = big_df_song.drop(['pol_sub'], axis=1)"
   ]
  },
  {
   "cell_type": "markdown",
   "metadata": {},
   "source": [
    "### Do a quick check of the entire data frame"
   ]
  },
  {
   "cell_type": "code",
   "execution_count": 140,
   "metadata": {},
   "outputs": [
    {
     "data": {
      "text/html": [
       "<div>\n",
       "<style>\n",
       "    .dataframe thead tr:only-child th {\n",
       "        text-align: right;\n",
       "    }\n",
       "\n",
       "    .dataframe thead th {\n",
       "        text-align: left;\n",
       "    }\n",
       "\n",
       "    .dataframe tbody tr th {\n",
       "        vertical-align: top;\n",
       "    }\n",
       "</style>\n",
       "<table border=\"1\" class=\"dataframe\">\n",
       "  <thead>\n",
       "    <tr style=\"text-align: right;\">\n",
       "      <th></th>\n",
       "      <th>Track Name</th>\n",
       "      <th>Artist</th>\n",
       "      <th>ID</th>\n",
       "      <th>Lyrics</th>\n",
       "      <th>Acousticness</th>\n",
       "      <th>Energy</th>\n",
       "      <th>Instrumentalness</th>\n",
       "      <th>Mode</th>\n",
       "      <th>Tempo</th>\n",
       "      <th>Valence</th>\n",
       "      <th>...</th>\n",
       "      <th>195</th>\n",
       "      <th>196</th>\n",
       "      <th>197</th>\n",
       "      <th>198</th>\n",
       "      <th>199</th>\n",
       "      <th>200</th>\n",
       "      <th>avg_Streams</th>\n",
       "      <th>avg_Position</th>\n",
       "      <th>Polarity</th>\n",
       "      <th>Subjectivity</th>\n",
       "    </tr>\n",
       "  </thead>\n",
       "  <tbody>\n",
       "    <tr>\n",
       "      <th>0</th>\n",
       "      <td>Bye Bye Bye</td>\n",
       "      <td>*NSYNC</td>\n",
       "      <td>4r8lRYnoOGdEi6YyI5OC1o</td>\n",
       "      <td>hey, hey bye bye bye, bye bye bye bye  i'm doi...</td>\n",
       "      <td>0.0408</td>\n",
       "      <td>0.928</td>\n",
       "      <td>0.00104</td>\n",
       "      <td>0.0</td>\n",
       "      <td>172.656</td>\n",
       "      <td>0.879</td>\n",
       "      <td>...</td>\n",
       "      <td>0.0</td>\n",
       "      <td>0.0</td>\n",
       "      <td>0.0</td>\n",
       "      <td>0.0</td>\n",
       "      <td>0.0</td>\n",
       "      <td>0.0</td>\n",
       "      <td>4.910738</td>\n",
       "      <td>0.021525</td>\n",
       "      <td>-0.044455</td>\n",
       "      <td>0.590802</td>\n",
       "    </tr>\n",
       "    <tr>\n",
       "      <th>1</th>\n",
       "      <td>Merry Christmas, Happy Holidays</td>\n",
       "      <td>*NSYNC</td>\n",
       "      <td>15coTBAzEN1bOeipoNDZAR</td>\n",
       "      <td>merry christmas and happy holidays merry chris...</td>\n",
       "      <td>0.1030</td>\n",
       "      <td>0.939</td>\n",
       "      <td>0.00000</td>\n",
       "      <td>1.0</td>\n",
       "      <td>105.003</td>\n",
       "      <td>0.756</td>\n",
       "      <td>...</td>\n",
       "      <td>0.0</td>\n",
       "      <td>0.0</td>\n",
       "      <td>1.0</td>\n",
       "      <td>0.0</td>\n",
       "      <td>0.0</td>\n",
       "      <td>0.0</td>\n",
       "      <td>483.813207</td>\n",
       "      <td>0.627873</td>\n",
       "      <td>0.583150</td>\n",
       "      <td>0.670696</td>\n",
       "    </tr>\n",
       "    <tr>\n",
       "      <th>5</th>\n",
       "      <td>Somme</td>\n",
       "      <td>13 Block</td>\n",
       "      <td>2xkxBVJHf9jQsq7g46UtQx</td>\n",
       "      <td>J'ai fait l'aller, j'suis sur le retour\\nLa ma...</td>\n",
       "      <td>0.4940</td>\n",
       "      <td>0.678</td>\n",
       "      <td>0.00151</td>\n",
       "      <td>0.0</td>\n",
       "      <td>79.979</td>\n",
       "      <td>0.528</td>\n",
       "      <td>...</td>\n",
       "      <td>0.0</td>\n",
       "      <td>1.0</td>\n",
       "      <td>0.0</td>\n",
       "      <td>0.0</td>\n",
       "      <td>0.0</td>\n",
       "      <td>0.0</td>\n",
       "      <td>4.951356</td>\n",
       "      <td>0.046820</td>\n",
       "      <td>0.173810</td>\n",
       "      <td>0.541667</td>\n",
       "    </tr>\n",
       "  </tbody>\n",
       "</table>\n",
       "<p>3 rows × 222 columns</p>\n",
       "</div>"
      ],
      "text/plain": [
       "                        Track Name    Artist                      ID  \\\n",
       "0                      Bye Bye Bye    *NSYNC  4r8lRYnoOGdEi6YyI5OC1o   \n",
       "1  Merry Christmas, Happy Holidays    *NSYNC  15coTBAzEN1bOeipoNDZAR   \n",
       "5                            Somme  13 Block  2xkxBVJHf9jQsq7g46UtQx   \n",
       "\n",
       "                                              Lyrics  Acousticness  Energy  \\\n",
       "0  hey, hey bye bye bye, bye bye bye bye  i'm doi...        0.0408   0.928   \n",
       "1  merry christmas and happy holidays merry chris...        0.1030   0.939   \n",
       "5  J'ai fait l'aller, j'suis sur le retour\\nLa ma...        0.4940   0.678   \n",
       "\n",
       "   Instrumentalness  Mode    Tempo  Valence      ...       195  196  197  198  \\\n",
       "0           0.00104   0.0  172.656    0.879      ...       0.0  0.0  0.0  0.0   \n",
       "1           0.00000   1.0  105.003    0.756      ...       0.0  0.0  1.0  0.0   \n",
       "5           0.00151   0.0   79.979    0.528      ...       0.0  1.0  0.0  0.0   \n",
       "\n",
       "   199  200  avg_Streams  avg_Position  Polarity  Subjectivity  \n",
       "0  0.0  0.0     4.910738      0.021525 -0.044455      0.590802  \n",
       "1  0.0  0.0   483.813207      0.627873  0.583150      0.670696  \n",
       "5  0.0  0.0     4.951356      0.046820  0.173810      0.541667  \n",
       "\n",
       "[3 rows x 222 columns]"
      ]
     },
     "execution_count": 140,
     "metadata": {},
     "output_type": "execute_result"
    }
   ],
   "source": [
    "big_df_song.head(3)"
   ]
  },
  {
   "cell_type": "code",
   "execution_count": 141,
   "metadata": {},
   "outputs": [
    {
     "name": "stdout",
     "output_type": "stream",
     "text": [
      "<class 'pandas.core.frame.DataFrame'>\n",
      "Int64Index: 4995 entries, 0 to 8222\n",
      "Columns: 222 entries, Track Name to Subjectivity\n",
      "dtypes: float64(218), object(4)\n",
      "memory usage: 8.5+ MB\n"
     ]
    }
   ],
   "source": [
    "big_df_song.info()"
   ]
  },
  {
   "cell_type": "markdown",
   "metadata": {},
   "source": [
    "#### Save data to csv"
   ]
  },
  {
   "cell_type": "code",
   "execution_count": 143,
   "metadata": {
    "collapsed": true
   },
   "outputs": [],
   "source": [
    "# load the data to a .csv\n",
    "big_df_song.to_csv('big_df_song20180401.csv')"
   ]
  },
  {
   "cell_type": "markdown",
   "metadata": {},
   "source": [
    "## Train/test split"
   ]
  },
  {
   "cell_type": "markdown",
   "metadata": {},
   "source": [
    "Divide the data into a train and a test set (with default size: train/test split size -> 0.75/0.25)"
   ]
  },
  {
   "cell_type": "code",
   "execution_count": 144,
   "metadata": {
    "collapsed": true
   },
   "outputs": [],
   "source": [
    "big_df_dep   = big_df_song['Valence']\n",
    "big_df_indep = big_df_song\n",
    "indep_train, indep_test, dep_train, dep_test = train_test_split(big_df_indep, big_df_dep, random_state=24)"
   ]
  },
  {
   "cell_type": "code",
   "execution_count": 145,
   "metadata": {},
   "outputs": [
    {
     "data": {
      "text/html": [
       "<div>\n",
       "<style>\n",
       "    .dataframe thead tr:only-child th {\n",
       "        text-align: right;\n",
       "    }\n",
       "\n",
       "    .dataframe thead th {\n",
       "        text-align: left;\n",
       "    }\n",
       "\n",
       "    .dataframe tbody tr th {\n",
       "        vertical-align: top;\n",
       "    }\n",
       "</style>\n",
       "<table border=\"1\" class=\"dataframe\">\n",
       "  <thead>\n",
       "    <tr style=\"text-align: right;\">\n",
       "      <th></th>\n",
       "      <th>Track Name</th>\n",
       "      <th>Artist</th>\n",
       "      <th>ID</th>\n",
       "      <th>Lyrics</th>\n",
       "      <th>Acousticness</th>\n",
       "      <th>Energy</th>\n",
       "      <th>Instrumentalness</th>\n",
       "      <th>Mode</th>\n",
       "      <th>Tempo</th>\n",
       "      <th>Valence</th>\n",
       "      <th>...</th>\n",
       "      <th>195</th>\n",
       "      <th>196</th>\n",
       "      <th>197</th>\n",
       "      <th>198</th>\n",
       "      <th>199</th>\n",
       "      <th>200</th>\n",
       "      <th>avg_Streams</th>\n",
       "      <th>avg_Position</th>\n",
       "      <th>Polarity</th>\n",
       "      <th>Subjectivity</th>\n",
       "    </tr>\n",
       "  </thead>\n",
       "  <tbody>\n",
       "    <tr>\n",
       "      <th>4697</th>\n",
       "      <td>In the Name of Love</td>\n",
       "      <td>Lorenzo Licitra</td>\n",
       "      <td>22f8oNe0PKMgWyO5YANK0N</td>\n",
       "      <td>Can you still see the dreams we shared so long...</td>\n",
       "      <td>0.219</td>\n",
       "      <td>0.783</td>\n",
       "      <td>0.0</td>\n",
       "      <td>1.0</td>\n",
       "      <td>124.028</td>\n",
       "      <td>0.205</td>\n",
       "      <td>...</td>\n",
       "      <td>0.0</td>\n",
       "      <td>0.0</td>\n",
       "      <td>0.0</td>\n",
       "      <td>0.0</td>\n",
       "      <td>0.0</td>\n",
       "      <td>0.0</td>\n",
       "      <td>62.547124</td>\n",
       "      <td>0.263894</td>\n",
       "      <td>0.388509</td>\n",
       "      <td>0.527640</td>\n",
       "    </tr>\n",
       "    <tr>\n",
       "      <th>1821</th>\n",
       "      <td>Avant</td>\n",
       "      <td>Djadja &amp; Dinaz</td>\n",
       "      <td>18ZQtwHl6ni4lZyocy6Ohr</td>\n",
       "      <td>C'est Dieu qui donne ma gueule\\nC'est lui qui ...</td>\n",
       "      <td>0.107</td>\n",
       "      <td>0.535</td>\n",
       "      <td>0.0</td>\n",
       "      <td>0.0</td>\n",
       "      <td>143.962</td>\n",
       "      <td>0.331</td>\n",
       "      <td>...</td>\n",
       "      <td>1.0</td>\n",
       "      <td>0.0</td>\n",
       "      <td>1.0</td>\n",
       "      <td>0.0</td>\n",
       "      <td>0.0</td>\n",
       "      <td>0.0</td>\n",
       "      <td>70.955004</td>\n",
       "      <td>0.336982</td>\n",
       "      <td>0.025000</td>\n",
       "      <td>0.400000</td>\n",
       "    </tr>\n",
       "    <tr>\n",
       "      <th>6563</th>\n",
       "      <td>Yours</td>\n",
       "      <td>Russell Dickerson</td>\n",
       "      <td>6RSNKGdv3nDTHqgw4bdzyF</td>\n",
       "      <td>i was a boat stuck in a bottle that never got ...</td>\n",
       "      <td>0.119</td>\n",
       "      <td>0.722</td>\n",
       "      <td>0.0</td>\n",
       "      <td>1.0</td>\n",
       "      <td>134.058</td>\n",
       "      <td>0.559</td>\n",
       "      <td>...</td>\n",
       "      <td>0.0</td>\n",
       "      <td>0.0</td>\n",
       "      <td>2.0</td>\n",
       "      <td>1.0</td>\n",
       "      <td>3.0</td>\n",
       "      <td>0.0</td>\n",
       "      <td>275.692934</td>\n",
       "      <td>0.273501</td>\n",
       "      <td>0.234936</td>\n",
       "      <td>0.473825</td>\n",
       "    </tr>\n",
       "  </tbody>\n",
       "</table>\n",
       "<p>3 rows × 222 columns</p>\n",
       "</div>"
      ],
      "text/plain": [
       "               Track Name             Artist                      ID  \\\n",
       "4697  In the Name of Love    Lorenzo Licitra  22f8oNe0PKMgWyO5YANK0N   \n",
       "1821                Avant     Djadja & Dinaz  18ZQtwHl6ni4lZyocy6Ohr   \n",
       "6563                Yours  Russell Dickerson  6RSNKGdv3nDTHqgw4bdzyF   \n",
       "\n",
       "                                                 Lyrics  Acousticness  Energy  \\\n",
       "4697  Can you still see the dreams we shared so long...         0.219   0.783   \n",
       "1821  C'est Dieu qui donne ma gueule\\nC'est lui qui ...         0.107   0.535   \n",
       "6563  i was a boat stuck in a bottle that never got ...         0.119   0.722   \n",
       "\n",
       "      Instrumentalness  Mode    Tempo  Valence      ...       195  196  197  \\\n",
       "4697               0.0   1.0  124.028    0.205      ...       0.0  0.0  0.0   \n",
       "1821               0.0   0.0  143.962    0.331      ...       1.0  0.0  1.0   \n",
       "6563               0.0   1.0  134.058    0.559      ...       0.0  0.0  2.0   \n",
       "\n",
       "      198  199  200  avg_Streams  avg_Position  Polarity  Subjectivity  \n",
       "4697  0.0  0.0  0.0    62.547124      0.263894  0.388509      0.527640  \n",
       "1821  0.0  0.0  0.0    70.955004      0.336982  0.025000      0.400000  \n",
       "6563  1.0  3.0  0.0   275.692934      0.273501  0.234936      0.473825  \n",
       "\n",
       "[3 rows x 222 columns]"
      ]
     },
     "execution_count": 145,
     "metadata": {},
     "output_type": "execute_result"
    }
   ],
   "source": [
    "indep_train.head(3)"
   ]
  },
  {
   "cell_type": "markdown",
   "metadata": {},
   "source": [
    "## NLP"
   ]
  },
  {
   "cell_type": "code",
   "execution_count": 146,
   "metadata": {
    "collapsed": true
   },
   "outputs": [],
   "source": [
    "# read in csv with stop words\n",
    "stop_words_df = pd.read_csv('./stop_words.csv')"
   ]
  },
  {
   "cell_type": "code",
   "execution_count": 147,
   "metadata": {
    "collapsed": true
   },
   "outputs": [],
   "source": [
    "# turn the df to list\n",
    "stop_words = stop_words_df['colummn'].tolist()"
   ]
  },
  {
   "cell_type": "markdown",
   "metadata": {},
   "source": [
    "### CountVectorizer (use in model 1)"
   ]
  },
  {
   "cell_type": "code",
   "execution_count": 148,
   "metadata": {
    "collapsed": true
   },
   "outputs": [],
   "source": [
    "# instantiate the model (stop-words the list of 4 languages and max top features 500)\n",
    "cvec = CountVectorizer(stop_words = stop_words, max_features = 500)"
   ]
  },
  {
   "cell_type": "markdown",
   "metadata": {},
   "source": [
    "**Train**"
   ]
  },
  {
   "cell_type": "code",
   "execution_count": 149,
   "metadata": {},
   "outputs": [
    {
     "data": {
      "text/plain": [
       "CountVectorizer(analyzer='word', binary=False, decode_error='strict',\n",
       "        dtype=<class 'numpy.int64'>, encoding='utf-8', input='content',\n",
       "        lowercase=True, max_df=1.0, max_features=500, min_df=1,\n",
       "        ngram_range=(1, 1), preprocessor=None,\n",
       "        stop_words=['a', 'about', 'above', 'across', 'after', 'afterwards', 'again', 'against', 'all', 'almost', 'alone', 'along', 'already', 'also', 'although', 'always', 'am', 'among', 'amongst', 'amoungst', 'amount', 'an', 'and', 'another', 'any', 'anyhow', 'anyone', 'anything', 'anyway', 'anywhere', 'ar...s', 'trabajais', 'trabajan', 'podria', 'podrias', 'podriamos', 'podrian', 'podriais', 'yo', 'aquel'],\n",
       "        strip_accents=None, token_pattern='(?u)\\\\b\\\\w\\\\w+\\\\b',\n",
       "        tokenizer=None, vocabulary=None)"
      ]
     },
     "execution_count": 149,
     "metadata": {},
     "output_type": "execute_result"
    }
   ],
   "source": [
    "# fit the count vectorizer with training data. \n",
    "cvec.fit(indep_train['Lyrics'])"
   ]
  },
  {
   "cell_type": "code",
   "execution_count": 150,
   "metadata": {
    "collapsed": true
   },
   "outputs": [],
   "source": [
    "# transform X_train\n",
    "cvec_data = cvec.transform(indep_train['Lyrics'])"
   ]
  },
  {
   "cell_type": "code",
   "execution_count": 151,
   "metadata": {},
   "outputs": [],
   "source": [
    "# Turn the features into a data frame\n",
    "df  = pd.DataFrame(cvec_data.todense(),columns=cvec.get_feature_names())"
   ]
  },
  {
   "cell_type": "code",
   "execution_count": 152,
   "metadata": {},
   "outputs": [
    {
     "data": {
      "text/plain": [
       "3746"
      ]
     },
     "execution_count": 152,
     "metadata": {},
     "output_type": "execute_result"
    }
   ],
   "source": [
    "len(indep_train)"
   ]
  },
  {
   "cell_type": "code",
   "execution_count": 153,
   "metadata": {},
   "outputs": [
    {
     "data": {
      "text/plain": [
       "3746"
      ]
     },
     "execution_count": 153,
     "metadata": {},
     "output_type": "execute_result"
    }
   ],
   "source": [
    "len(df)"
   ]
  },
  {
   "cell_type": "code",
   "execution_count": 154,
   "metadata": {},
   "outputs": [
    {
     "data": {
      "text/html": [
       "<div>\n",
       "<style>\n",
       "    .dataframe thead tr:only-child th {\n",
       "        text-align: right;\n",
       "    }\n",
       "\n",
       "    .dataframe thead th {\n",
       "        text-align: left;\n",
       "    }\n",
       "\n",
       "    .dataframe tbody tr th {\n",
       "        vertical-align: top;\n",
       "    }\n",
       "</style>\n",
       "<table border=\"1\" class=\"dataframe\">\n",
       "  <thead>\n",
       "    <tr style=\"text-align: right;\">\n",
       "      <th></th>\n",
       "      <th>Track Name</th>\n",
       "      <th>Artist</th>\n",
       "      <th>ID</th>\n",
       "      <th>Lyrics</th>\n",
       "      <th>Acousticness</th>\n",
       "      <th>Energy</th>\n",
       "      <th>Instrumentalness</th>\n",
       "      <th>Mode</th>\n",
       "      <th>Tempo</th>\n",
       "      <th>Valence</th>\n",
       "      <th>...</th>\n",
       "      <th>young</th>\n",
       "      <th>ze</th>\n",
       "      <th>zeg</th>\n",
       "      <th>zeit</th>\n",
       "      <th>zie</th>\n",
       "      <th>zieh</th>\n",
       "      <th>zijn</th>\n",
       "      <th>zo</th>\n",
       "      <th>étais</th>\n",
       "      <th>était</th>\n",
       "    </tr>\n",
       "  </thead>\n",
       "  <tbody>\n",
       "    <tr>\n",
       "      <th>0</th>\n",
       "      <td>In the Name of Love</td>\n",
       "      <td>Lorenzo Licitra</td>\n",
       "      <td>22f8oNe0PKMgWyO5YANK0N</td>\n",
       "      <td>Can you still see the dreams we shared so long...</td>\n",
       "      <td>0.219</td>\n",
       "      <td>0.783</td>\n",
       "      <td>0.0</td>\n",
       "      <td>1.0</td>\n",
       "      <td>124.028</td>\n",
       "      <td>0.205</td>\n",
       "      <td>...</td>\n",
       "      <td>3</td>\n",
       "      <td>0</td>\n",
       "      <td>0</td>\n",
       "      <td>0</td>\n",
       "      <td>0</td>\n",
       "      <td>0</td>\n",
       "      <td>0</td>\n",
       "      <td>0</td>\n",
       "      <td>0</td>\n",
       "      <td>0</td>\n",
       "    </tr>\n",
       "    <tr>\n",
       "      <th>1</th>\n",
       "      <td>Avant</td>\n",
       "      <td>Djadja &amp; Dinaz</td>\n",
       "      <td>18ZQtwHl6ni4lZyocy6Ohr</td>\n",
       "      <td>C'est Dieu qui donne ma gueule\\nC'est lui qui ...</td>\n",
       "      <td>0.107</td>\n",
       "      <td>0.535</td>\n",
       "      <td>0.0</td>\n",
       "      <td>0.0</td>\n",
       "      <td>143.962</td>\n",
       "      <td>0.331</td>\n",
       "      <td>...</td>\n",
       "      <td>0</td>\n",
       "      <td>0</td>\n",
       "      <td>0</td>\n",
       "      <td>0</td>\n",
       "      <td>0</td>\n",
       "      <td>0</td>\n",
       "      <td>0</td>\n",
       "      <td>0</td>\n",
       "      <td>6</td>\n",
       "      <td>0</td>\n",
       "    </tr>\n",
       "    <tr>\n",
       "      <th>2</th>\n",
       "      <td>Yours</td>\n",
       "      <td>Russell Dickerson</td>\n",
       "      <td>6RSNKGdv3nDTHqgw4bdzyF</td>\n",
       "      <td>i was a boat stuck in a bottle that never got ...</td>\n",
       "      <td>0.119</td>\n",
       "      <td>0.722</td>\n",
       "      <td>0.0</td>\n",
       "      <td>1.0</td>\n",
       "      <td>134.058</td>\n",
       "      <td>0.559</td>\n",
       "      <td>...</td>\n",
       "      <td>0</td>\n",
       "      <td>0</td>\n",
       "      <td>0</td>\n",
       "      <td>0</td>\n",
       "      <td>0</td>\n",
       "      <td>0</td>\n",
       "      <td>0</td>\n",
       "      <td>0</td>\n",
       "      <td>0</td>\n",
       "      <td>0</td>\n",
       "    </tr>\n",
       "  </tbody>\n",
       "</table>\n",
       "<p>3 rows × 722 columns</p>\n",
       "</div>"
      ],
      "text/plain": [
       "            Track Name             Artist                      ID  \\\n",
       "0  In the Name of Love    Lorenzo Licitra  22f8oNe0PKMgWyO5YANK0N   \n",
       "1                Avant     Djadja & Dinaz  18ZQtwHl6ni4lZyocy6Ohr   \n",
       "2                Yours  Russell Dickerson  6RSNKGdv3nDTHqgw4bdzyF   \n",
       "\n",
       "                                              Lyrics  Acousticness  Energy  \\\n",
       "0  Can you still see the dreams we shared so long...         0.219   0.783   \n",
       "1  C'est Dieu qui donne ma gueule\\nC'est lui qui ...         0.107   0.535   \n",
       "2  i was a boat stuck in a bottle that never got ...         0.119   0.722   \n",
       "\n",
       "   Instrumentalness  Mode    Tempo  Valence  ...    young  ze  zeg  zeit  zie  \\\n",
       "0               0.0   1.0  124.028    0.205  ...        3   0    0     0    0   \n",
       "1               0.0   0.0  143.962    0.331  ...        0   0    0     0    0   \n",
       "2               0.0   1.0  134.058    0.559  ...        0   0    0     0    0   \n",
       "\n",
       "   zieh  zijn  zo  étais  était  \n",
       "0     0     0   0      0      0  \n",
       "1     0     0   0      6      0  \n",
       "2     0     0   0      0      0  \n",
       "\n",
       "[3 rows x 722 columns]"
      ]
     },
     "execution_count": 154,
     "metadata": {},
     "output_type": "execute_result"
    }
   ],
   "source": [
    "# Concat with big data frame (use for fitting the model)\n",
    "indep_train_cvec = pd.concat([indep_train.reset_index(drop=True), df], axis=1)\n",
    "\n",
    "indep_train_cvec.head(3)"
   ]
  },
  {
   "cell_type": "code",
   "execution_count": 155,
   "metadata": {},
   "outputs": [
    {
     "data": {
      "text/plain": [
       "3746"
      ]
     },
     "execution_count": 155,
     "metadata": {},
     "output_type": "execute_result"
    }
   ],
   "source": [
    "# look and see that the shape look right\n",
    "len(indep_train_cvec)"
   ]
  },
  {
   "cell_type": "markdown",
   "metadata": {},
   "source": [
    "**Test**"
   ]
  },
  {
   "cell_type": "code",
   "execution_count": 156,
   "metadata": {
    "collapsed": true
   },
   "outputs": [],
   "source": [
    "# transform X_test\n",
    "cvec_data2 = cvec.transform(indep_test['Lyrics'])"
   ]
  },
  {
   "cell_type": "code",
   "execution_count": 157,
   "metadata": {
    "collapsed": true
   },
   "outputs": [],
   "source": [
    "# Turn the features into a data frame\n",
    "df2  = pd.DataFrame(cvec_data2.todense(),columns=cvec.get_feature_names())"
   ]
  },
  {
   "cell_type": "code",
   "execution_count": 158,
   "metadata": {},
   "outputs": [
    {
     "data": {
      "text/plain": [
       "1249"
      ]
     },
     "execution_count": 158,
     "metadata": {},
     "output_type": "execute_result"
    }
   ],
   "source": [
    "len(indep_test)"
   ]
  },
  {
   "cell_type": "code",
   "execution_count": 159,
   "metadata": {},
   "outputs": [
    {
     "data": {
      "text/plain": [
       "1249"
      ]
     },
     "execution_count": 159,
     "metadata": {},
     "output_type": "execute_result"
    }
   ],
   "source": [
    "len(df2)"
   ]
  },
  {
   "cell_type": "code",
   "execution_count": 160,
   "metadata": {},
   "outputs": [
    {
     "data": {
      "text/html": [
       "<div>\n",
       "<style>\n",
       "    .dataframe thead tr:only-child th {\n",
       "        text-align: right;\n",
       "    }\n",
       "\n",
       "    .dataframe thead th {\n",
       "        text-align: left;\n",
       "    }\n",
       "\n",
       "    .dataframe tbody tr th {\n",
       "        vertical-align: top;\n",
       "    }\n",
       "</style>\n",
       "<table border=\"1\" class=\"dataframe\">\n",
       "  <thead>\n",
       "    <tr style=\"text-align: right;\">\n",
       "      <th></th>\n",
       "      <th>Track Name</th>\n",
       "      <th>Artist</th>\n",
       "      <th>ID</th>\n",
       "      <th>Lyrics</th>\n",
       "      <th>Acousticness</th>\n",
       "      <th>Energy</th>\n",
       "      <th>Instrumentalness</th>\n",
       "      <th>Mode</th>\n",
       "      <th>Tempo</th>\n",
       "      <th>Valence</th>\n",
       "      <th>...</th>\n",
       "      <th>young</th>\n",
       "      <th>ze</th>\n",
       "      <th>zeg</th>\n",
       "      <th>zeit</th>\n",
       "      <th>zie</th>\n",
       "      <th>zieh</th>\n",
       "      <th>zijn</th>\n",
       "      <th>zo</th>\n",
       "      <th>étais</th>\n",
       "      <th>était</th>\n",
       "    </tr>\n",
       "  </thead>\n",
       "  <tbody>\n",
       "    <tr>\n",
       "      <th>0</th>\n",
       "      <td>Vide</td>\n",
       "      <td>13 Block</td>\n",
       "      <td>69RclklKbEelwfQJCBzh0m</td>\n",
       "      <td>13 Blo' gang, tu sais d'jà comment on opère mo...</td>\n",
       "      <td>0.5050</td>\n",
       "      <td>0.682</td>\n",
       "      <td>0.000006</td>\n",
       "      <td>0.0</td>\n",
       "      <td>112.063</td>\n",
       "      <td>0.514</td>\n",
       "      <td>...</td>\n",
       "      <td>0</td>\n",
       "      <td>0</td>\n",
       "      <td>0</td>\n",
       "      <td>0</td>\n",
       "      <td>0</td>\n",
       "      <td>0</td>\n",
       "      <td>0</td>\n",
       "      <td>0</td>\n",
       "      <td>1</td>\n",
       "      <td>0</td>\n",
       "    </tr>\n",
       "    <tr>\n",
       "      <th>1</th>\n",
       "      <td>Werken</td>\n",
       "      <td>Jonna Fraser</td>\n",
       "      <td>0qqzMM6JR2UlCyPanXRz3Y</td>\n",
       "      <td>Het komt niet vanzelf, moest werken\\nWe komen ...</td>\n",
       "      <td>0.0789</td>\n",
       "      <td>0.530</td>\n",
       "      <td>0.000025</td>\n",
       "      <td>0.0</td>\n",
       "      <td>133.903</td>\n",
       "      <td>0.288</td>\n",
       "      <td>...</td>\n",
       "      <td>0</td>\n",
       "      <td>6</td>\n",
       "      <td>3</td>\n",
       "      <td>0</td>\n",
       "      <td>2</td>\n",
       "      <td>0</td>\n",
       "      <td>1</td>\n",
       "      <td>1</td>\n",
       "      <td>0</td>\n",
       "      <td>0</td>\n",
       "    </tr>\n",
       "    <tr>\n",
       "      <th>2</th>\n",
       "      <td>Sweet Child O' Mine</td>\n",
       "      <td>Guns N' Roses</td>\n",
       "      <td>7o2CTH4ctstm8TNelqjb51</td>\n",
       "      <td>she's got a smile it seems to me reminds me of...</td>\n",
       "      <td>0.0801</td>\n",
       "      <td>0.911</td>\n",
       "      <td>0.146000</td>\n",
       "      <td>1.0</td>\n",
       "      <td>125.122</td>\n",
       "      <td>0.630</td>\n",
       "      <td>...</td>\n",
       "      <td>0</td>\n",
       "      <td>0</td>\n",
       "      <td>0</td>\n",
       "      <td>0</td>\n",
       "      <td>0</td>\n",
       "      <td>0</td>\n",
       "      <td>0</td>\n",
       "      <td>0</td>\n",
       "      <td>0</td>\n",
       "      <td>0</td>\n",
       "    </tr>\n",
       "  </tbody>\n",
       "</table>\n",
       "<p>3 rows × 722 columns</p>\n",
       "</div>"
      ],
      "text/plain": [
       "            Track Name         Artist                      ID  \\\n",
       "0                 Vide       13 Block  69RclklKbEelwfQJCBzh0m   \n",
       "1               Werken   Jonna Fraser  0qqzMM6JR2UlCyPanXRz3Y   \n",
       "2  Sweet Child O' Mine  Guns N' Roses  7o2CTH4ctstm8TNelqjb51   \n",
       "\n",
       "                                              Lyrics  Acousticness  Energy  \\\n",
       "0  13 Blo' gang, tu sais d'jà comment on opère mo...        0.5050   0.682   \n",
       "1  Het komt niet vanzelf, moest werken\\nWe komen ...        0.0789   0.530   \n",
       "2  she's got a smile it seems to me reminds me of...        0.0801   0.911   \n",
       "\n",
       "   Instrumentalness  Mode    Tempo  Valence  ...    young  ze  zeg  zeit  zie  \\\n",
       "0          0.000006   0.0  112.063    0.514  ...        0   0    0     0    0   \n",
       "1          0.000025   0.0  133.903    0.288  ...        0   6    3     0    2   \n",
       "2          0.146000   1.0  125.122    0.630  ...        0   0    0     0    0   \n",
       "\n",
       "   zieh  zijn  zo  étais  était  \n",
       "0     0     0   0      1      0  \n",
       "1     0     1   1      0      0  \n",
       "2     0     0   0      0      0  \n",
       "\n",
       "[3 rows x 722 columns]"
      ]
     },
     "execution_count": 160,
     "metadata": {},
     "output_type": "execute_result"
    }
   ],
   "source": [
    "# Concat with big data frame (use for scoring the model)\n",
    "indep_test_cvec = pd.concat([indep_test.reset_index(drop=True), df2], axis=1)\n",
    "\n",
    "indep_test_cvec.head(3)"
   ]
  },
  {
   "cell_type": "code",
   "execution_count": 161,
   "metadata": {
    "scrolled": true
   },
   "outputs": [
    {
     "data": {
      "text/plain": [
       "1249"
      ]
     },
     "execution_count": 161,
     "metadata": {},
     "output_type": "execute_result"
    }
   ],
   "source": [
    "# look and see that the shape look right\n",
    "len(indep_test_cvec)"
   ]
  },
  {
   "cell_type": "markdown",
   "metadata": {},
   "source": [
    "*If there are time in the future consider stemming or lemming* "
   ]
  },
  {
   "cell_type": "markdown",
   "metadata": {},
   "source": [
    "### TF-IDF (use in model 2)"
   ]
  },
  {
   "cell_type": "code",
   "execution_count": 162,
   "metadata": {},
   "outputs": [],
   "source": [
    "# instantiate the model (stop-words the list of 4 languages and max top features 500)\n",
    "tvec = TfidfVectorizer(stop_words = stop_words, max_features = 500) "
   ]
  },
  {
   "cell_type": "markdown",
   "metadata": {},
   "source": [
    "**Train**"
   ]
  },
  {
   "cell_type": "code",
   "execution_count": 163,
   "metadata": {},
   "outputs": [
    {
     "data": {
      "text/plain": [
       "TfidfVectorizer(analyzer='word', binary=False, decode_error='strict',\n",
       "        dtype=<class 'numpy.int64'>, encoding='utf-8', input='content',\n",
       "        lowercase=True, max_df=1.0, max_features=500, min_df=1,\n",
       "        ngram_range=(1, 1), norm='l2', preprocessor=None, smooth_idf=True,\n",
       "        stop_words=['a', 'about', 'above', 'across', 'after', 'afterwards', 'again', 'against', 'all', 'almost', 'alone', 'along', 'already', 'also', 'although', 'always', 'am', 'among', 'amongst', 'amoungst', 'amount', 'an', 'and', 'another', 'any', 'anyhow', 'anyone', 'anything', 'anyway', 'anywhere', 'ar...s', 'trabajais', 'trabajan', 'podria', 'podrias', 'podriamos', 'podrian', 'podriais', 'yo', 'aquel'],\n",
       "        strip_accents=None, sublinear_tf=False,\n",
       "        token_pattern='(?u)\\\\b\\\\w\\\\w+\\\\b', tokenizer=None, use_idf=True,\n",
       "        vocabulary=None)"
      ]
     },
     "execution_count": 163,
     "metadata": {},
     "output_type": "execute_result"
    }
   ],
   "source": [
    "# fit the count vectorizer with training data. \n",
    "tvec.fit(indep_train['Lyrics'])"
   ]
  },
  {
   "cell_type": "code",
   "execution_count": 164,
   "metadata": {
    "collapsed": true
   },
   "outputs": [],
   "source": [
    "# transform X_train\n",
    "tvec_data = tvec.transform(indep_train['Lyrics'])"
   ]
  },
  {
   "cell_type": "code",
   "execution_count": 165,
   "metadata": {
    "collapsed": true
   },
   "outputs": [],
   "source": [
    "# Turn the features into a data frame\n",
    "df3  = pd.DataFrame(tvec_data.todense(),columns=tvec.get_feature_names())"
   ]
  },
  {
   "cell_type": "code",
   "execution_count": 166,
   "metadata": {},
   "outputs": [
    {
     "data": {
      "text/plain": [
       "3746"
      ]
     },
     "execution_count": 166,
     "metadata": {},
     "output_type": "execute_result"
    }
   ],
   "source": [
    "len(indep_train)"
   ]
  },
  {
   "cell_type": "code",
   "execution_count": 167,
   "metadata": {},
   "outputs": [
    {
     "data": {
      "text/plain": [
       "3746"
      ]
     },
     "execution_count": 167,
     "metadata": {},
     "output_type": "execute_result"
    }
   ],
   "source": [
    "len(df3)"
   ]
  },
  {
   "cell_type": "code",
   "execution_count": 168,
   "metadata": {},
   "outputs": [
    {
     "data": {
      "text/html": [
       "<div>\n",
       "<style>\n",
       "    .dataframe thead tr:only-child th {\n",
       "        text-align: right;\n",
       "    }\n",
       "\n",
       "    .dataframe thead th {\n",
       "        text-align: left;\n",
       "    }\n",
       "\n",
       "    .dataframe tbody tr th {\n",
       "        vertical-align: top;\n",
       "    }\n",
       "</style>\n",
       "<table border=\"1\" class=\"dataframe\">\n",
       "  <thead>\n",
       "    <tr style=\"text-align: right;\">\n",
       "      <th></th>\n",
       "      <th>Track Name</th>\n",
       "      <th>Artist</th>\n",
       "      <th>ID</th>\n",
       "      <th>Lyrics</th>\n",
       "      <th>Acousticness</th>\n",
       "      <th>Energy</th>\n",
       "      <th>Instrumentalness</th>\n",
       "      <th>Mode</th>\n",
       "      <th>Tempo</th>\n",
       "      <th>Valence</th>\n",
       "      <th>...</th>\n",
       "      <th>young</th>\n",
       "      <th>ze</th>\n",
       "      <th>zeg</th>\n",
       "      <th>zeit</th>\n",
       "      <th>zie</th>\n",
       "      <th>zieh</th>\n",
       "      <th>zijn</th>\n",
       "      <th>zo</th>\n",
       "      <th>étais</th>\n",
       "      <th>était</th>\n",
       "    </tr>\n",
       "  </thead>\n",
       "  <tbody>\n",
       "    <tr>\n",
       "      <th>0</th>\n",
       "      <td>In the Name of Love</td>\n",
       "      <td>Lorenzo Licitra</td>\n",
       "      <td>22f8oNe0PKMgWyO5YANK0N</td>\n",
       "      <td>Can you still see the dreams we shared so long...</td>\n",
       "      <td>0.219</td>\n",
       "      <td>0.783</td>\n",
       "      <td>0.0</td>\n",
       "      <td>1.0</td>\n",
       "      <td>124.028</td>\n",
       "      <td>0.205</td>\n",
       "      <td>...</td>\n",
       "      <td>0.204224</td>\n",
       "      <td>0.0</td>\n",
       "      <td>0.0</td>\n",
       "      <td>0.0</td>\n",
       "      <td>0.0</td>\n",
       "      <td>0.0</td>\n",
       "      <td>0.0</td>\n",
       "      <td>0.0</td>\n",
       "      <td>0.000000</td>\n",
       "      <td>0.0</td>\n",
       "    </tr>\n",
       "    <tr>\n",
       "      <th>1</th>\n",
       "      <td>Avant</td>\n",
       "      <td>Djadja &amp; Dinaz</td>\n",
       "      <td>18ZQtwHl6ni4lZyocy6Ohr</td>\n",
       "      <td>C'est Dieu qui donne ma gueule\\nC'est lui qui ...</td>\n",
       "      <td>0.107</td>\n",
       "      <td>0.535</td>\n",
       "      <td>0.0</td>\n",
       "      <td>0.0</td>\n",
       "      <td>143.962</td>\n",
       "      <td>0.331</td>\n",
       "      <td>...</td>\n",
       "      <td>0.000000</td>\n",
       "      <td>0.0</td>\n",
       "      <td>0.0</td>\n",
       "      <td>0.0</td>\n",
       "      <td>0.0</td>\n",
       "      <td>0.0</td>\n",
       "      <td>0.0</td>\n",
       "      <td>0.0</td>\n",
       "      <td>0.432343</td>\n",
       "      <td>0.0</td>\n",
       "    </tr>\n",
       "    <tr>\n",
       "      <th>2</th>\n",
       "      <td>Yours</td>\n",
       "      <td>Russell Dickerson</td>\n",
       "      <td>6RSNKGdv3nDTHqgw4bdzyF</td>\n",
       "      <td>i was a boat stuck in a bottle that never got ...</td>\n",
       "      <td>0.119</td>\n",
       "      <td>0.722</td>\n",
       "      <td>0.0</td>\n",
       "      <td>1.0</td>\n",
       "      <td>134.058</td>\n",
       "      <td>0.559</td>\n",
       "      <td>...</td>\n",
       "      <td>0.000000</td>\n",
       "      <td>0.0</td>\n",
       "      <td>0.0</td>\n",
       "      <td>0.0</td>\n",
       "      <td>0.0</td>\n",
       "      <td>0.0</td>\n",
       "      <td>0.0</td>\n",
       "      <td>0.0</td>\n",
       "      <td>0.000000</td>\n",
       "      <td>0.0</td>\n",
       "    </tr>\n",
       "  </tbody>\n",
       "</table>\n",
       "<p>3 rows × 722 columns</p>\n",
       "</div>"
      ],
      "text/plain": [
       "            Track Name             Artist                      ID  \\\n",
       "0  In the Name of Love    Lorenzo Licitra  22f8oNe0PKMgWyO5YANK0N   \n",
       "1                Avant     Djadja & Dinaz  18ZQtwHl6ni4lZyocy6Ohr   \n",
       "2                Yours  Russell Dickerson  6RSNKGdv3nDTHqgw4bdzyF   \n",
       "\n",
       "                                              Lyrics  Acousticness  Energy  \\\n",
       "0  Can you still see the dreams we shared so long...         0.219   0.783   \n",
       "1  C'est Dieu qui donne ma gueule\\nC'est lui qui ...         0.107   0.535   \n",
       "2  i was a boat stuck in a bottle that never got ...         0.119   0.722   \n",
       "\n",
       "   Instrumentalness  Mode    Tempo  Valence  ...       young   ze  zeg  zeit  \\\n",
       "0               0.0   1.0  124.028    0.205  ...    0.204224  0.0  0.0   0.0   \n",
       "1               0.0   0.0  143.962    0.331  ...    0.000000  0.0  0.0   0.0   \n",
       "2               0.0   1.0  134.058    0.559  ...    0.000000  0.0  0.0   0.0   \n",
       "\n",
       "   zie  zieh  zijn   zo     étais  était  \n",
       "0  0.0   0.0   0.0  0.0  0.000000    0.0  \n",
       "1  0.0   0.0   0.0  0.0  0.432343    0.0  \n",
       "2  0.0   0.0   0.0  0.0  0.000000    0.0  \n",
       "\n",
       "[3 rows x 722 columns]"
      ]
     },
     "execution_count": 168,
     "metadata": {},
     "output_type": "execute_result"
    }
   ],
   "source": [
    "# Concat with big data frame (use for fitting the model)\n",
    "indep_train_tvec= pd.concat([indep_train.reset_index(drop=True), df3], axis=1)\n",
    "\n",
    "indep_train_tvec.head(3)"
   ]
  },
  {
   "cell_type": "code",
   "execution_count": 169,
   "metadata": {},
   "outputs": [
    {
     "data": {
      "text/plain": [
       "3746"
      ]
     },
     "execution_count": 169,
     "metadata": {},
     "output_type": "execute_result"
    }
   ],
   "source": [
    "# look and see that the shape look right\n",
    "len(indep_train_tvec)"
   ]
  },
  {
   "cell_type": "markdown",
   "metadata": {},
   "source": [
    "**Test**"
   ]
  },
  {
   "cell_type": "code",
   "execution_count": 170,
   "metadata": {
    "collapsed": true
   },
   "outputs": [],
   "source": [
    "# transform X_test\n",
    "tvec_data4 = tvec.transform(indep_test['Lyrics'])"
   ]
  },
  {
   "cell_type": "code",
   "execution_count": 171,
   "metadata": {
    "collapsed": true
   },
   "outputs": [],
   "source": [
    "# Turn the features into a data frame\n",
    "df4  = pd.DataFrame(tvec_data4.todense(),columns=tvec.get_feature_names())"
   ]
  },
  {
   "cell_type": "code",
   "execution_count": 172,
   "metadata": {},
   "outputs": [
    {
     "data": {
      "text/plain": [
       "1249"
      ]
     },
     "execution_count": 172,
     "metadata": {},
     "output_type": "execute_result"
    }
   ],
   "source": [
    "len(indep_test)"
   ]
  },
  {
   "cell_type": "code",
   "execution_count": 173,
   "metadata": {},
   "outputs": [
    {
     "data": {
      "text/plain": [
       "1249"
      ]
     },
     "execution_count": 173,
     "metadata": {},
     "output_type": "execute_result"
    }
   ],
   "source": [
    "len(df4)"
   ]
  },
  {
   "cell_type": "code",
   "execution_count": 174,
   "metadata": {},
   "outputs": [
    {
     "data": {
      "text/html": [
       "<div>\n",
       "<style>\n",
       "    .dataframe thead tr:only-child th {\n",
       "        text-align: right;\n",
       "    }\n",
       "\n",
       "    .dataframe thead th {\n",
       "        text-align: left;\n",
       "    }\n",
       "\n",
       "    .dataframe tbody tr th {\n",
       "        vertical-align: top;\n",
       "    }\n",
       "</style>\n",
       "<table border=\"1\" class=\"dataframe\">\n",
       "  <thead>\n",
       "    <tr style=\"text-align: right;\">\n",
       "      <th></th>\n",
       "      <th>Track Name</th>\n",
       "      <th>Artist</th>\n",
       "      <th>ID</th>\n",
       "      <th>Lyrics</th>\n",
       "      <th>Acousticness</th>\n",
       "      <th>Energy</th>\n",
       "      <th>Instrumentalness</th>\n",
       "      <th>Mode</th>\n",
       "      <th>Tempo</th>\n",
       "      <th>Valence</th>\n",
       "      <th>...</th>\n",
       "      <th>young</th>\n",
       "      <th>ze</th>\n",
       "      <th>zeg</th>\n",
       "      <th>zeit</th>\n",
       "      <th>zie</th>\n",
       "      <th>zieh</th>\n",
       "      <th>zijn</th>\n",
       "      <th>zo</th>\n",
       "      <th>étais</th>\n",
       "      <th>était</th>\n",
       "    </tr>\n",
       "  </thead>\n",
       "  <tbody>\n",
       "    <tr>\n",
       "      <th>0</th>\n",
       "      <td>Vide</td>\n",
       "      <td>13 Block</td>\n",
       "      <td>69RclklKbEelwfQJCBzh0m</td>\n",
       "      <td>13 Blo' gang, tu sais d'jà comment on opère mo...</td>\n",
       "      <td>0.5050</td>\n",
       "      <td>0.682</td>\n",
       "      <td>0.000006</td>\n",
       "      <td>0.0</td>\n",
       "      <td>112.063</td>\n",
       "      <td>0.514</td>\n",
       "      <td>...</td>\n",
       "      <td>0.0</td>\n",
       "      <td>0.000000</td>\n",
       "      <td>0.000000</td>\n",
       "      <td>0.0</td>\n",
       "      <td>0.000000</td>\n",
       "      <td>0.0</td>\n",
       "      <td>0.000000</td>\n",
       "      <td>0.000000</td>\n",
       "      <td>0.025733</td>\n",
       "      <td>0.0</td>\n",
       "    </tr>\n",
       "    <tr>\n",
       "      <th>1</th>\n",
       "      <td>Werken</td>\n",
       "      <td>Jonna Fraser</td>\n",
       "      <td>0qqzMM6JR2UlCyPanXRz3Y</td>\n",
       "      <td>Het komt niet vanzelf, moest werken\\nWe komen ...</td>\n",
       "      <td>0.0789</td>\n",
       "      <td>0.530</td>\n",
       "      <td>0.000025</td>\n",
       "      <td>0.0</td>\n",
       "      <td>133.903</td>\n",
       "      <td>0.288</td>\n",
       "      <td>...</td>\n",
       "      <td>0.0</td>\n",
       "      <td>0.123725</td>\n",
       "      <td>0.073429</td>\n",
       "      <td>0.0</td>\n",
       "      <td>0.047735</td>\n",
       "      <td>0.0</td>\n",
       "      <td>0.021651</td>\n",
       "      <td>0.024126</td>\n",
       "      <td>0.000000</td>\n",
       "      <td>0.0</td>\n",
       "    </tr>\n",
       "    <tr>\n",
       "      <th>2</th>\n",
       "      <td>Sweet Child O' Mine</td>\n",
       "      <td>Guns N' Roses</td>\n",
       "      <td>7o2CTH4ctstm8TNelqjb51</td>\n",
       "      <td>she's got a smile it seems to me reminds me of...</td>\n",
       "      <td>0.0801</td>\n",
       "      <td>0.911</td>\n",
       "      <td>0.146000</td>\n",
       "      <td>1.0</td>\n",
       "      <td>125.122</td>\n",
       "      <td>0.630</td>\n",
       "      <td>...</td>\n",
       "      <td>0.0</td>\n",
       "      <td>0.000000</td>\n",
       "      <td>0.000000</td>\n",
       "      <td>0.0</td>\n",
       "      <td>0.000000</td>\n",
       "      <td>0.0</td>\n",
       "      <td>0.000000</td>\n",
       "      <td>0.000000</td>\n",
       "      <td>0.000000</td>\n",
       "      <td>0.0</td>\n",
       "    </tr>\n",
       "  </tbody>\n",
       "</table>\n",
       "<p>3 rows × 722 columns</p>\n",
       "</div>"
      ],
      "text/plain": [
       "            Track Name         Artist                      ID  \\\n",
       "0                 Vide       13 Block  69RclklKbEelwfQJCBzh0m   \n",
       "1               Werken   Jonna Fraser  0qqzMM6JR2UlCyPanXRz3Y   \n",
       "2  Sweet Child O' Mine  Guns N' Roses  7o2CTH4ctstm8TNelqjb51   \n",
       "\n",
       "                                              Lyrics  Acousticness  Energy  \\\n",
       "0  13 Blo' gang, tu sais d'jà comment on opère mo...        0.5050   0.682   \n",
       "1  Het komt niet vanzelf, moest werken\\nWe komen ...        0.0789   0.530   \n",
       "2  she's got a smile it seems to me reminds me of...        0.0801   0.911   \n",
       "\n",
       "   Instrumentalness  Mode    Tempo  Valence  ...    young        ze       zeg  \\\n",
       "0          0.000006   0.0  112.063    0.514  ...      0.0  0.000000  0.000000   \n",
       "1          0.000025   0.0  133.903    0.288  ...      0.0  0.123725  0.073429   \n",
       "2          0.146000   1.0  125.122    0.630  ...      0.0  0.000000  0.000000   \n",
       "\n",
       "   zeit       zie  zieh      zijn        zo     étais  était  \n",
       "0   0.0  0.000000   0.0  0.000000  0.000000  0.025733    0.0  \n",
       "1   0.0  0.047735   0.0  0.021651  0.024126  0.000000    0.0  \n",
       "2   0.0  0.000000   0.0  0.000000  0.000000  0.000000    0.0  \n",
       "\n",
       "[3 rows x 722 columns]"
      ]
     },
     "execution_count": 174,
     "metadata": {},
     "output_type": "execute_result"
    }
   ],
   "source": [
    "# Concat with big data frame (use for scoring the model)\n",
    "indep_test_tvec = pd.concat([indep_test.reset_index(drop=True), df4], axis=1)\n",
    "\n",
    "indep_test_tvec.head(3)"
   ]
  },
  {
   "cell_type": "code",
   "execution_count": 175,
   "metadata": {
    "scrolled": true
   },
   "outputs": [
    {
     "data": {
      "text/plain": [
       "1249"
      ]
     },
     "execution_count": 175,
     "metadata": {},
     "output_type": "execute_result"
    }
   ],
   "source": [
    "# look and see that the shape look right\n",
    "len(indep_test_tvec)"
   ]
  },
  {
   "cell_type": "markdown",
   "metadata": {},
   "source": [
    "## Models (LinReg, Lasso, RF, Ada/Gradient Boost) - CountVec"
   ]
  },
  {
   "cell_type": "markdown",
   "metadata": {},
   "source": [
    "### Linear Regression"
   ]
  },
  {
   "cell_type": "code",
   "execution_count": 176,
   "metadata": {
    "collapsed": true
   },
   "outputs": [],
   "source": [
    "def evaluate_model(model, X_train, X_test, y_train, y_test):\n",
    "    # standardize the predictors\n",
    "    ss = StandardScaler()\n",
    "    ss.fit(X_train)\n",
    "    X_train_s = ss.transform(X_train)\n",
    "    X_test_s = ss.transform(X_test)\n",
    "    \n",
    "    # fit\n",
    "    model.fit(X_train_s, y_train)\n",
    "    \n",
    "    # Evaluate: predict and score\n",
    "    y_pred = model.predict(X_test_s)\n",
    "    y_true = y_test\n",
    "    \n",
    "    mean_square_error = np.sqrt(sklearn.metrics.mean_squared_error(y_true, y_pred))\n",
    "    \n",
    "    # Evaluate: score\n",
    "    score = model.score(X_test_s, y_test)\n",
    "    \n",
    "    return {'Score (R^2)': score.mean(), 'MSE': mean_square_error}"
   ]
  },
  {
   "cell_type": "markdown",
   "metadata": {},
   "source": [
    "#### LinReg #1 - CountVec + all coefs"
   ]
  },
  {
   "cell_type": "code",
   "execution_count": 177,
   "metadata": {},
   "outputs": [
    {
     "data": {
      "text/plain": [
       "{'MSE': 0.2179414544286909, 'Score (R^2)': 0.013486410677653882}"
      ]
     },
     "execution_count": 177,
     "metadata": {},
     "output_type": "execute_result"
    }
   ],
   "source": [
    "# define X and y\n",
    "X_train = indep_train_cvec.drop(['Track Name', 'Artist', 'ID', 'Lyrics', 'Valence'], axis=1)\n",
    "y_train = indep_train['Valence'] \n",
    "X_test = indep_test_cvec.drop(['Track Name', 'Artist', 'ID', 'Lyrics', 'Valence'], axis=1)\n",
    "y_test = indep_test['Valence']\n",
    "\n",
    "# chose model \n",
    "linreg = LinearRegression()\n",
    "\n",
    "# call function\n",
    "evaluate_model(linreg, X_train, X_test, y_train, y_test)"
   ]
  },
  {
   "cell_type": "markdown",
   "metadata": {},
   "source": [
    "**Importance of the coefficients**"
   ]
  },
  {
   "cell_type": "code",
   "execution_count": 178,
   "metadata": {},
   "outputs": [
    {
     "data": {
      "text/plain": [
       "boo             0.093560\n",
       "Energy          0.093037\n",
       "peek            0.089913\n",
       "23              0.049723\n",
       "Acousticness    0.033129\n",
       "2               0.031798\n",
       "43              0.030468\n",
       "14              0.029557\n",
       "76              0.027777\n",
       "27              0.027467\n",
       "dtype: float64"
      ]
     },
     "execution_count": 178,
     "metadata": {},
     "output_type": "execute_result"
    }
   ],
   "source": [
    "# Look at the feature importance with coef_\n",
    "pd.Series(dict(zip(X_train.columns,linreg.coef_))).abs().sort_values(ascending=False).head(10)"
   ]
  },
  {
   "cell_type": "markdown",
   "metadata": {},
   "source": [
    "#### LinReg #2 - CountrVec + top 10 coefs"
   ]
  },
  {
   "cell_type": "code",
   "execution_count": 184,
   "metadata": {},
   "outputs": [
    {
     "data": {
      "text/plain": [
       "{'MSE': 0.2014625390102933, 'Score (R^2)': 0.15703025345048383}"
      ]
     },
     "execution_count": 184,
     "metadata": {},
     "output_type": "execute_result"
    }
   ],
   "source": [
    "# define X and y\n",
    "X_train2 = indep_train_cvec[['boo', 'Energy', 'peek', 23, 'Acousticness', 2, 43, 14, 76, 27]]\n",
    "y_train2 = indep_train['Valence']\n",
    "X_test2 = indep_test_cvec[['boo', 'Energy', 'peek', 23, 'Acousticness', 2, 43, 14, 76, 27]]\n",
    "y_test2 = indep_test['Valence']\n",
    "\n",
    "# chose model \n",
    "linreg2 = LinearRegression()\n",
    "\n",
    "# call function\n",
    "evaluate_model(linreg2, X_train2, X_test2, y_train2, y_test2)"
   ]
  },
  {
   "cell_type": "markdown",
   "metadata": {},
   "source": [
    "#### LinReg #3 - CountrVec + top 3 coefs"
   ]
  },
  {
   "cell_type": "code",
   "execution_count": 186,
   "metadata": {},
   "outputs": [
    {
     "data": {
      "text/plain": [
       "{'MSE': 0.20245127414703298, 'Score (R^2)': 0.14873571822331177}"
      ]
     },
     "execution_count": 186,
     "metadata": {},
     "output_type": "execute_result"
    }
   ],
   "source": [
    "# define X and y\n",
    "X_train3 = indep_train_cvec[['boo', 'Energy', 'peek']]\n",
    "y_train3 = indep_train['Valence']\n",
    "X_test3 = indep_test_cvec[['boo', 'Energy', 'peek']]\n",
    "y_test3 = indep_test['Valence']\n",
    "\n",
    "# chose model \n",
    "linreg3 = LinearRegression()\n",
    "\n",
    "# call function\n",
    "evaluate_model(linreg3, X_train3, X_test3, y_train3, y_test3)"
   ]
  },
  {
   "cell_type": "markdown",
   "metadata": {},
   "source": [
    "*COMMENT: The best LinReg is nr 2*"
   ]
  },
  {
   "cell_type": "markdown",
   "metadata": {},
   "source": [
    "### Lasso Regressor"
   ]
  },
  {
   "cell_type": "code",
   "execution_count": 187,
   "metadata": {
    "collapsed": true
   },
   "outputs": [],
   "source": [
    "def get_best_hype(model, params, X_train, y_train):  \n",
    "    # standardize\n",
    "    ss = StandardScaler()\n",
    "    ss.fit(X_train)\n",
    "    X_train_s = ss.transform(X_train)\n",
    "    \n",
    "    # Best Hyperparameters\n",
    "    gs = GridSearchCV(model, grid) # cv default = 3\n",
    "    \n",
    "    # fit\n",
    "    gs.fit(X_train_s, y_train)\n",
    "     \n",
    "    return {'best_score': gs.best_score_,'best_params': gs.best_params_} \n",
    "\n",
    "def evaluate_model(model, X_train, X_test, y_train, y_test):\n",
    "    # standardize the predictors\n",
    "    ss = StandardScaler()\n",
    "    ss.fit(X_train)\n",
    "    X_train_s = ss.transform(X_train)\n",
    "    X_test_s = ss.transform(X_test)\n",
    "    \n",
    "    # fit\n",
    "    model.fit(X_train_s, y_train)\n",
    "    \n",
    "    # Evaluate: predict\n",
    "    \n",
    "    y_pred = model.predict(X_test_s)\n",
    "    y_true = y_test\n",
    "    \n",
    "    mean_square_error = np.sqrt(sklearn.metrics.mean_squared_error(y_true, y_pred))\n",
    "    \n",
    "    # Evaluate: score\n",
    "    score = model.score(X_test_s, y_test)\n",
    "    \n",
    "    return {'Score (R^2)': score.mean(), 'MSE': mean_square_error}"
   ]
  },
  {
   "cell_type": "markdown",
   "metadata": {},
   "source": [
    "**Lasso #1 - CountVec + all coefs**"
   ]
  },
  {
   "cell_type": "code",
   "execution_count": 188,
   "metadata": {},
   "outputs": [
    {
     "data": {
      "text/plain": [
       "{'best_params': {'alpha': 0.005336699231206312, 'selection': 'random'},\n",
       " 'best_score': 0.1679253962634286}"
      ]
     },
     "execution_count": 188,
     "metadata": {},
     "output_type": "execute_result"
    }
   ],
   "source": [
    "# Declare indep and dep\n",
    "X_train4 = indep_train_cvec.drop(['Track Name', 'Artist', 'ID', 'Lyrics', 'Valence'], axis=1)\n",
    "y_train4 = dep_train\n",
    "X_test4 = indep_test_cvec.drop(['Track Name', 'Artist', 'ID', 'Lyrics', 'Valence'], axis=1)\n",
    "y_test4 = dep_test\n",
    "\n",
    "# GridSearchCV\n",
    "grid = {'alpha': np.logspace(-3, 3, 100),\n",
    "        'selection' : ('cyclic', 'random')}\n",
    "\n",
    "lassoreg = Lasso(random_state=24, fit_intercept=True, normalize=False, max_iter=1000)\n",
    "\n",
    "get_best_hype(lassoreg, grid, X_train4, y_train4)"
   ]
  },
  {
   "cell_type": "code",
   "execution_count": 189,
   "metadata": {},
   "outputs": [
    {
     "data": {
      "text/plain": [
       "{'MSE': 0.19743399228941258, 'Score (R^2)': 0.19040608132068992}"
      ]
     },
     "execution_count": 189,
     "metadata": {},
     "output_type": "execute_result"
    }
   ],
   "source": [
    "# chose model and use best hyperparameters (from gridsearchCV)\n",
    "lassoreg = Lasso(random_state=24, fit_intercept=True, normalize=False, max_iter=1000, alpha=0.0053, selection='random')\n",
    "\n",
    "# call function\n",
    "evaluate_model(lassoreg, X_train4, X_test4, y_train4, y_test4)"
   ]
  },
  {
   "cell_type": "code",
   "execution_count": 190,
   "metadata": {},
   "outputs": [
    {
     "data": {
      "text/plain": [
       "Energy          0.082268\n",
       "Acousticness    0.021660\n",
       "baby            0.014524\n",
       "shit            0.007908\n",
       "je              0.006439\n",
       "vois            0.005920\n",
       "ogni            0.005694\n",
       "thing           0.005629\n",
       "mich            0.005187\n",
       "Mode            0.004763\n",
       "quando          0.004670\n",
       "girl            0.004613\n",
       "niggas          0.004450\n",
       "gonna           0.004327\n",
       "kommt           0.004090\n",
       "dtype: float64"
      ]
     },
     "execution_count": 190,
     "metadata": {},
     "output_type": "execute_result"
    }
   ],
   "source": [
    "# Look at the feature importance with coef_\n",
    "pd.Series(dict(zip(X_train4.columns,lassoreg.coef_))).abs().sort_values(ascending=False).head(15)"
   ]
  },
  {
   "cell_type": "markdown",
   "metadata": {},
   "source": [
    "#### Lasso #2 - CountVec + top 10 coefs"
   ]
  },
  {
   "cell_type": "code",
   "execution_count": 192,
   "metadata": {},
   "outputs": [
    {
     "data": {
      "text/plain": [
       "{'best_params': {'alpha': 0.001, 'selection': 'random'},\n",
       " 'best_score': 0.1727356149875209}"
      ]
     },
     "execution_count": 192,
     "metadata": {},
     "output_type": "execute_result"
    }
   ],
   "source": [
    "# Declare indep and dep\n",
    "X_train5 = indep_train_cvec[['Energy', 'Acousticness', 'baby', 'shit', 'je', 'vois', 'ogni', 'thing', 'mich', 'Mode']]\n",
    "y_train5 = dep_train\n",
    "X_test5 = indep_test_cvec[['Energy', 'Acousticness', 'baby', 'shit', 'je', 'vois', 'ogni', 'thing', 'mich', 'Mode']]\n",
    "y_test5= dep_test\n",
    "\n",
    "# GridSearchCV\n",
    "grid = {'alpha': np.logspace(-3, 3, 100),\n",
    "        'selection' : ('cyclic', 'random')}\n",
    "\n",
    "lassoreg2 = Lasso(random_state=24, fit_intercept=True, normalize=False, max_iter=1000)\n",
    "\n",
    "get_best_hype(lassoreg2, grid, X_train5, y_train5)"
   ]
  },
  {
   "cell_type": "code",
   "execution_count": 193,
   "metadata": {},
   "outputs": [
    {
     "data": {
      "text/plain": [
       "{'MSE': 0.19905943437873008, 'Score (R^2)': 0.1770206960698385}"
      ]
     },
     "execution_count": 193,
     "metadata": {},
     "output_type": "execute_result"
    }
   ],
   "source": [
    "# chose model and use best hyperparameters (from gridsearchCV)\n",
    "lassoreg2 = Lasso(random_state=24, fit_intercept=True, normalize=False, max_iter=1000, alpha=0.001, \n",
    "                  selection='random')\n",
    "\n",
    "# call function\n",
    "evaluate_model(lassoreg2, X_train5, X_test5, y_train5, y_test5)"
   ]
  },
  {
   "cell_type": "markdown",
   "metadata": {},
   "source": [
    "#### Lasso #3 - CountVec + top 3 coefs"
   ]
  },
  {
   "cell_type": "code",
   "execution_count": 194,
   "metadata": {},
   "outputs": [
    {
     "data": {
      "text/plain": [
       "{'best_params': {'alpha': 0.001, 'selection': 'cyclic'},\n",
       " 'best_score': 0.1523656182790846}"
      ]
     },
     "execution_count": 194,
     "metadata": {},
     "output_type": "execute_result"
    }
   ],
   "source": [
    "# Declare indep and dep\n",
    "X_train6 = indep_train_cvec[['Energy', 'Acousticness', 'baby']]\n",
    "y_train6 = dep_train\n",
    "X_test6 = indep_test_cvec[['Energy', 'Acousticness', 'baby']]\n",
    "y_test6 = dep_test\n",
    "\n",
    "# GridSearchCV\n",
    "grid = {'alpha': np.logspace(-3, 3, 100),\n",
    "        'selection' : ('cyclic', 'random')}\n",
    "\n",
    "lassoreg3 = Lasso(random_state=24, fit_intercept=True, normalize=False, max_iter=1000)\n",
    "\n",
    "get_best_hype(lassoreg3, grid, X_train6, y_train6)"
   ]
  },
  {
   "cell_type": "code",
   "execution_count": 195,
   "metadata": {},
   "outputs": [
    {
     "data": {
      "text/plain": [
       "{'MSE': 0.20021396415554327, 'Score (R^2)': 0.1674465753925105}"
      ]
     },
     "execution_count": 195,
     "metadata": {},
     "output_type": "execute_result"
    }
   ],
   "source": [
    "# chose model and use best hyperparameters (from gridsearchCV)\n",
    "lassoreg3 = Lasso(random_state=24, fit_intercept=True, normalize=False, max_iter=1000, alpha=0.001, \n",
    "                  selection='cyclic')\n",
    "\n",
    "# call function\n",
    "evaluate_model(lassoreg3, X_train6, X_test6, y_train6, y_test6)"
   ]
  },
  {
   "cell_type": "markdown",
   "metadata": {},
   "source": [
    "COMMENT: The best Lasso is nr 1"
   ]
  },
  {
   "cell_type": "markdown",
   "metadata": {},
   "source": [
    "### Random Forest Regressor"
   ]
  },
  {
   "cell_type": "markdown",
   "metadata": {},
   "source": [
    "You do not have to scale a Random Forest."
   ]
  },
  {
   "cell_type": "code",
   "execution_count": 200,
   "metadata": {
    "collapsed": true
   },
   "outputs": [],
   "source": [
    "def get_best_hype(model, params, X_train, y_train):  \n",
    "    # Best Hyperparameters\n",
    "    rs = RandomizedSearchCV(model, params, n_iter=40)\n",
    "    \n",
    "    # fit\n",
    "    rs.fit(X_train, y_train)\n",
    "     \n",
    "    return {'best_score': rs.best_score_,'best_params': rs.best_params_} \n",
    "\n",
    "def evaluate_model(model, X_train, X_test, y_train, y_test):\n",
    "    # fit\n",
    "    model.fit(X_train, y_train)\n",
    "    \n",
    "    # Evaluate: predict\n",
    "    y_pred = model.predict(X_test)\n",
    "    y_true = y_test\n",
    "    \n",
    "    mean_square_error = np.sqrt(sklearn.metrics.mean_squared_error(y_true, y_pred))\n",
    "    \n",
    "    # Evaluate: score\n",
    "    score = model.score(X_test, y_test)\n",
    "    \n",
    "    return {'Score (R^2)': score.mean(), 'MSE': mean_square_error}"
   ]
  },
  {
   "cell_type": "markdown",
   "metadata": {},
   "source": [
    "#### Random Forest #1 - CountVec + all coefs"
   ]
  },
  {
   "cell_type": "code",
   "execution_count": 201,
   "metadata": {},
   "outputs": [
    {
     "data": {
      "text/plain": [
       "{'best_params': {'bootstrap': True,\n",
       "  'max_depth': 17,\n",
       "  'max_features': 'auto',\n",
       "  'n_estimators': 90,\n",
       "  'verbose': 0},\n",
       " 'best_score': 0.20871812705647386}"
      ]
     },
     "execution_count": 201,
     "metadata": {},
     "output_type": "execute_result"
    }
   ],
   "source": [
    "# Declare indep and dep\n",
    "X_train7 = indep_train_cvec.drop(['Track Name', 'Artist', 'ID', 'Lyrics', 'Valence'], axis=1)\n",
    "y_train7 = indep_train['Valence']\n",
    "X_test7 = indep_test_cvec.drop(['Track Name', 'Artist', 'ID', 'Lyrics', 'Valence'], axis=1)\n",
    "y_test7 = indep_test['Valence']\n",
    "\n",
    "# RandomizedSearch\n",
    "params = {'n_estimators': np.arange(10, 100, 10),\n",
    "        'max_depth': np.arange(2, 20, 3),\n",
    "        'max_features' : ('auto', 'sqrt', 'log2'),\n",
    "        'bootstrap': (True, False),\n",
    "        'verbose' : np.arange(0, 1)}\n",
    "\n",
    "rfr = RandomForestRegressor(random_state=24)\n",
    "\n",
    "get_best_hype(rfr, params, X_train7, y_train7)"
   ]
  },
  {
   "cell_type": "code",
   "execution_count": 202,
   "metadata": {},
   "outputs": [
    {
     "data": {
      "text/plain": [
       "{'MSE': 0.19143976475573815, 'Score (R^2)': 0.23881944331529703}"
      ]
     },
     "execution_count": 202,
     "metadata": {},
     "output_type": "execute_result"
    }
   ],
   "source": [
    "# chose model and use best hyperparameters (from gridsearchCV)\n",
    "rfr = RandomForestRegressor(max_depth=17, max_features='auto', n_estimators=90, verbose=0, bootstrap=True, \n",
    "                            random_state=24)\n",
    "\n",
    "# call function\n",
    "evaluate_model(rfr, X_train7, X_test7, y_train7, y_test7)"
   ]
  },
  {
   "cell_type": "markdown",
   "metadata": {},
   "source": [
    "**Feature importance**"
   ]
  },
  {
   "cell_type": "code",
   "execution_count": 203,
   "metadata": {},
   "outputs": [
    {
     "data": {
      "text/plain": [
       "Energy              0.192581\n",
       "Acousticness        0.050103\n",
       "Tempo               0.023941\n",
       "Instrumentalness    0.022030\n",
       "Polarity            0.020314\n",
       "Subjectivity        0.018507\n",
       "avg_Position        0.016888\n",
       "baby                0.014300\n",
       "avg_Streams         0.012177\n",
       "oh                  0.007621\n",
       "girl                0.006776\n",
       "je                  0.005724\n",
       "come                0.004804\n",
       "niente              0.004740\n",
       "face                0.004653\n",
       "dtype: float64"
      ]
     },
     "execution_count": 203,
     "metadata": {},
     "output_type": "execute_result"
    }
   ],
   "source": [
    "pd.Series(dict(zip(X_train7.columns,rfr.feature_importances_))).abs().sort_values(ascending=False).head(15)"
   ]
  },
  {
   "cell_type": "markdown",
   "metadata": {},
   "source": [
    "#### Random Forest #2 - CountVec + top 10 features"
   ]
  },
  {
   "cell_type": "code",
   "execution_count": 204,
   "metadata": {},
   "outputs": [
    {
     "data": {
      "text/plain": [
       "{'best_params': {'bootstrap': True,\n",
       "  'max_depth': 14,\n",
       "  'max_features': 'sqrt',\n",
       "  'n_estimators': 80,\n",
       "  'verbose': 0},\n",
       " 'best_score': 0.17195895265810285}"
      ]
     },
     "execution_count": 204,
     "metadata": {},
     "output_type": "execute_result"
    }
   ],
   "source": [
    "# define X and y\n",
    "X_train8 = indep_train_cvec[['Energy', 'Acousticness', 'Tempo', 'Instrumentalness', 'Polarity', 'Subjectivity',\n",
    "                             'avg_Position','baby' , 'avg_Streams', 'oh']]\n",
    "y_train8 = indep_train['Valence']\n",
    "X_test8 = indep_test_cvec[['Energy', 'Acousticness', 'Tempo', 'Instrumentalness', 'Polarity', 'Subjectivity',\n",
    "                            'avg_Position','baby' , 'avg_Streams', 'oh']]\n",
    "y_test8 = indep_test['Valence']\n",
    "\n",
    "# RandomizedSearch\n",
    "params = {'n_estimators': np.arange(10, 100, 10),\n",
    "        'max_depth': np.arange(2, 20, 3),\n",
    "        'max_features' : ('auto', 'sqrt', 'log2'),\n",
    "        'bootstrap': (True, False),\n",
    "        'verbose' : np.arange(0, 1)}\n",
    "\n",
    "rfr2 = RandomForestRegressor(random_state=24)\n",
    "\n",
    "get_best_hype(rfr2, params, X_train8, y_train8)"
   ]
  },
  {
   "cell_type": "code",
   "execution_count": 205,
   "metadata": {},
   "outputs": [
    {
     "data": {
      "text/plain": [
       "{'MSE': 0.1945768784551271, 'Score (R^2)': 0.2136681876742127}"
      ]
     },
     "execution_count": 205,
     "metadata": {},
     "output_type": "execute_result"
    }
   ],
   "source": [
    "# chose model and use best hyperparameters (from gridsearchCV)\n",
    "rfr2 = RandomForestRegressor(max_depth=14, max_features='sqrt', n_estimators=80, verbose=0, bootstrap=True, \n",
    "                               random_state=24)\n",
    "\n",
    "# call function\n",
    "evaluate_model(rfr2, X_train8, X_test8, y_train8, y_test8)"
   ]
  },
  {
   "cell_type": "markdown",
   "metadata": {},
   "source": [
    "#### Random Forest #3 - CountVec + top 3 features"
   ]
  },
  {
   "cell_type": "code",
   "execution_count": 206,
   "metadata": {},
   "outputs": [
    {
     "data": {
      "text/plain": [
       "{'best_params': {'bootstrap': True,\n",
       "  'max_depth': 5,\n",
       "  'max_features': 'auto',\n",
       "  'n_estimators': 70,\n",
       "  'verbose': 0},\n",
       " 'best_score': 0.13675760805878304}"
      ]
     },
     "execution_count": 206,
     "metadata": {},
     "output_type": "execute_result"
    }
   ],
   "source": [
    "# define X and y\n",
    "X_train9 = indep_train_cvec[['Energy', 'Acousticness', 'Tempo']]\n",
    "y_train9 = indep_train['Valence']\n",
    "X_test9 = indep_test_cvec[['Energy', 'Acousticness', 'Tempo']]\n",
    "y_test9 = indep_test['Valence']\n",
    "\n",
    "# RandomizedSearch\n",
    "params = {'n_estimators': np.arange(10, 100, 10),\n",
    "        'max_depth': np.arange(2, 20, 3),\n",
    "        'max_features' : ('auto', 'sqrt', 'log2'),\n",
    "        'bootstrap': (True, False),\n",
    "        'verbose' : np.arange(0, 1)}\n",
    "\n",
    "rfr3 = RandomForestRegressor(random_state=24)\n",
    "\n",
    "get_best_hype(rfr3, params, X_train9, y_train9)"
   ]
  },
  {
   "cell_type": "code",
   "execution_count": 207,
   "metadata": {},
   "outputs": [
    {
     "data": {
      "text/plain": [
       "{'MSE': 0.20106329773140047, 'Score (R^2)': 0.16036799405429714}"
      ]
     },
     "execution_count": 207,
     "metadata": {},
     "output_type": "execute_result"
    }
   ],
   "source": [
    "# chose model and use best hyperparameters (from gridsearchCV)\n",
    "rfr3 = RandomForestRegressor(max_depth=5, max_features='auto', n_estimators=70, verbose=0, bootstrap=True, \n",
    "                               random_state=24)\n",
    "\n",
    "# call function\n",
    "evaluate_model(rfr3, X_train9, X_test9, y_train9, y_test9)"
   ]
  },
  {
   "cell_type": "markdown",
   "metadata": {},
   "source": [
    "COMMENT: The best RFr is nr 1"
   ]
  },
  {
   "cell_type": "markdown",
   "metadata": {},
   "source": [
    "### Ada and Gradient Boost"
   ]
  },
  {
   "cell_type": "code",
   "execution_count": 234,
   "metadata": {
    "collapsed": true
   },
   "outputs": [],
   "source": [
    "def get_best_hype(model, params, X_train, y_train):  \n",
    "    # standardize\n",
    "    ss = StandardScaler()\n",
    "    ss.fit(X_train)\n",
    "    X_train_s = ss.transform(X_train)\n",
    "     \n",
    "    # Best Hyperparameters\n",
    "    rs = RandomizedSearchCV(model, params, n_iter=27)\n",
    "    \n",
    "    # fit\n",
    "    rs.fit(X_train_s, y_train)\n",
    "     \n",
    "    return {'best_score': rs.best_score_,'best_params': rs.best_params_} \n",
    "\n",
    "def evaluate_model(model, X_train, X_test, y_train, y_test):\n",
    "    # standardize the predictors\n",
    "    ss = StandardScaler()\n",
    "    ss.fit(X_train)\n",
    "    X_train_s = ss.transform(X_train)\n",
    "    X_test_s = ss.transform(X_test)\n",
    "    \n",
    "    # fit\n",
    "    model.fit(X_train_s, y_train)\n",
    "    \n",
    "    # Evaluate: predict\n",
    "    y_pred = model.predict(X_test_s)\n",
    "    y_true = y_test\n",
    "    \n",
    "    mean_square_error = np.sqrt(sklearn.metrics.mean_squared_error(y_true, y_pred))\n",
    "    \n",
    "    # Evaluate: score\n",
    "    score = model.score(X_test_s, y_test)\n",
    "    \n",
    "    return {'Score (R^2)': score.mean(), 'MSE': mean_square_error}"
   ]
  },
  {
   "cell_type": "markdown",
   "metadata": {},
   "source": [
    "**Ada #1 - CountVec + all coefs**"
   ]
  },
  {
   "cell_type": "code",
   "execution_count": 236,
   "metadata": {},
   "outputs": [
    {
     "data": {
      "text/plain": [
       "{'best_params': {'loss': 'linear', 'n_estimators': 10},\n",
       " 'best_score': 0.1386397595627309}"
      ]
     },
     "execution_count": 236,
     "metadata": {},
     "output_type": "execute_result"
    }
   ],
   "source": [
    "# Declare indep and dep\n",
    "X_train10 = indep_train_cvec.drop(['Track Name', 'Artist', 'ID', 'Lyrics', 'Valence'], axis=1)\n",
    "y_train10 = indep_train['Valence']\n",
    "X_test10 = indep_test_cvec.drop(['Track Name', 'Artist', 'ID', 'Lyrics', 'Valence'], axis=1)\n",
    "y_test10 = indep_test['Valence']\n",
    "\n",
    "# RandomizedSearch\n",
    "params = {'n_estimators': np.arange(10, 100, 10),\n",
    "        'loss': ('linear', 'square', 'exponential')}\n",
    "\n",
    "ada = AdaBoostRegressor(random_state=24) \n",
    "# base_estimator = DecisionTreeRegressor() (default)\n",
    "# learning_rate: (default=1.0)\n",
    "\n",
    "get_best_hype(ada, params, X_train10, y_train10)"
   ]
  },
  {
   "cell_type": "code",
   "execution_count": 237,
   "metadata": {},
   "outputs": [
    {
     "data": {
      "text/plain": [
       "{'MSE': 0.20054058276262823, 'Score (R^2)': 0.1647279913503793}"
      ]
     },
     "execution_count": 237,
     "metadata": {},
     "output_type": "execute_result"
    }
   ],
   "source": [
    "# chose model and use best hyperparameters (from gridsearchCV)\n",
    "ada = AdaBoostRegressor(n_estimators=10, loss='linear', random_state=24)\n",
    "# I'm going with the default base_estimator, bc to choose a rfr is taking too long time\n",
    "\n",
    "# call function\n",
    "evaluate_model(ada, X_train10, X_test10, y_train10, y_test10)"
   ]
  },
  {
   "cell_type": "markdown",
   "metadata": {},
   "source": [
    "**Gradient #1 - CountVec + all coefs**"
   ]
  },
  {
   "cell_type": "code",
   "execution_count": 240,
   "metadata": {},
   "outputs": [
    {
     "data": {
      "text/plain": [
       "{'best_params': {'loss': 'lad',\n",
       "  'max_depth': 17,\n",
       "  'max_features': 'auto',\n",
       "  'n_estimators': 70,\n",
       "  'verbose': 0},\n",
       " 'best_score': 0.1991916076806668}"
      ]
     },
     "execution_count": 240,
     "metadata": {},
     "output_type": "execute_result"
    }
   ],
   "source": [
    "# Declare indep and dep\n",
    "X_train11 = indep_train_cvec.drop(['Track Name', 'Artist', 'ID', 'Lyrics', 'Valence'], axis=1)\n",
    "y_train11 = indep_train['Valence']\n",
    "X_test11 = indep_test_cvec.drop(['Track Name', 'Artist', 'ID', 'Lyrics', 'Valence'], axis=1)\n",
    "y_test11 = indep_test['Valence']\n",
    "\n",
    "# RandomizedSearch\n",
    "params = {'n_estimators': np.arange(10, 100, 10),\n",
    "        'loss': ('ls', 'lad', 'huber', 'quantile'),\n",
    "        'max_depth': np.arange(2, 20, 3),\n",
    "        'max_features' : ('auto', 'sqrt', 'log2'),\n",
    "        'verbose' : np.arange(0, 1)}\n",
    "\n",
    "\n",
    "grad = GradientBoostingRegressor(random_state=24) \n",
    "# learning_rate: (default=1.0)\n",
    "# init = BaseEstimator, default = None (loss.init_estimator)\n",
    "\n",
    "get_best_hype(grad, params, X_train11, y_train11)"
   ]
  },
  {
   "cell_type": "code",
   "execution_count": 241,
   "metadata": {},
   "outputs": [
    {
     "data": {
      "text/plain": [
       "{'MSE': 0.19230018959853998, 'Score (R^2)': 0.23196182446527358}"
      ]
     },
     "execution_count": 241,
     "metadata": {},
     "output_type": "execute_result"
    }
   ],
   "source": [
    "# chose model and use best hyperparameters (from gridsearchCV)\n",
    "grad = GradientBoostingRegressor(random_state=24, n_estimators=70, loss='lad', max_depth=17 , max_features='auto',\n",
    "                                 verbose=0)\n",
    "# if loss = huber or quantile we need a value for alpha\n",
    "\n",
    "# call function\n",
    "evaluate_model(grad, X_train11, X_test11, y_train11, y_test11)"
   ]
  },
  {
   "cell_type": "code",
   "execution_count": 243,
   "metadata": {},
   "outputs": [
    {
     "data": {
      "text/plain": [
       "Energy              0.039533\n",
       "Acousticness        0.031090\n",
       "Tempo               0.022811\n",
       "Subjectivity        0.018685\n",
       "Polarity            0.018403\n",
       "avg_Position        0.016253\n",
       "Instrumentalness    0.013438\n",
       "avg_Streams         0.012651\n",
       "baby                0.007217\n",
       "don                 0.006513\n",
       "yeah                0.006157\n",
       "love                0.005074\n",
       "know                0.005032\n",
       "oh                  0.004985\n",
       "ho                  0.004804\n",
       "dtype: float64"
      ]
     },
     "execution_count": 243,
     "metadata": {},
     "output_type": "execute_result"
    }
   ],
   "source": [
    "# Look at the feature importance with coef_\n",
    "pd.Series(dict(zip(X_train11.columns,grad.feature_importances_ ))).abs().sort_values(ascending=False).head(15)"
   ]
  },
  {
   "cell_type": "markdown",
   "metadata": {},
   "source": [
    "**Gradient #2 - CountVec + top 10 coefs**"
   ]
  },
  {
   "cell_type": "code",
   "execution_count": 245,
   "metadata": {},
   "outputs": [
    {
     "data": {
      "text/plain": [
       "{'best_params': {'loss': 'ls',\n",
       "  'max_depth': 5,\n",
       "  'max_features': 'log2',\n",
       "  'n_estimators': 90,\n",
       "  'verbose': 0},\n",
       " 'best_score': 0.15970099747442024}"
      ]
     },
     "execution_count": 245,
     "metadata": {},
     "output_type": "execute_result"
    }
   ],
   "source": [
    "# define X and y\n",
    "X_train12 = indep_train_cvec[['Energy', 'Acousticness', 'Tempo', 'Subjectivity', 'Polarity', 'avg_Position',\n",
    "                             'Instrumentalness','avg_Streams' , 'baby', 'don']]\n",
    "y_train12 = indep_train['Valence']\n",
    "X_test12 = indep_test_cvec[['Energy', 'Acousticness', 'Tempo', 'Subjectivity', 'Polarity', 'avg_Position',\n",
    "                             'Instrumentalness','avg_Streams' , 'baby', 'don']]\n",
    "y_test12 = indep_test['Valence']\n",
    "\n",
    "# RandomizedSearch\n",
    "params = {'n_estimators': np.arange(10, 100, 10),\n",
    "        'loss': ('ls', 'lad', 'huber', 'quantile'),\n",
    "        'max_depth': np.arange(2, 20, 3),\n",
    "        'max_features' : ('auto', 'sqrt', 'log2'),\n",
    "        'verbose' : np.arange(0, 1)}\n",
    "\n",
    "grad2 = GradientBoostingRegressor(random_state=24)\n",
    "\n",
    "get_best_hype(grad2, params, X_train12, y_train12)"
   ]
  },
  {
   "cell_type": "code",
   "execution_count": 246,
   "metadata": {},
   "outputs": [
    {
     "data": {
      "text/plain": [
       "{'MSE': 0.19797719681733944, 'Score (R^2)': 0.18594504541924428}"
      ]
     },
     "execution_count": 246,
     "metadata": {},
     "output_type": "execute_result"
    }
   ],
   "source": [
    "# chose model and use best hyperparameters (from gridsearchCV)\n",
    "grad2 = GradientBoostingRegressor(random_state=24, n_estimators=90, loss='ls', max_depth=5, max_features='log2',\n",
    "                                 verbose=0)\n",
    "\n",
    "# call function\n",
    "evaluate_model(grad2, X_train12, X_test12, y_train12, y_test12)"
   ]
  },
  {
   "cell_type": "markdown",
   "metadata": {},
   "source": [
    "**Gradient #2 - CountVec + top 3 coefs**"
   ]
  },
  {
   "cell_type": "code",
   "execution_count": 247,
   "metadata": {},
   "outputs": [
    {
     "data": {
      "text/plain": [
       "{'best_params': {'loss': 'lad',\n",
       "  'max_depth': 2,\n",
       "  'max_features': 'sqrt',\n",
       "  'n_estimators': 90,\n",
       "  'verbose': 0},\n",
       " 'best_score': 0.13125522850711863}"
      ]
     },
     "execution_count": 247,
     "metadata": {},
     "output_type": "execute_result"
    }
   ],
   "source": [
    "# define X and y\n",
    "X_train13 = indep_train_cvec[['Energy', 'Acousticness', 'Tempo']]\n",
    "y_train13 = indep_train['Valence']\n",
    "X_test13 = indep_test_cvec[['Energy', 'Acousticness', 'Tempo']]\n",
    "y_test13 = indep_test['Valence']\n",
    "\n",
    "# RandomizedSearch\n",
    "params = {'n_estimators': np.arange(10, 100, 10),\n",
    "        'loss': ('ls', 'lad', 'huber', 'quantile'),\n",
    "        'max_depth': np.arange(2, 20, 3),\n",
    "        'max_features' : ('auto', 'sqrt', 'log2'),\n",
    "        'verbose' : np.arange(0, 1)}\n",
    "\n",
    "grad3 = GradientBoostingRegressor(random_state=24)\n",
    "\n",
    "get_best_hype(grad3, params, X_train13, y_train13)"
   ]
  },
  {
   "cell_type": "code",
   "execution_count": 248,
   "metadata": {},
   "outputs": [
    {
     "data": {
      "text/plain": [
       "{'MSE': 0.2016439331889966, 'Score (R^2)': 0.15551157266177396}"
      ]
     },
     "execution_count": 248,
     "metadata": {},
     "output_type": "execute_result"
    }
   ],
   "source": [
    "# chose model and use best hyperparameters (from gridsearchCV)\n",
    "grad3 = GradientBoostingRegressor(random_state=24, n_estimators=90, loss='lad', max_depth=2, max_features='sqrt',\n",
    "                                 verbose=0)\n",
    "\n",
    "# call function\n",
    "evaluate_model(grad3, X_train13, X_test13, y_train13, y_test13)"
   ]
  },
  {
   "cell_type": "markdown",
   "metadata": {},
   "source": [
    "COMMENT: The best GradBr is nr 1"
   ]
  },
  {
   "cell_type": "markdown",
   "metadata": {},
   "source": [
    "*If time, install and try xgboost*"
   ]
  },
  {
   "cell_type": "markdown",
   "metadata": {},
   "source": [
    "## Models (LinReg, Lasso, RF, Ada/Gradient Boost) - TF-IDF"
   ]
  },
  {
   "cell_type": "markdown",
   "metadata": {},
   "source": [
    "### Linear Regression"
   ]
  },
  {
   "cell_type": "code",
   "execution_count": 249,
   "metadata": {
    "collapsed": true
   },
   "outputs": [],
   "source": [
    "def evaluate_model(model, X_train, X_test, y_train, y_test):\n",
    "    # standardize the predictors\n",
    "    ss = StandardScaler()\n",
    "    ss.fit(X_train)\n",
    "    X_train_s = ss.transform(X_train)\n",
    "    X_test_s = ss.transform(X_test)\n",
    "    \n",
    "    # fit\n",
    "    model.fit(X_train_s, y_train)\n",
    "    \n",
    "    # Evaluate: predict and score\n",
    "    y_pred = model.predict(X_test_s)\n",
    "    y_true = y_test\n",
    "    \n",
    "    mean_square_error = np.sqrt(sklearn.metrics.mean_squared_error(y_true, y_pred))\n",
    "    \n",
    "    # Evaluate: score\n",
    "    score = model.score(X_test_s, y_test)\n",
    "    \n",
    "    return {'Score (R^2)': score.mean(), 'MSE': mean_square_error}"
   ]
  },
  {
   "cell_type": "markdown",
   "metadata": {},
   "source": [
    "#### LinReg #1 - TF-IDF + all coefs"
   ]
  },
  {
   "cell_type": "code",
   "execution_count": 250,
   "metadata": {},
   "outputs": [
    {
     "data": {
      "text/plain": [
       "{'MSE': 0.21704091246303905, 'Score (R^2)': 0.021622186821517175}"
      ]
     },
     "execution_count": 250,
     "metadata": {},
     "output_type": "execute_result"
    }
   ],
   "source": [
    "# define X and y\n",
    "X_train14 = indep_train_tvec.drop(['Track Name', 'Artist', 'ID', 'Lyrics', 'Valence'], axis=1)\n",
    "y_train14 = indep_train['Valence'] \n",
    "X_test14 = indep_test_tvec.drop(['Track Name', 'Artist', 'ID', 'Lyrics', 'Valence'], axis=1)\n",
    "y_test14 = indep_test['Valence']\n",
    "\n",
    "# chose model \n",
    "linreg4 = LinearRegression()\n",
    "\n",
    "# call function\n",
    "evaluate_model(linreg4, X_train14, X_test14, y_train14, y_test14)"
   ]
  },
  {
   "cell_type": "markdown",
   "metadata": {},
   "source": [
    "**Importance of the coefficients**"
   ]
  },
  {
   "cell_type": "code",
   "execution_count": 251,
   "metadata": {},
   "outputs": [
    {
     "data": {
      "text/plain": [
       "Energy          0.092410\n",
       "23              0.040448\n",
       "Acousticness    0.035334\n",
       "43              0.031382\n",
       "76              0.028772\n",
       "2               0.026475\n",
       "33              0.025091\n",
       "150             0.023875\n",
       "44              0.023608\n",
       "14              0.023273\n",
       "dtype: float64"
      ]
     },
     "execution_count": 251,
     "metadata": {},
     "output_type": "execute_result"
    }
   ],
   "source": [
    "# Look at the feature importance with coef_\n",
    "pd.Series(dict(zip(X_train14.columns,linreg4.coef_))).abs().sort_values(ascending=False).head(10)"
   ]
  },
  {
   "cell_type": "markdown",
   "metadata": {},
   "source": [
    "#### LinReg #2 - TF-IDF + top 10 coefs"
   ]
  },
  {
   "cell_type": "code",
   "execution_count": 252,
   "metadata": {},
   "outputs": [
    {
     "data": {
      "text/plain": [
       "{'MSE': 0.20119769595475592, 'Score (R^2)': 0.15924513606808388}"
      ]
     },
     "execution_count": 252,
     "metadata": {},
     "output_type": "execute_result"
    }
   ],
   "source": [
    "# define X and y\n",
    "X_train15 = indep_train_cvec[['Energy', 23, 'Acousticness', 43, 76, 2, 33, 150, 44, 14]]\n",
    "y_train15 = indep_train['Valence']\n",
    "X_test15 = indep_test_cvec[['Energy', 23, 'Acousticness', 43, 76, 2, 33, 150, 44, 14]]\n",
    "y_test15 = indep_test['Valence']\n",
    "\n",
    "# chose model \n",
    "linreg5 = LinearRegression()\n",
    "\n",
    "# call function\n",
    "evaluate_model(linreg5, X_train15, X_test15, y_train15, y_test15)"
   ]
  },
  {
   "cell_type": "markdown",
   "metadata": {},
   "source": [
    "#### LinReg #3 - TF-IDF + top 3 coefs"
   ]
  },
  {
   "cell_type": "code",
   "execution_count": 253,
   "metadata": {},
   "outputs": [
    {
     "data": {
      "text/plain": [
       "{'MSE': 0.20135905611527427, 'Score (R^2)': 0.15789602776517975}"
      ]
     },
     "execution_count": 253,
     "metadata": {},
     "output_type": "execute_result"
    }
   ],
   "source": [
    "# define X and y\n",
    "X_train16 = indep_train_tvec[['Energy', 23, 'Acousticness']]\n",
    "y_train16 = indep_train['Valence']\n",
    "X_test16 = indep_test_tvec[['Energy', 23, 'Acousticness']]\n",
    "y_test16 = indep_test['Valence']\n",
    "\n",
    "# chose model \n",
    "linreg6 = LinearRegression()\n",
    "\n",
    "# call function\n",
    "evaluate_model(linreg6, X_train16, X_test16, y_train16, y_test16)"
   ]
  },
  {
   "cell_type": "markdown",
   "metadata": {},
   "source": [
    "*COMMENT: The best LinReg is nr 2*"
   ]
  },
  {
   "cell_type": "markdown",
   "metadata": {},
   "source": [
    "### Lasso Regressor"
   ]
  },
  {
   "cell_type": "code",
   "execution_count": 266,
   "metadata": {
    "collapsed": true
   },
   "outputs": [],
   "source": [
    "def get_best_hype(model, params, X_train, y_train):  \n",
    "    # standardize\n",
    "    ss = StandardScaler()\n",
    "    ss.fit(X_train)\n",
    "    X_train_s = ss.transform(X_train)\n",
    "    \n",
    "    # Best Hyperparameters\n",
    "    gs = GridSearchCV(model, grid) # cv default = 3\n",
    "    \n",
    "    # fit\n",
    "    gs.fit(X_train_s, y_train)\n",
    "     \n",
    "    return {'best_score': gs.best_score_,'best_params': gs.best_params_} \n",
    "\n",
    "def evaluate_model(model, X_train, X_test, y_train, y_test):\n",
    "    # standardize the predictors\n",
    "    ss = StandardScaler()\n",
    "    ss.fit(X_train)\n",
    "    X_train_s = ss.transform(X_train)\n",
    "    X_test_s = ss.transform(X_test)\n",
    "    \n",
    "    # fit\n",
    "    model.fit(X_train_s, y_train)\n",
    "    \n",
    "    # Evaluate: predict\n",
    "    \n",
    "    y_pred = model.predict(X_test_s)\n",
    "    y_true = y_test\n",
    "    \n",
    "    mean_square_error = np.sqrt(sklearn.metrics.mean_squared_error(y_true, y_pred))\n",
    "    \n",
    "    # Evaluate: score\n",
    "    score = model.score(X_test_s, y_test)\n",
    "    \n",
    "    return {'Score (R^2)': score.mean(), 'MSE': mean_square_error}"
   ]
  },
  {
   "cell_type": "markdown",
   "metadata": {},
   "source": [
    "**Lasso #1 - TF-IDF + all coefs**"
   ]
  },
  {
   "cell_type": "code",
   "execution_count": 267,
   "metadata": {},
   "outputs": [
    {
     "data": {
      "text/plain": [
       "{'best_params': {'alpha': 0.004641588833612782, 'selection': 'cyclic'},\n",
       " 'best_score': 0.17293127173179215}"
      ]
     },
     "execution_count": 267,
     "metadata": {},
     "output_type": "execute_result"
    }
   ],
   "source": [
    "# Declare indep and dep\n",
    "X_train17 = indep_train_tvec.drop(['Track Name', 'Artist', 'ID', 'Lyrics', 'Valence'], axis=1)\n",
    "y_train17 = dep_train\n",
    "X_test17 = indep_test_tvec.drop(['Track Name', 'Artist', 'ID', 'Lyrics', 'Valence'], axis=1)\n",
    "y_test17 = dep_test\n",
    "\n",
    "# GridSearchCV\n",
    "grid = {'alpha': np.logspace(-3, 3, 100),\n",
    "        'selection' : ('cyclic', 'random')}\n",
    "\n",
    "lassoreg4 = Lasso(random_state=24, fit_intercept=True, normalize=False, max_iter=1000)\n",
    "\n",
    "get_best_hype(lassoreg4, grid, X_train17, y_train17)"
   ]
  },
  {
   "cell_type": "code",
   "execution_count": 268,
   "metadata": {},
   "outputs": [
    {
     "data": {
      "text/plain": [
       "{'MSE': 0.19623165025591427, 'Score (R^2)': 0.20023665642903288}"
      ]
     },
     "execution_count": 268,
     "metadata": {},
     "output_type": "execute_result"
    }
   ],
   "source": [
    "# chose model and use best hyperparameters (from gridsearchCV)\n",
    "lassoreg4 = Lasso(random_state=24, fit_intercept=True, normalize=False, max_iter=1000, alpha=0.0046, selection='cyclic')\n",
    "\n",
    "# call function\n",
    "evaluate_model(lassoreg4, X_train17, X_test17, y_train17, y_test17)"
   ]
  },
  {
   "cell_type": "code",
   "execution_count": 269,
   "metadata": {},
   "outputs": [
    {
     "data": {
      "text/plain": [
       "Energy          0.084522\n",
       "Acousticness    0.023029\n",
       "baby            0.014634\n",
       "shit            0.007451\n",
       "bang            0.006033\n",
       "che             0.005794\n",
       "mich            0.005697\n",
       "ride            0.005514\n",
       "shake           0.005380\n",
       "face            0.005362\n",
       "hood            0.005300\n",
       "girl            0.005233\n",
       "ogni            0.005232\n",
       "girls           0.004954\n",
       "Mode            0.004922\n",
       "dtype: float64"
      ]
     },
     "execution_count": 269,
     "metadata": {},
     "output_type": "execute_result"
    }
   ],
   "source": [
    "# Look at the feature importance with coef_\n",
    "pd.Series(dict(zip(X_train17.columns,lassoreg4.coef_))).abs().sort_values(ascending=False).head(15)"
   ]
  },
  {
   "cell_type": "markdown",
   "metadata": {},
   "source": [
    "#### Lasso #2 - TF-IDF + top 10 coefs"
   ]
  },
  {
   "cell_type": "code",
   "execution_count": 270,
   "metadata": {},
   "outputs": [
    {
     "data": {
      "text/plain": [
       "{'best_params': {'alpha': 0.001, 'selection': 'cyclic'},\n",
       " 'best_score': 0.17394227970963613}"
      ]
     },
     "execution_count": 270,
     "metadata": {},
     "output_type": "execute_result"
    }
   ],
   "source": [
    "# Declare indep and dep\n",
    "X_train18 = indep_train_tvec[['Energy', 'Acousticness', 'baby', 'shit', 'bang', 'che', 'mich', 'ride', 'shake', 'face']]\n",
    "y_train18 = dep_train\n",
    "X_test18 = indep_test_tvec[['Energy', 'Acousticness', 'baby', 'shit', 'bang', 'che', 'mich', 'ride', 'shake', 'face']]\n",
    "y_test18= dep_test\n",
    "\n",
    "# GridSearchCV\n",
    "grid = {'alpha': np.logspace(-3, 3, 100),\n",
    "        'selection' : ('cyclic', 'random')}\n",
    "\n",
    "lassoreg5 = Lasso(random_state=24, fit_intercept=True, normalize=False, max_iter=1000)\n",
    "\n",
    "get_best_hype(lassoreg5, grid, X_train18, y_train18)"
   ]
  },
  {
   "cell_type": "code",
   "execution_count": 271,
   "metadata": {},
   "outputs": [
    {
     "data": {
      "text/plain": [
       "{'MSE': 0.19844203423818374, 'Score (R^2)': 0.18211786284966514}"
      ]
     },
     "execution_count": 271,
     "metadata": {},
     "output_type": "execute_result"
    }
   ],
   "source": [
    "# chose model and use best hyperparameters (from gridsearchCV)\n",
    "lassoreg5 = Lasso(random_state=24, fit_intercept=True, normalize=False, max_iter=1000, alpha=0.001, \n",
    "                  selection='cyclic')\n",
    "\n",
    "# call function\n",
    "evaluate_model(lassoreg5, X_train18, X_test18, y_train18, y_test18)"
   ]
  },
  {
   "cell_type": "markdown",
   "metadata": {},
   "source": [
    "#### Lasso #3 - TF-IDF + top 3 coefs"
   ]
  },
  {
   "cell_type": "code",
   "execution_count": 272,
   "metadata": {},
   "outputs": [
    {
     "data": {
      "text/plain": [
       "{'best_params': {'alpha': 0.001, 'selection': 'cyclic'},\n",
       " 'best_score': 0.1522911229188364}"
      ]
     },
     "execution_count": 272,
     "metadata": {},
     "output_type": "execute_result"
    }
   ],
   "source": [
    "# Declare indep and dep\n",
    "X_train19 = indep_train_tvec[['Energy', 'Acousticness', 'baby']]\n",
    "y_train19 = dep_train\n",
    "X_test19 = indep_test_tvec[['Energy', 'Acousticness', 'baby']]\n",
    "y_test19 = dep_test\n",
    "\n",
    "# GridSearchCV\n",
    "grid = {'alpha': np.logspace(-3, 3, 100),\n",
    "        'selection' : ('cyclic', 'random')}\n",
    "\n",
    "lassoreg6 = Lasso(random_state=24, fit_intercept=True, normalize=False, max_iter=1000)\n",
    "\n",
    "get_best_hype(lassoreg6, grid, X_train19, y_train19)"
   ]
  },
  {
   "cell_type": "code",
   "execution_count": 273,
   "metadata": {},
   "outputs": [
    {
     "data": {
      "text/plain": [
       "{'MSE': 0.20013678702657142, 'Score (R^2)': 0.1680883058450543}"
      ]
     },
     "execution_count": 273,
     "metadata": {},
     "output_type": "execute_result"
    }
   ],
   "source": [
    "# chose model and use best hyperparameters (from gridsearchCV)\n",
    "lassoreg6 = Lasso(random_state=24, fit_intercept=True, normalize=False, max_iter=1000, alpha=0.0031, \n",
    "                  selection='cyclic')\n",
    "\n",
    "# call function\n",
    "evaluate_model(lassoreg6, X_train19, X_test19, y_train19, y_test19)"
   ]
  },
  {
   "cell_type": "markdown",
   "metadata": {},
   "source": [
    "COMMENT: The best Lasso is nr 1"
   ]
  },
  {
   "cell_type": "markdown",
   "metadata": {},
   "source": [
    "### Random Forest Regressor"
   ]
  },
  {
   "cell_type": "markdown",
   "metadata": {},
   "source": [
    "You do not have to scale a Random Forest."
   ]
  },
  {
   "cell_type": "code",
   "execution_count": 274,
   "metadata": {
    "collapsed": true
   },
   "outputs": [],
   "source": [
    "def get_best_hype(model, params, X_train, y_train):  \n",
    "    # Best Hyperparameters\n",
    "    rs = RandomizedSearchCV(model, params, n_iter=40)\n",
    "    \n",
    "    # fit\n",
    "    rs.fit(X_train, y_train)\n",
    "     \n",
    "    return {'best_score': rs.best_score_,'best_params': rs.best_params_} \n",
    "\n",
    "def evaluate_model(model, X_train, X_test, y_train, y_test):\n",
    "    # fit\n",
    "    model.fit(X_train, y_train)\n",
    "    \n",
    "    # Evaluate: predict\n",
    "    y_pred = model.predict(X_test)\n",
    "    y_true = y_test\n",
    "    \n",
    "    mean_square_error = np.sqrt(sklearn.metrics.mean_squared_error(y_true, y_pred))\n",
    "    \n",
    "    # Evaluate: score\n",
    "    score = model.score(X_test, y_test)\n",
    "    \n",
    "    return {'Score (R^2)': score.mean(), 'MSE': mean_square_error}"
   ]
  },
  {
   "cell_type": "markdown",
   "metadata": {},
   "source": [
    "#### Random Forest #1 - TF-IDF + all coefs"
   ]
  },
  {
   "cell_type": "code",
   "execution_count": 275,
   "metadata": {},
   "outputs": [
    {
     "data": {
      "text/plain": [
       "{'best_params': {'bootstrap': True,\n",
       "  'max_depth': 17,\n",
       "  'max_features': 'auto',\n",
       "  'n_estimators': 70,\n",
       "  'verbose': 0},\n",
       " 'best_score': 0.2093015530351805}"
      ]
     },
     "execution_count": 275,
     "metadata": {},
     "output_type": "execute_result"
    }
   ],
   "source": [
    "# Declare indep and dep\n",
    "X_train20 = indep_train_tvec.drop(['Track Name', 'Artist', 'ID', 'Lyrics', 'Valence'], axis=1)\n",
    "y_train20 = indep_train['Valence']\n",
    "X_test20 = indep_test_tvec.drop(['Track Name', 'Artist', 'ID', 'Lyrics', 'Valence'], axis=1)\n",
    "y_test20 = indep_test['Valence']\n",
    "\n",
    "# RandomizedSearch\n",
    "params = {'n_estimators': np.arange(10, 100, 10),\n",
    "        'max_depth': np.arange(2, 20, 3),\n",
    "        'max_features' : ('auto', 'sqrt', 'log2'),\n",
    "        'bootstrap': (True, False),\n",
    "        'verbose' : np.arange(0, 1)}\n",
    "\n",
    "rfr4 = RandomForestRegressor(random_state=24)\n",
    "\n",
    "get_best_hype(rfr4, params, X_train20, y_train20)"
   ]
  },
  {
   "cell_type": "code",
   "execution_count": 276,
   "metadata": {},
   "outputs": [
    {
     "data": {
      "text/plain": [
       "{'MSE': 0.19174523707173857, 'Score (R^2)': 0.23638833817195704}"
      ]
     },
     "execution_count": 276,
     "metadata": {},
     "output_type": "execute_result"
    }
   ],
   "source": [
    "# chose model and use best hyperparameters (from gridsearchCV)\n",
    "rfr4 = RandomForestRegressor(max_depth=17, max_features='auto', n_estimators=70, verbose=0, bootstrap=True, \n",
    "                            random_state=24)\n",
    "\n",
    "# call function\n",
    "evaluate_model(rfr4, X_train20, X_test20, y_train20, y_test20)"
   ]
  },
  {
   "cell_type": "markdown",
   "metadata": {},
   "source": [
    "**Feature importance**"
   ]
  },
  {
   "cell_type": "code",
   "execution_count": 277,
   "metadata": {},
   "outputs": [
    {
     "data": {
      "text/plain": [
       "Energy              0.189470\n",
       "Acousticness        0.044584\n",
       "Instrumentalness    0.016922\n",
       "baby                0.016870\n",
       "Tempo               0.014745\n",
       "Polarity            0.014581\n",
       "Subjectivity        0.014219\n",
       "avg_Position        0.010587\n",
       "avg_Streams         0.008857\n",
       "girl                0.008291\n",
       "oh                  0.007873\n",
       "come                0.006443\n",
       "je                  0.006329\n",
       "feel                0.005345\n",
       "like                0.005321\n",
       "dtype: float64"
      ]
     },
     "execution_count": 277,
     "metadata": {},
     "output_type": "execute_result"
    }
   ],
   "source": [
    "pd.Series(dict(zip(X_train20.columns,rfr4.feature_importances_))).abs().sort_values(ascending=False).head(15)"
   ]
  },
  {
   "cell_type": "markdown",
   "metadata": {},
   "source": [
    "#### Random Forest #2 - TF-IDF + top 10 features"
   ]
  },
  {
   "cell_type": "code",
   "execution_count": 278,
   "metadata": {},
   "outputs": [
    {
     "data": {
      "text/plain": [
       "{'best_params': {'bootstrap': True,\n",
       "  'max_depth': 17,\n",
       "  'max_features': 'log2',\n",
       "  'n_estimators': 70,\n",
       "  'verbose': 0},\n",
       " 'best_score': 0.1765726986974833}"
      ]
     },
     "execution_count": 278,
     "metadata": {},
     "output_type": "execute_result"
    }
   ],
   "source": [
    "# define X and y\n",
    "X_train21 = indep_train_tvec[['Energy', 'Acousticness', 'Instrumentalness', 'baby', 'Tempo', 'Polarity',\n",
    "                             'Subjectivity','avg_Position' , 'avg_Streams', 'girl']]\n",
    "y_train21 = indep_train['Valence']\n",
    "X_test21 = indep_test_tvec[['Energy', 'Acousticness', 'Instrumentalness', 'baby', 'Tempo', 'Polarity',\n",
    "                             'Subjectivity','avg_Position' , 'avg_Streams', 'girl']]\n",
    "y_test21 = indep_test['Valence']\n",
    "\n",
    "# RandomizedSearch\n",
    "params = {'n_estimators': np.arange(10, 100, 10),\n",
    "        'max_depth': np.arange(2, 20, 3),\n",
    "        'max_features' : ('auto', 'sqrt', 'log2'),\n",
    "        'bootstrap': (True, False),\n",
    "        'verbose' : np.arange(0, 1)}\n",
    "\n",
    "rfr5 = RandomForestRegressor(random_state=24)\n",
    "\n",
    "get_best_hype(rfr5, params, X_train21, y_train21)"
   ]
  },
  {
   "cell_type": "code",
   "execution_count": 279,
   "metadata": {},
   "outputs": [
    {
     "data": {
      "text/plain": [
       "{'MSE': 0.19683975050270572, 'Score (R^2)': 0.1952722193748846}"
      ]
     },
     "execution_count": 279,
     "metadata": {},
     "output_type": "execute_result"
    }
   ],
   "source": [
    "# chose model and use best hyperparameters (from gridsearchCV)\n",
    "rfr5 = RandomForestRegressor(max_depth=17, max_features='log2', n_estimators=70, verbose=0, bootstrap=True, \n",
    "                               random_state=24)\n",
    "\n",
    "# call function\n",
    "evaluate_model(rfr5, X_train21, X_test21, y_train21, y_test21)"
   ]
  },
  {
   "cell_type": "markdown",
   "metadata": {},
   "source": [
    "#### Random Forest #3 - TF-IDF + top 3 features"
   ]
  },
  {
   "cell_type": "code",
   "execution_count": 280,
   "metadata": {},
   "outputs": [
    {
     "data": {
      "text/plain": [
       "{'best_params': {'bootstrap': True,\n",
       "  'max_depth': 8,\n",
       "  'max_features': 'log2',\n",
       "  'n_estimators': 20,\n",
       "  'verbose': 0},\n",
       " 'best_score': 0.14067782311394283}"
      ]
     },
     "execution_count": 280,
     "metadata": {},
     "output_type": "execute_result"
    }
   ],
   "source": [
    "# define X and y\n",
    "X_train22 = indep_train_tvec[['Energy', 'Acousticness', 'Instrumentalness']]\n",
    "y_train22 = indep_train['Valence']\n",
    "X_test22 = indep_test_tvec[['Energy', 'Acousticness', 'Instrumentalness']]\n",
    "y_test22 = indep_test['Valence']\n",
    "\n",
    "# RandomizedSearch\n",
    "params = {'n_estimators': np.arange(10, 100, 10),\n",
    "        'max_depth': np.arange(2, 20, 3),\n",
    "        'max_features' : ('auto', 'sqrt', 'log2'),\n",
    "        'bootstrap': (True, False),\n",
    "        'verbose' : np.arange(0, 1)}\n",
    "\n",
    "rfr6 = RandomForestRegressor(random_state=24)\n",
    "\n",
    "get_best_hype(rfr6, params, X_train22, y_train22)"
   ]
  },
  {
   "cell_type": "code",
   "execution_count": 281,
   "metadata": {},
   "outputs": [
    {
     "data": {
      "text/plain": [
       "{'MSE': 0.20182796805277314, 'Score (R^2)': 0.15396938657301207}"
      ]
     },
     "execution_count": 281,
     "metadata": {},
     "output_type": "execute_result"
    }
   ],
   "source": [
    "# chose model and use best hyperparameters (from gridsearchCV)\n",
    "rfr6 = RandomForestRegressor(max_depth=8, max_features='log2', n_estimators=20, verbose=0, bootstrap=True, \n",
    "                               random_state=24)\n",
    "\n",
    "# call function\n",
    "evaluate_model(rfr6, X_train22, X_test22, y_train22, y_test22)"
   ]
  },
  {
   "cell_type": "markdown",
   "metadata": {},
   "source": [
    "COMMENT: The best RFr is nr 1"
   ]
  },
  {
   "cell_type": "markdown",
   "metadata": {},
   "source": [
    "### Ada and Gradient Boost"
   ]
  },
  {
   "cell_type": "code",
   "execution_count": 283,
   "metadata": {
    "collapsed": true
   },
   "outputs": [],
   "source": [
    "def get_best_hype(model, params, X_train, y_train):  \n",
    "    # standardize\n",
    "    ss = StandardScaler()\n",
    "    ss.fit(X_train)\n",
    "    X_train_s = ss.transform(X_train)\n",
    "     \n",
    "    # Best Hyperparameters\n",
    "    rs = RandomizedSearchCV(model, params, n_iter=27)\n",
    "    \n",
    "    # fit\n",
    "    rs.fit(X_train_s, y_train)\n",
    "     \n",
    "    return {'best_score': rs.best_score_,'best_params': rs.best_params_} \n",
    "\n",
    "def evaluate_model(model, X_train, X_test, y_train, y_test):\n",
    "    # standardize the predictors\n",
    "    ss = StandardScaler()\n",
    "    ss.fit(X_train)\n",
    "    X_train_s = ss.transform(X_train)\n",
    "    X_test_s = ss.transform(X_test)\n",
    "    \n",
    "    # fit\n",
    "    model.fit(X_train_s, y_train)\n",
    "    \n",
    "    # Evaluate: predict\n",
    "    y_pred = model.predict(X_test_s)\n",
    "    y_true = y_test\n",
    "    \n",
    "    mean_square_error = np.sqrt(sklearn.metrics.mean_squared_error(y_true, y_pred))\n",
    "    \n",
    "    # Evaluate: score\n",
    "    score = model.score(X_test_s, y_test)\n",
    "    \n",
    "    return {'Score (R^2)': score.mean(), 'MSE': mean_square_error}"
   ]
  },
  {
   "cell_type": "markdown",
   "metadata": {},
   "source": [
    "**Ada #1 - CountVec + all coefs**"
   ]
  },
  {
   "cell_type": "code",
   "execution_count": 284,
   "metadata": {},
   "outputs": [
    {
     "data": {
      "text/plain": [
       "{'best_params': {'loss': 'linear', 'n_estimators': 10},\n",
       " 'best_score': 0.13359966069512058}"
      ]
     },
     "execution_count": 284,
     "metadata": {},
     "output_type": "execute_result"
    }
   ],
   "source": [
    "# Declare indep and dep\n",
    "X_train23 = indep_train_tvec.drop(['Track Name', 'Artist', 'ID', 'Lyrics', 'Valence'], axis=1)\n",
    "y_train23 = indep_train['Valence']\n",
    "X_test23 = indep_test_tvec.drop(['Track Name', 'Artist', 'ID', 'Lyrics', 'Valence'], axis=1)\n",
    "y_test23 = indep_test['Valence']\n",
    "\n",
    "# RandomizedSearch\n",
    "params = {'n_estimators': np.arange(10, 100, 10),\n",
    "        'loss': ('linear', 'square', 'exponential')}\n",
    "\n",
    "ada2 = AdaBoostRegressor(random_state=24) \n",
    "# base_estimator = DecisionTreeRegressor() (default)\n",
    "# learning_rate: (default=1.0)\n",
    "\n",
    "get_best_hype(ada2, params, X_train23, y_train23)"
   ]
  },
  {
   "cell_type": "code",
   "execution_count": 285,
   "metadata": {},
   "outputs": [
    {
     "data": {
      "text/plain": [
       "{'MSE': 0.20308655031893702, 'Score (R^2)': 0.14338493550827192}"
      ]
     },
     "execution_count": 285,
     "metadata": {},
     "output_type": "execute_result"
    }
   ],
   "source": [
    "# chose model and use best hyperparameters (from gridsearchCV)\n",
    "ada2 = AdaBoostRegressor(n_estimators=10, loss='linear', random_state=24)\n",
    "# I'm going with the default base_estimator, bc to choose a rfr is taking too long time\n",
    "\n",
    "# call function\n",
    "evaluate_model(ada2, X_train23, X_test23, y_train23, y_test23)"
   ]
  },
  {
   "cell_type": "markdown",
   "metadata": {},
   "source": [
    "**Gradient #1 - TF-IDF + all coefs**"
   ]
  },
  {
   "cell_type": "code",
   "execution_count": 290,
   "metadata": {},
   "outputs": [
    {
     "data": {
      "text/plain": [
       "{'best_params': {'loss': 'lad',\n",
       "  'max_depth': 17,\n",
       "  'max_features': 'auto',\n",
       "  'n_estimators': 60,\n",
       "  'verbose': 0},\n",
       " 'best_score': 0.20021757078408678}"
      ]
     },
     "execution_count": 290,
     "metadata": {},
     "output_type": "execute_result"
    }
   ],
   "source": [
    "## Declare indep and dep\n",
    "X_train24 = indep_train_tvec.drop(['Track Name', 'Artist', 'ID', 'Lyrics', 'Valence'], axis=1)\n",
    "y_train24 = indep_train['Valence']\n",
    "X_test24 = indep_test_tvec.drop(['Track Name', 'Artist', 'ID', 'Lyrics', 'Valence'], axis=1)\n",
    "y_test24 = indep_test['Valence']\n",
    "\n",
    "# RandomizedSearch\n",
    "params = {'n_estimators': np.arange(10, 100, 10),\n",
    "        'loss': ('ls', 'lad', 'huber', 'quantile'),\n",
    "        'max_depth': np.arange(2, 20, 3),\n",
    "        'max_features' : ('auto', 'sqrt', 'log2'),\n",
    "        'verbose' : np.arange(0, 1)}\n",
    "\n",
    "\n",
    "grad4 = GradientBoostingRegressor(random_state=24) \n",
    "# learning_rate: (default=1.0)\n",
    "# init = BaseEstimator, default = None (loss.init_estimator)\n",
    "\n",
    "get_best_hype(grad4, params, X_train24, y_train24)"
   ]
  },
  {
   "cell_type": "code",
   "execution_count": 291,
   "metadata": {},
   "outputs": [
    {
     "data": {
      "text/plain": [
       "{'MSE': 0.19027873175732796, 'Score (R^2)': 0.2480241753561453}"
      ]
     },
     "execution_count": 291,
     "metadata": {},
     "output_type": "execute_result"
    }
   ],
   "source": [
    "# chose model and use best hyperparameters (from gridsearchCV)\n",
    "grad4 = GradientBoostingRegressor(random_state=24, n_estimators=60, loss='lad', max_depth=17, max_features='auto',\n",
    "                                 verbose=0)\n",
    "# if loss = huber or quantile we need a value for alpha\n",
    "\n",
    "# call function\n",
    "evaluate_model(grad4, X_train24, X_test24, y_train24, y_test24)"
   ]
  },
  {
   "cell_type": "code",
   "execution_count": 292,
   "metadata": {},
   "outputs": [
    {
     "data": {
      "text/plain": [
       "Energy              0.034697\n",
       "Acousticness        0.026648\n",
       "Tempo               0.018458\n",
       "Subjectivity        0.012804\n",
       "Instrumentalness    0.012294\n",
       "Polarity            0.011579\n",
       "avg_Position        0.009666\n",
       "avg_Streams         0.009352\n",
       "vuoi                0.009198\n",
       "oh                  0.006998\n",
       "baby                0.006906\n",
       "know                0.006894\n",
       "don                 0.006154\n",
       "feel                0.005934\n",
       "yeah                0.005859\n",
       "dtype: float64"
      ]
     },
     "execution_count": 292,
     "metadata": {},
     "output_type": "execute_result"
    }
   ],
   "source": [
    "# Look at the feature importance with coef_\n",
    "pd.Series(dict(zip(X_train24.columns,grad4.feature_importances_ ))).abs().sort_values(ascending=False).head(15)"
   ]
  },
  {
   "cell_type": "markdown",
   "metadata": {},
   "source": [
    "**Gradient #2 - TF-IDF + top 10 coefs**"
   ]
  },
  {
   "cell_type": "code",
   "execution_count": 293,
   "metadata": {},
   "outputs": [
    {
     "data": {
      "text/plain": [
       "{'best_params': {'loss': 'ls',\n",
       "  'max_depth': 5,\n",
       "  'max_features': 'log2',\n",
       "  'n_estimators': 40,\n",
       "  'verbose': 0},\n",
       " 'best_score': 0.1501572897381916}"
      ]
     },
     "execution_count": 293,
     "metadata": {},
     "output_type": "execute_result"
    }
   ],
   "source": [
    "# define X and y\n",
    "X_train25 = indep_train_tvec[['Energy', 'Acousticness', 'Tempo', 'Subjectivity', 'Instrumentalness', 'Polarity',\n",
    "                             'avg_Position','avg_Streams' , 'vuoi', 'oh']]\n",
    "y_train25 = indep_train['Valence']\n",
    "X_test25 = indep_test_tvec[['Energy', 'Acousticness', 'Tempo', 'Subjectivity', 'Instrumentalness', 'Polarity',\n",
    "                             'avg_Position','avg_Streams' , 'vuoi', 'oh']]\n",
    "y_test25 = indep_test['Valence']\n",
    "\n",
    "# RandomizedSearch\n",
    "params = {'n_estimators': np.arange(10, 100, 10),\n",
    "        'loss': ('ls', 'lad', 'huber', 'quantile'),\n",
    "        'max_depth': np.arange(2, 20, 3),\n",
    "        'max_features' : ('auto', 'sqrt', 'log2'),\n",
    "        'verbose' : np.arange(0, 1)}\n",
    "\n",
    "grad5 = GradientBoostingRegressor(random_state=24)\n",
    "\n",
    "get_best_hype(grad5, params, X_train25, y_train25)"
   ]
  },
  {
   "cell_type": "code",
   "execution_count": 246,
   "metadata": {},
   "outputs": [
    {
     "data": {
      "text/plain": [
       "{'MSE': 0.19797719681733944, 'Score (R^2)': 0.18594504541924428}"
      ]
     },
     "execution_count": 246,
     "metadata": {},
     "output_type": "execute_result"
    }
   ],
   "source": [
    "# chose model and use best hyperparameters (from gridsearchCV)\n",
    "grad5 = GradientBoostingRegressor(random_state=24, n_estimators=90, loss='ls', max_depth=5, max_features='log2',\n",
    "                                 verbose=0)\n",
    "\n",
    "# call function\n",
    "evaluate_model(grad5, X_train25, X_test25, y_train25, y_test25)"
   ]
  },
  {
   "cell_type": "markdown",
   "metadata": {},
   "source": [
    "**Gradient #3 - TF-IDF + top 3 coefs**"
   ]
  },
  {
   "cell_type": "code",
   "execution_count": 294,
   "metadata": {},
   "outputs": [
    {
     "data": {
      "text/plain": [
       "{'best_params': {'loss': 'ls',\n",
       "  'max_depth': 2,\n",
       "  'max_features': 'auto',\n",
       "  'n_estimators': 80,\n",
       "  'verbose': 0},\n",
       " 'best_score': 0.13241110006200632}"
      ]
     },
     "execution_count": 294,
     "metadata": {},
     "output_type": "execute_result"
    }
   ],
   "source": [
    "# define X and y\n",
    "X_train26 = indep_train_tvec[['Energy', 'Acousticness', 'Tempo']]\n",
    "y_train26 = indep_train['Valence']\n",
    "X_test26 = indep_test_tvec[['Energy', 'Acousticness', 'Tempo']]\n",
    "y_test26 = indep_test['Valence']\n",
    "\n",
    "# RandomizedSearch\n",
    "params = {'n_estimators': np.arange(10, 100, 10),\n",
    "        'loss': ('ls', 'lad', 'huber', 'quantile'),\n",
    "        'max_depth': np.arange(2, 20, 3),\n",
    "        'max_features' : ('auto', 'sqrt', 'log2'),\n",
    "        'verbose' : np.arange(0, 1)}\n",
    "\n",
    "grad6 = GradientBoostingRegressor(random_state=24)\n",
    "\n",
    "get_best_hype(grad6, params, X_train26, y_train26)"
   ]
  },
  {
   "cell_type": "code",
   "execution_count": 295,
   "metadata": {},
   "outputs": [
    {
     "data": {
      "text/plain": [
       "{'MSE': 0.20148682303315577, 'Score (R^2)': 0.15682702032880047}"
      ]
     },
     "execution_count": 295,
     "metadata": {},
     "output_type": "execute_result"
    }
   ],
   "source": [
    "# chose model and use best hyperparameters (from gridsearchCV)\n",
    "grad6 = GradientBoostingRegressor(random_state=24, n_estimators=80, loss='ls', max_depth=2, max_features='auto',\n",
    "                                 verbose=0)\n",
    "\n",
    "# call function\n",
    "evaluate_model(grad6, X_train26, X_test26, y_train26, y_test26)"
   ]
  },
  {
   "cell_type": "markdown",
   "metadata": {},
   "source": [
    "COMMENT: The best GradBr is nr 1"
   ]
  },
  {
   "cell_type": "markdown",
   "metadata": {},
   "source": [
    "**In total the best model was TF-IDF GradBr with all features with R2-score 0.2480241753561453**"
   ]
  },
  {
   "cell_type": "markdown",
   "metadata": {},
   "source": [
    "**How overfitted is the model?**"
   ]
  },
  {
   "cell_type": "code",
   "execution_count": 296,
   "metadata": {
    "collapsed": true
   },
   "outputs": [],
   "source": [
    "scores_test = []\n",
    "scores_train = []\n",
    "n_estimators = []\n",
    "\n",
    "for n_est in range(1,30):\n",
    "    gbrZ = GradientBoostingRegressor(n_estimators=n_est, random_state=24, loss='ls', max_depth=2, max_features='auto',\n",
    "                                 verbose=0)\n",
    "    gbrZ.fit(X_train, y_train)\n",
    "    \n",
    "    n_estimators.append(n_est)\n",
    "    scores_test.append(gbrZ.score(X_test24, y_test24))\n",
    "    scores_train.append(gbrZ.score(X_train24, y_train24))"
   ]
  },
  {
   "cell_type": "code",
   "execution_count": 297,
   "metadata": {},
   "outputs": [
    {
     "data": {
      "text/plain": [
       "<matplotlib.legend.Legend at 0x1a1a1649b0>"
      ]
     },
     "execution_count": 297,
     "metadata": {},
     "output_type": "execute_result"
    },
    {
     "data": {
      "image/png": "[encoded data removed]",
      "text/plain": [
       "<matplotlib.figure.Figure at 0x1a1dc25ac8>"
      ]
     },
     "metadata": {},
     "output_type": "display_data"
    }
   ],
   "source": [
    "# visualize the data in learning curves \n",
    "plt.plot(n_estimators, scores_test, label='Test scores')\n",
    "plt.plot(n_estimators, scores_train, label='Train scores')\n",
    "plt.xlabel('# Estimators')\n",
    "plt.ylabel('R2-score')\n",
    "plt.legend()"
   ]
  },
  {
   "cell_type": "code",
   "execution_count": null,
   "metadata": {
    "collapsed": true
   },
   "outputs": [],
   "source": [
    "# a little bit overfitted but not to bad."
   ]
  },
  {
   "cell_type": "code",
   "execution_count": null,
   "metadata": {
    "collapsed": true
   },
   "outputs": [],
   "source": []
  },
  {
   "cell_type": "code",
   "execution_count": null,
   "metadata": {
    "collapsed": true
   },
   "outputs": [],
   "source": []
  },
  {
   "cell_type": "code",
   "execution_count": null,
   "metadata": {
    "collapsed": true
   },
   "outputs": [],
   "source": []
  },
  {
   "cell_type": "code",
   "execution_count": null,
   "metadata": {
    "collapsed": true
   },
   "outputs": [],
   "source": []
  },
  {
   "cell_type": "code",
   "execution_count": null,
   "metadata": {
    "collapsed": true
   },
   "outputs": [],
   "source": []
  },
  {
   "cell_type": "markdown",
   "metadata": {},
   "source": [
    "In the end I might need to do everything per country \n",
    "And only use the stong countries to look at what mood the country and the artists are and the try to combine"
   ]
  },
  {
   "cell_type": "code",
   "execution_count": null,
   "metadata": {
    "collapsed": true
   },
   "outputs": [],
   "source": [
    "top list in how many countries"
   ]
  },
  {
   "cell_type": "code",
   "execution_count": null,
   "metadata": {
    "collapsed": true
   },
   "outputs": [],
   "source": [
    "titta pa det per land"
   ]
  },
  {
   "cell_type": "code",
   "execution_count": null,
   "metadata": {
    "collapsed": true
   },
   "outputs": [],
   "source": []
  }
 ],
 "metadata": {
  "kernelspec": {
   "display_name": "Python [default]",
   "language": "python",
   "name": "python3"
  },
  "language_info": {
   "codemirror_mode": {
    "name": "ipython",
    "version": 3
   },
   "file_extension": ".py",
   "mimetype": "text/x-python",
   "name": "python",
   "nbconvert_exporter": "python",
   "pygments_lexer": "ipython3",
   "version": "3.6.3"
  }
 },
 "nbformat": 4,
 "nbformat_minor": 2
}
