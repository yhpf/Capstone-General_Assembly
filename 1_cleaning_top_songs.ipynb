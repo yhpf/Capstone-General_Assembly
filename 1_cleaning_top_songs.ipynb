{
 "cells": [
  {
   "cell_type": "markdown",
   "metadata": {},
   "source": [
    "# CLEANING TOP SONGS"
   ]
  },
  {
   "cell_type": "markdown",
   "metadata": {},
   "source": [
    "Source: https://www.kaggle.com/edumucelli/spotifys-worldwide-daily-song-ranking/"
   ]
  },
  {
   "cell_type": "markdown",
   "metadata": {},
   "source": [
    "## Import things"
   ]
  },
  {
   "cell_type": "code",
   "execution_count": 2,
   "metadata": {
    "collapsed": true
   },
   "outputs": [],
   "source": [
    "import pandas as pd\n",
    "import numpy as np"
   ]
  },
  {
   "cell_type": "markdown",
   "metadata": {},
   "source": [
    "## Load the data"
   ]
  },
  {
   "cell_type": "code",
   "execution_count": 3,
   "metadata": {
    "collapsed": true
   },
   "outputs": [],
   "source": [
    "top_songs = pd.read_csv('./data.csv')"
   ]
  },
  {
   "cell_type": "markdown",
   "metadata": {},
   "source": [
    "## Get to know the data & some initial fix ##"
   ]
  },
  {
   "cell_type": "code",
   "execution_count": 4,
   "metadata": {},
   "outputs": [
    {
     "data": {
      "text/html": [
       "<div>\n",
       "<style>\n",
       "    .dataframe thead tr:only-child th {\n",
       "        text-align: right;\n",
       "    }\n",
       "\n",
       "    .dataframe thead th {\n",
       "        text-align: left;\n",
       "    }\n",
       "\n",
       "    .dataframe tbody tr th {\n",
       "        vertical-align: top;\n",
       "    }\n",
       "</style>\n",
       "<table border=\"1\" class=\"dataframe\">\n",
       "  <thead>\n",
       "    <tr style=\"text-align: right;\">\n",
       "      <th></th>\n",
       "      <th>Position</th>\n",
       "      <th>Track Name</th>\n",
       "      <th>Artist</th>\n",
       "      <th>Streams</th>\n",
       "      <th>URL</th>\n",
       "      <th>Date</th>\n",
       "      <th>Region</th>\n",
       "    </tr>\n",
       "  </thead>\n",
       "  <tbody>\n",
       "    <tr>\n",
       "      <th>0</th>\n",
       "      <td>1</td>\n",
       "      <td>Reggaetón Lento (Bailemos)</td>\n",
       "      <td>CNCO</td>\n",
       "      <td>19272</td>\n",
       "      <td>https://open.spotify.com/track/3AEZUABDXNtecAO...</td>\n",
       "      <td>2017-01-01</td>\n",
       "      <td>ec</td>\n",
       "    </tr>\n",
       "    <tr>\n",
       "      <th>1</th>\n",
       "      <td>2</td>\n",
       "      <td>Chantaje</td>\n",
       "      <td>Shakira</td>\n",
       "      <td>19270</td>\n",
       "      <td>https://open.spotify.com/track/6mICuAdrwEjh6Y6...</td>\n",
       "      <td>2017-01-01</td>\n",
       "      <td>ec</td>\n",
       "    </tr>\n",
       "    <tr>\n",
       "      <th>2</th>\n",
       "      <td>3</td>\n",
       "      <td>Otra Vez (feat. J Balvin)</td>\n",
       "      <td>Zion &amp; Lennox</td>\n",
       "      <td>15761</td>\n",
       "      <td>https://open.spotify.com/track/3QwBODjSEzelZyV...</td>\n",
       "      <td>2017-01-01</td>\n",
       "      <td>ec</td>\n",
       "    </tr>\n",
       "    <tr>\n",
       "      <th>3</th>\n",
       "      <td>4</td>\n",
       "      <td>Vente Pa' Ca</td>\n",
       "      <td>Ricky Martin</td>\n",
       "      <td>14954</td>\n",
       "      <td>https://open.spotify.com/track/7DM4BPaS7uofFul...</td>\n",
       "      <td>2017-01-01</td>\n",
       "      <td>ec</td>\n",
       "    </tr>\n",
       "    <tr>\n",
       "      <th>4</th>\n",
       "      <td>5</td>\n",
       "      <td>Safari</td>\n",
       "      <td>J Balvin</td>\n",
       "      <td>14269</td>\n",
       "      <td>https://open.spotify.com/track/6rQSrBHf7HlZjtc...</td>\n",
       "      <td>2017-01-01</td>\n",
       "      <td>ec</td>\n",
       "    </tr>\n",
       "  </tbody>\n",
       "</table>\n",
       "</div>"
      ],
      "text/plain": [
       "   Position                  Track Name         Artist  Streams  \\\n",
       "0         1  Reggaetón Lento (Bailemos)           CNCO    19272   \n",
       "1         2                    Chantaje        Shakira    19270   \n",
       "2         3   Otra Vez (feat. J Balvin)  Zion & Lennox    15761   \n",
       "3         4                Vente Pa' Ca   Ricky Martin    14954   \n",
       "4         5                      Safari       J Balvin    14269   \n",
       "\n",
       "                                                 URL        Date Region  \n",
       "0  https://open.spotify.com/track/3AEZUABDXNtecAO...  2017-01-01     ec  \n",
       "1  https://open.spotify.com/track/6mICuAdrwEjh6Y6...  2017-01-01     ec  \n",
       "2  https://open.spotify.com/track/3QwBODjSEzelZyV...  2017-01-01     ec  \n",
       "3  https://open.spotify.com/track/7DM4BPaS7uofFul...  2017-01-01     ec  \n",
       "4  https://open.spotify.com/track/6rQSrBHf7HlZjtc...  2017-01-01     ec  "
      ]
     },
     "execution_count": 4,
     "metadata": {},
     "output_type": "execute_result"
    }
   ],
   "source": [
    "top_songs.head()"
   ]
  },
  {
   "cell_type": "code",
   "execution_count": 5,
   "metadata": {},
   "outputs": [
    {
     "data": {
      "text/plain": [
       "(3441197, 7)"
      ]
     },
     "execution_count": 5,
     "metadata": {},
     "output_type": "execute_result"
    }
   ],
   "source": [
    "top_songs.shape"
   ]
  },
  {
   "cell_type": "code",
   "execution_count": 6,
   "metadata": {},
   "outputs": [
    {
     "name": "stdout",
     "output_type": "stream",
     "text": [
      "<class 'pandas.core.frame.DataFrame'>\n",
      "RangeIndex: 3441197 entries, 0 to 3441196\n",
      "Data columns (total 7 columns):\n",
      "Position      int64\n",
      "Track Name    object\n",
      "Artist        object\n",
      "Streams       int64\n",
      "URL           object\n",
      "Date          object\n",
      "Region        object\n",
      "dtypes: int64(2), object(5)\n",
      "memory usage: 183.8+ MB\n"
     ]
    }
   ],
   "source": [
    "top_songs.info()"
   ]
  },
  {
   "cell_type": "markdown",
   "metadata": {},
   "source": [
    "COMMENT: I think that the data over all looks good. I need to do some adjustments, based on what I'm goign to use the data for. I might also get rid of some data that I am not going to use."
   ]
  },
  {
   "cell_type": "markdown",
   "metadata": {},
   "source": [
    "#### Look at the column Position"
   ]
  },
  {
   "cell_type": "code",
   "execution_count": 7,
   "metadata": {},
   "outputs": [
    {
     "data": {
      "text/plain": [
       "0"
      ]
     },
     "execution_count": 7,
     "metadata": {},
     "output_type": "execute_result"
    }
   ],
   "source": [
    "top_songs['Position'].isnull().sum()"
   ]
  },
  {
   "cell_type": "code",
   "execution_count": 8,
   "metadata": {},
   "outputs": [
    {
     "data": {
      "text/plain": [
       "array([  1,   2,   3,   4,   5,   6,   7,   8,   9,  10,  11,  12,  13,\n",
       "        14,  15,  16,  17,  18,  19,  20,  21,  22,  23,  24,  25,  26,\n",
       "        27,  28,  29,  30,  31,  32,  33,  34,  35,  36,  37,  38,  39,\n",
       "        40,  41,  42,  43,  44,  45,  46,  47,  48,  49,  50,  51,  52,\n",
       "        53,  54,  55,  56,  57,  58,  59,  60,  61,  62,  63,  64,  65,\n",
       "        66,  67,  68,  69,  70,  71,  72,  73,  74,  75,  76,  77,  78,\n",
       "        79,  80,  81,  82,  83,  84,  85,  86,  87,  88,  89,  90,  91,\n",
       "        92,  93,  94,  95,  96,  97,  98,  99, 100, 101, 102, 103, 104,\n",
       "       105, 106, 107, 108, 109, 110, 111, 112, 113, 114, 115, 116, 117,\n",
       "       118, 119, 120, 121, 122, 123, 124, 125, 126, 127, 128, 129, 130,\n",
       "       131, 132, 133, 134, 135, 136, 137, 138, 139, 140, 141, 142, 143,\n",
       "       144, 145, 146, 147, 148, 149, 150, 151, 152, 153, 154, 155, 156,\n",
       "       157, 158, 159, 160, 161, 162, 163, 164, 165, 166, 167, 168, 169,\n",
       "       170, 171, 172, 173, 174, 175, 176, 177, 178, 179, 180, 181, 182,\n",
       "       183, 184, 185, 186, 187, 188, 189, 190, 191, 192, 193, 194, 195,\n",
       "       196, 197, 198, 199, 200])"
      ]
     },
     "execution_count": 8,
     "metadata": {},
     "output_type": "execute_result"
    }
   ],
   "source": [
    "top_songs['Position'].unique()"
   ]
  },
  {
   "cell_type": "code",
   "execution_count": 9,
   "metadata": {},
   "outputs": [
    {
     "data": {
      "text/plain": [
       "dtype('int64')"
      ]
     },
     "execution_count": 9,
     "metadata": {},
     "output_type": "execute_result"
    }
   ],
   "source": [
    "top_songs['Position'].dtype"
   ]
  },
  {
   "cell_type": "markdown",
   "metadata": {},
   "source": [
    "COMMENT: Nothing really surprising here"
   ]
  },
  {
   "cell_type": "markdown",
   "metadata": {},
   "source": [
    "#### Look at the column Track Name"
   ]
  },
  {
   "cell_type": "code",
   "execution_count": 10,
   "metadata": {},
   "outputs": [
    {
     "data": {
      "text/plain": [
       "657"
      ]
     },
     "execution_count": 10,
     "metadata": {},
     "output_type": "execute_result"
    }
   ],
   "source": [
    "top_songs['Track Name'].isnull().sum()"
   ]
  },
  {
   "cell_type": "code",
   "execution_count": 11,
   "metadata": {},
   "outputs": [
    {
     "data": {
      "text/plain": [
       "array(['Reggaetón Lento (Bailemos)', 'Chantaje',\n",
       "       'Otra Vez (feat. J Balvin)', ..., '有火', '繼續追', '無期'], dtype=object)"
      ]
     },
     "execution_count": 11,
     "metadata": {},
     "output_type": "execute_result"
    }
   ],
   "source": [
    "top_songs['Track Name'].unique()"
   ]
  },
  {
   "cell_type": "markdown",
   "metadata": {},
   "source": [
    "#### Show rows that has NULL values"
   ]
  },
  {
   "cell_type": "code",
   "execution_count": 12,
   "metadata": {
    "scrolled": true
   },
   "outputs": [
    {
     "data": {
      "text/html": [
       "<div>\n",
       "<style>\n",
       "    .dataframe thead tr:only-child th {\n",
       "        text-align: right;\n",
       "    }\n",
       "\n",
       "    .dataframe thead th {\n",
       "        text-align: left;\n",
       "    }\n",
       "\n",
       "    .dataframe tbody tr th {\n",
       "        vertical-align: top;\n",
       "    }\n",
       "</style>\n",
       "<table border=\"1\" class=\"dataframe\">\n",
       "  <thead>\n",
       "    <tr style=\"text-align: right;\">\n",
       "      <th></th>\n",
       "      <th>Position</th>\n",
       "      <th>Track Name</th>\n",
       "      <th>Artist</th>\n",
       "      <th>Streams</th>\n",
       "      <th>URL</th>\n",
       "      <th>Date</th>\n",
       "      <th>Region</th>\n",
       "    </tr>\n",
       "  </thead>\n",
       "  <tbody>\n",
       "    <tr>\n",
       "      <th>39428</th>\n",
       "      <td>29</td>\n",
       "      <td>NaN</td>\n",
       "      <td>NaN</td>\n",
       "      <td>7362</td>\n",
       "      <td>https://open.spotify.com/track/3RXkboS74UYzN14...</td>\n",
       "      <td>2017-07-20</td>\n",
       "      <td>ec</td>\n",
       "    </tr>\n",
       "    <tr>\n",
       "      <th>39456</th>\n",
       "      <td>57</td>\n",
       "      <td>NaN</td>\n",
       "      <td>NaN</td>\n",
       "      <td>4426</td>\n",
       "      <td>https://open.spotify.com/track/4JAyIDXOqNM6qHu...</td>\n",
       "      <td>2017-07-20</td>\n",
       "      <td>ec</td>\n",
       "    </tr>\n",
       "    <tr>\n",
       "      <th>39463</th>\n",
       "      <td>64</td>\n",
       "      <td>NaN</td>\n",
       "      <td>NaN</td>\n",
       "      <td>4069</td>\n",
       "      <td>https://open.spotify.com/track/3bVbQvGVIe4n24A...</td>\n",
       "      <td>2017-07-20</td>\n",
       "      <td>ec</td>\n",
       "    </tr>\n",
       "    <tr>\n",
       "      <th>39490</th>\n",
       "      <td>91</td>\n",
       "      <td>NaN</td>\n",
       "      <td>NaN</td>\n",
       "      <td>3238</td>\n",
       "      <td>https://open.spotify.com/track/3eFJqPe8VUYrABb...</td>\n",
       "      <td>2017-07-20</td>\n",
       "      <td>ec</td>\n",
       "    </tr>\n",
       "    <tr>\n",
       "      <th>39631</th>\n",
       "      <td>32</td>\n",
       "      <td>NaN</td>\n",
       "      <td>NaN</td>\n",
       "      <td>7409</td>\n",
       "      <td>https://open.spotify.com/track/3RXkboS74UYzN14...</td>\n",
       "      <td>2017-07-21</td>\n",
       "      <td>ec</td>\n",
       "    </tr>\n",
       "    <tr>\n",
       "      <th>39666</th>\n",
       "      <td>67</td>\n",
       "      <td>NaN</td>\n",
       "      <td>NaN</td>\n",
       "      <td>4076</td>\n",
       "      <td>https://open.spotify.com/track/4JAyIDXOqNM6qHu...</td>\n",
       "      <td>2017-07-21</td>\n",
       "      <td>ec</td>\n",
       "    </tr>\n",
       "    <tr>\n",
       "      <th>39667</th>\n",
       "      <td>68</td>\n",
       "      <td>NaN</td>\n",
       "      <td>NaN</td>\n",
       "      <td>4059</td>\n",
       "      <td>https://open.spotify.com/track/3bVbQvGVIe4n24A...</td>\n",
       "      <td>2017-07-21</td>\n",
       "      <td>ec</td>\n",
       "    </tr>\n",
       "    <tr>\n",
       "      <th>39700</th>\n",
       "      <td>101</td>\n",
       "      <td>NaN</td>\n",
       "      <td>NaN</td>\n",
       "      <td>3227</td>\n",
       "      <td>https://open.spotify.com/track/3eFJqPe8VUYrABb...</td>\n",
       "      <td>2017-07-21</td>\n",
       "      <td>ec</td>\n",
       "    </tr>\n",
       "    <tr>\n",
       "      <th>39962</th>\n",
       "      <td>163</td>\n",
       "      <td>NaN</td>\n",
       "      <td>NaN</td>\n",
       "      <td>2112</td>\n",
       "      <td>https://open.spotify.com/track/6Br5mChPdgQNmLF...</td>\n",
       "      <td>2017-07-22</td>\n",
       "      <td>ec</td>\n",
       "    </tr>\n",
       "    <tr>\n",
       "      <th>40157</th>\n",
       "      <td>158</td>\n",
       "      <td>NaN</td>\n",
       "      <td>NaN</td>\n",
       "      <td>1905</td>\n",
       "      <td>https://open.spotify.com/track/6Br5mChPdgQNmLF...</td>\n",
       "      <td>2017-07-23</td>\n",
       "      <td>ec</td>\n",
       "    </tr>\n",
       "    <tr>\n",
       "      <th>61804</th>\n",
       "      <td>5</td>\n",
       "      <td>NaN</td>\n",
       "      <td>NaN</td>\n",
       "      <td>16767</td>\n",
       "      <td>https://open.spotify.com/track/1YqcGlCHNquxBhl...</td>\n",
       "      <td>2017-11-09</td>\n",
       "      <td>ec</td>\n",
       "    </tr>\n",
       "    <tr>\n",
       "      <th>62004</th>\n",
       "      <td>5</td>\n",
       "      <td>NaN</td>\n",
       "      <td>NaN</td>\n",
       "      <td>19114</td>\n",
       "      <td>https://open.spotify.com/track/1YqcGlCHNquxBhl...</td>\n",
       "      <td>2017-11-10</td>\n",
       "      <td>ec</td>\n",
       "    </tr>\n",
       "    <tr>\n",
       "      <th>62205</th>\n",
       "      <td>6</td>\n",
       "      <td>NaN</td>\n",
       "      <td>NaN</td>\n",
       "      <td>21390</td>\n",
       "      <td>https://open.spotify.com/track/1YqcGlCHNquxBhl...</td>\n",
       "      <td>2017-11-11</td>\n",
       "      <td>ec</td>\n",
       "    </tr>\n",
       "    <tr>\n",
       "      <th>62405</th>\n",
       "      <td>6</td>\n",
       "      <td>NaN</td>\n",
       "      <td>NaN</td>\n",
       "      <td>19644</td>\n",
       "      <td>https://open.spotify.com/track/1YqcGlCHNquxBhl...</td>\n",
       "      <td>2017-11-12</td>\n",
       "      <td>ec</td>\n",
       "    </tr>\n",
       "    <tr>\n",
       "      <th>62606</th>\n",
       "      <td>7</td>\n",
       "      <td>NaN</td>\n",
       "      <td>NaN</td>\n",
       "      <td>16155</td>\n",
       "      <td>https://open.spotify.com/track/1YqcGlCHNquxBhl...</td>\n",
       "      <td>2017-11-13</td>\n",
       "      <td>ec</td>\n",
       "    </tr>\n",
       "    <tr>\n",
       "      <th>62805</th>\n",
       "      <td>6</td>\n",
       "      <td>NaN</td>\n",
       "      <td>NaN</td>\n",
       "      <td>18439</td>\n",
       "      <td>https://open.spotify.com/track/1YqcGlCHNquxBhl...</td>\n",
       "      <td>2017-11-14</td>\n",
       "      <td>ec</td>\n",
       "    </tr>\n",
       "    <tr>\n",
       "      <th>113610</th>\n",
       "      <td>11</td>\n",
       "      <td>NaN</td>\n",
       "      <td>NaN</td>\n",
       "      <td>89528</td>\n",
       "      <td>https://open.spotify.com/track/3RXkboS74UYzN14...</td>\n",
       "      <td>2017-07-20</td>\n",
       "      <td>fr</td>\n",
       "    </tr>\n",
       "    <tr>\n",
       "      <th>113633</th>\n",
       "      <td>34</td>\n",
       "      <td>NaN</td>\n",
       "      <td>NaN</td>\n",
       "      <td>56812</td>\n",
       "      <td>https://open.spotify.com/track/4JAyIDXOqNM6qHu...</td>\n",
       "      <td>2017-07-20</td>\n",
       "      <td>fr</td>\n",
       "    </tr>\n",
       "    <tr>\n",
       "      <th>113638</th>\n",
       "      <td>39</td>\n",
       "      <td>NaN</td>\n",
       "      <td>NaN</td>\n",
       "      <td>55701</td>\n",
       "      <td>https://open.spotify.com/track/3bVbQvGVIe4n24A...</td>\n",
       "      <td>2017-07-20</td>\n",
       "      <td>fr</td>\n",
       "    </tr>\n",
       "    <tr>\n",
       "      <th>113721</th>\n",
       "      <td>122</td>\n",
       "      <td>NaN</td>\n",
       "      <td>NaN</td>\n",
       "      <td>23290</td>\n",
       "      <td>https://open.spotify.com/track/3eFJqPe8VUYrABb...</td>\n",
       "      <td>2017-07-20</td>\n",
       "      <td>fr</td>\n",
       "    </tr>\n",
       "    <tr>\n",
       "      <th>113814</th>\n",
       "      <td>15</td>\n",
       "      <td>NaN</td>\n",
       "      <td>NaN</td>\n",
       "      <td>87212</td>\n",
       "      <td>https://open.spotify.com/track/3RXkboS74UYzN14...</td>\n",
       "      <td>2017-07-21</td>\n",
       "      <td>fr</td>\n",
       "    </tr>\n",
       "    <tr>\n",
       "      <th>113827</th>\n",
       "      <td>28</td>\n",
       "      <td>NaN</td>\n",
       "      <td>NaN</td>\n",
       "      <td>68460</td>\n",
       "      <td>https://open.spotify.com/track/4JAyIDXOqNM6qHu...</td>\n",
       "      <td>2017-07-21</td>\n",
       "      <td>fr</td>\n",
       "    </tr>\n",
       "    <tr>\n",
       "      <th>113836</th>\n",
       "      <td>37</td>\n",
       "      <td>NaN</td>\n",
       "      <td>NaN</td>\n",
       "      <td>57977</td>\n",
       "      <td>https://open.spotify.com/track/3bVbQvGVIe4n24A...</td>\n",
       "      <td>2017-07-21</td>\n",
       "      <td>fr</td>\n",
       "    </tr>\n",
       "    <tr>\n",
       "      <th>113970</th>\n",
       "      <td>171</td>\n",
       "      <td>NaN</td>\n",
       "      <td>NaN</td>\n",
       "      <td>23825</td>\n",
       "      <td>https://open.spotify.com/track/3eFJqPe8VUYrABb...</td>\n",
       "      <td>2017-07-21</td>\n",
       "      <td>fr</td>\n",
       "    </tr>\n",
       "    <tr>\n",
       "      <th>114198</th>\n",
       "      <td>199</td>\n",
       "      <td>NaN</td>\n",
       "      <td>NaN</td>\n",
       "      <td>18868</td>\n",
       "      <td>https://open.spotify.com/track/6Br5mChPdgQNmLF...</td>\n",
       "      <td>2017-07-22</td>\n",
       "      <td>fr</td>\n",
       "    </tr>\n",
       "    <tr>\n",
       "      <th>114391</th>\n",
       "      <td>192</td>\n",
       "      <td>NaN</td>\n",
       "      <td>NaN</td>\n",
       "      <td>16888</td>\n",
       "      <td>https://open.spotify.com/track/6Br5mChPdgQNmLF...</td>\n",
       "      <td>2017-07-23</td>\n",
       "      <td>fr</td>\n",
       "    </tr>\n",
       "    <tr>\n",
       "      <th>187828</th>\n",
       "      <td>29</td>\n",
       "      <td>NaN</td>\n",
       "      <td>NaN</td>\n",
       "      <td>71631</td>\n",
       "      <td>https://open.spotify.com/track/3RXkboS74UYzN14...</td>\n",
       "      <td>2017-07-20</td>\n",
       "      <td>ar</td>\n",
       "    </tr>\n",
       "    <tr>\n",
       "      <th>187867</th>\n",
       "      <td>68</td>\n",
       "      <td>NaN</td>\n",
       "      <td>NaN</td>\n",
       "      <td>30024</td>\n",
       "      <td>https://open.spotify.com/track/4JAyIDXOqNM6qHu...</td>\n",
       "      <td>2017-07-20</td>\n",
       "      <td>ar</td>\n",
       "    </tr>\n",
       "    <tr>\n",
       "      <th>187882</th>\n",
       "      <td>83</td>\n",
       "      <td>NaN</td>\n",
       "      <td>NaN</td>\n",
       "      <td>24808</td>\n",
       "      <td>https://open.spotify.com/track/3eFJqPe8VUYrABb...</td>\n",
       "      <td>2017-07-20</td>\n",
       "      <td>ar</td>\n",
       "    </tr>\n",
       "    <tr>\n",
       "      <th>187913</th>\n",
       "      <td>114</td>\n",
       "      <td>NaN</td>\n",
       "      <td>NaN</td>\n",
       "      <td>19789</td>\n",
       "      <td>https://open.spotify.com/track/3bVbQvGVIe4n24A...</td>\n",
       "      <td>2017-07-20</td>\n",
       "      <td>ar</td>\n",
       "    </tr>\n",
       "    <tr>\n",
       "      <th>...</th>\n",
       "      <td>...</td>\n",
       "      <td>...</td>\n",
       "      <td>...</td>\n",
       "      <td>...</td>\n",
       "      <td>...</td>\n",
       "      <td>...</td>\n",
       "      <td>...</td>\n",
       "    </tr>\n",
       "    <tr>\n",
       "      <th>3285870</th>\n",
       "      <td>31</td>\n",
       "      <td>NaN</td>\n",
       "      <td>NaN</td>\n",
       "      <td>82477</td>\n",
       "      <td>https://open.spotify.com/track/4JAyIDXOqNM6qHu...</td>\n",
       "      <td>2017-07-21</td>\n",
       "      <td>au</td>\n",
       "    </tr>\n",
       "    <tr>\n",
       "      <th>3285885</th>\n",
       "      <td>46</td>\n",
       "      <td>NaN</td>\n",
       "      <td>NaN</td>\n",
       "      <td>65288</td>\n",
       "      <td>https://open.spotify.com/track/3bVbQvGVIe4n24A...</td>\n",
       "      <td>2017-07-21</td>\n",
       "      <td>au</td>\n",
       "    </tr>\n",
       "    <tr>\n",
       "      <th>3286126</th>\n",
       "      <td>87</td>\n",
       "      <td>NaN</td>\n",
       "      <td>NaN</td>\n",
       "      <td>29983</td>\n",
       "      <td>https://open.spotify.com/track/6Br5mChPdgQNmLF...</td>\n",
       "      <td>2017-07-22</td>\n",
       "      <td>au</td>\n",
       "    </tr>\n",
       "    <tr>\n",
       "      <th>3286321</th>\n",
       "      <td>82</td>\n",
       "      <td>NaN</td>\n",
       "      <td>NaN</td>\n",
       "      <td>30171</td>\n",
       "      <td>https://open.spotify.com/track/6Br5mChPdgQNmLF...</td>\n",
       "      <td>2017-07-23</td>\n",
       "      <td>au</td>\n",
       "    </tr>\n",
       "    <tr>\n",
       "      <th>3330726</th>\n",
       "      <td>3</td>\n",
       "      <td>NaN</td>\n",
       "      <td>NaN</td>\n",
       "      <td>2879</td>\n",
       "      <td>https://open.spotify.com/track/3RXkboS74UYzN14...</td>\n",
       "      <td>2017-07-20</td>\n",
       "      <td>lv</td>\n",
       "    </tr>\n",
       "    <tr>\n",
       "      <th>3330731</th>\n",
       "      <td>8</td>\n",
       "      <td>NaN</td>\n",
       "      <td>NaN</td>\n",
       "      <td>2449</td>\n",
       "      <td>https://open.spotify.com/track/4JAyIDXOqNM6qHu...</td>\n",
       "      <td>2017-07-20</td>\n",
       "      <td>lv</td>\n",
       "    </tr>\n",
       "    <tr>\n",
       "      <th>3330749</th>\n",
       "      <td>26</td>\n",
       "      <td>NaN</td>\n",
       "      <td>NaN</td>\n",
       "      <td>1803</td>\n",
       "      <td>https://open.spotify.com/track/3eFJqPe8VUYrABb...</td>\n",
       "      <td>2017-07-20</td>\n",
       "      <td>lv</td>\n",
       "    </tr>\n",
       "    <tr>\n",
       "      <th>3330787</th>\n",
       "      <td>7</td>\n",
       "      <td>NaN</td>\n",
       "      <td>NaN</td>\n",
       "      <td>2776</td>\n",
       "      <td>https://open.spotify.com/track/3RXkboS74UYzN14...</td>\n",
       "      <td>2017-07-21</td>\n",
       "      <td>lv</td>\n",
       "    </tr>\n",
       "    <tr>\n",
       "      <th>3330797</th>\n",
       "      <td>17</td>\n",
       "      <td>NaN</td>\n",
       "      <td>NaN</td>\n",
       "      <td>2074</td>\n",
       "      <td>https://open.spotify.com/track/4JAyIDXOqNM6qHu...</td>\n",
       "      <td>2017-07-21</td>\n",
       "      <td>lv</td>\n",
       "    </tr>\n",
       "    <tr>\n",
       "      <th>3330814</th>\n",
       "      <td>34</td>\n",
       "      <td>NaN</td>\n",
       "      <td>NaN</td>\n",
       "      <td>1681</td>\n",
       "      <td>https://open.spotify.com/track/3eFJqPe8VUYrABb...</td>\n",
       "      <td>2017-07-21</td>\n",
       "      <td>lv</td>\n",
       "    </tr>\n",
       "    <tr>\n",
       "      <th>3353257</th>\n",
       "      <td>4</td>\n",
       "      <td>NaN</td>\n",
       "      <td>NaN</td>\n",
       "      <td>5137</td>\n",
       "      <td>https://open.spotify.com/track/3RXkboS74UYzN14...</td>\n",
       "      <td>2017-07-20</td>\n",
       "      <td>gr</td>\n",
       "    </tr>\n",
       "    <tr>\n",
       "      <th>3353259</th>\n",
       "      <td>6</td>\n",
       "      <td>NaN</td>\n",
       "      <td>NaN</td>\n",
       "      <td>4640</td>\n",
       "      <td>https://open.spotify.com/track/4JAyIDXOqNM6qHu...</td>\n",
       "      <td>2017-07-20</td>\n",
       "      <td>gr</td>\n",
       "    </tr>\n",
       "    <tr>\n",
       "      <th>3353279</th>\n",
       "      <td>26</td>\n",
       "      <td>NaN</td>\n",
       "      <td>NaN</td>\n",
       "      <td>2637</td>\n",
       "      <td>https://open.spotify.com/track/3eFJqPe8VUYrABb...</td>\n",
       "      <td>2017-07-20</td>\n",
       "      <td>gr</td>\n",
       "    </tr>\n",
       "    <tr>\n",
       "      <th>3353296</th>\n",
       "      <td>43</td>\n",
       "      <td>NaN</td>\n",
       "      <td>NaN</td>\n",
       "      <td>1856</td>\n",
       "      <td>https://open.spotify.com/track/3bVbQvGVIe4n24A...</td>\n",
       "      <td>2017-07-20</td>\n",
       "      <td>gr</td>\n",
       "    </tr>\n",
       "    <tr>\n",
       "      <th>3353332</th>\n",
       "      <td>5</td>\n",
       "      <td>NaN</td>\n",
       "      <td>NaN</td>\n",
       "      <td>4805</td>\n",
       "      <td>https://open.spotify.com/track/3RXkboS74UYzN14...</td>\n",
       "      <td>2017-07-21</td>\n",
       "      <td>gr</td>\n",
       "    </tr>\n",
       "    <tr>\n",
       "      <th>3353333</th>\n",
       "      <td>6</td>\n",
       "      <td>NaN</td>\n",
       "      <td>NaN</td>\n",
       "      <td>4138</td>\n",
       "      <td>https://open.spotify.com/track/4JAyIDXOqNM6qHu...</td>\n",
       "      <td>2017-07-21</td>\n",
       "      <td>gr</td>\n",
       "    </tr>\n",
       "    <tr>\n",
       "      <th>3353359</th>\n",
       "      <td>32</td>\n",
       "      <td>NaN</td>\n",
       "      <td>NaN</td>\n",
       "      <td>2439</td>\n",
       "      <td>https://open.spotify.com/track/3eFJqPe8VUYrABb...</td>\n",
       "      <td>2017-07-21</td>\n",
       "      <td>gr</td>\n",
       "    </tr>\n",
       "    <tr>\n",
       "      <th>3353374</th>\n",
       "      <td>47</td>\n",
       "      <td>NaN</td>\n",
       "      <td>NaN</td>\n",
       "      <td>1938</td>\n",
       "      <td>https://open.spotify.com/track/3bVbQvGVIe4n24A...</td>\n",
       "      <td>2017-07-21</td>\n",
       "      <td>gr</td>\n",
       "    </tr>\n",
       "    <tr>\n",
       "      <th>3406398</th>\n",
       "      <td>2</td>\n",
       "      <td>NaN</td>\n",
       "      <td>NaN</td>\n",
       "      <td>13297</td>\n",
       "      <td>https://open.spotify.com/track/3RXkboS74UYzN14...</td>\n",
       "      <td>2017-07-20</td>\n",
       "      <td>hk</td>\n",
       "    </tr>\n",
       "    <tr>\n",
       "      <th>3406402</th>\n",
       "      <td>6</td>\n",
       "      <td>NaN</td>\n",
       "      <td>NaN</td>\n",
       "      <td>11287</td>\n",
       "      <td>https://open.spotify.com/track/4JAyIDXOqNM6qHu...</td>\n",
       "      <td>2017-07-20</td>\n",
       "      <td>hk</td>\n",
       "    </tr>\n",
       "    <tr>\n",
       "      <th>3406420</th>\n",
       "      <td>24</td>\n",
       "      <td>NaN</td>\n",
       "      <td>NaN</td>\n",
       "      <td>7202</td>\n",
       "      <td>https://open.spotify.com/track/3eFJqPe8VUYrABb...</td>\n",
       "      <td>2017-07-20</td>\n",
       "      <td>hk</td>\n",
       "    </tr>\n",
       "    <tr>\n",
       "      <th>3406435</th>\n",
       "      <td>39</td>\n",
       "      <td>NaN</td>\n",
       "      <td>NaN</td>\n",
       "      <td>5753</td>\n",
       "      <td>https://open.spotify.com/track/3bVbQvGVIe4n24A...</td>\n",
       "      <td>2017-07-20</td>\n",
       "      <td>hk</td>\n",
       "    </tr>\n",
       "    <tr>\n",
       "      <th>3406601</th>\n",
       "      <td>5</td>\n",
       "      <td>NaN</td>\n",
       "      <td>NaN</td>\n",
       "      <td>12432</td>\n",
       "      <td>https://open.spotify.com/track/3RXkboS74UYzN14...</td>\n",
       "      <td>2017-07-21</td>\n",
       "      <td>hk</td>\n",
       "    </tr>\n",
       "    <tr>\n",
       "      <th>3406612</th>\n",
       "      <td>16</td>\n",
       "      <td>NaN</td>\n",
       "      <td>NaN</td>\n",
       "      <td>9322</td>\n",
       "      <td>https://open.spotify.com/track/4JAyIDXOqNM6qHu...</td>\n",
       "      <td>2017-07-21</td>\n",
       "      <td>hk</td>\n",
       "    </tr>\n",
       "    <tr>\n",
       "      <th>3406633</th>\n",
       "      <td>37</td>\n",
       "      <td>NaN</td>\n",
       "      <td>NaN</td>\n",
       "      <td>6452</td>\n",
       "      <td>https://open.spotify.com/track/3eFJqPe8VUYrABb...</td>\n",
       "      <td>2017-07-21</td>\n",
       "      <td>hk</td>\n",
       "    </tr>\n",
       "    <tr>\n",
       "      <th>3406651</th>\n",
       "      <td>55</td>\n",
       "      <td>NaN</td>\n",
       "      <td>NaN</td>\n",
       "      <td>5413</td>\n",
       "      <td>https://open.spotify.com/track/3bVbQvGVIe4n24A...</td>\n",
       "      <td>2017-07-21</td>\n",
       "      <td>hk</td>\n",
       "    </tr>\n",
       "    <tr>\n",
       "      <th>3406883</th>\n",
       "      <td>87</td>\n",
       "      <td>NaN</td>\n",
       "      <td>NaN</td>\n",
       "      <td>3426</td>\n",
       "      <td>https://open.spotify.com/track/6Br5mChPdgQNmLF...</td>\n",
       "      <td>2017-07-22</td>\n",
       "      <td>hk</td>\n",
       "    </tr>\n",
       "    <tr>\n",
       "      <th>3407072</th>\n",
       "      <td>76</td>\n",
       "      <td>NaN</td>\n",
       "      <td>NaN</td>\n",
       "      <td>3082</td>\n",
       "      <td>https://open.spotify.com/track/6Br5mChPdgQNmLF...</td>\n",
       "      <td>2017-07-23</td>\n",
       "      <td>hk</td>\n",
       "    </tr>\n",
       "    <tr>\n",
       "      <th>3432077</th>\n",
       "      <td>81</td>\n",
       "      <td>NaN</td>\n",
       "      <td>NaN</td>\n",
       "      <td>3397</td>\n",
       "      <td>NaN</td>\n",
       "      <td>2017-11-25</td>\n",
       "      <td>hk</td>\n",
       "    </tr>\n",
       "    <tr>\n",
       "      <th>3432383</th>\n",
       "      <td>187</td>\n",
       "      <td>NaN</td>\n",
       "      <td>NaN</td>\n",
       "      <td>1997</td>\n",
       "      <td>NaN</td>\n",
       "      <td>2017-11-26</td>\n",
       "      <td>hk</td>\n",
       "    </tr>\n",
       "  </tbody>\n",
       "</table>\n",
       "<p>657 rows × 7 columns</p>\n",
       "</div>"
      ],
      "text/plain": [
       "         Position Track Name Artist  Streams  \\\n",
       "39428          29        NaN    NaN     7362   \n",
       "39456          57        NaN    NaN     4426   \n",
       "39463          64        NaN    NaN     4069   \n",
       "39490          91        NaN    NaN     3238   \n",
       "39631          32        NaN    NaN     7409   \n",
       "39666          67        NaN    NaN     4076   \n",
       "39667          68        NaN    NaN     4059   \n",
       "39700         101        NaN    NaN     3227   \n",
       "39962         163        NaN    NaN     2112   \n",
       "40157         158        NaN    NaN     1905   \n",
       "61804           5        NaN    NaN    16767   \n",
       "62004           5        NaN    NaN    19114   \n",
       "62205           6        NaN    NaN    21390   \n",
       "62405           6        NaN    NaN    19644   \n",
       "62606           7        NaN    NaN    16155   \n",
       "62805           6        NaN    NaN    18439   \n",
       "113610         11        NaN    NaN    89528   \n",
       "113633         34        NaN    NaN    56812   \n",
       "113638         39        NaN    NaN    55701   \n",
       "113721        122        NaN    NaN    23290   \n",
       "113814         15        NaN    NaN    87212   \n",
       "113827         28        NaN    NaN    68460   \n",
       "113836         37        NaN    NaN    57977   \n",
       "113970        171        NaN    NaN    23825   \n",
       "114198        199        NaN    NaN    18868   \n",
       "114391        192        NaN    NaN    16888   \n",
       "187828         29        NaN    NaN    71631   \n",
       "187867         68        NaN    NaN    30024   \n",
       "187882         83        NaN    NaN    24808   \n",
       "187913        114        NaN    NaN    19789   \n",
       "...           ...        ...    ...      ...   \n",
       "3285870        31        NaN    NaN    82477   \n",
       "3285885        46        NaN    NaN    65288   \n",
       "3286126        87        NaN    NaN    29983   \n",
       "3286321        82        NaN    NaN    30171   \n",
       "3330726         3        NaN    NaN     2879   \n",
       "3330731         8        NaN    NaN     2449   \n",
       "3330749        26        NaN    NaN     1803   \n",
       "3330787         7        NaN    NaN     2776   \n",
       "3330797        17        NaN    NaN     2074   \n",
       "3330814        34        NaN    NaN     1681   \n",
       "3353257         4        NaN    NaN     5137   \n",
       "3353259         6        NaN    NaN     4640   \n",
       "3353279        26        NaN    NaN     2637   \n",
       "3353296        43        NaN    NaN     1856   \n",
       "3353332         5        NaN    NaN     4805   \n",
       "3353333         6        NaN    NaN     4138   \n",
       "3353359        32        NaN    NaN     2439   \n",
       "3353374        47        NaN    NaN     1938   \n",
       "3406398         2        NaN    NaN    13297   \n",
       "3406402         6        NaN    NaN    11287   \n",
       "3406420        24        NaN    NaN     7202   \n",
       "3406435        39        NaN    NaN     5753   \n",
       "3406601         5        NaN    NaN    12432   \n",
       "3406612        16        NaN    NaN     9322   \n",
       "3406633        37        NaN    NaN     6452   \n",
       "3406651        55        NaN    NaN     5413   \n",
       "3406883        87        NaN    NaN     3426   \n",
       "3407072        76        NaN    NaN     3082   \n",
       "3432077        81        NaN    NaN     3397   \n",
       "3432383       187        NaN    NaN     1997   \n",
       "\n",
       "                                                       URL        Date Region  \n",
       "39428    https://open.spotify.com/track/3RXkboS74UYzN14...  2017-07-20     ec  \n",
       "39456    https://open.spotify.com/track/4JAyIDXOqNM6qHu...  2017-07-20     ec  \n",
       "39463    https://open.spotify.com/track/3bVbQvGVIe4n24A...  2017-07-20     ec  \n",
       "39490    https://open.spotify.com/track/3eFJqPe8VUYrABb...  2017-07-20     ec  \n",
       "39631    https://open.spotify.com/track/3RXkboS74UYzN14...  2017-07-21     ec  \n",
       "39666    https://open.spotify.com/track/4JAyIDXOqNM6qHu...  2017-07-21     ec  \n",
       "39667    https://open.spotify.com/track/3bVbQvGVIe4n24A...  2017-07-21     ec  \n",
       "39700    https://open.spotify.com/track/3eFJqPe8VUYrABb...  2017-07-21     ec  \n",
       "39962    https://open.spotify.com/track/6Br5mChPdgQNmLF...  2017-07-22     ec  \n",
       "40157    https://open.spotify.com/track/6Br5mChPdgQNmLF...  2017-07-23     ec  \n",
       "61804    https://open.spotify.com/track/1YqcGlCHNquxBhl...  2017-11-09     ec  \n",
       "62004    https://open.spotify.com/track/1YqcGlCHNquxBhl...  2017-11-10     ec  \n",
       "62205    https://open.spotify.com/track/1YqcGlCHNquxBhl...  2017-11-11     ec  \n",
       "62405    https://open.spotify.com/track/1YqcGlCHNquxBhl...  2017-11-12     ec  \n",
       "62606    https://open.spotify.com/track/1YqcGlCHNquxBhl...  2017-11-13     ec  \n",
       "62805    https://open.spotify.com/track/1YqcGlCHNquxBhl...  2017-11-14     ec  \n",
       "113610   https://open.spotify.com/track/3RXkboS74UYzN14...  2017-07-20     fr  \n",
       "113633   https://open.spotify.com/track/4JAyIDXOqNM6qHu...  2017-07-20     fr  \n",
       "113638   https://open.spotify.com/track/3bVbQvGVIe4n24A...  2017-07-20     fr  \n",
       "113721   https://open.spotify.com/track/3eFJqPe8VUYrABb...  2017-07-20     fr  \n",
       "113814   https://open.spotify.com/track/3RXkboS74UYzN14...  2017-07-21     fr  \n",
       "113827   https://open.spotify.com/track/4JAyIDXOqNM6qHu...  2017-07-21     fr  \n",
       "113836   https://open.spotify.com/track/3bVbQvGVIe4n24A...  2017-07-21     fr  \n",
       "113970   https://open.spotify.com/track/3eFJqPe8VUYrABb...  2017-07-21     fr  \n",
       "114198   https://open.spotify.com/track/6Br5mChPdgQNmLF...  2017-07-22     fr  \n",
       "114391   https://open.spotify.com/track/6Br5mChPdgQNmLF...  2017-07-23     fr  \n",
       "187828   https://open.spotify.com/track/3RXkboS74UYzN14...  2017-07-20     ar  \n",
       "187867   https://open.spotify.com/track/4JAyIDXOqNM6qHu...  2017-07-20     ar  \n",
       "187882   https://open.spotify.com/track/3eFJqPe8VUYrABb...  2017-07-20     ar  \n",
       "187913   https://open.spotify.com/track/3bVbQvGVIe4n24A...  2017-07-20     ar  \n",
       "...                                                    ...         ...    ...  \n",
       "3285870  https://open.spotify.com/track/4JAyIDXOqNM6qHu...  2017-07-21     au  \n",
       "3285885  https://open.spotify.com/track/3bVbQvGVIe4n24A...  2017-07-21     au  \n",
       "3286126  https://open.spotify.com/track/6Br5mChPdgQNmLF...  2017-07-22     au  \n",
       "3286321  https://open.spotify.com/track/6Br5mChPdgQNmLF...  2017-07-23     au  \n",
       "3330726  https://open.spotify.com/track/3RXkboS74UYzN14...  2017-07-20     lv  \n",
       "3330731  https://open.spotify.com/track/4JAyIDXOqNM6qHu...  2017-07-20     lv  \n",
       "3330749  https://open.spotify.com/track/3eFJqPe8VUYrABb...  2017-07-20     lv  \n",
       "3330787  https://open.spotify.com/track/3RXkboS74UYzN14...  2017-07-21     lv  \n",
       "3330797  https://open.spotify.com/track/4JAyIDXOqNM6qHu...  2017-07-21     lv  \n",
       "3330814  https://open.spotify.com/track/3eFJqPe8VUYrABb...  2017-07-21     lv  \n",
       "3353257  https://open.spotify.com/track/3RXkboS74UYzN14...  2017-07-20     gr  \n",
       "3353259  https://open.spotify.com/track/4JAyIDXOqNM6qHu...  2017-07-20     gr  \n",
       "3353279  https://open.spotify.com/track/3eFJqPe8VUYrABb...  2017-07-20     gr  \n",
       "3353296  https://open.spotify.com/track/3bVbQvGVIe4n24A...  2017-07-20     gr  \n",
       "3353332  https://open.spotify.com/track/3RXkboS74UYzN14...  2017-07-21     gr  \n",
       "3353333  https://open.spotify.com/track/4JAyIDXOqNM6qHu...  2017-07-21     gr  \n",
       "3353359  https://open.spotify.com/track/3eFJqPe8VUYrABb...  2017-07-21     gr  \n",
       "3353374  https://open.spotify.com/track/3bVbQvGVIe4n24A...  2017-07-21     gr  \n",
       "3406398  https://open.spotify.com/track/3RXkboS74UYzN14...  2017-07-20     hk  \n",
       "3406402  https://open.spotify.com/track/4JAyIDXOqNM6qHu...  2017-07-20     hk  \n",
       "3406420  https://open.spotify.com/track/3eFJqPe8VUYrABb...  2017-07-20     hk  \n",
       "3406435  https://open.spotify.com/track/3bVbQvGVIe4n24A...  2017-07-20     hk  \n",
       "3406601  https://open.spotify.com/track/3RXkboS74UYzN14...  2017-07-21     hk  \n",
       "3406612  https://open.spotify.com/track/4JAyIDXOqNM6qHu...  2017-07-21     hk  \n",
       "3406633  https://open.spotify.com/track/3eFJqPe8VUYrABb...  2017-07-21     hk  \n",
       "3406651  https://open.spotify.com/track/3bVbQvGVIe4n24A...  2017-07-21     hk  \n",
       "3406883  https://open.spotify.com/track/6Br5mChPdgQNmLF...  2017-07-22     hk  \n",
       "3407072  https://open.spotify.com/track/6Br5mChPdgQNmLF...  2017-07-23     hk  \n",
       "3432077                                                NaN  2017-11-25     hk  \n",
       "3432383                                                NaN  2017-11-26     hk  \n",
       "\n",
       "[657 rows x 7 columns]"
      ]
     },
     "execution_count": 12,
     "metadata": {},
     "output_type": "execute_result"
    }
   ],
   "source": [
    "top_songs[top_songs['Track Name'].isnull()]"
   ]
  },
  {
   "cell_type": "code",
   "execution_count": 13,
   "metadata": {},
   "outputs": [
    {
     "data": {
      "text/plain": [
       "array(['ec', 'fr', 'ar', 'fi', 'no', 'it', 'lt', 'ph', 'tw', 'nz', 'ee',\n",
       "       'tr', 'us', 'sv', 'cr', 'de', 'cl', 'jp', 'br', 'hn', 'gt', 'ch',\n",
       "       'hu', 'ca', 'pe', 'be', 'my', 'dk', 'bo', 'pl', 'at', 'pt', 'se',\n",
       "       'mx', 'pa', 'uy', 'is', 'es', 'cz', 'ie', 'nl', 'sk', 'co', 'sg',\n",
       "       'id', 'do', 'lu', 'gb', 'global', 'py', 'au', 'lv', 'gr', 'hk'],\n",
       "      dtype=object)"
      ]
     },
     "execution_count": 13,
     "metadata": {},
     "output_type": "execute_result"
    }
   ],
   "source": [
    "# look at unique regions that are missing data\n",
    "top_songs[top_songs['Track Name'].isnull()]['Region'].unique()\n",
    "# this code might be wrong..."
   ]
  },
  {
   "cell_type": "markdown",
   "metadata": {},
   "source": [
    "I think I have to drop the rows with NULL values for Trackname and Artist.\n",
    "There is no way I can in any way fill this in. And it is going to be really hard to put together with the analysis from the lyrics, since I do not know what song it is. \n",
    "I is 657 songs out of 3,441,197. That is 0.019%...so I still have way more than 95% of my data.\n",
    "The missing data seem to be distributed over different regions and not only one or a few.\n",
    "\n",
    "DROP THE ROWS WITH NULL VALUES IN THE END...some rows might be excluded by other reasons."
   ]
  },
  {
   "cell_type": "code",
   "execution_count": 14,
   "metadata": {},
   "outputs": [
    {
     "data": {
      "text/plain": [
       "dtype('O')"
      ]
     },
     "execution_count": 14,
     "metadata": {},
     "output_type": "execute_result"
    }
   ],
   "source": [
    "top_songs['Track Name'].dtype"
   ]
  },
  {
   "cell_type": "markdown",
   "metadata": {},
   "source": [
    "COMMENT: I think I might have a need to exclude asia as a region du to different language signs. Will be really hard for the lyrics part. Might have to exclude other regions as well, based on that."
   ]
  },
  {
   "cell_type": "markdown",
   "metadata": {
    "collapsed": true
   },
   "source": [
    "#### Look at the column Artist"
   ]
  },
  {
   "cell_type": "code",
   "execution_count": 15,
   "metadata": {},
   "outputs": [
    {
     "data": {
      "text/plain": [
       "657"
      ]
     },
     "execution_count": 15,
     "metadata": {},
     "output_type": "execute_result"
    }
   ],
   "source": [
    "top_songs['Artist'].isnull().sum()"
   ]
  },
  {
   "cell_type": "code",
   "execution_count": 16,
   "metadata": {},
   "outputs": [
    {
     "data": {
      "text/plain": [
       "array(['CNCO', 'Shakira', 'Zion & Lennox', ..., 'E-Kids', 'Jane Zhang',\n",
       "       '帶菌者'], dtype=object)"
      ]
     },
     "execution_count": 16,
     "metadata": {},
     "output_type": "execute_result"
    }
   ],
   "source": [
    "top_songs['Artist'].unique()"
   ]
  },
  {
   "cell_type": "code",
   "execution_count": 17,
   "metadata": {},
   "outputs": [
    {
     "data": {
      "text/plain": [
       "dtype('O')"
      ]
     },
     "execution_count": 17,
     "metadata": {},
     "output_type": "execute_result"
    }
   ],
   "source": [
    "top_songs['Artist'].dtype"
   ]
  },
  {
   "cell_type": "markdown",
   "metadata": {},
   "source": [
    "COMMENT: I think I might have a need to exclude asia as a region du to different language signs. Will be really hard for the lyrics part. Might have to exclude other regions as well, based on that."
   ]
  },
  {
   "cell_type": "markdown",
   "metadata": {},
   "source": [
    "#### Look at the column Streams"
   ]
  },
  {
   "cell_type": "code",
   "execution_count": 18,
   "metadata": {},
   "outputs": [
    {
     "data": {
      "text/plain": [
       "0"
      ]
     },
     "execution_count": 18,
     "metadata": {},
     "output_type": "execute_result"
    }
   ],
   "source": [
    "top_songs['Streams'].isnull().sum()"
   ]
  },
  {
   "cell_type": "code",
   "execution_count": 19,
   "metadata": {},
   "outputs": [
    {
     "data": {
      "text/plain": [
       "dtype('int64')"
      ]
     },
     "execution_count": 19,
     "metadata": {},
     "output_type": "execute_result"
    }
   ],
   "source": [
    "top_songs['Streams'].dtype"
   ]
  },
  {
   "cell_type": "markdown",
   "metadata": {},
   "source": [
    "COMMENT: Looks good. No NULL-values and they are all integer. Hurray!"
   ]
  },
  {
   "cell_type": "markdown",
   "metadata": {},
   "source": [
    "#### Look at the column Date"
   ]
  },
  {
   "cell_type": "code",
   "execution_count": 20,
   "metadata": {},
   "outputs": [
    {
     "data": {
      "text/plain": [
       "0"
      ]
     },
     "execution_count": 20,
     "metadata": {},
     "output_type": "execute_result"
    }
   ],
   "source": [
    "top_songs['Date'].isnull().sum()"
   ]
  },
  {
   "cell_type": "code",
   "execution_count": 21,
   "metadata": {},
   "outputs": [
    {
     "data": {
      "text/plain": [
       "dtype('O')"
      ]
     },
     "execution_count": 21,
     "metadata": {},
     "output_type": "execute_result"
    }
   ],
   "source": [
    "top_songs['Date'].dtype"
   ]
  },
  {
   "cell_type": "code",
   "execution_count": 22,
   "metadata": {
    "collapsed": true,
    "scrolled": true
   },
   "outputs": [],
   "source": [
    "# converting into datetime-format\n",
    "top_songs['Date'] = pd.to_datetime(top_songs['Date'])"
   ]
  },
  {
   "cell_type": "code",
   "execution_count": 23,
   "metadata": {},
   "outputs": [
    {
     "data": {
      "text/plain": [
       "dtype('<M8[ns]')"
      ]
     },
     "execution_count": 23,
     "metadata": {},
     "output_type": "execute_result"
    }
   ],
   "source": [
    "top_songs['Date'].dtype"
   ]
  },
  {
   "cell_type": "code",
   "execution_count": 24,
   "metadata": {},
   "outputs": [
    {
     "data": {
      "text/plain": [
       "Timestamp('2017-01-01 00:00:00')"
      ]
     },
     "execution_count": 24,
     "metadata": {},
     "output_type": "execute_result"
    }
   ],
   "source": [
    "top_songs['Date'].min()"
   ]
  },
  {
   "cell_type": "code",
   "execution_count": 25,
   "metadata": {},
   "outputs": [
    {
     "data": {
      "text/plain": [
       "Timestamp('2018-01-09 00:00:00')"
      ]
     },
     "execution_count": 25,
     "metadata": {},
     "output_type": "execute_result"
    }
   ],
   "source": [
    "top_songs['Date'].max()"
   ]
  },
  {
   "cell_type": "code",
   "execution_count": 26,
   "metadata": {
    "collapsed": true
   },
   "outputs": [],
   "source": [
    "# I do want to remove the 9 days in 2018. I only want data for 2017. That is one of my limitations. "
   ]
  },
  {
   "cell_type": "code",
   "execution_count": 27,
   "metadata": {
    "collapsed": true,
    "scrolled": true
   },
   "outputs": [],
   "source": [
    "# make new column for year. Then drop all rows from 2018\n",
    "top_songs['Year'] = top_songs['Date'].dt.year"
   ]
  },
  {
   "cell_type": "code",
   "execution_count": 28,
   "metadata": {},
   "outputs": [
    {
     "data": {
      "text/html": [
       "<div>\n",
       "<style>\n",
       "    .dataframe thead tr:only-child th {\n",
       "        text-align: right;\n",
       "    }\n",
       "\n",
       "    .dataframe thead th {\n",
       "        text-align: left;\n",
       "    }\n",
       "\n",
       "    .dataframe tbody tr th {\n",
       "        vertical-align: top;\n",
       "    }\n",
       "</style>\n",
       "<table border=\"1\" class=\"dataframe\">\n",
       "  <thead>\n",
       "    <tr style=\"text-align: right;\">\n",
       "      <th></th>\n",
       "      <th>Position</th>\n",
       "      <th>Track Name</th>\n",
       "      <th>Artist</th>\n",
       "      <th>Streams</th>\n",
       "      <th>URL</th>\n",
       "      <th>Date</th>\n",
       "      <th>Region</th>\n",
       "      <th>Year</th>\n",
       "    </tr>\n",
       "  </thead>\n",
       "  <tbody>\n",
       "    <tr>\n",
       "      <th>0</th>\n",
       "      <td>1</td>\n",
       "      <td>Reggaetón Lento (Bailemos)</td>\n",
       "      <td>CNCO</td>\n",
       "      <td>19272</td>\n",
       "      <td>https://open.spotify.com/track/3AEZUABDXNtecAO...</td>\n",
       "      <td>2017-01-01</td>\n",
       "      <td>ec</td>\n",
       "      <td>2017</td>\n",
       "    </tr>\n",
       "    <tr>\n",
       "      <th>1</th>\n",
       "      <td>2</td>\n",
       "      <td>Chantaje</td>\n",
       "      <td>Shakira</td>\n",
       "      <td>19270</td>\n",
       "      <td>https://open.spotify.com/track/6mICuAdrwEjh6Y6...</td>\n",
       "      <td>2017-01-01</td>\n",
       "      <td>ec</td>\n",
       "      <td>2017</td>\n",
       "    </tr>\n",
       "    <tr>\n",
       "      <th>2</th>\n",
       "      <td>3</td>\n",
       "      <td>Otra Vez (feat. J Balvin)</td>\n",
       "      <td>Zion &amp; Lennox</td>\n",
       "      <td>15761</td>\n",
       "      <td>https://open.spotify.com/track/3QwBODjSEzelZyV...</td>\n",
       "      <td>2017-01-01</td>\n",
       "      <td>ec</td>\n",
       "      <td>2017</td>\n",
       "    </tr>\n",
       "    <tr>\n",
       "      <th>3</th>\n",
       "      <td>4</td>\n",
       "      <td>Vente Pa' Ca</td>\n",
       "      <td>Ricky Martin</td>\n",
       "      <td>14954</td>\n",
       "      <td>https://open.spotify.com/track/7DM4BPaS7uofFul...</td>\n",
       "      <td>2017-01-01</td>\n",
       "      <td>ec</td>\n",
       "      <td>2017</td>\n",
       "    </tr>\n",
       "    <tr>\n",
       "      <th>4</th>\n",
       "      <td>5</td>\n",
       "      <td>Safari</td>\n",
       "      <td>J Balvin</td>\n",
       "      <td>14269</td>\n",
       "      <td>https://open.spotify.com/track/6rQSrBHf7HlZjtc...</td>\n",
       "      <td>2017-01-01</td>\n",
       "      <td>ec</td>\n",
       "      <td>2017</td>\n",
       "    </tr>\n",
       "  </tbody>\n",
       "</table>\n",
       "</div>"
      ],
      "text/plain": [
       "   Position                  Track Name         Artist  Streams  \\\n",
       "0         1  Reggaetón Lento (Bailemos)           CNCO    19272   \n",
       "1         2                    Chantaje        Shakira    19270   \n",
       "2         3   Otra Vez (feat. J Balvin)  Zion & Lennox    15761   \n",
       "3         4                Vente Pa' Ca   Ricky Martin    14954   \n",
       "4         5                      Safari       J Balvin    14269   \n",
       "\n",
       "                                                 URL       Date Region  Year  \n",
       "0  https://open.spotify.com/track/3AEZUABDXNtecAO... 2017-01-01     ec  2017  \n",
       "1  https://open.spotify.com/track/6mICuAdrwEjh6Y6... 2017-01-01     ec  2017  \n",
       "2  https://open.spotify.com/track/3QwBODjSEzelZyV... 2017-01-01     ec  2017  \n",
       "3  https://open.spotify.com/track/7DM4BPaS7uofFul... 2017-01-01     ec  2017  \n",
       "4  https://open.spotify.com/track/6rQSrBHf7HlZjtc... 2017-01-01     ec  2017  "
      ]
     },
     "execution_count": 28,
     "metadata": {},
     "output_type": "execute_result"
    }
   ],
   "source": [
    "top_songs.head()"
   ]
  },
  {
   "cell_type": "code",
   "execution_count": 29,
   "metadata": {
    "collapsed": true
   },
   "outputs": [],
   "source": [
    "#  make new data frame with only data for year 2017\n",
    "top_songs = top_songs[top_songs['Year'] != 2018]"
   ]
  },
  {
   "cell_type": "code",
   "execution_count": 30,
   "metadata": {},
   "outputs": [
    {
     "data": {
      "text/plain": [
       "Timestamp('2017-12-31 00:00:00')"
      ]
     },
     "execution_count": 30,
     "metadata": {},
     "output_type": "execute_result"
    }
   ],
   "source": [
    "top_songs['Date'].max()"
   ]
  },
  {
   "cell_type": "code",
   "execution_count": 31,
   "metadata": {
    "collapsed": true
   },
   "outputs": [],
   "source": [
    "# make new column for month. \n",
    "top_songs['Month'] = top_songs['Date'].dt.month"
   ]
  },
  {
   "cell_type": "code",
   "execution_count": 32,
   "metadata": {
    "collapsed": true
   },
   "outputs": [],
   "source": [
    "# make new column for day. \n",
    "top_songs['Day'] = top_songs['Date'].dt.day"
   ]
  },
  {
   "cell_type": "code",
   "execution_count": 33,
   "metadata": {},
   "outputs": [
    {
     "data": {
      "text/html": [
       "<div>\n",
       "<style>\n",
       "    .dataframe thead tr:only-child th {\n",
       "        text-align: right;\n",
       "    }\n",
       "\n",
       "    .dataframe thead th {\n",
       "        text-align: left;\n",
       "    }\n",
       "\n",
       "    .dataframe tbody tr th {\n",
       "        vertical-align: top;\n",
       "    }\n",
       "</style>\n",
       "<table border=\"1\" class=\"dataframe\">\n",
       "  <thead>\n",
       "    <tr style=\"text-align: right;\">\n",
       "      <th></th>\n",
       "      <th>Position</th>\n",
       "      <th>Track Name</th>\n",
       "      <th>Artist</th>\n",
       "      <th>Streams</th>\n",
       "      <th>URL</th>\n",
       "      <th>Date</th>\n",
       "      <th>Region</th>\n",
       "      <th>Year</th>\n",
       "      <th>Month</th>\n",
       "      <th>Day</th>\n",
       "    </tr>\n",
       "  </thead>\n",
       "  <tbody>\n",
       "    <tr>\n",
       "      <th>0</th>\n",
       "      <td>1</td>\n",
       "      <td>Reggaetón Lento (Bailemos)</td>\n",
       "      <td>CNCO</td>\n",
       "      <td>19272</td>\n",
       "      <td>https://open.spotify.com/track/3AEZUABDXNtecAO...</td>\n",
       "      <td>2017-01-01</td>\n",
       "      <td>ec</td>\n",
       "      <td>2017</td>\n",
       "      <td>1</td>\n",
       "      <td>1</td>\n",
       "    </tr>\n",
       "    <tr>\n",
       "      <th>1</th>\n",
       "      <td>2</td>\n",
       "      <td>Chantaje</td>\n",
       "      <td>Shakira</td>\n",
       "      <td>19270</td>\n",
       "      <td>https://open.spotify.com/track/6mICuAdrwEjh6Y6...</td>\n",
       "      <td>2017-01-01</td>\n",
       "      <td>ec</td>\n",
       "      <td>2017</td>\n",
       "      <td>1</td>\n",
       "      <td>1</td>\n",
       "    </tr>\n",
       "    <tr>\n",
       "      <th>2</th>\n",
       "      <td>3</td>\n",
       "      <td>Otra Vez (feat. J Balvin)</td>\n",
       "      <td>Zion &amp; Lennox</td>\n",
       "      <td>15761</td>\n",
       "      <td>https://open.spotify.com/track/3QwBODjSEzelZyV...</td>\n",
       "      <td>2017-01-01</td>\n",
       "      <td>ec</td>\n",
       "      <td>2017</td>\n",
       "      <td>1</td>\n",
       "      <td>1</td>\n",
       "    </tr>\n",
       "    <tr>\n",
       "      <th>3</th>\n",
       "      <td>4</td>\n",
       "      <td>Vente Pa' Ca</td>\n",
       "      <td>Ricky Martin</td>\n",
       "      <td>14954</td>\n",
       "      <td>https://open.spotify.com/track/7DM4BPaS7uofFul...</td>\n",
       "      <td>2017-01-01</td>\n",
       "      <td>ec</td>\n",
       "      <td>2017</td>\n",
       "      <td>1</td>\n",
       "      <td>1</td>\n",
       "    </tr>\n",
       "    <tr>\n",
       "      <th>4</th>\n",
       "      <td>5</td>\n",
       "      <td>Safari</td>\n",
       "      <td>J Balvin</td>\n",
       "      <td>14269</td>\n",
       "      <td>https://open.spotify.com/track/6rQSrBHf7HlZjtc...</td>\n",
       "      <td>2017-01-01</td>\n",
       "      <td>ec</td>\n",
       "      <td>2017</td>\n",
       "      <td>1</td>\n",
       "      <td>1</td>\n",
       "    </tr>\n",
       "  </tbody>\n",
       "</table>\n",
       "</div>"
      ],
      "text/plain": [
       "   Position                  Track Name         Artist  Streams  \\\n",
       "0         1  Reggaetón Lento (Bailemos)           CNCO    19272   \n",
       "1         2                    Chantaje        Shakira    19270   \n",
       "2         3   Otra Vez (feat. J Balvin)  Zion & Lennox    15761   \n",
       "3         4                Vente Pa' Ca   Ricky Martin    14954   \n",
       "4         5                      Safari       J Balvin    14269   \n",
       "\n",
       "                                                 URL       Date Region  Year  \\\n",
       "0  https://open.spotify.com/track/3AEZUABDXNtecAO... 2017-01-01     ec  2017   \n",
       "1  https://open.spotify.com/track/6mICuAdrwEjh6Y6... 2017-01-01     ec  2017   \n",
       "2  https://open.spotify.com/track/3QwBODjSEzelZyV... 2017-01-01     ec  2017   \n",
       "3  https://open.spotify.com/track/7DM4BPaS7uofFul... 2017-01-01     ec  2017   \n",
       "4  https://open.spotify.com/track/6rQSrBHf7HlZjtc... 2017-01-01     ec  2017   \n",
       "\n",
       "   Month  Day  \n",
       "0      1    1  \n",
       "1      1    1  \n",
       "2      1    1  \n",
       "3      1    1  \n",
       "4      1    1  "
      ]
     },
     "execution_count": 33,
     "metadata": {},
     "output_type": "execute_result"
    }
   ],
   "source": [
    "top_songs.head()"
   ]
  },
  {
   "cell_type": "markdown",
   "metadata": {},
   "source": [
    "COMMENT: When all the data put together is in one data frame the Date column has to be transformed into datetime-format again (that format is not saved I think i the csv file). I might also like to make separat columns for year, month and day separatly. "
   ]
  },
  {
   "cell_type": "markdown",
   "metadata": {},
   "source": [
    "#### Look at the column Region (will be renamed to Country)"
   ]
  },
  {
   "cell_type": "code",
   "execution_count": 34,
   "metadata": {
    "collapsed": true
   },
   "outputs": [],
   "source": [
    "# Rename the column Region to Country\n",
    "top_songs.rename(columns={'Region': 'Country'}, inplace=True)"
   ]
  },
  {
   "cell_type": "code",
   "execution_count": 35,
   "metadata": {},
   "outputs": [
    {
     "data": {
      "text/plain": [
       "Index(['Position', 'Track Name', 'Artist', 'Streams', 'URL', 'Date', 'Country',\n",
       "       'Year', 'Month', 'Day'],\n",
       "      dtype='object')"
      ]
     },
     "execution_count": 35,
     "metadata": {},
     "output_type": "execute_result"
    }
   ],
   "source": [
    "top_songs.columns"
   ]
  },
  {
   "cell_type": "code",
   "execution_count": 36,
   "metadata": {},
   "outputs": [
    {
     "data": {
      "text/plain": [
       "0"
      ]
     },
     "execution_count": 36,
     "metadata": {},
     "output_type": "execute_result"
    }
   ],
   "source": [
    "top_songs['Country'].isnull().sum()"
   ]
  },
  {
   "cell_type": "code",
   "execution_count": 37,
   "metadata": {},
   "outputs": [
    {
     "data": {
      "text/plain": [
       "array(['ec', 'fr', 'ar', 'fi', 'no', 'it', 'lt', 'ph', 'tw', 'nz', 'ee',\n",
       "       'tr', 'us', 'sv', 'cr', 'de', 'cl', 'jp', 'br', 'hn', 'gt', 'ch',\n",
       "       'hu', 'ca', 'pe', 'be', 'my', 'dk', 'bo', 'pl', 'at', 'pt', 'se',\n",
       "       'mx', 'pa', 'uy', 'is', 'es', 'cz', 'ie', 'nl', 'sk', 'co', 'sg',\n",
       "       'id', 'do', 'lu', 'gb', 'global', 'py', 'au', 'lv', 'gr', 'hk'],\n",
       "      dtype=object)"
      ]
     },
     "execution_count": 37,
     "metadata": {},
     "output_type": "execute_result"
    }
   ],
   "source": [
    "top_songs['Country'].unique()"
   ]
  },
  {
   "cell_type": "code",
   "execution_count": 38,
   "metadata": {},
   "outputs": [
    {
     "data": {
      "text/plain": [
       "array(['ar', 'at', 'au', 'be', 'bo', 'br', 'ca', 'ch', 'cl', 'co', 'cr',\n",
       "       'cz', 'de', 'dk', 'do', 'ec', 'ee', 'es', 'fi', 'fr', 'gb',\n",
       "       'global', 'gr', 'gt', 'hk', 'hn', 'hu', 'id', 'ie', 'is', 'it',\n",
       "       'jp', 'lt', 'lu', 'lv', 'mx', 'my', 'nl', 'no', 'nz', 'pa', 'pe',\n",
       "       'ph', 'pl', 'pt', 'py', 'se', 'sg', 'sk', 'sv', 'tr', 'tw', 'us',\n",
       "       'uy'], dtype=object)"
      ]
     },
     "execution_count": 38,
     "metadata": {},
     "output_type": "execute_result"
    }
   ],
   "source": [
    "np.sort(top_songs['Country'].unique())"
   ]
  },
  {
   "cell_type": "code",
   "execution_count": 39,
   "metadata": {},
   "outputs": [
    {
     "data": {
      "text/plain": [
       "dtype('O')"
      ]
     },
     "execution_count": 39,
     "metadata": {},
     "output_type": "execute_result"
    }
   ],
   "source": [
    "top_songs['Country'].dtype"
   ]
  },
  {
   "cell_type": "markdown",
   "metadata": {},
   "source": [
    "On Kaggle someone already created a dictonary with the real names of the regions (countries). Very convenient!<BR />\n",
    "I will put it in the read me file under info about data or something similar<BR />\n",
    "https://www.kaggle.com/mrncst/simple-exploratory-analysis-of-spotify-songs<BR />\n",
    "I do not want to change my names however (a short version is esier to work with).<BR />\n",
    "Why do I need to know this. Bc I do want to group countries into bigger \"regions\" based on continents."
   ]
  },
  {
   "cell_type": "markdown",
   "metadata": {},
   "source": [
    "'ar':'Argentina'<BR />\n",
    "'at':'Austria'<BR />\n",
    "'au':'Australia'<BR />\n",
    "'be':'Belgium'<BR />\n",
    "'bo':'Bolivia'<BR />\n",
    "'br':'Brazil'<BR />\n",
    "'ca':'Canada'<BR />\n",
    "'ch':'Switzerland'<BR />\n",
    "'cl':'Chile'<BR />\n",
    "'co':'Columbia'<BR />\n",
    "'cr':'CostaRica'<BR />\n",
    "'cz':'CzechRepublic'<BR />\n",
    "'de':'Germany'<BR />\n",
    "'dk':'Denmark'<BR />\n",
    "'do':'DominicanRepublic'<BR />\n",
    "'ec':'Ecuador'<BR />\n",
    "'ee':'Estonia'<BR />\n",
    "'es':'Spain'<BR />\n",
    "'fi':'Finland'<BR />\n",
    "'fr':'France'<BR />\n",
    "'gb':'UnitedKingdom'<BR />\n",
    "'global':'World'<BR />\n",
    "'gr':'Greece'<BR />\n",
    "'gt':'Guatemala'<BR />\n",
    "'hk':'HongKong'<BR />\n",
    "'hn':'Honduras'<BR />\n",
    "'hu':'Hungary'<BR />\n",
    "'id':'Indonesia'<BR />\n",
    "'ie':'Ireland'<BR />\n",
    "'is':'Iceland'<BR />\n",
    "'it':'Italy'<BR />\n",
    "'jp':'Japan'<BR />\n",
    "'lt':'Lithuania'<BR />\n",
    "'lu':'Luxemborg'<BR />\n",
    "'lv':'Latvia'<BR />\n",
    "'mx':'Mexico',<BR /> \n",
    "'my':'Malaysia'<BR />\n",
    "'nl':'Netherlands'<BR />\n",
    "'no':'Norway'<BR />\n",
    "'nz':'NewZealand'<BR />\n",
    "'pa':'Panama'<BR />\n",
    "'pe':'Peru',<BR />\n",
    "'ph':'Philippines'<BR />\n",
    "'pl':'Poland'<BR />\n",
    "'pt':'Portugal'<BR />\n",
    "'py':'Paraguay'<BR />\n",
    "'se':'Sweden'<BR />\n",
    "'sg':'Singapore'<BR />\n",
    "'sk':'Slovakia'<BR />\n",
    "'sv':'ElSalvador'<BR />\n",
    "'tr':'Turkey'<BR />\n",
    "'tw':'Taiwan'<BR />\n",
    "'us':'USA'<BR />\n",
    "'uy':'Uruguay'<BR />"
   ]
  },
  {
   "cell_type": "code",
   "execution_count": 40,
   "metadata": {
    "collapsed": true
   },
   "outputs": [],
   "source": [
    "# GROUP THE CONTRIES INTO REGIONS. Make a new column that indicated what bigger region (based on continent) \n",
    "# a country in the column Country belongs to. \n",
    "# Name the \"new column\" Region"
   ]
  },
  {
   "cell_type": "markdown",
   "metadata": {},
   "source": [
    "**South America (8)**<BR />\n",
    "'ar':'Argentina'<BR />\n",
    "'bo':'Bolivia'<BR />\n",
    "'br':'Brazil'<BR />\n",
    "'co':'Columbia'<BR />\n",
    "'ec':'Ecuador'<BR />\n",
    "'pe':'Peru',<BR />\n",
    "'py':'Paraguay'<BR />\n",
    "'uy':'Uruguay'<BR />\n",
    "\n",
    "**Europe (26)**<BR />\n",
    "'at':'Austria'<BR />\n",
    "'be':'Belgium'<BR />\n",
    "'ch':'Switzerland'<BR />\n",
    "'cz':'CzechRepublic'<BR />\n",
    "'de':'Germany'<BR />\n",
    "'dk':'Denmark'<BR />\n",
    "'ee':'Estonia'<BR />\n",
    "'es':'Spain'<BR />\n",
    "'fi':'Finland'<BR />\n",
    "'fr':'France'<BR />\n",
    "'gb':'UnitedKingdom'<BR />\n",
    "'gr':'Greece'<BR />\n",
    "'hu':'Hungary'<BR />\n",
    "'ie':'Ireland'<BR />\n",
    "'is':'Iceland'<BR />\n",
    "'it':'Italy'<BR />\n",
    "'lt':'Lithuania'<BR />\n",
    "'lu':'Luxemborg'<BR />\n",
    "'lv':'Latvia'<BR />\n",
    "'nl':'Netherlands'<BR />\n",
    "'no':'Norway'<BR />\n",
    "'pl':'Poland'<BR />\n",
    "'pt':'Portugal'<BR />\n",
    "'se':'Sweden'<BR />\n",
    "'sk':'Slovakia'<BR />\n",
    "'tr':'Turkey'<BR />\n",
    "\n",
    "**Oceania (2)**<BR />\n",
    "'au':'Australia'<BR />\n",
    "'nz':'NewZealand'<BR />\n",
    "\n",
    "\n",
    "**Nothe America & Caribean (9)**<BR />\n",
    "'ca':'Canada'<BR />\n",
    "'cr':'CostaRica'<BR />\n",
    "'do':'DominicanRepublic'<BR />\n",
    "'gt':'Guatemala'<BR />\n",
    "'hn':'Honduras'<BR />\n",
    "'mx':'Mexico',<BR /> \n",
    "'pa':'Panama'<BR />\n",
    "'sv':'ElSalvador'<BR />\n",
    "'us':'USA'<BR />\n",
    "\n",
    "**Asia (7)**<BR />\n",
    "'hk':'HongKong'<BR />\n",
    "'id':'Indonesia'<BR />\n",
    "'jp':'Japan'<BR />\n",
    "'my':'Malaysia'<BR />\n",
    "'ph':'Philippines'<BR />\n",
    "'sg':'Singapore'<BR />\n",
    "'tw':'Taiwan'<BR />\n",
    "\n",
    "**Other (1)**<BR />\n",
    "'global':'World'<BR />"
   ]
  },
  {
   "cell_type": "code",
   "execution_count": 41,
   "metadata": {
    "collapsed": true
   },
   "outputs": [],
   "source": [
    "# Create new column for Region (based on continent)\n",
    "def country_to_region(country):\n",
    "    sa = ['ar', 'bo', 'br', 'co', 'ec', 'pe', 'py', 'uy']\n",
    "    eu = ['at', 'be', 'ch', 'cz', 'de', 'dk', 'ee', 'es', 'fi', 'fr', \n",
    "          'gb', 'gr', 'hu', 'ie', 'is', 'it', 'lt', 'lu', 'lv', 'nl', \n",
    "          'no', 'pl', 'pt', 'se', 'sk', 'tr']\n",
    "    oc = ['au', 'nz' ]\n",
    "    na = ['ca', 'cr', 'do', 'gt', 'hn', 'mx', 'pa', 'sv', 'us']\n",
    "    asi = ['hk', 'id', 'jp', 'my', 'ph', 'sg', 'tw']\n",
    "    \n",
    "    if country in sa:\n",
    "        return 'sa'\n",
    "    elif country in eu:\n",
    "        return 'eu'\n",
    "    elif country in oc:\n",
    "        return 'oc'\n",
    "    elif country in na:\n",
    "        return 'na'\n",
    "    elif country in asi:\n",
    "        return 'as'\n",
    "    else:\n",
    "        return 'world'\n",
    "\n",
    "top_songs['Region'] = top_songs['Country'].apply(country_to_region)"
   ]
  },
  {
   "cell_type": "code",
   "execution_count": 42,
   "metadata": {},
   "outputs": [
    {
     "data": {
      "text/plain": [
       "array(['sa', 'eu', 'as', 'oc', 'na', 'world'], dtype=object)"
      ]
     },
     "execution_count": 42,
     "metadata": {},
     "output_type": "execute_result"
    }
   ],
   "source": [
    "top_songs['Region'].unique()"
   ]
  },
  {
   "cell_type": "markdown",
   "metadata": {},
   "source": [
    "COMMENT: I might want to focus more on one of the regions (based on continent). The column Global is what I think it it, it can be used for feature engineering. You might want to see if a country is deviating a lot from global/average for example."
   ]
  },
  {
   "cell_type": "markdown",
   "metadata": {},
   "source": [
    "**Look at missing value again for the columns Track Name and Artist**"
   ]
  },
  {
   "cell_type": "code",
   "execution_count": 43,
   "metadata": {},
   "outputs": [
    {
     "data": {
      "text/plain": [
       "657"
      ]
     },
     "execution_count": 43,
     "metadata": {},
     "output_type": "execute_result"
    }
   ],
   "source": [
    "top_songs['Track Name'].isnull().sum()"
   ]
  },
  {
   "cell_type": "code",
   "execution_count": 44,
   "metadata": {},
   "outputs": [
    {
     "data": {
      "text/plain": [
       "657"
      ]
     },
     "execution_count": 44,
     "metadata": {},
     "output_type": "execute_result"
    }
   ],
   "source": [
    "top_songs['Artist'].isnull().sum()"
   ]
  },
  {
   "cell_type": "code",
   "execution_count": 45,
   "metadata": {},
   "outputs": [
    {
     "data": {
      "text/plain": [
       "(3356486, 11)"
      ]
     },
     "execution_count": 45,
     "metadata": {},
     "output_type": "execute_result"
    }
   ],
   "source": [
    "top_songs.shape"
   ]
  },
  {
   "cell_type": "markdown",
   "metadata": {},
   "source": [
    "Drop rows with missing values in any column (we know that there are only missing values in the columns Track Name and Artist)"
   ]
  },
  {
   "cell_type": "code",
   "execution_count": 46,
   "metadata": {
    "collapsed": true
   },
   "outputs": [],
   "source": [
    "top_songs = top_songs.dropna(axis=0, how='any')"
   ]
  },
  {
   "cell_type": "code",
   "execution_count": 47,
   "metadata": {},
   "outputs": [
    {
     "data": {
      "text/plain": [
       "(3355829, 11)"
      ]
     },
     "execution_count": 47,
     "metadata": {},
     "output_type": "execute_result"
    }
   ],
   "source": [
    "top_songs.shape"
   ]
  },
  {
   "cell_type": "code",
   "execution_count": 48,
   "metadata": {},
   "outputs": [
    {
     "data": {
      "text/plain": [
       "657"
      ]
     },
     "execution_count": 48,
     "metadata": {},
     "output_type": "execute_result"
    }
   ],
   "source": [
    "# Look that we have successfully dropped 657 rows. (It also tells us that all the missing values that existed in the \n",
    "# column Track Name corresponded ti missing values in the column Artist.)\n",
    "3356486-3355829"
   ]
  },
  {
   "cell_type": "code",
   "execution_count": null,
   "metadata": {
    "collapsed": true
   },
   "outputs": [],
   "source": [
    "# Keep in mind that some positions will be missing after dropping rows"
   ]
  },
  {
   "cell_type": "markdown",
   "metadata": {},
   "source": [
    "Change the order of the columns"
   ]
  },
  {
   "cell_type": "code",
   "execution_count": 49,
   "metadata": {},
   "outputs": [
    {
     "data": {
      "text/html": [
       "<div>\n",
       "<style>\n",
       "    .dataframe thead tr:only-child th {\n",
       "        text-align: right;\n",
       "    }\n",
       "\n",
       "    .dataframe thead th {\n",
       "        text-align: left;\n",
       "    }\n",
       "\n",
       "    .dataframe tbody tr th {\n",
       "        vertical-align: top;\n",
       "    }\n",
       "</style>\n",
       "<table border=\"1\" class=\"dataframe\">\n",
       "  <thead>\n",
       "    <tr style=\"text-align: right;\">\n",
       "      <th></th>\n",
       "      <th>Position</th>\n",
       "      <th>Track Name</th>\n",
       "      <th>Artist</th>\n",
       "      <th>Streams</th>\n",
       "      <th>URL</th>\n",
       "      <th>Date</th>\n",
       "      <th>Country</th>\n",
       "      <th>Year</th>\n",
       "      <th>Month</th>\n",
       "      <th>Day</th>\n",
       "      <th>Region</th>\n",
       "    </tr>\n",
       "  </thead>\n",
       "  <tbody>\n",
       "    <tr>\n",
       "      <th>0</th>\n",
       "      <td>1</td>\n",
       "      <td>Reggaetón Lento (Bailemos)</td>\n",
       "      <td>CNCO</td>\n",
       "      <td>19272</td>\n",
       "      <td>https://open.spotify.com/track/3AEZUABDXNtecAO...</td>\n",
       "      <td>2017-01-01</td>\n",
       "      <td>ec</td>\n",
       "      <td>2017</td>\n",
       "      <td>1</td>\n",
       "      <td>1</td>\n",
       "      <td>sa</td>\n",
       "    </tr>\n",
       "    <tr>\n",
       "      <th>1</th>\n",
       "      <td>2</td>\n",
       "      <td>Chantaje</td>\n",
       "      <td>Shakira</td>\n",
       "      <td>19270</td>\n",
       "      <td>https://open.spotify.com/track/6mICuAdrwEjh6Y6...</td>\n",
       "      <td>2017-01-01</td>\n",
       "      <td>ec</td>\n",
       "      <td>2017</td>\n",
       "      <td>1</td>\n",
       "      <td>1</td>\n",
       "      <td>sa</td>\n",
       "    </tr>\n",
       "    <tr>\n",
       "      <th>2</th>\n",
       "      <td>3</td>\n",
       "      <td>Otra Vez (feat. J Balvin)</td>\n",
       "      <td>Zion &amp; Lennox</td>\n",
       "      <td>15761</td>\n",
       "      <td>https://open.spotify.com/track/3QwBODjSEzelZyV...</td>\n",
       "      <td>2017-01-01</td>\n",
       "      <td>ec</td>\n",
       "      <td>2017</td>\n",
       "      <td>1</td>\n",
       "      <td>1</td>\n",
       "      <td>sa</td>\n",
       "    </tr>\n",
       "    <tr>\n",
       "      <th>3</th>\n",
       "      <td>4</td>\n",
       "      <td>Vente Pa' Ca</td>\n",
       "      <td>Ricky Martin</td>\n",
       "      <td>14954</td>\n",
       "      <td>https://open.spotify.com/track/7DM4BPaS7uofFul...</td>\n",
       "      <td>2017-01-01</td>\n",
       "      <td>ec</td>\n",
       "      <td>2017</td>\n",
       "      <td>1</td>\n",
       "      <td>1</td>\n",
       "      <td>sa</td>\n",
       "    </tr>\n",
       "    <tr>\n",
       "      <th>4</th>\n",
       "      <td>5</td>\n",
       "      <td>Safari</td>\n",
       "      <td>J Balvin</td>\n",
       "      <td>14269</td>\n",
       "      <td>https://open.spotify.com/track/6rQSrBHf7HlZjtc...</td>\n",
       "      <td>2017-01-01</td>\n",
       "      <td>ec</td>\n",
       "      <td>2017</td>\n",
       "      <td>1</td>\n",
       "      <td>1</td>\n",
       "      <td>sa</td>\n",
       "    </tr>\n",
       "  </tbody>\n",
       "</table>\n",
       "</div>"
      ],
      "text/plain": [
       "   Position                  Track Name         Artist  Streams  \\\n",
       "0         1  Reggaetón Lento (Bailemos)           CNCO    19272   \n",
       "1         2                    Chantaje        Shakira    19270   \n",
       "2         3   Otra Vez (feat. J Balvin)  Zion & Lennox    15761   \n",
       "3         4                Vente Pa' Ca   Ricky Martin    14954   \n",
       "4         5                      Safari       J Balvin    14269   \n",
       "\n",
       "                                                 URL       Date Country  Year  \\\n",
       "0  https://open.spotify.com/track/3AEZUABDXNtecAO... 2017-01-01      ec  2017   \n",
       "1  https://open.spotify.com/track/6mICuAdrwEjh6Y6... 2017-01-01      ec  2017   \n",
       "2  https://open.spotify.com/track/3QwBODjSEzelZyV... 2017-01-01      ec  2017   \n",
       "3  https://open.spotify.com/track/7DM4BPaS7uofFul... 2017-01-01      ec  2017   \n",
       "4  https://open.spotify.com/track/6rQSrBHf7HlZjtc... 2017-01-01      ec  2017   \n",
       "\n",
       "   Month  Day Region  \n",
       "0      1    1     sa  \n",
       "1      1    1     sa  \n",
       "2      1    1     sa  \n",
       "3      1    1     sa  \n",
       "4      1    1     sa  "
      ]
     },
     "execution_count": 49,
     "metadata": {},
     "output_type": "execute_result"
    }
   ],
   "source": [
    "top_songs.head()"
   ]
  },
  {
   "cell_type": "code",
   "execution_count": 50,
   "metadata": {
    "collapsed": true
   },
   "outputs": [],
   "source": [
    "top_songs = top_songs[['Position', 'Track Name', 'Artist', 'Streams', 'URL', 'Date', 'Year', 'Month', 'Day', 'Country', 'Region']]"
   ]
  },
  {
   "cell_type": "code",
   "execution_count": 51,
   "metadata": {},
   "outputs": [
    {
     "data": {
      "text/html": [
       "<div>\n",
       "<style>\n",
       "    .dataframe thead tr:only-child th {\n",
       "        text-align: right;\n",
       "    }\n",
       "\n",
       "    .dataframe thead th {\n",
       "        text-align: left;\n",
       "    }\n",
       "\n",
       "    .dataframe tbody tr th {\n",
       "        vertical-align: top;\n",
       "    }\n",
       "</style>\n",
       "<table border=\"1\" class=\"dataframe\">\n",
       "  <thead>\n",
       "    <tr style=\"text-align: right;\">\n",
       "      <th></th>\n",
       "      <th>Position</th>\n",
       "      <th>Track Name</th>\n",
       "      <th>Artist</th>\n",
       "      <th>Streams</th>\n",
       "      <th>URL</th>\n",
       "      <th>Date</th>\n",
       "      <th>Year</th>\n",
       "      <th>Month</th>\n",
       "      <th>Day</th>\n",
       "      <th>Country</th>\n",
       "      <th>Region</th>\n",
       "    </tr>\n",
       "  </thead>\n",
       "  <tbody>\n",
       "    <tr>\n",
       "      <th>0</th>\n",
       "      <td>1</td>\n",
       "      <td>Reggaetón Lento (Bailemos)</td>\n",
       "      <td>CNCO</td>\n",
       "      <td>19272</td>\n",
       "      <td>https://open.spotify.com/track/3AEZUABDXNtecAO...</td>\n",
       "      <td>2017-01-01</td>\n",
       "      <td>2017</td>\n",
       "      <td>1</td>\n",
       "      <td>1</td>\n",
       "      <td>ec</td>\n",
       "      <td>sa</td>\n",
       "    </tr>\n",
       "    <tr>\n",
       "      <th>1</th>\n",
       "      <td>2</td>\n",
       "      <td>Chantaje</td>\n",
       "      <td>Shakira</td>\n",
       "      <td>19270</td>\n",
       "      <td>https://open.spotify.com/track/6mICuAdrwEjh6Y6...</td>\n",
       "      <td>2017-01-01</td>\n",
       "      <td>2017</td>\n",
       "      <td>1</td>\n",
       "      <td>1</td>\n",
       "      <td>ec</td>\n",
       "      <td>sa</td>\n",
       "    </tr>\n",
       "    <tr>\n",
       "      <th>2</th>\n",
       "      <td>3</td>\n",
       "      <td>Otra Vez (feat. J Balvin)</td>\n",
       "      <td>Zion &amp; Lennox</td>\n",
       "      <td>15761</td>\n",
       "      <td>https://open.spotify.com/track/3QwBODjSEzelZyV...</td>\n",
       "      <td>2017-01-01</td>\n",
       "      <td>2017</td>\n",
       "      <td>1</td>\n",
       "      <td>1</td>\n",
       "      <td>ec</td>\n",
       "      <td>sa</td>\n",
       "    </tr>\n",
       "    <tr>\n",
       "      <th>3</th>\n",
       "      <td>4</td>\n",
       "      <td>Vente Pa' Ca</td>\n",
       "      <td>Ricky Martin</td>\n",
       "      <td>14954</td>\n",
       "      <td>https://open.spotify.com/track/7DM4BPaS7uofFul...</td>\n",
       "      <td>2017-01-01</td>\n",
       "      <td>2017</td>\n",
       "      <td>1</td>\n",
       "      <td>1</td>\n",
       "      <td>ec</td>\n",
       "      <td>sa</td>\n",
       "    </tr>\n",
       "    <tr>\n",
       "      <th>4</th>\n",
       "      <td>5</td>\n",
       "      <td>Safari</td>\n",
       "      <td>J Balvin</td>\n",
       "      <td>14269</td>\n",
       "      <td>https://open.spotify.com/track/6rQSrBHf7HlZjtc...</td>\n",
       "      <td>2017-01-01</td>\n",
       "      <td>2017</td>\n",
       "      <td>1</td>\n",
       "      <td>1</td>\n",
       "      <td>ec</td>\n",
       "      <td>sa</td>\n",
       "    </tr>\n",
       "  </tbody>\n",
       "</table>\n",
       "</div>"
      ],
      "text/plain": [
       "   Position                  Track Name         Artist  Streams  \\\n",
       "0         1  Reggaetón Lento (Bailemos)           CNCO    19272   \n",
       "1         2                    Chantaje        Shakira    19270   \n",
       "2         3   Otra Vez (feat. J Balvin)  Zion & Lennox    15761   \n",
       "3         4                Vente Pa' Ca   Ricky Martin    14954   \n",
       "4         5                      Safari       J Balvin    14269   \n",
       "\n",
       "                                                 URL       Date  Year  Month  \\\n",
       "0  https://open.spotify.com/track/3AEZUABDXNtecAO... 2017-01-01  2017      1   \n",
       "1  https://open.spotify.com/track/6mICuAdrwEjh6Y6... 2017-01-01  2017      1   \n",
       "2  https://open.spotify.com/track/3QwBODjSEzelZyV... 2017-01-01  2017      1   \n",
       "3  https://open.spotify.com/track/7DM4BPaS7uofFul... 2017-01-01  2017      1   \n",
       "4  https://open.spotify.com/track/6rQSrBHf7HlZjtc... 2017-01-01  2017      1   \n",
       "\n",
       "   Day Country Region  \n",
       "0    1      ec     sa  \n",
       "1    1      ec     sa  \n",
       "2    1      ec     sa  \n",
       "3    1      ec     sa  \n",
       "4    1      ec     sa  "
      ]
     },
     "execution_count": 51,
     "metadata": {},
     "output_type": "execute_result"
    }
   ],
   "source": [
    "top_songs.head()"
   ]
  },
  {
   "cell_type": "markdown",
   "metadata": {},
   "source": [
    "## Save to a csv"
   ]
  },
  {
   "cell_type": "code",
   "execution_count": 52,
   "metadata": {
    "collapsed": true
   },
   "outputs": [],
   "source": [
    "# load the data to a .csv\n",
    "top_songs.to_csv('top_songs_clean.csv')"
   ]
  },
  {
   "cell_type": "code",
   "execution_count": null,
   "metadata": {
    "collapsed": true
   },
   "outputs": [],
   "source": []
  }
 ],
 "metadata": {
  "kernelspec": {
   "display_name": "Python [default]",
   "language": "python",
   "name": "python3"
  },
  "language_info": {
   "codemirror_mode": {
    "name": "ipython",
    "version": 3
   },
   "file_extension": ".py",
   "mimetype": "text/x-python",
   "name": "python",
   "nbconvert_exporter": "python",
   "pygments_lexer": "ipython3",
   "version": "3.6.3"
  }
 },
 "nbformat": 4,
 "nbformat_minor": 2
}
