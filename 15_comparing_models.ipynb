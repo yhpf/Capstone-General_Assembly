{
 "cells": [
  {
   "cell_type": "markdown",
   "metadata": {},
   "source": [
    "# Comparing Models"
   ]
  },
  {
   "cell_type": "markdown",
   "metadata": {},
   "source": [
    "- Run the models 3 times with different random sees (24, 45, 93) at T/T-split to get 3 different R2-scores\n",
    "- Take the STD of the 3 R2-scores and make error bars for the different models.\n",
    "\n",
    "T/T-split with random seed was done in notebook 12, so get the first metrics from there.\n",
    "This notebook will provide metrics for random seed 2 and 3. \n",
    "\n",
    "I have tried to clean the code a little bit to be able to make it run faster.\n",
    "There are less explenation in this notebook than in notebok nr 12. That is bc I do the same thing 2 more times. To get more explenations to things please look at notevook 12."
   ]
  },
  {
   "cell_type": "markdown",
   "metadata": {},
   "source": [
    "## Import stuff"
   ]
  },
  {
   "cell_type": "code",
   "execution_count": 47,
   "metadata": {
    "collapsed": true
   },
   "outputs": [],
   "source": [
    "import pandas as pd\n",
    "import numpy as np\n",
    "from textblob import TextBlob\n",
    "from sklearn.model_selection import train_test_split\n",
    "from sklearn.feature_extraction.text import TfidfVectorizer, CountVectorizer\n",
    "\n",
    "from sklearn.linear_model import LinearRegression\n",
    "from sklearn.model_selection import cross_val_score, cross_val_predict\n",
    "from sklearn.preprocessing import StandardScaler\n",
    "import sklearn.metrics\n",
    "from sklearn.ensemble import RandomForestRegressor\n",
    "from sklearn.grid_search import GridSearchCV\n",
    "from sklearn.linear_model import Lasso\n",
    "from sklearn.model_selection import RandomizedSearchCV\n",
    "from sklearn.ensemble import AdaBoostRegressor, GradientBoostingRegressor\n",
    "\n",
    "from matplotlib import pyplot as plt\n",
    "import seaborn as sns\n",
    "\n",
    "plt.style.use('fivethirtyeight')\n",
    "\n",
    "%matplotlib inline"
   ]
  },
  {
   "cell_type": "markdown",
   "metadata": {},
   "source": [
    "## Load data"
   ]
  },
  {
   "cell_type": "code",
   "execution_count": 48,
   "metadata": {},
   "outputs": [
    {
     "data": {
      "text/html": [
       "<div>\n",
       "<style>\n",
       "    .dataframe thead tr:only-child th {\n",
       "        text-align: right;\n",
       "    }\n",
       "\n",
       "    .dataframe thead th {\n",
       "        text-align: left;\n",
       "    }\n",
       "\n",
       "    .dataframe tbody tr th {\n",
       "        vertical-align: top;\n",
       "    }\n",
       "</style>\n",
       "<table border=\"1\" class=\"dataframe\">\n",
       "  <thead>\n",
       "    <tr style=\"text-align: right;\">\n",
       "      <th></th>\n",
       "      <th>Unnamed: 0</th>\n",
       "      <th>Position</th>\n",
       "      <th>Streams</th>\n",
       "      <th>Track Name</th>\n",
       "      <th>Artist</th>\n",
       "      <th>ID</th>\n",
       "      <th>Date</th>\n",
       "      <th>Year</th>\n",
       "      <th>Month</th>\n",
       "      <th>Day</th>\n",
       "      <th>Country</th>\n",
       "      <th>Region</th>\n",
       "      <th>Lyrics</th>\n",
       "      <th>Acousticness</th>\n",
       "      <th>Energy</th>\n",
       "      <th>Instrumentalness</th>\n",
       "      <th>Mode</th>\n",
       "      <th>Tempo</th>\n",
       "      <th>Valence</th>\n",
       "    </tr>\n",
       "  </thead>\n",
       "  <tbody>\n",
       "    <tr>\n",
       "      <th>0</th>\n",
       "      <td>0</td>\n",
       "      <td>177</td>\n",
       "      <td>40381</td>\n",
       "      <td>Bye Bye Bye</td>\n",
       "      <td>*NSYNC</td>\n",
       "      <td>4r8lRYnoOGdEi6YyI5OC1o</td>\n",
       "      <td>2017-10-05</td>\n",
       "      <td>2017</td>\n",
       "      <td>10</td>\n",
       "      <td>5</td>\n",
       "      <td>gb</td>\n",
       "      <td>eu</td>\n",
       "      <td>hey, hey bye bye bye, bye bye bye bye  i'm doi...</td>\n",
       "      <td>0.0408</td>\n",
       "      <td>0.928</td>\n",
       "      <td>0.00104</td>\n",
       "      <td>0.0</td>\n",
       "      <td>172.656</td>\n",
       "      <td>0.879</td>\n",
       "    </tr>\n",
       "    <tr>\n",
       "      <th>1</th>\n",
       "      <td>1</td>\n",
       "      <td>151</td>\n",
       "      <td>24132</td>\n",
       "      <td>Merry Christmas, Happy Holidays</td>\n",
       "      <td>*NSYNC</td>\n",
       "      <td>15coTBAzEN1bOeipoNDZAR</td>\n",
       "      <td>2017-12-23</td>\n",
       "      <td>2017</td>\n",
       "      <td>12</td>\n",
       "      <td>23</td>\n",
       "      <td>it</td>\n",
       "      <td>eu</td>\n",
       "      <td>merry christmas and happy holidays merry chris...</td>\n",
       "      <td>0.1030</td>\n",
       "      <td>0.939</td>\n",
       "      <td>0.00000</td>\n",
       "      <td>1.0</td>\n",
       "      <td>105.003</td>\n",
       "      <td>0.756</td>\n",
       "    </tr>\n",
       "    <tr>\n",
       "      <th>2</th>\n",
       "      <td>2</td>\n",
       "      <td>78</td>\n",
       "      <td>49766</td>\n",
       "      <td>Merry Christmas, Happy Holidays</td>\n",
       "      <td>*NSYNC</td>\n",
       "      <td>15coTBAzEN1bOeipoNDZAR</td>\n",
       "      <td>2017-12-24</td>\n",
       "      <td>2017</td>\n",
       "      <td>12</td>\n",
       "      <td>24</td>\n",
       "      <td>it</td>\n",
       "      <td>eu</td>\n",
       "      <td>merry christmas and happy holidays merry chris...</td>\n",
       "      <td>0.1030</td>\n",
       "      <td>0.939</td>\n",
       "      <td>0.00000</td>\n",
       "      <td>1.0</td>\n",
       "      <td>105.003</td>\n",
       "      <td>0.756</td>\n",
       "    </tr>\n",
       "  </tbody>\n",
       "</table>\n",
       "</div>"
      ],
      "text/plain": [
       "   Unnamed: 0  Position  Streams                       Track Name  Artist  \\\n",
       "0           0       177    40381                      Bye Bye Bye  *NSYNC   \n",
       "1           1       151    24132  Merry Christmas, Happy Holidays  *NSYNC   \n",
       "2           2        78    49766  Merry Christmas, Happy Holidays  *NSYNC   \n",
       "\n",
       "                       ID        Date  Year  Month  Day Country Region  \\\n",
       "0  4r8lRYnoOGdEi6YyI5OC1o  2017-10-05  2017     10    5      gb     eu   \n",
       "1  15coTBAzEN1bOeipoNDZAR  2017-12-23  2017     12   23      it     eu   \n",
       "2  15coTBAzEN1bOeipoNDZAR  2017-12-24  2017     12   24      it     eu   \n",
       "\n",
       "                                              Lyrics  Acousticness  Energy  \\\n",
       "0  hey, hey bye bye bye, bye bye bye bye  i'm doi...        0.0408   0.928   \n",
       "1  merry christmas and happy holidays merry chris...        0.1030   0.939   \n",
       "2  merry christmas and happy holidays merry chris...        0.1030   0.939   \n",
       "\n",
       "   Instrumentalness  Mode    Tempo  Valence  \n",
       "0           0.00104   0.0  172.656    0.879  \n",
       "1           0.00000   1.0  105.003    0.756  \n",
       "2           0.00000   1.0  105.003    0.756  "
      ]
     },
     "execution_count": 48,
     "metadata": {},
     "output_type": "execute_result"
    }
   ],
   "source": [
    "data = pd.read_csv('./data_top10c_more_lyrics.csv')\n",
    "data.head(3)"
   ]
  },
  {
   "cell_type": "markdown",
   "metadata": {},
   "source": [
    "## Fix a little bit with the data"
   ]
  },
  {
   "cell_type": "markdown",
   "metadata": {},
   "source": [
    "#### Get dummies for the Country column + include in the data frame"
   ]
  },
  {
   "cell_type": "code",
   "execution_count": 49,
   "metadata": {},
   "outputs": [
    {
     "data": {
      "text/html": [
       "<div>\n",
       "<style>\n",
       "    .dataframe thead tr:only-child th {\n",
       "        text-align: right;\n",
       "    }\n",
       "\n",
       "    .dataframe thead th {\n",
       "        text-align: left;\n",
       "    }\n",
       "\n",
       "    .dataframe tbody tr th {\n",
       "        vertical-align: top;\n",
       "    }\n",
       "</style>\n",
       "<table border=\"1\" class=\"dataframe\">\n",
       "  <thead>\n",
       "    <tr style=\"text-align: right;\">\n",
       "      <th></th>\n",
       "      <th>Unnamed: 0</th>\n",
       "      <th>Position</th>\n",
       "      <th>Streams</th>\n",
       "      <th>Track Name</th>\n",
       "      <th>Artist</th>\n",
       "      <th>ID</th>\n",
       "      <th>Date</th>\n",
       "      <th>Year</th>\n",
       "      <th>Month</th>\n",
       "      <th>Day</th>\n",
       "      <th>...</th>\n",
       "      <th>Tempo</th>\n",
       "      <th>Valence</th>\n",
       "      <th>au</th>\n",
       "      <th>ca</th>\n",
       "      <th>de</th>\n",
       "      <th>fr</th>\n",
       "      <th>gb</th>\n",
       "      <th>it</th>\n",
       "      <th>nl</th>\n",
       "      <th>us</th>\n",
       "    </tr>\n",
       "  </thead>\n",
       "  <tbody>\n",
       "    <tr>\n",
       "      <th>0</th>\n",
       "      <td>0</td>\n",
       "      <td>177</td>\n",
       "      <td>40381</td>\n",
       "      <td>Bye Bye Bye</td>\n",
       "      <td>*NSYNC</td>\n",
       "      <td>4r8lRYnoOGdEi6YyI5OC1o</td>\n",
       "      <td>2017-10-05</td>\n",
       "      <td>2017</td>\n",
       "      <td>10</td>\n",
       "      <td>5</td>\n",
       "      <td>...</td>\n",
       "      <td>172.656</td>\n",
       "      <td>0.879</td>\n",
       "      <td>0</td>\n",
       "      <td>0</td>\n",
       "      <td>0</td>\n",
       "      <td>0</td>\n",
       "      <td>1</td>\n",
       "      <td>0</td>\n",
       "      <td>0</td>\n",
       "      <td>0</td>\n",
       "    </tr>\n",
       "    <tr>\n",
       "      <th>1</th>\n",
       "      <td>1</td>\n",
       "      <td>151</td>\n",
       "      <td>24132</td>\n",
       "      <td>Merry Christmas, Happy Holidays</td>\n",
       "      <td>*NSYNC</td>\n",
       "      <td>15coTBAzEN1bOeipoNDZAR</td>\n",
       "      <td>2017-12-23</td>\n",
       "      <td>2017</td>\n",
       "      <td>12</td>\n",
       "      <td>23</td>\n",
       "      <td>...</td>\n",
       "      <td>105.003</td>\n",
       "      <td>0.756</td>\n",
       "      <td>0</td>\n",
       "      <td>0</td>\n",
       "      <td>0</td>\n",
       "      <td>0</td>\n",
       "      <td>0</td>\n",
       "      <td>1</td>\n",
       "      <td>0</td>\n",
       "      <td>0</td>\n",
       "    </tr>\n",
       "    <tr>\n",
       "      <th>2</th>\n",
       "      <td>2</td>\n",
       "      <td>78</td>\n",
       "      <td>49766</td>\n",
       "      <td>Merry Christmas, Happy Holidays</td>\n",
       "      <td>*NSYNC</td>\n",
       "      <td>15coTBAzEN1bOeipoNDZAR</td>\n",
       "      <td>2017-12-24</td>\n",
       "      <td>2017</td>\n",
       "      <td>12</td>\n",
       "      <td>24</td>\n",
       "      <td>...</td>\n",
       "      <td>105.003</td>\n",
       "      <td>0.756</td>\n",
       "      <td>0</td>\n",
       "      <td>0</td>\n",
       "      <td>0</td>\n",
       "      <td>0</td>\n",
       "      <td>0</td>\n",
       "      <td>1</td>\n",
       "      <td>0</td>\n",
       "      <td>0</td>\n",
       "    </tr>\n",
       "  </tbody>\n",
       "</table>\n",
       "<p>3 rows × 27 columns</p>\n",
       "</div>"
      ],
      "text/plain": [
       "   Unnamed: 0  Position  Streams                       Track Name  Artist  \\\n",
       "0           0       177    40381                      Bye Bye Bye  *NSYNC   \n",
       "1           1       151    24132  Merry Christmas, Happy Holidays  *NSYNC   \n",
       "2           2        78    49766  Merry Christmas, Happy Holidays  *NSYNC   \n",
       "\n",
       "                       ID        Date  Year  Month  Day ...    Tempo Valence  \\\n",
       "0  4r8lRYnoOGdEi6YyI5OC1o  2017-10-05  2017     10    5 ...  172.656   0.879   \n",
       "1  15coTBAzEN1bOeipoNDZAR  2017-12-23  2017     12   23 ...  105.003   0.756   \n",
       "2  15coTBAzEN1bOeipoNDZAR  2017-12-24  2017     12   24 ...  105.003   0.756   \n",
       "\n",
       "  au  ca  de  fr  gb  it  nl  us  \n",
       "0  0   0   0   0   1   0   0   0  \n",
       "1  0   0   0   0   0   1   0   0  \n",
       "2  0   0   0   0   0   1   0   0  \n",
       "\n",
       "[3 rows x 27 columns]"
      ]
     },
     "execution_count": 49,
     "metadata": {},
     "output_type": "execute_result"
    }
   ],
   "source": [
    "country_dum = pd.get_dummies(data['Country'])\n",
    "\n",
    "data_c = pd.concat([data, country_dum], axis=1)\n",
    "\n",
    "data_c.head(3)"
   ]
  },
  {
   "cell_type": "markdown",
   "metadata": {},
   "source": [
    "#### Get dummies for the Position column  + include in the data frame"
   ]
  },
  {
   "cell_type": "code",
   "execution_count": 50,
   "metadata": {},
   "outputs": [
    {
     "data": {
      "text/html": [
       "<div>\n",
       "<style>\n",
       "    .dataframe thead tr:only-child th {\n",
       "        text-align: right;\n",
       "    }\n",
       "\n",
       "    .dataframe thead th {\n",
       "        text-align: left;\n",
       "    }\n",
       "\n",
       "    .dataframe tbody tr th {\n",
       "        vertical-align: top;\n",
       "    }\n",
       "</style>\n",
       "<table border=\"1\" class=\"dataframe\">\n",
       "  <thead>\n",
       "    <tr style=\"text-align: right;\">\n",
       "      <th></th>\n",
       "      <th>Unnamed: 0</th>\n",
       "      <th>Position</th>\n",
       "      <th>Streams</th>\n",
       "      <th>Track Name</th>\n",
       "      <th>Artist</th>\n",
       "      <th>ID</th>\n",
       "      <th>Date</th>\n",
       "      <th>Year</th>\n",
       "      <th>Month</th>\n",
       "      <th>Day</th>\n",
       "      <th>...</th>\n",
       "      <th>191</th>\n",
       "      <th>192</th>\n",
       "      <th>193</th>\n",
       "      <th>194</th>\n",
       "      <th>195</th>\n",
       "      <th>196</th>\n",
       "      <th>197</th>\n",
       "      <th>198</th>\n",
       "      <th>199</th>\n",
       "      <th>200</th>\n",
       "    </tr>\n",
       "  </thead>\n",
       "  <tbody>\n",
       "    <tr>\n",
       "      <th>0</th>\n",
       "      <td>0</td>\n",
       "      <td>177</td>\n",
       "      <td>40381</td>\n",
       "      <td>Bye Bye Bye</td>\n",
       "      <td>*NSYNC</td>\n",
       "      <td>4r8lRYnoOGdEi6YyI5OC1o</td>\n",
       "      <td>2017-10-05</td>\n",
       "      <td>2017</td>\n",
       "      <td>10</td>\n",
       "      <td>5</td>\n",
       "      <td>...</td>\n",
       "      <td>0</td>\n",
       "      <td>0</td>\n",
       "      <td>0</td>\n",
       "      <td>0</td>\n",
       "      <td>0</td>\n",
       "      <td>0</td>\n",
       "      <td>0</td>\n",
       "      <td>0</td>\n",
       "      <td>0</td>\n",
       "      <td>0</td>\n",
       "    </tr>\n",
       "    <tr>\n",
       "      <th>1</th>\n",
       "      <td>1</td>\n",
       "      <td>151</td>\n",
       "      <td>24132</td>\n",
       "      <td>Merry Christmas, Happy Holidays</td>\n",
       "      <td>*NSYNC</td>\n",
       "      <td>15coTBAzEN1bOeipoNDZAR</td>\n",
       "      <td>2017-12-23</td>\n",
       "      <td>2017</td>\n",
       "      <td>12</td>\n",
       "      <td>23</td>\n",
       "      <td>...</td>\n",
       "      <td>0</td>\n",
       "      <td>0</td>\n",
       "      <td>0</td>\n",
       "      <td>0</td>\n",
       "      <td>0</td>\n",
       "      <td>0</td>\n",
       "      <td>0</td>\n",
       "      <td>0</td>\n",
       "      <td>0</td>\n",
       "      <td>0</td>\n",
       "    </tr>\n",
       "    <tr>\n",
       "      <th>2</th>\n",
       "      <td>2</td>\n",
       "      <td>78</td>\n",
       "      <td>49766</td>\n",
       "      <td>Merry Christmas, Happy Holidays</td>\n",
       "      <td>*NSYNC</td>\n",
       "      <td>15coTBAzEN1bOeipoNDZAR</td>\n",
       "      <td>2017-12-24</td>\n",
       "      <td>2017</td>\n",
       "      <td>12</td>\n",
       "      <td>24</td>\n",
       "      <td>...</td>\n",
       "      <td>0</td>\n",
       "      <td>0</td>\n",
       "      <td>0</td>\n",
       "      <td>0</td>\n",
       "      <td>0</td>\n",
       "      <td>0</td>\n",
       "      <td>0</td>\n",
       "      <td>0</td>\n",
       "      <td>0</td>\n",
       "      <td>0</td>\n",
       "    </tr>\n",
       "  </tbody>\n",
       "</table>\n",
       "<p>3 rows × 227 columns</p>\n",
       "</div>"
      ],
      "text/plain": [
       "   Unnamed: 0  Position  Streams                       Track Name  Artist  \\\n",
       "0           0       177    40381                      Bye Bye Bye  *NSYNC   \n",
       "1           1       151    24132  Merry Christmas, Happy Holidays  *NSYNC   \n",
       "2           2        78    49766  Merry Christmas, Happy Holidays  *NSYNC   \n",
       "\n",
       "                       ID        Date  Year  Month  Day ...  191 192 193  194  \\\n",
       "0  4r8lRYnoOGdEi6YyI5OC1o  2017-10-05  2017     10    5 ...    0   0   0    0   \n",
       "1  15coTBAzEN1bOeipoNDZAR  2017-12-23  2017     12   23 ...    0   0   0    0   \n",
       "2  15coTBAzEN1bOeipoNDZAR  2017-12-24  2017     12   24 ...    0   0   0    0   \n",
       "\n",
       "   195  196  197  198  199  200  \n",
       "0    0    0    0    0    0    0  \n",
       "1    0    0    0    0    0    0  \n",
       "2    0    0    0    0    0    0  \n",
       "\n",
       "[3 rows x 227 columns]"
      ]
     },
     "execution_count": 50,
     "metadata": {},
     "output_type": "execute_result"
    }
   ],
   "source": [
    "position_dum = pd.get_dummies(data['Position'])\n",
    "\n",
    "data_c_p = pd.concat([data_c, position_dum], axis=1)\n",
    "\n",
    "data_c_p.head(3)"
   ]
  },
  {
   "cell_type": "markdown",
   "metadata": {},
   "source": [
    "#### Group by ID, sum()"
   ]
  },
  {
   "cell_type": "code",
   "execution_count": 51,
   "metadata": {},
   "outputs": [
    {
     "data": {
      "text/html": [
       "<div>\n",
       "<style>\n",
       "    .dataframe thead tr:only-child th {\n",
       "        text-align: right;\n",
       "    }\n",
       "\n",
       "    .dataframe thead th {\n",
       "        text-align: left;\n",
       "    }\n",
       "\n",
       "    .dataframe tbody tr th {\n",
       "        vertical-align: top;\n",
       "    }\n",
       "</style>\n",
       "<table border=\"1\" class=\"dataframe\">\n",
       "  <thead>\n",
       "    <tr style=\"text-align: right;\">\n",
       "      <th></th>\n",
       "      <th>Unnamed: 0</th>\n",
       "      <th>Position</th>\n",
       "      <th>Streams</th>\n",
       "      <th>Year</th>\n",
       "      <th>Month</th>\n",
       "      <th>Day</th>\n",
       "      <th>Acousticness</th>\n",
       "      <th>Energy</th>\n",
       "      <th>Instrumentalness</th>\n",
       "      <th>Mode</th>\n",
       "      <th>...</th>\n",
       "      <th>191</th>\n",
       "      <th>192</th>\n",
       "      <th>193</th>\n",
       "      <th>194</th>\n",
       "      <th>195</th>\n",
       "      <th>196</th>\n",
       "      <th>197</th>\n",
       "      <th>198</th>\n",
       "      <th>199</th>\n",
       "      <th>200</th>\n",
       "    </tr>\n",
       "    <tr>\n",
       "      <th>ID</th>\n",
       "      <th></th>\n",
       "      <th></th>\n",
       "      <th></th>\n",
       "      <th></th>\n",
       "      <th></th>\n",
       "      <th></th>\n",
       "      <th></th>\n",
       "      <th></th>\n",
       "      <th></th>\n",
       "      <th></th>\n",
       "      <th></th>\n",
       "      <th></th>\n",
       "      <th></th>\n",
       "      <th></th>\n",
       "      <th></th>\n",
       "      <th></th>\n",
       "      <th></th>\n",
       "      <th></th>\n",
       "      <th></th>\n",
       "      <th></th>\n",
       "      <th></th>\n",
       "    </tr>\n",
       "  </thead>\n",
       "  <tbody>\n",
       "    <tr>\n",
       "      <th>000xQL6tZNLJzIrtIgxqSl</th>\n",
       "      <td>485336363</td>\n",
       "      <td>85033</td>\n",
       "      <td>62948380</td>\n",
       "      <td>1716467</td>\n",
       "      <td>4972</td>\n",
       "      <td>13379</td>\n",
       "      <td>111.48100</td>\n",
       "      <td>533.577</td>\n",
       "      <td>0.000000</td>\n",
       "      <td>851.0</td>\n",
       "      <td>...</td>\n",
       "      <td>5.0</td>\n",
       "      <td>5.0</td>\n",
       "      <td>3.0</td>\n",
       "      <td>2.0</td>\n",
       "      <td>2.0</td>\n",
       "      <td>8.0</td>\n",
       "      <td>0.0</td>\n",
       "      <td>5.0</td>\n",
       "      <td>3.0</td>\n",
       "      <td>3.0</td>\n",
       "    </tr>\n",
       "    <tr>\n",
       "      <th>007d7JT41sSc1HqWTs4uw7</th>\n",
       "      <td>624441</td>\n",
       "      <td>563</td>\n",
       "      <td>233403</td>\n",
       "      <td>6051</td>\n",
       "      <td>8</td>\n",
       "      <td>30</td>\n",
       "      <td>0.00912</td>\n",
       "      <td>2.286</td>\n",
       "      <td>0.000000</td>\n",
       "      <td>0.0</td>\n",
       "      <td>...</td>\n",
       "      <td>0.0</td>\n",
       "      <td>0.0</td>\n",
       "      <td>0.0</td>\n",
       "      <td>0.0</td>\n",
       "      <td>0.0</td>\n",
       "      <td>0.0</td>\n",
       "      <td>1.0</td>\n",
       "      <td>0.0</td>\n",
       "      <td>0.0</td>\n",
       "      <td>0.0</td>\n",
       "    </tr>\n",
       "    <tr>\n",
       "      <th>00BuKLSAFkaEkaVAgIMbeA</th>\n",
       "      <td>310234</td>\n",
       "      <td>121</td>\n",
       "      <td>209865</td>\n",
       "      <td>2017</td>\n",
       "      <td>2</td>\n",
       "      <td>6</td>\n",
       "      <td>0.00587</td>\n",
       "      <td>0.832</td>\n",
       "      <td>0.000789</td>\n",
       "      <td>0.0</td>\n",
       "      <td>...</td>\n",
       "      <td>0.0</td>\n",
       "      <td>0.0</td>\n",
       "      <td>0.0</td>\n",
       "      <td>0.0</td>\n",
       "      <td>0.0</td>\n",
       "      <td>0.0</td>\n",
       "      <td>0.0</td>\n",
       "      <td>0.0</td>\n",
       "      <td>0.0</td>\n",
       "      <td>0.0</td>\n",
       "    </tr>\n",
       "  </tbody>\n",
       "</table>\n",
       "<p>3 rows × 220 columns</p>\n",
       "</div>"
      ],
      "text/plain": [
       "                        Unnamed: 0  Position   Streams     Year  Month    Day  \\\n",
       "ID                                                                              \n",
       "000xQL6tZNLJzIrtIgxqSl   485336363     85033  62948380  1716467   4972  13379   \n",
       "007d7JT41sSc1HqWTs4uw7      624441       563    233403     6051      8     30   \n",
       "00BuKLSAFkaEkaVAgIMbeA      310234       121    209865     2017      2      6   \n",
       "\n",
       "                        Acousticness   Energy  Instrumentalness   Mode ...   \\\n",
       "ID                                                                     ...    \n",
       "000xQL6tZNLJzIrtIgxqSl     111.48100  533.577          0.000000  851.0 ...    \n",
       "007d7JT41sSc1HqWTs4uw7       0.00912    2.286          0.000000    0.0 ...    \n",
       "00BuKLSAFkaEkaVAgIMbeA       0.00587    0.832          0.000789    0.0 ...    \n",
       "\n",
       "                        191  192  193  194  195  196  197  198  199  200  \n",
       "ID                                                                        \n",
       "000xQL6tZNLJzIrtIgxqSl  5.0  5.0  3.0  2.0  2.0  8.0  0.0  5.0  3.0  3.0  \n",
       "007d7JT41sSc1HqWTs4uw7  0.0  0.0  0.0  0.0  0.0  0.0  1.0  0.0  0.0  0.0  \n",
       "00BuKLSAFkaEkaVAgIMbeA  0.0  0.0  0.0  0.0  0.0  0.0  0.0  0.0  0.0  0.0  \n",
       "\n",
       "[3 rows x 220 columns]"
      ]
     },
     "execution_count": 51,
     "metadata": {},
     "output_type": "execute_result"
    }
   ],
   "source": [
    "data_cp_groupbyID = data_c_p.groupby('ID').sum()\n",
    "data_cp_groupbyID.head(3)"
   ]
  },
  {
   "cell_type": "markdown",
   "metadata": {},
   "source": [
    "#### Make 2 new columns for average Streams and average Position"
   ]
  },
  {
   "cell_type": "code",
   "execution_count": 52,
   "metadata": {},
   "outputs": [
    {
     "data": {
      "text/html": [
       "<div>\n",
       "<style>\n",
       "    .dataframe thead tr:only-child th {\n",
       "        text-align: right;\n",
       "    }\n",
       "\n",
       "    .dataframe thead th {\n",
       "        text-align: left;\n",
       "    }\n",
       "\n",
       "    .dataframe tbody tr th {\n",
       "        vertical-align: top;\n",
       "    }\n",
       "</style>\n",
       "<table border=\"1\" class=\"dataframe\">\n",
       "  <thead>\n",
       "    <tr style=\"text-align: right;\">\n",
       "      <th></th>\n",
       "      <th>Unnamed: 0</th>\n",
       "      <th>Position</th>\n",
       "      <th>Streams</th>\n",
       "      <th>Year</th>\n",
       "      <th>Month</th>\n",
       "      <th>Day</th>\n",
       "      <th>Acousticness</th>\n",
       "      <th>Energy</th>\n",
       "      <th>Instrumentalness</th>\n",
       "      <th>Mode</th>\n",
       "      <th>...</th>\n",
       "      <th>193</th>\n",
       "      <th>194</th>\n",
       "      <th>195</th>\n",
       "      <th>196</th>\n",
       "      <th>197</th>\n",
       "      <th>198</th>\n",
       "      <th>199</th>\n",
       "      <th>200</th>\n",
       "      <th>avg_Streams</th>\n",
       "      <th>avg_Position</th>\n",
       "    </tr>\n",
       "    <tr>\n",
       "      <th>ID</th>\n",
       "      <th></th>\n",
       "      <th></th>\n",
       "      <th></th>\n",
       "      <th></th>\n",
       "      <th></th>\n",
       "      <th></th>\n",
       "      <th></th>\n",
       "      <th></th>\n",
       "      <th></th>\n",
       "      <th></th>\n",
       "      <th></th>\n",
       "      <th></th>\n",
       "      <th></th>\n",
       "      <th></th>\n",
       "      <th></th>\n",
       "      <th></th>\n",
       "      <th></th>\n",
       "      <th></th>\n",
       "      <th></th>\n",
       "      <th></th>\n",
       "      <th></th>\n",
       "    </tr>\n",
       "  </thead>\n",
       "  <tbody>\n",
       "    <tr>\n",
       "      <th>000xQL6tZNLJzIrtIgxqSl</th>\n",
       "      <td>485336363</td>\n",
       "      <td>85033</td>\n",
       "      <td>62948380</td>\n",
       "      <td>1716467</td>\n",
       "      <td>4972</td>\n",
       "      <td>13379</td>\n",
       "      <td>111.48100</td>\n",
       "      <td>533.577</td>\n",
       "      <td>0.000000</td>\n",
       "      <td>851.0</td>\n",
       "      <td>...</td>\n",
       "      <td>3.0</td>\n",
       "      <td>2.0</td>\n",
       "      <td>2.0</td>\n",
       "      <td>8.0</td>\n",
       "      <td>0.0</td>\n",
       "      <td>5.0</td>\n",
       "      <td>3.0</td>\n",
       "      <td>3.0</td>\n",
       "      <td>7655.159917</td>\n",
       "      <td>10.340873</td>\n",
       "    </tr>\n",
       "    <tr>\n",
       "      <th>007d7JT41sSc1HqWTs4uw7</th>\n",
       "      <td>624441</td>\n",
       "      <td>563</td>\n",
       "      <td>233403</td>\n",
       "      <td>6051</td>\n",
       "      <td>8</td>\n",
       "      <td>30</td>\n",
       "      <td>0.00912</td>\n",
       "      <td>2.286</td>\n",
       "      <td>0.000000</td>\n",
       "      <td>0.0</td>\n",
       "      <td>...</td>\n",
       "      <td>0.0</td>\n",
       "      <td>0.0</td>\n",
       "      <td>0.0</td>\n",
       "      <td>0.0</td>\n",
       "      <td>1.0</td>\n",
       "      <td>0.0</td>\n",
       "      <td>0.0</td>\n",
       "      <td>0.0</td>\n",
       "      <td>28.384166</td>\n",
       "      <td>0.068466</td>\n",
       "    </tr>\n",
       "    <tr>\n",
       "      <th>00BuKLSAFkaEkaVAgIMbeA</th>\n",
       "      <td>310234</td>\n",
       "      <td>121</td>\n",
       "      <td>209865</td>\n",
       "      <td>2017</td>\n",
       "      <td>2</td>\n",
       "      <td>6</td>\n",
       "      <td>0.00587</td>\n",
       "      <td>0.832</td>\n",
       "      <td>0.000789</td>\n",
       "      <td>0.0</td>\n",
       "      <td>...</td>\n",
       "      <td>0.0</td>\n",
       "      <td>0.0</td>\n",
       "      <td>0.0</td>\n",
       "      <td>0.0</td>\n",
       "      <td>0.0</td>\n",
       "      <td>0.0</td>\n",
       "      <td>0.0</td>\n",
       "      <td>0.0</td>\n",
       "      <td>25.521707</td>\n",
       "      <td>0.014715</td>\n",
       "    </tr>\n",
       "  </tbody>\n",
       "</table>\n",
       "<p>3 rows × 222 columns</p>\n",
       "</div>"
      ],
      "text/plain": [
       "                        Unnamed: 0  Position   Streams     Year  Month    Day  \\\n",
       "ID                                                                              \n",
       "000xQL6tZNLJzIrtIgxqSl   485336363     85033  62948380  1716467   4972  13379   \n",
       "007d7JT41sSc1HqWTs4uw7      624441       563    233403     6051      8     30   \n",
       "00BuKLSAFkaEkaVAgIMbeA      310234       121    209865     2017      2      6   \n",
       "\n",
       "                        Acousticness   Energy  Instrumentalness   Mode  \\\n",
       "ID                                                                       \n",
       "000xQL6tZNLJzIrtIgxqSl     111.48100  533.577          0.000000  851.0   \n",
       "007d7JT41sSc1HqWTs4uw7       0.00912    2.286          0.000000    0.0   \n",
       "00BuKLSAFkaEkaVAgIMbeA       0.00587    0.832          0.000789    0.0   \n",
       "\n",
       "                            ...       193  194  195  196  197  198  199  200  \\\n",
       "ID                          ...                                                \n",
       "000xQL6tZNLJzIrtIgxqSl      ...       3.0  2.0  2.0  8.0  0.0  5.0  3.0  3.0   \n",
       "007d7JT41sSc1HqWTs4uw7      ...       0.0  0.0  0.0  0.0  1.0  0.0  0.0  0.0   \n",
       "00BuKLSAFkaEkaVAgIMbeA      ...       0.0  0.0  0.0  0.0  0.0  0.0  0.0  0.0   \n",
       "\n",
       "                        avg_Streams  avg_Position  \n",
       "ID                                                 \n",
       "000xQL6tZNLJzIrtIgxqSl  7655.159917     10.340873  \n",
       "007d7JT41sSc1HqWTs4uw7    28.384166      0.068466  \n",
       "00BuKLSAFkaEkaVAgIMbeA    25.521707      0.014715  \n",
       "\n",
       "[3 rows x 222 columns]"
      ]
     },
     "execution_count": 52,
     "metadata": {},
     "output_type": "execute_result"
    }
   ],
   "source": [
    "data_cp_groupbyID['avg_Streams'] = data_cp_groupbyID['Streams']/len(data_cp_groupbyID)\n",
    "\n",
    "data_cp_groupbyID['avg_Position'] = data_cp_groupbyID['Position']/len(data_cp_groupbyID)\n",
    "\n",
    "data_cp_groupbyID.head(3)"
   ]
  },
  {
   "cell_type": "markdown",
   "metadata": {},
   "source": [
    "#### Drop columns that make no sense after the group by or that I do not need"
   ]
  },
  {
   "cell_type": "code",
   "execution_count": 53,
   "metadata": {},
   "outputs": [
    {
     "data": {
      "text/html": [
       "<div>\n",
       "<style>\n",
       "    .dataframe thead tr:only-child th {\n",
       "        text-align: right;\n",
       "    }\n",
       "\n",
       "    .dataframe thead th {\n",
       "        text-align: left;\n",
       "    }\n",
       "\n",
       "    .dataframe tbody tr th {\n",
       "        vertical-align: top;\n",
       "    }\n",
       "</style>\n",
       "<table border=\"1\" class=\"dataframe\">\n",
       "  <thead>\n",
       "    <tr style=\"text-align: right;\">\n",
       "      <th></th>\n",
       "      <th>au</th>\n",
       "      <th>ca</th>\n",
       "      <th>de</th>\n",
       "      <th>fr</th>\n",
       "      <th>gb</th>\n",
       "      <th>it</th>\n",
       "      <th>nl</th>\n",
       "      <th>us</th>\n",
       "      <th>1</th>\n",
       "      <th>2</th>\n",
       "      <th>...</th>\n",
       "      <th>193</th>\n",
       "      <th>194</th>\n",
       "      <th>195</th>\n",
       "      <th>196</th>\n",
       "      <th>197</th>\n",
       "      <th>198</th>\n",
       "      <th>199</th>\n",
       "      <th>200</th>\n",
       "      <th>avg_Streams</th>\n",
       "      <th>avg_Position</th>\n",
       "    </tr>\n",
       "    <tr>\n",
       "      <th>ID</th>\n",
       "      <th></th>\n",
       "      <th></th>\n",
       "      <th></th>\n",
       "      <th></th>\n",
       "      <th></th>\n",
       "      <th></th>\n",
       "      <th></th>\n",
       "      <th></th>\n",
       "      <th></th>\n",
       "      <th></th>\n",
       "      <th></th>\n",
       "      <th></th>\n",
       "      <th></th>\n",
       "      <th></th>\n",
       "      <th></th>\n",
       "      <th></th>\n",
       "      <th></th>\n",
       "      <th></th>\n",
       "      <th></th>\n",
       "      <th></th>\n",
       "      <th></th>\n",
       "    </tr>\n",
       "  </thead>\n",
       "  <tbody>\n",
       "    <tr>\n",
       "      <th>000xQL6tZNLJzIrtIgxqSl</th>\n",
       "      <td>228.0</td>\n",
       "      <td>108.0</td>\n",
       "      <td>55.0</td>\n",
       "      <td>20.0</td>\n",
       "      <td>211.0</td>\n",
       "      <td>53.0</td>\n",
       "      <td>108.0</td>\n",
       "      <td>68.0</td>\n",
       "      <td>0.0</td>\n",
       "      <td>0.0</td>\n",
       "      <td>...</td>\n",
       "      <td>3.0</td>\n",
       "      <td>2.0</td>\n",
       "      <td>2.0</td>\n",
       "      <td>8.0</td>\n",
       "      <td>0.0</td>\n",
       "      <td>5.0</td>\n",
       "      <td>3.0</td>\n",
       "      <td>3.0</td>\n",
       "      <td>7655.159917</td>\n",
       "      <td>10.340873</td>\n",
       "    </tr>\n",
       "    <tr>\n",
       "      <th>007d7JT41sSc1HqWTs4uw7</th>\n",
       "      <td>1.0</td>\n",
       "      <td>0.0</td>\n",
       "      <td>0.0</td>\n",
       "      <td>0.0</td>\n",
       "      <td>1.0</td>\n",
       "      <td>0.0</td>\n",
       "      <td>0.0</td>\n",
       "      <td>1.0</td>\n",
       "      <td>0.0</td>\n",
       "      <td>0.0</td>\n",
       "      <td>...</td>\n",
       "      <td>0.0</td>\n",
       "      <td>0.0</td>\n",
       "      <td>0.0</td>\n",
       "      <td>0.0</td>\n",
       "      <td>1.0</td>\n",
       "      <td>0.0</td>\n",
       "      <td>0.0</td>\n",
       "      <td>0.0</td>\n",
       "      <td>28.384166</td>\n",
       "      <td>0.068466</td>\n",
       "    </tr>\n",
       "    <tr>\n",
       "      <th>00BuKLSAFkaEkaVAgIMbeA</th>\n",
       "      <td>0.0</td>\n",
       "      <td>0.0</td>\n",
       "      <td>0.0</td>\n",
       "      <td>0.0</td>\n",
       "      <td>0.0</td>\n",
       "      <td>0.0</td>\n",
       "      <td>0.0</td>\n",
       "      <td>1.0</td>\n",
       "      <td>0.0</td>\n",
       "      <td>0.0</td>\n",
       "      <td>...</td>\n",
       "      <td>0.0</td>\n",
       "      <td>0.0</td>\n",
       "      <td>0.0</td>\n",
       "      <td>0.0</td>\n",
       "      <td>0.0</td>\n",
       "      <td>0.0</td>\n",
       "      <td>0.0</td>\n",
       "      <td>0.0</td>\n",
       "      <td>25.521707</td>\n",
       "      <td>0.014715</td>\n",
       "    </tr>\n",
       "  </tbody>\n",
       "</table>\n",
       "<p>3 rows × 210 columns</p>\n",
       "</div>"
      ],
      "text/plain": [
       "                           au     ca    de    fr     gb    it     nl    us  \\\n",
       "ID                                                                           \n",
       "000xQL6tZNLJzIrtIgxqSl  228.0  108.0  55.0  20.0  211.0  53.0  108.0  68.0   \n",
       "007d7JT41sSc1HqWTs4uw7    1.0    0.0   0.0   0.0    1.0   0.0    0.0   1.0   \n",
       "00BuKLSAFkaEkaVAgIMbeA    0.0    0.0   0.0   0.0    0.0   0.0    0.0   1.0   \n",
       "\n",
       "                          1    2      ...       193  194  195  196  197  198  \\\n",
       "ID                                    ...                                      \n",
       "000xQL6tZNLJzIrtIgxqSl  0.0  0.0      ...       3.0  2.0  2.0  8.0  0.0  5.0   \n",
       "007d7JT41sSc1HqWTs4uw7  0.0  0.0      ...       0.0  0.0  0.0  0.0  1.0  0.0   \n",
       "00BuKLSAFkaEkaVAgIMbeA  0.0  0.0      ...       0.0  0.0  0.0  0.0  0.0  0.0   \n",
       "\n",
       "                        199  200  avg_Streams  avg_Position  \n",
       "ID                                                           \n",
       "000xQL6tZNLJzIrtIgxqSl  3.0  3.0  7655.159917     10.340873  \n",
       "007d7JT41sSc1HqWTs4uw7  0.0  0.0    28.384166      0.068466  \n",
       "00BuKLSAFkaEkaVAgIMbeA  0.0  0.0    25.521707      0.014715  \n",
       "\n",
       "[3 rows x 210 columns]"
      ]
     },
     "execution_count": 53,
     "metadata": {},
     "output_type": "execute_result"
    }
   ],
   "source": [
    "data_cps = data_cp_groupbyID.drop(['Unnamed: 0', 'Position', 'Streams', 'Year', 'Month', 'Day', 'Acousticness',\n",
    "                        'Energy', 'Instrumentalness', 'Mode', 'Tempo', 'Valence'], axis=1)\n",
    "data_cps.head(3)"
   ]
  },
  {
   "cell_type": "code",
   "execution_count": 54,
   "metadata": {},
   "outputs": [
    {
     "data": {
      "text/html": [
       "<div>\n",
       "<style>\n",
       "    .dataframe thead tr:only-child th {\n",
       "        text-align: right;\n",
       "    }\n",
       "\n",
       "    .dataframe thead th {\n",
       "        text-align: left;\n",
       "    }\n",
       "\n",
       "    .dataframe tbody tr th {\n",
       "        vertical-align: top;\n",
       "    }\n",
       "</style>\n",
       "<table border=\"1\" class=\"dataframe\">\n",
       "  <thead>\n",
       "    <tr style=\"text-align: right;\">\n",
       "      <th></th>\n",
       "      <th>au</th>\n",
       "      <th>ca</th>\n",
       "      <th>de</th>\n",
       "      <th>fr</th>\n",
       "      <th>gb</th>\n",
       "      <th>it</th>\n",
       "      <th>nl</th>\n",
       "      <th>us</th>\n",
       "      <th>1</th>\n",
       "      <th>2</th>\n",
       "      <th>...</th>\n",
       "      <th>194</th>\n",
       "      <th>195</th>\n",
       "      <th>196</th>\n",
       "      <th>197</th>\n",
       "      <th>198</th>\n",
       "      <th>199</th>\n",
       "      <th>200</th>\n",
       "      <th>avg_Streams</th>\n",
       "      <th>avg_Position</th>\n",
       "      <th>ID</th>\n",
       "    </tr>\n",
       "    <tr>\n",
       "      <th>ID</th>\n",
       "      <th></th>\n",
       "      <th></th>\n",
       "      <th></th>\n",
       "      <th></th>\n",
       "      <th></th>\n",
       "      <th></th>\n",
       "      <th></th>\n",
       "      <th></th>\n",
       "      <th></th>\n",
       "      <th></th>\n",
       "      <th></th>\n",
       "      <th></th>\n",
       "      <th></th>\n",
       "      <th></th>\n",
       "      <th></th>\n",
       "      <th></th>\n",
       "      <th></th>\n",
       "      <th></th>\n",
       "      <th></th>\n",
       "      <th></th>\n",
       "      <th></th>\n",
       "    </tr>\n",
       "  </thead>\n",
       "  <tbody>\n",
       "    <tr>\n",
       "      <th>000xQL6tZNLJzIrtIgxqSl</th>\n",
       "      <td>228.0</td>\n",
       "      <td>108.0</td>\n",
       "      <td>55.0</td>\n",
       "      <td>20.0</td>\n",
       "      <td>211.0</td>\n",
       "      <td>53.0</td>\n",
       "      <td>108.0</td>\n",
       "      <td>68.0</td>\n",
       "      <td>0.0</td>\n",
       "      <td>0.0</td>\n",
       "      <td>...</td>\n",
       "      <td>2.0</td>\n",
       "      <td>2.0</td>\n",
       "      <td>8.0</td>\n",
       "      <td>0.0</td>\n",
       "      <td>5.0</td>\n",
       "      <td>3.0</td>\n",
       "      <td>3.0</td>\n",
       "      <td>7655.159917</td>\n",
       "      <td>10.340873</td>\n",
       "      <td>000xQL6tZNLJzIrtIgxqSl</td>\n",
       "    </tr>\n",
       "    <tr>\n",
       "      <th>007d7JT41sSc1HqWTs4uw7</th>\n",
       "      <td>1.0</td>\n",
       "      <td>0.0</td>\n",
       "      <td>0.0</td>\n",
       "      <td>0.0</td>\n",
       "      <td>1.0</td>\n",
       "      <td>0.0</td>\n",
       "      <td>0.0</td>\n",
       "      <td>1.0</td>\n",
       "      <td>0.0</td>\n",
       "      <td>0.0</td>\n",
       "      <td>...</td>\n",
       "      <td>0.0</td>\n",
       "      <td>0.0</td>\n",
       "      <td>0.0</td>\n",
       "      <td>1.0</td>\n",
       "      <td>0.0</td>\n",
       "      <td>0.0</td>\n",
       "      <td>0.0</td>\n",
       "      <td>28.384166</td>\n",
       "      <td>0.068466</td>\n",
       "      <td>007d7JT41sSc1HqWTs4uw7</td>\n",
       "    </tr>\n",
       "    <tr>\n",
       "      <th>00BuKLSAFkaEkaVAgIMbeA</th>\n",
       "      <td>0.0</td>\n",
       "      <td>0.0</td>\n",
       "      <td>0.0</td>\n",
       "      <td>0.0</td>\n",
       "      <td>0.0</td>\n",
       "      <td>0.0</td>\n",
       "      <td>0.0</td>\n",
       "      <td>1.0</td>\n",
       "      <td>0.0</td>\n",
       "      <td>0.0</td>\n",
       "      <td>...</td>\n",
       "      <td>0.0</td>\n",
       "      <td>0.0</td>\n",
       "      <td>0.0</td>\n",
       "      <td>0.0</td>\n",
       "      <td>0.0</td>\n",
       "      <td>0.0</td>\n",
       "      <td>0.0</td>\n",
       "      <td>25.521707</td>\n",
       "      <td>0.014715</td>\n",
       "      <td>00BuKLSAFkaEkaVAgIMbeA</td>\n",
       "    </tr>\n",
       "  </tbody>\n",
       "</table>\n",
       "<p>3 rows × 211 columns</p>\n",
       "</div>"
      ],
      "text/plain": [
       "                           au     ca    de    fr     gb    it     nl    us  \\\n",
       "ID                                                                           \n",
       "000xQL6tZNLJzIrtIgxqSl  228.0  108.0  55.0  20.0  211.0  53.0  108.0  68.0   \n",
       "007d7JT41sSc1HqWTs4uw7    1.0    0.0   0.0   0.0    1.0   0.0    0.0   1.0   \n",
       "00BuKLSAFkaEkaVAgIMbeA    0.0    0.0   0.0   0.0    0.0   0.0    0.0   1.0   \n",
       "\n",
       "                          1    2           ...            194  195  196  197  \\\n",
       "ID                                         ...                                 \n",
       "000xQL6tZNLJzIrtIgxqSl  0.0  0.0           ...            2.0  2.0  8.0  0.0   \n",
       "007d7JT41sSc1HqWTs4uw7  0.0  0.0           ...            0.0  0.0  0.0  1.0   \n",
       "00BuKLSAFkaEkaVAgIMbeA  0.0  0.0           ...            0.0  0.0  0.0  0.0   \n",
       "\n",
       "                        198  199  200  avg_Streams  avg_Position  \\\n",
       "ID                                                                 \n",
       "000xQL6tZNLJzIrtIgxqSl  5.0  3.0  3.0  7655.159917     10.340873   \n",
       "007d7JT41sSc1HqWTs4uw7  0.0  0.0  0.0    28.384166      0.068466   \n",
       "00BuKLSAFkaEkaVAgIMbeA  0.0  0.0  0.0    25.521707      0.014715   \n",
       "\n",
       "                                            ID  \n",
       "ID                                              \n",
       "000xQL6tZNLJzIrtIgxqSl  000xQL6tZNLJzIrtIgxqSl  \n",
       "007d7JT41sSc1HqWTs4uw7  007d7JT41sSc1HqWTs4uw7  \n",
       "00BuKLSAFkaEkaVAgIMbeA  00BuKLSAFkaEkaVAgIMbeA  \n",
       "\n",
       "[3 rows x 211 columns]"
      ]
     },
     "execution_count": 54,
     "metadata": {},
     "output_type": "execute_result"
    }
   ],
   "source": [
    "# make a new column for ID so that I can merge on ID later\n",
    "data_cps['ID'] = data_cps.index\n",
    "data_cps.head(3)"
   ]
  },
  {
   "cell_type": "markdown",
   "metadata": {},
   "source": [
    "#### Drop rows that are duplicates and keep only one row for each song (based on ID)"
   ]
  },
  {
   "cell_type": "code",
   "execution_count": 55,
   "metadata": {},
   "outputs": [
    {
     "data": {
      "text/html": [
       "<div>\n",
       "<style>\n",
       "    .dataframe thead tr:only-child th {\n",
       "        text-align: right;\n",
       "    }\n",
       "\n",
       "    .dataframe thead th {\n",
       "        text-align: left;\n",
       "    }\n",
       "\n",
       "    .dataframe tbody tr th {\n",
       "        vertical-align: top;\n",
       "    }\n",
       "</style>\n",
       "<table border=\"1\" class=\"dataframe\">\n",
       "  <thead>\n",
       "    <tr style=\"text-align: right;\">\n",
       "      <th></th>\n",
       "      <th>Unnamed: 0</th>\n",
       "      <th>Position</th>\n",
       "      <th>Streams</th>\n",
       "      <th>Track Name</th>\n",
       "      <th>Artist</th>\n",
       "      <th>ID</th>\n",
       "      <th>Date</th>\n",
       "      <th>Year</th>\n",
       "      <th>Month</th>\n",
       "      <th>Day</th>\n",
       "      <th>Country</th>\n",
       "      <th>Region</th>\n",
       "      <th>Lyrics</th>\n",
       "      <th>Acousticness</th>\n",
       "      <th>Energy</th>\n",
       "      <th>Instrumentalness</th>\n",
       "      <th>Mode</th>\n",
       "      <th>Tempo</th>\n",
       "      <th>Valence</th>\n",
       "    </tr>\n",
       "  </thead>\n",
       "  <tbody>\n",
       "    <tr>\n",
       "      <th>0</th>\n",
       "      <td>0</td>\n",
       "      <td>177</td>\n",
       "      <td>40381</td>\n",
       "      <td>Bye Bye Bye</td>\n",
       "      <td>*NSYNC</td>\n",
       "      <td>4r8lRYnoOGdEi6YyI5OC1o</td>\n",
       "      <td>2017-10-05</td>\n",
       "      <td>2017</td>\n",
       "      <td>10</td>\n",
       "      <td>5</td>\n",
       "      <td>gb</td>\n",
       "      <td>eu</td>\n",
       "      <td>hey, hey bye bye bye, bye bye bye bye  i'm doi...</td>\n",
       "      <td>0.0408</td>\n",
       "      <td>0.928</td>\n",
       "      <td>0.00104</td>\n",
       "      <td>0.0</td>\n",
       "      <td>172.656</td>\n",
       "      <td>0.8790</td>\n",
       "    </tr>\n",
       "    <tr>\n",
       "      <th>1</th>\n",
       "      <td>1</td>\n",
       "      <td>151</td>\n",
       "      <td>24132</td>\n",
       "      <td>Merry Christmas, Happy Holidays</td>\n",
       "      <td>*NSYNC</td>\n",
       "      <td>15coTBAzEN1bOeipoNDZAR</td>\n",
       "      <td>2017-12-23</td>\n",
       "      <td>2017</td>\n",
       "      <td>12</td>\n",
       "      <td>23</td>\n",
       "      <td>it</td>\n",
       "      <td>eu</td>\n",
       "      <td>merry christmas and happy holidays merry chris...</td>\n",
       "      <td>0.1030</td>\n",
       "      <td>0.939</td>\n",
       "      <td>0.00000</td>\n",
       "      <td>1.0</td>\n",
       "      <td>105.003</td>\n",
       "      <td>0.7560</td>\n",
       "    </tr>\n",
       "    <tr>\n",
       "      <th>43</th>\n",
       "      <td>43</td>\n",
       "      <td>147</td>\n",
       "      <td>43037</td>\n",
       "      <td>Douce Nuit</td>\n",
       "      <td>-M-</td>\n",
       "      <td>4EOJWkvkVDpkZrhC8iTDsI</td>\n",
       "      <td>2017-12-24</td>\n",
       "      <td>2017</td>\n",
       "      <td>12</td>\n",
       "      <td>24</td>\n",
       "      <td>fr</td>\n",
       "      <td>eu</td>\n",
       "      <td>NaN</td>\n",
       "      <td>0.9140</td>\n",
       "      <td>0.227</td>\n",
       "      <td>0.16300</td>\n",
       "      <td>1.0</td>\n",
       "      <td>81.887</td>\n",
       "      <td>0.0498</td>\n",
       "    </tr>\n",
       "  </tbody>\n",
       "</table>\n",
       "</div>"
      ],
      "text/plain": [
       "    Unnamed: 0  Position  Streams                       Track Name  Artist  \\\n",
       "0            0       177    40381                      Bye Bye Bye  *NSYNC   \n",
       "1            1       151    24132  Merry Christmas, Happy Holidays  *NSYNC   \n",
       "43          43       147    43037                       Douce Nuit     -M-   \n",
       "\n",
       "                        ID        Date  Year  Month  Day Country Region  \\\n",
       "0   4r8lRYnoOGdEi6YyI5OC1o  2017-10-05  2017     10    5      gb     eu   \n",
       "1   15coTBAzEN1bOeipoNDZAR  2017-12-23  2017     12   23      it     eu   \n",
       "43  4EOJWkvkVDpkZrhC8iTDsI  2017-12-24  2017     12   24      fr     eu   \n",
       "\n",
       "                                               Lyrics  Acousticness  Energy  \\\n",
       "0   hey, hey bye bye bye, bye bye bye bye  i'm doi...        0.0408   0.928   \n",
       "1   merry christmas and happy holidays merry chris...        0.1030   0.939   \n",
       "43                                                NaN        0.9140   0.227   \n",
       "\n",
       "    Instrumentalness  Mode    Tempo  Valence  \n",
       "0            0.00104   0.0  172.656   0.8790  \n",
       "1            0.00000   1.0  105.003   0.7560  \n",
       "43           0.16300   1.0   81.887   0.0498  "
      ]
     },
     "execution_count": 55,
     "metadata": {},
     "output_type": "execute_result"
    }
   ],
   "source": [
    "data_per_song = data.drop_duplicates(subset=['ID'], keep='first')\n",
    "data_per_song.head(3)"
   ]
  },
  {
   "cell_type": "markdown",
   "metadata": {},
   "source": [
    "#### Drop all columns that might change per song"
   ]
  },
  {
   "cell_type": "code",
   "execution_count": 56,
   "metadata": {},
   "outputs": [
    {
     "data": {
      "text/html": [
       "<div>\n",
       "<style>\n",
       "    .dataframe thead tr:only-child th {\n",
       "        text-align: right;\n",
       "    }\n",
       "\n",
       "    .dataframe thead th {\n",
       "        text-align: left;\n",
       "    }\n",
       "\n",
       "    .dataframe tbody tr th {\n",
       "        vertical-align: top;\n",
       "    }\n",
       "</style>\n",
       "<table border=\"1\" class=\"dataframe\">\n",
       "  <thead>\n",
       "    <tr style=\"text-align: right;\">\n",
       "      <th></th>\n",
       "      <th>Track Name</th>\n",
       "      <th>Artist</th>\n",
       "      <th>ID</th>\n",
       "      <th>Lyrics</th>\n",
       "      <th>Acousticness</th>\n",
       "      <th>Energy</th>\n",
       "      <th>Instrumentalness</th>\n",
       "      <th>Mode</th>\n",
       "      <th>Tempo</th>\n",
       "      <th>Valence</th>\n",
       "    </tr>\n",
       "  </thead>\n",
       "  <tbody>\n",
       "    <tr>\n",
       "      <th>0</th>\n",
       "      <td>Bye Bye Bye</td>\n",
       "      <td>*NSYNC</td>\n",
       "      <td>4r8lRYnoOGdEi6YyI5OC1o</td>\n",
       "      <td>hey, hey bye bye bye, bye bye bye bye  i'm doi...</td>\n",
       "      <td>0.0408</td>\n",
       "      <td>0.928</td>\n",
       "      <td>0.00104</td>\n",
       "      <td>0.0</td>\n",
       "      <td>172.656</td>\n",
       "      <td>0.8790</td>\n",
       "    </tr>\n",
       "    <tr>\n",
       "      <th>1</th>\n",
       "      <td>Merry Christmas, Happy Holidays</td>\n",
       "      <td>*NSYNC</td>\n",
       "      <td>15coTBAzEN1bOeipoNDZAR</td>\n",
       "      <td>merry christmas and happy holidays merry chris...</td>\n",
       "      <td>0.1030</td>\n",
       "      <td>0.939</td>\n",
       "      <td>0.00000</td>\n",
       "      <td>1.0</td>\n",
       "      <td>105.003</td>\n",
       "      <td>0.7560</td>\n",
       "    </tr>\n",
       "    <tr>\n",
       "      <th>43</th>\n",
       "      <td>Douce Nuit</td>\n",
       "      <td>-M-</td>\n",
       "      <td>4EOJWkvkVDpkZrhC8iTDsI</td>\n",
       "      <td>NaN</td>\n",
       "      <td>0.9140</td>\n",
       "      <td>0.227</td>\n",
       "      <td>0.16300</td>\n",
       "      <td>1.0</td>\n",
       "      <td>81.887</td>\n",
       "      <td>0.0498</td>\n",
       "    </tr>\n",
       "  </tbody>\n",
       "</table>\n",
       "</div>"
      ],
      "text/plain": [
       "                         Track Name  Artist                      ID  \\\n",
       "0                       Bye Bye Bye  *NSYNC  4r8lRYnoOGdEi6YyI5OC1o   \n",
       "1   Merry Christmas, Happy Holidays  *NSYNC  15coTBAzEN1bOeipoNDZAR   \n",
       "43                       Douce Nuit     -M-  4EOJWkvkVDpkZrhC8iTDsI   \n",
       "\n",
       "                                               Lyrics  Acousticness  Energy  \\\n",
       "0   hey, hey bye bye bye, bye bye bye bye  i'm doi...        0.0408   0.928   \n",
       "1   merry christmas and happy holidays merry chris...        0.1030   0.939   \n",
       "43                                                NaN        0.9140   0.227   \n",
       "\n",
       "    Instrumentalness  Mode    Tempo  Valence  \n",
       "0            0.00104   0.0  172.656   0.8790  \n",
       "1            0.00000   1.0  105.003   0.7560  \n",
       "43           0.16300   1.0   81.887   0.0498  "
      ]
     },
     "execution_count": 56,
     "metadata": {},
     "output_type": "execute_result"
    }
   ],
   "source": [
    "data_per_song = data_per_song.drop(['Unnamed: 0', 'Position', 'Streams', 'Date', 'Year', 'Month', 'Day', 'Country',\n",
    "                                   'Region'], axis=1)\n",
    "data_per_song.head(3)"
   ]
  },
  {
   "cell_type": "markdown",
   "metadata": {},
   "source": [
    "#### Combine the 2 data frames with columns that may and may not change per song"
   ]
  },
  {
   "cell_type": "code",
   "execution_count": 57,
   "metadata": {
    "scrolled": true
   },
   "outputs": [
    {
     "data": {
      "text/html": [
       "<div>\n",
       "<style>\n",
       "    .dataframe thead tr:only-child th {\n",
       "        text-align: right;\n",
       "    }\n",
       "\n",
       "    .dataframe thead th {\n",
       "        text-align: left;\n",
       "    }\n",
       "\n",
       "    .dataframe tbody tr th {\n",
       "        vertical-align: top;\n",
       "    }\n",
       "</style>\n",
       "<table border=\"1\" class=\"dataframe\">\n",
       "  <thead>\n",
       "    <tr style=\"text-align: right;\">\n",
       "      <th></th>\n",
       "      <th>Track Name</th>\n",
       "      <th>Artist</th>\n",
       "      <th>ID</th>\n",
       "      <th>Lyrics</th>\n",
       "      <th>Acousticness</th>\n",
       "      <th>Energy</th>\n",
       "      <th>Instrumentalness</th>\n",
       "      <th>Mode</th>\n",
       "      <th>Tempo</th>\n",
       "      <th>Valence</th>\n",
       "      <th>...</th>\n",
       "      <th>193</th>\n",
       "      <th>194</th>\n",
       "      <th>195</th>\n",
       "      <th>196</th>\n",
       "      <th>197</th>\n",
       "      <th>198</th>\n",
       "      <th>199</th>\n",
       "      <th>200</th>\n",
       "      <th>avg_Streams</th>\n",
       "      <th>avg_Position</th>\n",
       "    </tr>\n",
       "  </thead>\n",
       "  <tbody>\n",
       "    <tr>\n",
       "      <th>0</th>\n",
       "      <td>Bye Bye Bye</td>\n",
       "      <td>*NSYNC</td>\n",
       "      <td>4r8lRYnoOGdEi6YyI5OC1o</td>\n",
       "      <td>hey, hey bye bye bye, bye bye bye bye  i'm doi...</td>\n",
       "      <td>0.0408</td>\n",
       "      <td>0.928</td>\n",
       "      <td>0.00104</td>\n",
       "      <td>0.0</td>\n",
       "      <td>172.656</td>\n",
       "      <td>0.8790</td>\n",
       "      <td>...</td>\n",
       "      <td>0.0</td>\n",
       "      <td>0.0</td>\n",
       "      <td>0.0</td>\n",
       "      <td>0.0</td>\n",
       "      <td>0.0</td>\n",
       "      <td>0.0</td>\n",
       "      <td>0.0</td>\n",
       "      <td>0.0</td>\n",
       "      <td>4.910738</td>\n",
       "      <td>0.021525</td>\n",
       "    </tr>\n",
       "    <tr>\n",
       "      <th>1</th>\n",
       "      <td>Merry Christmas, Happy Holidays</td>\n",
       "      <td>*NSYNC</td>\n",
       "      <td>15coTBAzEN1bOeipoNDZAR</td>\n",
       "      <td>merry christmas and happy holidays merry chris...</td>\n",
       "      <td>0.1030</td>\n",
       "      <td>0.939</td>\n",
       "      <td>0.00000</td>\n",
       "      <td>1.0</td>\n",
       "      <td>105.003</td>\n",
       "      <td>0.7560</td>\n",
       "      <td>...</td>\n",
       "      <td>0.0</td>\n",
       "      <td>0.0</td>\n",
       "      <td>0.0</td>\n",
       "      <td>0.0</td>\n",
       "      <td>1.0</td>\n",
       "      <td>0.0</td>\n",
       "      <td>0.0</td>\n",
       "      <td>0.0</td>\n",
       "      <td>483.813207</td>\n",
       "      <td>0.627873</td>\n",
       "    </tr>\n",
       "    <tr>\n",
       "      <th>2</th>\n",
       "      <td>Douce Nuit</td>\n",
       "      <td>-M-</td>\n",
       "      <td>4EOJWkvkVDpkZrhC8iTDsI</td>\n",
       "      <td>NaN</td>\n",
       "      <td>0.9140</td>\n",
       "      <td>0.227</td>\n",
       "      <td>0.16300</td>\n",
       "      <td>1.0</td>\n",
       "      <td>81.887</td>\n",
       "      <td>0.0498</td>\n",
       "      <td>...</td>\n",
       "      <td>0.0</td>\n",
       "      <td>0.0</td>\n",
       "      <td>0.0</td>\n",
       "      <td>0.0</td>\n",
       "      <td>0.0</td>\n",
       "      <td>0.0</td>\n",
       "      <td>0.0</td>\n",
       "      <td>0.0</td>\n",
       "      <td>5.233735</td>\n",
       "      <td>0.017877</td>\n",
       "    </tr>\n",
       "  </tbody>\n",
       "</table>\n",
       "<p>3 rows × 220 columns</p>\n",
       "</div>"
      ],
      "text/plain": [
       "                        Track Name  Artist                      ID  \\\n",
       "0                      Bye Bye Bye  *NSYNC  4r8lRYnoOGdEi6YyI5OC1o   \n",
       "1  Merry Christmas, Happy Holidays  *NSYNC  15coTBAzEN1bOeipoNDZAR   \n",
       "2                       Douce Nuit     -M-  4EOJWkvkVDpkZrhC8iTDsI   \n",
       "\n",
       "                                              Lyrics  Acousticness  Energy  \\\n",
       "0  hey, hey bye bye bye, bye bye bye bye  i'm doi...        0.0408   0.928   \n",
       "1  merry christmas and happy holidays merry chris...        0.1030   0.939   \n",
       "2                                                NaN        0.9140   0.227   \n",
       "\n",
       "   Instrumentalness  Mode    Tempo  Valence      ...       193  194  195  196  \\\n",
       "0           0.00104   0.0  172.656   0.8790      ...       0.0  0.0  0.0  0.0   \n",
       "1           0.00000   1.0  105.003   0.7560      ...       0.0  0.0  0.0  0.0   \n",
       "2           0.16300   1.0   81.887   0.0498      ...       0.0  0.0  0.0  0.0   \n",
       "\n",
       "   197  198  199  200  avg_Streams  avg_Position  \n",
       "0  0.0  0.0  0.0  0.0     4.910738      0.021525  \n",
       "1  1.0  0.0  0.0  0.0   483.813207      0.627873  \n",
       "2  0.0  0.0  0.0  0.0     5.233735      0.017877  \n",
       "\n",
       "[3 rows x 220 columns]"
      ]
     },
     "execution_count": 57,
     "metadata": {},
     "output_type": "execute_result"
    }
   ],
   "source": [
    "big_df_song = data_per_song.merge(data_cps, how='inner', on='ID')\n",
    "big_df_song.head(3)"
   ]
  },
  {
   "cell_type": "markdown",
   "metadata": {},
   "source": [
    "#### Drop rows that have missing values in the Lyrics column <BR />\n",
    "We can use dropna to drop all rows that has missing values (should mostly be the Lyrics column)"
   ]
  },
  {
   "cell_type": "code",
   "execution_count": 58,
   "metadata": {},
   "outputs": [
    {
     "data": {
      "text/plain": [
       "8223"
      ]
     },
     "execution_count": 58,
     "metadata": {},
     "output_type": "execute_result"
    }
   ],
   "source": [
    "len(big_df_song)"
   ]
  },
  {
   "cell_type": "code",
   "execution_count": 59,
   "metadata": {
    "collapsed": true
   },
   "outputs": [],
   "source": [
    "big_df_song = big_df_song.dropna(axis=0, how='any')"
   ]
  },
  {
   "cell_type": "code",
   "execution_count": 60,
   "metadata": {},
   "outputs": [
    {
     "data": {
      "text/plain": [
       "4995"
      ]
     },
     "execution_count": 60,
     "metadata": {},
     "output_type": "execute_result"
    }
   ],
   "source": [
    "len(big_df_song)"
   ]
  },
  {
   "cell_type": "markdown",
   "metadata": {},
   "source": [
    "### TextBlob"
   ]
  },
  {
   "cell_type": "markdown",
   "metadata": {},
   "source": [
    "#### Turn the lyrics in the Lyrics column into string"
   ]
  },
  {
   "cell_type": "code",
   "execution_count": 61,
   "metadata": {
    "collapsed": true
   },
   "outputs": [],
   "source": [
    "big_df_song['Lyrics'] = big_df_song['Lyrics'].astype(str)"
   ]
  },
  {
   "cell_type": "markdown",
   "metadata": {},
   "source": [
    "#### Make and run function for TextBlob on the Lyrics"
   ]
  },
  {
   "cell_type": "code",
   "execution_count": 62,
   "metadata": {
    "collapsed": true
   },
   "outputs": [],
   "source": [
    "def sentiment_func(lyrics):\n",
    "    try:\n",
    "        return TextBlob(lyrics).sentiment\n",
    "    except:\n",
    "        return None"
   ]
  },
  {
   "cell_type": "code",
   "execution_count": 63,
   "metadata": {
    "collapsed": true
   },
   "outputs": [],
   "source": [
    "big_df_song['pol_sub'] = big_df_song['Lyrics'].apply(sentiment_func)"
   ]
  },
  {
   "cell_type": "markdown",
   "metadata": {},
   "source": [
    "#### Split the pol_sub column into 2 new columns (Polarity, Subjectivity)"
   ]
  },
  {
   "cell_type": "code",
   "execution_count": 64,
   "metadata": {
    "collapsed": true
   },
   "outputs": [],
   "source": [
    "big_df_song['Polarity'] = big_df_song['pol_sub'].apply(lambda x: x[0])\n",
    "big_df_song['Subjectivity'] = big_df_song['pol_sub'].apply(lambda x: x[1])"
   ]
  },
  {
   "cell_type": "markdown",
   "metadata": {},
   "source": [
    "#### Drop the pol_sub column"
   ]
  },
  {
   "cell_type": "code",
   "execution_count": 65,
   "metadata": {
    "collapsed": true
   },
   "outputs": [],
   "source": [
    "big_df_song = big_df_song.drop(['pol_sub'], axis=1)"
   ]
  },
  {
   "cell_type": "markdown",
   "metadata": {},
   "source": [
    "### Do a quick check of the entire data frame"
   ]
  },
  {
   "cell_type": "code",
   "execution_count": 66,
   "metadata": {},
   "outputs": [
    {
     "data": {
      "text/html": [
       "<div>\n",
       "<style>\n",
       "    .dataframe thead tr:only-child th {\n",
       "        text-align: right;\n",
       "    }\n",
       "\n",
       "    .dataframe thead th {\n",
       "        text-align: left;\n",
       "    }\n",
       "\n",
       "    .dataframe tbody tr th {\n",
       "        vertical-align: top;\n",
       "    }\n",
       "</style>\n",
       "<table border=\"1\" class=\"dataframe\">\n",
       "  <thead>\n",
       "    <tr style=\"text-align: right;\">\n",
       "      <th></th>\n",
       "      <th>Track Name</th>\n",
       "      <th>Artist</th>\n",
       "      <th>ID</th>\n",
       "      <th>Lyrics</th>\n",
       "      <th>Acousticness</th>\n",
       "      <th>Energy</th>\n",
       "      <th>Instrumentalness</th>\n",
       "      <th>Mode</th>\n",
       "      <th>Tempo</th>\n",
       "      <th>Valence</th>\n",
       "      <th>...</th>\n",
       "      <th>195</th>\n",
       "      <th>196</th>\n",
       "      <th>197</th>\n",
       "      <th>198</th>\n",
       "      <th>199</th>\n",
       "      <th>200</th>\n",
       "      <th>avg_Streams</th>\n",
       "      <th>avg_Position</th>\n",
       "      <th>Polarity</th>\n",
       "      <th>Subjectivity</th>\n",
       "    </tr>\n",
       "  </thead>\n",
       "  <tbody>\n",
       "    <tr>\n",
       "      <th>0</th>\n",
       "      <td>Bye Bye Bye</td>\n",
       "      <td>*NSYNC</td>\n",
       "      <td>4r8lRYnoOGdEi6YyI5OC1o</td>\n",
       "      <td>hey, hey bye bye bye, bye bye bye bye  i'm doi...</td>\n",
       "      <td>0.0408</td>\n",
       "      <td>0.928</td>\n",
       "      <td>0.00104</td>\n",
       "      <td>0.0</td>\n",
       "      <td>172.656</td>\n",
       "      <td>0.879</td>\n",
       "      <td>...</td>\n",
       "      <td>0.0</td>\n",
       "      <td>0.0</td>\n",
       "      <td>0.0</td>\n",
       "      <td>0.0</td>\n",
       "      <td>0.0</td>\n",
       "      <td>0.0</td>\n",
       "      <td>4.910738</td>\n",
       "      <td>0.021525</td>\n",
       "      <td>-0.044455</td>\n",
       "      <td>0.590802</td>\n",
       "    </tr>\n",
       "    <tr>\n",
       "      <th>1</th>\n",
       "      <td>Merry Christmas, Happy Holidays</td>\n",
       "      <td>*NSYNC</td>\n",
       "      <td>15coTBAzEN1bOeipoNDZAR</td>\n",
       "      <td>merry christmas and happy holidays merry chris...</td>\n",
       "      <td>0.1030</td>\n",
       "      <td>0.939</td>\n",
       "      <td>0.00000</td>\n",
       "      <td>1.0</td>\n",
       "      <td>105.003</td>\n",
       "      <td>0.756</td>\n",
       "      <td>...</td>\n",
       "      <td>0.0</td>\n",
       "      <td>0.0</td>\n",
       "      <td>1.0</td>\n",
       "      <td>0.0</td>\n",
       "      <td>0.0</td>\n",
       "      <td>0.0</td>\n",
       "      <td>483.813207</td>\n",
       "      <td>0.627873</td>\n",
       "      <td>0.583150</td>\n",
       "      <td>0.670696</td>\n",
       "    </tr>\n",
       "    <tr>\n",
       "      <th>5</th>\n",
       "      <td>Somme</td>\n",
       "      <td>13 Block</td>\n",
       "      <td>2xkxBVJHf9jQsq7g46UtQx</td>\n",
       "      <td>J'ai fait l'aller, j'suis sur le retour\\nLa ma...</td>\n",
       "      <td>0.4940</td>\n",
       "      <td>0.678</td>\n",
       "      <td>0.00151</td>\n",
       "      <td>0.0</td>\n",
       "      <td>79.979</td>\n",
       "      <td>0.528</td>\n",
       "      <td>...</td>\n",
       "      <td>0.0</td>\n",
       "      <td>1.0</td>\n",
       "      <td>0.0</td>\n",
       "      <td>0.0</td>\n",
       "      <td>0.0</td>\n",
       "      <td>0.0</td>\n",
       "      <td>4.951356</td>\n",
       "      <td>0.046820</td>\n",
       "      <td>0.173810</td>\n",
       "      <td>0.541667</td>\n",
       "    </tr>\n",
       "  </tbody>\n",
       "</table>\n",
       "<p>3 rows × 222 columns</p>\n",
       "</div>"
      ],
      "text/plain": [
       "                        Track Name    Artist                      ID  \\\n",
       "0                      Bye Bye Bye    *NSYNC  4r8lRYnoOGdEi6YyI5OC1o   \n",
       "1  Merry Christmas, Happy Holidays    *NSYNC  15coTBAzEN1bOeipoNDZAR   \n",
       "5                            Somme  13 Block  2xkxBVJHf9jQsq7g46UtQx   \n",
       "\n",
       "                                              Lyrics  Acousticness  Energy  \\\n",
       "0  hey, hey bye bye bye, bye bye bye bye  i'm doi...        0.0408   0.928   \n",
       "1  merry christmas and happy holidays merry chris...        0.1030   0.939   \n",
       "5  J'ai fait l'aller, j'suis sur le retour\\nLa ma...        0.4940   0.678   \n",
       "\n",
       "   Instrumentalness  Mode    Tempo  Valence      ...       195  196  197  198  \\\n",
       "0           0.00104   0.0  172.656    0.879      ...       0.0  0.0  0.0  0.0   \n",
       "1           0.00000   1.0  105.003    0.756      ...       0.0  0.0  1.0  0.0   \n",
       "5           0.00151   0.0   79.979    0.528      ...       0.0  1.0  0.0  0.0   \n",
       "\n",
       "   199  200  avg_Streams  avg_Position  Polarity  Subjectivity  \n",
       "0  0.0  0.0     4.910738      0.021525 -0.044455      0.590802  \n",
       "1  0.0  0.0   483.813207      0.627873  0.583150      0.670696  \n",
       "5  0.0  0.0     4.951356      0.046820  0.173810      0.541667  \n",
       "\n",
       "[3 rows x 222 columns]"
      ]
     },
     "execution_count": 66,
     "metadata": {},
     "output_type": "execute_result"
    }
   ],
   "source": [
    "big_df_song.head(3)"
   ]
  },
  {
   "cell_type": "code",
   "execution_count": 67,
   "metadata": {},
   "outputs": [
    {
     "name": "stdout",
     "output_type": "stream",
     "text": [
      "<class 'pandas.core.frame.DataFrame'>\n",
      "Int64Index: 4995 entries, 0 to 8222\n",
      "Columns: 222 entries, Track Name to Subjectivity\n",
      "dtypes: float64(218), object(4)\n",
      "memory usage: 8.5+ MB\n"
     ]
    }
   ],
   "source": [
    "big_df_song.info()"
   ]
  },
  {
   "cell_type": "markdown",
   "metadata": {},
   "source": [
    "#####################################################################################################################"
   ]
  },
  {
   "cell_type": "markdown",
   "metadata": {},
   "source": [
    "# Random_state = 45"
   ]
  },
  {
   "cell_type": "markdown",
   "metadata": {},
   "source": [
    "## Train/test split"
   ]
  },
  {
   "cell_type": "markdown",
   "metadata": {},
   "source": [
    "Divide the data into a train and a test set (with default size: train/test split size -> 0.75/0.25)"
   ]
  },
  {
   "cell_type": "code",
   "execution_count": 109,
   "metadata": {},
   "outputs": [
    {
     "data": {
      "text/html": [
       "<div>\n",
       "<style>\n",
       "    .dataframe thead tr:only-child th {\n",
       "        text-align: right;\n",
       "    }\n",
       "\n",
       "    .dataframe thead th {\n",
       "        text-align: left;\n",
       "    }\n",
       "\n",
       "    .dataframe tbody tr th {\n",
       "        vertical-align: top;\n",
       "    }\n",
       "</style>\n",
       "<table border=\"1\" class=\"dataframe\">\n",
       "  <thead>\n",
       "    <tr style=\"text-align: right;\">\n",
       "      <th></th>\n",
       "      <th>Track Name</th>\n",
       "      <th>Artist</th>\n",
       "      <th>ID</th>\n",
       "      <th>Lyrics</th>\n",
       "      <th>Acousticness</th>\n",
       "      <th>Energy</th>\n",
       "      <th>Instrumentalness</th>\n",
       "      <th>Mode</th>\n",
       "      <th>Tempo</th>\n",
       "      <th>Valence</th>\n",
       "      <th>...</th>\n",
       "      <th>195</th>\n",
       "      <th>196</th>\n",
       "      <th>197</th>\n",
       "      <th>198</th>\n",
       "      <th>199</th>\n",
       "      <th>200</th>\n",
       "      <th>avg_Streams</th>\n",
       "      <th>avg_Position</th>\n",
       "      <th>Polarity</th>\n",
       "      <th>Subjectivity</th>\n",
       "    </tr>\n",
       "  </thead>\n",
       "  <tbody>\n",
       "    <tr>\n",
       "      <th>4044</th>\n",
       "      <td>U Aint Never</td>\n",
       "      <td>Kodak Black</td>\n",
       "      <td>6scsBF1tws6Dg8VL3Xu5bS</td>\n",
       "      <td>boy you ain't never sell no work, aye sniper g...</td>\n",
       "      <td>0.112</td>\n",
       "      <td>0.556</td>\n",
       "      <td>0.000000</td>\n",
       "      <td>0.0</td>\n",
       "      <td>140.039</td>\n",
       "      <td>0.422</td>\n",
       "      <td>...</td>\n",
       "      <td>0.0</td>\n",
       "      <td>0.0</td>\n",
       "      <td>0.0</td>\n",
       "      <td>0.0</td>\n",
       "      <td>0.0</td>\n",
       "      <td>0.0</td>\n",
       "      <td>22.650249</td>\n",
       "      <td>0.022741</td>\n",
       "      <td>0.069444</td>\n",
       "      <td>0.505556</td>\n",
       "    </tr>\n",
       "    <tr>\n",
       "      <th>7017</th>\n",
       "      <td>Wooh!</td>\n",
       "      <td>Sneazzy</td>\n",
       "      <td>0GM3UqhPhW9qdBBvn4o8ow</td>\n",
       "      <td>Hey !\\nSupersound est dans cette... Hey !\\n\\nL...</td>\n",
       "      <td>0.484</td>\n",
       "      <td>0.571</td>\n",
       "      <td>0.000000</td>\n",
       "      <td>0.0</td>\n",
       "      <td>132.726</td>\n",
       "      <td>0.704</td>\n",
       "      <td>...</td>\n",
       "      <td>0.0</td>\n",
       "      <td>0.0</td>\n",
       "      <td>0.0</td>\n",
       "      <td>0.0</td>\n",
       "      <td>0.0</td>\n",
       "      <td>0.0</td>\n",
       "      <td>2.815517</td>\n",
       "      <td>0.017998</td>\n",
       "      <td>0.055952</td>\n",
       "      <td>0.690476</td>\n",
       "    </tr>\n",
       "    <tr>\n",
       "      <th>5574</th>\n",
       "      <td>The Christmas Song (Merry Christmas To You)</td>\n",
       "      <td>Nat King Cole</td>\n",
       "      <td>5humEOJehpAwMJEJmb0JJ2</td>\n",
       "      <td>Chestnuts roasting on an open fire\\nJack frost...</td>\n",
       "      <td>0.904</td>\n",
       "      <td>0.095</td>\n",
       "      <td>0.000034</td>\n",
       "      <td>1.0</td>\n",
       "      <td>72.760</td>\n",
       "      <td>0.188</td>\n",
       "      <td>...</td>\n",
       "      <td>0.0</td>\n",
       "      <td>0.0</td>\n",
       "      <td>1.0</td>\n",
       "      <td>0.0</td>\n",
       "      <td>0.0</td>\n",
       "      <td>0.0</td>\n",
       "      <td>2113.937857</td>\n",
       "      <td>1.229235</td>\n",
       "      <td>0.240833</td>\n",
       "      <td>0.499881</td>\n",
       "    </tr>\n",
       "  </tbody>\n",
       "</table>\n",
       "<p>3 rows × 222 columns</p>\n",
       "</div>"
      ],
      "text/plain": [
       "                                       Track Name         Artist  \\\n",
       "4044                                 U Aint Never    Kodak Black   \n",
       "7017                                        Wooh!        Sneazzy   \n",
       "5574  The Christmas Song (Merry Christmas To You)  Nat King Cole   \n",
       "\n",
       "                          ID  \\\n",
       "4044  6scsBF1tws6Dg8VL3Xu5bS   \n",
       "7017  0GM3UqhPhW9qdBBvn4o8ow   \n",
       "5574  5humEOJehpAwMJEJmb0JJ2   \n",
       "\n",
       "                                                 Lyrics  Acousticness  Energy  \\\n",
       "4044  boy you ain't never sell no work, aye sniper g...         0.112   0.556   \n",
       "7017  Hey !\\nSupersound est dans cette... Hey !\\n\\nL...         0.484   0.571   \n",
       "5574  Chestnuts roasting on an open fire\\nJack frost...         0.904   0.095   \n",
       "\n",
       "      Instrumentalness  Mode    Tempo  Valence      ...       195  196  197  \\\n",
       "4044          0.000000   0.0  140.039    0.422      ...       0.0  0.0  0.0   \n",
       "7017          0.000000   0.0  132.726    0.704      ...       0.0  0.0  0.0   \n",
       "5574          0.000034   1.0   72.760    0.188      ...       0.0  0.0  1.0   \n",
       "\n",
       "      198  199  200  avg_Streams  avg_Position  Polarity  Subjectivity  \n",
       "4044  0.0  0.0  0.0    22.650249      0.022741  0.069444      0.505556  \n",
       "7017  0.0  0.0  0.0     2.815517      0.017998  0.055952      0.690476  \n",
       "5574  0.0  0.0  0.0  2113.937857      1.229235  0.240833      0.499881  \n",
       "\n",
       "[3 rows x 222 columns]"
      ]
     },
     "execution_count": 109,
     "metadata": {},
     "output_type": "execute_result"
    }
   ],
   "source": [
    "big_dep   = big_df_song['Valence']\n",
    "big_indep = big_df_song\n",
    "\n",
    "# change the random_state to 45\n",
    "indep_train, indep_test, dep_train, dep_test = train_test_split(big_indep, big_dep, random_state=45)\n",
    "\n",
    "indep_train.head(3)"
   ]
  },
  {
   "cell_type": "markdown",
   "metadata": {},
   "source": [
    "## NLP"
   ]
  },
  {
   "cell_type": "code",
   "execution_count": 110,
   "metadata": {
    "collapsed": true
   },
   "outputs": [],
   "source": [
    "# read in csv with stop words\n",
    "stop_words_df = pd.read_csv('./stop_words.csv')\n",
    "\n",
    "# turn the df to list\n",
    "stop_words = stop_words_df['colummn'].tolist()"
   ]
  },
  {
   "cell_type": "markdown",
   "metadata": {},
   "source": [
    "### CountVectorizer (use in model 1)"
   ]
  },
  {
   "cell_type": "code",
   "execution_count": 111,
   "metadata": {},
   "outputs": [
    {
     "data": {
      "text/plain": [
       "CountVectorizer(analyzer='word', binary=False, decode_error='strict',\n",
       "        dtype=<class 'numpy.int64'>, encoding='utf-8', input='content',\n",
       "        lowercase=True, max_df=1.0, max_features=500, min_df=1,\n",
       "        ngram_range=(1, 1), preprocessor=None,\n",
       "        stop_words=['a', 'about', 'above', 'across', 'after', 'afterwards', 'again', 'against', 'all', 'almost', 'alone', 'along', 'already', 'also', 'although', 'always', 'am', 'among', 'amongst', 'amoungst', 'amount', 'an', 'and', 'another', 'any', 'anyhow', 'anyone', 'anything', 'anyway', 'anywhere', 'ar...s', 'trabajais', 'trabajan', 'podria', 'podrias', 'podriamos', 'podrian', 'podriais', 'yo', 'aquel'],\n",
       "        strip_accents=None, token_pattern='(?u)\\\\b\\\\w\\\\w+\\\\b',\n",
       "        tokenizer=None, vocabulary=None)"
      ]
     },
     "execution_count": 111,
     "metadata": {},
     "output_type": "execute_result"
    }
   ],
   "source": [
    "# instantiate the model (stop-words the list of 4 languages and max top features 500)\n",
    "cvec = CountVectorizer(stop_words = stop_words, max_features = 500)\n",
    "\n",
    "# fit the count vectorizer with training data. \n",
    "cvec.fit(indep_train['Lyrics'])"
   ]
  },
  {
   "cell_type": "markdown",
   "metadata": {},
   "source": [
    "**Train**"
   ]
  },
  {
   "cell_type": "code",
   "execution_count": 112,
   "metadata": {},
   "outputs": [
    {
     "data": {
      "text/html": [
       "<div>\n",
       "<style>\n",
       "    .dataframe thead tr:only-child th {\n",
       "        text-align: right;\n",
       "    }\n",
       "\n",
       "    .dataframe thead th {\n",
       "        text-align: left;\n",
       "    }\n",
       "\n",
       "    .dataframe tbody tr th {\n",
       "        vertical-align: top;\n",
       "    }\n",
       "</style>\n",
       "<table border=\"1\" class=\"dataframe\">\n",
       "  <thead>\n",
       "    <tr style=\"text-align: right;\">\n",
       "      <th></th>\n",
       "      <th>Track Name</th>\n",
       "      <th>Artist</th>\n",
       "      <th>ID</th>\n",
       "      <th>Lyrics</th>\n",
       "      <th>Acousticness</th>\n",
       "      <th>Energy</th>\n",
       "      <th>Instrumentalness</th>\n",
       "      <th>Mode</th>\n",
       "      <th>Tempo</th>\n",
       "      <th>Valence</th>\n",
       "      <th>...</th>\n",
       "      <th>young</th>\n",
       "      <th>ze</th>\n",
       "      <th>zeg</th>\n",
       "      <th>zeit</th>\n",
       "      <th>zie</th>\n",
       "      <th>zieh</th>\n",
       "      <th>zijn</th>\n",
       "      <th>zo</th>\n",
       "      <th>étais</th>\n",
       "      <th>était</th>\n",
       "    </tr>\n",
       "  </thead>\n",
       "  <tbody>\n",
       "    <tr>\n",
       "      <th>0</th>\n",
       "      <td>U Aint Never</td>\n",
       "      <td>Kodak Black</td>\n",
       "      <td>6scsBF1tws6Dg8VL3Xu5bS</td>\n",
       "      <td>boy you ain't never sell no work, aye sniper g...</td>\n",
       "      <td>0.112</td>\n",
       "      <td>0.556</td>\n",
       "      <td>0.000000</td>\n",
       "      <td>0.0</td>\n",
       "      <td>140.039</td>\n",
       "      <td>0.422</td>\n",
       "      <td>...</td>\n",
       "      <td>0</td>\n",
       "      <td>0</td>\n",
       "      <td>0</td>\n",
       "      <td>0</td>\n",
       "      <td>0</td>\n",
       "      <td>0</td>\n",
       "      <td>0</td>\n",
       "      <td>0</td>\n",
       "      <td>0</td>\n",
       "      <td>0</td>\n",
       "    </tr>\n",
       "    <tr>\n",
       "      <th>1</th>\n",
       "      <td>Wooh!</td>\n",
       "      <td>Sneazzy</td>\n",
       "      <td>0GM3UqhPhW9qdBBvn4o8ow</td>\n",
       "      <td>Hey !\\nSupersound est dans cette... Hey !\\n\\nL...</td>\n",
       "      <td>0.484</td>\n",
       "      <td>0.571</td>\n",
       "      <td>0.000000</td>\n",
       "      <td>0.0</td>\n",
       "      <td>132.726</td>\n",
       "      <td>0.704</td>\n",
       "      <td>...</td>\n",
       "      <td>0</td>\n",
       "      <td>0</td>\n",
       "      <td>0</td>\n",
       "      <td>0</td>\n",
       "      <td>0</td>\n",
       "      <td>0</td>\n",
       "      <td>0</td>\n",
       "      <td>0</td>\n",
       "      <td>0</td>\n",
       "      <td>0</td>\n",
       "    </tr>\n",
       "    <tr>\n",
       "      <th>2</th>\n",
       "      <td>The Christmas Song (Merry Christmas To You)</td>\n",
       "      <td>Nat King Cole</td>\n",
       "      <td>5humEOJehpAwMJEJmb0JJ2</td>\n",
       "      <td>Chestnuts roasting on an open fire\\nJack frost...</td>\n",
       "      <td>0.904</td>\n",
       "      <td>0.095</td>\n",
       "      <td>0.000034</td>\n",
       "      <td>1.0</td>\n",
       "      <td>72.760</td>\n",
       "      <td>0.188</td>\n",
       "      <td>...</td>\n",
       "      <td>0</td>\n",
       "      <td>0</td>\n",
       "      <td>0</td>\n",
       "      <td>0</td>\n",
       "      <td>0</td>\n",
       "      <td>0</td>\n",
       "      <td>0</td>\n",
       "      <td>0</td>\n",
       "      <td>0</td>\n",
       "      <td>0</td>\n",
       "    </tr>\n",
       "  </tbody>\n",
       "</table>\n",
       "<p>3 rows × 722 columns</p>\n",
       "</div>"
      ],
      "text/plain": [
       "                                    Track Name         Artist  \\\n",
       "0                                 U Aint Never    Kodak Black   \n",
       "1                                        Wooh!        Sneazzy   \n",
       "2  The Christmas Song (Merry Christmas To You)  Nat King Cole   \n",
       "\n",
       "                       ID                                             Lyrics  \\\n",
       "0  6scsBF1tws6Dg8VL3Xu5bS  boy you ain't never sell no work, aye sniper g...   \n",
       "1  0GM3UqhPhW9qdBBvn4o8ow  Hey !\\nSupersound est dans cette... Hey !\\n\\nL...   \n",
       "2  5humEOJehpAwMJEJmb0JJ2  Chestnuts roasting on an open fire\\nJack frost...   \n",
       "\n",
       "   Acousticness  Energy  Instrumentalness  Mode    Tempo  Valence  ...    \\\n",
       "0         0.112   0.556          0.000000   0.0  140.039    0.422  ...     \n",
       "1         0.484   0.571          0.000000   0.0  132.726    0.704  ...     \n",
       "2         0.904   0.095          0.000034   1.0   72.760    0.188  ...     \n",
       "\n",
       "   young  ze  zeg  zeit  zie  zieh  zijn  zo  étais  était  \n",
       "0      0   0    0     0    0     0     0   0      0      0  \n",
       "1      0   0    0     0    0     0     0   0      0      0  \n",
       "2      0   0    0     0    0     0     0   0      0      0  \n",
       "\n",
       "[3 rows x 722 columns]"
      ]
     },
     "execution_count": 112,
     "metadata": {},
     "output_type": "execute_result"
    }
   ],
   "source": [
    "# transform X_train\n",
    "cvec_data = cvec.transform(indep_train['Lyrics'])\n",
    "\n",
    "# Turn the features into a data frame\n",
    "df  = pd.DataFrame(cvec_data.todense(),columns=cvec.get_feature_names())\n",
    "\n",
    "# Concat with big data frame (use for fitting the model)\n",
    "indep_train_cvec = pd.concat([indep_train.reset_index(drop=True), df], axis=1)\n",
    "\n",
    "indep_train_cvec.head(3)"
   ]
  },
  {
   "cell_type": "markdown",
   "metadata": {},
   "source": [
    "**Test**"
   ]
  },
  {
   "cell_type": "code",
   "execution_count": 113,
   "metadata": {},
   "outputs": [
    {
     "data": {
      "text/html": [
       "<div>\n",
       "<style>\n",
       "    .dataframe thead tr:only-child th {\n",
       "        text-align: right;\n",
       "    }\n",
       "\n",
       "    .dataframe thead th {\n",
       "        text-align: left;\n",
       "    }\n",
       "\n",
       "    .dataframe tbody tr th {\n",
       "        vertical-align: top;\n",
       "    }\n",
       "</style>\n",
       "<table border=\"1\" class=\"dataframe\">\n",
       "  <thead>\n",
       "    <tr style=\"text-align: right;\">\n",
       "      <th></th>\n",
       "      <th>Track Name</th>\n",
       "      <th>Artist</th>\n",
       "      <th>ID</th>\n",
       "      <th>Lyrics</th>\n",
       "      <th>Acousticness</th>\n",
       "      <th>Energy</th>\n",
       "      <th>Instrumentalness</th>\n",
       "      <th>Mode</th>\n",
       "      <th>Tempo</th>\n",
       "      <th>Valence</th>\n",
       "      <th>...</th>\n",
       "      <th>young</th>\n",
       "      <th>ze</th>\n",
       "      <th>zeg</th>\n",
       "      <th>zeit</th>\n",
       "      <th>zie</th>\n",
       "      <th>zieh</th>\n",
       "      <th>zijn</th>\n",
       "      <th>zo</th>\n",
       "      <th>étais</th>\n",
       "      <th>était</th>\n",
       "    </tr>\n",
       "  </thead>\n",
       "  <tbody>\n",
       "    <tr>\n",
       "      <th>0</th>\n",
       "      <td>It's Only Christmas</td>\n",
       "      <td>Ronan Keating</td>\n",
       "      <td>2oXy2U15tnQ1HIRrpjLp41</td>\n",
       "      <td>Do you remember what you wished for every Chri...</td>\n",
       "      <td>0.280</td>\n",
       "      <td>0.526</td>\n",
       "      <td>0.000004</td>\n",
       "      <td>1.0</td>\n",
       "      <td>138.080</td>\n",
       "      <td>0.246</td>\n",
       "      <td>...</td>\n",
       "      <td>0</td>\n",
       "      <td>0</td>\n",
       "      <td>0</td>\n",
       "      <td>0</td>\n",
       "      <td>0</td>\n",
       "      <td>0</td>\n",
       "      <td>0</td>\n",
       "      <td>0</td>\n",
       "      <td>0</td>\n",
       "      <td>0</td>\n",
       "    </tr>\n",
       "    <tr>\n",
       "      <th>1</th>\n",
       "      <td>Bring It On</td>\n",
       "      <td>Racoon</td>\n",
       "      <td>3r0YcpBfet2onXzmxkGg7A</td>\n",
       "      <td>Sitting on top of his shoulders  where no one ...</td>\n",
       "      <td>0.109</td>\n",
       "      <td>0.697</td>\n",
       "      <td>0.000000</td>\n",
       "      <td>1.0</td>\n",
       "      <td>140.033</td>\n",
       "      <td>0.275</td>\n",
       "      <td>...</td>\n",
       "      <td>0</td>\n",
       "      <td>0</td>\n",
       "      <td>0</td>\n",
       "      <td>0</td>\n",
       "      <td>0</td>\n",
       "      <td>0</td>\n",
       "      <td>0</td>\n",
       "      <td>0</td>\n",
       "      <td>0</td>\n",
       "      <td>0</td>\n",
       "    </tr>\n",
       "    <tr>\n",
       "      <th>2</th>\n",
       "      <td>In Check</td>\n",
       "      <td>Bryson Tiller</td>\n",
       "      <td>4nBhjVklA3Mtnyzshg4KmD</td>\n",
       "      <td>yeah, when  when i look you in your face i see...</td>\n",
       "      <td>0.939</td>\n",
       "      <td>0.212</td>\n",
       "      <td>0.000002</td>\n",
       "      <td>1.0</td>\n",
       "      <td>116.004</td>\n",
       "      <td>0.416</td>\n",
       "      <td>...</td>\n",
       "      <td>0</td>\n",
       "      <td>0</td>\n",
       "      <td>0</td>\n",
       "      <td>0</td>\n",
       "      <td>0</td>\n",
       "      <td>0</td>\n",
       "      <td>0</td>\n",
       "      <td>0</td>\n",
       "      <td>0</td>\n",
       "      <td>0</td>\n",
       "    </tr>\n",
       "  </tbody>\n",
       "</table>\n",
       "<p>3 rows × 722 columns</p>\n",
       "</div>"
      ],
      "text/plain": [
       "            Track Name         Artist                      ID  \\\n",
       "0  It's Only Christmas  Ronan Keating  2oXy2U15tnQ1HIRrpjLp41   \n",
       "1          Bring It On         Racoon  3r0YcpBfet2onXzmxkGg7A   \n",
       "2             In Check  Bryson Tiller  4nBhjVklA3Mtnyzshg4KmD   \n",
       "\n",
       "                                              Lyrics  Acousticness  Energy  \\\n",
       "0  Do you remember what you wished for every Chri...         0.280   0.526   \n",
       "1  Sitting on top of his shoulders  where no one ...         0.109   0.697   \n",
       "2  yeah, when  when i look you in your face i see...         0.939   0.212   \n",
       "\n",
       "   Instrumentalness  Mode    Tempo  Valence  ...    young  ze  zeg  zeit  zie  \\\n",
       "0          0.000004   1.0  138.080    0.246  ...        0   0    0     0    0   \n",
       "1          0.000000   1.0  140.033    0.275  ...        0   0    0     0    0   \n",
       "2          0.000002   1.0  116.004    0.416  ...        0   0    0     0    0   \n",
       "\n",
       "   zieh  zijn  zo  étais  était  \n",
       "0     0     0   0      0      0  \n",
       "1     0     0   0      0      0  \n",
       "2     0     0   0      0      0  \n",
       "\n",
       "[3 rows x 722 columns]"
      ]
     },
     "execution_count": 113,
     "metadata": {},
     "output_type": "execute_result"
    }
   ],
   "source": [
    "# transform X_test\n",
    "cvec_data2 = cvec.transform(indep_test['Lyrics'])\n",
    "\n",
    "# Turn the features into a data frame\n",
    "df2  = pd.DataFrame(cvec_data2.todense(),columns=cvec.get_feature_names())\n",
    "\n",
    "# Concat with big data frame (use for scoring the model)\n",
    "indep_test_cvec = pd.concat([indep_test.reset_index(drop=True), df2], axis=1)\n",
    "\n",
    "indep_test_cvec.head(3)"
   ]
  },
  {
   "cell_type": "markdown",
   "metadata": {},
   "source": [
    "### TF-IDF (use in model 2)"
   ]
  },
  {
   "cell_type": "code",
   "execution_count": 114,
   "metadata": {},
   "outputs": [
    {
     "data": {
      "text/plain": [
       "TfidfVectorizer(analyzer='word', binary=False, decode_error='strict',\n",
       "        dtype=<class 'numpy.int64'>, encoding='utf-8', input='content',\n",
       "        lowercase=True, max_df=1.0, max_features=500, min_df=1,\n",
       "        ngram_range=(1, 1), norm='l2', preprocessor=None, smooth_idf=True,\n",
       "        stop_words=['a', 'about', 'above', 'across', 'after', 'afterwards', 'again', 'against', 'all', 'almost', 'alone', 'along', 'already', 'also', 'although', 'always', 'am', 'among', 'amongst', 'amoungst', 'amount', 'an', 'and', 'another', 'any', 'anyhow', 'anyone', 'anything', 'anyway', 'anywhere', 'ar...s', 'trabajais', 'trabajan', 'podria', 'podrias', 'podriamos', 'podrian', 'podriais', 'yo', 'aquel'],\n",
       "        strip_accents=None, sublinear_tf=False,\n",
       "        token_pattern='(?u)\\\\b\\\\w\\\\w+\\\\b', tokenizer=None, use_idf=True,\n",
       "        vocabulary=None)"
      ]
     },
     "execution_count": 114,
     "metadata": {},
     "output_type": "execute_result"
    }
   ],
   "source": [
    "# instantiate the model (stop-words the list of 4 languages and max top features 500)\n",
    "tvec = TfidfVectorizer(stop_words = stop_words, max_features = 500) \n",
    "\n",
    "# fit the count vectorizer with training data. \n",
    "tvec.fit(indep_train['Lyrics'])"
   ]
  },
  {
   "cell_type": "markdown",
   "metadata": {},
   "source": [
    "**Train**"
   ]
  },
  {
   "cell_type": "code",
   "execution_count": 115,
   "metadata": {},
   "outputs": [
    {
     "data": {
      "text/html": [
       "<div>\n",
       "<style>\n",
       "    .dataframe thead tr:only-child th {\n",
       "        text-align: right;\n",
       "    }\n",
       "\n",
       "    .dataframe thead th {\n",
       "        text-align: left;\n",
       "    }\n",
       "\n",
       "    .dataframe tbody tr th {\n",
       "        vertical-align: top;\n",
       "    }\n",
       "</style>\n",
       "<table border=\"1\" class=\"dataframe\">\n",
       "  <thead>\n",
       "    <tr style=\"text-align: right;\">\n",
       "      <th></th>\n",
       "      <th>Track Name</th>\n",
       "      <th>Artist</th>\n",
       "      <th>ID</th>\n",
       "      <th>Lyrics</th>\n",
       "      <th>Acousticness</th>\n",
       "      <th>Energy</th>\n",
       "      <th>Instrumentalness</th>\n",
       "      <th>Mode</th>\n",
       "      <th>Tempo</th>\n",
       "      <th>Valence</th>\n",
       "      <th>...</th>\n",
       "      <th>young</th>\n",
       "      <th>ze</th>\n",
       "      <th>zeg</th>\n",
       "      <th>zeit</th>\n",
       "      <th>zie</th>\n",
       "      <th>zieh</th>\n",
       "      <th>zijn</th>\n",
       "      <th>zo</th>\n",
       "      <th>étais</th>\n",
       "      <th>était</th>\n",
       "    </tr>\n",
       "  </thead>\n",
       "  <tbody>\n",
       "    <tr>\n",
       "      <th>0</th>\n",
       "      <td>U Aint Never</td>\n",
       "      <td>Kodak Black</td>\n",
       "      <td>6scsBF1tws6Dg8VL3Xu5bS</td>\n",
       "      <td>boy you ain't never sell no work, aye sniper g...</td>\n",
       "      <td>0.112</td>\n",
       "      <td>0.556</td>\n",
       "      <td>0.000000</td>\n",
       "      <td>0.0</td>\n",
       "      <td>140.039</td>\n",
       "      <td>0.422</td>\n",
       "      <td>...</td>\n",
       "      <td>0.0</td>\n",
       "      <td>0.0</td>\n",
       "      <td>0.0</td>\n",
       "      <td>0.0</td>\n",
       "      <td>0.0</td>\n",
       "      <td>0.0</td>\n",
       "      <td>0.0</td>\n",
       "      <td>0.0</td>\n",
       "      <td>0.0</td>\n",
       "      <td>0.0</td>\n",
       "    </tr>\n",
       "    <tr>\n",
       "      <th>1</th>\n",
       "      <td>Wooh!</td>\n",
       "      <td>Sneazzy</td>\n",
       "      <td>0GM3UqhPhW9qdBBvn4o8ow</td>\n",
       "      <td>Hey !\\nSupersound est dans cette... Hey !\\n\\nL...</td>\n",
       "      <td>0.484</td>\n",
       "      <td>0.571</td>\n",
       "      <td>0.000000</td>\n",
       "      <td>0.0</td>\n",
       "      <td>132.726</td>\n",
       "      <td>0.704</td>\n",
       "      <td>...</td>\n",
       "      <td>0.0</td>\n",
       "      <td>0.0</td>\n",
       "      <td>0.0</td>\n",
       "      <td>0.0</td>\n",
       "      <td>0.0</td>\n",
       "      <td>0.0</td>\n",
       "      <td>0.0</td>\n",
       "      <td>0.0</td>\n",
       "      <td>0.0</td>\n",
       "      <td>0.0</td>\n",
       "    </tr>\n",
       "    <tr>\n",
       "      <th>2</th>\n",
       "      <td>The Christmas Song (Merry Christmas To You)</td>\n",
       "      <td>Nat King Cole</td>\n",
       "      <td>5humEOJehpAwMJEJmb0JJ2</td>\n",
       "      <td>Chestnuts roasting on an open fire\\nJack frost...</td>\n",
       "      <td>0.904</td>\n",
       "      <td>0.095</td>\n",
       "      <td>0.000034</td>\n",
       "      <td>1.0</td>\n",
       "      <td>72.760</td>\n",
       "      <td>0.188</td>\n",
       "      <td>...</td>\n",
       "      <td>0.0</td>\n",
       "      <td>0.0</td>\n",
       "      <td>0.0</td>\n",
       "      <td>0.0</td>\n",
       "      <td>0.0</td>\n",
       "      <td>0.0</td>\n",
       "      <td>0.0</td>\n",
       "      <td>0.0</td>\n",
       "      <td>0.0</td>\n",
       "      <td>0.0</td>\n",
       "    </tr>\n",
       "  </tbody>\n",
       "</table>\n",
       "<p>3 rows × 722 columns</p>\n",
       "</div>"
      ],
      "text/plain": [
       "                                    Track Name         Artist  \\\n",
       "0                                 U Aint Never    Kodak Black   \n",
       "1                                        Wooh!        Sneazzy   \n",
       "2  The Christmas Song (Merry Christmas To You)  Nat King Cole   \n",
       "\n",
       "                       ID                                             Lyrics  \\\n",
       "0  6scsBF1tws6Dg8VL3Xu5bS  boy you ain't never sell no work, aye sniper g...   \n",
       "1  0GM3UqhPhW9qdBBvn4o8ow  Hey !\\nSupersound est dans cette... Hey !\\n\\nL...   \n",
       "2  5humEOJehpAwMJEJmb0JJ2  Chestnuts roasting on an open fire\\nJack frost...   \n",
       "\n",
       "   Acousticness  Energy  Instrumentalness  Mode    Tempo  Valence  ...    \\\n",
       "0         0.112   0.556          0.000000   0.0  140.039    0.422  ...     \n",
       "1         0.484   0.571          0.000000   0.0  132.726    0.704  ...     \n",
       "2         0.904   0.095          0.000034   1.0   72.760    0.188  ...     \n",
       "\n",
       "   young   ze  zeg  zeit  zie  zieh  zijn   zo  étais  était  \n",
       "0    0.0  0.0  0.0   0.0  0.0   0.0   0.0  0.0    0.0    0.0  \n",
       "1    0.0  0.0  0.0   0.0  0.0   0.0   0.0  0.0    0.0    0.0  \n",
       "2    0.0  0.0  0.0   0.0  0.0   0.0   0.0  0.0    0.0    0.0  \n",
       "\n",
       "[3 rows x 722 columns]"
      ]
     },
     "execution_count": 115,
     "metadata": {},
     "output_type": "execute_result"
    }
   ],
   "source": [
    "# transform X_train\n",
    "tvec_data = tvec.transform(indep_train['Lyrics'])\n",
    "\n",
    "# Turn the features into a data frame\n",
    "df3  = pd.DataFrame(tvec_data.todense(),columns=tvec.get_feature_names())\n",
    "\n",
    "# Concat with big data frame (use for fitting the model)\n",
    "indep_train_tvec= pd.concat([indep_train.reset_index(drop=True), df3], axis=1)\n",
    "\n",
    "indep_train_tvec.head(3)"
   ]
  },
  {
   "cell_type": "markdown",
   "metadata": {},
   "source": [
    "**Test**"
   ]
  },
  {
   "cell_type": "code",
   "execution_count": 116,
   "metadata": {
    "scrolled": true
   },
   "outputs": [
    {
     "data": {
      "text/html": [
       "<div>\n",
       "<style>\n",
       "    .dataframe thead tr:only-child th {\n",
       "        text-align: right;\n",
       "    }\n",
       "\n",
       "    .dataframe thead th {\n",
       "        text-align: left;\n",
       "    }\n",
       "\n",
       "    .dataframe tbody tr th {\n",
       "        vertical-align: top;\n",
       "    }\n",
       "</style>\n",
       "<table border=\"1\" class=\"dataframe\">\n",
       "  <thead>\n",
       "    <tr style=\"text-align: right;\">\n",
       "      <th></th>\n",
       "      <th>Track Name</th>\n",
       "      <th>Artist</th>\n",
       "      <th>ID</th>\n",
       "      <th>Lyrics</th>\n",
       "      <th>Acousticness</th>\n",
       "      <th>Energy</th>\n",
       "      <th>Instrumentalness</th>\n",
       "      <th>Mode</th>\n",
       "      <th>Tempo</th>\n",
       "      <th>Valence</th>\n",
       "      <th>...</th>\n",
       "      <th>young</th>\n",
       "      <th>ze</th>\n",
       "      <th>zeg</th>\n",
       "      <th>zeit</th>\n",
       "      <th>zie</th>\n",
       "      <th>zieh</th>\n",
       "      <th>zijn</th>\n",
       "      <th>zo</th>\n",
       "      <th>étais</th>\n",
       "      <th>était</th>\n",
       "    </tr>\n",
       "  </thead>\n",
       "  <tbody>\n",
       "    <tr>\n",
       "      <th>0</th>\n",
       "      <td>It's Only Christmas</td>\n",
       "      <td>Ronan Keating</td>\n",
       "      <td>2oXy2U15tnQ1HIRrpjLp41</td>\n",
       "      <td>Do you remember what you wished for every Chri...</td>\n",
       "      <td>0.280</td>\n",
       "      <td>0.526</td>\n",
       "      <td>0.000004</td>\n",
       "      <td>1.0</td>\n",
       "      <td>138.080</td>\n",
       "      <td>0.246</td>\n",
       "      <td>...</td>\n",
       "      <td>0.0</td>\n",
       "      <td>0.0</td>\n",
       "      <td>0.0</td>\n",
       "      <td>0.0</td>\n",
       "      <td>0.0</td>\n",
       "      <td>0.0</td>\n",
       "      <td>0.0</td>\n",
       "      <td>0.0</td>\n",
       "      <td>0.0</td>\n",
       "      <td>0.0</td>\n",
       "    </tr>\n",
       "    <tr>\n",
       "      <th>1</th>\n",
       "      <td>Bring It On</td>\n",
       "      <td>Racoon</td>\n",
       "      <td>3r0YcpBfet2onXzmxkGg7A</td>\n",
       "      <td>Sitting on top of his shoulders  where no one ...</td>\n",
       "      <td>0.109</td>\n",
       "      <td>0.697</td>\n",
       "      <td>0.000000</td>\n",
       "      <td>1.0</td>\n",
       "      <td>140.033</td>\n",
       "      <td>0.275</td>\n",
       "      <td>...</td>\n",
       "      <td>0.0</td>\n",
       "      <td>0.0</td>\n",
       "      <td>0.0</td>\n",
       "      <td>0.0</td>\n",
       "      <td>0.0</td>\n",
       "      <td>0.0</td>\n",
       "      <td>0.0</td>\n",
       "      <td>0.0</td>\n",
       "      <td>0.0</td>\n",
       "      <td>0.0</td>\n",
       "    </tr>\n",
       "    <tr>\n",
       "      <th>2</th>\n",
       "      <td>In Check</td>\n",
       "      <td>Bryson Tiller</td>\n",
       "      <td>4nBhjVklA3Mtnyzshg4KmD</td>\n",
       "      <td>yeah, when  when i look you in your face i see...</td>\n",
       "      <td>0.939</td>\n",
       "      <td>0.212</td>\n",
       "      <td>0.000002</td>\n",
       "      <td>1.0</td>\n",
       "      <td>116.004</td>\n",
       "      <td>0.416</td>\n",
       "      <td>...</td>\n",
       "      <td>0.0</td>\n",
       "      <td>0.0</td>\n",
       "      <td>0.0</td>\n",
       "      <td>0.0</td>\n",
       "      <td>0.0</td>\n",
       "      <td>0.0</td>\n",
       "      <td>0.0</td>\n",
       "      <td>0.0</td>\n",
       "      <td>0.0</td>\n",
       "      <td>0.0</td>\n",
       "    </tr>\n",
       "  </tbody>\n",
       "</table>\n",
       "<p>3 rows × 722 columns</p>\n",
       "</div>"
      ],
      "text/plain": [
       "            Track Name         Artist                      ID  \\\n",
       "0  It's Only Christmas  Ronan Keating  2oXy2U15tnQ1HIRrpjLp41   \n",
       "1          Bring It On         Racoon  3r0YcpBfet2onXzmxkGg7A   \n",
       "2             In Check  Bryson Tiller  4nBhjVklA3Mtnyzshg4KmD   \n",
       "\n",
       "                                              Lyrics  Acousticness  Energy  \\\n",
       "0  Do you remember what you wished for every Chri...         0.280   0.526   \n",
       "1  Sitting on top of his shoulders  where no one ...         0.109   0.697   \n",
       "2  yeah, when  when i look you in your face i see...         0.939   0.212   \n",
       "\n",
       "   Instrumentalness  Mode    Tempo  Valence  ...    young   ze  zeg  zeit  \\\n",
       "0          0.000004   1.0  138.080    0.246  ...      0.0  0.0  0.0   0.0   \n",
       "1          0.000000   1.0  140.033    0.275  ...      0.0  0.0  0.0   0.0   \n",
       "2          0.000002   1.0  116.004    0.416  ...      0.0  0.0  0.0   0.0   \n",
       "\n",
       "   zie  zieh  zijn   zo  étais  était  \n",
       "0  0.0   0.0   0.0  0.0    0.0    0.0  \n",
       "1  0.0   0.0   0.0  0.0    0.0    0.0  \n",
       "2  0.0   0.0   0.0  0.0    0.0    0.0  \n",
       "\n",
       "[3 rows x 722 columns]"
      ]
     },
     "execution_count": 116,
     "metadata": {},
     "output_type": "execute_result"
    }
   ],
   "source": [
    "# transform X_test\n",
    "tvec_data4 = tvec.transform(indep_test['Lyrics'])\n",
    "\n",
    "# Turn the features into a data frame\n",
    "df4  = pd.DataFrame(tvec_data4.todense(),columns=tvec.get_feature_names())\n",
    "\n",
    "# Concat with big data frame (use for scoring the model)\n",
    "indep_test_tvec = pd.concat([indep_test.reset_index(drop=True), df4], axis=1)\n",
    "\n",
    "indep_test_tvec.head(3)"
   ]
  },
  {
   "cell_type": "markdown",
   "metadata": {},
   "source": [
    "## Models (LinReg, Lasso, RF, Ada/Gradient Boost) - CountVec"
   ]
  },
  {
   "cell_type": "markdown",
   "metadata": {},
   "source": [
    "### Linear Regression"
   ]
  },
  {
   "cell_type": "code",
   "execution_count": 117,
   "metadata": {
    "collapsed": true
   },
   "outputs": [],
   "source": [
    "def evaluate_model(model, X_train, X_test, y_train, y_test):\n",
    "    # standardize the predictors\n",
    "    ss = StandardScaler()\n",
    "    ss.fit(X_train)\n",
    "    X_train_s = ss.transform(X_train)\n",
    "    X_test_s = ss.transform(X_test)\n",
    "    \n",
    "    # fit\n",
    "    model.fit(X_train_s, y_train)\n",
    "    \n",
    "    # Evaluate: predict and score\n",
    "    y_pred = model.predict(X_test_s)\n",
    "    y_true = y_test\n",
    "    \n",
    "    mean_square_error = np.sqrt(sklearn.metrics.mean_squared_error(y_true, y_pred))\n",
    "    \n",
    "    # Evaluate: score\n",
    "    score = model.score(X_test_s, y_test)\n",
    "    \n",
    "    return {'Score (R^2)': score.mean(), 'MSE': mean_square_error}"
   ]
  },
  {
   "cell_type": "markdown",
   "metadata": {},
   "source": [
    "#### LinReg #1 - CountVec + all coefs"
   ]
  },
  {
   "cell_type": "code",
   "execution_count": 118,
   "metadata": {},
   "outputs": [
    {
     "data": {
      "text/plain": [
       "{'MSE': 0.2176512758306596, 'Score (R^2)': 0.018647294642352596}"
      ]
     },
     "execution_count": 118,
     "metadata": {},
     "output_type": "execute_result"
    }
   ],
   "source": [
    "# define X and y\n",
    "X_train = indep_train_cvec.drop(['Track Name', 'Artist', 'ID', 'Lyrics', 'Valence'], axis=1)\n",
    "y_train = dep_train\n",
    "X_test = indep_test_cvec.drop(['Track Name', 'Artist', 'ID', 'Lyrics', 'Valence'], axis=1)\n",
    "y_test = dep_test\n",
    "\n",
    "# chose model \n",
    "linreg = LinearRegression()\n",
    "\n",
    "# call function\n",
    "evaluate_model(linreg, X_train, X_test, y_train, y_test)"
   ]
  },
  {
   "cell_type": "markdown",
   "metadata": {},
   "source": [
    "**Importance of the coefficients**"
   ]
  },
  {
   "cell_type": "code",
   "execution_count": 119,
   "metadata": {},
   "outputs": [
    {
     "data": {
      "text/plain": [
       "avg_Position    6.396832e+10\n",
       "au              3.800089e+10\n",
       "ca              3.647958e+10\n",
       "us              3.640951e+10\n",
       "gb              3.579215e+10\n",
       "it              3.549080e+10\n",
       "fr              3.412688e+10\n",
       "de              3.202012e+10\n",
       "nl              3.047732e+10\n",
       "1               1.027450e+10\n",
       "dtype: float64"
      ]
     },
     "execution_count": 119,
     "metadata": {},
     "output_type": "execute_result"
    }
   ],
   "source": [
    "# Look at the feature importance with coef_\n",
    "pd.Series(dict(zip(X_train.columns,linreg.coef_))).abs().sort_values(ascending=False).head(10)"
   ]
  },
  {
   "cell_type": "markdown",
   "metadata": {},
   "source": [
    "#### LinReg #2 - CountrVec + top 10 coefs"
   ]
  },
  {
   "cell_type": "code",
   "execution_count": 120,
   "metadata": {},
   "outputs": [
    {
     "data": {
      "text/plain": [
       "{'MSE': 0.2194060625427638, 'Score (R^2)': 0.0027594332154159407}"
      ]
     },
     "execution_count": 120,
     "metadata": {},
     "output_type": "execute_result"
    }
   ],
   "source": [
    "# define X and y\n",
    "X_train2 = indep_train_cvec[['avg_Position', 'au', 'it', 'ca', 'us', 'gb', 'fr', 'de', 'nl', 1]]\n",
    "y_train2 = dep_train\n",
    "X_test2 = indep_test_cvec[['avg_Position', 'au', 'it', 'ca', 'us', 'gb', 'fr', 'de', 'nl', 1]]\n",
    "y_test2 = dep_test\n",
    "\n",
    "# chose model \n",
    "linreg2 = LinearRegression()\n",
    "\n",
    "# call function\n",
    "evaluate_model(linreg2, X_train2, X_test2, y_train2, y_test2)"
   ]
  },
  {
   "cell_type": "markdown",
   "metadata": {},
   "source": [
    "#### LinReg #3 - CountrVec + top 3 coefs"
   ]
  },
  {
   "cell_type": "code",
   "execution_count": 121,
   "metadata": {},
   "outputs": [
    {
     "data": {
      "text/plain": [
       "{'MSE': 0.2205568763590877, 'Score (R^2)': -0.007729319613470675}"
      ]
     },
     "execution_count": 121,
     "metadata": {},
     "output_type": "execute_result"
    }
   ],
   "source": [
    "# define X and y\n",
    "X_train3 = indep_train_cvec[['avg_Position', 'au', 'it']]\n",
    "y_train3 = dep_train\n",
    "X_test3 = indep_test_cvec[['avg_Position', 'au', 'it']]\n",
    "y_test3 = dep_test\n",
    "\n",
    "# chose model \n",
    "linreg3 = LinearRegression()\n",
    "\n",
    "# call function\n",
    "evaluate_model(linreg3, X_train3, X_test3, y_train3, y_test3)"
   ]
  },
  {
   "cell_type": "markdown",
   "metadata": {},
   "source": [
    "### Lasso Regressor"
   ]
  },
  {
   "cell_type": "code",
   "execution_count": 122,
   "metadata": {
    "collapsed": true
   },
   "outputs": [],
   "source": [
    "def get_best_hype(model, params, X_train, y_train):  \n",
    "    # standardize\n",
    "    ss = StandardScaler()\n",
    "    ss.fit(X_train)\n",
    "    X_train_s = ss.transform(X_train)\n",
    "    \n",
    "    # Best Hyperparameters\n",
    "    gs = GridSearchCV(model, grid) # cv default = 3\n",
    "    \n",
    "    # fit\n",
    "    gs.fit(X_train_s, y_train)\n",
    "     \n",
    "    return {'best_score': gs.best_score_,'best_params': gs.best_params_} \n",
    "\n",
    "def evaluate_model(model, X_train, X_test, y_train, y_test):\n",
    "    # standardize the predictors\n",
    "    ss = StandardScaler()\n",
    "    ss.fit(X_train)\n",
    "    X_train_s = ss.transform(X_train)\n",
    "    X_test_s = ss.transform(X_test)\n",
    "    \n",
    "    # fit\n",
    "    model.fit(X_train_s, y_train)\n",
    "    \n",
    "    # Evaluate: predict\n",
    "    \n",
    "    y_pred = model.predict(X_test_s)\n",
    "    y_true = y_test\n",
    "    \n",
    "    mean_square_error = np.sqrt(sklearn.metrics.mean_squared_error(y_true, y_pred))\n",
    "    \n",
    "    # Evaluate: score\n",
    "    score = model.score(X_test_s, y_test)\n",
    "    \n",
    "    return {'Score (R^2)': score.mean(), 'MSE': mean_square_error}"
   ]
  },
  {
   "cell_type": "markdown",
   "metadata": {},
   "source": [
    "**Lasso #1 - CountVec + all coefs**"
   ]
  },
  {
   "cell_type": "code",
   "execution_count": 123,
   "metadata": {},
   "outputs": [
    {
     "data": {
      "text/plain": [
       "{'best_params': {'alpha': 0.005336699231206312, 'selection': 'random'},\n",
       " 'best_score': 0.16935068794705138}"
      ]
     },
     "execution_count": 123,
     "metadata": {},
     "output_type": "execute_result"
    }
   ],
   "source": [
    "# Declare indep and dep\n",
    "X_train4 = indep_train_cvec.drop(['Track Name', 'Artist', 'ID', 'Lyrics', 'Valence'], axis=1)\n",
    "y_train4 = dep_train\n",
    "X_test4 = indep_test_cvec.drop(['Track Name', 'Artist', 'ID','Lyrics', 'Valence'], axis=1)\n",
    "y_test4 = dep_test\n",
    "\n",
    "# GridSearchCV\n",
    "grid = {'alpha': np.logspace(-3, 3, 100),\n",
    "        'selection' : ('cyclic', 'random')}\n",
    "\n",
    "lassoreg = Lasso(random_state=24, fit_intercept=True, normalize=False, max_iter=1000)\n",
    "\n",
    "get_best_hype(lassoreg, grid, X_train4, y_train4)"
   ]
  },
  {
   "cell_type": "code",
   "execution_count": 124,
   "metadata": {},
   "outputs": [
    {
     "data": {
      "text/plain": [
       "{'MSE': 0.19967626464262742, 'Score (R^2)': 0.17404653973931827}"
      ]
     },
     "execution_count": 124,
     "metadata": {},
     "output_type": "execute_result"
    }
   ],
   "source": [
    "# chose model and use best hyperparameters (from gridsearchCV)\n",
    "lassoreg = Lasso(random_state=24, fit_intercept=True, normalize=False, max_iter=1000, alpha=0.0053, selection='random')\n",
    "\n",
    "# call function\n",
    "evaluate_model(lassoreg, X_train4, X_test4, y_train4, y_test4)"
   ]
  },
  {
   "cell_type": "code",
   "execution_count": 125,
   "metadata": {},
   "outputs": [
    {
     "data": {
      "text/plain": [
       "Energy          0.083115\n",
       "baby            0.016887\n",
       "Acousticness    0.016748\n",
       "pa              0.005854\n",
       "shit            0.005817\n",
       "che             0.005718\n",
       "niggas          0.005308\n",
       "girl            0.005271\n",
       "viel            0.005233\n",
       "thing           0.004903\n",
       "oh              0.004701\n",
       "ogni            0.004582\n",
       "bang            0.004519\n",
       "boy             0.004483\n",
       "je              0.004411\n",
       "dtype: float64"
      ]
     },
     "execution_count": 125,
     "metadata": {},
     "output_type": "execute_result"
    }
   ],
   "source": [
    "# Look at the feature importance with coef_\n",
    "pd.Series(dict(zip(X_train4.columns,lassoreg.coef_))).abs().sort_values(ascending=False).head(15)"
   ]
  },
  {
   "cell_type": "markdown",
   "metadata": {},
   "source": [
    "#### Lasso #2 - CountVec + top 10 coefs"
   ]
  },
  {
   "cell_type": "code",
   "execution_count": 126,
   "metadata": {},
   "outputs": [
    {
     "data": {
      "text/plain": [
       "{'best_params': {'alpha': 0.001, 'selection': 'random'},\n",
       " 'best_score': 0.17486129208903878}"
      ]
     },
     "execution_count": 126,
     "metadata": {},
     "output_type": "execute_result"
    }
   ],
   "source": [
    "# Declare indep and dep\n",
    "X_train5 = indep_train_cvec[['Energy', 'baby', 'Acousticness', 'pa', 'shit', 'che', 'niggas', 'girl', 'viel', 'thing']]\n",
    "y_train5 = dep_train\n",
    "X_test5 = indep_test_cvec[['Energy', 'baby', 'Acousticness', 'pa', 'shit', 'che', 'niggas', 'girl', 'viel', 'thing']]\n",
    "y_test5= dep_test\n",
    "\n",
    "# GridSearchCV\n",
    "grid = {'alpha': np.logspace(-3, 3, 100),\n",
    "        'selection' : ('cyclic', 'random')}\n",
    "\n",
    "lassoreg2 = Lasso(random_state=24, fit_intercept=True, normalize=False, max_iter=1000)\n",
    "\n",
    "get_best_hype(lassoreg2, grid, X_train5, y_train5)"
   ]
  },
  {
   "cell_type": "code",
   "execution_count": 127,
   "metadata": {},
   "outputs": [
    {
     "data": {
      "text/plain": [
       "{'MSE': 0.20141171212616427, 'Score (R^2)': 0.15962691995511147}"
      ]
     },
     "execution_count": 127,
     "metadata": {},
     "output_type": "execute_result"
    }
   ],
   "source": [
    "# chose model and use best hyperparameters (from gridsearchCV)\n",
    "lassoreg2 = Lasso(random_state=24, fit_intercept=True, normalize=False, max_iter=1000, alpha=0.001, \n",
    "                  selection='random')\n",
    "\n",
    "# call function\n",
    "evaluate_model(lassoreg2, X_train5, X_test5, y_train5, y_test5)"
   ]
  },
  {
   "cell_type": "markdown",
   "metadata": {},
   "source": [
    "#### Lasso #3 - CountVec + top 3 coefs"
   ]
  },
  {
   "cell_type": "code",
   "execution_count": 128,
   "metadata": {},
   "outputs": [
    {
     "data": {
      "text/plain": [
       "{'best_params': {'alpha': 0.001, 'selection': 'cyclic'},\n",
       " 'best_score': 0.15719158717791926}"
      ]
     },
     "execution_count": 128,
     "metadata": {},
     "output_type": "execute_result"
    }
   ],
   "source": [
    "# Declare indep and dep\n",
    "X_train6 = indep_train_cvec[['Energy', 'baby', 'Acousticness']]\n",
    "y_train6 = dep_train\n",
    "X_test6 = indep_test_cvec[['Energy', 'baby', 'Acousticness']]\n",
    "y_test6 = dep_test\n",
    "\n",
    "# GridSearchCV\n",
    "grid = {'alpha': np.logspace(-3, 3, 100),\n",
    "        'selection' : ('cyclic', 'random')}\n",
    "\n",
    "lassoreg3 = Lasso(random_state=24, fit_intercept=True, normalize=False, max_iter=1000)\n",
    "\n",
    "get_best_hype(lassoreg3, grid, X_train6, y_train6)"
   ]
  },
  {
   "cell_type": "code",
   "execution_count": 129,
   "metadata": {},
   "outputs": [
    {
     "data": {
      "text/plain": [
       "{'MSE': 0.20312701972348704, 'Score (R^2)': 0.14525202070823995}"
      ]
     },
     "execution_count": 129,
     "metadata": {},
     "output_type": "execute_result"
    }
   ],
   "source": [
    "# chose model and use best hyperparameters (from gridsearchCV)\n",
    "lassoreg3 = Lasso(random_state=24, fit_intercept=True, normalize=False, max_iter=1000, alpha=0.001, \n",
    "                  selection='cyclic')\n",
    "\n",
    "# call function\n",
    "evaluate_model(lassoreg3, X_train6, X_test6, y_train6, y_test6)"
   ]
  },
  {
   "cell_type": "markdown",
   "metadata": {},
   "source": [
    "### Random Forest Regressor"
   ]
  },
  {
   "cell_type": "markdown",
   "metadata": {},
   "source": [
    "You do not have to scale a Random Forest."
   ]
  },
  {
   "cell_type": "code",
   "execution_count": 130,
   "metadata": {
    "collapsed": true
   },
   "outputs": [],
   "source": [
    "def get_best_hype(model, params, X_train, y_train):  \n",
    "    # Best Hyperparameters\n",
    "    rs = RandomizedSearchCV(model, params, n_iter=40)\n",
    "    \n",
    "    # fit\n",
    "    rs.fit(X_train, y_train)\n",
    "     \n",
    "    return {'best_score': rs.best_score_,'best_params': rs.best_params_} \n",
    "\n",
    "def evaluate_model(model, X_train, X_test, y_train, y_test):\n",
    "    # fit\n",
    "    model.fit(X_train, y_train)\n",
    "    \n",
    "    # Evaluate: predict\n",
    "    y_pred = model.predict(X_test)\n",
    "    y_true = y_test\n",
    "    \n",
    "    mean_square_error = np.sqrt(sklearn.metrics.mean_squared_error(y_true, y_pred))\n",
    "    \n",
    "    # Evaluate: score\n",
    "    score = model.score(X_test, y_test)\n",
    "    \n",
    "    return {'Score (R^2)': score.mean(), 'MSE': mean_square_error}"
   ]
  },
  {
   "cell_type": "markdown",
   "metadata": {},
   "source": [
    "#### Random Forest #1 - CountVec + all coefs"
   ]
  },
  {
   "cell_type": "code",
   "execution_count": 131,
   "metadata": {},
   "outputs": [
    {
     "data": {
      "text/plain": [
       "{'best_params': {'bootstrap': True,\n",
       "  'max_depth': 14,\n",
       "  'max_features': 'auto',\n",
       "  'n_estimators': 90,\n",
       "  'verbose': 0},\n",
       " 'best_score': 0.21368334564009156}"
      ]
     },
     "execution_count": 131,
     "metadata": {},
     "output_type": "execute_result"
    }
   ],
   "source": [
    "# Declare indep and dep\n",
    "X_train7 = indep_train_cvec.drop(['Track Name', 'Artist', 'ID', 'Lyrics', 'Valence'], axis=1)\n",
    "y_train7 = dep_train\n",
    "X_test7 = indep_test_cvec.drop(['Track Name', 'Artist', 'ID', 'Lyrics', 'Valence'], axis=1)\n",
    "y_test7 = dep_test\n",
    "\n",
    "# RandomizedSearch\n",
    "params = {'n_estimators': np.arange(10, 100, 10),\n",
    "        'max_depth': np.arange(2, 20, 3),\n",
    "        'max_features' : ('auto', 'sqrt', 'log2'),\n",
    "        'bootstrap': (True, False),\n",
    "        'verbose' : np.arange(0, 1)}\n",
    "\n",
    "rfr = RandomForestRegressor(random_state=24)\n",
    "\n",
    "get_best_hype(rfr, params, X_train7, y_train7)"
   ]
  },
  {
   "cell_type": "code",
   "execution_count": 132,
   "metadata": {},
   "outputs": [
    {
     "data": {
      "text/plain": [
       "{'MSE': 0.19547967373890124, 'Score (R^2)': 0.20839979033017253}"
      ]
     },
     "execution_count": 132,
     "metadata": {},
     "output_type": "execute_result"
    }
   ],
   "source": [
    "# chose model and use best hyperparameters (from gridsearchCV)\n",
    "rfr = RandomForestRegressor(max_depth=14, max_features='auto', n_estimators=90, verbose=0, bootstrap=True, \n",
    "                            random_state=24)\n",
    "\n",
    "# call function\n",
    "evaluate_model(rfr, X_train7, X_test7, y_train7, y_test7)"
   ]
  },
  {
   "cell_type": "markdown",
   "metadata": {},
   "source": [
    "**Feature importance**"
   ]
  },
  {
   "cell_type": "code",
   "execution_count": 133,
   "metadata": {},
   "outputs": [
    {
     "data": {
      "text/plain": [
       "Energy              0.224798\n",
       "Acousticness        0.049650\n",
       "Instrumentalness    0.027722\n",
       "Tempo               0.024732\n",
       "baby                0.022117\n",
       "Polarity            0.018789\n",
       "Subjectivity        0.016952\n",
       "avg_Position        0.016709\n",
       "avg_Streams         0.012501\n",
       "oh                  0.008746\n",
       "hab                 0.006900\n",
       "je                  0.006241\n",
       "che                 0.006053\n",
       "girl                0.005590\n",
       "don                 0.005441\n",
       "dtype: float64"
      ]
     },
     "execution_count": 133,
     "metadata": {},
     "output_type": "execute_result"
    }
   ],
   "source": [
    "pd.Series(dict(zip(X_train7.columns,rfr.feature_importances_))).abs().sort_values(ascending=False).head(15)"
   ]
  },
  {
   "cell_type": "markdown",
   "metadata": {},
   "source": [
    "#### Random Forest #2 - CountVec + top 10 features"
   ]
  },
  {
   "cell_type": "code",
   "execution_count": 134,
   "metadata": {},
   "outputs": [
    {
     "data": {
      "text/plain": [
       "{'best_params': {'bootstrap': True,\n",
       "  'max_depth': 11,\n",
       "  'max_features': 'log2',\n",
       "  'n_estimators': 90,\n",
       "  'verbose': 0},\n",
       " 'best_score': 0.17670230913506144}"
      ]
     },
     "execution_count": 134,
     "metadata": {},
     "output_type": "execute_result"
    }
   ],
   "source": [
    "# define X and y\n",
    "X_train8 = indep_train_cvec[['Energy', 'Acousticness', 'Tempo', 'baby', 'Polarity', 'Subjectivity',\n",
    "                             'avg_Position','avg_Streams' , 'oh', 'hab']]\n",
    "y_train8 = dep_train\n",
    "X_test8 = indep_test_cvec[['Energy', 'Acousticness', 'Tempo', 'baby', 'Polarity', 'Subjectivity',\n",
    "                             'avg_Position','avg_Streams' , 'oh', 'hab']]\n",
    "y_test8 = dep_test\n",
    "\n",
    "# RandomizedSearch\n",
    "params = {'n_estimators': np.arange(10, 100, 10),\n",
    "        'max_depth': np.arange(2, 20, 3),\n",
    "        'max_features' : ('auto', 'sqrt', 'log2'),\n",
    "        'bootstrap': (True, False),\n",
    "        'verbose' : np.arange(0, 1)}\n",
    "\n",
    "rfr2 = RandomForestRegressor(random_state=24)\n",
    "\n",
    "get_best_hype(rfr2, params, X_train8, y_train8)"
   ]
  },
  {
   "cell_type": "code",
   "execution_count": 135,
   "metadata": {},
   "outputs": [
    {
     "data": {
      "text/plain": [
       "{'MSE': 0.19950134325802302, 'Score (R^2)': 0.17549301752127533}"
      ]
     },
     "execution_count": 135,
     "metadata": {},
     "output_type": "execute_result"
    }
   ],
   "source": [
    "# chose model and use best hyperparameters (from gridsearchCV)\n",
    "rfr2 = RandomForestRegressor(max_depth=11, max_features='log2', n_estimators=90, verbose=0, bootstrap=True, \n",
    "                               random_state=24)\n",
    "\n",
    "# call function\n",
    "evaluate_model(rfr2, X_train8, X_test8, y_train8, y_test8)"
   ]
  },
  {
   "cell_type": "markdown",
   "metadata": {},
   "source": [
    "#### Random Forest #3 - CountVec + top 3 features"
   ]
  },
  {
   "cell_type": "code",
   "execution_count": 136,
   "metadata": {},
   "outputs": [
    {
     "data": {
      "text/plain": [
       "{'best_params': {'bootstrap': True,\n",
       "  'max_depth': 5,\n",
       "  'max_features': 'auto',\n",
       "  'n_estimators': 30,\n",
       "  'verbose': 0},\n",
       " 'best_score': 0.1436025595910195}"
      ]
     },
     "execution_count": 136,
     "metadata": {},
     "output_type": "execute_result"
    }
   ],
   "source": [
    "# define X and y\n",
    "X_train9 = indep_train_cvec[['Energy', 'Acousticness', 'Tempo']]\n",
    "y_train9 = dep_train\n",
    "X_test9 = indep_test_cvec[['Energy', 'Acousticness', 'Tempo']]\n",
    "y_test9 = dep_test\n",
    "\n",
    "# RandomizedSearch\n",
    "params = {'n_estimators': np.arange(10, 100, 10),\n",
    "        'max_depth': np.arange(2, 20, 3),\n",
    "        'max_features' : ('auto', 'sqrt', 'log2'),\n",
    "        'bootstrap': (True, False),\n",
    "        'verbose' : np.arange(0, 1)}\n",
    "\n",
    "rfr3 = RandomForestRegressor(random_state=24)\n",
    "\n",
    "get_best_hype(rfr3, params, X_train9, y_train9)"
   ]
  },
  {
   "cell_type": "code",
   "execution_count": 137,
   "metadata": {},
   "outputs": [
    {
     "data": {
      "text/plain": [
       "{'MSE': 0.20434188056302194, 'Score (R^2)': 0.134997303469086}"
      ]
     },
     "execution_count": 137,
     "metadata": {},
     "output_type": "execute_result"
    }
   ],
   "source": [
    "# chose model and use best hyperparameters (from gridsearchCV)\n",
    "rfr3 = RandomForestRegressor(max_depth=5, max_features='auto', n_estimators=30, verbose=0, bootstrap=True, \n",
    "                               random_state=24)\n",
    "\n",
    "# call function\n",
    "evaluate_model(rfr3, X_train9, X_test9, y_train9, y_test9)"
   ]
  },
  {
   "cell_type": "markdown",
   "metadata": {},
   "source": [
    "### Ada and Gradient Boost"
   ]
  },
  {
   "cell_type": "code",
   "execution_count": 138,
   "metadata": {
    "collapsed": true
   },
   "outputs": [],
   "source": [
    "def get_best_hype(model, params, X_train, y_train):  \n",
    "    # standardize\n",
    "    ss = StandardScaler()\n",
    "    ss.fit(X_train)\n",
    "    X_train_s = ss.transform(X_train)\n",
    "     \n",
    "    # Best Hyperparameters\n",
    "    rs = RandomizedSearchCV(model, params, n_iter=27)\n",
    "    \n",
    "    # fit\n",
    "    rs.fit(X_train_s, y_train)\n",
    "     \n",
    "    return {'best_score': rs.best_score_,'best_params': rs.best_params_} \n",
    "\n",
    "def evaluate_model(model, X_train, X_test, y_train, y_test):\n",
    "    # standardize the predictors\n",
    "    ss = StandardScaler()\n",
    "    ss.fit(X_train)\n",
    "    X_train_s = ss.transform(X_train)\n",
    "    X_test_s = ss.transform(X_test)\n",
    "    \n",
    "    # fit\n",
    "    model.fit(X_train_s, y_train)\n",
    "    \n",
    "    # Evaluate: predict\n",
    "    y_pred = model.predict(X_test_s)\n",
    "    y_true = y_test\n",
    "    \n",
    "    mean_square_error = np.sqrt(sklearn.metrics.mean_squared_error(y_true, y_pred))\n",
    "    \n",
    "    # Evaluate: score\n",
    "    score = model.score(X_test_s, y_test)\n",
    "    \n",
    "    return {'Score (R^2)': score.mean(), 'MSE': mean_square_error}"
   ]
  },
  {
   "cell_type": "markdown",
   "metadata": {},
   "source": [
    "**Ada #1 - CountVec + all coefs**"
   ]
  },
  {
   "cell_type": "code",
   "execution_count": 139,
   "metadata": {},
   "outputs": [
    {
     "data": {
      "text/plain": [
       "{'best_params': {'loss': 'exponential', 'n_estimators': 10},\n",
       " 'best_score': 0.14528308489176012}"
      ]
     },
     "execution_count": 139,
     "metadata": {},
     "output_type": "execute_result"
    }
   ],
   "source": [
    "# Declare indep and dep\n",
    "X_train10 = indep_train_cvec.drop(['Track Name', 'Artist', 'ID', 'Lyrics', 'Valence'], axis=1)\n",
    "y_train10 = dep_train\n",
    "X_test10 = indep_test_cvec.drop(['Track Name', 'Artist', 'ID', 'Lyrics', 'Valence'], axis=1)\n",
    "y_test10 = dep_test\n",
    "\n",
    "# RandomizedSearch\n",
    "params = {'n_estimators': np.arange(10, 100, 10),\n",
    "        'loss': ('linear', 'square', 'exponential')}\n",
    "\n",
    "ada = AdaBoostRegressor(random_state=24) \n",
    "# base_estimator = DecisionTreeRegressor() (default)\n",
    "# learning_rate: (default=1.0)\n",
    "\n",
    "get_best_hype(ada, params, X_train10, y_train10)"
   ]
  },
  {
   "cell_type": "code",
   "execution_count": 140,
   "metadata": {},
   "outputs": [
    {
     "data": {
      "text/plain": [
       "{'MSE': 0.20539995917056247, 'Score (R^2)': 0.1260161744267283}"
      ]
     },
     "execution_count": 140,
     "metadata": {},
     "output_type": "execute_result"
    }
   ],
   "source": [
    "# chose model and use best hyperparameters (from gridsearchCV)\n",
    "ada = AdaBoostRegressor(n_estimators=10, loss='exponential', random_state=24)\n",
    "# I'm going with the default base_estimator, bc to choose a rfr is taking too long time\n",
    "\n",
    "# call function\n",
    "evaluate_model(ada, X_train10, X_test10, y_train10, y_test10)"
   ]
  },
  {
   "cell_type": "markdown",
   "metadata": {},
   "source": [
    "**Gradient #1 - CountVec + all coefs**"
   ]
  },
  {
   "cell_type": "code",
   "execution_count": 141,
   "metadata": {},
   "outputs": [
    {
     "data": {
      "text/plain": [
       "{'best_params': {'loss': 'lad',\n",
       "  'max_depth': 17,\n",
       "  'max_features': 'auto',\n",
       "  'n_estimators': 30,\n",
       "  'verbose': 0},\n",
       " 'best_score': 0.19625504971011956}"
      ]
     },
     "execution_count": 141,
     "metadata": {},
     "output_type": "execute_result"
    }
   ],
   "source": [
    "# Declare indep and dep\n",
    "X_train11 = indep_train_cvec.drop(['Track Name', 'Artist', 'ID', 'Lyrics', 'Valence'], axis=1)\n",
    "y_train11 = dep_train\n",
    "X_test11 = indep_test_cvec.drop(['Track Name', 'Artist', 'ID', 'Lyrics', 'Valence'], axis=1)\n",
    "y_test11 = dep_test\n",
    "\n",
    "# RandomizedSearch\n",
    "params = {'n_estimators': np.arange(10, 100, 10),\n",
    "        'loss': ('ls', 'lad', 'huber', 'quantile'),\n",
    "        'max_depth': np.arange(2, 20, 3),\n",
    "        'max_features' : ('auto', 'sqrt', 'log2'),\n",
    "        'verbose' : np.arange(0, 1)}\n",
    "\n",
    "\n",
    "grad = GradientBoostingRegressor(random_state=24) \n",
    "# learning_rate: (default=1.0)\n",
    "# init = BaseEstimator, default = None (loss.init_estimator)\n",
    "\n",
    "get_best_hype(grad, params, X_train11, y_train11)"
   ]
  },
  {
   "cell_type": "code",
   "execution_count": 142,
   "metadata": {},
   "outputs": [
    {
     "data": {
      "text/plain": [
       "{'MSE': 0.19705145602161905, 'Score (R^2)': 0.19561866237021341}"
      ]
     },
     "execution_count": 142,
     "metadata": {},
     "output_type": "execute_result"
    }
   ],
   "source": [
    "# chose model and use best hyperparameters (from gridsearchCV)\n",
    "grad = GradientBoostingRegressor(random_state=24, n_estimators=30, loss='lad', max_depth=17 , max_features='auto',\n",
    "                                 verbose=0)\n",
    "\n",
    "# call function\n",
    "evaluate_model(grad, X_train11, X_test11, y_train11, y_test11)"
   ]
  },
  {
   "cell_type": "code",
   "execution_count": 143,
   "metadata": {},
   "outputs": [
    {
     "data": {
      "text/plain": [
       "Energy              0.054782\n",
       "Acousticness        0.028384\n",
       "Tempo               0.026424\n",
       "Subjectivity        0.018080\n",
       "Polarity            0.016615\n",
       "avg_Streams         0.014941\n",
       "Instrumentalness    0.014744\n",
       "avg_Position        0.011906\n",
       "baby                0.010734\n",
       "know                0.006753\n",
       "yeah                0.006440\n",
       "like                0.006064\n",
       "oh                  0.005841\n",
       "gb                  0.005111\n",
       "wanna               0.005027\n",
       "dtype: float64"
      ]
     },
     "execution_count": 143,
     "metadata": {},
     "output_type": "execute_result"
    }
   ],
   "source": [
    "# Look at the feature importance with coef_\n",
    "pd.Series(dict(zip(X_train11.columns,grad.feature_importances_ ))).abs().sort_values(ascending=False).head(15)"
   ]
  },
  {
   "cell_type": "markdown",
   "metadata": {},
   "source": [
    "**Gradient #2 - CountVec + top 10 coefs**"
   ]
  },
  {
   "cell_type": "code",
   "execution_count": 144,
   "metadata": {},
   "outputs": [
    {
     "data": {
      "text/plain": [
       "{'best_params': {'loss': 'huber',\n",
       "  'max_depth': 2,\n",
       "  'max_features': 'auto',\n",
       "  'n_estimators': 90,\n",
       "  'verbose': 0},\n",
       " 'best_score': 0.16867760097732382}"
      ]
     },
     "execution_count": 144,
     "metadata": {},
     "output_type": "execute_result"
    }
   ],
   "source": [
    "# define X and y\n",
    "X_train12 = indep_train_cvec[['Energy', 'Acousticness', 'Tempo', 'Subjectivity', 'Polarity','avg_Streams', \n",
    "                              'Instrumentalness', 'avg_Position', 'baby', 'know']]\n",
    "y_train12 = dep_train\n",
    "X_test12 = indep_test_cvec[['Energy', 'Acousticness', 'Tempo', 'Subjectivity', 'Polarity','avg_Streams', \n",
    "                              'Instrumentalness', 'avg_Position', 'baby', 'know']]\n",
    "y_test12 = dep_test\n",
    "\n",
    "# RandomizedSearch\n",
    "params = {'n_estimators': np.arange(10, 100, 10),\n",
    "        'loss': ('ls', 'lad', 'huber', 'quantile'),\n",
    "        'max_depth': np.arange(2, 20, 3),\n",
    "        'max_features' : ('auto', 'sqrt', 'log2'),\n",
    "        'verbose' : np.arange(0, 1)}\n",
    "\n",
    "grad2 = GradientBoostingRegressor(random_state=24)\n",
    "\n",
    "get_best_hype(grad2, params, X_train12, y_train12)"
   ]
  },
  {
   "cell_type": "code",
   "execution_count": 145,
   "metadata": {},
   "outputs": [
    {
     "data": {
      "text/plain": [
       "{'MSE': 0.20277114582619526, 'Score (R^2)': 0.14824439498337494}"
      ]
     },
     "execution_count": 145,
     "metadata": {},
     "output_type": "execute_result"
    }
   ],
   "source": [
    "# chose model and use best hyperparameters (from gridsearchCV)\n",
    "grad2 = GradientBoostingRegressor(random_state=24, n_estimators=90, loss='huber', max_depth=2, max_features='auto',\n",
    "                                 verbose=0)\n",
    "\n",
    "# call function\n",
    "evaluate_model(grad2, X_train12, X_test12, y_train12, y_test12)"
   ]
  },
  {
   "cell_type": "markdown",
   "metadata": {},
   "source": [
    "**Gradient #3 - CountVec + top 3 coefs**"
   ]
  },
  {
   "cell_type": "code",
   "execution_count": 146,
   "metadata": {},
   "outputs": [
    {
     "data": {
      "text/plain": [
       "{'best_params': {'loss': 'huber',\n",
       "  'max_depth': 2,\n",
       "  'max_features': 'sqrt',\n",
       "  'n_estimators': 80,\n",
       "  'verbose': 0},\n",
       " 'best_score': 0.13982531707984994}"
      ]
     },
     "execution_count": 146,
     "metadata": {},
     "output_type": "execute_result"
    }
   ],
   "source": [
    "# define X and y\n",
    "X_train13 = indep_train_cvec[['Energy', 'Acousticness', 'Tempo']]\n",
    "y_train13 = dep_train\n",
    "X_test13 = indep_test_cvec[['Energy', 'Acousticness', 'Tempo']]\n",
    "y_test13 = dep_test\n",
    "\n",
    "# RandomizedSearch\n",
    "params = {'n_estimators': np.arange(10, 100, 10),\n",
    "        'loss': ('ls', 'lad', 'huber', 'quantile'),\n",
    "        'max_depth': np.arange(2, 20, 3),\n",
    "        'max_features' : ('auto', 'sqrt', 'log2'),\n",
    "        'verbose' : np.arange(0, 1)}\n",
    "\n",
    "grad3 = GradientBoostingRegressor(random_state=24)\n",
    "\n",
    "get_best_hype(grad3, params, X_train13, y_train13)"
   ]
  },
  {
   "cell_type": "code",
   "execution_count": 147,
   "metadata": {},
   "outputs": [
    {
     "data": {
      "text/plain": [
       "{'MSE': 0.20439329862187286, 'Score (R^2)': 0.13456193157934704}"
      ]
     },
     "execution_count": 147,
     "metadata": {},
     "output_type": "execute_result"
    }
   ],
   "source": [
    "# chose model and use best hyperparameters (from gridsearchCV)\n",
    "grad3 = GradientBoostingRegressor(random_state=24, n_estimators=80, loss='huber', max_depth=2, max_features='sqrt',\n",
    "                                 verbose=0)\n",
    "\n",
    "# call function\n",
    "evaluate_model(grad3, X_train13, X_test13, y_train13, y_test13)"
   ]
  },
  {
   "cell_type": "markdown",
   "metadata": {},
   "source": [
    "## Models (LinReg, Lasso, RF, Ada/Gradient Boost) - TF-IDF"
   ]
  },
  {
   "cell_type": "markdown",
   "metadata": {},
   "source": [
    "### Linear Regression"
   ]
  },
  {
   "cell_type": "code",
   "execution_count": 148,
   "metadata": {
    "collapsed": true
   },
   "outputs": [],
   "source": [
    "def evaluate_model(model, X_train, X_test, y_train, y_test):\n",
    "    # standardize the predictors\n",
    "    ss = StandardScaler()\n",
    "    ss.fit(X_train)\n",
    "    X_train_s = ss.transform(X_train)\n",
    "    X_test_s = ss.transform(X_test)\n",
    "    \n",
    "    # fit\n",
    "    model.fit(X_train_s, y_train)\n",
    "    \n",
    "    # Evaluate: predict and score\n",
    "    y_pred = model.predict(X_test_s)\n",
    "    y_true = y_test\n",
    "    \n",
    "    mean_square_error = np.sqrt(sklearn.metrics.mean_squared_error(y_true, y_pred))\n",
    "    \n",
    "    # Evaluate: score\n",
    "    score = model.score(X_test_s, y_test)\n",
    "    \n",
    "    return {'Score (R^2)': score.mean(), 'MSE': mean_square_error}"
   ]
  },
  {
   "cell_type": "markdown",
   "metadata": {},
   "source": [
    "#### LinReg #1 - TF-IDF + all coefs"
   ]
  },
  {
   "cell_type": "code",
   "execution_count": 149,
   "metadata": {},
   "outputs": [
    {
     "data": {
      "text/plain": [
       "{'MSE': 0.21292000992894275, 'Score (R^2)': 0.06084852472490698}"
      ]
     },
     "execution_count": 149,
     "metadata": {},
     "output_type": "execute_result"
    }
   ],
   "source": [
    "# define X and y\n",
    "X_train14 = indep_train_tvec.drop(['Track Name', 'Artist', 'ID', 'Lyrics', 'Valence'], axis=1)\n",
    "y_train14 = dep_train\n",
    "X_test14 = indep_test_tvec.drop(['Track Name', 'Artist', 'ID', 'Lyrics', 'Valence'], axis=1)\n",
    "y_test14 = dep_test\n",
    "\n",
    "# chose model \n",
    "linreg4 = LinearRegression()\n",
    "\n",
    "# call function\n",
    "evaluate_model(linreg4, X_train14, X_test14, y_train14, y_test14)"
   ]
  },
  {
   "cell_type": "markdown",
   "metadata": {},
   "source": [
    "**Importance of the coefficients**"
   ]
  },
  {
   "cell_type": "code",
   "execution_count": 150,
   "metadata": {},
   "outputs": [
    {
     "data": {
      "text/plain": [
       "Energy          0.093207\n",
       "23              0.042091\n",
       "43              0.030325\n",
       "Acousticness    0.029165\n",
       "114             0.028519\n",
       "42              0.027854\n",
       "13              0.027853\n",
       "9               0.024757\n",
       "150             0.024426\n",
       "107             0.024226\n",
       "dtype: float64"
      ]
     },
     "execution_count": 150,
     "metadata": {},
     "output_type": "execute_result"
    }
   ],
   "source": [
    "# Look at the feature importance with coef_\n",
    "pd.Series(dict(zip(X_train14.columns,linreg4.coef_))).abs().sort_values(ascending=False).head(10)"
   ]
  },
  {
   "cell_type": "markdown",
   "metadata": {},
   "source": [
    "#### LinReg #2 - TF-IDF + top 10 coefs"
   ]
  },
  {
   "cell_type": "code",
   "execution_count": 151,
   "metadata": {},
   "outputs": [
    {
     "data": {
      "text/plain": [
       "{'MSE': 0.2035000568391609, 'Score (R^2)': 0.1421096962323608}"
      ]
     },
     "execution_count": 151,
     "metadata": {},
     "output_type": "execute_result"
    }
   ],
   "source": [
    "# define X and y\n",
    "X_train15 = indep_train_cvec[['Energy', 23, 43, 'Acousticness', 114, 42, 13, 9, 150, 107]]\n",
    "y_train15 = dep_train\n",
    "X_test15 = indep_test_cvec[['Energy', 23, 43, 'Acousticness', 114, 42, 13, 9, 150, 107]]\n",
    "y_test15 = dep_test\n",
    "\n",
    "# chose model \n",
    "linreg5 = LinearRegression()\n",
    "\n",
    "# call function\n",
    "evaluate_model(linreg5, X_train15, X_test15, y_train15, y_test15)"
   ]
  },
  {
   "cell_type": "markdown",
   "metadata": {},
   "source": [
    "#### LinReg #3 - TF-IDF + top 3 coefs"
   ]
  },
  {
   "cell_type": "code",
   "execution_count": 152,
   "metadata": {},
   "outputs": [
    {
     "data": {
      "text/plain": [
       "{'MSE': 0.20593367368086132, 'Score (R^2)': 0.1214683266365274}"
      ]
     },
     "execution_count": 152,
     "metadata": {},
     "output_type": "execute_result"
    }
   ],
   "source": [
    "# define X and y\n",
    "X_train16 = indep_train_tvec[['Energy', 23, 43]]\n",
    "y_train16 = dep_train\n",
    "X_test16 = indep_test_tvec[['Energy', 23, 43]]\n",
    "y_test16 = dep_test\n",
    "\n",
    "# chose model \n",
    "linreg6 = LinearRegression()\n",
    "\n",
    "# call function\n",
    "evaluate_model(linreg6, X_train16, X_test16, y_train16, y_test16)"
   ]
  },
  {
   "cell_type": "markdown",
   "metadata": {},
   "source": [
    "### Lasso Regressor"
   ]
  },
  {
   "cell_type": "code",
   "execution_count": 153,
   "metadata": {
    "collapsed": true
   },
   "outputs": [],
   "source": [
    "def get_best_hype(model, params, X_train, y_train):  \n",
    "    # standardize\n",
    "    ss = StandardScaler()\n",
    "    ss.fit(X_train)\n",
    "    X_train_s = ss.transform(X_train)\n",
    "    \n",
    "    # Best Hyperparameters\n",
    "    gs = GridSearchCV(model, grid) # cv default = 3\n",
    "    \n",
    "    # fit\n",
    "    gs.fit(X_train_s, y_train)\n",
    "     \n",
    "    return {'best_score': gs.best_score_,'best_params': gs.best_params_} \n",
    "\n",
    "def evaluate_model(model, X_train, X_test, y_train, y_test):\n",
    "    # standardize the predictors\n",
    "    ss = StandardScaler()\n",
    "    ss.fit(X_train)\n",
    "    X_train_s = ss.transform(X_train)\n",
    "    X_test_s = ss.transform(X_test)\n",
    "    \n",
    "    # fit\n",
    "    model.fit(X_train_s, y_train)\n",
    "    \n",
    "    # Evaluate: predict\n",
    "    \n",
    "    y_pred = model.predict(X_test_s)\n",
    "    y_true = y_test\n",
    "    \n",
    "    mean_square_error = np.sqrt(sklearn.metrics.mean_squared_error(y_true, y_pred))\n",
    "    \n",
    "    # Evaluate: score\n",
    "    score = model.score(X_test_s, y_test)\n",
    "    \n",
    "    return {'Score (R^2)': score.mean(), 'MSE': mean_square_error}"
   ]
  },
  {
   "cell_type": "markdown",
   "metadata": {},
   "source": [
    "**Lasso #1 - TF-IDF + all coefs**"
   ]
  },
  {
   "cell_type": "code",
   "execution_count": 154,
   "metadata": {},
   "outputs": [
    {
     "data": {
      "text/plain": [
       "{'best_params': {'alpha': 0.004037017258596553, 'selection': 'random'},\n",
       " 'best_score': 0.17446571246076506}"
      ]
     },
     "execution_count": 154,
     "metadata": {},
     "output_type": "execute_result"
    }
   ],
   "source": [
    "# Declare indep and dep\n",
    "X_train17 = indep_train_tvec.drop(['Track Name', 'Artist', 'ID', 'Lyrics', 'Valence'], axis=1)\n",
    "y_train17 = dep_train\n",
    "X_test17 = indep_test_tvec.drop(['Track Name', 'Artist', 'ID', 'Lyrics', 'Valence'], axis=1)\n",
    "y_test17 = dep_test\n",
    "\n",
    "# GridSearchCV\n",
    "grid = {'alpha': np.logspace(-3, 3, 100),\n",
    "        'selection' : ('cyclic', 'random')}\n",
    "\n",
    "lassoreg4 = Lasso(random_state=24, fit_intercept=True, normalize=False, max_iter=1000)\n",
    "\n",
    "get_best_hype(lassoreg4, grid, X_train17, y_train17)"
   ]
  },
  {
   "cell_type": "code",
   "execution_count": 155,
   "metadata": {},
   "outputs": [
    {
     "data": {
      "text/plain": [
       "{'MSE': 0.19799981490594462, 'Score (R^2)': 0.18785746246084}"
      ]
     },
     "execution_count": 155,
     "metadata": {},
     "output_type": "execute_result"
    }
   ],
   "source": [
    "# chose model and use best hyperparameters (from gridsearchCV)\n",
    "lassoreg4 = Lasso(random_state=24, fit_intercept=True, normalize=False, max_iter=1000, alpha=0.0040, selection='random')\n",
    "\n",
    "# call function\n",
    "evaluate_model(lassoreg4, X_train17, X_test17, y_train17, y_test17)"
   ]
  },
  {
   "cell_type": "code",
   "execution_count": 156,
   "metadata": {},
   "outputs": [
    {
     "data": {
      "text/plain": [
       "Energy          0.086134\n",
       "Acousticness    0.019380\n",
       "baby            0.017480\n",
       "che             0.011002\n",
       "girl            0.007928\n",
       "bang            0.007734\n",
       "shit            0.006342\n",
       "boy             0.006076\n",
       "hoe             0.005768\n",
       "pa              0.005739\n",
       "gaat            0.005521\n",
       "niggas          0.005388\n",
       "viel            0.005021\n",
       "ogni            0.004984\n",
       "194             0.004831\n",
       "dtype: float64"
      ]
     },
     "execution_count": 156,
     "metadata": {},
     "output_type": "execute_result"
    }
   ],
   "source": [
    "# Look at the feature importance with coef_\n",
    "pd.Series(dict(zip(X_train17.columns,lassoreg4.coef_))).abs().sort_values(ascending=False).head(15)"
   ]
  },
  {
   "cell_type": "markdown",
   "metadata": {},
   "source": [
    "#### Lasso #2 - TF-IDF + top 10 coefs"
   ]
  },
  {
   "cell_type": "code",
   "execution_count": 157,
   "metadata": {},
   "outputs": [
    {
     "data": {
      "text/plain": [
       "{'best_params': {'alpha': 0.001, 'selection': 'cyclic'},\n",
       " 'best_score': 0.17699113389786178}"
      ]
     },
     "execution_count": 157,
     "metadata": {},
     "output_type": "execute_result"
    }
   ],
   "source": [
    "# Declare indep and dep\n",
    "X_train18 = indep_train_tvec[['Energy', 'Acousticness', 'baby', 'che', 'girl', 'bang', 'shit', 'boy', 'hoe', 'pa']]\n",
    "y_train18 = dep_train\n",
    "X_test18 = indep_test_tvec[['Energy', 'Acousticness', 'baby', 'che', 'girl', 'bang', 'shit', 'boy', 'hoe', 'pa']]\n",
    "y_test18= dep_test\n",
    "\n",
    "# GridSearchCV\n",
    "grid = {'alpha': np.logspace(-3, 3, 100),\n",
    "        'selection' : ('cyclic', 'random')}\n",
    "\n",
    "lassoreg5 = Lasso(random_state=24, fit_intercept=True, normalize=False, max_iter=1000)\n",
    "\n",
    "get_best_hype(lassoreg5, grid, X_train18, y_train18)"
   ]
  },
  {
   "cell_type": "code",
   "execution_count": 158,
   "metadata": {},
   "outputs": [
    {
     "data": {
      "text/plain": [
       "{'MSE': 0.20155387190960738, 'Score (R^2)': 0.1584402023128172}"
      ]
     },
     "execution_count": 158,
     "metadata": {},
     "output_type": "execute_result"
    }
   ],
   "source": [
    "# chose model and use best hyperparameters (from gridsearchCV)\n",
    "lassoreg5 = Lasso(random_state=24, fit_intercept=True, normalize=False, max_iter=1000, alpha=0.001, \n",
    "                  selection='cyclic')\n",
    "\n",
    "# call function\n",
    "evaluate_model(lassoreg5, X_train18, X_test18, y_train18, y_test18)"
   ]
  },
  {
   "cell_type": "markdown",
   "metadata": {},
   "source": [
    "#### Lasso #3 - TF-IDF + top 3 coefs"
   ]
  },
  {
   "cell_type": "code",
   "execution_count": 159,
   "metadata": {},
   "outputs": [
    {
     "data": {
      "text/plain": [
       "{'best_params': {'alpha': 0.001, 'selection': 'random'},\n",
       " 'best_score': 0.15673038265688066}"
      ]
     },
     "execution_count": 159,
     "metadata": {},
     "output_type": "execute_result"
    }
   ],
   "source": [
    "# Declare indep and dep\n",
    "X_train19 = indep_train_tvec[['Energy', 'Acousticness', 'baby']]\n",
    "y_train19 = dep_train\n",
    "X_test19 = indep_test_tvec[['Energy', 'Acousticness', 'baby']]\n",
    "y_test19 = dep_test\n",
    "\n",
    "# GridSearchCV\n",
    "grid = {'alpha': np.logspace(-3, 3, 100),\n",
    "        'selection' : ('cyclic', 'random')}\n",
    "\n",
    "lassoreg6 = Lasso(random_state=24, fit_intercept=True, normalize=False, max_iter=1000)\n",
    "\n",
    "get_best_hype(lassoreg6, grid, X_train19, y_train19)"
   ]
  },
  {
   "cell_type": "code",
   "execution_count": 160,
   "metadata": {},
   "outputs": [
    {
     "data": {
      "text/plain": [
       "{'MSE': 0.20286656472238399, 'Score (R^2)': 0.14744257772330882}"
      ]
     },
     "execution_count": 160,
     "metadata": {},
     "output_type": "execute_result"
    }
   ],
   "source": [
    "# chose model and use best hyperparameters (from gridsearchCV)\n",
    "lassoreg6 = Lasso(random_state=24, fit_intercept=True, normalize=False, max_iter=1000, alpha=0.001, \n",
    "                  selection='random')\n",
    "\n",
    "# call function\n",
    "evaluate_model(lassoreg6, X_train19, X_test19, y_train19, y_test19)"
   ]
  },
  {
   "cell_type": "markdown",
   "metadata": {},
   "source": [
    "### Random Forest Regressor"
   ]
  },
  {
   "cell_type": "markdown",
   "metadata": {},
   "source": [
    "You do not have to scale a Random Forest."
   ]
  },
  {
   "cell_type": "code",
   "execution_count": 161,
   "metadata": {
    "collapsed": true
   },
   "outputs": [],
   "source": [
    "def get_best_hype(model, params, X_train, y_train):  \n",
    "    # Best Hyperparameters\n",
    "    rs = RandomizedSearchCV(model, params, n_iter=40)\n",
    "    \n",
    "    # fit\n",
    "    rs.fit(X_train, y_train)\n",
    "     \n",
    "    return {'best_score': rs.best_score_,'best_params': rs.best_params_} \n",
    "\n",
    "def evaluate_model(model, X_train, X_test, y_train, y_test):\n",
    "    # fit\n",
    "    model.fit(X_train, y_train)\n",
    "    \n",
    "    # Evaluate: predict\n",
    "    y_pred = model.predict(X_test)\n",
    "    y_true = y_test\n",
    "    \n",
    "    mean_square_error = np.sqrt(sklearn.metrics.mean_squared_error(y_true, y_pred))\n",
    "    \n",
    "    # Evaluate: score\n",
    "    score = model.score(X_test, y_test)\n",
    "    \n",
    "    return {'Score (R^2)': score.mean(), 'MSE': mean_square_error}"
   ]
  },
  {
   "cell_type": "markdown",
   "metadata": {},
   "source": [
    "#### Random Forest #1 - TF-IDF + all coefs"
   ]
  },
  {
   "cell_type": "code",
   "execution_count": 162,
   "metadata": {},
   "outputs": [
    {
     "data": {
      "text/plain": [
       "{'best_params': {'bootstrap': True,\n",
       "  'max_depth': 17,\n",
       "  'max_features': 'auto',\n",
       "  'n_estimators': 80,\n",
       "  'verbose': 0},\n",
       " 'best_score': 0.2133425751683969}"
      ]
     },
     "execution_count": 162,
     "metadata": {},
     "output_type": "execute_result"
    }
   ],
   "source": [
    "# Declare indep and dep\n",
    "X_train20 = indep_train_tvec.drop(['Track Name', 'Artist', 'ID', 'Lyrics', 'Valence'], axis=1)\n",
    "y_train20 = dep_train\n",
    "X_test20 = indep_test_tvec.drop(['Track Name', 'Artist', 'ID', 'Lyrics', 'Valence'], axis=1)\n",
    "y_test20 = dep_test\n",
    "\n",
    "# RandomizedSearch\n",
    "params = {'n_estimators': np.arange(10, 100, 10),\n",
    "        'max_depth': np.arange(2, 20, 3),\n",
    "        'max_features' : ('auto', 'sqrt', 'log2'),\n",
    "        'bootstrap': (True, False),\n",
    "        'verbose' : np.arange(0, 1)}\n",
    "\n",
    "rfr4 = RandomForestRegressor(random_state=24)\n",
    "\n",
    "get_best_hype(rfr4, params, X_train20, y_train20)"
   ]
  },
  {
   "cell_type": "code",
   "execution_count": 163,
   "metadata": {},
   "outputs": [
    {
     "data": {
      "text/plain": [
       "{'MSE': 0.19327572779331162, 'Score (R^2)': 0.22614904270409752}"
      ]
     },
     "execution_count": 163,
     "metadata": {},
     "output_type": "execute_result"
    }
   ],
   "source": [
    "# chose model and use best hyperparameters (from gridsearchCV)\n",
    "rfr4 = RandomForestRegressor(max_depth=17, max_features='auto', n_estimators=80, verbose=0, bootstrap=True, \n",
    "                            random_state=24)\n",
    "\n",
    "# call function\n",
    "evaluate_model(rfr4, X_train20, X_test20, y_train20, y_test20)"
   ]
  },
  {
   "cell_type": "markdown",
   "metadata": {},
   "source": [
    "**Feature importance**"
   ]
  },
  {
   "cell_type": "code",
   "execution_count": 164,
   "metadata": {},
   "outputs": [
    {
     "data": {
      "text/plain": [
       "Energy              0.199152\n",
       "Acousticness        0.039943\n",
       "baby                0.021745\n",
       "Instrumentalness    0.021047\n",
       "Tempo               0.018315\n",
       "Polarity            0.014859\n",
       "avg_Position        0.014448\n",
       "Subjectivity        0.013404\n",
       "avg_Streams         0.009944\n",
       "oh                  0.008373\n",
       "che                 0.006127\n",
       "don                 0.005738\n",
       "je                  0.005728\n",
       "like                0.005596\n",
       "come                0.005220\n",
       "dtype: float64"
      ]
     },
     "execution_count": 164,
     "metadata": {},
     "output_type": "execute_result"
    }
   ],
   "source": [
    "pd.Series(dict(zip(X_train20.columns,rfr4.feature_importances_))).abs().sort_values(ascending=False).head(15)"
   ]
  },
  {
   "cell_type": "markdown",
   "metadata": {},
   "source": [
    "#### Random Forest #2 - TF-IDF + top 10 features"
   ]
  },
  {
   "cell_type": "code",
   "execution_count": 165,
   "metadata": {},
   "outputs": [
    {
     "data": {
      "text/plain": [
       "{'best_params': {'bootstrap': True,\n",
       "  'max_depth': 11,\n",
       "  'max_features': 'log2',\n",
       "  'n_estimators': 70,\n",
       "  'verbose': 0},\n",
       " 'best_score': 0.17691417549409127}"
      ]
     },
     "execution_count": 165,
     "metadata": {},
     "output_type": "execute_result"
    }
   ],
   "source": [
    "# define X and y\n",
    "X_train21 = indep_train_tvec[['Energy', 'Acousticness', 'baby', 'Instrumentalness', 'Tempo', 'Polarity',\n",
    "                             'avg_Position', 'Subjectivity', 'avg_Streams', 'oh']]\n",
    "y_train21 = dep_train\n",
    "X_test21 = indep_test_tvec[['Energy', 'Acousticness', 'baby', 'Instrumentalness', 'Tempo', 'Polarity',\n",
    "                             'avg_Position', 'Subjectivity', 'avg_Streams', 'oh']]\n",
    "y_test21 = dep_test\n",
    "\n",
    "# RandomizedSearch\n",
    "params = {'n_estimators': np.arange(10, 100, 10),\n",
    "        'max_depth': np.arange(2, 20, 3),\n",
    "        'max_features' : ('auto', 'sqrt', 'log2'),\n",
    "        'bootstrap': (True, False),\n",
    "        'verbose' : np.arange(0, 1)}\n",
    "\n",
    "rfr5 = RandomForestRegressor(random_state=24)\n",
    "\n",
    "get_best_hype(rfr5, params, X_train21, y_train21)"
   ]
  },
  {
   "cell_type": "code",
   "execution_count": 166,
   "metadata": {},
   "outputs": [
    {
     "data": {
      "text/plain": [
       "{'MSE': 0.20032882014325, 'Score (R^2)': 0.16863917510348325}"
      ]
     },
     "execution_count": 166,
     "metadata": {},
     "output_type": "execute_result"
    }
   ],
   "source": [
    "# chose model and use best hyperparameters (from gridsearchCV)\n",
    "rfr5 = RandomForestRegressor(max_depth=11, max_features='log2', n_estimators=70, verbose=0, bootstrap=True, \n",
    "                               random_state=24)\n",
    "\n",
    "# call function\n",
    "evaluate_model(rfr5, X_train21, X_test21, y_train21, y_test21)"
   ]
  },
  {
   "cell_type": "markdown",
   "metadata": {},
   "source": [
    "#### Random Forest #3 - TF-IDF + top 3 features"
   ]
  },
  {
   "cell_type": "code",
   "execution_count": 167,
   "metadata": {},
   "outputs": [
    {
     "data": {
      "text/plain": [
       "{'best_params': {'bootstrap': True,\n",
       "  'max_depth': 5,\n",
       "  'max_features': 'auto',\n",
       "  'n_estimators': 50,\n",
       "  'verbose': 0},\n",
       " 'best_score': 0.1613822938158679}"
      ]
     },
     "execution_count": 167,
     "metadata": {},
     "output_type": "execute_result"
    }
   ],
   "source": [
    "# define X and y\n",
    "X_train22 = indep_train_tvec[['Energy', 'Acousticness', 'baby']]\n",
    "y_train22 = dep_train\n",
    "X_test22 = indep_test_tvec[['Energy', 'Acousticness', 'baby']]\n",
    "y_test22 = dep_test\n",
    "\n",
    "# RandomizedSearch\n",
    "params = {'n_estimators': np.arange(10, 100, 10),\n",
    "        'max_depth': np.arange(2, 20, 3),\n",
    "        'max_features' : ('auto', 'sqrt', 'log2'),\n",
    "        'bootstrap': (True, False),\n",
    "        'verbose' : np.arange(0, 1)}\n",
    "\n",
    "rfr6 = RandomForestRegressor(random_state=24)\n",
    "\n",
    "get_best_hype(rfr6, params, X_train22, y_train22)"
   ]
  },
  {
   "cell_type": "code",
   "execution_count": 168,
   "metadata": {},
   "outputs": [
    {
     "data": {
      "text/plain": [
       "{'MSE': 0.20333191351875005, 'Score (R^2)': 0.14352678606807037}"
      ]
     },
     "execution_count": 168,
     "metadata": {},
     "output_type": "execute_result"
    }
   ],
   "source": [
    "# chose model and use best hyperparameters (from gridsearchCV)\n",
    "rfr6 = RandomForestRegressor(max_depth=5, max_features='auto', n_estimators=50, verbose=0, bootstrap=True, \n",
    "                               random_state=24)\n",
    "\n",
    "# call function\n",
    "evaluate_model(rfr6, X_train22, X_test22, y_train22, y_test22)"
   ]
  },
  {
   "cell_type": "markdown",
   "metadata": {},
   "source": [
    "### Ada and Gradient Boost"
   ]
  },
  {
   "cell_type": "code",
   "execution_count": 169,
   "metadata": {
    "collapsed": true
   },
   "outputs": [],
   "source": [
    "def get_best_hype(model, params, X_train, y_train):  \n",
    "    # standardize\n",
    "    ss = StandardScaler()\n",
    "    ss.fit(X_train)\n",
    "    X_train_s = ss.transform(X_train)\n",
    "     \n",
    "    # Best Hyperparameters\n",
    "    rs = RandomizedSearchCV(model, params, n_iter=27)\n",
    "    \n",
    "    # fit\n",
    "    rs.fit(X_train_s, y_train)\n",
    "     \n",
    "    return {'best_score': rs.best_score_,'best_params': rs.best_params_} \n",
    "\n",
    "def evaluate_model(model, X_train, X_test, y_train, y_test):\n",
    "    # standardize the predictors\n",
    "    ss = StandardScaler()\n",
    "    ss.fit(X_train)\n",
    "    X_train_s = ss.transform(X_train)\n",
    "    X_test_s = ss.transform(X_test)\n",
    "    \n",
    "    # fit\n",
    "    model.fit(X_train_s, y_train)\n",
    "    \n",
    "    # Evaluate: predict\n",
    "    y_pred = model.predict(X_test_s)\n",
    "    y_true = y_test\n",
    "    \n",
    "    mean_square_error = np.sqrt(sklearn.metrics.mean_squared_error(y_true, y_pred))\n",
    "    \n",
    "    # Evaluate: score\n",
    "    score = model.score(X_test_s, y_test)\n",
    "    \n",
    "    return {'Score (R^2)': score.mean(), 'MSE': mean_square_error}"
   ]
  },
  {
   "cell_type": "markdown",
   "metadata": {},
   "source": [
    "**Ada #1 - CountVec + all coefs**"
   ]
  },
  {
   "cell_type": "code",
   "execution_count": 170,
   "metadata": {},
   "outputs": [
    {
     "data": {
      "text/plain": [
       "{'best_params': {'loss': 'linear', 'n_estimators': 10},\n",
       " 'best_score': 0.14305301287461586}"
      ]
     },
     "execution_count": 170,
     "metadata": {},
     "output_type": "execute_result"
    }
   ],
   "source": [
    "# Declare indep and dep\n",
    "X_train23 = indep_train_tvec.drop(['Track Name', 'Artist', 'ID', 'Lyrics', 'Valence'], axis=1)\n",
    "y_train23 = dep_train\n",
    "X_test23 = indep_test_tvec.drop(['Track Name', 'Artist', 'ID', 'Lyrics', 'Valence'], axis=1)\n",
    "y_test23 = dep_test\n",
    "\n",
    "# RandomizedSearch\n",
    "params = {'n_estimators': np.arange(10, 100, 10),\n",
    "        'loss': ('linear', 'square', 'exponential')}\n",
    "\n",
    "ada2 = AdaBoostRegressor(random_state=24) \n",
    "# base_estimator = DecisionTreeRegressor() (default)\n",
    "# learning_rate: (default=1.0)\n",
    "\n",
    "get_best_hype(ada2, params, X_train23, y_train23)"
   ]
  },
  {
   "cell_type": "code",
   "execution_count": 171,
   "metadata": {},
   "outputs": [
    {
     "data": {
      "text/plain": [
       "{'MSE': 0.2054264807031488, 'Score (R^2)': 0.12579045980554426}"
      ]
     },
     "execution_count": 171,
     "metadata": {},
     "output_type": "execute_result"
    }
   ],
   "source": [
    "# chose model and use best hyperparameters (from gridsearchCV)\n",
    "ada2 = AdaBoostRegressor(n_estimators=10, loss='linear', random_state=24)\n",
    "# I'm going with the default base_estimator, bc to choose a rfr is taking too long time\n",
    "\n",
    "# call function\n",
    "evaluate_model(ada2, X_train23, X_test23, y_train23, y_test23)"
   ]
  },
  {
   "cell_type": "markdown",
   "metadata": {},
   "source": [
    "**Gradient #1 - TF-IDF + all coefs**"
   ]
  },
  {
   "cell_type": "code",
   "execution_count": 172,
   "metadata": {},
   "outputs": [
    {
     "data": {
      "text/plain": [
       "{'best_params': {'loss': 'ls',\n",
       "  'max_depth': 5,\n",
       "  'max_features': 'auto',\n",
       "  'n_estimators': 70,\n",
       "  'verbose': 0},\n",
       " 'best_score': 0.20449942779651104}"
      ]
     },
     "execution_count": 172,
     "metadata": {},
     "output_type": "execute_result"
    }
   ],
   "source": [
    "## Declare indep and dep\n",
    "X_train24 = indep_train_tvec.drop(['Track Name', 'Artist', 'ID', 'Lyrics', 'Valence'], axis=1)\n",
    "y_train24 = dep_train\n",
    "X_test24 = indep_test_tvec.drop(['Track Name', 'Artist', 'ID', 'Lyrics', 'Valence'], axis=1)\n",
    "y_test24 = dep_test\n",
    "\n",
    "# RandomizedSearch\n",
    "params = {'n_estimators': np.arange(10, 100, 10),\n",
    "        'loss': ('ls', 'lad', 'huber', 'quantile'),\n",
    "        'max_depth': np.arange(2, 20, 3),\n",
    "        'max_features' : ('auto', 'sqrt', 'log2'),\n",
    "        'verbose' : np.arange(0, 1)}\n",
    "\n",
    "grad4 = GradientBoostingRegressor(random_state=24) \n",
    "# learning_rate: (default=1.0)\n",
    "# init = BaseEstimator, default = None (loss.init_estimator)\n",
    "\n",
    "get_best_hype(grad4, params, X_train24, y_train24)"
   ]
  },
  {
   "cell_type": "code",
   "execution_count": 173,
   "metadata": {},
   "outputs": [
    {
     "data": {
      "text/plain": [
       "{'MSE': 0.19389423514532855, 'Score (R^2)': 0.2211882713240544}"
      ]
     },
     "execution_count": 173,
     "metadata": {},
     "output_type": "execute_result"
    }
   ],
   "source": [
    "# chose model and use best hyperparameters (from gridsearchCV)\n",
    "grad4 = GradientBoostingRegressor(random_state=24, n_estimators=70, loss='ls', max_depth=5, max_features='auto',\n",
    "                                 verbose=0)\n",
    "# if loss = huber or quantile we need a value for alpha\n",
    "\n",
    "# call function\n",
    "evaluate_model(grad4, X_train24, X_test24, y_train24, y_test24)"
   ]
  },
  {
   "cell_type": "code",
   "execution_count": 174,
   "metadata": {},
   "outputs": [
    {
     "data": {
      "text/plain": [
       "Energy              0.109743\n",
       "Acousticness        0.025809\n",
       "Subjectivity        0.017802\n",
       "baby                0.015970\n",
       "Instrumentalness    0.015862\n",
       "Tempo               0.014947\n",
       "girl                0.010210\n",
       "moi                 0.009431\n",
       "avg_Position        0.008877\n",
       "hab                 0.008796\n",
       "Polarity            0.008477\n",
       "che                 0.008333\n",
       "hope                0.008190\n",
       "feel                0.008050\n",
       "avg_Streams         0.008009\n",
       "dtype: float64"
      ]
     },
     "execution_count": 174,
     "metadata": {},
     "output_type": "execute_result"
    }
   ],
   "source": [
    "# Look at the feature importance with coef_\n",
    "pd.Series(dict(zip(X_train24.columns,grad4.feature_importances_ ))).abs().sort_values(ascending=False).head(15)"
   ]
  },
  {
   "cell_type": "markdown",
   "metadata": {},
   "source": [
    "**Gradient #2 - TF-IDF + top 10 coefs**"
   ]
  },
  {
   "cell_type": "code",
   "execution_count": 175,
   "metadata": {},
   "outputs": [
    {
     "data": {
      "text/plain": [
       "{'best_params': {'loss': 'lad',\n",
       "  'max_depth': 8,\n",
       "  'max_features': 'log2',\n",
       "  'n_estimators': 90,\n",
       "  'verbose': 0},\n",
       " 'best_score': 0.16925200743028437}"
      ]
     },
     "execution_count": 175,
     "metadata": {},
     "output_type": "execute_result"
    }
   ],
   "source": [
    "# define X and y\n",
    "X_train25 = indep_train_tvec[['Energy', 'Acousticness', 'Subjectivity', 'baby', 'Instrumentalness', 'Tempo', \n",
    "                              'girl', 'moi', 'avg_Position', 'hab']]\n",
    "y_train25 = dep_train\n",
    "X_test25 = indep_test_tvec[['Energy', 'Acousticness', 'Subjectivity', 'baby', 'Instrumentalness', 'Tempo', \n",
    "                              'girl', 'moi', 'avg_Position', 'hab']]\n",
    "y_test25 = dep_test\n",
    "\n",
    "# RandomizedSearch\n",
    "params = {'n_estimators': np.arange(10, 100, 10),\n",
    "        'loss': ('ls', 'lad', 'huber', 'quantile'),\n",
    "        'max_depth': np.arange(2, 20, 3),\n",
    "        'max_features' : ('auto', 'sqrt', 'log2'),\n",
    "        'verbose' : np.arange(0, 1)}\n",
    "\n",
    "grad5 = GradientBoostingRegressor(random_state=24)\n",
    "\n",
    "get_best_hype(grad5, params, X_train25, y_train25)"
   ]
  },
  {
   "cell_type": "code",
   "execution_count": 176,
   "metadata": {},
   "outputs": [
    {
     "data": {
      "text/plain": [
       "{'MSE': 0.20160484053473368, 'Score (R^2)': 0.1580145238694437}"
      ]
     },
     "execution_count": 176,
     "metadata": {},
     "output_type": "execute_result"
    }
   ],
   "source": [
    "# chose model and use best hyperparameters (from gridsearchCV)\n",
    "grad5 = GradientBoostingRegressor(random_state=24, n_estimators=90, loss='lad', max_depth=8, max_features='log2',\n",
    "                                 verbose=0)\n",
    "\n",
    "# call function\n",
    "evaluate_model(grad5, X_train25, X_test25, y_train25, y_test25)"
   ]
  },
  {
   "cell_type": "markdown",
   "metadata": {},
   "source": [
    "**Gradient #3 - TF-IDF + top 3 coefs**"
   ]
  },
  {
   "cell_type": "code",
   "execution_count": 177,
   "metadata": {},
   "outputs": [
    {
     "data": {
      "text/plain": [
       "{'best_params': {'loss': 'ls',\n",
       "  'max_depth': 5,\n",
       "  'max_features': 'log2',\n",
       "  'n_estimators': 20,\n",
       "  'verbose': 0},\n",
       " 'best_score': 0.13675017624686753}"
      ]
     },
     "execution_count": 177,
     "metadata": {},
     "output_type": "execute_result"
    }
   ],
   "source": [
    "# define X and y\n",
    "X_train26 = indep_train_tvec[['Energy', 'Acousticness', 'Subjectivity']]\n",
    "y_train26 = dep_train\n",
    "X_test26 = indep_test_tvec[['Energy', 'Acousticness', 'Subjectivity']]\n",
    "y_test26 = dep_test\n",
    "\n",
    "# RandomizedSearch\n",
    "params = {'n_estimators': np.arange(10, 100, 10),\n",
    "        'loss': ('ls', 'lad', 'huber', 'quantile'),\n",
    "        'max_depth': np.arange(2, 20, 3),\n",
    "        'max_features' : ('auto', 'sqrt', 'log2'),\n",
    "        'verbose' : np.arange(0, 1)}\n",
    "\n",
    "grad6 = GradientBoostingRegressor(random_state=24)\n",
    "\n",
    "get_best_hype(grad6, params, X_train26, y_train26)"
   ]
  },
  {
   "cell_type": "code",
   "execution_count": 178,
   "metadata": {
    "scrolled": false
   },
   "outputs": [
    {
     "data": {
      "text/plain": [
       "{'MSE': 0.20501486767347846, 'Score (R^2)': 0.1292902572459732}"
      ]
     },
     "execution_count": 178,
     "metadata": {},
     "output_type": "execute_result"
    }
   ],
   "source": [
    "# chose model and use best hyperparameters (from gridsearchCV)\n",
    "grad6 = GradientBoostingRegressor(random_state=24, n_estimators=20, loss='ls', max_depth=5, max_features='log2',\n",
    "                                 verbose=0)\n",
    "\n",
    "# call function\n",
    "evaluate_model(grad6, X_train26, X_test26, y_train26, y_test26)"
   ]
  },
  {
   "cell_type": "markdown",
   "metadata": {},
   "source": [
    "######################################################################################################################"
   ]
  },
  {
   "cell_type": "markdown",
   "metadata": {},
   "source": [
    "# Random_state = 93"
   ]
  },
  {
   "cell_type": "markdown",
   "metadata": {},
   "source": [
    "## Train/test split"
   ]
  },
  {
   "cell_type": "markdown",
   "metadata": {},
   "source": [
    "Divide the data into a train and a test set (with default size: train/test split size -> 0.75/0.25)"
   ]
  },
  {
   "cell_type": "code",
   "execution_count": 208,
   "metadata": {},
   "outputs": [
    {
     "data": {
      "text/html": [
       "<div>\n",
       "<style>\n",
       "    .dataframe thead tr:only-child th {\n",
       "        text-align: right;\n",
       "    }\n",
       "\n",
       "    .dataframe thead th {\n",
       "        text-align: left;\n",
       "    }\n",
       "\n",
       "    .dataframe tbody tr th {\n",
       "        vertical-align: top;\n",
       "    }\n",
       "</style>\n",
       "<table border=\"1\" class=\"dataframe\">\n",
       "  <thead>\n",
       "    <tr style=\"text-align: right;\">\n",
       "      <th></th>\n",
       "      <th>Track Name</th>\n",
       "      <th>Artist</th>\n",
       "      <th>ID</th>\n",
       "      <th>Lyrics</th>\n",
       "      <th>Acousticness</th>\n",
       "      <th>Energy</th>\n",
       "      <th>Instrumentalness</th>\n",
       "      <th>Mode</th>\n",
       "      <th>Tempo</th>\n",
       "      <th>Valence</th>\n",
       "      <th>...</th>\n",
       "      <th>195</th>\n",
       "      <th>196</th>\n",
       "      <th>197</th>\n",
       "      <th>198</th>\n",
       "      <th>199</th>\n",
       "      <th>200</th>\n",
       "      <th>avg_Streams</th>\n",
       "      <th>avg_Position</th>\n",
       "      <th>Polarity</th>\n",
       "      <th>Subjectivity</th>\n",
       "    </tr>\n",
       "  </thead>\n",
       "  <tbody>\n",
       "    <tr>\n",
       "      <th>5886</th>\n",
       "      <td>Sorry</td>\n",
       "      <td>Nothing But Thieves</td>\n",
       "      <td>6rAXHPd18PZ6W8m9EectzH</td>\n",
       "      <td>You might kill me with desire\\nWind me tighter...</td>\n",
       "      <td>0.0024</td>\n",
       "      <td>0.776</td>\n",
       "      <td>0.000045</td>\n",
       "      <td>0.0</td>\n",
       "      <td>128.009</td>\n",
       "      <td>0.518</td>\n",
       "      <td>...</td>\n",
       "      <td>0.0</td>\n",
       "      <td>0.0</td>\n",
       "      <td>1.0</td>\n",
       "      <td>0.0</td>\n",
       "      <td>0.0</td>\n",
       "      <td>0.0</td>\n",
       "      <td>27.442539</td>\n",
       "      <td>0.235194</td>\n",
       "      <td>-0.225000</td>\n",
       "      <td>0.678788</td>\n",
       "    </tr>\n",
       "    <tr>\n",
       "      <th>7117</th>\n",
       "      <td>Rolex o. Handschelle</td>\n",
       "      <td>SpongeBOZZ</td>\n",
       "      <td>1K1S6LwZc4BNvyoHGV9rAX</td>\n",
       "      <td>Rolex oder Handschelle\\n\\nQuickie im Panamera ...</td>\n",
       "      <td>0.1660</td>\n",
       "      <td>0.835</td>\n",
       "      <td>0.000000</td>\n",
       "      <td>0.0</td>\n",
       "      <td>126.000</td>\n",
       "      <td>0.417</td>\n",
       "      <td>...</td>\n",
       "      <td>0.0</td>\n",
       "      <td>0.0</td>\n",
       "      <td>0.0</td>\n",
       "      <td>1.0</td>\n",
       "      <td>0.0</td>\n",
       "      <td>1.0</td>\n",
       "      <td>34.258908</td>\n",
       "      <td>0.141676</td>\n",
       "      <td>0.237500</td>\n",
       "      <td>0.400000</td>\n",
       "    </tr>\n",
       "    <tr>\n",
       "      <th>4504</th>\n",
       "      <td>DN Freestyle</td>\n",
       "      <td>Lil Yachty</td>\n",
       "      <td>0Dd1hBNUmz1KavOojPDxcN</td>\n",
       "      <td>ahem, now last time i talked on a song with bo...</td>\n",
       "      <td>0.0467</td>\n",
       "      <td>0.568</td>\n",
       "      <td>0.000000</td>\n",
       "      <td>1.0</td>\n",
       "      <td>110.992</td>\n",
       "      <td>0.231</td>\n",
       "      <td>...</td>\n",
       "      <td>0.0</td>\n",
       "      <td>0.0</td>\n",
       "      <td>0.0</td>\n",
       "      <td>0.0</td>\n",
       "      <td>0.0</td>\n",
       "      <td>0.0</td>\n",
       "      <td>24.972759</td>\n",
       "      <td>0.022133</td>\n",
       "      <td>0.107469</td>\n",
       "      <td>0.514235</td>\n",
       "    </tr>\n",
       "  </tbody>\n",
       "</table>\n",
       "<p>3 rows × 222 columns</p>\n",
       "</div>"
      ],
      "text/plain": [
       "                Track Name               Artist                      ID  \\\n",
       "5886                 Sorry  Nothing But Thieves  6rAXHPd18PZ6W8m9EectzH   \n",
       "7117  Rolex o. Handschelle           SpongeBOZZ  1K1S6LwZc4BNvyoHGV9rAX   \n",
       "4504          DN Freestyle           Lil Yachty  0Dd1hBNUmz1KavOojPDxcN   \n",
       "\n",
       "                                                 Lyrics  Acousticness  Energy  \\\n",
       "5886  You might kill me with desire\\nWind me tighter...        0.0024   0.776   \n",
       "7117  Rolex oder Handschelle\\n\\nQuickie im Panamera ...        0.1660   0.835   \n",
       "4504  ahem, now last time i talked on a song with bo...        0.0467   0.568   \n",
       "\n",
       "      Instrumentalness  Mode    Tempo  Valence      ...       195  196  197  \\\n",
       "5886          0.000045   0.0  128.009    0.518      ...       0.0  0.0  1.0   \n",
       "7117          0.000000   0.0  126.000    0.417      ...       0.0  0.0  0.0   \n",
       "4504          0.000000   1.0  110.992    0.231      ...       0.0  0.0  0.0   \n",
       "\n",
       "      198  199  200  avg_Streams  avg_Position  Polarity  Subjectivity  \n",
       "5886  0.0  0.0  0.0    27.442539      0.235194 -0.225000      0.678788  \n",
       "7117  1.0  0.0  1.0    34.258908      0.141676  0.237500      0.400000  \n",
       "4504  0.0  0.0  0.0    24.972759      0.022133  0.107469      0.514235  \n",
       "\n",
       "[3 rows x 222 columns]"
      ]
     },
     "execution_count": 208,
     "metadata": {},
     "output_type": "execute_result"
    }
   ],
   "source": [
    "big_dep   = big_df_song['Valence']\n",
    "big_indep = big_df_song\n",
    "\n",
    "# change the random_state to 93\n",
    "indep_train, indep_test, dep_train, dep_test = train_test_split(big_indep, big_dep, random_state=93)\n",
    "\n",
    "indep_train.head(3)"
   ]
  },
  {
   "cell_type": "markdown",
   "metadata": {},
   "source": [
    "## NLP"
   ]
  },
  {
   "cell_type": "code",
   "execution_count": 209,
   "metadata": {
    "collapsed": true
   },
   "outputs": [],
   "source": [
    "# read in csv with stop words\n",
    "stop_words_df = pd.read_csv('./stop_words.csv')\n",
    "\n",
    "# turn the df to list\n",
    "stop_words = stop_words_df['colummn'].tolist()"
   ]
  },
  {
   "cell_type": "markdown",
   "metadata": {},
   "source": [
    "### CountVectorizer (use in model 1)"
   ]
  },
  {
   "cell_type": "code",
   "execution_count": 210,
   "metadata": {},
   "outputs": [
    {
     "data": {
      "text/plain": [
       "CountVectorizer(analyzer='word', binary=False, decode_error='strict',\n",
       "        dtype=<class 'numpy.int64'>, encoding='utf-8', input='content',\n",
       "        lowercase=True, max_df=1.0, max_features=500, min_df=1,\n",
       "        ngram_range=(1, 1), preprocessor=None,\n",
       "        stop_words=['a', 'about', 'above', 'across', 'after', 'afterwards', 'again', 'against', 'all', 'almost', 'alone', 'along', 'already', 'also', 'although', 'always', 'am', 'among', 'amongst', 'amoungst', 'amount', 'an', 'and', 'another', 'any', 'anyhow', 'anyone', 'anything', 'anyway', 'anywhere', 'ar...s', 'trabajais', 'trabajan', 'podria', 'podrias', 'podriamos', 'podrian', 'podriais', 'yo', 'aquel'],\n",
       "        strip_accents=None, token_pattern='(?u)\\\\b\\\\w\\\\w+\\\\b',\n",
       "        tokenizer=None, vocabulary=None)"
      ]
     },
     "execution_count": 210,
     "metadata": {},
     "output_type": "execute_result"
    }
   ],
   "source": [
    "# instantiate the model (stop-words the list of 4 languages and max top features 500)\n",
    "cvec = CountVectorizer(stop_words = stop_words, max_features = 500)\n",
    "\n",
    "# fit the count vectorizer with training data. \n",
    "cvec.fit(indep_train['Lyrics'])"
   ]
  },
  {
   "cell_type": "markdown",
   "metadata": {},
   "source": [
    "**Train**"
   ]
  },
  {
   "cell_type": "code",
   "execution_count": 211,
   "metadata": {},
   "outputs": [
    {
     "data": {
      "text/html": [
       "<div>\n",
       "<style>\n",
       "    .dataframe thead tr:only-child th {\n",
       "        text-align: right;\n",
       "    }\n",
       "\n",
       "    .dataframe thead th {\n",
       "        text-align: left;\n",
       "    }\n",
       "\n",
       "    .dataframe tbody tr th {\n",
       "        vertical-align: top;\n",
       "    }\n",
       "</style>\n",
       "<table border=\"1\" class=\"dataframe\">\n",
       "  <thead>\n",
       "    <tr style=\"text-align: right;\">\n",
       "      <th></th>\n",
       "      <th>Track Name</th>\n",
       "      <th>Artist</th>\n",
       "      <th>ID</th>\n",
       "      <th>Lyrics</th>\n",
       "      <th>Acousticness</th>\n",
       "      <th>Energy</th>\n",
       "      <th>Instrumentalness</th>\n",
       "      <th>Mode</th>\n",
       "      <th>Tempo</th>\n",
       "      <th>Valence</th>\n",
       "      <th>...</th>\n",
       "      <th>yes</th>\n",
       "      <th>young</th>\n",
       "      <th>ze</th>\n",
       "      <th>zeg</th>\n",
       "      <th>zie</th>\n",
       "      <th>zieh</th>\n",
       "      <th>zijn</th>\n",
       "      <th>zo</th>\n",
       "      <th>étais</th>\n",
       "      <th>était</th>\n",
       "    </tr>\n",
       "  </thead>\n",
       "  <tbody>\n",
       "    <tr>\n",
       "      <th>0</th>\n",
       "      <td>Sorry</td>\n",
       "      <td>Nothing But Thieves</td>\n",
       "      <td>6rAXHPd18PZ6W8m9EectzH</td>\n",
       "      <td>You might kill me with desire\\nWind me tighter...</td>\n",
       "      <td>0.0024</td>\n",
       "      <td>0.776</td>\n",
       "      <td>0.000045</td>\n",
       "      <td>0.0</td>\n",
       "      <td>128.009</td>\n",
       "      <td>0.518</td>\n",
       "      <td>...</td>\n",
       "      <td>0</td>\n",
       "      <td>3</td>\n",
       "      <td>0</td>\n",
       "      <td>0</td>\n",
       "      <td>0</td>\n",
       "      <td>0</td>\n",
       "      <td>0</td>\n",
       "      <td>0</td>\n",
       "      <td>0</td>\n",
       "      <td>0</td>\n",
       "    </tr>\n",
       "    <tr>\n",
       "      <th>1</th>\n",
       "      <td>Rolex o. Handschelle</td>\n",
       "      <td>SpongeBOZZ</td>\n",
       "      <td>1K1S6LwZc4BNvyoHGV9rAX</td>\n",
       "      <td>Rolex oder Handschelle\\n\\nQuickie im Panamera ...</td>\n",
       "      <td>0.1660</td>\n",
       "      <td>0.835</td>\n",
       "      <td>0.000000</td>\n",
       "      <td>0.0</td>\n",
       "      <td>126.000</td>\n",
       "      <td>0.417</td>\n",
       "      <td>...</td>\n",
       "      <td>0</td>\n",
       "      <td>0</td>\n",
       "      <td>0</td>\n",
       "      <td>0</td>\n",
       "      <td>0</td>\n",
       "      <td>1</td>\n",
       "      <td>0</td>\n",
       "      <td>0</td>\n",
       "      <td>0</td>\n",
       "      <td>0</td>\n",
       "    </tr>\n",
       "    <tr>\n",
       "      <th>2</th>\n",
       "      <td>DN Freestyle</td>\n",
       "      <td>Lil Yachty</td>\n",
       "      <td>0Dd1hBNUmz1KavOojPDxcN</td>\n",
       "      <td>ahem, now last time i talked on a song with bo...</td>\n",
       "      <td>0.0467</td>\n",
       "      <td>0.568</td>\n",
       "      <td>0.000000</td>\n",
       "      <td>1.0</td>\n",
       "      <td>110.992</td>\n",
       "      <td>0.231</td>\n",
       "      <td>...</td>\n",
       "      <td>0</td>\n",
       "      <td>0</td>\n",
       "      <td>0</td>\n",
       "      <td>0</td>\n",
       "      <td>0</td>\n",
       "      <td>0</td>\n",
       "      <td>0</td>\n",
       "      <td>0</td>\n",
       "      <td>0</td>\n",
       "      <td>0</td>\n",
       "    </tr>\n",
       "  </tbody>\n",
       "</table>\n",
       "<p>3 rows × 722 columns</p>\n",
       "</div>"
      ],
      "text/plain": [
       "             Track Name               Artist                      ID  \\\n",
       "0                 Sorry  Nothing But Thieves  6rAXHPd18PZ6W8m9EectzH   \n",
       "1  Rolex o. Handschelle           SpongeBOZZ  1K1S6LwZc4BNvyoHGV9rAX   \n",
       "2          DN Freestyle           Lil Yachty  0Dd1hBNUmz1KavOojPDxcN   \n",
       "\n",
       "                                              Lyrics  Acousticness  Energy  \\\n",
       "0  You might kill me with desire\\nWind me tighter...        0.0024   0.776   \n",
       "1  Rolex oder Handschelle\\n\\nQuickie im Panamera ...        0.1660   0.835   \n",
       "2  ahem, now last time i talked on a song with bo...        0.0467   0.568   \n",
       "\n",
       "   Instrumentalness  Mode    Tempo  Valence  ...    yes  young  ze  zeg  zie  \\\n",
       "0          0.000045   0.0  128.009    0.518  ...      0      3   0    0    0   \n",
       "1          0.000000   0.0  126.000    0.417  ...      0      0   0    0    0   \n",
       "2          0.000000   1.0  110.992    0.231  ...      0      0   0    0    0   \n",
       "\n",
       "   zieh  zijn  zo  étais  était  \n",
       "0     0     0   0      0      0  \n",
       "1     1     0   0      0      0  \n",
       "2     0     0   0      0      0  \n",
       "\n",
       "[3 rows x 722 columns]"
      ]
     },
     "execution_count": 211,
     "metadata": {},
     "output_type": "execute_result"
    }
   ],
   "source": [
    "# transform X_train\n",
    "cvec_data = cvec.transform(indep_train['Lyrics'])\n",
    "\n",
    "# Turn the features into a data frame\n",
    "df  = pd.DataFrame(cvec_data.todense(),columns=cvec.get_feature_names())\n",
    "\n",
    "# Concat with big data frame (use for fitting the model)\n",
    "indep_train_cvec = pd.concat([indep_train.reset_index(drop=True), df], axis=1)\n",
    "\n",
    "indep_train_cvec.head(3)"
   ]
  },
  {
   "cell_type": "markdown",
   "metadata": {},
   "source": [
    "**Test**"
   ]
  },
  {
   "cell_type": "code",
   "execution_count": 212,
   "metadata": {},
   "outputs": [
    {
     "data": {
      "text/html": [
       "<div>\n",
       "<style>\n",
       "    .dataframe thead tr:only-child th {\n",
       "        text-align: right;\n",
       "    }\n",
       "\n",
       "    .dataframe thead th {\n",
       "        text-align: left;\n",
       "    }\n",
       "\n",
       "    .dataframe tbody tr th {\n",
       "        vertical-align: top;\n",
       "    }\n",
       "</style>\n",
       "<table border=\"1\" class=\"dataframe\">\n",
       "  <thead>\n",
       "    <tr style=\"text-align: right;\">\n",
       "      <th></th>\n",
       "      <th>Track Name</th>\n",
       "      <th>Artist</th>\n",
       "      <th>ID</th>\n",
       "      <th>Lyrics</th>\n",
       "      <th>Acousticness</th>\n",
       "      <th>Energy</th>\n",
       "      <th>Instrumentalness</th>\n",
       "      <th>Mode</th>\n",
       "      <th>Tempo</th>\n",
       "      <th>Valence</th>\n",
       "      <th>...</th>\n",
       "      <th>yes</th>\n",
       "      <th>young</th>\n",
       "      <th>ze</th>\n",
       "      <th>zeg</th>\n",
       "      <th>zie</th>\n",
       "      <th>zieh</th>\n",
       "      <th>zijn</th>\n",
       "      <th>zo</th>\n",
       "      <th>étais</th>\n",
       "      <th>était</th>\n",
       "    </tr>\n",
       "  </thead>\n",
       "  <tbody>\n",
       "    <tr>\n",
       "      <th>0</th>\n",
       "      <td>Rise Up</td>\n",
       "      <td>Imagine Dragons</td>\n",
       "      <td>7vAXN57IQ0sj049wZGIboE</td>\n",
       "      <td>i was hoping for an indication i was seeking h...</td>\n",
       "      <td>0.0117</td>\n",
       "      <td>0.719</td>\n",
       "      <td>0.000297</td>\n",
       "      <td>1.0</td>\n",
       "      <td>93.798</td>\n",
       "      <td>0.0886</td>\n",
       "      <td>...</td>\n",
       "      <td>0</td>\n",
       "      <td>0</td>\n",
       "      <td>0</td>\n",
       "      <td>0</td>\n",
       "      <td>0</td>\n",
       "      <td>0</td>\n",
       "      <td>0</td>\n",
       "      <td>0</td>\n",
       "      <td>0</td>\n",
       "      <td>0</td>\n",
       "    </tr>\n",
       "    <tr>\n",
       "      <th>1</th>\n",
       "      <td>Spielgeld</td>\n",
       "      <td>Veysel</td>\n",
       "      <td>29793cbKV1zpLzOPirvlk0</td>\n",
       "      <td>Kohle ist nicht wichtig, ohne geht's auch nich...</td>\n",
       "      <td>0.0480</td>\n",
       "      <td>0.384</td>\n",
       "      <td>0.000002</td>\n",
       "      <td>1.0</td>\n",
       "      <td>119.951</td>\n",
       "      <td>0.2110</td>\n",
       "      <td>...</td>\n",
       "      <td>0</td>\n",
       "      <td>0</td>\n",
       "      <td>0</td>\n",
       "      <td>0</td>\n",
       "      <td>0</td>\n",
       "      <td>0</td>\n",
       "      <td>0</td>\n",
       "      <td>0</td>\n",
       "      <td>0</td>\n",
       "      <td>0</td>\n",
       "    </tr>\n",
       "    <tr>\n",
       "      <th>2</th>\n",
       "      <td>Rémi</td>\n",
       "      <td>Columbine</td>\n",
       "      <td>7l4ND7ih4BMHTa2S65cD8T</td>\n",
       "      <td>Jette une pierre dans l'eau calme du lac\\nOn t...</td>\n",
       "      <td>0.1570</td>\n",
       "      <td>0.554</td>\n",
       "      <td>0.000000</td>\n",
       "      <td>1.0</td>\n",
       "      <td>139.929</td>\n",
       "      <td>0.3320</td>\n",
       "      <td>...</td>\n",
       "      <td>0</td>\n",
       "      <td>0</td>\n",
       "      <td>0</td>\n",
       "      <td>0</td>\n",
       "      <td>0</td>\n",
       "      <td>0</td>\n",
       "      <td>0</td>\n",
       "      <td>0</td>\n",
       "      <td>0</td>\n",
       "      <td>1</td>\n",
       "    </tr>\n",
       "  </tbody>\n",
       "</table>\n",
       "<p>3 rows × 722 columns</p>\n",
       "</div>"
      ],
      "text/plain": [
       "  Track Name           Artist                      ID  \\\n",
       "0    Rise Up  Imagine Dragons  7vAXN57IQ0sj049wZGIboE   \n",
       "1  Spielgeld           Veysel  29793cbKV1zpLzOPirvlk0   \n",
       "2       Rémi        Columbine  7l4ND7ih4BMHTa2S65cD8T   \n",
       "\n",
       "                                              Lyrics  Acousticness  Energy  \\\n",
       "0  i was hoping for an indication i was seeking h...        0.0117   0.719   \n",
       "1  Kohle ist nicht wichtig, ohne geht's auch nich...        0.0480   0.384   \n",
       "2  Jette une pierre dans l'eau calme du lac\\nOn t...        0.1570   0.554   \n",
       "\n",
       "   Instrumentalness  Mode    Tempo  Valence  ...    yes  young  ze  zeg  zie  \\\n",
       "0          0.000297   1.0   93.798   0.0886  ...      0      0   0    0    0   \n",
       "1          0.000002   1.0  119.951   0.2110  ...      0      0   0    0    0   \n",
       "2          0.000000   1.0  139.929   0.3320  ...      0      0   0    0    0   \n",
       "\n",
       "   zieh  zijn  zo  étais  était  \n",
       "0     0     0   0      0      0  \n",
       "1     0     0   0      0      0  \n",
       "2     0     0   0      0      1  \n",
       "\n",
       "[3 rows x 722 columns]"
      ]
     },
     "execution_count": 212,
     "metadata": {},
     "output_type": "execute_result"
    }
   ],
   "source": [
    "# transform X_test\n",
    "cvec_data2 = cvec.transform(indep_test['Lyrics'])\n",
    "\n",
    "# Turn the features into a data frame\n",
    "df2  = pd.DataFrame(cvec_data2.todense(),columns=cvec.get_feature_names())\n",
    "\n",
    "# Concat with big data frame (use for scoring the model)\n",
    "indep_test_cvec = pd.concat([indep_test.reset_index(drop=True), df2], axis=1)\n",
    "\n",
    "indep_test_cvec.head(3)"
   ]
  },
  {
   "cell_type": "markdown",
   "metadata": {},
   "source": [
    "### TF-IDF (use in model 2)"
   ]
  },
  {
   "cell_type": "code",
   "execution_count": 213,
   "metadata": {},
   "outputs": [
    {
     "data": {
      "text/plain": [
       "TfidfVectorizer(analyzer='word', binary=False, decode_error='strict',\n",
       "        dtype=<class 'numpy.int64'>, encoding='utf-8', input='content',\n",
       "        lowercase=True, max_df=1.0, max_features=500, min_df=1,\n",
       "        ngram_range=(1, 1), norm='l2', preprocessor=None, smooth_idf=True,\n",
       "        stop_words=['a', 'about', 'above', 'across', 'after', 'afterwards', 'again', 'against', 'all', 'almost', 'alone', 'along', 'already', 'also', 'although', 'always', 'am', 'among', 'amongst', 'amoungst', 'amount', 'an', 'and', 'another', 'any', 'anyhow', 'anyone', 'anything', 'anyway', 'anywhere', 'ar...s', 'trabajais', 'trabajan', 'podria', 'podrias', 'podriamos', 'podrian', 'podriais', 'yo', 'aquel'],\n",
       "        strip_accents=None, sublinear_tf=False,\n",
       "        token_pattern='(?u)\\\\b\\\\w\\\\w+\\\\b', tokenizer=None, use_idf=True,\n",
       "        vocabulary=None)"
      ]
     },
     "execution_count": 213,
     "metadata": {},
     "output_type": "execute_result"
    }
   ],
   "source": [
    "# instantiate the model (stop-words the list of 4 languages and max top features 500)\n",
    "tvec = TfidfVectorizer(stop_words = stop_words, max_features = 500) \n",
    "\n",
    "# fit the count vectorizer with training data. \n",
    "tvec.fit(indep_train['Lyrics'])"
   ]
  },
  {
   "cell_type": "markdown",
   "metadata": {},
   "source": [
    "**Train**"
   ]
  },
  {
   "cell_type": "code",
   "execution_count": 214,
   "metadata": {},
   "outputs": [
    {
     "data": {
      "text/html": [
       "<div>\n",
       "<style>\n",
       "    .dataframe thead tr:only-child th {\n",
       "        text-align: right;\n",
       "    }\n",
       "\n",
       "    .dataframe thead th {\n",
       "        text-align: left;\n",
       "    }\n",
       "\n",
       "    .dataframe tbody tr th {\n",
       "        vertical-align: top;\n",
       "    }\n",
       "</style>\n",
       "<table border=\"1\" class=\"dataframe\">\n",
       "  <thead>\n",
       "    <tr style=\"text-align: right;\">\n",
       "      <th></th>\n",
       "      <th>Track Name</th>\n",
       "      <th>Artist</th>\n",
       "      <th>ID</th>\n",
       "      <th>Lyrics</th>\n",
       "      <th>Acousticness</th>\n",
       "      <th>Energy</th>\n",
       "      <th>Instrumentalness</th>\n",
       "      <th>Mode</th>\n",
       "      <th>Tempo</th>\n",
       "      <th>Valence</th>\n",
       "      <th>...</th>\n",
       "      <th>yes</th>\n",
       "      <th>young</th>\n",
       "      <th>ze</th>\n",
       "      <th>zeg</th>\n",
       "      <th>zie</th>\n",
       "      <th>zieh</th>\n",
       "      <th>zijn</th>\n",
       "      <th>zo</th>\n",
       "      <th>étais</th>\n",
       "      <th>était</th>\n",
       "    </tr>\n",
       "  </thead>\n",
       "  <tbody>\n",
       "    <tr>\n",
       "      <th>0</th>\n",
       "      <td>Sorry</td>\n",
       "      <td>Nothing But Thieves</td>\n",
       "      <td>6rAXHPd18PZ6W8m9EectzH</td>\n",
       "      <td>You might kill me with desire\\nWind me tighter...</td>\n",
       "      <td>0.0024</td>\n",
       "      <td>0.776</td>\n",
       "      <td>0.000045</td>\n",
       "      <td>0.0</td>\n",
       "      <td>128.009</td>\n",
       "      <td>0.518</td>\n",
       "      <td>...</td>\n",
       "      <td>0.0</td>\n",
       "      <td>0.133813</td>\n",
       "      <td>0.0</td>\n",
       "      <td>0.0</td>\n",
       "      <td>0.0</td>\n",
       "      <td>0.000000</td>\n",
       "      <td>0.0</td>\n",
       "      <td>0.0</td>\n",
       "      <td>0.0</td>\n",
       "      <td>0.0</td>\n",
       "    </tr>\n",
       "    <tr>\n",
       "      <th>1</th>\n",
       "      <td>Rolex o. Handschelle</td>\n",
       "      <td>SpongeBOZZ</td>\n",
       "      <td>1K1S6LwZc4BNvyoHGV9rAX</td>\n",
       "      <td>Rolex oder Handschelle\\n\\nQuickie im Panamera ...</td>\n",
       "      <td>0.1660</td>\n",
       "      <td>0.835</td>\n",
       "      <td>0.000000</td>\n",
       "      <td>0.0</td>\n",
       "      <td>126.000</td>\n",
       "      <td>0.417</td>\n",
       "      <td>...</td>\n",
       "      <td>0.0</td>\n",
       "      <td>0.000000</td>\n",
       "      <td>0.0</td>\n",
       "      <td>0.0</td>\n",
       "      <td>0.0</td>\n",
       "      <td>0.148116</td>\n",
       "      <td>0.0</td>\n",
       "      <td>0.0</td>\n",
       "      <td>0.0</td>\n",
       "      <td>0.0</td>\n",
       "    </tr>\n",
       "    <tr>\n",
       "      <th>2</th>\n",
       "      <td>DN Freestyle</td>\n",
       "      <td>Lil Yachty</td>\n",
       "      <td>0Dd1hBNUmz1KavOojPDxcN</td>\n",
       "      <td>ahem, now last time i talked on a song with bo...</td>\n",
       "      <td>0.0467</td>\n",
       "      <td>0.568</td>\n",
       "      <td>0.000000</td>\n",
       "      <td>1.0</td>\n",
       "      <td>110.992</td>\n",
       "      <td>0.231</td>\n",
       "      <td>...</td>\n",
       "      <td>0.0</td>\n",
       "      <td>0.000000</td>\n",
       "      <td>0.0</td>\n",
       "      <td>0.0</td>\n",
       "      <td>0.0</td>\n",
       "      <td>0.000000</td>\n",
       "      <td>0.0</td>\n",
       "      <td>0.0</td>\n",
       "      <td>0.0</td>\n",
       "      <td>0.0</td>\n",
       "    </tr>\n",
       "  </tbody>\n",
       "</table>\n",
       "<p>3 rows × 722 columns</p>\n",
       "</div>"
      ],
      "text/plain": [
       "             Track Name               Artist                      ID  \\\n",
       "0                 Sorry  Nothing But Thieves  6rAXHPd18PZ6W8m9EectzH   \n",
       "1  Rolex o. Handschelle           SpongeBOZZ  1K1S6LwZc4BNvyoHGV9rAX   \n",
       "2          DN Freestyle           Lil Yachty  0Dd1hBNUmz1KavOojPDxcN   \n",
       "\n",
       "                                              Lyrics  Acousticness  Energy  \\\n",
       "0  You might kill me with desire\\nWind me tighter...        0.0024   0.776   \n",
       "1  Rolex oder Handschelle\\n\\nQuickie im Panamera ...        0.1660   0.835   \n",
       "2  ahem, now last time i talked on a song with bo...        0.0467   0.568   \n",
       "\n",
       "   Instrumentalness  Mode    Tempo  Valence  ...    yes     young   ze  zeg  \\\n",
       "0          0.000045   0.0  128.009    0.518  ...    0.0  0.133813  0.0  0.0   \n",
       "1          0.000000   0.0  126.000    0.417  ...    0.0  0.000000  0.0  0.0   \n",
       "2          0.000000   1.0  110.992    0.231  ...    0.0  0.000000  0.0  0.0   \n",
       "\n",
       "   zie      zieh  zijn   zo  étais  était  \n",
       "0  0.0  0.000000   0.0  0.0    0.0    0.0  \n",
       "1  0.0  0.148116   0.0  0.0    0.0    0.0  \n",
       "2  0.0  0.000000   0.0  0.0    0.0    0.0  \n",
       "\n",
       "[3 rows x 722 columns]"
      ]
     },
     "execution_count": 214,
     "metadata": {},
     "output_type": "execute_result"
    }
   ],
   "source": [
    "# transform X_train\n",
    "tvec_data = tvec.transform(indep_train['Lyrics'])\n",
    "\n",
    "# Turn the features into a data frame\n",
    "df3  = pd.DataFrame(tvec_data.todense(),columns=tvec.get_feature_names())\n",
    "\n",
    "# Concat with big data frame (use for fitting the model)\n",
    "indep_train_tvec= pd.concat([indep_train.reset_index(drop=True), df3], axis=1)\n",
    "\n",
    "indep_train_tvec.head(3)"
   ]
  },
  {
   "cell_type": "markdown",
   "metadata": {},
   "source": [
    "**Test**"
   ]
  },
  {
   "cell_type": "code",
   "execution_count": 215,
   "metadata": {
    "scrolled": true
   },
   "outputs": [
    {
     "data": {
      "text/html": [
       "<div>\n",
       "<style>\n",
       "    .dataframe thead tr:only-child th {\n",
       "        text-align: right;\n",
       "    }\n",
       "\n",
       "    .dataframe thead th {\n",
       "        text-align: left;\n",
       "    }\n",
       "\n",
       "    .dataframe tbody tr th {\n",
       "        vertical-align: top;\n",
       "    }\n",
       "</style>\n",
       "<table border=\"1\" class=\"dataframe\">\n",
       "  <thead>\n",
       "    <tr style=\"text-align: right;\">\n",
       "      <th></th>\n",
       "      <th>Track Name</th>\n",
       "      <th>Artist</th>\n",
       "      <th>ID</th>\n",
       "      <th>Lyrics</th>\n",
       "      <th>Acousticness</th>\n",
       "      <th>Energy</th>\n",
       "      <th>Instrumentalness</th>\n",
       "      <th>Mode</th>\n",
       "      <th>Tempo</th>\n",
       "      <th>Valence</th>\n",
       "      <th>...</th>\n",
       "      <th>yes</th>\n",
       "      <th>young</th>\n",
       "      <th>ze</th>\n",
       "      <th>zeg</th>\n",
       "      <th>zie</th>\n",
       "      <th>zieh</th>\n",
       "      <th>zijn</th>\n",
       "      <th>zo</th>\n",
       "      <th>étais</th>\n",
       "      <th>était</th>\n",
       "    </tr>\n",
       "  </thead>\n",
       "  <tbody>\n",
       "    <tr>\n",
       "      <th>0</th>\n",
       "      <td>Rise Up</td>\n",
       "      <td>Imagine Dragons</td>\n",
       "      <td>7vAXN57IQ0sj049wZGIboE</td>\n",
       "      <td>i was hoping for an indication i was seeking h...</td>\n",
       "      <td>0.0117</td>\n",
       "      <td>0.719</td>\n",
       "      <td>0.000297</td>\n",
       "      <td>1.0</td>\n",
       "      <td>93.798</td>\n",
       "      <td>0.0886</td>\n",
       "      <td>...</td>\n",
       "      <td>0.0</td>\n",
       "      <td>0.0</td>\n",
       "      <td>0.0</td>\n",
       "      <td>0.0</td>\n",
       "      <td>0.0</td>\n",
       "      <td>0.0</td>\n",
       "      <td>0.0</td>\n",
       "      <td>0.0</td>\n",
       "      <td>0.0</td>\n",
       "      <td>0.000000</td>\n",
       "    </tr>\n",
       "    <tr>\n",
       "      <th>1</th>\n",
       "      <td>Spielgeld</td>\n",
       "      <td>Veysel</td>\n",
       "      <td>29793cbKV1zpLzOPirvlk0</td>\n",
       "      <td>Kohle ist nicht wichtig, ohne geht's auch nich...</td>\n",
       "      <td>0.0480</td>\n",
       "      <td>0.384</td>\n",
       "      <td>0.000002</td>\n",
       "      <td>1.0</td>\n",
       "      <td>119.951</td>\n",
       "      <td>0.2110</td>\n",
       "      <td>...</td>\n",
       "      <td>0.0</td>\n",
       "      <td>0.0</td>\n",
       "      <td>0.0</td>\n",
       "      <td>0.0</td>\n",
       "      <td>0.0</td>\n",
       "      <td>0.0</td>\n",
       "      <td>0.0</td>\n",
       "      <td>0.0</td>\n",
       "      <td>0.0</td>\n",
       "      <td>0.000000</td>\n",
       "    </tr>\n",
       "    <tr>\n",
       "      <th>2</th>\n",
       "      <td>Rémi</td>\n",
       "      <td>Columbine</td>\n",
       "      <td>7l4ND7ih4BMHTa2S65cD8T</td>\n",
       "      <td>Jette une pierre dans l'eau calme du lac\\nOn t...</td>\n",
       "      <td>0.1570</td>\n",
       "      <td>0.554</td>\n",
       "      <td>0.000000</td>\n",
       "      <td>1.0</td>\n",
       "      <td>139.929</td>\n",
       "      <td>0.3320</td>\n",
       "      <td>...</td>\n",
       "      <td>0.0</td>\n",
       "      <td>0.0</td>\n",
       "      <td>0.0</td>\n",
       "      <td>0.0</td>\n",
       "      <td>0.0</td>\n",
       "      <td>0.0</td>\n",
       "      <td>0.0</td>\n",
       "      <td>0.0</td>\n",
       "      <td>0.0</td>\n",
       "      <td>0.034535</td>\n",
       "    </tr>\n",
       "  </tbody>\n",
       "</table>\n",
       "<p>3 rows × 722 columns</p>\n",
       "</div>"
      ],
      "text/plain": [
       "  Track Name           Artist                      ID  \\\n",
       "0    Rise Up  Imagine Dragons  7vAXN57IQ0sj049wZGIboE   \n",
       "1  Spielgeld           Veysel  29793cbKV1zpLzOPirvlk0   \n",
       "2       Rémi        Columbine  7l4ND7ih4BMHTa2S65cD8T   \n",
       "\n",
       "                                              Lyrics  Acousticness  Energy  \\\n",
       "0  i was hoping for an indication i was seeking h...        0.0117   0.719   \n",
       "1  Kohle ist nicht wichtig, ohne geht's auch nich...        0.0480   0.384   \n",
       "2  Jette une pierre dans l'eau calme du lac\\nOn t...        0.1570   0.554   \n",
       "\n",
       "   Instrumentalness  Mode    Tempo  Valence    ...     yes  young   ze  zeg  \\\n",
       "0          0.000297   1.0   93.798   0.0886    ...     0.0    0.0  0.0  0.0   \n",
       "1          0.000002   1.0  119.951   0.2110    ...     0.0    0.0  0.0  0.0   \n",
       "2          0.000000   1.0  139.929   0.3320    ...     0.0    0.0  0.0  0.0   \n",
       "\n",
       "   zie  zieh  zijn   zo  étais     était  \n",
       "0  0.0   0.0   0.0  0.0    0.0  0.000000  \n",
       "1  0.0   0.0   0.0  0.0    0.0  0.000000  \n",
       "2  0.0   0.0   0.0  0.0    0.0  0.034535  \n",
       "\n",
       "[3 rows x 722 columns]"
      ]
     },
     "execution_count": 215,
     "metadata": {},
     "output_type": "execute_result"
    }
   ],
   "source": [
    "# transform X_test\n",
    "tvec_data4 = tvec.transform(indep_test['Lyrics'])\n",
    "\n",
    "# Turn the features into a data frame\n",
    "df4  = pd.DataFrame(tvec_data4.todense(),columns=tvec.get_feature_names())\n",
    "\n",
    "# Concat with big data frame (use for scoring the model)\n",
    "indep_test_tvec = pd.concat([indep_test.reset_index(drop=True), df4], axis=1)\n",
    "\n",
    "indep_test_tvec.head(3)"
   ]
  },
  {
   "cell_type": "markdown",
   "metadata": {},
   "source": [
    "## Models (LinReg, Lasso, RF, Ada/Gradient Boost) - CountVec"
   ]
  },
  {
   "cell_type": "markdown",
   "metadata": {},
   "source": [
    "### Linear Regression"
   ]
  },
  {
   "cell_type": "code",
   "execution_count": 219,
   "metadata": {
    "collapsed": true
   },
   "outputs": [],
   "source": [
    "def evaluate_model(model, X_train, X_test, y_train, y_test):\n",
    "    # standardize the predictors\n",
    "    ss = StandardScaler()\n",
    "    ss.fit(X_train)\n",
    "    X_train_s = ss.transform(X_train)\n",
    "    X_test_s = ss.transform(X_test)\n",
    "    \n",
    "    # fit\n",
    "    model.fit(X_train_s, y_train)\n",
    "    \n",
    "    # Evaluate: predict and score\n",
    "    y_pred = model.predict(X_test_s)\n",
    "    y_true = y_test\n",
    "    \n",
    "    mean_square_error = np.sqrt(sklearn.metrics.mean_squared_error(y_true, y_pred))\n",
    "    \n",
    "    # Evaluate: score\n",
    "    score = model.score(X_test_s, y_test)\n",
    "    \n",
    "    return {'Score (R^2)': score.mean(), 'MSE': mean_square_error}"
   ]
  },
  {
   "cell_type": "markdown",
   "metadata": {},
   "source": [
    "#### LinReg #1 - CountVec + all coefs"
   ]
  },
  {
   "cell_type": "code",
   "execution_count": 220,
   "metadata": {},
   "outputs": [
    {
     "data": {
      "text/plain": [
       "{'MSE': 0.220276095134093, 'Score (R^2)': 0.027289480032708258}"
      ]
     },
     "execution_count": 220,
     "metadata": {},
     "output_type": "execute_result"
    }
   ],
   "source": [
    "# define X and y\n",
    "X_train = indep_train_cvec.drop(['Track Name', 'Artist', 'ID', 'Lyrics', 'Valence'], axis=1)\n",
    "y_train = dep_train\n",
    "X_test = indep_test_cvec.drop(['Track Name', 'Artist', 'ID', 'Lyrics', 'Valence'], axis=1)\n",
    "y_test = dep_test\n",
    "\n",
    "# chose model \n",
    "linreg = LinearRegression()\n",
    "\n",
    "# call function\n",
    "evaluate_model(linreg, X_train, X_test, y_train, y_test)"
   ]
  },
  {
   "cell_type": "markdown",
   "metadata": {},
   "source": [
    "**Importance of the coefficients**"
   ]
  },
  {
   "cell_type": "code",
   "execution_count": 221,
   "metadata": {},
   "outputs": [
    {
     "data": {
      "text/plain": [
       "au              6.525859e+10\n",
       "ca              6.153412e+10\n",
       "gb              6.088231e+10\n",
       "it              5.954009e+10\n",
       "us              5.933158e+10\n",
       "fr              5.902437e+10\n",
       "de              5.276843e+10\n",
       "nl              5.248836e+10\n",
       "1               1.732677e+10\n",
       "avg_Position    9.403766e+09\n",
       "dtype: float64"
      ]
     },
     "execution_count": 221,
     "metadata": {},
     "output_type": "execute_result"
    }
   ],
   "source": [
    "# Look at the feature importance with coef_\n",
    "pd.Series(dict(zip(X_train.columns,linreg.coef_))).abs().sort_values(ascending=False).head(10)"
   ]
  },
  {
   "cell_type": "markdown",
   "metadata": {},
   "source": [
    "#### LinReg #2 - CountrVec + top 10 coefs"
   ]
  },
  {
   "cell_type": "code",
   "execution_count": 222,
   "metadata": {},
   "outputs": [
    {
     "data": {
      "text/plain": [
       "{'MSE': 0.2221854055578116, 'Score (R^2)': 0.010353867606340716}"
      ]
     },
     "execution_count": 222,
     "metadata": {},
     "output_type": "execute_result"
    }
   ],
   "source": [
    "# define X and y\n",
    "X_train2 = indep_train_cvec[['au', 'ca', 'gb', 'it', 'us', 'fr', 'de', 'nl', 1, 'avg_Position']]\n",
    "y_train2 = dep_train\n",
    "X_test2 = indep_test_cvec[['au', 'ca', 'gb', 'it', 'us', 'fr', 'de', 'nl', 1, 'avg_Position']]\n",
    "y_test2 = dep_test\n",
    "\n",
    "# chose model \n",
    "linreg2 = LinearRegression()\n",
    "\n",
    "# call function\n",
    "evaluate_model(linreg2, X_train2, X_test2, y_train2, y_test2)"
   ]
  },
  {
   "cell_type": "markdown",
   "metadata": {},
   "source": [
    "#### LinReg #3 - CountrVec + top 3 coefs"
   ]
  },
  {
   "cell_type": "code",
   "execution_count": 223,
   "metadata": {},
   "outputs": [
    {
     "data": {
      "text/plain": [
       "{'MSE': 0.22268026576171684, 'Score (R^2)': 0.005940599633448396}"
      ]
     },
     "execution_count": 223,
     "metadata": {},
     "output_type": "execute_result"
    }
   ],
   "source": [
    "# define X and y\n",
    "X_train3 = indep_train_cvec[['au', 'ca', 'gb']]\n",
    "y_train3 = dep_train\n",
    "X_test3 = indep_test_cvec[['au', 'ca', 'gb']]\n",
    "y_test3 = dep_test\n",
    "\n",
    "# chose model \n",
    "linreg3 = LinearRegression()\n",
    "\n",
    "# call function\n",
    "evaluate_model(linreg3, X_train3, X_test3, y_train3, y_test3)"
   ]
  },
  {
   "cell_type": "markdown",
   "metadata": {},
   "source": [
    "### Lasso Regressor"
   ]
  },
  {
   "cell_type": "code",
   "execution_count": 224,
   "metadata": {
    "collapsed": true
   },
   "outputs": [],
   "source": [
    "def get_best_hype(model, params, X_train, y_train):  \n",
    "    # standardize\n",
    "    ss = StandardScaler()\n",
    "    ss.fit(X_train)\n",
    "    X_train_s = ss.transform(X_train)\n",
    "    \n",
    "    # Best Hyperparameters\n",
    "    gs = GridSearchCV(model, grid) # cv default = 3\n",
    "    \n",
    "    # fit\n",
    "    gs.fit(X_train_s, y_train)\n",
    "     \n",
    "    return {'best_score': gs.best_score_,'best_params': gs.best_params_} \n",
    "\n",
    "def evaluate_model(model, X_train, X_test, y_train, y_test):\n",
    "    # standardize the predictors\n",
    "    ss = StandardScaler()\n",
    "    ss.fit(X_train)\n",
    "    X_train_s = ss.transform(X_train)\n",
    "    X_test_s = ss.transform(X_test)\n",
    "    \n",
    "    # fit\n",
    "    model.fit(X_train_s, y_train)\n",
    "    \n",
    "    # Evaluate: predict\n",
    "    \n",
    "    y_pred = model.predict(X_test_s)\n",
    "    y_true = y_test\n",
    "    \n",
    "    mean_square_error = np.sqrt(sklearn.metrics.mean_squared_error(y_true, y_pred))\n",
    "    \n",
    "    # Evaluate: score\n",
    "    score = model.score(X_test_s, y_test)\n",
    "    \n",
    "    return {'Score (R^2)': score.mean(), 'MSE': mean_square_error}"
   ]
  },
  {
   "cell_type": "markdown",
   "metadata": {},
   "source": [
    "**Lasso #1 - CountVec + all coefs**"
   ]
  },
  {
   "cell_type": "code",
   "execution_count": 225,
   "metadata": {},
   "outputs": [
    {
     "data": {
      "text/plain": [
       "{'best_params': {'alpha': 0.005336699231206312, 'selection': 'cyclic'},\n",
       " 'best_score': 0.16426774953061044}"
      ]
     },
     "execution_count": 225,
     "metadata": {},
     "output_type": "execute_result"
    }
   ],
   "source": [
    "# Declare indep and dep\n",
    "X_train4 = indep_train_cvec.drop(['Track Name', 'Artist', 'ID', 'Lyrics', 'Valence'], axis=1)\n",
    "y_train4 = dep_train\n",
    "X_test4 = indep_test_cvec.drop(['Track Name', 'Artist', 'ID','Lyrics', 'Valence'], axis=1)\n",
    "y_test4 = dep_test\n",
    "\n",
    "# GridSearchCV\n",
    "grid = {'alpha': np.logspace(-3, 3, 100),\n",
    "        'selection' : ('cyclic', 'random')}\n",
    "\n",
    "lassoreg = Lasso(random_state=24, fit_intercept=True, normalize=False, max_iter=1000)\n",
    "\n",
    "get_best_hype(lassoreg, grid, X_train4, y_train4)"
   ]
  },
  {
   "cell_type": "code",
   "execution_count": 226,
   "metadata": {},
   "outputs": [
    {
     "data": {
      "text/plain": [
       "{'MSE': 0.20090177605115536, 'Score (R^2)': 0.19087349675047416}"
      ]
     },
     "execution_count": 226,
     "metadata": {},
     "output_type": "execute_result"
    }
   ],
   "source": [
    "# chose model and use best hyperparameters (from gridsearchCV)\n",
    "lassoreg = Lasso(random_state=24, fit_intercept=True, normalize=False, max_iter=1000, alpha=0.0053, selection='cyclic')\n",
    "\n",
    "# call function\n",
    "evaluate_model(lassoreg, X_train4, X_test4, y_train4, y_test4)"
   ]
  },
  {
   "cell_type": "code",
   "execution_count": 227,
   "metadata": {},
   "outputs": [
    {
     "data": {
      "text/plain": [
       "Energy          0.080491\n",
       "Acousticness    0.016308\n",
       "baby            0.013505\n",
       "little          0.007684\n",
       "shit            0.007538\n",
       "geld            0.005922\n",
       "viel            0.005912\n",
       "ogni            0.005899\n",
       "girl            0.005720\n",
       "pa              0.005230\n",
       "stop            0.004659\n",
       "bang            0.004571\n",
       "Mode            0.004057\n",
       "niggas          0.004033\n",
       "thing           0.004024\n",
       "dtype: float64"
      ]
     },
     "execution_count": 227,
     "metadata": {},
     "output_type": "execute_result"
    }
   ],
   "source": [
    "# Look at the feature importance with coef_\n",
    "pd.Series(dict(zip(X_train4.columns,lassoreg.coef_))).abs().sort_values(ascending=False).head(15)"
   ]
  },
  {
   "cell_type": "markdown",
   "metadata": {},
   "source": [
    "#### Lasso #2 - CountVec + top 10 coefs"
   ]
  },
  {
   "cell_type": "code",
   "execution_count": 228,
   "metadata": {},
   "outputs": [
    {
     "data": {
      "text/plain": [
       "{'best_params': {'alpha': 0.0011497569953977356, 'selection': 'cyclic'},\n",
       " 'best_score': 0.16953350989507654}"
      ]
     },
     "execution_count": 228,
     "metadata": {},
     "output_type": "execute_result"
    }
   ],
   "source": [
    "# Declare indep and dep\n",
    "X_train5 = indep_train_cvec[['Energy', 'Acousticness', 'baby', 'little', 'shit', 'geld', 'viel', 'ogni', 'girl', 'pa']]\n",
    "y_train5 = dep_train\n",
    "X_test5 = indep_test_cvec[['Energy', 'Acousticness', 'baby', 'little', 'shit', 'geld', 'viel', 'ogni', 'girl', 'pa']]\n",
    "y_test5= dep_test\n",
    "\n",
    "# GridSearchCV\n",
    "grid = {'alpha': np.logspace(-3, 3, 100),\n",
    "        'selection' : ('cyclic', 'random')}\n",
    "\n",
    "lassoreg2 = Lasso(random_state=24, fit_intercept=True, normalize=False, max_iter=1000)\n",
    "\n",
    "get_best_hype(lassoreg2, grid, X_train5, y_train5)"
   ]
  },
  {
   "cell_type": "code",
   "execution_count": 229,
   "metadata": {},
   "outputs": [
    {
     "data": {
      "text/plain": [
       "{'MSE': 0.2026892978063315, 'Score (R^2)': 0.1764110503213686}"
      ]
     },
     "execution_count": 229,
     "metadata": {},
     "output_type": "execute_result"
    }
   ],
   "source": [
    "# chose model and use best hyperparameters (from gridsearchCV)\n",
    "lassoreg2 = Lasso(random_state=24, fit_intercept=True, normalize=False, max_iter=1000, alpha=0.0011, \n",
    "                  selection='cyclic')\n",
    "\n",
    "# call function\n",
    "evaluate_model(lassoreg2, X_train5, X_test5, y_train5, y_test5)"
   ]
  },
  {
   "cell_type": "markdown",
   "metadata": {},
   "source": [
    "#### Lasso #3 - CountVec + top 3 coefs"
   ]
  },
  {
   "cell_type": "code",
   "execution_count": 230,
   "metadata": {},
   "outputs": [
    {
     "data": {
      "text/plain": [
       "{'best_params': {'alpha': 0.001, 'selection': 'cyclic'},\n",
       " 'best_score': 0.14920287073331356}"
      ]
     },
     "execution_count": 230,
     "metadata": {},
     "output_type": "execute_result"
    }
   ],
   "source": [
    "# Declare indep and dep\n",
    "X_train6 = indep_train_cvec[['Energy', 'Acousticness', 'baby']]\n",
    "y_train6 = dep_train\n",
    "X_test6 = indep_test_cvec[['Energy', 'Acousticness', 'baby']]\n",
    "y_test6 = dep_test\n",
    "\n",
    "# GridSearchCV\n",
    "grid = {'alpha': np.logspace(-3, 3, 100),\n",
    "        'selection' : ('cyclic', 'random')}\n",
    "\n",
    "lassoreg3 = Lasso(random_state=24, fit_intercept=True, normalize=False, max_iter=1000)\n",
    "\n",
    "get_best_hype(lassoreg3, grid, X_train6, y_train6)"
   ]
  },
  {
   "cell_type": "code",
   "execution_count": 231,
   "metadata": {},
   "outputs": [
    {
     "data": {
      "text/plain": [
       "{'MSE': 0.2027939624265087, 'Score (R^2)': 0.17556026163488325}"
      ]
     },
     "execution_count": 231,
     "metadata": {},
     "output_type": "execute_result"
    }
   ],
   "source": [
    "# chose model and use best hyperparameters (from gridsearchCV)\n",
    "lassoreg3 = Lasso(random_state=24, fit_intercept=True, normalize=False, max_iter=1000, alpha=0.001, \n",
    "                  selection='cyclic')\n",
    "\n",
    "# call function\n",
    "evaluate_model(lassoreg3, X_train6, X_test6, y_train6, y_test6)"
   ]
  },
  {
   "cell_type": "markdown",
   "metadata": {},
   "source": [
    "### Random Forest Regressor"
   ]
  },
  {
   "cell_type": "markdown",
   "metadata": {},
   "source": [
    "You do not have to scale a Random Forest."
   ]
  },
  {
   "cell_type": "code",
   "execution_count": 232,
   "metadata": {
    "collapsed": true
   },
   "outputs": [],
   "source": [
    "def get_best_hype(model, params, X_train, y_train):  \n",
    "    # Best Hyperparameters\n",
    "    rs = RandomizedSearchCV(model, params, n_iter=40)\n",
    "    \n",
    "    # fit\n",
    "    rs.fit(X_train, y_train)\n",
    "     \n",
    "    return {'best_score': rs.best_score_,'best_params': rs.best_params_} \n",
    "\n",
    "def evaluate_model(model, X_train, X_test, y_train, y_test):\n",
    "    # fit\n",
    "    model.fit(X_train, y_train)\n",
    "    \n",
    "    # Evaluate: predict\n",
    "    y_pred = model.predict(X_test)\n",
    "    y_true = y_test\n",
    "    \n",
    "    mean_square_error = np.sqrt(sklearn.metrics.mean_squared_error(y_true, y_pred))\n",
    "    \n",
    "    # Evaluate: score\n",
    "    score = model.score(X_test, y_test)\n",
    "    \n",
    "    return {'Score (R^2)': score.mean(), 'MSE': mean_square_error}"
   ]
  },
  {
   "cell_type": "markdown",
   "metadata": {},
   "source": [
    "#### Random Forest #1 - CountVec + all coefs"
   ]
  },
  {
   "cell_type": "code",
   "execution_count": 234,
   "metadata": {},
   "outputs": [
    {
     "data": {
      "text/plain": [
       "{'best_params': {'bootstrap': True,\n",
       "  'max_depth': 14,\n",
       "  'max_features': 'auto',\n",
       "  'n_estimators': 80,\n",
       "  'verbose': 0},\n",
       " 'best_score': 0.1969331973975571}"
      ]
     },
     "execution_count": 234,
     "metadata": {},
     "output_type": "execute_result"
    }
   ],
   "source": [
    "# Declare indep and dep\n",
    "X_train7 = indep_train_cvec.drop(['Track Name', 'Artist', 'ID', 'Lyrics', 'Valence'], axis=1)\n",
    "y_train7 = dep_train\n",
    "X_test7 = indep_test_cvec.drop(['Track Name', 'Artist', 'ID', 'Lyrics', 'Valence'], axis=1)\n",
    "y_test7 = dep_test\n",
    "\n",
    "# RandomizedSearch\n",
    "params = {'n_estimators': np.arange(10, 100, 10),\n",
    "        'max_depth': np.arange(2, 20, 3),\n",
    "        'max_features' : ('auto', 'sqrt', 'log2'),\n",
    "        'bootstrap': (True, False),\n",
    "        'verbose' : np.arange(0, 1)}\n",
    "\n",
    "rfr = RandomForestRegressor(random_state=24)\n",
    "\n",
    "get_best_hype(rfr, params, X_train7, y_train7)"
   ]
  },
  {
   "cell_type": "code",
   "execution_count": 235,
   "metadata": {},
   "outputs": [
    {
     "data": {
      "text/plain": [
       "{'MSE': 0.19474609938127704, 'Score (R^2)': 0.23969751428034336}"
      ]
     },
     "execution_count": 235,
     "metadata": {},
     "output_type": "execute_result"
    }
   ],
   "source": [
    "# chose model and use best hyperparameters (from gridsearchCV)\n",
    "rfr = RandomForestRegressor(max_depth=14, max_features='auto', n_estimators=80, verbose=0, bootstrap=True, \n",
    "                            random_state=24)\n",
    "\n",
    "# call function\n",
    "evaluate_model(rfr, X_train7, X_test7, y_train7, y_test7)"
   ]
  },
  {
   "cell_type": "markdown",
   "metadata": {},
   "source": [
    "**Feature importance**"
   ]
  },
  {
   "cell_type": "code",
   "execution_count": 236,
   "metadata": {},
   "outputs": [
    {
     "data": {
      "text/plain": [
       "Energy              0.219803\n",
       "Acousticness        0.045385\n",
       "Tempo               0.021144\n",
       "Instrumentalness    0.020057\n",
       "Subjectivity        0.017452\n",
       "Polarity            0.016793\n",
       "baby                0.016243\n",
       "avg_Streams         0.012617\n",
       "avg_Position        0.012014\n",
       "oh                  0.008499\n",
       "girl                0.006936\n",
       "je                  0.006400\n",
       "nie                 0.005955\n",
       "come                0.005144\n",
       "ah                  0.004101\n",
       "dtype: float64"
      ]
     },
     "execution_count": 236,
     "metadata": {},
     "output_type": "execute_result"
    }
   ],
   "source": [
    "pd.Series(dict(zip(X_train7.columns,rfr.feature_importances_))).abs().sort_values(ascending=False).head(15)"
   ]
  },
  {
   "cell_type": "markdown",
   "metadata": {},
   "source": [
    "#### Random Forest #2 - CountVec + top 10 features"
   ]
  },
  {
   "cell_type": "code",
   "execution_count": 237,
   "metadata": {},
   "outputs": [
    {
     "data": {
      "text/plain": [
       "{'best_params': {'bootstrap': True,\n",
       "  'max_depth': 17,\n",
       "  'max_features': 'sqrt',\n",
       "  'n_estimators': 90,\n",
       "  'verbose': 0},\n",
       " 'best_score': 0.15597608951747047}"
      ]
     },
     "execution_count": 237,
     "metadata": {},
     "output_type": "execute_result"
    }
   ],
   "source": [
    "# define X and y\n",
    "X_train8 = indep_train_cvec[['Energy', 'Acousticness', 'Tempo', 'Instrumentalness', 'Subjectivity', 'Polarity',\n",
    "                             'baby', 'avg_Streams', 'avg_Position', 'oh']]\n",
    "y_train8 = dep_train\n",
    "X_test8 = indep_test_cvec[['Energy', 'Acousticness', 'Tempo', 'Instrumentalness', 'Subjectivity', 'Polarity',\n",
    "                             'baby', 'avg_Streams', 'avg_Position', 'oh']]\n",
    "y_test8 = dep_test\n",
    "\n",
    "# RandomizedSearch\n",
    "params = {'n_estimators': np.arange(10, 100, 10),\n",
    "        'max_depth': np.arange(2, 20, 3),\n",
    "        'max_features' : ('auto', 'sqrt', 'log2'),\n",
    "        'bootstrap': (True, False),\n",
    "        'verbose' : np.arange(0, 1)}\n",
    "\n",
    "rfr2 = RandomForestRegressor(random_state=24)\n",
    "\n",
    "get_best_hype(rfr2, params, X_train8, y_train8)"
   ]
  },
  {
   "cell_type": "code",
   "execution_count": 238,
   "metadata": {},
   "outputs": [
    {
     "data": {
      "text/plain": [
       "{'MSE': 0.196349308075453, 'Score (R^2)': 0.22712790870077038}"
      ]
     },
     "execution_count": 238,
     "metadata": {},
     "output_type": "execute_result"
    }
   ],
   "source": [
    "# chose model and use best hyperparameters (from gridsearchCV)\n",
    "rfr2 = RandomForestRegressor(max_depth=17, max_features='sqrt', n_estimators=90, verbose=0, bootstrap=True, \n",
    "                               random_state=24)\n",
    "\n",
    "# call function\n",
    "evaluate_model(rfr2, X_train8, X_test8, y_train8, y_test8)"
   ]
  },
  {
   "cell_type": "markdown",
   "metadata": {},
   "source": [
    "#### Random Forest #3 - CountVec + top 3 features"
   ]
  },
  {
   "cell_type": "code",
   "execution_count": 239,
   "metadata": {},
   "outputs": [
    {
     "data": {
      "text/plain": [
       "{'best_params': {'bootstrap': True,\n",
       "  'max_depth': 8,\n",
       "  'max_features': 'sqrt',\n",
       "  'n_estimators': 30,\n",
       "  'verbose': 0},\n",
       " 'best_score': 0.1406729199068269}"
      ]
     },
     "execution_count": 239,
     "metadata": {},
     "output_type": "execute_result"
    }
   ],
   "source": [
    "# define X and y\n",
    "X_train9 = indep_train_cvec[['Energy', 'Acousticness', 'Tempo']]\n",
    "y_train9 = dep_train\n",
    "X_test9 = indep_test_cvec[['Energy', 'Acousticness', 'Tempo']]\n",
    "y_test9 = dep_test\n",
    "\n",
    "# RandomizedSearch\n",
    "params = {'n_estimators': np.arange(10, 100, 10),\n",
    "        'max_depth': np.arange(2, 20, 3),\n",
    "        'max_features' : ('auto', 'sqrt', 'log2'),\n",
    "        'bootstrap': (True, False),\n",
    "        'verbose' : np.arange(0, 1)}\n",
    "\n",
    "rfr3 = RandomForestRegressor(random_state=24)\n",
    "\n",
    "get_best_hype(rfr3, params, X_train9, y_train9)"
   ]
  },
  {
   "cell_type": "code",
   "execution_count": 240,
   "metadata": {},
   "outputs": [
    {
     "data": {
      "text/plain": [
       "{'MSE': 0.2041912262577943, 'Score (R^2)': 0.16416023420397396}"
      ]
     },
     "execution_count": 240,
     "metadata": {},
     "output_type": "execute_result"
    }
   ],
   "source": [
    "# chose model and use best hyperparameters (from gridsearchCV)\n",
    "rfr3 = RandomForestRegressor(max_depth=8, max_features='sqrt', n_estimators=30, verbose=0, bootstrap=True, \n",
    "                               random_state=24)\n",
    "\n",
    "# call function\n",
    "evaluate_model(rfr3, X_train9, X_test9, y_train9, y_test9)"
   ]
  },
  {
   "cell_type": "markdown",
   "metadata": {},
   "source": [
    "### Ada and Gradient Boost"
   ]
  },
  {
   "cell_type": "code",
   "execution_count": 241,
   "metadata": {
    "collapsed": true
   },
   "outputs": [],
   "source": [
    "def get_best_hype(model, params, X_train, y_train):  \n",
    "    # standardize\n",
    "    ss = StandardScaler()\n",
    "    ss.fit(X_train)\n",
    "    X_train_s = ss.transform(X_train)\n",
    "     \n",
    "    # Best Hyperparameters\n",
    "    rs = RandomizedSearchCV(model, params, n_iter=27)\n",
    "    \n",
    "    # fit\n",
    "    rs.fit(X_train_s, y_train)\n",
    "     \n",
    "    return {'best_score': rs.best_score_,'best_params': rs.best_params_} \n",
    "\n",
    "def evaluate_model(model, X_train, X_test, y_train, y_test):\n",
    "    # standardize the predictors\n",
    "    ss = StandardScaler()\n",
    "    ss.fit(X_train)\n",
    "    X_train_s = ss.transform(X_train)\n",
    "    X_test_s = ss.transform(X_test)\n",
    "    \n",
    "    # fit\n",
    "    model.fit(X_train_s, y_train)\n",
    "    \n",
    "    # Evaluate: predict\n",
    "    y_pred = model.predict(X_test_s)\n",
    "    y_true = y_test\n",
    "    \n",
    "    mean_square_error = np.sqrt(sklearn.metrics.mean_squared_error(y_true, y_pred))\n",
    "    \n",
    "    # Evaluate: score\n",
    "    score = model.score(X_test_s, y_test)\n",
    "    \n",
    "    return {'Score (R^2)': score.mean(), 'MSE': mean_square_error}"
   ]
  },
  {
   "cell_type": "markdown",
   "metadata": {},
   "source": [
    "**Ada #1 - CountVec + all coefs**"
   ]
  },
  {
   "cell_type": "code",
   "execution_count": 242,
   "metadata": {},
   "outputs": [
    {
     "data": {
      "text/plain": [
       "{'best_params': {'loss': 'exponential', 'n_estimators': 10},\n",
       " 'best_score': 0.12978459628066605}"
      ]
     },
     "execution_count": 242,
     "metadata": {},
     "output_type": "execute_result"
    }
   ],
   "source": [
    "# Declare indep and dep\n",
    "X_train10 = indep_train_cvec.drop(['Track Name', 'Artist', 'ID', 'Lyrics', 'Valence'], axis=1)\n",
    "y_train10 = dep_train\n",
    "X_test10 = indep_test_cvec.drop(['Track Name', 'Artist', 'ID', 'Lyrics', 'Valence'], axis=1)\n",
    "y_test10 = dep_test\n",
    "\n",
    "# RandomizedSearch\n",
    "params = {'n_estimators': np.arange(10, 100, 10),\n",
    "        'loss': ('linear', 'square', 'exponential')}\n",
    "\n",
    "ada = AdaBoostRegressor(random_state=24) \n",
    "# base_estimator = DecisionTreeRegressor() (default)\n",
    "# learning_rate: (default=1.0)\n",
    "\n",
    "get_best_hype(ada, params, X_train10, y_train10)"
   ]
  },
  {
   "cell_type": "code",
   "execution_count": 243,
   "metadata": {},
   "outputs": [
    {
     "data": {
      "text/plain": [
       "{'MSE': 0.2067164665366287, 'Score (R^2)': 0.14335867665868918}"
      ]
     },
     "execution_count": 243,
     "metadata": {},
     "output_type": "execute_result"
    }
   ],
   "source": [
    "# chose model and use best hyperparameters (from gridsearchCV)\n",
    "ada = AdaBoostRegressor(n_estimators=10, loss='exponential', random_state=24)\n",
    "# I'm going with the default base_estimator, bc to choose a rfr is taking too long time\n",
    "\n",
    "# call function\n",
    "evaluate_model(ada, X_train10, X_test10, y_train10, y_test10)"
   ]
  },
  {
   "cell_type": "markdown",
   "metadata": {},
   "source": [
    "**Gradient #1 - CountVec + all coefs**"
   ]
  },
  {
   "cell_type": "code",
   "execution_count": 244,
   "metadata": {},
   "outputs": [
    {
     "data": {
      "text/plain": [
       "{'best_params': {'loss': 'ls',\n",
       "  'max_depth': 11,\n",
       "  'max_features': 'auto',\n",
       "  'n_estimators': 40,\n",
       "  'verbose': 0},\n",
       " 'best_score': 0.1728101409039798}"
      ]
     },
     "execution_count": 244,
     "metadata": {},
     "output_type": "execute_result"
    }
   ],
   "source": [
    "# Declare indep and dep\n",
    "X_train11 = indep_train_cvec.drop(['Track Name', 'Artist', 'ID', 'Lyrics', 'Valence'], axis=1)\n",
    "y_train11 = dep_train\n",
    "X_test11 = indep_test_cvec.drop(['Track Name', 'Artist', 'ID', 'Lyrics', 'Valence'], axis=1)\n",
    "y_test11 = dep_test\n",
    "\n",
    "# RandomizedSearch\n",
    "params = {'n_estimators': np.arange(10, 100, 10),\n",
    "        'loss': ('ls', 'lad', 'huber', 'quantile'),\n",
    "        'max_depth': np.arange(2, 20, 3),\n",
    "        'max_features' : ('auto', 'sqrt', 'log2'),\n",
    "        'verbose' : np.arange(0, 1)}\n",
    "\n",
    "\n",
    "grad = GradientBoostingRegressor(random_state=24) \n",
    "# learning_rate: (default=1.0)\n",
    "# init = BaseEstimator, default = None (loss.init_estimator)\n",
    "\n",
    "get_best_hype(grad, params, X_train11, y_train11)"
   ]
  },
  {
   "cell_type": "code",
   "execution_count": 245,
   "metadata": {},
   "outputs": [
    {
     "data": {
      "text/plain": [
       "{'MSE': 0.19296762429311762, 'Score (R^2)': 0.2535206901866619}"
      ]
     },
     "execution_count": 245,
     "metadata": {},
     "output_type": "execute_result"
    }
   ],
   "source": [
    "# chose model and use best hyperparameters (from gridsearchCV)\n",
    "grad = GradientBoostingRegressor(random_state=24, n_estimators=40, loss='ls', max_depth=11 , max_features='auto',\n",
    "                                 verbose=0)\n",
    "\n",
    "# call function\n",
    "evaluate_model(grad, X_train11, X_test11, y_train11, y_test11)"
   ]
  },
  {
   "cell_type": "code",
   "execution_count": 246,
   "metadata": {},
   "outputs": [
    {
     "data": {
      "text/plain": [
       "Energy              0.097833\n",
       "Acousticness        0.033023\n",
       "Tempo               0.026934\n",
       "Subjectivity        0.018820\n",
       "Polarity            0.017592\n",
       "Instrumentalness    0.017543\n",
       "avg_Position        0.012851\n",
       "avg_Streams         0.012473\n",
       "baby                0.010728\n",
       "faccio              0.007950\n",
       "oh                  0.007291\n",
       "love                0.006440\n",
       "girl                0.006393\n",
       "come                0.005993\n",
       "ai                  0.005298\n",
       "dtype: float64"
      ]
     },
     "execution_count": 246,
     "metadata": {},
     "output_type": "execute_result"
    }
   ],
   "source": [
    "# Look at the feature importance with coef_\n",
    "pd.Series(dict(zip(X_train11.columns,grad.feature_importances_ ))).abs().sort_values(ascending=False).head(15)"
   ]
  },
  {
   "cell_type": "markdown",
   "metadata": {},
   "source": [
    "**Gradient #2 - CountVec + top 10 coefs**"
   ]
  },
  {
   "cell_type": "code",
   "execution_count": 247,
   "metadata": {},
   "outputs": [
    {
     "data": {
      "text/plain": [
       "{'best_params': {'loss': 'huber',\n",
       "  'max_depth': 2,\n",
       "  'max_features': 'auto',\n",
       "  'n_estimators': 70,\n",
       "  'verbose': 0},\n",
       " 'best_score': 0.14883046837756858}"
      ]
     },
     "execution_count": 247,
     "metadata": {},
     "output_type": "execute_result"
    }
   ],
   "source": [
    "# define X and y\n",
    "X_train12 = indep_train_cvec[['Energy', 'Acousticness', 'Tempo', 'Subjectivity', 'Polarity','Instrumentalness', \n",
    "                              'avg_Position', 'avg_Streams', 'baby', 'faccio']]\n",
    "y_train12 = dep_train\n",
    "X_test12 = indep_test_cvec[['Energy', 'Acousticness', 'Tempo', 'Subjectivity', 'Polarity','Instrumentalness', \n",
    "                              'avg_Position', 'avg_Streams', 'baby', 'faccio']]\n",
    "y_test12 = dep_test\n",
    "\n",
    "# RandomizedSearch\n",
    "params = {'n_estimators': np.arange(10, 100, 10),\n",
    "        'loss': ('ls', 'lad', 'huber', 'quantile'),\n",
    "        'max_depth': np.arange(2, 20, 3),\n",
    "        'max_features' : ('auto', 'sqrt', 'log2'),\n",
    "        'verbose' : np.arange(0, 1)}\n",
    "\n",
    "grad2 = GradientBoostingRegressor(random_state=24)\n",
    "\n",
    "get_best_hype(grad2, params, X_train12, y_train12)"
   ]
  },
  {
   "cell_type": "code",
   "execution_count": 248,
   "metadata": {},
   "outputs": [
    {
     "data": {
      "text/plain": [
       "{'MSE': 0.20129046465866682, 'Score (R^2)': 0.18773960223737296}"
      ]
     },
     "execution_count": 248,
     "metadata": {},
     "output_type": "execute_result"
    }
   ],
   "source": [
    "# chose model and use best hyperparameters (from gridsearchCV)\n",
    "grad2 = GradientBoostingRegressor(random_state=24, n_estimators=70, loss='huber', max_depth=2, max_features='auto',\n",
    "                                 verbose=0)\n",
    "\n",
    "# call function\n",
    "evaluate_model(grad2, X_train12, X_test12, y_train12, y_test12)"
   ]
  },
  {
   "cell_type": "markdown",
   "metadata": {},
   "source": [
    "**Gradient #3 - CountVec + top 3 coefs**"
   ]
  },
  {
   "cell_type": "code",
   "execution_count": 249,
   "metadata": {},
   "outputs": [
    {
     "data": {
      "text/plain": [
       "{'best_params': {'loss': 'lad',\n",
       "  'max_depth': 2,\n",
       "  'max_features': 'auto',\n",
       "  'n_estimators': 70,\n",
       "  'verbose': 0},\n",
       " 'best_score': 0.13335842309771517}"
      ]
     },
     "execution_count": 249,
     "metadata": {},
     "output_type": "execute_result"
    }
   ],
   "source": [
    "# define X and y\n",
    "X_train13 = indep_train_cvec[['Energy', 'Acousticness', 'Tempo']]\n",
    "y_train13 = dep_train\n",
    "X_test13 = indep_test_cvec[['Energy', 'Acousticness', 'Tempo']]\n",
    "y_test13 = dep_test\n",
    "\n",
    "# RandomizedSearch\n",
    "params = {'n_estimators': np.arange(10, 100, 10),\n",
    "        'loss': ('ls', 'lad', 'huber', 'quantile'),\n",
    "        'max_depth': np.arange(2, 20, 3),\n",
    "        'max_features' : ('auto', 'sqrt', 'log2'),\n",
    "        'verbose' : np.arange(0, 1)}\n",
    "\n",
    "grad3 = GradientBoostingRegressor(random_state=24)\n",
    "\n",
    "get_best_hype(grad3, params, X_train13, y_train13)"
   ]
  },
  {
   "cell_type": "code",
   "execution_count": 250,
   "metadata": {},
   "outputs": [
    {
     "data": {
      "text/plain": [
       "{'MSE': 0.20340937877031137, 'Score (R^2)': 0.1705488348277141}"
      ]
     },
     "execution_count": 250,
     "metadata": {},
     "output_type": "execute_result"
    }
   ],
   "source": [
    "# chose model and use best hyperparameters (from gridsearchCV)\n",
    "grad3 = GradientBoostingRegressor(random_state=24, n_estimators=70, loss='lad', max_depth=2, max_features='auto',\n",
    "                                 verbose=0)\n",
    "\n",
    "# call function\n",
    "evaluate_model(grad3, X_train13, X_test13, y_train13, y_test13)"
   ]
  },
  {
   "cell_type": "markdown",
   "metadata": {},
   "source": [
    "## Models (LinReg, Lasso, RF, Ada/Gradient Boost) - TF-IDF"
   ]
  },
  {
   "cell_type": "markdown",
   "metadata": {},
   "source": [
    "### Linear Regression"
   ]
  },
  {
   "cell_type": "code",
   "execution_count": 251,
   "metadata": {
    "collapsed": true
   },
   "outputs": [],
   "source": [
    "def evaluate_model(model, X_train, X_test, y_train, y_test):\n",
    "    # standardize the predictors\n",
    "    ss = StandardScaler()\n",
    "    ss.fit(X_train)\n",
    "    X_train_s = ss.transform(X_train)\n",
    "    X_test_s = ss.transform(X_test)\n",
    "    \n",
    "    # fit\n",
    "    model.fit(X_train_s, y_train)\n",
    "    \n",
    "    # Evaluate: predict and score\n",
    "    y_pred = model.predict(X_test_s)\n",
    "    y_true = y_test\n",
    "    \n",
    "    mean_square_error = np.sqrt(sklearn.metrics.mean_squared_error(y_true, y_pred))\n",
    "    \n",
    "    # Evaluate: score\n",
    "    score = model.score(X_test_s, y_test)\n",
    "    \n",
    "    return {'Score (R^2)': score.mean(), 'MSE': mean_square_error}"
   ]
  },
  {
   "cell_type": "markdown",
   "metadata": {},
   "source": [
    "#### LinReg #1 - TF-IDF + all coefs"
   ]
  },
  {
   "cell_type": "code",
   "execution_count": 252,
   "metadata": {},
   "outputs": [
    {
     "data": {
      "text/plain": [
       "{'MSE': 0.21776733942829873, 'Score (R^2)': 0.04931998355658407}"
      ]
     },
     "execution_count": 252,
     "metadata": {},
     "output_type": "execute_result"
    }
   ],
   "source": [
    "# define X and y\n",
    "X_train14 = indep_train_tvec.drop(['Track Name', 'Artist', 'ID', 'Lyrics', 'Valence'], axis=1)\n",
    "y_train14 = dep_train\n",
    "X_test14 = indep_test_tvec.drop(['Track Name', 'Artist', 'ID', 'Lyrics', 'Valence'], axis=1)\n",
    "y_test14 = dep_test\n",
    "\n",
    "# chose model \n",
    "linreg4 = LinearRegression()\n",
    "\n",
    "# call function\n",
    "evaluate_model(linreg4, X_train14, X_test14, y_train14, y_test14)"
   ]
  },
  {
   "cell_type": "markdown",
   "metadata": {},
   "source": [
    "**Importance of the coefficients**"
   ]
  },
  {
   "cell_type": "code",
   "execution_count": 253,
   "metadata": {},
   "outputs": [
    {
     "data": {
      "text/plain": [
       "Energy          0.088823\n",
       "23              0.042356\n",
       "9               0.035534\n",
       "avg_Streams     0.035222\n",
       "13              0.031483\n",
       "33              0.030767\n",
       "Acousticness    0.029197\n",
       "43              0.027575\n",
       "114             0.027334\n",
       "42              0.026556\n",
       "dtype: float64"
      ]
     },
     "execution_count": 253,
     "metadata": {},
     "output_type": "execute_result"
    }
   ],
   "source": [
    "# Look at the feature importance with coef_\n",
    "pd.Series(dict(zip(X_train14.columns,linreg4.coef_))).abs().sort_values(ascending=False).head(10)"
   ]
  },
  {
   "cell_type": "markdown",
   "metadata": {},
   "source": [
    "#### LinReg #2 - TF-IDF + top 10 coefs"
   ]
  },
  {
   "cell_type": "code",
   "execution_count": 254,
   "metadata": {},
   "outputs": [
    {
     "data": {
      "text/plain": [
       "{'MSE': 0.2040100853613917, 'Score (R^2)': 0.16564254674555934}"
      ]
     },
     "execution_count": 254,
     "metadata": {},
     "output_type": "execute_result"
    }
   ],
   "source": [
    "# define X and y\n",
    "X_train15 = indep_train_cvec[['Energy', 23, 9, 'avg_Streams', 13, 33, 'Acousticness', 43, 114, 42]]\n",
    "y_train15 = dep_train\n",
    "X_test15 = indep_test_cvec[['Energy', 23, 9, 'avg_Streams', 13, 33, 'Acousticness', 43, 114, 42]]\n",
    "y_test15 = dep_test\n",
    "\n",
    "# chose model \n",
    "linreg5 = LinearRegression()\n",
    "\n",
    "# call function\n",
    "evaluate_model(linreg5, X_train15, X_test15, y_train15, y_test15)"
   ]
  },
  {
   "cell_type": "markdown",
   "metadata": {},
   "source": [
    "#### LinReg #3 - TF-IDF + top 3 coefs"
   ]
  },
  {
   "cell_type": "code",
   "execution_count": 255,
   "metadata": {},
   "outputs": [
    {
     "data": {
      "text/plain": [
       "{'MSE': 0.2066072769507123, 'Score (R^2)': 0.14426340969288443}"
      ]
     },
     "execution_count": 255,
     "metadata": {},
     "output_type": "execute_result"
    }
   ],
   "source": [
    "# define X and y\n",
    "X_train16 = indep_train_tvec[['Energy', 23, 9]]\n",
    "y_train16 = dep_train\n",
    "X_test16 = indep_test_tvec[['Energy', 23, 9]]\n",
    "y_test16 = dep_test\n",
    "\n",
    "# chose model \n",
    "linreg6 = LinearRegression()\n",
    "\n",
    "# call function\n",
    "evaluate_model(linreg6, X_train16, X_test16, y_train16, y_test16)"
   ]
  },
  {
   "cell_type": "markdown",
   "metadata": {},
   "source": [
    "### Lasso Regressor"
   ]
  },
  {
   "cell_type": "code",
   "execution_count": 256,
   "metadata": {
    "collapsed": true
   },
   "outputs": [],
   "source": [
    "def get_best_hype(model, params, X_train, y_train):  \n",
    "    # standardize\n",
    "    ss = StandardScaler()\n",
    "    ss.fit(X_train)\n",
    "    X_train_s = ss.transform(X_train)\n",
    "    \n",
    "    # Best Hyperparameters\n",
    "    gs = GridSearchCV(model, grid) # cv default = 3\n",
    "    \n",
    "    # fit\n",
    "    gs.fit(X_train_s, y_train)\n",
    "     \n",
    "    return {'best_score': gs.best_score_,'best_params': gs.best_params_} \n",
    "\n",
    "def evaluate_model(model, X_train, X_test, y_train, y_test):\n",
    "    # standardize the predictors\n",
    "    ss = StandardScaler()\n",
    "    ss.fit(X_train)\n",
    "    X_train_s = ss.transform(X_train)\n",
    "    X_test_s = ss.transform(X_test)\n",
    "    \n",
    "    # fit\n",
    "    model.fit(X_train_s, y_train)\n",
    "    \n",
    "    # Evaluate: predict\n",
    "    \n",
    "    y_pred = model.predict(X_test_s)\n",
    "    y_true = y_test\n",
    "    \n",
    "    mean_square_error = np.sqrt(sklearn.metrics.mean_squared_error(y_true, y_pred))\n",
    "    \n",
    "    # Evaluate: score\n",
    "    score = model.score(X_test_s, y_test)\n",
    "    \n",
    "    return {'Score (R^2)': score.mean(), 'MSE': mean_square_error}"
   ]
  },
  {
   "cell_type": "markdown",
   "metadata": {},
   "source": [
    "**Lasso #1 - TF-IDF + all coefs**"
   ]
  },
  {
   "cell_type": "code",
   "execution_count": 257,
   "metadata": {},
   "outputs": [
    {
     "data": {
      "text/plain": [
       "{'best_params': {'alpha': 0.005336699231206312, 'selection': 'cyclic'},\n",
       " 'best_score': 0.16443971907437796}"
      ]
     },
     "execution_count": 257,
     "metadata": {},
     "output_type": "execute_result"
    }
   ],
   "source": [
    "# Declare indep and dep\n",
    "X_train17 = indep_train_tvec.drop(['Track Name', 'Artist', 'ID', 'Lyrics', 'Valence'], axis=1)\n",
    "y_train17 = dep_train\n",
    "X_test17 = indep_test_tvec.drop(['Track Name', 'Artist', 'ID', 'Lyrics', 'Valence'], axis=1)\n",
    "y_test17 = dep_test\n",
    "\n",
    "# GridSearchCV\n",
    "grid = {'alpha': np.logspace(-3, 3, 100),\n",
    "        'selection' : ('cyclic', 'random')}\n",
    "\n",
    "lassoreg4 = Lasso(random_state=24, fit_intercept=True, normalize=False, max_iter=1000)\n",
    "\n",
    "get_best_hype(lassoreg4, grid, X_train17, y_train17)"
   ]
  },
  {
   "cell_type": "code",
   "execution_count": 258,
   "metadata": {},
   "outputs": [
    {
     "data": {
      "text/plain": [
       "{'MSE': 0.2009353966224448, 'Score (R^2)': 0.1906026621960759}"
      ]
     },
     "execution_count": 258,
     "metadata": {},
     "output_type": "execute_result"
    }
   ],
   "source": [
    "# chose model and use best hyperparameters (from gridsearchCV)\n",
    "lassoreg4 = Lasso(random_state=24, fit_intercept=True, normalize=False, max_iter=1000, alpha=0.0053, selection='cyclic')\n",
    "\n",
    "# call function\n",
    "evaluate_model(lassoreg4, X_train17, X_test17, y_train17, y_test17)"
   ]
  },
  {
   "cell_type": "code",
   "execution_count": 259,
   "metadata": {},
   "outputs": [
    {
     "data": {
      "text/plain": [
       "Energy          0.081047\n",
       "Acousticness    0.016275\n",
       "baby            0.014125\n",
       "ride            0.006841\n",
       "shit            0.006580\n",
       "girl            0.006509\n",
       "che             0.006200\n",
       "bang            0.006062\n",
       "viel            0.005890\n",
       "little          0.005715\n",
       "ogni            0.005518\n",
       "pa              0.004568\n",
       "fick            0.004432\n",
       "più             0.004313\n",
       "hot             0.004231\n",
       "dtype: float64"
      ]
     },
     "execution_count": 259,
     "metadata": {},
     "output_type": "execute_result"
    }
   ],
   "source": [
    "# Look at the feature importance with coef_\n",
    "pd.Series(dict(zip(X_train17.columns,lassoreg4.coef_))).abs().sort_values(ascending=False).head(15)"
   ]
  },
  {
   "cell_type": "markdown",
   "metadata": {},
   "source": [
    "#### Lasso #2 - TF-IDF + top 10 coefs"
   ]
  },
  {
   "cell_type": "code",
   "execution_count": 260,
   "metadata": {},
   "outputs": [
    {
     "data": {
      "text/plain": [
       "{'best_params': {'alpha': 0.001, 'selection': 'cyclic'},\n",
       " 'best_score': 0.1769795578377187}"
      ]
     },
     "execution_count": 260,
     "metadata": {},
     "output_type": "execute_result"
    }
   ],
   "source": [
    "# Declare indep and dep\n",
    "X_train18 = indep_train_tvec[['Energy', 'Acousticness', 'baby', 'ride', 'shit', 'girl', 'che', 'bang', 'viel', 'little']]\n",
    "y_train18 = dep_train\n",
    "X_test18 = indep_test_tvec[['Energy', 'Acousticness', 'baby', 'ride', 'shit', 'girl', 'che', 'bang', 'viel', 'little']]\n",
    "y_test18= dep_test\n",
    "\n",
    "# GridSearchCV\n",
    "grid = {'alpha': np.logspace(-3, 3, 100),\n",
    "        'selection' : ('cyclic', 'random')}\n",
    "\n",
    "lassoreg5 = Lasso(random_state=24, fit_intercept=True, normalize=False, max_iter=1000)\n",
    "\n",
    "get_best_hype(lassoreg5, grid, X_train18, y_train18)"
   ]
  },
  {
   "cell_type": "code",
   "execution_count": 261,
   "metadata": {},
   "outputs": [
    {
     "data": {
      "text/plain": [
       "{'MSE': 0.20190319054268863, 'Score (R^2)': 0.1827870531239365}"
      ]
     },
     "execution_count": 261,
     "metadata": {},
     "output_type": "execute_result"
    }
   ],
   "source": [
    "# chose model and use best hyperparameters (from gridsearchCV)\n",
    "lassoreg5 = Lasso(random_state=24, fit_intercept=True, normalize=False, max_iter=1000, alpha=0.001, \n",
    "                  selection='cyclic')\n",
    "\n",
    "# call function\n",
    "evaluate_model(lassoreg5, X_train18, X_test18, y_train18, y_test18)"
   ]
  },
  {
   "cell_type": "markdown",
   "metadata": {},
   "source": [
    "#### Lasso #3 - TF-IDF + top 3 coefs"
   ]
  },
  {
   "cell_type": "code",
   "execution_count": 262,
   "metadata": {},
   "outputs": [
    {
     "data": {
      "text/plain": [
       "{'best_params': {'alpha': 0.001, 'selection': 'cyclic'},\n",
       " 'best_score': 0.15025831316624455}"
      ]
     },
     "execution_count": 262,
     "metadata": {},
     "output_type": "execute_result"
    }
   ],
   "source": [
    "# Declare indep and dep\n",
    "X_train19 = indep_train_tvec[['Energy', 'Acousticness', 'baby']]\n",
    "y_train19 = dep_train\n",
    "X_test19 = indep_test_tvec[['Energy', 'Acousticness', 'baby']]\n",
    "y_test19 = dep_test\n",
    "\n",
    "# GridSearchCV\n",
    "grid = {'alpha': np.logspace(-3, 3, 100),\n",
    "        'selection' : ('cyclic', 'random')}\n",
    "\n",
    "lassoreg6 = Lasso(random_state=24, fit_intercept=True, normalize=False, max_iter=1000)\n",
    "\n",
    "get_best_hype(lassoreg6, grid, X_train19, y_train19)"
   ]
  },
  {
   "cell_type": "code",
   "execution_count": 263,
   "metadata": {},
   "outputs": [
    {
     "data": {
      "text/plain": [
       "{'MSE': 0.20293107724588044, 'Score (R^2)': 0.17444502999551348}"
      ]
     },
     "execution_count": 263,
     "metadata": {},
     "output_type": "execute_result"
    }
   ],
   "source": [
    "# chose model and use best hyperparameters (from gridsearchCV)\n",
    "lassoreg6 = Lasso(random_state=24, fit_intercept=True, normalize=False, max_iter=1000, alpha=0.001, \n",
    "                  selection='cyclic')\n",
    "\n",
    "# call function\n",
    "evaluate_model(lassoreg6, X_train19, X_test19, y_train19, y_test19)"
   ]
  },
  {
   "cell_type": "markdown",
   "metadata": {},
   "source": [
    "### Random Forest Regressor"
   ]
  },
  {
   "cell_type": "markdown",
   "metadata": {},
   "source": [
    "You do not have to scale a Random Forest."
   ]
  },
  {
   "cell_type": "code",
   "execution_count": 264,
   "metadata": {
    "collapsed": true
   },
   "outputs": [],
   "source": [
    "def get_best_hype(model, params, X_train, y_train):  \n",
    "    # Best Hyperparameters\n",
    "    rs = RandomizedSearchCV(model, params, n_iter=40)\n",
    "    \n",
    "    # fit\n",
    "    rs.fit(X_train, y_train)\n",
    "     \n",
    "    return {'best_score': rs.best_score_,'best_params': rs.best_params_} \n",
    "\n",
    "def evaluate_model(model, X_train, X_test, y_train, y_test):\n",
    "    # fit\n",
    "    model.fit(X_train, y_train)\n",
    "    \n",
    "    # Evaluate: predict\n",
    "    y_pred = model.predict(X_test)\n",
    "    y_true = y_test\n",
    "    \n",
    "    mean_square_error = np.sqrt(sklearn.metrics.mean_squared_error(y_true, y_pred))\n",
    "    \n",
    "    # Evaluate: score\n",
    "    score = model.score(X_test, y_test)\n",
    "    \n",
    "    return {'Score (R^2)': score.mean(), 'MSE': mean_square_error}"
   ]
  },
  {
   "cell_type": "markdown",
   "metadata": {},
   "source": [
    "#### Random Forest #1 - TF-IDF + all coefs"
   ]
  },
  {
   "cell_type": "code",
   "execution_count": 265,
   "metadata": {},
   "outputs": [
    {
     "data": {
      "text/plain": [
       "{'best_params': {'bootstrap': True,\n",
       "  'max_depth': 17,\n",
       "  'max_features': 'auto',\n",
       "  'n_estimators': 50,\n",
       "  'verbose': 0},\n",
       " 'best_score': 0.19886468864865645}"
      ]
     },
     "execution_count": 265,
     "metadata": {},
     "output_type": "execute_result"
    }
   ],
   "source": [
    "# Declare indep and dep\n",
    "X_train20 = indep_train_tvec.drop(['Track Name', 'Artist', 'ID', 'Lyrics', 'Valence'], axis=1)\n",
    "y_train20 = dep_train\n",
    "X_test20 = indep_test_tvec.drop(['Track Name', 'Artist', 'ID', 'Lyrics', 'Valence'], axis=1)\n",
    "y_test20 = dep_test\n",
    "\n",
    "# RandomizedSearch\n",
    "params = {'n_estimators': np.arange(10, 100, 10),\n",
    "        'max_depth': np.arange(2, 20, 3),\n",
    "        'max_features' : ('auto', 'sqrt', 'log2'),\n",
    "        'bootstrap': (True, False),\n",
    "        'verbose' : np.arange(0, 1)}\n",
    "\n",
    "rfr4 = RandomForestRegressor(random_state=24)\n",
    "\n",
    "get_best_hype(rfr4, params, X_train20, y_train20)"
   ]
  },
  {
   "cell_type": "code",
   "execution_count": 266,
   "metadata": {},
   "outputs": [
    {
     "data": {
      "text/plain": [
       "{'MSE': 0.19598323319674954, 'Score (R^2)': 0.2300071173162116}"
      ]
     },
     "execution_count": 266,
     "metadata": {},
     "output_type": "execute_result"
    }
   ],
   "source": [
    "# chose model and use best hyperparameters (from gridsearchCV)\n",
    "rfr4 = RandomForestRegressor(max_depth=17, max_features='auto', n_estimators=50, verbose=0, bootstrap=True, \n",
    "                            random_state=24)\n",
    "\n",
    "# call function\n",
    "evaluate_model(rfr4, X_train20, X_test20, y_train20, y_test20)"
   ]
  },
  {
   "cell_type": "markdown",
   "metadata": {},
   "source": [
    "**Feature importance**"
   ]
  },
  {
   "cell_type": "code",
   "execution_count": 267,
   "metadata": {},
   "outputs": [
    {
     "data": {
      "text/plain": [
       "Energy              0.195664\n",
       "Acousticness        0.035770\n",
       "Instrumentalness    0.017214\n",
       "Tempo               0.014946\n",
       "baby                0.013814\n",
       "Polarity            0.013665\n",
       "Subjectivity        0.013197\n",
       "avg_Streams         0.008674\n",
       "avg_Position        0.008597\n",
       "girl                0.008346\n",
       "oh                  0.007837\n",
       "come                0.005679\n",
       "feel                0.005471\n",
       "just                0.005087\n",
       "right               0.004859\n",
       "dtype: float64"
      ]
     },
     "execution_count": 267,
     "metadata": {},
     "output_type": "execute_result"
    }
   ],
   "source": [
    "pd.Series(dict(zip(X_train20.columns,rfr4.feature_importances_))).abs().sort_values(ascending=False).head(15)"
   ]
  },
  {
   "cell_type": "markdown",
   "metadata": {},
   "source": [
    "#### Random Forest #2 - TF-IDF + top 10 features"
   ]
  },
  {
   "cell_type": "code",
   "execution_count": 269,
   "metadata": {},
   "outputs": [
    {
     "data": {
      "text/plain": [
       "{'best_params': {'bootstrap': True,\n",
       "  'max_depth': 17,\n",
       "  'max_features': 'log2',\n",
       "  'n_estimators': 80,\n",
       "  'verbose': 0},\n",
       " 'best_score': 0.16468034109987398}"
      ]
     },
     "execution_count": 269,
     "metadata": {},
     "output_type": "execute_result"
    }
   ],
   "source": [
    "# define X and y\n",
    "X_train21 = indep_train_tvec[['Energy', 'Acousticness', 'Instrumentalness', 'Tempo', 'baby', 'Polarity',\n",
    "                             'Subjectivity', 'avg_Streams', 'avg_Position', 'girl']]\n",
    "y_train21 = dep_train\n",
    "X_test21 = indep_test_tvec[['Energy', 'Acousticness', 'Instrumentalness', 'Tempo', 'baby', 'Polarity',\n",
    "                             'Subjectivity', 'avg_Streams', 'avg_Position', 'girl']]\n",
    "y_test21 = dep_test\n",
    "\n",
    "# RandomizedSearch\n",
    "params = {'n_estimators': np.arange(10, 100, 10),\n",
    "        'max_depth': np.arange(2, 20, 3),\n",
    "        'max_features' : ('auto', 'sqrt', 'log2'),\n",
    "        'bootstrap': (True, False),\n",
    "        'verbose' : np.arange(0, 1)}\n",
    "\n",
    "rfr5 = RandomForestRegressor(random_state=24)\n",
    "\n",
    "get_best_hype(rfr5, params, X_train21, y_train21)"
   ]
  },
  {
   "cell_type": "code",
   "execution_count": 270,
   "metadata": {},
   "outputs": [
    {
     "data": {
      "text/plain": [
       "{'MSE': 0.197833802235024, 'Score (R^2)': 0.21539716949022658}"
      ]
     },
     "execution_count": 270,
     "metadata": {},
     "output_type": "execute_result"
    }
   ],
   "source": [
    "# chose model and use best hyperparameters (from gridsearchCV)\n",
    "rfr5 = RandomForestRegressor(max_depth=17, max_features='log2', n_estimators=80, verbose=0, bootstrap=True, \n",
    "                               random_state=24)\n",
    "\n",
    "# call function\n",
    "evaluate_model(rfr5, X_train21, X_test21, y_train21, y_test21)"
   ]
  },
  {
   "cell_type": "markdown",
   "metadata": {},
   "source": [
    "#### Random Forest #3 - TF-IDF + top 3 features"
   ]
  },
  {
   "cell_type": "code",
   "execution_count": 271,
   "metadata": {},
   "outputs": [
    {
     "data": {
      "text/plain": [
       "{'best_params': {'bootstrap': True,\n",
       "  'max_depth': 5,\n",
       "  'max_features': 'auto',\n",
       "  'n_estimators': 60,\n",
       "  'verbose': 0},\n",
       " 'best_score': 0.1395303252680062}"
      ]
     },
     "execution_count": 271,
     "metadata": {},
     "output_type": "execute_result"
    }
   ],
   "source": [
    "# define X and y\n",
    "X_train22 = indep_train_tvec[['Energy', 'Acousticness', 'Instrumentalness']]\n",
    "y_train22 = dep_train\n",
    "X_test22 = indep_test_tvec[['Energy', 'Acousticness', 'Instrumentalness']]\n",
    "y_test22 = dep_test\n",
    "\n",
    "# RandomizedSearch\n",
    "params = {'n_estimators': np.arange(10, 100, 10),\n",
    "        'max_depth': np.arange(2, 20, 3),\n",
    "        'max_features' : ('auto', 'sqrt', 'log2'),\n",
    "        'bootstrap': (True, False),\n",
    "        'verbose' : np.arange(0, 1)}\n",
    "\n",
    "rfr6 = RandomForestRegressor(random_state=24)\n",
    "\n",
    "get_best_hype(rfr6, params, X_train22, y_train22)"
   ]
  },
  {
   "cell_type": "code",
   "execution_count": 272,
   "metadata": {},
   "outputs": [
    {
     "data": {
      "text/plain": [
       "{'MSE': 0.20297212492057198, 'Score (R^2)': 0.17411101965516518}"
      ]
     },
     "execution_count": 272,
     "metadata": {},
     "output_type": "execute_result"
    }
   ],
   "source": [
    "# chose model and use best hyperparameters (from gridsearchCV)\n",
    "rfr6 = RandomForestRegressor(max_depth=5, max_features='auto', n_estimators=60, verbose=0, bootstrap=True, \n",
    "                               random_state=24)\n",
    "\n",
    "# call function\n",
    "evaluate_model(rfr6, X_train22, X_test22, y_train22, y_test22)"
   ]
  },
  {
   "cell_type": "markdown",
   "metadata": {},
   "source": [
    "### Ada and Gradient Boost"
   ]
  },
  {
   "cell_type": "code",
   "execution_count": 273,
   "metadata": {
    "collapsed": true
   },
   "outputs": [],
   "source": [
    "def get_best_hype(model, params, X_train, y_train):  \n",
    "    # standardize\n",
    "    ss = StandardScaler()\n",
    "    ss.fit(X_train)\n",
    "    X_train_s = ss.transform(X_train)\n",
    "     \n",
    "    # Best Hyperparameters\n",
    "    rs = RandomizedSearchCV(model, params, n_iter=27)\n",
    "    \n",
    "    # fit\n",
    "    rs.fit(X_train_s, y_train)\n",
    "     \n",
    "    return {'best_score': rs.best_score_,'best_params': rs.best_params_} \n",
    "\n",
    "def evaluate_model(model, X_train, X_test, y_train, y_test):\n",
    "    # standardize the predictors\n",
    "    ss = StandardScaler()\n",
    "    ss.fit(X_train)\n",
    "    X_train_s = ss.transform(X_train)\n",
    "    X_test_s = ss.transform(X_test)\n",
    "    \n",
    "    # fit\n",
    "    model.fit(X_train_s, y_train)\n",
    "    \n",
    "    # Evaluate: predict\n",
    "    y_pred = model.predict(X_test_s)\n",
    "    y_true = y_test\n",
    "    \n",
    "    mean_square_error = np.sqrt(sklearn.metrics.mean_squared_error(y_true, y_pred))\n",
    "    \n",
    "    # Evaluate: score\n",
    "    score = model.score(X_test_s, y_test)\n",
    "    \n",
    "    return {'Score (R^2)': score.mean(), 'MSE': mean_square_error}"
   ]
  },
  {
   "cell_type": "markdown",
   "metadata": {},
   "source": [
    "**Ada #1 - CountVec + all coefs**"
   ]
  },
  {
   "cell_type": "code",
   "execution_count": 274,
   "metadata": {},
   "outputs": [
    {
     "data": {
      "text/plain": [
       "{'best_params': {'loss': 'linear', 'n_estimators': 10},\n",
       " 'best_score': 0.127893549395003}"
      ]
     },
     "execution_count": 274,
     "metadata": {},
     "output_type": "execute_result"
    }
   ],
   "source": [
    "# Declare indep and dep\n",
    "X_train23 = indep_train_tvec.drop(['Track Name', 'Artist', 'ID', 'Lyrics', 'Valence'], axis=1)\n",
    "y_train23 = dep_train\n",
    "X_test23 = indep_test_tvec.drop(['Track Name', 'Artist', 'ID', 'Lyrics', 'Valence'], axis=1)\n",
    "y_test23 = dep_test\n",
    "\n",
    "# RandomizedSearch\n",
    "params = {'n_estimators': np.arange(10, 100, 10),\n",
    "        'loss': ('linear', 'square', 'exponential')}\n",
    "\n",
    "ada2 = AdaBoostRegressor(random_state=24) \n",
    "# base_estimator = DecisionTreeRegressor() (default)\n",
    "# learning_rate: (default=1.0)\n",
    "\n",
    "get_best_hype(ada2, params, X_train23, y_train23)"
   ]
  },
  {
   "cell_type": "code",
   "execution_count": 275,
   "metadata": {},
   "outputs": [
    {
     "data": {
      "text/plain": [
       "{'MSE': 0.20721056472126348, 'Score (R^2)': 0.1392586571648562}"
      ]
     },
     "execution_count": 275,
     "metadata": {},
     "output_type": "execute_result"
    }
   ],
   "source": [
    "# chose model and use best hyperparameters (from gridsearchCV)\n",
    "ada2 = AdaBoostRegressor(n_estimators=10, loss='linear', random_state=24)\n",
    "# I'm going with the default base_estimator, bc to choose a rfr is taking too long time\n",
    "\n",
    "# call function\n",
    "evaluate_model(ada2, X_train23, X_test23, y_train23, y_test23)"
   ]
  },
  {
   "cell_type": "markdown",
   "metadata": {},
   "source": [
    "**Gradient #1 - TF-IDF + all coefs**"
   ]
  },
  {
   "cell_type": "code",
   "execution_count": 276,
   "metadata": {},
   "outputs": [
    {
     "data": {
      "text/plain": [
       "{'best_params': {'loss': 'lad',\n",
       "  'max_depth': 8,\n",
       "  'max_features': 'auto',\n",
       "  'n_estimators': 70,\n",
       "  'verbose': 0},\n",
       " 'best_score': 0.18675589425069744}"
      ]
     },
     "execution_count": 276,
     "metadata": {},
     "output_type": "execute_result"
    }
   ],
   "source": [
    "## Declare indep and dep\n",
    "X_train24 = indep_train_tvec.drop(['Track Name', 'Artist', 'ID', 'Lyrics', 'Valence'], axis=1)\n",
    "y_train24 = dep_train\n",
    "X_test24 = indep_test_tvec.drop(['Track Name', 'Artist', 'ID', 'Lyrics', 'Valence'], axis=1)\n",
    "y_test24 = dep_test\n",
    "\n",
    "# RandomizedSearch\n",
    "params = {'n_estimators': np.arange(10, 100, 10),\n",
    "        'loss': ('ls', 'lad', 'huber', 'quantile'),\n",
    "        'max_depth': np.arange(2, 20, 3),\n",
    "        'max_features' : ('auto', 'sqrt', 'log2'),\n",
    "        'verbose' : np.arange(0, 1)}\n",
    "\n",
    "grad4 = GradientBoostingRegressor(random_state=24) \n",
    "# learning_rate: (default=1.0)\n",
    "# init = BaseEstimator, default = None (loss.init_estimator)\n",
    "\n",
    "get_best_hype(grad4, params, X_train24, y_train24)"
   ]
  },
  {
   "cell_type": "code",
   "execution_count": 277,
   "metadata": {},
   "outputs": [
    {
     "data": {
      "text/plain": [
       "{'MSE': 0.19608206725998373, 'Score (R^2)': 0.22923030888254725}"
      ]
     },
     "execution_count": 277,
     "metadata": {},
     "output_type": "execute_result"
    }
   ],
   "source": [
    "# chose model and use best hyperparameters (from gridsearchCV)\n",
    "grad4 = GradientBoostingRegressor(random_state=24, n_estimators=70, loss='lad', max_depth=8, max_features='auto',\n",
    "                                 verbose=0)\n",
    "# if loss = huber or quantile we need a value for alpha\n",
    "\n",
    "# call function\n",
    "evaluate_model(grad4, X_train24, X_test24, y_train24, y_test24)"
   ]
  },
  {
   "cell_type": "code",
   "execution_count": 278,
   "metadata": {},
   "outputs": [
    {
     "data": {
      "text/plain": [
       "Energy              0.059390\n",
       "Acousticness        0.022583\n",
       "Tempo               0.015447\n",
       "Polarity            0.010355\n",
       "Instrumentalness    0.009627\n",
       "got                 0.009537\n",
       "avg_Streams         0.009383\n",
       "Subjectivity        0.008916\n",
       "baby                0.008783\n",
       "know                0.008521\n",
       "fuck                0.008394\n",
       "girl                0.006637\n",
       "yeah                0.006446\n",
       "just                0.006417\n",
       "come                0.006161\n",
       "dtype: float64"
      ]
     },
     "execution_count": 278,
     "metadata": {},
     "output_type": "execute_result"
    }
   ],
   "source": [
    "# Look at the feature importance with coef_\n",
    "pd.Series(dict(zip(X_train24.columns,grad4.feature_importances_ ))).abs().sort_values(ascending=False).head(15)"
   ]
  },
  {
   "cell_type": "markdown",
   "metadata": {},
   "source": [
    "**Gradient #2 - TF-IDF + top 10 coefs**"
   ]
  },
  {
   "cell_type": "code",
   "execution_count": 279,
   "metadata": {},
   "outputs": [
    {
     "data": {
      "text/plain": [
       "{'best_params': {'loss': 'ls',\n",
       "  'max_depth': 5,\n",
       "  'max_features': 'log2',\n",
       "  'n_estimators': 50,\n",
       "  'verbose': 0},\n",
       " 'best_score': 0.14108506987309496}"
      ]
     },
     "execution_count": 279,
     "metadata": {},
     "output_type": "execute_result"
    }
   ],
   "source": [
    "# define X and y\n",
    "X_train25 = indep_train_tvec[['Energy', 'Acousticness', 'Tempo', 'Polarity', 'Instrumentalness', 'got', \n",
    "                              'avg_Streams', 'Subjectivity', 'baby', 'know']]\n",
    "y_train25 = dep_train\n",
    "X_test25 = indep_test_tvec[['Energy', 'Acousticness', 'Tempo', 'Polarity', 'Instrumentalness', 'got', \n",
    "                              'avg_Streams', 'Subjectivity', 'baby', 'know']]\n",
    "y_test25 = dep_test\n",
    "\n",
    "# RandomizedSearch\n",
    "params = {'n_estimators': np.arange(10, 100, 10),\n",
    "        'loss': ('ls', 'lad', 'huber', 'quantile'),\n",
    "        'max_depth': np.arange(2, 20, 3),\n",
    "        'max_features' : ('auto', 'sqrt', 'log2'),\n",
    "        'verbose' : np.arange(0, 1)}\n",
    "\n",
    "grad5 = GradientBoostingRegressor(random_state=24)\n",
    "\n",
    "get_best_hype(grad5, params, X_train25, y_train25)"
   ]
  },
  {
   "cell_type": "code",
   "execution_count": 280,
   "metadata": {},
   "outputs": [
    {
     "data": {
      "text/plain": [
       "{'MSE': 0.1990182932249212, 'Score (R^2)': 0.20597373286852028}"
      ]
     },
     "execution_count": 280,
     "metadata": {},
     "output_type": "execute_result"
    }
   ],
   "source": [
    "# chose model and use best hyperparameters (from gridsearchCV)\n",
    "grad5 = GradientBoostingRegressor(random_state=24, n_estimators=50, loss='ls', max_depth=5, max_features='log2',\n",
    "                                 verbose=0)\n",
    "\n",
    "# call function\n",
    "evaluate_model(grad5, X_train25, X_test25, y_train25, y_test25)"
   ]
  },
  {
   "cell_type": "markdown",
   "metadata": {},
   "source": [
    "**Gradient #3 - TF-IDF + top 3 coefs**"
   ]
  },
  {
   "cell_type": "code",
   "execution_count": 281,
   "metadata": {},
   "outputs": [
    {
     "data": {
      "text/plain": [
       "{'best_params': {'loss': 'huber',\n",
       "  'max_depth': 2,\n",
       "  'max_features': 'auto',\n",
       "  'n_estimators': 70,\n",
       "  'verbose': 0},\n",
       " 'best_score': 0.13660040530827772}"
      ]
     },
     "execution_count": 281,
     "metadata": {},
     "output_type": "execute_result"
    }
   ],
   "source": [
    "# define X and y\n",
    "X_train26 = indep_train_tvec[['Energy', 'Acousticness', 'Tempo']]\n",
    "y_train26 = dep_train\n",
    "X_test26 = indep_test_tvec[['Energy', 'Acousticness', 'Tempo']]\n",
    "y_test26 = dep_test\n",
    "\n",
    "# RandomizedSearch\n",
    "params = {'n_estimators': np.arange(10, 100, 10),\n",
    "        'loss': ('ls', 'lad', 'huber', 'quantile'),\n",
    "        'max_depth': np.arange(2, 20, 3),\n",
    "        'max_features' : ('auto', 'sqrt', 'log2'),\n",
    "        'verbose' : np.arange(0, 1)}\n",
    "\n",
    "grad6 = GradientBoostingRegressor(random_state=24)\n",
    "\n",
    "get_best_hype(grad6, params, X_train26, y_train26)"
   ]
  },
  {
   "cell_type": "code",
   "execution_count": 283,
   "metadata": {
    "scrolled": false
   },
   "outputs": [
    {
     "data": {
      "text/plain": [
       "{'MSE': 0.20378576129717615, 'Score (R^2)': 0.1674764124876682}"
      ]
     },
     "execution_count": 283,
     "metadata": {},
     "output_type": "execute_result"
    }
   ],
   "source": [
    "# chose model and use best hyperparameters (from gridsearchCV)\n",
    "grad6 = GradientBoostingRegressor(random_state=24, n_estimators=70, loss='huber', max_depth=2, max_features='auto',\n",
    "                                 verbose=0)\n",
    "\n",
    "# call function\n",
    "evaluate_model(grad6, X_train26, X_test26, y_train26, y_test26)"
   ]
  },
  {
   "cell_type": "code",
   "execution_count": null,
   "metadata": {
    "collapsed": true
   },
   "outputs": [],
   "source": []
  },
  {
   "cell_type": "markdown",
   "metadata": {},
   "source": [
    "## Compare model visualization"
   ]
  },
  {
   "cell_type": "markdown",
   "metadata": {},
   "source": [
    "R2-score and STD of 3 R2-scores with different random seed in the Train/Test split"
   ]
  },
  {
   "cell_type": "code",
   "execution_count": null,
   "metadata": {
    "collapsed": true
   },
   "outputs": [],
   "source": [
    "# https://matplotlib.org/1.2.1/examples/pylab_examples/errorbar_demo.html"
   ]
  },
  {
   "cell_type": "code",
   "execution_count": null,
   "metadata": {
    "collapsed": true
   },
   "outputs": [],
   "source": [
    "# https://stackoverflow.com/questions/22364565/python-pylab-scatter-plot-error-bars-the-error-on-each-point-is-unique"
   ]
  },
  {
   "cell_type": "markdown",
   "metadata": {},
   "source": [
    "### Independet varables (X):\n",
    "### Spotify API, Countries, Position, AvgStreams, AvgPosition, TextBlob, NLP"
   ]
  },
  {
   "cell_type": "markdown",
   "metadata": {},
   "source": [
    "Spotify API: Acousticness, Energy, Instrumentalness, Mode, Tempo, Valence<BR />\n",
    "Countries: au, ca, de, fr, gb, it, nl, us<BR />\n",
    "Position: 1-200<BR />\n",
    "TextBlob: Polarity, Subjectivity<BR />\n",
    "NLP: CountVec / TF-IDF"
   ]
  },
  {
   "cell_type": "markdown",
   "metadata": {},
   "source": [
    "**LinearRegressor**\n",
    "Random_State(24, 45, 93)"
   ]
  },
  {
   "cell_type": "markdown",
   "metadata": {},
   "source": [
    "Get the STD"
   ]
  },
  {
   "cell_type": "code",
   "execution_count": 285,
   "metadata": {},
   "outputs": [
    {
     "name": "stdout",
     "output_type": "stream",
     "text": [
      "0.005694508224194824\n",
      "0.07100166161906873\n",
      "0.07075671986192957\n",
      "0.01646133783802288\n",
      "0.009935040205793\n",
      "0.015027535824352232\n"
     ]
    }
   ],
   "source": [
    "# All features - cvec\n",
    "print(np.std([0.013486410677653882,0.018647294642352596,0.027289480032708258]))\n",
    "\n",
    "# Top 10 features - cvec\n",
    "print(np.std([0.15703025345048383,0.0027594332154159407,0.010353867606340716]))\n",
    "\n",
    "# Top 3 features - cvec\n",
    "print(np.std([0.14873571822331177,-0.007729319613470675,0.005940599633448396]))\n",
    "\n",
    "# All features - tvec\n",
    "print(np.std([0.021622186821517175,0.06084852472490698,0.04931998355658407]))\n",
    "\n",
    "# Top 10 features - tvec\n",
    "print(np.std([0.15924513606808388,0.1421096962323608,0.16564254674555934]))\n",
    "\n",
    "# Top 3 features - tvec\n",
    "print(np.std([0.15789602776517975,0.1214683266365274,0.14426340969288443]))"
   ]
  },
  {
   "cell_type": "markdown",
   "metadata": {},
   "source": [
    "Get average R2-score"
   ]
  },
  {
   "cell_type": "code",
   "execution_count": 294,
   "metadata": {},
   "outputs": [
    {
     "name": "stdout",
     "output_type": "stream",
     "text": [
      "0.01980772845090491\n",
      "0.056714518090746825\n",
      "0.04898233274776317\n",
      "0.04393023170100274\n",
      "0.15566579301533467\n",
      "0.1412092546981972\n"
     ]
    }
   ],
   "source": [
    "# All features - cvec\n",
    "print(np.mean([0.013486410677653882,0.018647294642352596,0.027289480032708258]))\n",
    "\n",
    "# Top 10 features - cvec\n",
    "print(np.mean([0.15703025345048383,0.0027594332154159407,0.010353867606340716]))\n",
    "\n",
    "# Top 3 features - cvec\n",
    "print(np.mean([0.14873571822331177,-0.007729319613470675,0.005940599633448396]))\n",
    "\n",
    "# All features - tvec\n",
    "print(np.mean([0.021622186821517175,0.06084852472490698,0.04931998355658407]))\n",
    "\n",
    "# Top 10 features - tvec\n",
    "print(np.mean([0.15924513606808388,0.1421096962323608,0.16564254674555934]))\n",
    "\n",
    "# Top 3 features - tvec\n",
    "print(np.mean([0.15789602776517975,0.1214683266365274,0.14426340969288443]))"
   ]
  },
  {
   "cell_type": "code",
   "execution_count": 295,
   "metadata": {},
   "outputs": [
    {
     "data": {
      "image/png": "[encoded data removed]",
      "text/plain": [
       "<matplotlib.figure.Figure at 0x1a830a4c50>"
      ]
     },
     "metadata": {},
     "output_type": "display_data"
    }
   ],
   "source": [
    "fig, ax = plt.subplots(figsize=(10,6))\n",
    "\n",
    "x = ['LR CV all', 'LR CV 10', 'LR CV 3', 'LR T-I all', 'LR T-I 10', 'LR T-I 3'] # model name\n",
    "y = [0.01980772845090491, 0.056714518090746825, 0.04898233274776317, 0.04393023170100274, 0.15566579301533467,\n",
    "     0.1412092546981972] # r2-score\n",
    "e = [0.005694508224194824, 0.07100166161906873, 0.07075671986192957, 0.01646133783802288, 0.009935040205793,\n",
    "     0.015027535824352232]  # STD\n",
    "\n",
    "ax.errorbar(x, y, yerr=e, fmt='o')\n",
    "plt.xlabel('Model');\n",
    "plt.ylabel('R2-score & MSE');\n",
    "plt.title('LinReg Comparison');\n",
    "plt.show()"
   ]
  },
  {
   "cell_type": "markdown",
   "metadata": {},
   "source": [
    "**LassoRegressor**\n",
    "Random_State(24, 45, 93)"
   ]
  },
  {
   "cell_type": "markdown",
   "metadata": {},
   "source": [
    "Get the STD"
   ]
  },
  {
   "cell_type": "code",
   "execution_count": 287,
   "metadata": {},
   "outputs": [
    {
     "name": "stdout",
     "output_type": "stream",
     "text": [
      "0.00782445994012733\n",
      "0.008059653615519377\n",
      "0.012810671029957805\n",
      "0.005308215956516318\n",
      "0.011322782189218176\n",
      "0.011620665131012188\n"
     ]
    }
   ],
   "source": [
    "# All features - cvec\n",
    "print(np.std([0.19040608132068992,0.17404653973931827,0.19087349675047416]))\n",
    "\n",
    "# Top 10 features - cvec\n",
    "print(np.std([0.1770206960698385,0.15962691995511147,0.1764110503213686]))\n",
    "\n",
    "# Top 3 features - cvec\n",
    "print(np.std([0.1674465753925105,0.14525202070823995,0.17556026163488325]))\n",
    "\n",
    "# All features - tvec\n",
    "print(np.std([0.20023665642903288,0.18785746246084,0.1906026621960759]))\n",
    "\n",
    "# Top 10 features - tvec\n",
    "print(np.std([0.18211786284966514,0.1584402023128172,0.1827870531239365]))\n",
    "\n",
    "# Top 3 features - tvec\n",
    "print(np.std([0.1687431653626070,0.14744257772330882,0.17444502999551348]))"
   ]
  },
  {
   "cell_type": "markdown",
   "metadata": {},
   "source": [
    "Get average R2-score"
   ]
  },
  {
   "cell_type": "code",
   "execution_count": 296,
   "metadata": {},
   "outputs": [
    {
     "name": "stdout",
     "output_type": "stream",
     "text": [
      "0.18510870593682746\n",
      "0.17101955544877287\n",
      "0.16275295257854458\n",
      "0.1928989270286496\n",
      "0.17444837276213962\n",
      "0.1635435910271431\n"
     ]
    }
   ],
   "source": [
    "# All features - cvec\n",
    "print(np.mean([0.19040608132068992,0.17404653973931827,0.19087349675047416]))\n",
    "\n",
    "# Top 10 features - cvec\n",
    "print(np.mean([0.1770206960698385,0.15962691995511147,0.1764110503213686]))\n",
    "\n",
    "# Top 3 features - cvec\n",
    "print(np.mean([0.1674465753925105,0.14525202070823995,0.17556026163488325]))\n",
    "\n",
    "# All features - tvec\n",
    "print(np.mean([0.20023665642903288,0.18785746246084,0.1906026621960759]))\n",
    "\n",
    "# Top 10 features - tvec\n",
    "print(np.mean([0.18211786284966514,0.1584402023128172,0.1827870531239365]))\n",
    "\n",
    "# Top 3 features - tvec\n",
    "print(np.mean([0.1687431653626070,0.14744257772330882,0.17444502999551348]))"
   ]
  },
  {
   "cell_type": "code",
   "execution_count": 297,
   "metadata": {},
   "outputs": [
    {
     "data": {
      "image/png": "[encoded data removed]",
      "text/plain": [
       "<matplotlib.figure.Figure at 0x1a830cfc88>"
      ]
     },
     "metadata": {},
     "output_type": "display_data"
    }
   ],
   "source": [
    "fig, ax = plt.subplots(figsize=(10,6))\n",
    "\n",
    "x = ['L CV all', 'L CV 10', 'L CV 3', 'L T-I all', 'L T-I 10', 'L T-I 3'] # model name\n",
    "y = [0.18510870593682746, 0.17101955544877287, 0.16275295257854458, 0.1928989270286496, 0.17444837276213962,\n",
    "     0.1635435910271431] # r2-score\n",
    "e = [0.00782445994012733, 0.008059653615519377, 0.012810671029957805, 0.005308215956516318, 0.011322782189218176,\n",
    "     0.011620665131012188]  # STD\n",
    "\n",
    "ax.errorbar(x, y, yerr=e, fmt='o')\n",
    "plt.xlabel('Model');\n",
    "plt.ylabel('R2-score & MSE');\n",
    "plt.title('Lasso Comparison');\n",
    "plt.show()"
   ]
  },
  {
   "cell_type": "markdown",
   "metadata": {},
   "source": [
    "**RandomForestRegressor**\n",
    "Random_State(24, 45, 93)"
   ]
  },
  {
   "cell_type": "markdown",
   "metadata": {},
   "source": [
    "Get the STD"
   ]
  },
  {
   "cell_type": "code",
   "execution_count": 289,
   "metadata": {},
   "outputs": [
    {
     "name": "stdout",
     "output_type": "stream",
     "text": [
      "0.01478061819522192\n",
      "0.022013631899256494\n",
      "0.013679632616335887\n",
      "0.0017035008923659354\n",
      "0.01929202589241116\n",
      "0.014925879144076528\n"
     ]
    }
   ],
   "source": [
    "# All features - cvec\n",
    "print(np.std([0.23981061254827155,0.20839979033017253,0.23969751428034336]))\n",
    "\n",
    "# Top 10 features - cvec\n",
    "print(np.std([0.2147670028572991,0.17549301752127533,0.22712790870077038]))\n",
    "\n",
    "# Top 3 features - cvec\n",
    "print(np.std([0.1638699609332285,0.134997303469086,0.16416023420397396]))\n",
    "\n",
    "# All features - tvec\n",
    "print(np.std([0.22945469325352852,0.22614904270409752,0.2300071173162116]))\n",
    "\n",
    "# Top 10 features - tvec\n",
    "print(np.std([0.19794165559197285,0.16863917510348325,0.21539716949022658]))\n",
    "\n",
    "# Top 3 features - tvec\n",
    "print(np.std([0.17616744455605482,0.14352678606807037,0.17411101965516518]))"
   ]
  },
  {
   "cell_type": "markdown",
   "metadata": {},
   "source": [
    "Get average R2-score"
   ]
  },
  {
   "cell_type": "code",
   "execution_count": 298,
   "metadata": {},
   "outputs": [
    {
     "name": "stdout",
     "output_type": "stream",
     "text": [
      "0.22930263905292914\n",
      "0.2057959763597816\n",
      "0.15434249953542947\n",
      "0.22853695109127922\n",
      "0.1939926667285609\n",
      "0.16460175009309677\n"
     ]
    }
   ],
   "source": [
    "# All features - cvec\n",
    "print(np.mean([0.23981061254827155,0.20839979033017253,0.23969751428034336]))\n",
    "\n",
    "# Top 10 features - cvec\n",
    "print(np.mean([0.2147670028572991,0.17549301752127533,0.22712790870077038]))\n",
    "\n",
    "# Top 3 features - cvec\n",
    "print(np.mean([0.1638699609332285,0.134997303469086,0.16416023420397396]))\n",
    "\n",
    "# All features - tvec\n",
    "print(np.mean([0.22945469325352852,0.22614904270409752,0.2300071173162116]))\n",
    "\n",
    "# Top 10 features - tvec\n",
    "print(np.mean([0.19794165559197285,0.16863917510348325,0.21539716949022658]))\n",
    "\n",
    "# Top 3 features - tvec\n",
    "print(np.mean([0.17616744455605482,0.14352678606807037,0.17411101965516518]))"
   ]
  },
  {
   "cell_type": "code",
   "execution_count": 299,
   "metadata": {},
   "outputs": [
    {
     "data": {
      "image/png": "[encoded data removed]",
      "text/plain": [
       "<matplotlib.figure.Figure at 0x1a7ec34b38>"
      ]
     },
     "metadata": {},
     "output_type": "display_data"
    }
   ],
   "source": [
    "fig, ax = plt.subplots(figsize=(10,6))\n",
    "\n",
    "x = ['RF CV all', 'RF CV 10', 'RF CV 3', 'RF T-I all', 'RF T-I 10', 'RF T-I 3'] # model name\n",
    "y = [0.22930263905292914, 0.2057959763597816, 0.15434249953542947, 0.22853695109127922, 0.1939926667285609,\n",
    "     0.16460175009309677] # r2-score\n",
    "e = [0.01478061819522192, 0.022013631899256494, 0.013679632616335887, 0.0017035008923659354, 0.01929202589241116,\n",
    "     0.014925879144076528]  # STD\n",
    "\n",
    "ax.errorbar(x, y, yerr=e, fmt='o')\n",
    "plt.xlabel('Model');\n",
    "plt.ylabel('R2-score & MSE');\n",
    "plt.title('Random Forest Comparison');\n",
    "plt.show()"
   ]
  },
  {
   "cell_type": "markdown",
   "metadata": {},
   "source": [
    "**AdaBoosterRegressor+GradientBoosterRegressor**\n",
    "Random_State(24, 45, 93)"
   ]
  },
  {
   "cell_type": "markdown",
   "metadata": {},
   "source": [
    "Get the STD"
   ]
  },
  {
   "cell_type": "code",
   "execution_count": 291,
   "metadata": {},
   "outputs": [
    {
     "name": "stdout",
     "output_type": "stream",
     "text": [
      "0.015832507920900254\n",
      "0.024523856915139964\n",
      "0.016774498230224536\n",
      "0.015011085455874528\n",
      "0.007512834117773193\n",
      "0.006158955906027438\n",
      "0.020294067617671097\n",
      "0.016207475515845865\n"
     ]
    }
   ],
   "source": [
    "# Ada - cvec\n",
    "print(np.std([0.1647279913503793,0.1260161744267283,0.14335867665868918]))\n",
    "\n",
    "# Gradient - All features - cvec\n",
    "print(np.std([0.2384226323540044,0.19561866237021341,0.2535206901866619]))\n",
    "\n",
    "# Gradient - Top 10 features - cvec\n",
    "print(np.std([0.17780645284450913,0.14824439498337494,0.18773960223737296]))\n",
    "\n",
    "# Gradient - Top 3 features - cvec\n",
    "print(np.std([0.15909022715580334,0.13456193157934704,0.1705488348277141]))\n",
    "\n",
    "# Ada - tvec\n",
    "print(np.std([0.14338493550827192,0.12579045980554426,0.1392586571648562]))\n",
    "\n",
    "# Gradient - All features - tvec\n",
    "print(np.std([0.2362633185213301,0.2211882713240544,0.22923030888254725]))\n",
    "\n",
    "# Gradient - Top 10 features - tvec\n",
    "print(np.std([0.1706690669450912,0.1580145238694437,0.20597373286852028]))\n",
    "\n",
    "# Gradient - Top 3 features - tvec\n",
    "print(np.std([0.15778723525858485,0.1292902572459732,0.1674764124876682]))"
   ]
  },
  {
   "cell_type": "markdown",
   "metadata": {},
   "source": [
    "Get average R2-score"
   ]
  },
  {
   "cell_type": "code",
   "execution_count": 300,
   "metadata": {},
   "outputs": [
    {
     "name": "stdout",
     "output_type": "stream",
     "text": [
      "0.14470094747859893\n",
      "0.22918732830362656\n",
      "0.17126348335508568\n",
      "0.15473366452095483\n",
      "0.13614468415955747\n",
      "0.2288939662426439\n",
      "0.17821910789435172\n",
      "0.15151796833074208\n"
     ]
    }
   ],
   "source": [
    "# Ada - cvec\n",
    "print(np.mean([0.1647279913503793,0.1260161744267283,0.14335867665868918]))\n",
    "\n",
    "# Gradient - All features - cvec\n",
    "print(np.mean([0.2384226323540044,0.19561866237021341,0.2535206901866619]))\n",
    "\n",
    "# Gradient - Top 10 features - cvec\n",
    "print(np.mean([0.17780645284450913,0.14824439498337494,0.18773960223737296]))\n",
    "\n",
    "# Gradient - Top 3 features - cvec\n",
    "print(np.mean([0.15909022715580334,0.13456193157934704,0.1705488348277141]))\n",
    "\n",
    "# Ada - tvec\n",
    "print(np.mean([0.14338493550827192,0.12579045980554426,0.1392586571648562]))\n",
    "\n",
    "# Gradient - All features - tvec\n",
    "print(np.mean([0.2362633185213301,0.2211882713240544,0.22923030888254725]))\n",
    "\n",
    "# Gradient - Top 10 features - tvec\n",
    "print(np.mean([0.1706690669450912,0.1580145238694437,0.20597373286852028]))\n",
    "\n",
    "# Gradient - Top 3 features - tvec\n",
    "print(np.mean([0.15778723525858485,0.1292902572459732,0.1674764124876682]))"
   ]
  },
  {
   "cell_type": "code",
   "execution_count": 301,
   "metadata": {},
   "outputs": [
    {
     "data": {
      "image/png": "[encoded data removed]",
      "text/plain": [
       "<matplotlib.figure.Figure at 0x1a7eb9c7b8>"
      ]
     },
     "metadata": {},
     "output_type": "display_data"
    }
   ],
   "source": [
    "fig, ax = plt.subplots(figsize=(10,6))\n",
    "\n",
    "x = ['AB CV all','GB CV all', 'GB CV 10', 'GB CV 3', 'AB T-I all', 'GB T-I all', 'GB T-I 10', 'GB T-I 3'] # model name\n",
    "y = [0.14470094747859893, 0.22918732830362656, 0.17126348335508568, 0.15473366452095483, 0.13614468415955747,\n",
    "     0.2288939662426439, 0.17821910789435172, 0.15151796833074208] # r2-score\n",
    "e = [0.015832507920900254, 0.024523856915139964, 0.016774498230224536, 0.015011085455874528, 0.007512834117773193,\n",
    "     0.006158955906027438, 0.020294067617671097, 0.016207475515845865]  # STD\n",
    "\n",
    "ax.errorbar(x, y, yerr=e, fmt='o')\n",
    "plt.xlabel('Model');\n",
    "plt.ylabel('R2-score & MSE');\n",
    "plt.title('Ada & Grandient Boosting Comparison');\n",
    "plt.show()"
   ]
  },
  {
   "cell_type": "markdown",
   "metadata": {},
   "source": [
    "**Best from each Model-type**\n",
    "Random_State(24, 45, 93)"
   ]
  },
  {
   "cell_type": "code",
   "execution_count": 302,
   "metadata": {},
   "outputs": [
    {
     "data": {
      "image/png": "[encoded data removed]",
      "text/plain": [
       "<matplotlib.figure.Figure at 0x1a7f46d400>"
      ]
     },
     "metadata": {},
     "output_type": "display_data"
    }
   ],
   "source": [
    "fig, ax = plt.subplots(figsize=(10,6))\n",
    "\n",
    "x = ['LinReg TF-IDF 10', 'Lasso TF-IDF all', 'RF CountVec all', 'GradBoost CountVec all'] # model name\n",
    "y = [0.15566579301533467, 0.1928989270286496, 0.22930263905292914, 0.22918732830362656] # r2-score\n",
    "e = [0.009935040205793, 0.005308215956516318, 0.01478061819522192, 0.024523856915139964] # STD\n",
    "\n",
    "plt.errorbar(x, y, yerr=e, fmt='o')\n",
    "plt.xlabel('Model');\n",
    "plt.ylabel('R2-score & MSE');\n",
    "plt.title('Best Model Comparison');\n",
    "plt.show()"
   ]
  },
  {
   "cell_type": "code",
   "execution_count": null,
   "metadata": {
    "collapsed": true
   },
   "outputs": [],
   "source": []
  },
  {
   "cell_type": "code",
   "execution_count": null,
   "metadata": {
    "collapsed": true
   },
   "outputs": [],
   "source": []
  },
  {
   "cell_type": "code",
   "execution_count": null,
   "metadata": {
    "collapsed": true
   },
   "outputs": [],
   "source": []
  }
 ],
 "metadata": {
  "kernelspec": {
   "display_name": "Python [default]",
   "language": "python",
   "name": "python3"
  },
  "language_info": {
   "codemirror_mode": {
    "name": "ipython",
    "version": 3
   },
   "file_extension": ".py",
   "mimetype": "text/x-python",
   "name": "python",
   "nbconvert_exporter": "python",
   "pygments_lexer": "ipython3",
   "version": "3.6.3"
  }
 },
 "nbformat": 4,
 "nbformat_minor": 2
}
