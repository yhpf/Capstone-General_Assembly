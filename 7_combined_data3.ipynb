{
 "cells": [
  {
   "cell_type": "markdown",
   "metadata": {},
   "source": [
    "# Combinding data to one Data Frame 3"
   ]
  },
  {
   "cell_type": "code",
   "execution_count": 1,
   "metadata": {
    "collapsed": true
   },
   "outputs": [],
   "source": [
    "import pandas as pd\n",
    "import numpy as np"
   ]
  },
  {
   "cell_type": "code",
   "execution_count": 2,
   "metadata": {
    "collapsed": true
   },
   "outputs": [
    {
     "name": "stderr",
     "output_type": "stream",
     "text": [
      "/anaconda3/lib/python3.6/site-packages/IPython/core/interactiveshell.py:2698: DtypeWarning: Columns (12) have mixed types. Specify dtype option on import or set low_memory=False.\n",
      "  interactivity=interactivity, compiler=compiler, result=result)\n"
     ]
    }
   ],
   "source": [
    "data = pd.read_csv('./songs_lyrics_api_data.csv')"
   ]
  },
  {
   "cell_type": "code",
   "execution_count": 3,
   "metadata": {
    "collapsed": true
   },
   "outputs": [],
   "source": [
    "genius = pd.read_csv('./genius_unique.csv')"
   ]
  },
  {
   "cell_type": "code",
   "execution_count": 4,
   "metadata": {},
   "outputs": [
    {
     "data": {
      "text/html": [
       "<div>\n",
       "<style>\n",
       "    .dataframe thead tr:only-child th {\n",
       "        text-align: right;\n",
       "    }\n",
       "\n",
       "    .dataframe thead th {\n",
       "        text-align: left;\n",
       "    }\n",
       "\n",
       "    .dataframe tbody tr th {\n",
       "        vertical-align: top;\n",
       "    }\n",
       "</style>\n",
       "<table border=\"1\" class=\"dataframe\">\n",
       "  <thead>\n",
       "    <tr style=\"text-align: right;\">\n",
       "      <th></th>\n",
       "      <th>Unnamed: 0</th>\n",
       "      <th>Position</th>\n",
       "      <th>Streams</th>\n",
       "      <th>Track Name</th>\n",
       "      <th>Artist</th>\n",
       "      <th>ID</th>\n",
       "      <th>Date</th>\n",
       "      <th>Year</th>\n",
       "      <th>Month</th>\n",
       "      <th>Day</th>\n",
       "      <th>Country</th>\n",
       "      <th>Region</th>\n",
       "      <th>Lyrics</th>\n",
       "      <th>Acousticness</th>\n",
       "      <th>Energy</th>\n",
       "      <th>Instrumentalness</th>\n",
       "      <th>Mode</th>\n",
       "      <th>Tempo</th>\n",
       "      <th>Valence</th>\n",
       "    </tr>\n",
       "  </thead>\n",
       "  <tbody>\n",
       "    <tr>\n",
       "      <th>0</th>\n",
       "      <td>0</td>\n",
       "      <td>197</td>\n",
       "      <td>1005</td>\n",
       "      <td>Bailemos juntos</td>\n",
       "      <td>#TocoParaVos</td>\n",
       "      <td>4LEzZn6vpMkQAQuwFInnSh</td>\n",
       "      <td>2017-01-01</td>\n",
       "      <td>2017</td>\n",
       "      <td>1</td>\n",
       "      <td>1</td>\n",
       "      <td>uy</td>\n",
       "      <td>sa</td>\n",
       "      <td>NaN</td>\n",
       "      <td>0.1160</td>\n",
       "      <td>0.596</td>\n",
       "      <td>0.0</td>\n",
       "      <td>0.0</td>\n",
       "      <td>111.938</td>\n",
       "      <td>0.579</td>\n",
       "    </tr>\n",
       "    <tr>\n",
       "      <th>1</th>\n",
       "      <td>1</td>\n",
       "      <td>162</td>\n",
       "      <td>14864</td>\n",
       "      <td>Enganchado #TocoParaVos - Cumbia Mix</td>\n",
       "      <td>#TocoParaVos</td>\n",
       "      <td>7zW4IqrzU6dTLw3CM72Qbo</td>\n",
       "      <td>2017-01-07</td>\n",
       "      <td>2017</td>\n",
       "      <td>1</td>\n",
       "      <td>7</td>\n",
       "      <td>ar</td>\n",
       "      <td>sa</td>\n",
       "      <td>NaN</td>\n",
       "      <td>0.0197</td>\n",
       "      <td>0.435</td>\n",
       "      <td>0.0</td>\n",
       "      <td>0.0</td>\n",
       "      <td>108.994</td>\n",
       "      <td>0.736</td>\n",
       "    </tr>\n",
       "    <tr>\n",
       "      <th>2</th>\n",
       "      <td>2</td>\n",
       "      <td>190</td>\n",
       "      <td>11133</td>\n",
       "      <td>Enganchado #TocoParaVos - Cumbia Mix</td>\n",
       "      <td>#TocoParaVos</td>\n",
       "      <td>7zW4IqrzU6dTLw3CM72Qbo</td>\n",
       "      <td>2017-01-08</td>\n",
       "      <td>2017</td>\n",
       "      <td>1</td>\n",
       "      <td>8</td>\n",
       "      <td>ar</td>\n",
       "      <td>sa</td>\n",
       "      <td>NaN</td>\n",
       "      <td>0.0197</td>\n",
       "      <td>0.435</td>\n",
       "      <td>0.0</td>\n",
       "      <td>0.0</td>\n",
       "      <td>108.994</td>\n",
       "      <td>0.736</td>\n",
       "    </tr>\n",
       "    <tr>\n",
       "      <th>3</th>\n",
       "      <td>3</td>\n",
       "      <td>188</td>\n",
       "      <td>13736</td>\n",
       "      <td>Enganchado #TocoParaVos - Cumbia Mix</td>\n",
       "      <td>#TocoParaVos</td>\n",
       "      <td>7zW4IqrzU6dTLw3CM72Qbo</td>\n",
       "      <td>2017-01-14</td>\n",
       "      <td>2017</td>\n",
       "      <td>1</td>\n",
       "      <td>14</td>\n",
       "      <td>ar</td>\n",
       "      <td>sa</td>\n",
       "      <td>NaN</td>\n",
       "      <td>0.0197</td>\n",
       "      <td>0.435</td>\n",
       "      <td>0.0</td>\n",
       "      <td>0.0</td>\n",
       "      <td>108.994</td>\n",
       "      <td>0.736</td>\n",
       "    </tr>\n",
       "    <tr>\n",
       "      <th>4</th>\n",
       "      <td>4</td>\n",
       "      <td>166</td>\n",
       "      <td>1148</td>\n",
       "      <td>Enganchado #TocoParaVos - Cumbia Mix</td>\n",
       "      <td>#TocoParaVos</td>\n",
       "      <td>7zW4IqrzU6dTLw3CM72Qbo</td>\n",
       "      <td>2017-01-06</td>\n",
       "      <td>2017</td>\n",
       "      <td>1</td>\n",
       "      <td>6</td>\n",
       "      <td>uy</td>\n",
       "      <td>sa</td>\n",
       "      <td>NaN</td>\n",
       "      <td>0.0197</td>\n",
       "      <td>0.435</td>\n",
       "      <td>0.0</td>\n",
       "      <td>0.0</td>\n",
       "      <td>108.994</td>\n",
       "      <td>0.736</td>\n",
       "    </tr>\n",
       "  </tbody>\n",
       "</table>\n",
       "</div>"
      ],
      "text/plain": [
       "   Unnamed: 0  Position  Streams                            Track Name  \\\n",
       "0           0       197     1005                       Bailemos juntos   \n",
       "1           1       162    14864  Enganchado #TocoParaVos - Cumbia Mix   \n",
       "2           2       190    11133  Enganchado #TocoParaVos - Cumbia Mix   \n",
       "3           3       188    13736  Enganchado #TocoParaVos - Cumbia Mix   \n",
       "4           4       166     1148  Enganchado #TocoParaVos - Cumbia Mix   \n",
       "\n",
       "         Artist                      ID        Date  Year  Month  Day Country  \\\n",
       "0  #TocoParaVos  4LEzZn6vpMkQAQuwFInnSh  2017-01-01  2017      1    1      uy   \n",
       "1  #TocoParaVos  7zW4IqrzU6dTLw3CM72Qbo  2017-01-07  2017      1    7      ar   \n",
       "2  #TocoParaVos  7zW4IqrzU6dTLw3CM72Qbo  2017-01-08  2017      1    8      ar   \n",
       "3  #TocoParaVos  7zW4IqrzU6dTLw3CM72Qbo  2017-01-14  2017      1   14      ar   \n",
       "4  #TocoParaVos  7zW4IqrzU6dTLw3CM72Qbo  2017-01-06  2017      1    6      uy   \n",
       "\n",
       "  Region Lyrics  Acousticness  Energy  Instrumentalness  Mode    Tempo  \\\n",
       "0     sa    NaN        0.1160   0.596               0.0   0.0  111.938   \n",
       "1     sa    NaN        0.0197   0.435               0.0   0.0  108.994   \n",
       "2     sa    NaN        0.0197   0.435               0.0   0.0  108.994   \n",
       "3     sa    NaN        0.0197   0.435               0.0   0.0  108.994   \n",
       "4     sa    NaN        0.0197   0.435               0.0   0.0  108.994   \n",
       "\n",
       "   Valence  \n",
       "0    0.579  \n",
       "1    0.736  \n",
       "2    0.736  \n",
       "3    0.736  \n",
       "4    0.736  "
      ]
     },
     "execution_count": 4,
     "metadata": {},
     "output_type": "execute_result"
    }
   ],
   "source": [
    "data.head()"
   ]
  },
  {
   "cell_type": "code",
   "execution_count": 5,
   "metadata": {},
   "outputs": [
    {
     "data": {
      "text/html": [
       "<div>\n",
       "<style>\n",
       "    .dataframe thead tr:only-child th {\n",
       "        text-align: right;\n",
       "    }\n",
       "\n",
       "    .dataframe thead th {\n",
       "        text-align: left;\n",
       "    }\n",
       "\n",
       "    .dataframe tbody tr th {\n",
       "        vertical-align: top;\n",
       "    }\n",
       "</style>\n",
       "<table border=\"1\" class=\"dataframe\">\n",
       "  <thead>\n",
       "    <tr style=\"text-align: right;\">\n",
       "      <th></th>\n",
       "      <th>Unnamed: 0</th>\n",
       "      <th>ID</th>\n",
       "      <th>Lyrics</th>\n",
       "    </tr>\n",
       "  </thead>\n",
       "  <tbody>\n",
       "    <tr>\n",
       "      <th>0</th>\n",
       "      <td>1054</td>\n",
       "      <td>2xkxBVJHf9jQsq7g46UtQx</td>\n",
       "      <td>J'ai fait l'aller, j'suis sur le retour\\nLa ma...</td>\n",
       "    </tr>\n",
       "    <tr>\n",
       "      <th>1</th>\n",
       "      <td>1056</td>\n",
       "      <td>69RclklKbEelwfQJCBzh0m</td>\n",
       "      <td>13 Blo' gang, tu sais d'jà comment on opère mo...</td>\n",
       "    </tr>\n",
       "    <tr>\n",
       "      <th>2</th>\n",
       "      <td>1083</td>\n",
       "      <td>3ruUVcomUKxPlX8srBfMua</td>\n",
       "      <td>Ich schwör' dir, wenn ich mal Kohle mache, dan...</td>\n",
       "    </tr>\n",
       "    <tr>\n",
       "      <th>3</th>\n",
       "      <td>1121</td>\n",
       "      <td>6L6f5Xg6HJEJbHDDuGBgCE</td>\n",
       "      <td>Daimler frisiert, zweimal foliert\\nGazi hat an...</td>\n",
       "    </tr>\n",
       "    <tr>\n",
       "      <th>4</th>\n",
       "      <td>1125</td>\n",
       "      <td>7hCJgEQQqOlQrWQ9iOZ495</td>\n",
       "      <td>Ich brauch' Hunderterbatzen, Klunker um'n Nack...</td>\n",
       "    </tr>\n",
       "  </tbody>\n",
       "</table>\n",
       "</div>"
      ],
      "text/plain": [
       "   Unnamed: 0                      ID  \\\n",
       "0        1054  2xkxBVJHf9jQsq7g46UtQx   \n",
       "1        1056  69RclklKbEelwfQJCBzh0m   \n",
       "2        1083  3ruUVcomUKxPlX8srBfMua   \n",
       "3        1121  6L6f5Xg6HJEJbHDDuGBgCE   \n",
       "4        1125  7hCJgEQQqOlQrWQ9iOZ495   \n",
       "\n",
       "                                              Lyrics  \n",
       "0  J'ai fait l'aller, j'suis sur le retour\\nLa ma...  \n",
       "1  13 Blo' gang, tu sais d'jà comment on opère mo...  \n",
       "2  Ich schwör' dir, wenn ich mal Kohle mache, dan...  \n",
       "3  Daimler frisiert, zweimal foliert\\nGazi hat an...  \n",
       "4  Ich brauch' Hunderterbatzen, Klunker um'n Nack...  "
      ]
     },
     "execution_count": 5,
     "metadata": {},
     "output_type": "execute_result"
    }
   ],
   "source": [
    "genius.head()"
   ]
  },
  {
   "cell_type": "code",
   "execution_count": 7,
   "metadata": {},
   "outputs": [
    {
     "data": {
      "text/plain": [
       "(3355829, 19)"
      ]
     },
     "execution_count": 7,
     "metadata": {},
     "output_type": "execute_result"
    }
   ],
   "source": [
    "data.shape"
   ]
  },
  {
   "cell_type": "code",
   "execution_count": 33,
   "metadata": {},
   "outputs": [
    {
     "data": {
      "text/plain": [
       "(3350, 3)"
      ]
     },
     "execution_count": 33,
     "metadata": {},
     "output_type": "execute_result"
    }
   ],
   "source": [
    "genius.shape"
   ]
  },
  {
   "cell_type": "markdown",
   "metadata": {},
   "source": [
    "The Genius data only contain lyrics for the ID where the lyrics was Nan in the Data data frame. \n",
    "Therefore a laft merge om ID is possible."
   ]
  },
  {
   "cell_type": "code",
   "execution_count": 34,
   "metadata": {
    "collapsed": true
   },
   "outputs": [],
   "source": [
    "df = data.merge(genius, how='left', on='ID', indicator=True)"
   ]
  },
  {
   "cell_type": "code",
   "execution_count": 35,
   "metadata": {},
   "outputs": [
    {
     "data": {
      "text/plain": [
       "left_only     3158584\n",
       "both           197245\n",
       "right_only          0\n",
       "Name: _merge, dtype: int64"
      ]
     },
     "execution_count": 35,
     "metadata": {},
     "output_type": "execute_result"
    }
   ],
   "source": [
    "df['_merge'].value_counts()"
   ]
  },
  {
   "cell_type": "code",
   "execution_count": 36,
   "metadata": {},
   "outputs": [
    {
     "data": {
      "text/plain": [
       "2177692"
      ]
     },
     "execution_count": 36,
     "metadata": {},
     "output_type": "execute_result"
    }
   ],
   "source": [
    "df['Lyrics_x'].isnull().sum()"
   ]
  },
  {
   "cell_type": "code",
   "execution_count": 37,
   "metadata": {},
   "outputs": [
    {
     "data": {
      "text/plain": [
       "1980554"
      ]
     },
     "execution_count": 37,
     "metadata": {},
     "output_type": "execute_result"
    }
   ],
   "source": [
    "df['Lyrics_x'].fillna(df['Lyrics_y']).isnull().sum()"
   ]
  },
  {
   "cell_type": "code",
   "execution_count": 42,
   "metadata": {
    "collapsed": true
   },
   "outputs": [],
   "source": [
    "# combine Lyrics_x and Lyrics_y column into one column\n",
    "df['Lyrics_x'].fillna(df['Lyrics_y'],inplace=True)"
   ]
  },
  {
   "cell_type": "code",
   "execution_count": 39,
   "metadata": {},
   "outputs": [
    {
     "data": {
      "text/plain": [
       "(3355829, 22)"
      ]
     },
     "execution_count": 39,
     "metadata": {},
     "output_type": "execute_result"
    }
   ],
   "source": [
    "df.shape"
   ]
  },
  {
   "cell_type": "code",
   "execution_count": 40,
   "metadata": {
    "collapsed": true
   },
   "outputs": [],
   "source": [
    "# drop some columns that I do not need\n",
    "df = df.drop(['Unnamed: 0_x','Unnamed: 0_y'], axis=1)"
   ]
  },
  {
   "cell_type": "code",
   "execution_count": 41,
   "metadata": {},
   "outputs": [
    {
     "data": {
      "text/html": [
       "<div>\n",
       "<style>\n",
       "    .dataframe thead tr:only-child th {\n",
       "        text-align: right;\n",
       "    }\n",
       "\n",
       "    .dataframe thead th {\n",
       "        text-align: left;\n",
       "    }\n",
       "\n",
       "    .dataframe tbody tr th {\n",
       "        vertical-align: top;\n",
       "    }\n",
       "</style>\n",
       "<table border=\"1\" class=\"dataframe\">\n",
       "  <thead>\n",
       "    <tr style=\"text-align: right;\">\n",
       "      <th></th>\n",
       "      <th>Position</th>\n",
       "      <th>Streams</th>\n",
       "      <th>Track Name</th>\n",
       "      <th>Artist</th>\n",
       "      <th>ID</th>\n",
       "      <th>Date</th>\n",
       "      <th>Year</th>\n",
       "      <th>Month</th>\n",
       "      <th>Day</th>\n",
       "      <th>Country</th>\n",
       "      <th>Region</th>\n",
       "      <th>Lyrics_x</th>\n",
       "      <th>Acousticness</th>\n",
       "      <th>Energy</th>\n",
       "      <th>Instrumentalness</th>\n",
       "      <th>Mode</th>\n",
       "      <th>Tempo</th>\n",
       "      <th>Valence</th>\n",
       "      <th>Lyrics_y</th>\n",
       "      <th>_merge</th>\n",
       "    </tr>\n",
       "  </thead>\n",
       "  <tbody>\n",
       "    <tr>\n",
       "      <th>0</th>\n",
       "      <td>197</td>\n",
       "      <td>1005</td>\n",
       "      <td>Bailemos juntos</td>\n",
       "      <td>#TocoParaVos</td>\n",
       "      <td>4LEzZn6vpMkQAQuwFInnSh</td>\n",
       "      <td>2017-01-01</td>\n",
       "      <td>2017</td>\n",
       "      <td>1</td>\n",
       "      <td>1</td>\n",
       "      <td>uy</td>\n",
       "      <td>sa</td>\n",
       "      <td>NaN</td>\n",
       "      <td>0.1160</td>\n",
       "      <td>0.596</td>\n",
       "      <td>0.0</td>\n",
       "      <td>0.0</td>\n",
       "      <td>111.938</td>\n",
       "      <td>0.579</td>\n",
       "      <td>NaN</td>\n",
       "      <td>left_only</td>\n",
       "    </tr>\n",
       "    <tr>\n",
       "      <th>1</th>\n",
       "      <td>162</td>\n",
       "      <td>14864</td>\n",
       "      <td>Enganchado #TocoParaVos - Cumbia Mix</td>\n",
       "      <td>#TocoParaVos</td>\n",
       "      <td>7zW4IqrzU6dTLw3CM72Qbo</td>\n",
       "      <td>2017-01-07</td>\n",
       "      <td>2017</td>\n",
       "      <td>1</td>\n",
       "      <td>7</td>\n",
       "      <td>ar</td>\n",
       "      <td>sa</td>\n",
       "      <td>NaN</td>\n",
       "      <td>0.0197</td>\n",
       "      <td>0.435</td>\n",
       "      <td>0.0</td>\n",
       "      <td>0.0</td>\n",
       "      <td>108.994</td>\n",
       "      <td>0.736</td>\n",
       "      <td>NaN</td>\n",
       "      <td>left_only</td>\n",
       "    </tr>\n",
       "    <tr>\n",
       "      <th>2</th>\n",
       "      <td>190</td>\n",
       "      <td>11133</td>\n",
       "      <td>Enganchado #TocoParaVos - Cumbia Mix</td>\n",
       "      <td>#TocoParaVos</td>\n",
       "      <td>7zW4IqrzU6dTLw3CM72Qbo</td>\n",
       "      <td>2017-01-08</td>\n",
       "      <td>2017</td>\n",
       "      <td>1</td>\n",
       "      <td>8</td>\n",
       "      <td>ar</td>\n",
       "      <td>sa</td>\n",
       "      <td>NaN</td>\n",
       "      <td>0.0197</td>\n",
       "      <td>0.435</td>\n",
       "      <td>0.0</td>\n",
       "      <td>0.0</td>\n",
       "      <td>108.994</td>\n",
       "      <td>0.736</td>\n",
       "      <td>NaN</td>\n",
       "      <td>left_only</td>\n",
       "    </tr>\n",
       "    <tr>\n",
       "      <th>3</th>\n",
       "      <td>188</td>\n",
       "      <td>13736</td>\n",
       "      <td>Enganchado #TocoParaVos - Cumbia Mix</td>\n",
       "      <td>#TocoParaVos</td>\n",
       "      <td>7zW4IqrzU6dTLw3CM72Qbo</td>\n",
       "      <td>2017-01-14</td>\n",
       "      <td>2017</td>\n",
       "      <td>1</td>\n",
       "      <td>14</td>\n",
       "      <td>ar</td>\n",
       "      <td>sa</td>\n",
       "      <td>NaN</td>\n",
       "      <td>0.0197</td>\n",
       "      <td>0.435</td>\n",
       "      <td>0.0</td>\n",
       "      <td>0.0</td>\n",
       "      <td>108.994</td>\n",
       "      <td>0.736</td>\n",
       "      <td>NaN</td>\n",
       "      <td>left_only</td>\n",
       "    </tr>\n",
       "    <tr>\n",
       "      <th>4</th>\n",
       "      <td>166</td>\n",
       "      <td>1148</td>\n",
       "      <td>Enganchado #TocoParaVos - Cumbia Mix</td>\n",
       "      <td>#TocoParaVos</td>\n",
       "      <td>7zW4IqrzU6dTLw3CM72Qbo</td>\n",
       "      <td>2017-01-06</td>\n",
       "      <td>2017</td>\n",
       "      <td>1</td>\n",
       "      <td>6</td>\n",
       "      <td>uy</td>\n",
       "      <td>sa</td>\n",
       "      <td>NaN</td>\n",
       "      <td>0.0197</td>\n",
       "      <td>0.435</td>\n",
       "      <td>0.0</td>\n",
       "      <td>0.0</td>\n",
       "      <td>108.994</td>\n",
       "      <td>0.736</td>\n",
       "      <td>NaN</td>\n",
       "      <td>left_only</td>\n",
       "    </tr>\n",
       "  </tbody>\n",
       "</table>\n",
       "</div>"
      ],
      "text/plain": [
       "   Position  Streams                            Track Name        Artist  \\\n",
       "0       197     1005                       Bailemos juntos  #TocoParaVos   \n",
       "1       162    14864  Enganchado #TocoParaVos - Cumbia Mix  #TocoParaVos   \n",
       "2       190    11133  Enganchado #TocoParaVos - Cumbia Mix  #TocoParaVos   \n",
       "3       188    13736  Enganchado #TocoParaVos - Cumbia Mix  #TocoParaVos   \n",
       "4       166     1148  Enganchado #TocoParaVos - Cumbia Mix  #TocoParaVos   \n",
       "\n",
       "                       ID        Date  Year  Month  Day Country Region  \\\n",
       "0  4LEzZn6vpMkQAQuwFInnSh  2017-01-01  2017      1    1      uy     sa   \n",
       "1  7zW4IqrzU6dTLw3CM72Qbo  2017-01-07  2017      1    7      ar     sa   \n",
       "2  7zW4IqrzU6dTLw3CM72Qbo  2017-01-08  2017      1    8      ar     sa   \n",
       "3  7zW4IqrzU6dTLw3CM72Qbo  2017-01-14  2017      1   14      ar     sa   \n",
       "4  7zW4IqrzU6dTLw3CM72Qbo  2017-01-06  2017      1    6      uy     sa   \n",
       "\n",
       "  Lyrics_x  Acousticness  Energy  Instrumentalness  Mode    Tempo  Valence  \\\n",
       "0      NaN        0.1160   0.596               0.0   0.0  111.938    0.579   \n",
       "1      NaN        0.0197   0.435               0.0   0.0  108.994    0.736   \n",
       "2      NaN        0.0197   0.435               0.0   0.0  108.994    0.736   \n",
       "3      NaN        0.0197   0.435               0.0   0.0  108.994    0.736   \n",
       "4      NaN        0.0197   0.435               0.0   0.0  108.994    0.736   \n",
       "\n",
       "  Lyrics_y     _merge  \n",
       "0      NaN  left_only  \n",
       "1      NaN  left_only  \n",
       "2      NaN  left_only  \n",
       "3      NaN  left_only  \n",
       "4      NaN  left_only  "
      ]
     },
     "execution_count": 41,
     "metadata": {},
     "output_type": "execute_result"
    }
   ],
   "source": [
    "df.head()"
   ]
  },
  {
   "cell_type": "code",
   "execution_count": null,
   "metadata": {
    "collapsed": true
   },
   "outputs": [],
   "source": []
  },
  {
   "cell_type": "code",
   "execution_count": null,
   "metadata": {
    "collapsed": true
   },
   "outputs": [],
   "source": [
    "# read total brutto data frame to CSV is not read to CSV at the moment\n",
    "# The df for top 10 countris are read to CSV instead"
   ]
  },
  {
   "cell_type": "code",
   "execution_count": null,
   "metadata": {
    "collapsed": true
   },
   "outputs": [],
   "source": []
  },
  {
   "cell_type": "code",
   "execution_count": 43,
   "metadata": {
    "collapsed": true
   },
   "outputs": [],
   "source": [
    "# choose only the top 10 music countries (and exclude the asian countries within)\n",
    "df2 = df[(df['Country'] == 'us') | (df['Country'] == 'gb') | (df['Country'] == 'de') | (df['Country'] == 'fr') |\n",
    "         (df['Country'] == 'ca') | (df['Country'] == 'au') | (df['Country'] == 'it') | (df['Country'] == 'nl')]"
   ]
  },
  {
   "cell_type": "code",
   "execution_count": 44,
   "metadata": {},
   "outputs": [
    {
     "data": {
      "text/html": [
       "<div>\n",
       "<style>\n",
       "    .dataframe thead tr:only-child th {\n",
       "        text-align: right;\n",
       "    }\n",
       "\n",
       "    .dataframe thead th {\n",
       "        text-align: left;\n",
       "    }\n",
       "\n",
       "    .dataframe tbody tr th {\n",
       "        vertical-align: top;\n",
       "    }\n",
       "</style>\n",
       "<table border=\"1\" class=\"dataframe\">\n",
       "  <thead>\n",
       "    <tr style=\"text-align: right;\">\n",
       "      <th></th>\n",
       "      <th>Position</th>\n",
       "      <th>Streams</th>\n",
       "      <th>Track Name</th>\n",
       "      <th>Artist</th>\n",
       "      <th>ID</th>\n",
       "      <th>Date</th>\n",
       "      <th>Year</th>\n",
       "      <th>Month</th>\n",
       "      <th>Day</th>\n",
       "      <th>Country</th>\n",
       "      <th>Region</th>\n",
       "      <th>Lyrics_x</th>\n",
       "      <th>Acousticness</th>\n",
       "      <th>Energy</th>\n",
       "      <th>Instrumentalness</th>\n",
       "      <th>Mode</th>\n",
       "      <th>Tempo</th>\n",
       "      <th>Valence</th>\n",
       "      <th>Lyrics_y</th>\n",
       "      <th>_merge</th>\n",
       "    </tr>\n",
       "  </thead>\n",
       "  <tbody>\n",
       "    <tr>\n",
       "      <th>844</th>\n",
       "      <td>177</td>\n",
       "      <td>40381</td>\n",
       "      <td>Bye Bye Bye</td>\n",
       "      <td>*NSYNC</td>\n",
       "      <td>4r8lRYnoOGdEi6YyI5OC1o</td>\n",
       "      <td>2017-10-05</td>\n",
       "      <td>2017</td>\n",
       "      <td>10</td>\n",
       "      <td>5</td>\n",
       "      <td>gb</td>\n",
       "      <td>eu</td>\n",
       "      <td>hey, hey bye bye bye, bye bye bye bye  i'm doi...</td>\n",
       "      <td>0.0408</td>\n",
       "      <td>0.928</td>\n",
       "      <td>0.00104</td>\n",
       "      <td>0.0</td>\n",
       "      <td>172.656</td>\n",
       "      <td>0.879</td>\n",
       "      <td>NaN</td>\n",
       "      <td>left_only</td>\n",
       "    </tr>\n",
       "    <tr>\n",
       "      <th>845</th>\n",
       "      <td>151</td>\n",
       "      <td>24132</td>\n",
       "      <td>Merry Christmas, Happy Holidays</td>\n",
       "      <td>*NSYNC</td>\n",
       "      <td>15coTBAzEN1bOeipoNDZAR</td>\n",
       "      <td>2017-12-23</td>\n",
       "      <td>2017</td>\n",
       "      <td>12</td>\n",
       "      <td>23</td>\n",
       "      <td>it</td>\n",
       "      <td>eu</td>\n",
       "      <td>merry christmas and happy holidays merry chris...</td>\n",
       "      <td>0.1030</td>\n",
       "      <td>0.939</td>\n",
       "      <td>0.00000</td>\n",
       "      <td>1.0</td>\n",
       "      <td>105.003</td>\n",
       "      <td>0.756</td>\n",
       "      <td>NaN</td>\n",
       "      <td>left_only</td>\n",
       "    </tr>\n",
       "    <tr>\n",
       "      <th>846</th>\n",
       "      <td>78</td>\n",
       "      <td>49766</td>\n",
       "      <td>Merry Christmas, Happy Holidays</td>\n",
       "      <td>*NSYNC</td>\n",
       "      <td>15coTBAzEN1bOeipoNDZAR</td>\n",
       "      <td>2017-12-24</td>\n",
       "      <td>2017</td>\n",
       "      <td>12</td>\n",
       "      <td>24</td>\n",
       "      <td>it</td>\n",
       "      <td>eu</td>\n",
       "      <td>merry christmas and happy holidays merry chris...</td>\n",
       "      <td>0.1030</td>\n",
       "      <td>0.939</td>\n",
       "      <td>0.00000</td>\n",
       "      <td>1.0</td>\n",
       "      <td>105.003</td>\n",
       "      <td>0.756</td>\n",
       "      <td>NaN</td>\n",
       "      <td>left_only</td>\n",
       "    </tr>\n",
       "    <tr>\n",
       "      <th>847</th>\n",
       "      <td>65</td>\n",
       "      <td>40725</td>\n",
       "      <td>Merry Christmas, Happy Holidays</td>\n",
       "      <td>*NSYNC</td>\n",
       "      <td>15coTBAzEN1bOeipoNDZAR</td>\n",
       "      <td>2017-12-25</td>\n",
       "      <td>2017</td>\n",
       "      <td>12</td>\n",
       "      <td>25</td>\n",
       "      <td>it</td>\n",
       "      <td>eu</td>\n",
       "      <td>merry christmas and happy holidays merry chris...</td>\n",
       "      <td>0.1030</td>\n",
       "      <td>0.939</td>\n",
       "      <td>0.00000</td>\n",
       "      <td>1.0</td>\n",
       "      <td>105.003</td>\n",
       "      <td>0.756</td>\n",
       "      <td>NaN</td>\n",
       "      <td>left_only</td>\n",
       "    </tr>\n",
       "    <tr>\n",
       "      <th>849</th>\n",
       "      <td>197</td>\n",
       "      <td>215739</td>\n",
       "      <td>Merry Christmas, Happy Holidays</td>\n",
       "      <td>*NSYNC</td>\n",
       "      <td>15coTBAzEN1bOeipoNDZAR</td>\n",
       "      <td>2017-12-22</td>\n",
       "      <td>2017</td>\n",
       "      <td>12</td>\n",
       "      <td>22</td>\n",
       "      <td>us</td>\n",
       "      <td>na</td>\n",
       "      <td>merry christmas and happy holidays merry chris...</td>\n",
       "      <td>0.1030</td>\n",
       "      <td>0.939</td>\n",
       "      <td>0.00000</td>\n",
       "      <td>1.0</td>\n",
       "      <td>105.003</td>\n",
       "      <td>0.756</td>\n",
       "      <td>NaN</td>\n",
       "      <td>left_only</td>\n",
       "    </tr>\n",
       "  </tbody>\n",
       "</table>\n",
       "</div>"
      ],
      "text/plain": [
       "     Position  Streams                       Track Name  Artist  \\\n",
       "844       177    40381                      Bye Bye Bye  *NSYNC   \n",
       "845       151    24132  Merry Christmas, Happy Holidays  *NSYNC   \n",
       "846        78    49766  Merry Christmas, Happy Holidays  *NSYNC   \n",
       "847        65    40725  Merry Christmas, Happy Holidays  *NSYNC   \n",
       "849       197   215739  Merry Christmas, Happy Holidays  *NSYNC   \n",
       "\n",
       "                         ID        Date  Year  Month  Day Country Region  \\\n",
       "844  4r8lRYnoOGdEi6YyI5OC1o  2017-10-05  2017     10    5      gb     eu   \n",
       "845  15coTBAzEN1bOeipoNDZAR  2017-12-23  2017     12   23      it     eu   \n",
       "846  15coTBAzEN1bOeipoNDZAR  2017-12-24  2017     12   24      it     eu   \n",
       "847  15coTBAzEN1bOeipoNDZAR  2017-12-25  2017     12   25      it     eu   \n",
       "849  15coTBAzEN1bOeipoNDZAR  2017-12-22  2017     12   22      us     na   \n",
       "\n",
       "                                              Lyrics_x  Acousticness  Energy  \\\n",
       "844  hey, hey bye bye bye, bye bye bye bye  i'm doi...        0.0408   0.928   \n",
       "845  merry christmas and happy holidays merry chris...        0.1030   0.939   \n",
       "846  merry christmas and happy holidays merry chris...        0.1030   0.939   \n",
       "847  merry christmas and happy holidays merry chris...        0.1030   0.939   \n",
       "849  merry christmas and happy holidays merry chris...        0.1030   0.939   \n",
       "\n",
       "     Instrumentalness  Mode    Tempo  Valence Lyrics_y     _merge  \n",
       "844           0.00104   0.0  172.656    0.879      NaN  left_only  \n",
       "845           0.00000   1.0  105.003    0.756      NaN  left_only  \n",
       "846           0.00000   1.0  105.003    0.756      NaN  left_only  \n",
       "847           0.00000   1.0  105.003    0.756      NaN  left_only  \n",
       "849           0.00000   1.0  105.003    0.756      NaN  left_only  "
      ]
     },
     "execution_count": 44,
     "metadata": {},
     "output_type": "execute_result"
    }
   ],
   "source": [
    "df2.head()"
   ]
  },
  {
   "cell_type": "code",
   "execution_count": 47,
   "metadata": {
    "collapsed": true
   },
   "outputs": [],
   "source": [
    "# drop some columns that I do not need\n",
    "df2 = df2.drop(['Lyrics_y','_merge'], axis=1)"
   ]
  },
  {
   "cell_type": "code",
   "execution_count": 52,
   "metadata": {
    "collapsed": true
   },
   "outputs": [],
   "source": [
    "# Rename the lyrics of the column\n",
    "df2 = df2.rename(index=str, columns={\"Lyrics_x\": \"Lyrics\"})"
   ]
  },
  {
   "cell_type": "code",
   "execution_count": 53,
   "metadata": {},
   "outputs": [
    {
     "data": {
      "text/html": [
       "<div>\n",
       "<style>\n",
       "    .dataframe thead tr:only-child th {\n",
       "        text-align: right;\n",
       "    }\n",
       "\n",
       "    .dataframe thead th {\n",
       "        text-align: left;\n",
       "    }\n",
       "\n",
       "    .dataframe tbody tr th {\n",
       "        vertical-align: top;\n",
       "    }\n",
       "</style>\n",
       "<table border=\"1\" class=\"dataframe\">\n",
       "  <thead>\n",
       "    <tr style=\"text-align: right;\">\n",
       "      <th></th>\n",
       "      <th>Position</th>\n",
       "      <th>Streams</th>\n",
       "      <th>Track Name</th>\n",
       "      <th>Artist</th>\n",
       "      <th>ID</th>\n",
       "      <th>Date</th>\n",
       "      <th>Year</th>\n",
       "      <th>Month</th>\n",
       "      <th>Day</th>\n",
       "      <th>Country</th>\n",
       "      <th>Region</th>\n",
       "      <th>Lyrics</th>\n",
       "      <th>Acousticness</th>\n",
       "      <th>Energy</th>\n",
       "      <th>Instrumentalness</th>\n",
       "      <th>Mode</th>\n",
       "      <th>Tempo</th>\n",
       "      <th>Valence</th>\n",
       "    </tr>\n",
       "  </thead>\n",
       "  <tbody>\n",
       "    <tr>\n",
       "      <th>844</th>\n",
       "      <td>177</td>\n",
       "      <td>40381</td>\n",
       "      <td>Bye Bye Bye</td>\n",
       "      <td>*NSYNC</td>\n",
       "      <td>4r8lRYnoOGdEi6YyI5OC1o</td>\n",
       "      <td>2017-10-05</td>\n",
       "      <td>2017</td>\n",
       "      <td>10</td>\n",
       "      <td>5</td>\n",
       "      <td>gb</td>\n",
       "      <td>eu</td>\n",
       "      <td>hey, hey bye bye bye, bye bye bye bye  i'm doi...</td>\n",
       "      <td>0.0408</td>\n",
       "      <td>0.928</td>\n",
       "      <td>0.00104</td>\n",
       "      <td>0.0</td>\n",
       "      <td>172.656</td>\n",
       "      <td>0.879</td>\n",
       "    </tr>\n",
       "    <tr>\n",
       "      <th>845</th>\n",
       "      <td>151</td>\n",
       "      <td>24132</td>\n",
       "      <td>Merry Christmas, Happy Holidays</td>\n",
       "      <td>*NSYNC</td>\n",
       "      <td>15coTBAzEN1bOeipoNDZAR</td>\n",
       "      <td>2017-12-23</td>\n",
       "      <td>2017</td>\n",
       "      <td>12</td>\n",
       "      <td>23</td>\n",
       "      <td>it</td>\n",
       "      <td>eu</td>\n",
       "      <td>merry christmas and happy holidays merry chris...</td>\n",
       "      <td>0.1030</td>\n",
       "      <td>0.939</td>\n",
       "      <td>0.00000</td>\n",
       "      <td>1.0</td>\n",
       "      <td>105.003</td>\n",
       "      <td>0.756</td>\n",
       "    </tr>\n",
       "    <tr>\n",
       "      <th>846</th>\n",
       "      <td>78</td>\n",
       "      <td>49766</td>\n",
       "      <td>Merry Christmas, Happy Holidays</td>\n",
       "      <td>*NSYNC</td>\n",
       "      <td>15coTBAzEN1bOeipoNDZAR</td>\n",
       "      <td>2017-12-24</td>\n",
       "      <td>2017</td>\n",
       "      <td>12</td>\n",
       "      <td>24</td>\n",
       "      <td>it</td>\n",
       "      <td>eu</td>\n",
       "      <td>merry christmas and happy holidays merry chris...</td>\n",
       "      <td>0.1030</td>\n",
       "      <td>0.939</td>\n",
       "      <td>0.00000</td>\n",
       "      <td>1.0</td>\n",
       "      <td>105.003</td>\n",
       "      <td>0.756</td>\n",
       "    </tr>\n",
       "    <tr>\n",
       "      <th>847</th>\n",
       "      <td>65</td>\n",
       "      <td>40725</td>\n",
       "      <td>Merry Christmas, Happy Holidays</td>\n",
       "      <td>*NSYNC</td>\n",
       "      <td>15coTBAzEN1bOeipoNDZAR</td>\n",
       "      <td>2017-12-25</td>\n",
       "      <td>2017</td>\n",
       "      <td>12</td>\n",
       "      <td>25</td>\n",
       "      <td>it</td>\n",
       "      <td>eu</td>\n",
       "      <td>merry christmas and happy holidays merry chris...</td>\n",
       "      <td>0.1030</td>\n",
       "      <td>0.939</td>\n",
       "      <td>0.00000</td>\n",
       "      <td>1.0</td>\n",
       "      <td>105.003</td>\n",
       "      <td>0.756</td>\n",
       "    </tr>\n",
       "    <tr>\n",
       "      <th>849</th>\n",
       "      <td>197</td>\n",
       "      <td>215739</td>\n",
       "      <td>Merry Christmas, Happy Holidays</td>\n",
       "      <td>*NSYNC</td>\n",
       "      <td>15coTBAzEN1bOeipoNDZAR</td>\n",
       "      <td>2017-12-22</td>\n",
       "      <td>2017</td>\n",
       "      <td>12</td>\n",
       "      <td>22</td>\n",
       "      <td>us</td>\n",
       "      <td>na</td>\n",
       "      <td>merry christmas and happy holidays merry chris...</td>\n",
       "      <td>0.1030</td>\n",
       "      <td>0.939</td>\n",
       "      <td>0.00000</td>\n",
       "      <td>1.0</td>\n",
       "      <td>105.003</td>\n",
       "      <td>0.756</td>\n",
       "    </tr>\n",
       "  </tbody>\n",
       "</table>\n",
       "</div>"
      ],
      "text/plain": [
       "     Position  Streams                       Track Name  Artist  \\\n",
       "844       177    40381                      Bye Bye Bye  *NSYNC   \n",
       "845       151    24132  Merry Christmas, Happy Holidays  *NSYNC   \n",
       "846        78    49766  Merry Christmas, Happy Holidays  *NSYNC   \n",
       "847        65    40725  Merry Christmas, Happy Holidays  *NSYNC   \n",
       "849       197   215739  Merry Christmas, Happy Holidays  *NSYNC   \n",
       "\n",
       "                         ID        Date  Year  Month  Day Country Region  \\\n",
       "844  4r8lRYnoOGdEi6YyI5OC1o  2017-10-05  2017     10    5      gb     eu   \n",
       "845  15coTBAzEN1bOeipoNDZAR  2017-12-23  2017     12   23      it     eu   \n",
       "846  15coTBAzEN1bOeipoNDZAR  2017-12-24  2017     12   24      it     eu   \n",
       "847  15coTBAzEN1bOeipoNDZAR  2017-12-25  2017     12   25      it     eu   \n",
       "849  15coTBAzEN1bOeipoNDZAR  2017-12-22  2017     12   22      us     na   \n",
       "\n",
       "                                                Lyrics  Acousticness  Energy  \\\n",
       "844  hey, hey bye bye bye, bye bye bye bye  i'm doi...        0.0408   0.928   \n",
       "845  merry christmas and happy holidays merry chris...        0.1030   0.939   \n",
       "846  merry christmas and happy holidays merry chris...        0.1030   0.939   \n",
       "847  merry christmas and happy holidays merry chris...        0.1030   0.939   \n",
       "849  merry christmas and happy holidays merry chris...        0.1030   0.939   \n",
       "\n",
       "     Instrumentalness  Mode    Tempo  Valence  \n",
       "844           0.00104   0.0  172.656    0.879  \n",
       "845           0.00000   1.0  105.003    0.756  \n",
       "846           0.00000   1.0  105.003    0.756  \n",
       "847           0.00000   1.0  105.003    0.756  \n",
       "849           0.00000   1.0  105.003    0.756  "
      ]
     },
     "execution_count": 53,
     "metadata": {},
     "output_type": "execute_result"
    }
   ],
   "source": [
    "df2.head()"
   ]
  },
  {
   "cell_type": "code",
   "execution_count": 102,
   "metadata": {
    "collapsed": true
   },
   "outputs": [],
   "source": [
    "# read top 10 (8) music countries data frame to CSV\n",
    "df2.to_csv('data_lyrics_top10c.csv')"
   ]
  },
  {
   "cell_type": "code",
   "execution_count": null,
   "metadata": {
    "collapsed": true
   },
   "outputs": [],
   "source": []
  }
 ],
 "metadata": {
  "kernelspec": {
   "display_name": "Python [default]",
   "language": "python",
   "name": "python3"
  },
  "language_info": {
   "codemirror_mode": {
    "name": "ipython",
    "version": 3
   },
   "file_extension": ".py",
   "mimetype": "text/x-python",
   "name": "python",
   "nbconvert_exporter": "python",
   "pygments_lexer": "ipython3",
   "version": "3.6.3"
  }
 },
 "nbformat": 4,
 "nbformat_minor": 2
}
