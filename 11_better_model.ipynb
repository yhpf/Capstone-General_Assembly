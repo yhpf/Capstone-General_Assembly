{
 "cells": [
  {
   "cell_type": "markdown",
   "metadata": {},
   "source": [
    "# Make a Good Model for the mood of the song"
   ]
  },
  {
   "cell_type": "markdown",
   "metadata": {},
   "source": [
    "In this document I need to work more with NLP of the track lyrics and use columns that I discarded in the MVP and I also need to do  some feature engineering.\n",
    "\n",
    "Better model = countries<BR />\n",
    "Best model = also looking at number of streams and position, also looking at time on top list<BR />\n",
    "\n",
    "Then when we have the best model we can use our predictions and decide the mood of a country and the mood of an artist. Then we can say what artist is suitable for what country. "
   ]
  },
  {
   "cell_type": "markdown",
   "metadata": {},
   "source": [
    "## Import stuff"
   ]
  },
  {
   "cell_type": "code",
   "execution_count": 1,
   "metadata": {
    "collapsed": true
   },
   "outputs": [
    {
     "name": "stderr",
     "output_type": "stream",
     "text": [
      "/anaconda3/lib/python3.6/site-packages/sklearn/cross_validation.py:41: DeprecationWarning: This module was deprecated in version 0.18 in favor of the model_selection module into which all the refactored classes and functions are moved. Also note that the interface of the new CV iterators are different from that of this module. This module will be removed in 0.20.\n",
      "  \"This module will be removed in 0.20.\", DeprecationWarning)\n",
      "/anaconda3/lib/python3.6/site-packages/sklearn/grid_search.py:42: DeprecationWarning: This module was deprecated in version 0.18 in favor of the model_selection module into which all the refactored classes and functions are moved. This module will be removed in 0.20.\n",
      "  DeprecationWarning)\n"
     ]
    }
   ],
   "source": [
    "import pandas as pd\n",
    "import numpy as np\n",
    "from textblob import TextBlob\n",
    "from sklearn.model_selection import train_test_split\n",
    "from sklearn.feature_extraction.text import TfidfVectorizer, CountVectorizer\n",
    "\n",
    "from sklearn.linear_model import LinearRegression\n",
    "from sklearn.model_selection import cross_val_score, cross_val_predict\n",
    "from sklearn.preprocessing import StandardScaler\n",
    "import sklearn.metrics\n",
    "from sklearn.ensemble import RandomForestRegressor\n",
    "from sklearn.grid_search import GridSearchCV\n",
    "from sklearn.linear_model import Lasso\n",
    "from sklearn.model_selection import RandomizedSearchCV\n",
    "\n",
    "from matplotlib import pyplot as plt\n",
    "import seaborn as sns\n",
    "\n",
    "plt.style.use('fivethirtyeight')\n",
    "\n",
    "%matplotlib inline"
   ]
  },
  {
   "cell_type": "markdown",
   "metadata": {},
   "source": [
    "## Load data"
   ]
  },
  {
   "cell_type": "code",
   "execution_count": 2,
   "metadata": {},
   "outputs": [
    {
     "data": {
      "text/html": [
       "<div>\n",
       "<style>\n",
       "    .dataframe thead tr:only-child th {\n",
       "        text-align: right;\n",
       "    }\n",
       "\n",
       "    .dataframe thead th {\n",
       "        text-align: left;\n",
       "    }\n",
       "\n",
       "    .dataframe tbody tr th {\n",
       "        vertical-align: top;\n",
       "    }\n",
       "</style>\n",
       "<table border=\"1\" class=\"dataframe\">\n",
       "  <thead>\n",
       "    <tr style=\"text-align: right;\">\n",
       "      <th></th>\n",
       "      <th>Unnamed: 0</th>\n",
       "      <th>Position</th>\n",
       "      <th>Streams</th>\n",
       "      <th>Track Name</th>\n",
       "      <th>Artist</th>\n",
       "      <th>ID</th>\n",
       "      <th>Date</th>\n",
       "      <th>Year</th>\n",
       "      <th>Month</th>\n",
       "      <th>Day</th>\n",
       "      <th>Country</th>\n",
       "      <th>Region</th>\n",
       "      <th>Lyrics</th>\n",
       "      <th>Acousticness</th>\n",
       "      <th>Energy</th>\n",
       "      <th>Instrumentalness</th>\n",
       "      <th>Mode</th>\n",
       "      <th>Tempo</th>\n",
       "      <th>Valence</th>\n",
       "    </tr>\n",
       "  </thead>\n",
       "  <tbody>\n",
       "    <tr>\n",
       "      <th>0</th>\n",
       "      <td>0</td>\n",
       "      <td>177</td>\n",
       "      <td>40381</td>\n",
       "      <td>Bye Bye Bye</td>\n",
       "      <td>*NSYNC</td>\n",
       "      <td>4r8lRYnoOGdEi6YyI5OC1o</td>\n",
       "      <td>2017-10-05</td>\n",
       "      <td>2017</td>\n",
       "      <td>10</td>\n",
       "      <td>5</td>\n",
       "      <td>gb</td>\n",
       "      <td>eu</td>\n",
       "      <td>hey, hey bye bye bye, bye bye bye bye  i'm doi...</td>\n",
       "      <td>0.0408</td>\n",
       "      <td>0.928</td>\n",
       "      <td>0.00104</td>\n",
       "      <td>0.0</td>\n",
       "      <td>172.656</td>\n",
       "      <td>0.879</td>\n",
       "    </tr>\n",
       "    <tr>\n",
       "      <th>1</th>\n",
       "      <td>1</td>\n",
       "      <td>151</td>\n",
       "      <td>24132</td>\n",
       "      <td>Merry Christmas, Happy Holidays</td>\n",
       "      <td>*NSYNC</td>\n",
       "      <td>15coTBAzEN1bOeipoNDZAR</td>\n",
       "      <td>2017-12-23</td>\n",
       "      <td>2017</td>\n",
       "      <td>12</td>\n",
       "      <td>23</td>\n",
       "      <td>it</td>\n",
       "      <td>eu</td>\n",
       "      <td>merry christmas and happy holidays merry chris...</td>\n",
       "      <td>0.1030</td>\n",
       "      <td>0.939</td>\n",
       "      <td>0.00000</td>\n",
       "      <td>1.0</td>\n",
       "      <td>105.003</td>\n",
       "      <td>0.756</td>\n",
       "    </tr>\n",
       "    <tr>\n",
       "      <th>2</th>\n",
       "      <td>2</td>\n",
       "      <td>78</td>\n",
       "      <td>49766</td>\n",
       "      <td>Merry Christmas, Happy Holidays</td>\n",
       "      <td>*NSYNC</td>\n",
       "      <td>15coTBAzEN1bOeipoNDZAR</td>\n",
       "      <td>2017-12-24</td>\n",
       "      <td>2017</td>\n",
       "      <td>12</td>\n",
       "      <td>24</td>\n",
       "      <td>it</td>\n",
       "      <td>eu</td>\n",
       "      <td>merry christmas and happy holidays merry chris...</td>\n",
       "      <td>0.1030</td>\n",
       "      <td>0.939</td>\n",
       "      <td>0.00000</td>\n",
       "      <td>1.0</td>\n",
       "      <td>105.003</td>\n",
       "      <td>0.756</td>\n",
       "    </tr>\n",
       "    <tr>\n",
       "      <th>3</th>\n",
       "      <td>3</td>\n",
       "      <td>65</td>\n",
       "      <td>40725</td>\n",
       "      <td>Merry Christmas, Happy Holidays</td>\n",
       "      <td>*NSYNC</td>\n",
       "      <td>15coTBAzEN1bOeipoNDZAR</td>\n",
       "      <td>2017-12-25</td>\n",
       "      <td>2017</td>\n",
       "      <td>12</td>\n",
       "      <td>25</td>\n",
       "      <td>it</td>\n",
       "      <td>eu</td>\n",
       "      <td>merry christmas and happy holidays merry chris...</td>\n",
       "      <td>0.1030</td>\n",
       "      <td>0.939</td>\n",
       "      <td>0.00000</td>\n",
       "      <td>1.0</td>\n",
       "      <td>105.003</td>\n",
       "      <td>0.756</td>\n",
       "    </tr>\n",
       "    <tr>\n",
       "      <th>4</th>\n",
       "      <td>4</td>\n",
       "      <td>197</td>\n",
       "      <td>215739</td>\n",
       "      <td>Merry Christmas, Happy Holidays</td>\n",
       "      <td>*NSYNC</td>\n",
       "      <td>15coTBAzEN1bOeipoNDZAR</td>\n",
       "      <td>2017-12-22</td>\n",
       "      <td>2017</td>\n",
       "      <td>12</td>\n",
       "      <td>22</td>\n",
       "      <td>us</td>\n",
       "      <td>na</td>\n",
       "      <td>merry christmas and happy holidays merry chris...</td>\n",
       "      <td>0.1030</td>\n",
       "      <td>0.939</td>\n",
       "      <td>0.00000</td>\n",
       "      <td>1.0</td>\n",
       "      <td>105.003</td>\n",
       "      <td>0.756</td>\n",
       "    </tr>\n",
       "  </tbody>\n",
       "</table>\n",
       "</div>"
      ],
      "text/plain": [
       "   Unnamed: 0  Position  Streams                       Track Name  Artist  \\\n",
       "0           0       177    40381                      Bye Bye Bye  *NSYNC   \n",
       "1           1       151    24132  Merry Christmas, Happy Holidays  *NSYNC   \n",
       "2           2        78    49766  Merry Christmas, Happy Holidays  *NSYNC   \n",
       "3           3        65    40725  Merry Christmas, Happy Holidays  *NSYNC   \n",
       "4           4       197   215739  Merry Christmas, Happy Holidays  *NSYNC   \n",
       "\n",
       "                       ID        Date  Year  Month  Day Country Region  \\\n",
       "0  4r8lRYnoOGdEi6YyI5OC1o  2017-10-05  2017     10    5      gb     eu   \n",
       "1  15coTBAzEN1bOeipoNDZAR  2017-12-23  2017     12   23      it     eu   \n",
       "2  15coTBAzEN1bOeipoNDZAR  2017-12-24  2017     12   24      it     eu   \n",
       "3  15coTBAzEN1bOeipoNDZAR  2017-12-25  2017     12   25      it     eu   \n",
       "4  15coTBAzEN1bOeipoNDZAR  2017-12-22  2017     12   22      us     na   \n",
       "\n",
       "                                              Lyrics  Acousticness  Energy  \\\n",
       "0  hey, hey bye bye bye, bye bye bye bye  i'm doi...        0.0408   0.928   \n",
       "1  merry christmas and happy holidays merry chris...        0.1030   0.939   \n",
       "2  merry christmas and happy holidays merry chris...        0.1030   0.939   \n",
       "3  merry christmas and happy holidays merry chris...        0.1030   0.939   \n",
       "4  merry christmas and happy holidays merry chris...        0.1030   0.939   \n",
       "\n",
       "   Instrumentalness  Mode    Tempo  Valence  \n",
       "0           0.00104   0.0  172.656    0.879  \n",
       "1           0.00000   1.0  105.003    0.756  \n",
       "2           0.00000   1.0  105.003    0.756  \n",
       "3           0.00000   1.0  105.003    0.756  \n",
       "4           0.00000   1.0  105.003    0.756  "
      ]
     },
     "execution_count": 2,
     "metadata": {},
     "output_type": "execute_result"
    }
   ],
   "source": [
    "data = pd.read_csv('./data_top10c_more_lyrics.csv')\n",
    "\n",
    "data.head(5)"
   ]
  },
  {
   "cell_type": "markdown",
   "metadata": {},
   "source": [
    "## Fix a little bit with the data"
   ]
  },
  {
   "cell_type": "markdown",
   "metadata": {},
   "source": [
    "### Look at each country individually"
   ]
  },
  {
   "cell_type": "code",
   "execution_count": 7,
   "metadata": {},
   "outputs": [
    {
     "data": {
      "text/plain": [
       "array(['gb', 'it', 'us', 'de', 'ca', 'nl', 'au', 'fr'], dtype=object)"
      ]
     },
     "execution_count": 7,
     "metadata": {},
     "output_type": "execute_result"
    }
   ],
   "source": [
    "data['Country'].unique()"
   ]
  },
  {
   "cell_type": "code",
   "execution_count": 9,
   "metadata": {},
   "outputs": [],
   "source": [
    "# filter by country and make 8 new data frames\n",
    "gb_data = data[data['Country'] == 'gb']\n",
    "it_data = data[data['Country'] == 'it']\n",
    "us_data = data[data['Country'] == 'us']\n",
    "de_data = data[data['Country'] == 'de']\n",
    "ca_data = data[data['Country'] == 'ca']\n",
    "nl_data = data[data['Country'] == 'nl']\n",
    "au_data = data[data['Country'] == 'au']\n",
    "fr_data = data[data['Country'] == 'fr']"
   ]
  },
  {
   "cell_type": "markdown",
   "metadata": {},
   "source": [
    "**Drop rows that are duplicates and keep only one row for each song**"
   ]
  },
  {
   "cell_type": "code",
   "execution_count": 10,
   "metadata": {
    "collapsed": true
   },
   "outputs": [],
   "source": [
    "gb_data_per_song = gb_data.drop_duplicates(subset=['Track Name'], keep='first')\n",
    "it_data_per_song = it_data.drop_duplicates(subset=['Track Name'], keep='first')\n",
    "us_data_per_song = us_data.drop_duplicates(subset=['Track Name'], keep='first')\n",
    "de_data_per_song = de_data.drop_duplicates(subset=['Track Name'], keep='first')\n",
    "ca_data_per_song = ca_data.drop_duplicates(subset=['Track Name'], keep='first')\n",
    "nl_data_per_song = nl_data.drop_duplicates(subset=['Track Name'], keep='first')\n",
    "au_data_per_song = au_data.drop_duplicates(subset=['Track Name'], keep='first')\n",
    "fr_data_per_song = fr_data.drop_duplicates(subset=['Track Name'], keep='first')"
   ]
  },
  {
   "cell_type": "markdown",
   "metadata": {},
   "source": [
    "**Drop all columns that might change per song**"
   ]
  },
  {
   "cell_type": "code",
   "execution_count": 11,
   "metadata": {
    "collapsed": true
   },
   "outputs": [],
   "source": [
    "gb_nlp_data = gb_data_per_song.drop(['Unnamed: 0', 'Position', 'Streams', 'Date', 'Year', 'Month', 'Day', 'Country',\n",
    "                                   'Region'], axis=1)\n",
    "it_nlp_data = it_data_per_song.drop(['Unnamed: 0', 'Position', 'Streams', 'Date', 'Year', 'Month', 'Day', 'Country',\n",
    "                                   'Region'], axis=1)\n",
    "us_nlp_data = us_data_per_song.drop(['Unnamed: 0', 'Position', 'Streams', 'Date', 'Year', 'Month', 'Day', 'Country',\n",
    "                                   'Region'], axis=1)\n",
    "de_nlp_data = de_data_per_song.drop(['Unnamed: 0', 'Position', 'Streams', 'Date', 'Year', 'Month', 'Day', 'Country',\n",
    "                                   'Region'], axis=1)\n",
    "ca_nlp_data = ca_data_per_song.drop(['Unnamed: 0', 'Position', 'Streams', 'Date', 'Year', 'Month', 'Day', 'Country',\n",
    "                                   'Region'], axis=1)\n",
    "nl_nlp_data = nl_data_per_song.drop(['Unnamed: 0', 'Position', 'Streams', 'Date', 'Year', 'Month', 'Day', 'Country',\n",
    "                                   'Region'], axis=1)\n",
    "au_nlp_data = au_data_per_song.drop(['Unnamed: 0', 'Position', 'Streams', 'Date', 'Year', 'Month', 'Day', 'Country',\n",
    "                                   'Region'], axis=1)\n",
    "fr_nlp_data = fr_data_per_song.drop(['Unnamed: 0', 'Position', 'Streams', 'Date', 'Year', 'Month', 'Day', 'Country',\n",
    "                                   'Region'], axis=1)"
   ]
  },
  {
   "cell_type": "markdown",
   "metadata": {},
   "source": [
    "**Drop rows that have missing values in the Lyrics column**<BR />\n",
    "We can use dropna to drop all rows that has missing values (should mostly be the Lyrics column)"
   ]
  },
  {
   "cell_type": "code",
   "execution_count": 13,
   "metadata": {
    "collapsed": true
   },
   "outputs": [],
   "source": [
    "gb_clean = gb_nlp_data.dropna(axis=0, how='any')\n",
    "it_clean = it_nlp_data.dropna(axis=0, how='any')\n",
    "us_clean = us_nlp_data.dropna(axis=0, how='any')\n",
    "de_clean = de_nlp_data.dropna(axis=0, how='any')\n",
    "ca_clean = ca_nlp_data.dropna(axis=0, how='any')\n",
    "nl_clean = nl_nlp_data.dropna(axis=0, how='any')\n",
    "au_clean = au_nlp_data.dropna(axis=0, how='any')\n",
    "fr_clean = fr_nlp_data.dropna(axis=0, how='any')"
   ]
  },
  {
   "cell_type": "markdown",
   "metadata": {},
   "source": [
    "### TextBlob"
   ]
  },
  {
   "cell_type": "markdown",
   "metadata": {},
   "source": [
    "**Turn the lyrics in the Lyrics column into string**"
   ]
  },
  {
   "cell_type": "code",
   "execution_count": 14,
   "metadata": {
    "collapsed": true
   },
   "outputs": [
    {
     "name": "stderr",
     "output_type": "stream",
     "text": [
      "/anaconda3/lib/python3.6/site-packages/ipykernel/__main__.py:1: SettingWithCopyWarning: \n",
      "A value is trying to be set on a copy of a slice from a DataFrame.\n",
      "Try using .loc[row_indexer,col_indexer] = value instead\n",
      "\n",
      "See the caveats in the documentation: http://pandas.pydata.org/pandas-docs/stable/indexing.html#indexing-view-versus-copy\n",
      "  if __name__ == '__main__':\n",
      "/anaconda3/lib/python3.6/site-packages/ipykernel/__main__.py:2: SettingWithCopyWarning: \n",
      "A value is trying to be set on a copy of a slice from a DataFrame.\n",
      "Try using .loc[row_indexer,col_indexer] = value instead\n",
      "\n",
      "See the caveats in the documentation: http://pandas.pydata.org/pandas-docs/stable/indexing.html#indexing-view-versus-copy\n",
      "  from ipykernel import kernelapp as app\n",
      "/anaconda3/lib/python3.6/site-packages/ipykernel/__main__.py:3: SettingWithCopyWarning: \n",
      "A value is trying to be set on a copy of a slice from a DataFrame.\n",
      "Try using .loc[row_indexer,col_indexer] = value instead\n",
      "\n",
      "See the caveats in the documentation: http://pandas.pydata.org/pandas-docs/stable/indexing.html#indexing-view-versus-copy\n",
      "  app.launch_new_instance()\n",
      "/anaconda3/lib/python3.6/site-packages/ipykernel/__main__.py:4: SettingWithCopyWarning: \n",
      "A value is trying to be set on a copy of a slice from a DataFrame.\n",
      "Try using .loc[row_indexer,col_indexer] = value instead\n",
      "\n",
      "See the caveats in the documentation: http://pandas.pydata.org/pandas-docs/stable/indexing.html#indexing-view-versus-copy\n",
      "/anaconda3/lib/python3.6/site-packages/ipykernel/__main__.py:5: SettingWithCopyWarning: \n",
      "A value is trying to be set on a copy of a slice from a DataFrame.\n",
      "Try using .loc[row_indexer,col_indexer] = value instead\n",
      "\n",
      "See the caveats in the documentation: http://pandas.pydata.org/pandas-docs/stable/indexing.html#indexing-view-versus-copy\n",
      "/anaconda3/lib/python3.6/site-packages/ipykernel/__main__.py:6: SettingWithCopyWarning: \n",
      "A value is trying to be set on a copy of a slice from a DataFrame.\n",
      "Try using .loc[row_indexer,col_indexer] = value instead\n",
      "\n",
      "See the caveats in the documentation: http://pandas.pydata.org/pandas-docs/stable/indexing.html#indexing-view-versus-copy\n",
      "/anaconda3/lib/python3.6/site-packages/ipykernel/__main__.py:7: SettingWithCopyWarning: \n",
      "A value is trying to be set on a copy of a slice from a DataFrame.\n",
      "Try using .loc[row_indexer,col_indexer] = value instead\n",
      "\n",
      "See the caveats in the documentation: http://pandas.pydata.org/pandas-docs/stable/indexing.html#indexing-view-versus-copy\n",
      "/anaconda3/lib/python3.6/site-packages/ipykernel/__main__.py:8: SettingWithCopyWarning: \n",
      "A value is trying to be set on a copy of a slice from a DataFrame.\n",
      "Try using .loc[row_indexer,col_indexer] = value instead\n",
      "\n",
      "See the caveats in the documentation: http://pandas.pydata.org/pandas-docs/stable/indexing.html#indexing-view-versus-copy\n"
     ]
    }
   ],
   "source": [
    "gb_clean['Lyrics'] = gb_clean['Lyrics'].astype(str)\n",
    "it_clean['Lyrics'] = it_clean['Lyrics'].astype(str)\n",
    "us_clean['Lyrics'] = us_clean['Lyrics'].astype(str)\n",
    "de_clean['Lyrics'] = de_clean['Lyrics'].astype(str)\n",
    "ca_clean['Lyrics'] = ca_clean['Lyrics'].astype(str)\n",
    "nl_clean['Lyrics'] = nl_clean['Lyrics'].astype(str)\n",
    "au_clean['Lyrics'] = au_clean['Lyrics'].astype(str)\n",
    "fr_clean['Lyrics'] = fr_clean['Lyrics'].astype(str)"
   ]
  },
  {
   "cell_type": "markdown",
   "metadata": {},
   "source": [
    "**Make and run function for TextBlob on the Lyrics**"
   ]
  },
  {
   "cell_type": "code",
   "execution_count": 15,
   "metadata": {
    "collapsed": true
   },
   "outputs": [],
   "source": [
    "def sentiment_func(lyrics):\n",
    "    try:\n",
    "        return TextBlob(lyrics).sentiment\n",
    "    except:\n",
    "        return None"
   ]
  },
  {
   "cell_type": "code",
   "execution_count": 16,
   "metadata": {
    "collapsed": true
   },
   "outputs": [
    {
     "name": "stderr",
     "output_type": "stream",
     "text": [
      "/anaconda3/lib/python3.6/site-packages/ipykernel/__main__.py:1: SettingWithCopyWarning: \n",
      "A value is trying to be set on a copy of a slice from a DataFrame.\n",
      "Try using .loc[row_indexer,col_indexer] = value instead\n",
      "\n",
      "See the caveats in the documentation: http://pandas.pydata.org/pandas-docs/stable/indexing.html#indexing-view-versus-copy\n",
      "  if __name__ == '__main__':\n",
      "/anaconda3/lib/python3.6/site-packages/ipykernel/__main__.py:2: SettingWithCopyWarning: \n",
      "A value is trying to be set on a copy of a slice from a DataFrame.\n",
      "Try using .loc[row_indexer,col_indexer] = value instead\n",
      "\n",
      "See the caveats in the documentation: http://pandas.pydata.org/pandas-docs/stable/indexing.html#indexing-view-versus-copy\n",
      "  from ipykernel import kernelapp as app\n",
      "/anaconda3/lib/python3.6/site-packages/ipykernel/__main__.py:3: SettingWithCopyWarning: \n",
      "A value is trying to be set on a copy of a slice from a DataFrame.\n",
      "Try using .loc[row_indexer,col_indexer] = value instead\n",
      "\n",
      "See the caveats in the documentation: http://pandas.pydata.org/pandas-docs/stable/indexing.html#indexing-view-versus-copy\n",
      "  app.launch_new_instance()\n",
      "/anaconda3/lib/python3.6/site-packages/ipykernel/__main__.py:4: SettingWithCopyWarning: \n",
      "A value is trying to be set on a copy of a slice from a DataFrame.\n",
      "Try using .loc[row_indexer,col_indexer] = value instead\n",
      "\n",
      "See the caveats in the documentation: http://pandas.pydata.org/pandas-docs/stable/indexing.html#indexing-view-versus-copy\n",
      "/anaconda3/lib/python3.6/site-packages/ipykernel/__main__.py:5: SettingWithCopyWarning: \n",
      "A value is trying to be set on a copy of a slice from a DataFrame.\n",
      "Try using .loc[row_indexer,col_indexer] = value instead\n",
      "\n",
      "See the caveats in the documentation: http://pandas.pydata.org/pandas-docs/stable/indexing.html#indexing-view-versus-copy\n",
      "/anaconda3/lib/python3.6/site-packages/ipykernel/__main__.py:6: SettingWithCopyWarning: \n",
      "A value is trying to be set on a copy of a slice from a DataFrame.\n",
      "Try using .loc[row_indexer,col_indexer] = value instead\n",
      "\n",
      "See the caveats in the documentation: http://pandas.pydata.org/pandas-docs/stable/indexing.html#indexing-view-versus-copy\n",
      "/anaconda3/lib/python3.6/site-packages/ipykernel/__main__.py:7: SettingWithCopyWarning: \n",
      "A value is trying to be set on a copy of a slice from a DataFrame.\n",
      "Try using .loc[row_indexer,col_indexer] = value instead\n",
      "\n",
      "See the caveats in the documentation: http://pandas.pydata.org/pandas-docs/stable/indexing.html#indexing-view-versus-copy\n",
      "/anaconda3/lib/python3.6/site-packages/ipykernel/__main__.py:8: SettingWithCopyWarning: \n",
      "A value is trying to be set on a copy of a slice from a DataFrame.\n",
      "Try using .loc[row_indexer,col_indexer] = value instead\n",
      "\n",
      "See the caveats in the documentation: http://pandas.pydata.org/pandas-docs/stable/indexing.html#indexing-view-versus-copy\n"
     ]
    }
   ],
   "source": [
    "gb_clean['pol_sub'] = gb_clean['Lyrics'].apply(sentiment_func)\n",
    "it_clean['pol_sub'] = it_clean['Lyrics'].apply(sentiment_func)\n",
    "us_clean['pol_sub'] = us_clean['Lyrics'].apply(sentiment_func)\n",
    "de_clean['pol_sub'] = de_clean['Lyrics'].apply(sentiment_func)\n",
    "ca_clean['pol_sub'] = ca_clean['Lyrics'].apply(sentiment_func)\n",
    "nl_clean['pol_sub'] = nl_clean['Lyrics'].apply(sentiment_func)\n",
    "au_clean['pol_sub'] = au_clean['Lyrics'].apply(sentiment_func)\n",
    "fr_clean['pol_sub'] = fr_clean['Lyrics'].apply(sentiment_func)"
   ]
  },
  {
   "cell_type": "markdown",
   "metadata": {},
   "source": [
    "**Split the pol_sub column into 2 new columns (Polarity, Subjectivity)**"
   ]
  },
  {
   "cell_type": "code",
   "execution_count": 24,
   "metadata": {
    "collapsed": true
   },
   "outputs": [
    {
     "name": "stderr",
     "output_type": "stream",
     "text": [
      "/anaconda3/lib/python3.6/site-packages/ipykernel/__main__.py:2: SettingWithCopyWarning: \n",
      "A value is trying to be set on a copy of a slice from a DataFrame.\n",
      "Try using .loc[row_indexer,col_indexer] = value instead\n",
      "\n",
      "See the caveats in the documentation: http://pandas.pydata.org/pandas-docs/stable/indexing.html#indexing-view-versus-copy\n",
      "  from ipykernel import kernelapp as app\n",
      "/anaconda3/lib/python3.6/site-packages/ipykernel/__main__.py:3: SettingWithCopyWarning: \n",
      "A value is trying to be set on a copy of a slice from a DataFrame.\n",
      "Try using .loc[row_indexer,col_indexer] = value instead\n",
      "\n",
      "See the caveats in the documentation: http://pandas.pydata.org/pandas-docs/stable/indexing.html#indexing-view-versus-copy\n",
      "  app.launch_new_instance()\n",
      "/anaconda3/lib/python3.6/site-packages/ipykernel/__main__.py:6: SettingWithCopyWarning: \n",
      "A value is trying to be set on a copy of a slice from a DataFrame.\n",
      "Try using .loc[row_indexer,col_indexer] = value instead\n",
      "\n",
      "See the caveats in the documentation: http://pandas.pydata.org/pandas-docs/stable/indexing.html#indexing-view-versus-copy\n",
      "/anaconda3/lib/python3.6/site-packages/ipykernel/__main__.py:7: SettingWithCopyWarning: \n",
      "A value is trying to be set on a copy of a slice from a DataFrame.\n",
      "Try using .loc[row_indexer,col_indexer] = value instead\n",
      "\n",
      "See the caveats in the documentation: http://pandas.pydata.org/pandas-docs/stable/indexing.html#indexing-view-versus-copy\n",
      "/anaconda3/lib/python3.6/site-packages/ipykernel/__main__.py:10: SettingWithCopyWarning: \n",
      "A value is trying to be set on a copy of a slice from a DataFrame.\n",
      "Try using .loc[row_indexer,col_indexer] = value instead\n",
      "\n",
      "See the caveats in the documentation: http://pandas.pydata.org/pandas-docs/stable/indexing.html#indexing-view-versus-copy\n",
      "/anaconda3/lib/python3.6/site-packages/ipykernel/__main__.py:11: SettingWithCopyWarning: \n",
      "A value is trying to be set on a copy of a slice from a DataFrame.\n",
      "Try using .loc[row_indexer,col_indexer] = value instead\n",
      "\n",
      "See the caveats in the documentation: http://pandas.pydata.org/pandas-docs/stable/indexing.html#indexing-view-versus-copy\n",
      "/anaconda3/lib/python3.6/site-packages/ipykernel/__main__.py:14: SettingWithCopyWarning: \n",
      "A value is trying to be set on a copy of a slice from a DataFrame.\n",
      "Try using .loc[row_indexer,col_indexer] = value instead\n",
      "\n",
      "See the caveats in the documentation: http://pandas.pydata.org/pandas-docs/stable/indexing.html#indexing-view-versus-copy\n",
      "/anaconda3/lib/python3.6/site-packages/ipykernel/__main__.py:15: SettingWithCopyWarning: \n",
      "A value is trying to be set on a copy of a slice from a DataFrame.\n",
      "Try using .loc[row_indexer,col_indexer] = value instead\n",
      "\n",
      "See the caveats in the documentation: http://pandas.pydata.org/pandas-docs/stable/indexing.html#indexing-view-versus-copy\n",
      "/anaconda3/lib/python3.6/site-packages/ipykernel/__main__.py:18: SettingWithCopyWarning: \n",
      "A value is trying to be set on a copy of a slice from a DataFrame.\n",
      "Try using .loc[row_indexer,col_indexer] = value instead\n",
      "\n",
      "See the caveats in the documentation: http://pandas.pydata.org/pandas-docs/stable/indexing.html#indexing-view-versus-copy\n",
      "/anaconda3/lib/python3.6/site-packages/ipykernel/__main__.py:19: SettingWithCopyWarning: \n",
      "A value is trying to be set on a copy of a slice from a DataFrame.\n",
      "Try using .loc[row_indexer,col_indexer] = value instead\n",
      "\n",
      "See the caveats in the documentation: http://pandas.pydata.org/pandas-docs/stable/indexing.html#indexing-view-versus-copy\n",
      "/anaconda3/lib/python3.6/site-packages/ipykernel/__main__.py:22: SettingWithCopyWarning: \n",
      "A value is trying to be set on a copy of a slice from a DataFrame.\n",
      "Try using .loc[row_indexer,col_indexer] = value instead\n",
      "\n",
      "See the caveats in the documentation: http://pandas.pydata.org/pandas-docs/stable/indexing.html#indexing-view-versus-copy\n",
      "/anaconda3/lib/python3.6/site-packages/ipykernel/__main__.py:23: SettingWithCopyWarning: \n",
      "A value is trying to be set on a copy of a slice from a DataFrame.\n",
      "Try using .loc[row_indexer,col_indexer] = value instead\n",
      "\n",
      "See the caveats in the documentation: http://pandas.pydata.org/pandas-docs/stable/indexing.html#indexing-view-versus-copy\n",
      "/anaconda3/lib/python3.6/site-packages/ipykernel/__main__.py:26: SettingWithCopyWarning: \n",
      "A value is trying to be set on a copy of a slice from a DataFrame.\n",
      "Try using .loc[row_indexer,col_indexer] = value instead\n",
      "\n",
      "See the caveats in the documentation: http://pandas.pydata.org/pandas-docs/stable/indexing.html#indexing-view-versus-copy\n",
      "/anaconda3/lib/python3.6/site-packages/ipykernel/__main__.py:27: SettingWithCopyWarning: \n",
      "A value is trying to be set on a copy of a slice from a DataFrame.\n",
      "Try using .loc[row_indexer,col_indexer] = value instead\n",
      "\n",
      "See the caveats in the documentation: http://pandas.pydata.org/pandas-docs/stable/indexing.html#indexing-view-versus-copy\n",
      "/anaconda3/lib/python3.6/site-packages/ipykernel/__main__.py:30: SettingWithCopyWarning: \n",
      "A value is trying to be set on a copy of a slice from a DataFrame.\n",
      "Try using .loc[row_indexer,col_indexer] = value instead\n",
      "\n",
      "See the caveats in the documentation: http://pandas.pydata.org/pandas-docs/stable/indexing.html#indexing-view-versus-copy\n",
      "/anaconda3/lib/python3.6/site-packages/ipykernel/__main__.py:31: SettingWithCopyWarning: \n",
      "A value is trying to be set on a copy of a slice from a DataFrame.\n",
      "Try using .loc[row_indexer,col_indexer] = value instead\n",
      "\n",
      "See the caveats in the documentation: http://pandas.pydata.org/pandas-docs/stable/indexing.html#indexing-view-versus-copy\n"
     ]
    }
   ],
   "source": [
    "gb_clean['Polarity'] = gb_clean['pol_sub'].apply(lambda x: x[0])\n",
    "gb_clean['Subjectivity'] = gb_clean['pol_sub'].apply(lambda x: x[1])\n",
    "\n",
    "it_clean['Polarity'] = it_clean['pol_sub'].apply(lambda x: x[0])\n",
    "it_clean['Subjectivity'] = it_clean['pol_sub'].apply(lambda x: x[1])\n",
    "\n",
    "us_clean['Polarity'] = us_clean['pol_sub'].apply(lambda x: x[0])\n",
    "us_clean['Subjectivity'] = us_clean['pol_sub'].apply(lambda x: x[1])\n",
    "\n",
    "de_clean['Polarity'] = de_clean['pol_sub'].apply(lambda x: x[0])\n",
    "de_clean['Subjectivity'] = de_clean['pol_sub'].apply(lambda x: x[1])\n",
    "\n",
    "ca_clean['Polarity'] = ca_clean['pol_sub'].apply(lambda x: x[0])\n",
    "ca_clean['Subjectivity'] = ca_clean['pol_sub'].apply(lambda x: x[1])\n",
    "\n",
    "nl_clean['Polarity'] = nl_clean['pol_sub'].apply(lambda x: x[0])\n",
    "nl_clean['Subjectivity'] = nl_clean['pol_sub'].apply(lambda x: x[1])\n",
    "\n",
    "au_clean['Polarity'] = au_clean['pol_sub'].apply(lambda x: x[0])\n",
    "au_clean['Subjectivity'] = au_clean['pol_sub'].apply(lambda x: x[1])\n",
    "\n",
    "fr_clean['Polarity'] = fr_clean['pol_sub'].apply(lambda x: x[0])\n",
    "fr_clean['Subjectivity'] = fr_clean['pol_sub'].apply(lambda x: x[1])"
   ]
  },
  {
   "cell_type": "markdown",
   "metadata": {},
   "source": [
    "**Drop the pol_sub column**"
   ]
  },
  {
   "cell_type": "code",
   "execution_count": 26,
   "metadata": {
    "collapsed": true
   },
   "outputs": [],
   "source": [
    "gb_clean = gb_clean.drop(['pol_sub'], axis=1)\n",
    "it_clean = it_clean.drop(['pol_sub'], axis=1)\n",
    "us_clean = us_clean.drop(['pol_sub'], axis=1)\n",
    "de_clean = de_clean.drop(['pol_sub'], axis=1)\n",
    "ca_clean = ca_clean.drop(['pol_sub'], axis=1)\n",
    "nl_clean = nl_clean.drop(['pol_sub'], axis=1)\n",
    "au_clean = au_clean.drop(['pol_sub'], axis=1)\n",
    "fr_clean = fr_clean.drop(['pol_sub'], axis=1)"
   ]
  },
  {
   "cell_type": "markdown",
   "metadata": {},
   "source": [
    "### Do a quick check of the entire data frame"
   ]
  },
  {
   "cell_type": "code",
   "execution_count": 27,
   "metadata": {},
   "outputs": [
    {
     "name": "stdout",
     "output_type": "stream",
     "text": [
      "<class 'pandas.core.frame.DataFrame'>\n",
      "Int64Index: 1041 entries, 0 to 578617\n",
      "Data columns (total 12 columns):\n",
      "Track Name          1041 non-null object\n",
      "Artist              1041 non-null object\n",
      "ID                  1041 non-null object\n",
      "Lyrics              1041 non-null object\n",
      "Acousticness        1041 non-null float64\n",
      "Energy              1041 non-null float64\n",
      "Instrumentalness    1041 non-null float64\n",
      "Mode                1041 non-null float64\n",
      "Tempo               1041 non-null float64\n",
      "Valence             1041 non-null float64\n",
      "Polarity            1041 non-null float64\n",
      "Subjectivity        1041 non-null float64\n",
      "dtypes: float64(8), object(4)\n",
      "memory usage: 145.7+ KB\n"
     ]
    }
   ],
   "source": [
    "gb_clean.info()"
   ]
  },
  {
   "cell_type": "code",
   "execution_count": 28,
   "metadata": {},
   "outputs": [
    {
     "name": "stdout",
     "output_type": "stream",
     "text": [
      "<class 'pandas.core.frame.DataFrame'>\n",
      "Int64Index: 952 entries, 1 to 578920\n",
      "Data columns (total 12 columns):\n",
      "Track Name          952 non-null object\n",
      "Artist              952 non-null object\n",
      "ID                  952 non-null object\n",
      "Lyrics              952 non-null object\n",
      "Acousticness        952 non-null float64\n",
      "Energy              952 non-null float64\n",
      "Instrumentalness    952 non-null float64\n",
      "Mode                952 non-null float64\n",
      "Tempo               952 non-null float64\n",
      "Valence             952 non-null float64\n",
      "Polarity            952 non-null float64\n",
      "Subjectivity        952 non-null float64\n",
      "dtypes: float64(8), object(4)\n",
      "memory usage: 136.7+ KB\n"
     ]
    }
   ],
   "source": [
    "it_clean.info()"
   ]
  },
  {
   "cell_type": "code",
   "execution_count": 29,
   "metadata": {},
   "outputs": [
    {
     "name": "stdout",
     "output_type": "stream",
     "text": [
      "<class 'pandas.core.frame.DataFrame'>\n",
      "Int64Index: 908 entries, 4 to 578926\n",
      "Data columns (total 12 columns):\n",
      "Track Name          908 non-null object\n",
      "Artist              908 non-null object\n",
      "ID                  908 non-null object\n",
      "Lyrics              908 non-null object\n",
      "Acousticness        908 non-null float64\n",
      "Energy              908 non-null float64\n",
      "Instrumentalness    908 non-null float64\n",
      "Mode                908 non-null float64\n",
      "Tempo               908 non-null float64\n",
      "Valence             908 non-null float64\n",
      "Polarity            908 non-null float64\n",
      "Subjectivity        908 non-null float64\n",
      "dtypes: float64(8), object(4)\n",
      "memory usage: 92.2+ KB\n"
     ]
    }
   ],
   "source": [
    "us_clean.info()"
   ]
  },
  {
   "cell_type": "code",
   "execution_count": 30,
   "metadata": {},
   "outputs": [
    {
     "name": "stdout",
     "output_type": "stream",
     "text": [
      "<class 'pandas.core.frame.DataFrame'>\n",
      "Int64Index: 1020 entries, 8 to 577856\n",
      "Data columns (total 12 columns):\n",
      "Track Name          1020 non-null object\n",
      "Artist              1020 non-null object\n",
      "ID                  1020 non-null object\n",
      "Lyrics              1020 non-null object\n",
      "Acousticness        1020 non-null float64\n",
      "Energy              1020 non-null float64\n",
      "Instrumentalness    1020 non-null float64\n",
      "Mode                1020 non-null float64\n",
      "Tempo               1020 non-null float64\n",
      "Valence             1020 non-null float64\n",
      "Polarity            1020 non-null float64\n",
      "Subjectivity        1020 non-null float64\n",
      "dtypes: float64(8), object(4)\n",
      "memory usage: 103.6+ KB\n"
     ]
    }
   ],
   "source": [
    "de_clean.info()"
   ]
  },
  {
   "cell_type": "code",
   "execution_count": 31,
   "metadata": {},
   "outputs": [
    {
     "name": "stdout",
     "output_type": "stream",
     "text": [
      "<class 'pandas.core.frame.DataFrame'>\n",
      "Int64Index: 801 entries, 32 to 578615\n",
      "Data columns (total 12 columns):\n",
      "Track Name          801 non-null object\n",
      "Artist              801 non-null object\n",
      "ID                  801 non-null object\n",
      "Lyrics              801 non-null object\n",
      "Acousticness        801 non-null float64\n",
      "Energy              801 non-null float64\n",
      "Instrumentalness    801 non-null float64\n",
      "Mode                801 non-null float64\n",
      "Tempo               801 non-null float64\n",
      "Valence             801 non-null float64\n",
      "Polarity            801 non-null float64\n",
      "Subjectivity        801 non-null float64\n",
      "dtypes: float64(8), object(4)\n",
      "memory usage: 81.4+ KB\n"
     ]
    }
   ],
   "source": [
    "ca_clean.info()"
   ]
  },
  {
   "cell_type": "code",
   "execution_count": 32,
   "metadata": {},
   "outputs": [
    {
     "name": "stdout",
     "output_type": "stream",
     "text": [
      "<class 'pandas.core.frame.DataFrame'>\n",
      "Int64Index: 887 entries, 36 to 575613\n",
      "Data columns (total 12 columns):\n",
      "Track Name          887 non-null object\n",
      "Artist              887 non-null object\n",
      "ID                  887 non-null object\n",
      "Lyrics              887 non-null object\n",
      "Acousticness        887 non-null float64\n",
      "Energy              887 non-null float64\n",
      "Instrumentalness    887 non-null float64\n",
      "Mode                887 non-null float64\n",
      "Tempo               887 non-null float64\n",
      "Valence             887 non-null float64\n",
      "Polarity            887 non-null float64\n",
      "Subjectivity        887 non-null float64\n",
      "dtypes: float64(8), object(4)\n",
      "memory usage: 90.1+ KB\n"
     ]
    }
   ],
   "source": [
    "nl_clean.info()"
   ]
  },
  {
   "cell_type": "code",
   "execution_count": 33,
   "metadata": {},
   "outputs": [
    {
     "name": "stdout",
     "output_type": "stream",
     "text": [
      "<class 'pandas.core.frame.DataFrame'>\n",
      "Int64Index: 646 entries, 41 to 578619\n",
      "Data columns (total 12 columns):\n",
      "Track Name          646 non-null object\n",
      "Artist              646 non-null object\n",
      "ID                  646 non-null object\n",
      "Lyrics              646 non-null object\n",
      "Acousticness        646 non-null float64\n",
      "Energy              646 non-null float64\n",
      "Instrumentalness    646 non-null float64\n",
      "Mode                646 non-null float64\n",
      "Tempo               646 non-null float64\n",
      "Valence             646 non-null float64\n",
      "Polarity            646 non-null float64\n",
      "Subjectivity        646 non-null float64\n",
      "dtypes: float64(8), object(4)\n",
      "memory usage: 65.6+ KB\n"
     ]
    }
   ],
   "source": [
    "au_clean.info()"
   ]
  },
  {
   "cell_type": "code",
   "execution_count": 34,
   "metadata": {},
   "outputs": [
    {
     "name": "stdout",
     "output_type": "stream",
     "text": [
      "<class 'pandas.core.frame.DataFrame'>\n",
      "Int64Index: 1238 entries, 48 to 578929\n",
      "Data columns (total 12 columns):\n",
      "Track Name          1238 non-null object\n",
      "Artist              1238 non-null object\n",
      "ID                  1238 non-null object\n",
      "Lyrics              1238 non-null object\n",
      "Acousticness        1238 non-null float64\n",
      "Energy              1238 non-null float64\n",
      "Instrumentalness    1238 non-null float64\n",
      "Mode                1238 non-null float64\n",
      "Tempo               1238 non-null float64\n",
      "Valence             1238 non-null float64\n",
      "Polarity            1238 non-null float64\n",
      "Subjectivity        1238 non-null float64\n",
      "dtypes: float64(8), object(4)\n",
      "memory usage: 125.7+ KB\n"
     ]
    }
   ],
   "source": [
    "fr_clean.info()"
   ]
  },
  {
   "cell_type": "markdown",
   "metadata": {},
   "source": [
    "## Train/Test-split"
   ]
  },
  {
   "cell_type": "markdown",
   "metadata": {},
   "source": [
    "Divide the data into a train and a test set (with a test set of 25%, which is also default)"
   ]
  },
  {
   "cell_type": "code",
   "execution_count": 35,
   "metadata": {
    "collapsed": true
   },
   "outputs": [],
   "source": [
    "gb_dep   = gb_clean['Valence']\n",
    "gb_indep = gb_clean\n",
    "gb_indep_train, gb_indep_test, gb_dep_train, gb_dep_test = train_test_split(gb_indep, gb_dep, test_size = 0.25,\n",
    "                                                                            random_state=24)\n",
    "\n",
    "it_dep   = it_clean['Valence']\n",
    "it_indep = it_clean\n",
    "it_indep_train, it_indep_test, it_dep_train, it_dep_test = train_test_split(it_indep, it_dep, test_size = 0.25,\n",
    "                                                                            random_state=24)\n",
    "\n",
    "us_dep   = us_clean['Valence']\n",
    "us_indep = us_clean\n",
    "us_indep_train, us_indep_test, us_dep_train, us_dep_test = train_test_split(us_indep, us_dep, test_size = 0.25,\n",
    "                                                                            random_state=24)\n",
    "\n",
    "de_dep   = de_clean['Valence']\n",
    "de_indep = de_clean\n",
    "de_indep_train, de_indep_test, de_dep_train, de_dep_test = train_test_split(de_indep, de_dep, test_size = 0.25,\n",
    "                                                                            random_state=24)\n",
    "\n",
    "ca_dep   = ca_clean['Valence']\n",
    "ca_indep = ca_clean\n",
    "ca_indep_train, ca_indep_test, ca_dep_train, ca_dep_test = train_test_split(ca_indep, ca_dep, test_size = 0.25,\n",
    "                                                                            random_state=24)\n",
    "\n",
    "nl_dep   = nl_clean['Valence']\n",
    "nl_indep = nl_clean\n",
    "nl_indep_train, nl_indep_test, nl_dep_train, nl_dep_test = train_test_split(nl_indep, nl_dep, test_size = 0.25,\n",
    "                                                                            random_state=24)\n",
    "\n",
    "au_dep   = au_clean['Valence']\n",
    "au_indep = au_clean\n",
    "au_indep_train, au_indep_test, au_dep_train, au_dep_test = train_test_split(au_indep, au_dep, test_size = 0.25,\n",
    "                                                                            random_state=24)\n",
    "\n",
    "fr_dep   = fr_clean['Valence']\n",
    "fr_indep = fr_clean\n",
    "fr_indep_train, fr_indep_test, fr_dep_train, fr_dep_test = train_test_split(fr_indep, fr_dep, test_size = 0.25,\n",
    "                                                                            random_state=24)"
   ]
  },
  {
   "cell_type": "markdown",
   "metadata": {},
   "source": [
    "## NLP"
   ]
  },
  {
   "cell_type": "code",
   "execution_count": 44,
   "metadata": {},
   "outputs": [],
   "source": [
    "# read in csv with stop words\n",
    "stop_words_df = pd.read_csv('./stop_words.csv')"
   ]
  },
  {
   "cell_type": "code",
   "execution_count": 45,
   "metadata": {},
   "outputs": [],
   "source": [
    "# turn the df to list\n",
    "stop_words = stop_words_df['colummn'].tolist()"
   ]
  },
  {
   "cell_type": "markdown",
   "metadata": {},
   "source": [
    "### CountVectorizer (use in model 1)"
   ]
  },
  {
   "cell_type": "code",
   "execution_count": 58,
   "metadata": {
    "collapsed": true
   },
   "outputs": [],
   "source": [
    "# instantiate the model\n",
    "cvec = CountVectorizer(stop_words = stop_words, max_features = 1000) "
   ]
  },
  {
   "cell_type": "markdown",
   "metadata": {},
   "source": [
    "GB"
   ]
  },
  {
   "cell_type": "code",
   "execution_count": 59,
   "metadata": {
    "collapsed": true
   },
   "outputs": [],
   "source": [
    "# fit the count vectorizer with training data. \n",
    "cvec.fit(gb_indep_train['Lyrics'])\n",
    "# transform X_train\n",
    "gb_cvec = cvec.transform(gb_indep_train['Lyrics'])\n",
    "# Turn the features into a data frame\n",
    "gb_df  = pd.DataFrame(gb_cvec.todense(),columns=cvec.get_feature_names())\n",
    "# Concat with big data frame and use for fitting the model\n",
    "gb_indep_train_cvec = pd.concat([gb_indep_train.reset_index(drop=True), gb_df], axis=1)\n",
    "# transform X_test\n",
    "gb_cvec2 = cvec.transform(gb_indep_test['Lyrics'])\n",
    "# Turn the features into a data frame\n",
    "gb_df2  = pd.DataFrame(gb_cvec2.todense(),columns=cvec.get_feature_names())\n",
    "# Concat with big data frame and use for scoring the model\n",
    "gb_indep_test_cvec = pd.concat([gb_indep_test.reset_index(drop=True), gb_df2 ], axis=1)"
   ]
  },
  {
   "cell_type": "markdown",
   "metadata": {},
   "source": [
    "IT"
   ]
  },
  {
   "cell_type": "code",
   "execution_count": 60,
   "metadata": {
    "collapsed": true
   },
   "outputs": [],
   "source": [
    "# fit the count vectorizer with training data. \n",
    "cvec.fit(it_indep_train['Lyrics'])\n",
    "# transform X_train\n",
    "it_cvec = cvec.transform(it_indep_train['Lyrics'])\n",
    "# Turn the features into a data frame\n",
    "it_df  = pd.DataFrame(it_cvec.todense(),columns=cvec.get_feature_names())\n",
    "# Concat with big data frame and use for fitting the model\n",
    "it_indep_train_cvec = pd.concat([it_indep_train.reset_index(drop=True), it_df], axis=1)\n",
    "# transform X_test\n",
    "it_cvec2 = cvec.transform(it_indep_test['Lyrics'])\n",
    "# Turn the features into a data frame\n",
    "it_df2  = pd.DataFrame(it_cvec2.todense(),columns=cvec.get_feature_names())\n",
    "# Concat with big data frame and use for scoring the model\n",
    "it_indep_test_cvec = pd.concat([it_indep_test.reset_index(drop=True), it_df2 ], axis=1)"
   ]
  },
  {
   "cell_type": "markdown",
   "metadata": {},
   "source": [
    "US"
   ]
  },
  {
   "cell_type": "code",
   "execution_count": 61,
   "metadata": {
    "collapsed": true
   },
   "outputs": [],
   "source": [
    "# fit the count vectorizer with training data. \n",
    "cvec.fit(us_indep_train['Lyrics'])\n",
    "# transform X_train\n",
    "us_cvec = cvec.transform(us_indep_train['Lyrics'])\n",
    "# Turn the features into a data frame\n",
    "us_df  = pd.DataFrame(us_cvec.todense(),columns=cvec.get_feature_names())\n",
    "# Concat with big data frame and use for fitting the model\n",
    "us_indep_train_cvec = pd.concat([us_indep_train.reset_index(drop=True), us_df], axis=1)\n",
    "# transform X_test\n",
    "us_cvec2 = cvec.transform(us_indep_test['Lyrics'])\n",
    "# Turn the features into a data frame\n",
    "us_df2  = pd.DataFrame(us_cvec2.todense(),columns=cvec.get_feature_names())\n",
    "# Concat with big data frame and use for scoring the model\n",
    "us_indep_test_cvec = pd.concat([us_indep_test.reset_index(drop=True), us_df2 ], axis=1)"
   ]
  },
  {
   "cell_type": "markdown",
   "metadata": {},
   "source": [
    "DE"
   ]
  },
  {
   "cell_type": "code",
   "execution_count": 62,
   "metadata": {
    "collapsed": true
   },
   "outputs": [],
   "source": [
    "# fit the count vectorizer with training data. \n",
    "cvec.fit(de_indep_train['Lyrics'])\n",
    "# transform X_train\n",
    "de_cvec = cvec.transform(de_indep_train['Lyrics'])\n",
    "# Turn the features into a data frame\n",
    "de_df  = pd.DataFrame(de_cvec.todense(),columns=cvec.get_feature_names())\n",
    "# Concat with big data frame and use for fitting the model\n",
    "de_indep_train_cvec = pd.concat([de_indep_train.reset_index(drop=True), de_df], axis=1)\n",
    "# transform X_test\n",
    "de_cvec2 = cvec.transform(de_indep_test['Lyrics'])\n",
    "# Turn the features into a data frame\n",
    "de_df2  = pd.DataFrame(de_cvec2.todense(),columns=cvec.get_feature_names())\n",
    "# Concat with big data frame and use for scoring the model\n",
    "de_indep_test_cvec = pd.concat([de_indep_test.reset_index(drop=True), de_df2 ], axis=1)"
   ]
  },
  {
   "cell_type": "markdown",
   "metadata": {},
   "source": [
    "CA"
   ]
  },
  {
   "cell_type": "code",
   "execution_count": 63,
   "metadata": {
    "collapsed": true
   },
   "outputs": [],
   "source": [
    "# fit the count vectorizer with training data. \n",
    "cvec.fit(ca_indep_train['Lyrics'])\n",
    "# transform X_train\n",
    "ca_cvec = cvec.transform(ca_indep_train['Lyrics'])\n",
    "# Turn the features into a data frame\n",
    "ca_df  = pd.DataFrame(ca_cvec.todense(),columns=cvec.get_feature_names())\n",
    "# Concat with big data frame and use for fitting the model\n",
    "ca_indep_train_cvec = pd.concat([ca_indep_train.reset_index(drop=True), ca_df], axis=1)\n",
    "# transform X_test\n",
    "ca_cvec2 = cvec.transform(ca_indep_test['Lyrics'])\n",
    "# Turn the features into a data frame\n",
    "ca_df2  = pd.DataFrame(ca_cvec2.todense(),columns=cvec.get_feature_names())\n",
    "# Concat with big data frame and use for scoring the model\n",
    "ca_indep_test_cvec = pd.concat([ca_indep_test.reset_index(drop=True), ca_df2 ], axis=1)"
   ]
  },
  {
   "cell_type": "markdown",
   "metadata": {},
   "source": [
    "NL"
   ]
  },
  {
   "cell_type": "code",
   "execution_count": 64,
   "metadata": {
    "collapsed": true
   },
   "outputs": [],
   "source": [
    "# fit the count vectorizer with training data. \n",
    "cvec.fit(nl_indep_train['Lyrics'])\n",
    "# transform X_train\n",
    "nl_cvec = cvec.transform(nl_indep_train['Lyrics'])\n",
    "# Turn the features into a data frame\n",
    "nl_df  = pd.DataFrame(nl_cvec.todense(),columns=cvec.get_feature_names())\n",
    "# Concat with big data frame and use for fitting the model\n",
    "nl_indep_train_cvec = pd.concat([nl_indep_train.reset_index(drop=True), nl_df], axis=1)\n",
    "# transform X_test\n",
    "nl_cvec2 = cvec.transform(nl_indep_test['Lyrics'])\n",
    "# Turn the features into a data frame\n",
    "nl_df2  = pd.DataFrame(nl_cvec2.todense(),columns=cvec.get_feature_names())\n",
    "# Concat with big data frame and use for scoring the model\n",
    "nl_indep_test_cvec = pd.concat([nl_indep_test.reset_index(drop=True), nl_df2 ], axis=1)"
   ]
  },
  {
   "cell_type": "markdown",
   "metadata": {},
   "source": [
    "AU"
   ]
  },
  {
   "cell_type": "code",
   "execution_count": 65,
   "metadata": {
    "collapsed": true
   },
   "outputs": [],
   "source": [
    "# fit the count vectorizer with training data. \n",
    "cvec.fit(au_indep_train['Lyrics'])\n",
    "# transform X_train\n",
    "au_cvec = cvec.transform(au_indep_train['Lyrics'])\n",
    "# Turn the features into a data frame\n",
    "au_df  = pd.DataFrame(au_cvec.todense(),columns=cvec.get_feature_names())\n",
    "# Concat with big data frame and use for fitting the model\n",
    "au_indep_train_cvec = pd.concat([au_indep_train.reset_index(drop=True), au_df], axis=1)\n",
    "# transform X_test\n",
    "au_cvec2 = cvec.transform(au_indep_test['Lyrics'])\n",
    "# Turn the features into a data frame\n",
    "au_df2  = pd.DataFrame(au_cvec2.todense(),columns=cvec.get_feature_names())\n",
    "# Concat with big data frame and use for scoring the model\n",
    "au_indep_test_cvec = pd.concat([au_indep_test.reset_index(drop=True), au_df2 ], axis=1)"
   ]
  },
  {
   "cell_type": "markdown",
   "metadata": {},
   "source": [
    "FR"
   ]
  },
  {
   "cell_type": "code",
   "execution_count": 66,
   "metadata": {
    "collapsed": true
   },
   "outputs": [],
   "source": [
    "# fit the count vectorizer with training data. \n",
    "cvec.fit(fr_indep_train['Lyrics'])\n",
    "# transform X_train\n",
    "fr_cvec = cvec.transform(fr_indep_train['Lyrics'])\n",
    "# Turn the features into a data frame\n",
    "fr_df  = pd.DataFrame(fr_cvec.todense(),columns=cvec.get_feature_names())\n",
    "# Concat with big data frame and use for fitting the model\n",
    "fr_indep_train_cvec = pd.concat([fr_indep_train.reset_index(drop=True), fr_df], axis=1)\n",
    "# transform X_test\n",
    "fr_cvec2 = cvec.transform(fr_indep_test['Lyrics'])\n",
    "# Turn the features into a data frame\n",
    "fr_df2  = pd.DataFrame(fr_cvec2.todense(),columns=cvec.get_feature_names())\n",
    "# Concat with big data frame and use for scoring the model\n",
    "fr_indep_test_cvec = pd.concat([fr_indep_test.reset_index(drop=True), fr_df2 ], axis=1)"
   ]
  },
  {
   "cell_type": "markdown",
   "metadata": {},
   "source": [
    "### TF-IDF (use in model 2)"
   ]
  },
  {
   "cell_type": "code",
   "execution_count": 67,
   "metadata": {
    "collapsed": true
   },
   "outputs": [],
   "source": [
    "# instantiate the model\n",
    "tvec = TfidfVectorizer(stop_words = stop_words, max_features = 1000) "
   ]
  },
  {
   "cell_type": "markdown",
   "metadata": {},
   "source": [
    "GB"
   ]
  },
  {
   "cell_type": "code",
   "execution_count": 68,
   "metadata": {
    "collapsed": true
   },
   "outputs": [],
   "source": [
    "# fit the count vectorizer with training data. \n",
    "tvec.fit(gb_indep_train['Lyrics'])\n",
    "# transform X_train\n",
    "gb_tvec = tvec.transform(gb_indep_train['Lyrics'])\n",
    "# Turn the features into a data frame\n",
    "gb_df  = pd.DataFrame(gb_tvec.todense(),columns=tvec.get_feature_names())\n",
    "# Concat with big data frame and use for fitting the model\n",
    "gb_indep_train_tvec = pd.concat([gb_indep_train.reset_index(drop=True), gb_df], axis=1)\n",
    "# transform X_test\n",
    "gb_tvec2 = tvec.transform(gb_indep_test['Lyrics'])\n",
    "# Turn the features into a data frame\n",
    "gb_df2  = pd.DataFrame(gb_tvec2.todense(),columns=tvec.get_feature_names())\n",
    "# Concat with big data frame and use for scoring the model\n",
    "gb_indep_test_tvec = pd.concat([gb_indep_test.reset_index(drop=True), gb_df2 ], axis=1)"
   ]
  },
  {
   "cell_type": "markdown",
   "metadata": {},
   "source": [
    "IT"
   ]
  },
  {
   "cell_type": "code",
   "execution_count": 69,
   "metadata": {
    "collapsed": true
   },
   "outputs": [],
   "source": [
    "# fit the count vectorizer with training data. \n",
    "tvec.fit(it_indep_train['Lyrics'])\n",
    "# transform X_train\n",
    "it_tvec = tvec.transform(it_indep_train['Lyrics'])\n",
    "# Turn the features into a data frame\n",
    "it_df  = pd.DataFrame(it_tvec.todense(),columns=tvec.get_feature_names())\n",
    "# Concat with big data frame and use for fitting the model\n",
    "it_indep_train_tvec = pd.concat([it_indep_train.reset_index(drop=True), it_df], axis=1)\n",
    "# transform X_test\n",
    "it_tvec2 = tvec.transform(it_indep_test['Lyrics'])\n",
    "# Turn the features into a data frame\n",
    "it_df2  = pd.DataFrame(it_tvec2.todense(),columns=tvec.get_feature_names())\n",
    "# Concat with big data frame and use for scoring the model\n",
    "it_indep_test_tvec = pd.concat([it_indep_test.reset_index(drop=True), it_df2 ], axis=1)"
   ]
  },
  {
   "cell_type": "markdown",
   "metadata": {},
   "source": [
    "US"
   ]
  },
  {
   "cell_type": "code",
   "execution_count": 70,
   "metadata": {
    "collapsed": true
   },
   "outputs": [],
   "source": [
    "# fit the count vectorizer with training data. \n",
    "tvec.fit(us_indep_train['Lyrics'])\n",
    "# transform X_train\n",
    "us_tvec = tvec.transform(us_indep_train['Lyrics'])\n",
    "# Turn the features into a data frame\n",
    "us_df  = pd.DataFrame(us_tvec.todense(),columns=tvec.get_feature_names())\n",
    "# Concat with big data frame and use for fitting the model\n",
    "us_indep_train_tvec = pd.concat([us_indep_train.reset_index(drop=True), us_df], axis=1)\n",
    "# transform X_test\n",
    "us_tvec2 = tvec.transform(us_indep_test['Lyrics'])\n",
    "# Turn the features into a data frame\n",
    "us_df2  = pd.DataFrame(us_tvec2.todense(),columns=tvec.get_feature_names())\n",
    "# Concat with big data frame and use for scoring the model\n",
    "us_indep_test_tvec = pd.concat([us_indep_test.reset_index(drop=True), us_df2 ], axis=1)"
   ]
  },
  {
   "cell_type": "markdown",
   "metadata": {},
   "source": [
    "DE"
   ]
  },
  {
   "cell_type": "code",
   "execution_count": 71,
   "metadata": {
    "collapsed": true
   },
   "outputs": [],
   "source": [
    "# fit the count vectorizer with training data. \n",
    "tvec.fit(de_indep_train['Lyrics'])\n",
    "# transform X_train\n",
    "de_tvec = tvec.transform(de_indep_train['Lyrics'])\n",
    "# Turn the features into a data frame\n",
    "de_df  = pd.DataFrame(de_tvec.todense(),columns=tvec.get_feature_names())\n",
    "# Concat with big data frame and use for fitting the model\n",
    "de_indep_train_tvec = pd.concat([de_indep_train.reset_index(drop=True), de_df], axis=1)\n",
    "# transform X_test\n",
    "de_tvec2 = tvec.transform(de_indep_test['Lyrics'])\n",
    "# Turn the features into a data frame\n",
    "de_df2  = pd.DataFrame(de_tvec2.todense(),columns=tvec.get_feature_names())\n",
    "# Concat with big data frame and use for scoring the model\n",
    "de_indep_test_tvec = pd.concat([de_indep_test.reset_index(drop=True), de_df2 ], axis=1)"
   ]
  },
  {
   "cell_type": "markdown",
   "metadata": {},
   "source": [
    "CA"
   ]
  },
  {
   "cell_type": "code",
   "execution_count": 72,
   "metadata": {
    "collapsed": true
   },
   "outputs": [],
   "source": [
    "# fit the count vectorizer with training data. \n",
    "tvec.fit(ca_indep_train['Lyrics'])\n",
    "# transform X_train\n",
    "ca_tvec = tvec.transform(ca_indep_train['Lyrics'])\n",
    "# Turn the features into a data frame\n",
    "ca_df  = pd.DataFrame(ca_tvec.todense(),columns=tvec.get_feature_names())\n",
    "# Concat with big data frame and use for fitting the model\n",
    "ca_indep_train_tvec = pd.concat([ca_indep_train.reset_index(drop=True), ca_df], axis=1)\n",
    "# transform X_test\n",
    "ca_tvec2 = tvec.transform(ca_indep_test['Lyrics'])\n",
    "# Turn the features into a data frame\n",
    "ca_df2  = pd.DataFrame(ca_tvec2.todense(),columns=tvec.get_feature_names())\n",
    "# Concat with big data frame and use for scoring the model\n",
    "ca_indep_test_tvec = pd.concat([ca_indep_test.reset_index(drop=True), ca_df2 ], axis=1)"
   ]
  },
  {
   "cell_type": "markdown",
   "metadata": {},
   "source": [
    "NL"
   ]
  },
  {
   "cell_type": "code",
   "execution_count": 73,
   "metadata": {
    "collapsed": true
   },
   "outputs": [],
   "source": [
    "# fit the count vectorizer with training data. \n",
    "tvec.fit(nl_indep_train['Lyrics'])\n",
    "# transform X_train\n",
    "nl_tvec = tvec.transform(nl_indep_train['Lyrics'])\n",
    "# Turn the features into a data frame\n",
    "nl_df  = pd.DataFrame(nl_tvec.todense(),columns=tvec.get_feature_names())\n",
    "# Concat with big data frame and use for fitting the model\n",
    "nl_indep_train_tvec = pd.concat([nl_indep_train.reset_index(drop=True), nl_df], axis=1)\n",
    "# transform X_test\n",
    "nl_tvec2 = tvec.transform(nl_indep_test['Lyrics'])\n",
    "# Turn the features into a data frame\n",
    "nl_df2  = pd.DataFrame(nl_tvec2.todense(),columns=tvec.get_feature_names())\n",
    "# Concat with big data frame and use for scoring the model\n",
    "nl_indep_test_tvec = pd.concat([nl_indep_test.reset_index(drop=True), nl_df2 ], axis=1)"
   ]
  },
  {
   "cell_type": "markdown",
   "metadata": {},
   "source": [
    "AU"
   ]
  },
  {
   "cell_type": "code",
   "execution_count": 74,
   "metadata": {
    "collapsed": true
   },
   "outputs": [],
   "source": [
    "# fit the count vectorizer with training data. \n",
    "tvec.fit(au_indep_train['Lyrics'])\n",
    "# transform X_train\n",
    "au_tvec = tvec.transform(au_indep_train['Lyrics'])\n",
    "# Turn the features into a data frame\n",
    "au_df  = pd.DataFrame(au_tvec.todense(),columns=tvec.get_feature_names())\n",
    "# Concat with big data frame and use for fitting the model\n",
    "au_indep_train_tvec = pd.concat([au_indep_train.reset_index(drop=True), au_df], axis=1)\n",
    "# transform X_test\n",
    "au_tvec2 = tvec.transform(au_indep_test['Lyrics'])\n",
    "# Turn the features into a data frame\n",
    "au_df2  = pd.DataFrame(au_tvec2.todense(),columns=tvec.get_feature_names())\n",
    "# Concat with big data frame and use for scoring the model\n",
    "au_indep_test_tvec = pd.concat([au_indep_test.reset_index(drop=True), au_df2 ], axis=1)"
   ]
  },
  {
   "cell_type": "markdown",
   "metadata": {},
   "source": [
    "FR"
   ]
  },
  {
   "cell_type": "code",
   "execution_count": 75,
   "metadata": {
    "collapsed": true
   },
   "outputs": [],
   "source": [
    "# fit the count vectorizer with training data. \n",
    "tvec.fit(fr_indep_train['Lyrics'])\n",
    "# transform X_train\n",
    "fr_tvec = tvec.transform(fr_indep_train['Lyrics'])\n",
    "# Turn the features into a data frame\n",
    "fr_df  = pd.DataFrame(fr_tvec.todense(),columns=tvec.get_feature_names())\n",
    "# Concat with big data frame and use for fitting the model\n",
    "fr_indep_train_tvec = pd.concat([fr_indep_train.reset_index(drop=True), fr_df], axis=1)\n",
    "# transform X_test\n",
    "fr_tvec2 = tvec.transform(fr_indep_test['Lyrics'])\n",
    "# Turn the features into a data frame\n",
    "fr_df2  = pd.DataFrame(fr_tvec2.todense(),columns=tvec.get_feature_names())\n",
    "# Concat with big data frame and use for scoring the model\n",
    "fr_indep_test_tvec = pd.concat([fr_indep_test.reset_index(drop=True), fr_df2 ], axis=1)"
   ]
  },
  {
   "cell_type": "markdown",
   "metadata": {},
   "source": [
    "## Models (Lasso) - CountVec"
   ]
  },
  {
   "cell_type": "markdown",
   "metadata": {},
   "source": [
    "I did choose Lasso bc that gave the best score when looking at all countries togehter.<BR />\n",
    "If the Lasso scores very well in one country (compared to the total score) then I might consider trying other models."
   ]
  },
  {
   "cell_type": "markdown",
   "metadata": {},
   "source": [
    "**Lasso function (best hyperparameters to use and evauation of the model)**"
   ]
  },
  {
   "cell_type": "code",
   "execution_count": 78,
   "metadata": {
    "collapsed": true
   },
   "outputs": [],
   "source": [
    "def get_best_hype(model, params, X_train, y_train):  \n",
    "    # standardize\n",
    "    ss = StandardScaler()\n",
    "    ss.fit(X_train)\n",
    "    X_train_s = ss.transform(X_train)\n",
    "    \n",
    "    # Best Hyperparameters\n",
    "    gs = GridSearchCV(model, grid) # cv default = 3\n",
    "    \n",
    "    # fit\n",
    "    gs.fit(X_train_s, y_train)\n",
    "     \n",
    "    return {'best_score': gs.best_score_,'best_params': gs.best_params_} \n",
    "\n",
    "def evaluate_model(model, X_train, X_test, y_train, y_test):\n",
    "    # standardize the predictors\n",
    "    ss = StandardScaler()\n",
    "    ss.fit(X_train)\n",
    "    X_train_s = ss.transform(X_train)\n",
    "    X_test_s = ss.transform(X_test)\n",
    "    \n",
    "    # fit\n",
    "    model.fit(X_train_s, y_train)\n",
    "    \n",
    "    # Evaluate: predict\n",
    "    \n",
    "    y_pred = model.predict(X_test_s)\n",
    "    y_true = y_test\n",
    "    \n",
    "    mean_square_error = np.sqrt(sklearn.metrics.mean_squared_error(y_true, y_pred))\n",
    "    \n",
    "    # Evaluate: score\n",
    "    score = model.score(X_test_s, y_test)\n",
    "    \n",
    "    return {'Score (R^2)': score.mean(), 'MSE': mean_square_error}"
   ]
  },
  {
   "cell_type": "markdown",
   "metadata": {},
   "source": [
    "**Great Brittan / United Kingdom**"
   ]
  },
  {
   "cell_type": "code",
   "execution_count": 84,
   "metadata": {},
   "outputs": [
    {
     "data": {
      "text/plain": [
       "{'best_params': {'alpha': 0.014174741629268055, 'selection': 'cyclic'},\n",
       " 'best_score': 0.1683966517723151}"
      ]
     },
     "execution_count": 84,
     "metadata": {},
     "output_type": "execute_result"
    }
   ],
   "source": [
    "# Declare indep and dep\n",
    "X_train_gb = gb_indep_train_cvec.drop(['Track Name', 'Artist', 'ID', 'Lyrics', 'Valence'], axis=1)\n",
    "y_train_gb = gb_dep_train\n",
    "X_test_gb = gb_indep_test_cvec.drop(['Track Name', 'Artist', 'ID', 'Lyrics', 'Valence'], axis=1)\n",
    "y_test_gb = gb_dep_test\n",
    "\n",
    "# GridSearchCV\n",
    "grid = {'alpha': np.logspace(-3, 3, 100),\n",
    "        'selection' : ('cyclic', 'random')}\n",
    "\n",
    "lassoreg = Lasso(random_state=24, fit_intercept=True, normalize=False, max_iter=1000)\n",
    "\n",
    "get_best_hype(lassoreg, grid, X_train_gb, y_train_gb)"
   ]
  },
  {
   "cell_type": "code",
   "execution_count": 85,
   "metadata": {},
   "outputs": [
    {
     "data": {
      "text/plain": [
       "{'MSE': 0.21918612906036872, 'Score (R^2)': 0.12372100674644926}"
      ]
     },
     "execution_count": 85,
     "metadata": {},
     "output_type": "execute_result"
    }
   ],
   "source": [
    "# chose model and use best hyperparameters (from gridsearchCV)\n",
    "lassoreg = Lasso(random_state=24, fit_intercept=True, normalize=False, max_iter=1000, alpha=0.0142, selection='cyclic')\n",
    "\n",
    "# call function\n",
    "evaluate_model(lassoreg, X_train_gb, X_test_gb, y_train_gb, y_test_gb)"
   ]
  },
  {
   "cell_type": "code",
   "execution_count": 86,
   "metadata": {},
   "outputs": [
    {
     "data": {
      "text/plain": [
       "array(['gb', 'it', 'us', 'de', 'ca', 'nl', 'au', 'fr'], dtype=object)"
      ]
     },
     "execution_count": 86,
     "metadata": {},
     "output_type": "execute_result"
    }
   ],
   "source": [
    "data['Country'].unique()"
   ]
  },
  {
   "cell_type": "markdown",
   "metadata": {},
   "source": [
    "**Italy**"
   ]
  },
  {
   "cell_type": "markdown",
   "metadata": {},
   "source": [
    "**US**"
   ]
  },
  {
   "cell_type": "markdown",
   "metadata": {},
   "source": [
    "**Deutchland / Germany**"
   ]
  },
  {
   "cell_type": "markdown",
   "metadata": {},
   "source": [
    "**Canada**"
   ]
  },
  {
   "cell_type": "markdown",
   "metadata": {},
   "source": [
    "**Netherlands**"
   ]
  },
  {
   "cell_type": "markdown",
   "metadata": {},
   "source": [
    "**Australia**"
   ]
  },
  {
   "cell_type": "markdown",
   "metadata": {},
   "source": [
    "**France**"
   ]
  },
  {
   "cell_type": "code",
   "execution_count": null,
   "metadata": {
    "collapsed": true
   },
   "outputs": [],
   "source": []
  },
  {
   "cell_type": "code",
   "execution_count": null,
   "metadata": {
    "collapsed": true
   },
   "outputs": [],
   "source": []
  },
  {
   "cell_type": "code",
   "execution_count": null,
   "metadata": {
    "collapsed": true
   },
   "outputs": [],
   "source": []
  },
  {
   "cell_type": "code",
   "execution_count": null,
   "metadata": {
    "collapsed": true
   },
   "outputs": [],
   "source": []
  },
  {
   "cell_type": "markdown",
   "metadata": {},
   "source": [
    "## Models (Lasso) - TF-IDF"
   ]
  },
  {
   "cell_type": "code",
   "execution_count": null,
   "metadata": {
    "collapsed": true
   },
   "outputs": [],
   "source": [
    "gb_indep_train_tvec, gb_indep_test_tvec, gb_dep_train, gb_dep_test"
   ]
  }
 ],
 "metadata": {
  "kernelspec": {
   "display_name": "Python [default]",
   "language": "python",
   "name": "python3"
  },
  "language_info": {
   "codemirror_mode": {
    "name": "ipython",
    "version": 3
   },
   "file_extension": ".py",
   "mimetype": "text/x-python",
   "name": "python",
   "nbconvert_exporter": "python",
   "pygments_lexer": "ipython3",
   "version": "3.6.3"
  }
 },
 "nbformat": 4,
 "nbformat_minor": 2
}
