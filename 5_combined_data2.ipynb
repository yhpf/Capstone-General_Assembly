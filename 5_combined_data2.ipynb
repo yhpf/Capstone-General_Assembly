{
 "cells": [
  {
   "cell_type": "markdown",
   "metadata": {},
   "source": [
    "# Combinding data to one Data Frame 2"
   ]
  },
  {
   "cell_type": "markdown",
   "metadata": {},
   "source": [
    "## Import things"
   ]
  },
  {
   "cell_type": "code",
   "execution_count": 1,
   "metadata": {
    "collapsed": true
   },
   "outputs": [],
   "source": [
    "import pandas as pd\n",
    "import numpy as np"
   ]
  },
  {
   "cell_type": "markdown",
   "metadata": {},
   "source": [
    "## Load the data"
   ]
  },
  {
   "cell_type": "code",
   "execution_count": 2,
   "metadata": {},
   "outputs": [
    {
     "name": "stderr",
     "output_type": "stream",
     "text": [
      "/anaconda3/lib/python3.6/site-packages/IPython/core/interactiveshell.py:2698: DtypeWarning: Columns (15,16,17) have mixed types. Specify dtype option on import or set low_memory=False.\n",
      "  interactivity=interactivity, compiler=compiler, result=result)\n"
     ]
    }
   ],
   "source": [
    "sl = pd.read_csv('./songs_lyrics.csv')"
   ]
  },
  {
   "cell_type": "code",
   "execution_count": 3,
   "metadata": {
    "collapsed": true
   },
   "outputs": [],
   "source": [
    "sa = pd.read_csv('./spotify_api_data.csv')"
   ]
  },
  {
   "cell_type": "markdown",
   "metadata": {},
   "source": [
    "## Look at the data"
   ]
  },
  {
   "cell_type": "code",
   "execution_count": 5,
   "metadata": {},
   "outputs": [
    {
     "data": {
      "text/html": [
       "<div>\n",
       "<style>\n",
       "    .dataframe thead tr:only-child th {\n",
       "        text-align: right;\n",
       "    }\n",
       "\n",
       "    .dataframe thead th {\n",
       "        text-align: left;\n",
       "    }\n",
       "\n",
       "    .dataframe tbody tr th {\n",
       "        vertical-align: top;\n",
       "    }\n",
       "</style>\n",
       "<table border=\"1\" class=\"dataframe\">\n",
       "  <thead>\n",
       "    <tr style=\"text-align: right;\">\n",
       "      <th></th>\n",
       "      <th>Unnamed: 0</th>\n",
       "      <th>Unnamed: 0_x</th>\n",
       "      <th>Position</th>\n",
       "      <th>Track Name</th>\n",
       "      <th>Artist</th>\n",
       "      <th>Streams</th>\n",
       "      <th>URL</th>\n",
       "      <th>Date</th>\n",
       "      <th>Year</th>\n",
       "      <th>Month</th>\n",
       "      <th>Day</th>\n",
       "      <th>Country</th>\n",
       "      <th>Region</th>\n",
       "      <th>art_song</th>\n",
       "      <th>Unnamed: 0_y</th>\n",
       "      <th>Band</th>\n",
       "      <th>Lyrics</th>\n",
       "      <th>Song</th>\n",
       "      <th>_merge</th>\n",
       "    </tr>\n",
       "  </thead>\n",
       "  <tbody>\n",
       "    <tr>\n",
       "      <th>0</th>\n",
       "      <td>0</td>\n",
       "      <td>2333254</td>\n",
       "      <td>197</td>\n",
       "      <td>Bailemos juntos</td>\n",
       "      <td>#TocoParaVos</td>\n",
       "      <td>1005</td>\n",
       "      <td>https://open.spotify.com/track/4LEzZn6vpMkQAQu...</td>\n",
       "      <td>2017-01-01</td>\n",
       "      <td>2017</td>\n",
       "      <td>1</td>\n",
       "      <td>1</td>\n",
       "      <td>uy</td>\n",
       "      <td>sa</td>\n",
       "      <td>#TocoParaVos - Bailemos juntos</td>\n",
       "      <td>NaN</td>\n",
       "      <td>NaN</td>\n",
       "      <td>NaN</td>\n",
       "      <td>NaN</td>\n",
       "      <td>left_only</td>\n",
       "    </tr>\n",
       "    <tr>\n",
       "      <th>1</th>\n",
       "      <td>1</td>\n",
       "      <td>149761</td>\n",
       "      <td>162</td>\n",
       "      <td>Enganchado #TocoParaVos - Cumbia Mix</td>\n",
       "      <td>#TocoParaVos</td>\n",
       "      <td>14864</td>\n",
       "      <td>https://open.spotify.com/track/7zW4IqrzU6dTLw3...</td>\n",
       "      <td>2017-01-07</td>\n",
       "      <td>2017</td>\n",
       "      <td>1</td>\n",
       "      <td>7</td>\n",
       "      <td>ar</td>\n",
       "      <td>sa</td>\n",
       "      <td>#TocoParaVos - Enganchado #TocoParaVos - Cumbi...</td>\n",
       "      <td>NaN</td>\n",
       "      <td>NaN</td>\n",
       "      <td>NaN</td>\n",
       "      <td>NaN</td>\n",
       "      <td>left_only</td>\n",
       "    </tr>\n",
       "    <tr>\n",
       "      <th>2</th>\n",
       "      <td>2</td>\n",
       "      <td>149989</td>\n",
       "      <td>190</td>\n",
       "      <td>Enganchado #TocoParaVos - Cumbia Mix</td>\n",
       "      <td>#TocoParaVos</td>\n",
       "      <td>11133</td>\n",
       "      <td>https://open.spotify.com/track/7zW4IqrzU6dTLw3...</td>\n",
       "      <td>2017-01-08</td>\n",
       "      <td>2017</td>\n",
       "      <td>1</td>\n",
       "      <td>8</td>\n",
       "      <td>ar</td>\n",
       "      <td>sa</td>\n",
       "      <td>#TocoParaVos - Enganchado #TocoParaVos - Cumbi...</td>\n",
       "      <td>NaN</td>\n",
       "      <td>NaN</td>\n",
       "      <td>NaN</td>\n",
       "      <td>NaN</td>\n",
       "      <td>left_only</td>\n",
       "    </tr>\n",
       "  </tbody>\n",
       "</table>\n",
       "</div>"
      ],
      "text/plain": [
       "   Unnamed: 0  Unnamed: 0_x  Position                            Track Name  \\\n",
       "0           0       2333254       197                       Bailemos juntos   \n",
       "1           1        149761       162  Enganchado #TocoParaVos - Cumbia Mix   \n",
       "2           2        149989       190  Enganchado #TocoParaVos - Cumbia Mix   \n",
       "\n",
       "         Artist  Streams                                                URL  \\\n",
       "0  #TocoParaVos     1005  https://open.spotify.com/track/4LEzZn6vpMkQAQu...   \n",
       "1  #TocoParaVos    14864  https://open.spotify.com/track/7zW4IqrzU6dTLw3...   \n",
       "2  #TocoParaVos    11133  https://open.spotify.com/track/7zW4IqrzU6dTLw3...   \n",
       "\n",
       "         Date  Year  Month  Day Country Region  \\\n",
       "0  2017-01-01  2017      1    1      uy     sa   \n",
       "1  2017-01-07  2017      1    7      ar     sa   \n",
       "2  2017-01-08  2017      1    8      ar     sa   \n",
       "\n",
       "                                            art_song  Unnamed: 0_y Band  \\\n",
       "0                     #TocoParaVos - Bailemos juntos           NaN  NaN   \n",
       "1  #TocoParaVos - Enganchado #TocoParaVos - Cumbi...           NaN  NaN   \n",
       "2  #TocoParaVos - Enganchado #TocoParaVos - Cumbi...           NaN  NaN   \n",
       "\n",
       "  Lyrics Song     _merge  \n",
       "0    NaN  NaN  left_only  \n",
       "1    NaN  NaN  left_only  \n",
       "2    NaN  NaN  left_only  "
      ]
     },
     "execution_count": 5,
     "metadata": {},
     "output_type": "execute_result"
    }
   ],
   "source": [
    "sl.head(3)"
   ]
  },
  {
   "cell_type": "code",
   "execution_count": 6,
   "metadata": {},
   "outputs": [
    {
     "data": {
      "text/html": [
       "<div>\n",
       "<style>\n",
       "    .dataframe thead tr:only-child th {\n",
       "        text-align: right;\n",
       "    }\n",
       "\n",
       "    .dataframe thead th {\n",
       "        text-align: left;\n",
       "    }\n",
       "\n",
       "    .dataframe tbody tr th {\n",
       "        vertical-align: top;\n",
       "    }\n",
       "</style>\n",
       "<table border=\"1\" class=\"dataframe\">\n",
       "  <thead>\n",
       "    <tr style=\"text-align: right;\">\n",
       "      <th></th>\n",
       "      <th>Unnamed: 0</th>\n",
       "      <th>acousticness</th>\n",
       "      <th>analysis_url</th>\n",
       "      <th>danceability</th>\n",
       "      <th>duration_ms</th>\n",
       "      <th>energy</th>\n",
       "      <th>id</th>\n",
       "      <th>instrumentalness</th>\n",
       "      <th>key</th>\n",
       "      <th>liveness</th>\n",
       "      <th>loudness</th>\n",
       "      <th>mode</th>\n",
       "      <th>speechiness</th>\n",
       "      <th>tempo</th>\n",
       "      <th>time_signature</th>\n",
       "      <th>track_href</th>\n",
       "      <th>type</th>\n",
       "      <th>uri</th>\n",
       "      <th>valence</th>\n",
       "    </tr>\n",
       "  </thead>\n",
       "  <tbody>\n",
       "    <tr>\n",
       "      <th>0</th>\n",
       "      <td>0</td>\n",
       "      <td>0.1160</td>\n",
       "      <td>https://api.spotify.com/v1/audio-analysis/4LEz...</td>\n",
       "      <td>0.777</td>\n",
       "      <td>203000</td>\n",
       "      <td>0.596</td>\n",
       "      <td>4LEzZn6vpMkQAQuwFInnSh</td>\n",
       "      <td>0.0</td>\n",
       "      <td>0</td>\n",
       "      <td>0.2750</td>\n",
       "      <td>-7.549</td>\n",
       "      <td>0</td>\n",
       "      <td>0.0523</td>\n",
       "      <td>111.938</td>\n",
       "      <td>4</td>\n",
       "      <td>https://api.spotify.com/v1/tracks/4LEzZn6vpMkQ...</td>\n",
       "      <td>audio_features</td>\n",
       "      <td>spotify:track:4LEzZn6vpMkQAQuwFInnSh</td>\n",
       "      <td>0.579</td>\n",
       "    </tr>\n",
       "    <tr>\n",
       "      <th>1</th>\n",
       "      <td>1</td>\n",
       "      <td>0.0197</td>\n",
       "      <td>https://api.spotify.com/v1/audio-analysis/7zW4...</td>\n",
       "      <td>0.658</td>\n",
       "      <td>180036</td>\n",
       "      <td>0.435</td>\n",
       "      <td>7zW4IqrzU6dTLw3CM72Qbo</td>\n",
       "      <td>0.0</td>\n",
       "      <td>11</td>\n",
       "      <td>0.1150</td>\n",
       "      <td>-12.955</td>\n",
       "      <td>0</td>\n",
       "      <td>0.0492</td>\n",
       "      <td>108.994</td>\n",
       "      <td>4</td>\n",
       "      <td>https://api.spotify.com/v1/tracks/7zW4IqrzU6dT...</td>\n",
       "      <td>audio_features</td>\n",
       "      <td>spotify:track:7zW4IqrzU6dTLw3CM72Qbo</td>\n",
       "      <td>0.736</td>\n",
       "    </tr>\n",
       "    <tr>\n",
       "      <th>2</th>\n",
       "      <td>2</td>\n",
       "      <td>0.0124</td>\n",
       "      <td>https://api.spotify.com/v1/audio-analysis/1A3y...</td>\n",
       "      <td>0.837</td>\n",
       "      <td>149160</td>\n",
       "      <td>0.605</td>\n",
       "      <td>1A3yLIqelu1D7MCtw06Cu7</td>\n",
       "      <td>0.0</td>\n",
       "      <td>0</td>\n",
       "      <td>0.0715</td>\n",
       "      <td>-6.122</td>\n",
       "      <td>0</td>\n",
       "      <td>0.0798</td>\n",
       "      <td>107.998</td>\n",
       "      <td>4</td>\n",
       "      <td>https://api.spotify.com/v1/tracks/1A3yLIqelu1D...</td>\n",
       "      <td>audio_features</td>\n",
       "      <td>spotify:track:1A3yLIqelu1D7MCtw06Cu7</td>\n",
       "      <td>0.723</td>\n",
       "    </tr>\n",
       "  </tbody>\n",
       "</table>\n",
       "</div>"
      ],
      "text/plain": [
       "   Unnamed: 0  acousticness  \\\n",
       "0           0        0.1160   \n",
       "1           1        0.0197   \n",
       "2           2        0.0124   \n",
       "\n",
       "                                        analysis_url  danceability  \\\n",
       "0  https://api.spotify.com/v1/audio-analysis/4LEz...         0.777   \n",
       "1  https://api.spotify.com/v1/audio-analysis/7zW4...         0.658   \n",
       "2  https://api.spotify.com/v1/audio-analysis/1A3y...         0.837   \n",
       "\n",
       "   duration_ms  energy                      id  instrumentalness  key  \\\n",
       "0       203000   0.596  4LEzZn6vpMkQAQuwFInnSh               0.0    0   \n",
       "1       180036   0.435  7zW4IqrzU6dTLw3CM72Qbo               0.0   11   \n",
       "2       149160   0.605  1A3yLIqelu1D7MCtw06Cu7               0.0    0   \n",
       "\n",
       "   liveness  loudness  mode  speechiness    tempo  time_signature  \\\n",
       "0    0.2750    -7.549     0       0.0523  111.938               4   \n",
       "1    0.1150   -12.955     0       0.0492  108.994               4   \n",
       "2    0.0715    -6.122     0       0.0798  107.998               4   \n",
       "\n",
       "                                          track_href            type  \\\n",
       "0  https://api.spotify.com/v1/tracks/4LEzZn6vpMkQ...  audio_features   \n",
       "1  https://api.spotify.com/v1/tracks/7zW4IqrzU6dT...  audio_features   \n",
       "2  https://api.spotify.com/v1/tracks/1A3yLIqelu1D...  audio_features   \n",
       "\n",
       "                                    uri  valence  \n",
       "0  spotify:track:4LEzZn6vpMkQAQuwFInnSh    0.579  \n",
       "1  spotify:track:7zW4IqrzU6dTLw3CM72Qbo    0.736  \n",
       "2  spotify:track:1A3yLIqelu1D7MCtw06Cu7    0.723  "
      ]
     },
     "execution_count": 6,
     "metadata": {},
     "output_type": "execute_result"
    }
   ],
   "source": [
    "sa.head(3)"
   ]
  },
  {
   "cell_type": "markdown",
   "metadata": {},
   "source": [
    "### Make new column in the sl data frame containing only song id from the URL"
   ]
  },
  {
   "cell_type": "markdown",
   "metadata": {},
   "source": [
    "This is done so that I have something to combine the data frames on."
   ]
  },
  {
   "cell_type": "code",
   "execution_count": 7,
   "metadata": {
    "collapsed": true
   },
   "outputs": [],
   "source": [
    "sl['id'] = sl['URL'].str.replace('https://open.spotify.com/track/', '')"
   ]
  },
  {
   "cell_type": "code",
   "execution_count": 8,
   "metadata": {},
   "outputs": [
    {
     "data": {
      "text/html": [
       "<div>\n",
       "<style>\n",
       "    .dataframe thead tr:only-child th {\n",
       "        text-align: right;\n",
       "    }\n",
       "\n",
       "    .dataframe thead th {\n",
       "        text-align: left;\n",
       "    }\n",
       "\n",
       "    .dataframe tbody tr th {\n",
       "        vertical-align: top;\n",
       "    }\n",
       "</style>\n",
       "<table border=\"1\" class=\"dataframe\">\n",
       "  <thead>\n",
       "    <tr style=\"text-align: right;\">\n",
       "      <th></th>\n",
       "      <th>Unnamed: 0</th>\n",
       "      <th>Unnamed: 0_x</th>\n",
       "      <th>Position</th>\n",
       "      <th>Track Name</th>\n",
       "      <th>Artist</th>\n",
       "      <th>Streams</th>\n",
       "      <th>URL</th>\n",
       "      <th>Date</th>\n",
       "      <th>Year</th>\n",
       "      <th>Month</th>\n",
       "      <th>Day</th>\n",
       "      <th>Country</th>\n",
       "      <th>Region</th>\n",
       "      <th>art_song</th>\n",
       "      <th>Unnamed: 0_y</th>\n",
       "      <th>Band</th>\n",
       "      <th>Lyrics</th>\n",
       "      <th>Song</th>\n",
       "      <th>_merge</th>\n",
       "      <th>id</th>\n",
       "    </tr>\n",
       "  </thead>\n",
       "  <tbody>\n",
       "    <tr>\n",
       "      <th>0</th>\n",
       "      <td>0</td>\n",
       "      <td>2333254</td>\n",
       "      <td>197</td>\n",
       "      <td>Bailemos juntos</td>\n",
       "      <td>#TocoParaVos</td>\n",
       "      <td>1005</td>\n",
       "      <td>https://open.spotify.com/track/4LEzZn6vpMkQAQu...</td>\n",
       "      <td>2017-01-01</td>\n",
       "      <td>2017</td>\n",
       "      <td>1</td>\n",
       "      <td>1</td>\n",
       "      <td>uy</td>\n",
       "      <td>sa</td>\n",
       "      <td>#TocoParaVos - Bailemos juntos</td>\n",
       "      <td>NaN</td>\n",
       "      <td>NaN</td>\n",
       "      <td>NaN</td>\n",
       "      <td>NaN</td>\n",
       "      <td>left_only</td>\n",
       "      <td>4LEzZn6vpMkQAQuwFInnSh</td>\n",
       "    </tr>\n",
       "    <tr>\n",
       "      <th>1</th>\n",
       "      <td>1</td>\n",
       "      <td>149761</td>\n",
       "      <td>162</td>\n",
       "      <td>Enganchado #TocoParaVos - Cumbia Mix</td>\n",
       "      <td>#TocoParaVos</td>\n",
       "      <td>14864</td>\n",
       "      <td>https://open.spotify.com/track/7zW4IqrzU6dTLw3...</td>\n",
       "      <td>2017-01-07</td>\n",
       "      <td>2017</td>\n",
       "      <td>1</td>\n",
       "      <td>7</td>\n",
       "      <td>ar</td>\n",
       "      <td>sa</td>\n",
       "      <td>#TocoParaVos - Enganchado #TocoParaVos - Cumbi...</td>\n",
       "      <td>NaN</td>\n",
       "      <td>NaN</td>\n",
       "      <td>NaN</td>\n",
       "      <td>NaN</td>\n",
       "      <td>left_only</td>\n",
       "      <td>7zW4IqrzU6dTLw3CM72Qbo</td>\n",
       "    </tr>\n",
       "    <tr>\n",
       "      <th>2</th>\n",
       "      <td>2</td>\n",
       "      <td>149989</td>\n",
       "      <td>190</td>\n",
       "      <td>Enganchado #TocoParaVos - Cumbia Mix</td>\n",
       "      <td>#TocoParaVos</td>\n",
       "      <td>11133</td>\n",
       "      <td>https://open.spotify.com/track/7zW4IqrzU6dTLw3...</td>\n",
       "      <td>2017-01-08</td>\n",
       "      <td>2017</td>\n",
       "      <td>1</td>\n",
       "      <td>8</td>\n",
       "      <td>ar</td>\n",
       "      <td>sa</td>\n",
       "      <td>#TocoParaVos - Enganchado #TocoParaVos - Cumbi...</td>\n",
       "      <td>NaN</td>\n",
       "      <td>NaN</td>\n",
       "      <td>NaN</td>\n",
       "      <td>NaN</td>\n",
       "      <td>left_only</td>\n",
       "      <td>7zW4IqrzU6dTLw3CM72Qbo</td>\n",
       "    </tr>\n",
       "  </tbody>\n",
       "</table>\n",
       "</div>"
      ],
      "text/plain": [
       "   Unnamed: 0  Unnamed: 0_x  Position                            Track Name  \\\n",
       "0           0       2333254       197                       Bailemos juntos   \n",
       "1           1        149761       162  Enganchado #TocoParaVos - Cumbia Mix   \n",
       "2           2        149989       190  Enganchado #TocoParaVos - Cumbia Mix   \n",
       "\n",
       "         Artist  Streams                                                URL  \\\n",
       "0  #TocoParaVos     1005  https://open.spotify.com/track/4LEzZn6vpMkQAQu...   \n",
       "1  #TocoParaVos    14864  https://open.spotify.com/track/7zW4IqrzU6dTLw3...   \n",
       "2  #TocoParaVos    11133  https://open.spotify.com/track/7zW4IqrzU6dTLw3...   \n",
       "\n",
       "         Date  Year  Month  Day Country Region  \\\n",
       "0  2017-01-01  2017      1    1      uy     sa   \n",
       "1  2017-01-07  2017      1    7      ar     sa   \n",
       "2  2017-01-08  2017      1    8      ar     sa   \n",
       "\n",
       "                                            art_song  Unnamed: 0_y Band  \\\n",
       "0                     #TocoParaVos - Bailemos juntos           NaN  NaN   \n",
       "1  #TocoParaVos - Enganchado #TocoParaVos - Cumbi...           NaN  NaN   \n",
       "2  #TocoParaVos - Enganchado #TocoParaVos - Cumbi...           NaN  NaN   \n",
       "\n",
       "  Lyrics Song     _merge                      id  \n",
       "0    NaN  NaN  left_only  4LEzZn6vpMkQAQuwFInnSh  \n",
       "1    NaN  NaN  left_only  7zW4IqrzU6dTLw3CM72Qbo  \n",
       "2    NaN  NaN  left_only  7zW4IqrzU6dTLw3CM72Qbo  "
      ]
     },
     "execution_count": 8,
     "metadata": {},
     "output_type": "execute_result"
    }
   ],
   "source": [
    "sl.head(3)"
   ]
  },
  {
   "cell_type": "markdown",
   "metadata": {},
   "source": [
    "### Combine the 2 data frames into one"
   ]
  },
  {
   "cell_type": "code",
   "execution_count": 9,
   "metadata": {
    "collapsed": true
   },
   "outputs": [],
   "source": [
    "df = sl.merge(sa, how='left', on='id')"
   ]
  },
  {
   "cell_type": "code",
   "execution_count": 10,
   "metadata": {},
   "outputs": [
    {
     "data": {
      "text/plain": [
       "(3355829, 38)"
      ]
     },
     "execution_count": 10,
     "metadata": {},
     "output_type": "execute_result"
    }
   ],
   "source": [
    "df.shape"
   ]
  },
  {
   "cell_type": "code",
   "execution_count": 11,
   "metadata": {},
   "outputs": [
    {
     "data": {
      "text/html": [
       "<div>\n",
       "<style>\n",
       "    .dataframe thead tr:only-child th {\n",
       "        text-align: right;\n",
       "    }\n",
       "\n",
       "    .dataframe thead th {\n",
       "        text-align: left;\n",
       "    }\n",
       "\n",
       "    .dataframe tbody tr th {\n",
       "        vertical-align: top;\n",
       "    }\n",
       "</style>\n",
       "<table border=\"1\" class=\"dataframe\">\n",
       "  <thead>\n",
       "    <tr style=\"text-align: right;\">\n",
       "      <th></th>\n",
       "      <th>Unnamed: 0_x</th>\n",
       "      <th>Unnamed: 0_x</th>\n",
       "      <th>Position</th>\n",
       "      <th>Track Name</th>\n",
       "      <th>Artist</th>\n",
       "      <th>Streams</th>\n",
       "      <th>URL</th>\n",
       "      <th>Date</th>\n",
       "      <th>Year</th>\n",
       "      <th>Month</th>\n",
       "      <th>...</th>\n",
       "      <th>liveness</th>\n",
       "      <th>loudness</th>\n",
       "      <th>mode</th>\n",
       "      <th>speechiness</th>\n",
       "      <th>tempo</th>\n",
       "      <th>time_signature</th>\n",
       "      <th>track_href</th>\n",
       "      <th>type</th>\n",
       "      <th>uri</th>\n",
       "      <th>valence</th>\n",
       "    </tr>\n",
       "  </thead>\n",
       "  <tbody>\n",
       "    <tr>\n",
       "      <th>0</th>\n",
       "      <td>0</td>\n",
       "      <td>2333254</td>\n",
       "      <td>197</td>\n",
       "      <td>Bailemos juntos</td>\n",
       "      <td>#TocoParaVos</td>\n",
       "      <td>1005</td>\n",
       "      <td>https://open.spotify.com/track/4LEzZn6vpMkQAQu...</td>\n",
       "      <td>2017-01-01</td>\n",
       "      <td>2017</td>\n",
       "      <td>1</td>\n",
       "      <td>...</td>\n",
       "      <td>0.275</td>\n",
       "      <td>-7.549</td>\n",
       "      <td>0.0</td>\n",
       "      <td>0.0523</td>\n",
       "      <td>111.938</td>\n",
       "      <td>4.0</td>\n",
       "      <td>https://api.spotify.com/v1/tracks/4LEzZn6vpMkQ...</td>\n",
       "      <td>audio_features</td>\n",
       "      <td>spotify:track:4LEzZn6vpMkQAQuwFInnSh</td>\n",
       "      <td>0.579</td>\n",
       "    </tr>\n",
       "    <tr>\n",
       "      <th>1</th>\n",
       "      <td>1</td>\n",
       "      <td>149761</td>\n",
       "      <td>162</td>\n",
       "      <td>Enganchado #TocoParaVos - Cumbia Mix</td>\n",
       "      <td>#TocoParaVos</td>\n",
       "      <td>14864</td>\n",
       "      <td>https://open.spotify.com/track/7zW4IqrzU6dTLw3...</td>\n",
       "      <td>2017-01-07</td>\n",
       "      <td>2017</td>\n",
       "      <td>1</td>\n",
       "      <td>...</td>\n",
       "      <td>0.115</td>\n",
       "      <td>-12.955</td>\n",
       "      <td>0.0</td>\n",
       "      <td>0.0492</td>\n",
       "      <td>108.994</td>\n",
       "      <td>4.0</td>\n",
       "      <td>https://api.spotify.com/v1/tracks/7zW4IqrzU6dT...</td>\n",
       "      <td>audio_features</td>\n",
       "      <td>spotify:track:7zW4IqrzU6dTLw3CM72Qbo</td>\n",
       "      <td>0.736</td>\n",
       "    </tr>\n",
       "    <tr>\n",
       "      <th>2</th>\n",
       "      <td>2</td>\n",
       "      <td>149989</td>\n",
       "      <td>190</td>\n",
       "      <td>Enganchado #TocoParaVos - Cumbia Mix</td>\n",
       "      <td>#TocoParaVos</td>\n",
       "      <td>11133</td>\n",
       "      <td>https://open.spotify.com/track/7zW4IqrzU6dTLw3...</td>\n",
       "      <td>2017-01-08</td>\n",
       "      <td>2017</td>\n",
       "      <td>1</td>\n",
       "      <td>...</td>\n",
       "      <td>0.115</td>\n",
       "      <td>-12.955</td>\n",
       "      <td>0.0</td>\n",
       "      <td>0.0492</td>\n",
       "      <td>108.994</td>\n",
       "      <td>4.0</td>\n",
       "      <td>https://api.spotify.com/v1/tracks/7zW4IqrzU6dT...</td>\n",
       "      <td>audio_features</td>\n",
       "      <td>spotify:track:7zW4IqrzU6dTLw3CM72Qbo</td>\n",
       "      <td>0.736</td>\n",
       "    </tr>\n",
       "  </tbody>\n",
       "</table>\n",
       "<p>3 rows × 38 columns</p>\n",
       "</div>"
      ],
      "text/plain": [
       "   Unnamed: 0_x  Unnamed: 0_x  Position                            Track Name  \\\n",
       "0             0       2333254       197                       Bailemos juntos   \n",
       "1             1        149761       162  Enganchado #TocoParaVos - Cumbia Mix   \n",
       "2             2        149989       190  Enganchado #TocoParaVos - Cumbia Mix   \n",
       "\n",
       "         Artist  Streams                                                URL  \\\n",
       "0  #TocoParaVos     1005  https://open.spotify.com/track/4LEzZn6vpMkQAQu...   \n",
       "1  #TocoParaVos    14864  https://open.spotify.com/track/7zW4IqrzU6dTLw3...   \n",
       "2  #TocoParaVos    11133  https://open.spotify.com/track/7zW4IqrzU6dTLw3...   \n",
       "\n",
       "         Date  Year  Month   ...    liveness loudness mode speechiness  \\\n",
       "0  2017-01-01  2017      1   ...       0.275   -7.549  0.0      0.0523   \n",
       "1  2017-01-07  2017      1   ...       0.115  -12.955  0.0      0.0492   \n",
       "2  2017-01-08  2017      1   ...       0.115  -12.955  0.0      0.0492   \n",
       "\n",
       "     tempo time_signature                                         track_href  \\\n",
       "0  111.938            4.0  https://api.spotify.com/v1/tracks/4LEzZn6vpMkQ...   \n",
       "1  108.994            4.0  https://api.spotify.com/v1/tracks/7zW4IqrzU6dT...   \n",
       "2  108.994            4.0  https://api.spotify.com/v1/tracks/7zW4IqrzU6dT...   \n",
       "\n",
       "             type                                   uri valence  \n",
       "0  audio_features  spotify:track:4LEzZn6vpMkQAQuwFInnSh   0.579  \n",
       "1  audio_features  spotify:track:7zW4IqrzU6dTLw3CM72Qbo   0.736  \n",
       "2  audio_features  spotify:track:7zW4IqrzU6dTLw3CM72Qbo   0.736  \n",
       "\n",
       "[3 rows x 38 columns]"
      ]
     },
     "execution_count": 11,
     "metadata": {},
     "output_type": "execute_result"
    }
   ],
   "source": [
    "df.head(3)"
   ]
  },
  {
   "cell_type": "code",
   "execution_count": 15,
   "metadata": {},
   "outputs": [
    {
     "data": {
      "text/plain": [
       "Index(['Unnamed: 0_x', 'Unnamed: 0_x', 'Position', 'Track Name', 'Artist',\n",
       "       'Streams', 'URL', 'Date', 'Year', 'Month', 'Day', 'Country', 'Region',\n",
       "       'art_song', 'Unnamed: 0_y', 'Band', 'Lyrics', 'Song', '_merge', 'id',\n",
       "       'Unnamed: 0_y', 'acousticness', 'analysis_url', 'danceability',\n",
       "       'duration_ms', 'energy', 'instrumentalness', 'key', 'liveness',\n",
       "       'loudness', 'mode', 'speechiness', 'tempo', 'time_signature',\n",
       "       'track_href', 'type', 'uri', 'valence'],\n",
       "      dtype='object')"
      ]
     },
     "execution_count": 15,
     "metadata": {},
     "output_type": "execute_result"
    }
   ],
   "source": [
    "df.columns"
   ]
  },
  {
   "cell_type": "markdown",
   "metadata": {},
   "source": [
    "### Drop some column that I will not need"
   ]
  },
  {
   "cell_type": "markdown",
   "metadata": {},
   "source": [
    "I did get more data from the Spotidy API than I am going to use. I will only use columns: acousticness, energy, instrumentalness, mode, tempo, valence (target) from the Spotify API in this project."
   ]
  },
  {
   "cell_type": "code",
   "execution_count": 22,
   "metadata": {
    "collapsed": true
   },
   "outputs": [],
   "source": [
    "df = df.drop(['Unnamed: 0_x', 'URL', 'art_song', 'Unnamed: 0_y', 'Band', 'Song', '_merge', 'analysis_url', 'danceability',\n",
    "         'duration_ms', 'key', 'liveness', 'loudness', 'speechiness', 'time_signature', 'track_href', 'type', 'uri'], axis=1)"
   ]
  },
  {
   "cell_type": "code",
   "execution_count": 23,
   "metadata": {},
   "outputs": [
    {
     "data": {
      "text/html": [
       "<div>\n",
       "<style>\n",
       "    .dataframe thead tr:only-child th {\n",
       "        text-align: right;\n",
       "    }\n",
       "\n",
       "    .dataframe thead th {\n",
       "        text-align: left;\n",
       "    }\n",
       "\n",
       "    .dataframe tbody tr th {\n",
       "        vertical-align: top;\n",
       "    }\n",
       "</style>\n",
       "<table border=\"1\" class=\"dataframe\">\n",
       "  <thead>\n",
       "    <tr style=\"text-align: right;\">\n",
       "      <th></th>\n",
       "      <th>Position</th>\n",
       "      <th>Track Name</th>\n",
       "      <th>Artist</th>\n",
       "      <th>Streams</th>\n",
       "      <th>Date</th>\n",
       "      <th>Year</th>\n",
       "      <th>Month</th>\n",
       "      <th>Day</th>\n",
       "      <th>Country</th>\n",
       "      <th>Region</th>\n",
       "      <th>Lyrics</th>\n",
       "      <th>id</th>\n",
       "      <th>acousticness</th>\n",
       "      <th>energy</th>\n",
       "      <th>instrumentalness</th>\n",
       "      <th>mode</th>\n",
       "      <th>tempo</th>\n",
       "      <th>valence</th>\n",
       "    </tr>\n",
       "  </thead>\n",
       "  <tbody>\n",
       "    <tr>\n",
       "      <th>0</th>\n",
       "      <td>197</td>\n",
       "      <td>Bailemos juntos</td>\n",
       "      <td>#TocoParaVos</td>\n",
       "      <td>1005</td>\n",
       "      <td>2017-01-01</td>\n",
       "      <td>2017</td>\n",
       "      <td>1</td>\n",
       "      <td>1</td>\n",
       "      <td>uy</td>\n",
       "      <td>sa</td>\n",
       "      <td>NaN</td>\n",
       "      <td>4LEzZn6vpMkQAQuwFInnSh</td>\n",
       "      <td>0.1160</td>\n",
       "      <td>0.596</td>\n",
       "      <td>0.0</td>\n",
       "      <td>0.0</td>\n",
       "      <td>111.938</td>\n",
       "      <td>0.579</td>\n",
       "    </tr>\n",
       "    <tr>\n",
       "      <th>1</th>\n",
       "      <td>162</td>\n",
       "      <td>Enganchado #TocoParaVos - Cumbia Mix</td>\n",
       "      <td>#TocoParaVos</td>\n",
       "      <td>14864</td>\n",
       "      <td>2017-01-07</td>\n",
       "      <td>2017</td>\n",
       "      <td>1</td>\n",
       "      <td>7</td>\n",
       "      <td>ar</td>\n",
       "      <td>sa</td>\n",
       "      <td>NaN</td>\n",
       "      <td>7zW4IqrzU6dTLw3CM72Qbo</td>\n",
       "      <td>0.0197</td>\n",
       "      <td>0.435</td>\n",
       "      <td>0.0</td>\n",
       "      <td>0.0</td>\n",
       "      <td>108.994</td>\n",
       "      <td>0.736</td>\n",
       "    </tr>\n",
       "    <tr>\n",
       "      <th>2</th>\n",
       "      <td>190</td>\n",
       "      <td>Enganchado #TocoParaVos - Cumbia Mix</td>\n",
       "      <td>#TocoParaVos</td>\n",
       "      <td>11133</td>\n",
       "      <td>2017-01-08</td>\n",
       "      <td>2017</td>\n",
       "      <td>1</td>\n",
       "      <td>8</td>\n",
       "      <td>ar</td>\n",
       "      <td>sa</td>\n",
       "      <td>NaN</td>\n",
       "      <td>7zW4IqrzU6dTLw3CM72Qbo</td>\n",
       "      <td>0.0197</td>\n",
       "      <td>0.435</td>\n",
       "      <td>0.0</td>\n",
       "      <td>0.0</td>\n",
       "      <td>108.994</td>\n",
       "      <td>0.736</td>\n",
       "    </tr>\n",
       "  </tbody>\n",
       "</table>\n",
       "</div>"
      ],
      "text/plain": [
       "   Position                            Track Name        Artist  Streams  \\\n",
       "0       197                       Bailemos juntos  #TocoParaVos     1005   \n",
       "1       162  Enganchado #TocoParaVos - Cumbia Mix  #TocoParaVos    14864   \n",
       "2       190  Enganchado #TocoParaVos - Cumbia Mix  #TocoParaVos    11133   \n",
       "\n",
       "         Date  Year  Month  Day Country Region Lyrics                      id  \\\n",
       "0  2017-01-01  2017      1    1      uy     sa    NaN  4LEzZn6vpMkQAQuwFInnSh   \n",
       "1  2017-01-07  2017      1    7      ar     sa    NaN  7zW4IqrzU6dTLw3CM72Qbo   \n",
       "2  2017-01-08  2017      1    8      ar     sa    NaN  7zW4IqrzU6dTLw3CM72Qbo   \n",
       "\n",
       "   acousticness  energy  instrumentalness  mode    tempo  valence  \n",
       "0        0.1160   0.596               0.0   0.0  111.938    0.579  \n",
       "1        0.0197   0.435               0.0   0.0  108.994    0.736  \n",
       "2        0.0197   0.435               0.0   0.0  108.994    0.736  "
      ]
     },
     "execution_count": 23,
     "metadata": {},
     "output_type": "execute_result"
    }
   ],
   "source": [
    "df.head(3)"
   ]
  },
  {
   "cell_type": "markdown",
   "metadata": {},
   "source": [
    "#### Rename some of the columns"
   ]
  },
  {
   "cell_type": "code",
   "execution_count": 25,
   "metadata": {
    "collapsed": true
   },
   "outputs": [],
   "source": [
    "df = df.rename(index=str, columns={\"id\": \"ID\", \"acousticness\": \"Acousticness\", \"energy\": \"Energy\",\n",
    "                            \"instrumentalness\": \"Instrumentalness\", \"mode\": \"Mode\", \"tempo\": \"Tempo\",\n",
    "                            \"valence\": \"Valence\"})"
   ]
  },
  {
   "cell_type": "markdown",
   "metadata": {},
   "source": [
    "#### Change order of the columns"
   ]
  },
  {
   "cell_type": "code",
   "execution_count": 28,
   "metadata": {
    "collapsed": true
   },
   "outputs": [],
   "source": [
    "df = df[['Position', 'Streams', 'Track Name', 'Artist', 'ID', 'Date', 'Year', 'Month', 'Day', 'Country', 'Region', 'Lyrics',\n",
    "    'Acousticness', 'Energy', 'Instrumentalness', 'Mode', 'Tempo', 'Valence']]"
   ]
  },
  {
   "cell_type": "markdown",
   "metadata": {},
   "source": [
    "#### Look at the info about the data to see data types for the columns"
   ]
  },
  {
   "cell_type": "code",
   "execution_count": 29,
   "metadata": {},
   "outputs": [
    {
     "name": "stdout",
     "output_type": "stream",
     "text": [
      "<class 'pandas.core.frame.DataFrame'>\n",
      "Index: 3355829 entries, 0 to 3355828\n",
      "Data columns (total 18 columns):\n",
      "Position            int64\n",
      "Streams             int64\n",
      "Track Name          object\n",
      "Artist              object\n",
      "ID                  object\n",
      "Date                object\n",
      "Year                int64\n",
      "Month               int64\n",
      "Day                 int64\n",
      "Country             object\n",
      "Region              object\n",
      "Lyrics              object\n",
      "Acousticness        float64\n",
      "Energy              float64\n",
      "Instrumentalness    float64\n",
      "Mode                float64\n",
      "Tempo               float64\n",
      "Valence             float64\n",
      "dtypes: float64(6), int64(5), object(7)\n",
      "memory usage: 486.5+ MB\n"
     ]
    }
   ],
   "source": [
    "df.info()"
   ]
  },
  {
   "cell_type": "markdown",
   "metadata": {},
   "source": [
    "#### Drop duplicated rows based on the ID-column"
   ]
  },
  {
   "cell_type": "code",
   "execution_count": 33,
   "metadata": {
    "collapsed": true
   },
   "outputs": [],
   "source": [
    "df2 = df.drop_duplicates(subset='ID')"
   ]
  },
  {
   "cell_type": "markdown",
   "metadata": {},
   "source": [
    "#### Look at unique songs"
   ]
  },
  {
   "cell_type": "code",
   "execution_count": 34,
   "metadata": {},
   "outputs": [
    {
     "data": {
      "text/plain": [
       "(21372, 18)"
      ]
     },
     "execution_count": 34,
     "metadata": {},
     "output_type": "execute_result"
    }
   ],
   "source": [
    "# Number of unique songs\n",
    "df2.shape"
   ]
  },
  {
   "cell_type": "code",
   "execution_count": 37,
   "metadata": {},
   "outputs": [
    {
     "data": {
      "text/plain": [
       "2502"
      ]
     },
     "execution_count": 37,
     "metadata": {},
     "output_type": "execute_result"
    }
   ],
   "source": [
    "# Number of unique songs where I have lyrics\n",
    "df2['Lyrics'].notnull().sum()"
   ]
  },
  {
   "cell_type": "code",
   "execution_count": 38,
   "metadata": {},
   "outputs": [
    {
     "data": {
      "text/plain": [
       "0.11706906232453677"
      ]
     },
     "execution_count": 38,
     "metadata": {},
     "output_type": "execute_result"
    }
   ],
   "source": [
    "# Share of songs with lyrics\n",
    "2502/21372"
   ]
  },
  {
   "cell_type": "markdown",
   "metadata": {},
   "source": [
    "I only have lyrics for 11.77% of my songs.<BR />\n",
    "That is a problem. Need to find more lyrics."
   ]
  },
  {
   "cell_type": "markdown",
   "metadata": {},
   "source": [
    "## Save the data as a CSV-file"
   ]
  },
  {
   "cell_type": "code",
   "execution_count": 40,
   "metadata": {
    "collapsed": true
   },
   "outputs": [],
   "source": [
    "# save data to csv-file\n",
    "df.to_csv('songs_lyrics_api_data.csv')"
   ]
  },
  {
   "cell_type": "code",
   "execution_count": null,
   "metadata": {
    "collapsed": true
   },
   "outputs": [],
   "source": []
  }
 ],
 "metadata": {
  "kernelspec": {
   "display_name": "Python [default]",
   "language": "python",
   "name": "python3"
  },
  "language_info": {
   "codemirror_mode": {
    "name": "ipython",
    "version": 3
   },
   "file_extension": ".py",
   "mimetype": "text/x-python",
   "name": "python",
   "nbconvert_exporter": "python",
   "pygments_lexer": "ipython3",
   "version": "3.6.3"
  }
 },
 "nbformat": 4,
 "nbformat_minor": 2
}
