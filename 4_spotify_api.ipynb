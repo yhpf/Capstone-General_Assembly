{
 "cells": [
  {
   "cell_type": "markdown",
   "metadata": {},
   "source": [
    "# Getting data from Spotify API"
   ]
  },
  {
   "cell_type": "markdown",
   "metadata": {},
   "source": [
    "https://developer.spotify.com/web-api/"
   ]
  },
  {
   "cell_type": "markdown",
   "metadata": {},
   "source": [
    "## Import things"
   ]
  },
  {
   "cell_type": "code",
   "execution_count": 13,
   "metadata": {
    "collapsed": true
   },
   "outputs": [],
   "source": [
    "import spotipy\n",
    "from spotipy.oauth2 import SpotifyClientCredentials\n",
    "\n",
    "import pandas as pd\n",
    "import numpy as np"
   ]
  },
  {
   "cell_type": "markdown",
   "metadata": {},
   "source": [
    "## Creat API client with the right keys"
   ]
  },
  {
   "cell_type": "code",
   "execution_count": null,
   "metadata": {
    "collapsed": true
   },
   "outputs": [],
   "source": [
    "client_credentials_manager = SpotifyClientCredentials('0bc389e00d214082bf48acca68452036', '9b9ad7bee99b490cbc657a388de74dd0')\n",
    "spotify = spotipy.Spotify(client_credentials_manager=client_credentials_manager)"
   ]
  },
  {
   "cell_type": "markdown",
   "metadata": {},
   "source": [
    "## Load the data"
   ]
  },
  {
   "cell_type": "code",
   "execution_count": 14,
   "metadata": {},
   "outputs": [
    {
     "name": "stderr",
     "output_type": "stream",
     "text": [
      "/anaconda3/lib/python3.6/site-packages/IPython/core/interactiveshell.py:2698: DtypeWarning: Columns (15,16,17) have mixed types. Specify dtype option on import or set low_memory=False.\n",
      "  interactivity=interactivity, compiler=compiler, result=result)\n"
     ]
    }
   ],
   "source": [
    "songs_lyrics = pd.read_csv('./songs_lyrics.csv')"
   ]
  },
  {
   "cell_type": "code",
   "execution_count": 15,
   "metadata": {},
   "outputs": [
    {
     "data": {
      "text/html": [
       "<div>\n",
       "<style>\n",
       "    .dataframe thead tr:only-child th {\n",
       "        text-align: right;\n",
       "    }\n",
       "\n",
       "    .dataframe thead th {\n",
       "        text-align: left;\n",
       "    }\n",
       "\n",
       "    .dataframe tbody tr th {\n",
       "        vertical-align: top;\n",
       "    }\n",
       "</style>\n",
       "<table border=\"1\" class=\"dataframe\">\n",
       "  <thead>\n",
       "    <tr style=\"text-align: right;\">\n",
       "      <th></th>\n",
       "      <th>Unnamed: 0</th>\n",
       "      <th>Unnamed: 0_x</th>\n",
       "      <th>Position</th>\n",
       "      <th>Track Name</th>\n",
       "      <th>Artist</th>\n",
       "      <th>Streams</th>\n",
       "      <th>URL</th>\n",
       "      <th>Date</th>\n",
       "      <th>Year</th>\n",
       "      <th>Month</th>\n",
       "      <th>Day</th>\n",
       "      <th>Country</th>\n",
       "      <th>Region</th>\n",
       "      <th>art_song</th>\n",
       "      <th>Unnamed: 0_y</th>\n",
       "      <th>Band</th>\n",
       "      <th>Lyrics</th>\n",
       "      <th>Song</th>\n",
       "      <th>_merge</th>\n",
       "    </tr>\n",
       "  </thead>\n",
       "  <tbody>\n",
       "    <tr>\n",
       "      <th>0</th>\n",
       "      <td>0</td>\n",
       "      <td>2333254</td>\n",
       "      <td>197</td>\n",
       "      <td>Bailemos juntos</td>\n",
       "      <td>#TocoParaVos</td>\n",
       "      <td>1005</td>\n",
       "      <td>https://open.spotify.com/track/4LEzZn6vpMkQAQu...</td>\n",
       "      <td>2017-01-01</td>\n",
       "      <td>2017</td>\n",
       "      <td>1</td>\n",
       "      <td>1</td>\n",
       "      <td>uy</td>\n",
       "      <td>sa</td>\n",
       "      <td>#TocoParaVos - Bailemos juntos</td>\n",
       "      <td>NaN</td>\n",
       "      <td>NaN</td>\n",
       "      <td>NaN</td>\n",
       "      <td>NaN</td>\n",
       "      <td>left_only</td>\n",
       "    </tr>\n",
       "    <tr>\n",
       "      <th>1</th>\n",
       "      <td>1</td>\n",
       "      <td>149761</td>\n",
       "      <td>162</td>\n",
       "      <td>Enganchado #TocoParaVos - Cumbia Mix</td>\n",
       "      <td>#TocoParaVos</td>\n",
       "      <td>14864</td>\n",
       "      <td>https://open.spotify.com/track/7zW4IqrzU6dTLw3...</td>\n",
       "      <td>2017-01-07</td>\n",
       "      <td>2017</td>\n",
       "      <td>1</td>\n",
       "      <td>7</td>\n",
       "      <td>ar</td>\n",
       "      <td>sa</td>\n",
       "      <td>#TocoParaVos - Enganchado #TocoParaVos - Cumbi...</td>\n",
       "      <td>NaN</td>\n",
       "      <td>NaN</td>\n",
       "      <td>NaN</td>\n",
       "      <td>NaN</td>\n",
       "      <td>left_only</td>\n",
       "    </tr>\n",
       "    <tr>\n",
       "      <th>2</th>\n",
       "      <td>2</td>\n",
       "      <td>149989</td>\n",
       "      <td>190</td>\n",
       "      <td>Enganchado #TocoParaVos - Cumbia Mix</td>\n",
       "      <td>#TocoParaVos</td>\n",
       "      <td>11133</td>\n",
       "      <td>https://open.spotify.com/track/7zW4IqrzU6dTLw3...</td>\n",
       "      <td>2017-01-08</td>\n",
       "      <td>2017</td>\n",
       "      <td>1</td>\n",
       "      <td>8</td>\n",
       "      <td>ar</td>\n",
       "      <td>sa</td>\n",
       "      <td>#TocoParaVos - Enganchado #TocoParaVos - Cumbi...</td>\n",
       "      <td>NaN</td>\n",
       "      <td>NaN</td>\n",
       "      <td>NaN</td>\n",
       "      <td>NaN</td>\n",
       "      <td>left_only</td>\n",
       "    </tr>\n",
       "  </tbody>\n",
       "</table>\n",
       "</div>"
      ],
      "text/plain": [
       "   Unnamed: 0  Unnamed: 0_x  Position                            Track Name  \\\n",
       "0           0       2333254       197                       Bailemos juntos   \n",
       "1           1        149761       162  Enganchado #TocoParaVos - Cumbia Mix   \n",
       "2           2        149989       190  Enganchado #TocoParaVos - Cumbia Mix   \n",
       "\n",
       "         Artist  Streams                                                URL  \\\n",
       "0  #TocoParaVos     1005  https://open.spotify.com/track/4LEzZn6vpMkQAQu...   \n",
       "1  #TocoParaVos    14864  https://open.spotify.com/track/7zW4IqrzU6dTLw3...   \n",
       "2  #TocoParaVos    11133  https://open.spotify.com/track/7zW4IqrzU6dTLw3...   \n",
       "\n",
       "         Date  Year  Month  Day Country Region  \\\n",
       "0  2017-01-01  2017      1    1      uy     sa   \n",
       "1  2017-01-07  2017      1    7      ar     sa   \n",
       "2  2017-01-08  2017      1    8      ar     sa   \n",
       "\n",
       "                                            art_song  Unnamed: 0_y Band  \\\n",
       "0                     #TocoParaVos - Bailemos juntos           NaN  NaN   \n",
       "1  #TocoParaVos - Enganchado #TocoParaVos - Cumbi...           NaN  NaN   \n",
       "2  #TocoParaVos - Enganchado #TocoParaVos - Cumbi...           NaN  NaN   \n",
       "\n",
       "  Lyrics Song     _merge  \n",
       "0    NaN  NaN  left_only  \n",
       "1    NaN  NaN  left_only  \n",
       "2    NaN  NaN  left_only  "
      ]
     },
     "execution_count": 15,
     "metadata": {},
     "output_type": "execute_result"
    }
   ],
   "source": [
    "songs_lyrics.head(3)"
   ]
  },
  {
   "cell_type": "markdown",
   "metadata": {},
   "source": [
    "### Get all unique song uri's"
   ]
  },
  {
   "cell_type": "code",
   "execution_count": 17,
   "metadata": {
    "collapsed": true
   },
   "outputs": [],
   "source": [
    "uris = songs_lyrics['URL'].str.replace('https://open.spotify.com/track/', 'spotify:track:')"
   ]
  },
  {
   "cell_type": "code",
   "execution_count": 18,
   "metadata": {},
   "outputs": [
    {
     "data": {
      "text/plain": [
       "(3355829,)"
      ]
     },
     "execution_count": 18,
     "metadata": {},
     "output_type": "execute_result"
    }
   ],
   "source": [
    "uris.shape"
   ]
  },
  {
   "cell_type": "code",
   "execution_count": 20,
   "metadata": {
    "collapsed": true
   },
   "outputs": [],
   "source": [
    "uris2 = uris.drop_duplicates()"
   ]
  },
  {
   "cell_type": "code",
   "execution_count": 21,
   "metadata": {},
   "outputs": [
    {
     "data": {
      "text/plain": [
       "(21372,)"
      ]
     },
     "execution_count": 21,
     "metadata": {},
     "output_type": "execute_result"
    }
   ],
   "source": [
    "uris2.shape"
   ]
  },
  {
   "cell_type": "markdown",
   "metadata": {},
   "source": [
    "### Make a list of lists of uris (50 each)"
   ]
  },
  {
   "cell_type": "markdown",
   "metadata": {},
   "source": [
    "https://stackoverflow.com/questions/312443/how-do-you-split-a-list-into-evenly-sized-chunks"
   ]
  },
  {
   "cell_type": "code",
   "execution_count": 23,
   "metadata": {
    "collapsed": true
   },
   "outputs": [],
   "source": [
    "l = uris2.values\n",
    "n = 50\n",
    "\n",
    "lists = [l[i:i + n] for i in range(0, len(l), n)]"
   ]
  },
  {
   "cell_type": "markdown",
   "metadata": {},
   "source": [
    "### Use Spotify API to get data for songs"
   ]
  },
  {
   "cell_type": "code",
   "execution_count": 25,
   "metadata": {
    "collapsed": true
   },
   "outputs": [],
   "source": [
    "def get_data(lst):\n",
    "    results = spotify.audio_features(tracks=lst)\n",
    "    return results"
   ]
  },
  {
   "cell_type": "code",
   "execution_count": 29,
   "metadata": {
    "collapsed": true
   },
   "outputs": [],
   "source": [
    "all_results = []"
   ]
  },
  {
   "cell_type": "code",
   "execution_count": 30,
   "metadata": {
    "collapsed": true
   },
   "outputs": [],
   "source": [
    "for lst in lists:\n",
    "    r = get_data(lst)\n",
    "    all_results = all_results + r"
   ]
  },
  {
   "cell_type": "code",
   "execution_count": 42,
   "metadata": {},
   "outputs": [
    {
     "data": {
      "text/plain": [
       "21372"
      ]
     },
     "execution_count": 42,
     "metadata": {},
     "output_type": "execute_result"
    }
   ],
   "source": [
    "len(all_results)"
   ]
  },
  {
   "cell_type": "code",
   "execution_count": 39,
   "metadata": {
    "collapsed": true
   },
   "outputs": [],
   "source": [
    "# Remove non values (3) and make result to a list\n",
    "all_avail_results = list(filter(None, all_results))"
   ]
  },
  {
   "cell_type": "code",
   "execution_count": 43,
   "metadata": {},
   "outputs": [
    {
     "data": {
      "text/plain": [
       "21369"
      ]
     },
     "execution_count": 43,
     "metadata": {},
     "output_type": "execute_result"
    }
   ],
   "source": [
    "len(all_avail_results)"
   ]
  },
  {
   "cell_type": "markdown",
   "metadata": {},
   "source": [
    "## Save result as data frame"
   ]
  },
  {
   "cell_type": "code",
   "execution_count": 40,
   "metadata": {
    "collapsed": true
   },
   "outputs": [],
   "source": [
    "df = pd.DataFrame(all_avail_results)"
   ]
  },
  {
   "cell_type": "code",
   "execution_count": 44,
   "metadata": {},
   "outputs": [
    {
     "data": {
      "text/html": [
       "<div>\n",
       "<style>\n",
       "    .dataframe thead tr:only-child th {\n",
       "        text-align: right;\n",
       "    }\n",
       "\n",
       "    .dataframe thead th {\n",
       "        text-align: left;\n",
       "    }\n",
       "\n",
       "    .dataframe tbody tr th {\n",
       "        vertical-align: top;\n",
       "    }\n",
       "</style>\n",
       "<table border=\"1\" class=\"dataframe\">\n",
       "  <thead>\n",
       "    <tr style=\"text-align: right;\">\n",
       "      <th></th>\n",
       "      <th>acousticness</th>\n",
       "      <th>analysis_url</th>\n",
       "      <th>danceability</th>\n",
       "      <th>duration_ms</th>\n",
       "      <th>energy</th>\n",
       "      <th>id</th>\n",
       "      <th>instrumentalness</th>\n",
       "      <th>key</th>\n",
       "      <th>liveness</th>\n",
       "      <th>loudness</th>\n",
       "      <th>mode</th>\n",
       "      <th>speechiness</th>\n",
       "      <th>tempo</th>\n",
       "      <th>time_signature</th>\n",
       "      <th>track_href</th>\n",
       "      <th>type</th>\n",
       "      <th>uri</th>\n",
       "      <th>valence</th>\n",
       "    </tr>\n",
       "  </thead>\n",
       "  <tbody>\n",
       "    <tr>\n",
       "      <th>0</th>\n",
       "      <td>0.1160</td>\n",
       "      <td>https://api.spotify.com/v1/audio-analysis/4LEz...</td>\n",
       "      <td>0.777</td>\n",
       "      <td>203000</td>\n",
       "      <td>0.596</td>\n",
       "      <td>4LEzZn6vpMkQAQuwFInnSh</td>\n",
       "      <td>0.000</td>\n",
       "      <td>0</td>\n",
       "      <td>0.2750</td>\n",
       "      <td>-7.549</td>\n",
       "      <td>0</td>\n",
       "      <td>0.0523</td>\n",
       "      <td>111.938</td>\n",
       "      <td>4</td>\n",
       "      <td>https://api.spotify.com/v1/tracks/4LEzZn6vpMkQ...</td>\n",
       "      <td>audio_features</td>\n",
       "      <td>spotify:track:4LEzZn6vpMkQAQuwFInnSh</td>\n",
       "      <td>0.579</td>\n",
       "    </tr>\n",
       "    <tr>\n",
       "      <th>1</th>\n",
       "      <td>0.0197</td>\n",
       "      <td>https://api.spotify.com/v1/audio-analysis/7zW4...</td>\n",
       "      <td>0.658</td>\n",
       "      <td>180036</td>\n",
       "      <td>0.435</td>\n",
       "      <td>7zW4IqrzU6dTLw3CM72Qbo</td>\n",
       "      <td>0.000</td>\n",
       "      <td>11</td>\n",
       "      <td>0.1150</td>\n",
       "      <td>-12.955</td>\n",
       "      <td>0</td>\n",
       "      <td>0.0492</td>\n",
       "      <td>108.994</td>\n",
       "      <td>4</td>\n",
       "      <td>https://api.spotify.com/v1/tracks/7zW4IqrzU6dT...</td>\n",
       "      <td>audio_features</td>\n",
       "      <td>spotify:track:7zW4IqrzU6dTLw3CM72Qbo</td>\n",
       "      <td>0.736</td>\n",
       "    </tr>\n",
       "    <tr>\n",
       "      <th>2</th>\n",
       "      <td>0.0124</td>\n",
       "      <td>https://api.spotify.com/v1/audio-analysis/1A3y...</td>\n",
       "      <td>0.837</td>\n",
       "      <td>149160</td>\n",
       "      <td>0.605</td>\n",
       "      <td>1A3yLIqelu1D7MCtw06Cu7</td>\n",
       "      <td>0.000</td>\n",
       "      <td>0</td>\n",
       "      <td>0.0715</td>\n",
       "      <td>-6.122</td>\n",
       "      <td>0</td>\n",
       "      <td>0.0798</td>\n",
       "      <td>107.998</td>\n",
       "      <td>4</td>\n",
       "      <td>https://api.spotify.com/v1/tracks/1A3yLIqelu1D...</td>\n",
       "      <td>audio_features</td>\n",
       "      <td>spotify:track:1A3yLIqelu1D7MCtw06Cu7</td>\n",
       "      <td>0.723</td>\n",
       "    </tr>\n",
       "    <tr>\n",
       "      <th>3</th>\n",
       "      <td>0.0155</td>\n",
       "      <td>https://api.spotify.com/v1/audio-analysis/6hTv...</td>\n",
       "      <td>0.812</td>\n",
       "      <td>183004</td>\n",
       "      <td>0.723</td>\n",
       "      <td>6hTvQmZwsvcRpHQbLUwpZE</td>\n",
       "      <td>0.029</td>\n",
       "      <td>6</td>\n",
       "      <td>0.0932</td>\n",
       "      <td>-5.247</td>\n",
       "      <td>0</td>\n",
       "      <td>0.0390</td>\n",
       "      <td>96.948</td>\n",
       "      <td>4</td>\n",
       "      <td>https://api.spotify.com/v1/tracks/6hTvQmZwsvcR...</td>\n",
       "      <td>audio_features</td>\n",
       "      <td>spotify:track:6hTvQmZwsvcRpHQbLUwpZE</td>\n",
       "      <td>0.636</td>\n",
       "    </tr>\n",
       "    <tr>\n",
       "      <th>4</th>\n",
       "      <td>0.0281</td>\n",
       "      <td>https://api.spotify.com/v1/audio-analysis/47K5...</td>\n",
       "      <td>0.691</td>\n",
       "      <td>164587</td>\n",
       "      <td>0.807</td>\n",
       "      <td>47K5fP6VdTpxF4Nxk0chwQ</td>\n",
       "      <td>0.000</td>\n",
       "      <td>2</td>\n",
       "      <td>0.0844</td>\n",
       "      <td>-3.786</td>\n",
       "      <td>1</td>\n",
       "      <td>0.0818</td>\n",
       "      <td>107.053</td>\n",
       "      <td>4</td>\n",
       "      <td>https://api.spotify.com/v1/tracks/47K5fP6VdTpx...</td>\n",
       "      <td>audio_features</td>\n",
       "      <td>spotify:track:47K5fP6VdTpxF4Nxk0chwQ</td>\n",
       "      <td>0.771</td>\n",
       "    </tr>\n",
       "  </tbody>\n",
       "</table>\n",
       "</div>"
      ],
      "text/plain": [
       "   acousticness                                       analysis_url  \\\n",
       "0        0.1160  https://api.spotify.com/v1/audio-analysis/4LEz...   \n",
       "1        0.0197  https://api.spotify.com/v1/audio-analysis/7zW4...   \n",
       "2        0.0124  https://api.spotify.com/v1/audio-analysis/1A3y...   \n",
       "3        0.0155  https://api.spotify.com/v1/audio-analysis/6hTv...   \n",
       "4        0.0281  https://api.spotify.com/v1/audio-analysis/47K5...   \n",
       "\n",
       "   danceability  duration_ms  energy                      id  \\\n",
       "0         0.777       203000   0.596  4LEzZn6vpMkQAQuwFInnSh   \n",
       "1         0.658       180036   0.435  7zW4IqrzU6dTLw3CM72Qbo   \n",
       "2         0.837       149160   0.605  1A3yLIqelu1D7MCtw06Cu7   \n",
       "3         0.812       183004   0.723  6hTvQmZwsvcRpHQbLUwpZE   \n",
       "4         0.691       164587   0.807  47K5fP6VdTpxF4Nxk0chwQ   \n",
       "\n",
       "   instrumentalness  key  liveness  loudness  mode  speechiness    tempo  \\\n",
       "0             0.000    0    0.2750    -7.549     0       0.0523  111.938   \n",
       "1             0.000   11    0.1150   -12.955     0       0.0492  108.994   \n",
       "2             0.000    0    0.0715    -6.122     0       0.0798  107.998   \n",
       "3             0.029    6    0.0932    -5.247     0       0.0390   96.948   \n",
       "4             0.000    2    0.0844    -3.786     1       0.0818  107.053   \n",
       "\n",
       "   time_signature                                         track_href  \\\n",
       "0               4  https://api.spotify.com/v1/tracks/4LEzZn6vpMkQ...   \n",
       "1               4  https://api.spotify.com/v1/tracks/7zW4IqrzU6dT...   \n",
       "2               4  https://api.spotify.com/v1/tracks/1A3yLIqelu1D...   \n",
       "3               4  https://api.spotify.com/v1/tracks/6hTvQmZwsvcR...   \n",
       "4               4  https://api.spotify.com/v1/tracks/47K5fP6VdTpx...   \n",
       "\n",
       "             type                                   uri  valence  \n",
       "0  audio_features  spotify:track:4LEzZn6vpMkQAQuwFInnSh    0.579  \n",
       "1  audio_features  spotify:track:7zW4IqrzU6dTLw3CM72Qbo    0.736  \n",
       "2  audio_features  spotify:track:1A3yLIqelu1D7MCtw06Cu7    0.723  \n",
       "3  audio_features  spotify:track:6hTvQmZwsvcRpHQbLUwpZE    0.636  \n",
       "4  audio_features  spotify:track:47K5fP6VdTpxF4Nxk0chwQ    0.771  "
      ]
     },
     "execution_count": 44,
     "metadata": {},
     "output_type": "execute_result"
    }
   ],
   "source": [
    "df.head()"
   ]
  },
  {
   "cell_type": "markdown",
   "metadata": {},
   "source": [
    "Explanation for the Spotify API columns<BR />\n",
    "https://developer.spotify.com/web-api/get-audio-features/"
   ]
  },
  {
   "cell_type": "markdown",
   "metadata": {},
   "source": [
    "## Save the data as a CSV-file"
   ]
  },
  {
   "cell_type": "code",
   "execution_count": 45,
   "metadata": {
    "collapsed": true
   },
   "outputs": [],
   "source": [
    "# save data to csv-file\n",
    "df.to_csv('spotify_api_data.csv')"
   ]
  },
  {
   "cell_type": "code",
   "execution_count": null,
   "metadata": {
    "collapsed": true
   },
   "outputs": [],
   "source": []
  }
 ],
 "metadata": {
  "kernelspec": {
   "display_name": "Python [default]",
   "language": "python",
   "name": "python3"
  },
  "language_info": {
   "codemirror_mode": {
    "name": "ipython",
    "version": 3
   },
   "file_extension": ".py",
   "mimetype": "text/x-python",
   "name": "python",
   "nbconvert_exporter": "python",
   "pygments_lexer": "ipython3",
   "version": "3.6.3"
  }
 },
 "nbformat": 4,
 "nbformat_minor": 2
}
